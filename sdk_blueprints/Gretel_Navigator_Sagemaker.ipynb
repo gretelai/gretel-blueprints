{
 "cells": [
  {
   "cell_type": "markdown",
   "id": "b48c897b",
   "metadata": {},
   "source": [
    "## Setup instructions\n",
    "1. Setup your AWS environment (set `AWS_REGION`) as appropriate to generate a client in the right account/region\n",
    "1. Set the environment variable `ENDPOINT_NAME` to point to your Navigator model, or update the cell below\n",
    "1. Run the below to verify you can generate data with Navigator"
   ]
  },
  {
   "cell_type": "code",
   "execution_count": 17,
   "id": "f516a56b",
   "metadata": {},
   "outputs": [],
   "source": [
    "%%capture\n",
    "!pip install -Uqq boto3==1.35.20"
   ]
  },
  {
   "cell_type": "code",
   "execution_count": null,
   "id": "05014f80",
   "metadata": {},
   "outputs": [],
   "source": [
    "%env AWS_REGION=us-west-2\n",
    "%env AWS_PROFILE=UPDATE_ME\n",
    "%env ENDPOINT_NAME=UPDATE_ME"
   ]
  },
  {
   "cell_type": "code",
   "execution_count": 2,
   "id": "53b5ba7b",
   "metadata": {},
   "outputs": [],
   "source": [
    "import json\n",
    "import os\n",
    "\n",
    "import boto3\n",
    "\n",
    "boto3.setup_default_session(profile_name=os.environ.get(\"AWS_PROFILE\"),\n",
    "                            region_name=os.environ.get(\"AWS_REGION\"))\n",
    "\n",
    "model_name = os.environ.get(\"ENDPOINT_NAME\")\n",
    "client = boto3.client(\"sagemaker-runtime\")\n",
    "body = {\n",
    "    \"messages\": [\n",
    "        {\n",
    "            \"role\": \"user\",\n",
    "            \"content\": \"Can you generate a dataset with first_name, last_name and favorite_color as columns.\",\n",
    "        }\n",
    "    ],\n",
    "    \"n\": 2,\n",
    "    \"model\": \"gretelai/auto\",\n",
    "    \"gretel\": {\n",
    "        \"ref_data\": {\n",
    "            \"sample_data\": {\n",
    "                \"table_headers\": [\n",
    "                    \"first_name\",\n",
    "                    \"last_name\",\n",
    "                    \"favorite_color\",\n",
    "                ],\n",
    "                \"table_data\": [\n",
    "                    {\n",
    "                        \"first_name\": \"Lea\",\n",
    "                        \"last_name\": \"Martin\",\n",
    "                        \"favorite_color\": \"Red\",\n",
    "                    }\n",
    "                ],\n",
    "            }\n",
    "        }\n",
    "    },\n",
    "}"
   ]
  },
  {
   "cell_type": "code",
   "execution_count": 3,
   "id": "08af2879",
   "metadata": {},
   "outputs": [
    {
     "name": "stdout",
     "output_type": "stream",
     "text": [
      "{\n",
      "  \"id\": \"48b0e1bb-b92c-4d14-aa88-cacc11b04911\",\n",
      "  \"choices\": [\n",
      "    {\n",
      "      \"finish_reason\": \"stop\",\n",
      "      \"index\": 0,\n",
      "      \"logprobs\": null,\n",
      "      \"message\": {\n",
      "        \"content\": \"{\\\"table_headers\\\":[\\\"first_name\\\",\\\"last_name\\\",\\\"favorite_color\\\"],\\\"table_data\\\":[{\\\"first_name\\\":\\\"Elena\\\",\\\"last_name\\\":\\\"Garcia\\\",\\\"favorite_color\\\":\\\"Turquoise\\\"}]}\\n{\\\"table_headers\\\":[\\\"first_name\\\",\\\"last_name\\\",\\\"favorite_color\\\"],\\\"table_data\\\":[{\\\"first_name\\\":\\\"Kaito\\\",\\\"last_name\\\":\\\"Liang\\\",\\\"favorite_color\\\":\\\"Indigo\\\"}]}\\n\",\n",
      "        \"refusal\": null,\n",
      "        \"role\": \"assistant\",\n",
      "        \"function_call\": null,\n",
      "        \"tool_calls\": null\n",
      "      }\n",
      "    }\n",
      "  ],\n",
      "  \"created\": 1730924031,\n",
      "  \"model\": \"gretelai/auto\",\n",
      "  \"object\": \"chat.completion\",\n",
      "  \"service_tier\": null,\n",
      "  \"system_fingerprint\": null,\n",
      "  \"usage\": {\n",
      "    \"completion_tokens\": 74,\n",
      "    \"prompt_tokens\": 21,\n",
      "    \"total_tokens\": 95,\n",
      "    \"completion_tokens_details\": null\n",
      "  },\n",
      "  \"gretel\": {\n",
      "    \"provenance\": []\n",
      "  }\n",
      "}\n"
     ]
    }
   ],
   "source": [
    "# Non streaming case\n",
    "body[\"stream\"] = False\n",
    "\n",
    "response = client.invoke_endpoint(\n",
    "    EndpointName=model_name,\n",
    "    ContentType=\"application/json\",\n",
    "    Accept=\"application/json\",\n",
    "    Body=json.dumps(body),\n",
    ")\n",
    "\n",
    "response_json = json.load(response[\"Body\"])\n",
    "\n",
    "print(json.dumps(response_json, indent=2))\n",
    "\n",
    "assert \"choices\" in response_json\n",
    "assert \"role\" in response_json[\"choices\"][0][\"message\"]\n",
    "assert \"content\" in response_json[\"choices\"][0][\"message\"]"
   ]
  },
  {
   "cell_type": "code",
   "execution_count": 4,
   "id": "ee647a3d",
   "metadata": {},
   "outputs": [
    {
     "name": "stdout",
     "output_type": "stream",
     "text": [
      "{'id': 'e2ef0213-a295-42f2-b8b0-faa614db8774', 'choices': [{'delta': {'content': '{\"table_headers\":[\"first_name\",\"last_name\",\"favorite_color\"],\"table_data\":[{\"first_name\":\"Ahmed\",\"last_name\":\"Patel\",\"favorite_color\":\"Blue\"}]}\\n', 'function_call': None, 'refusal': None, 'role': 'assistant', 'tool_calls': None}, 'finish_reason': None, 'index': 0, 'logprobs': None}], 'created': 1730924037, 'model': 'gretelai/auto', 'object': 'chat.completion.chunk', 'service_tier': None, 'system_fingerprint': None, 'usage': None, 'gretel': None}\n",
      "{'id': 'e2ef0213-a295-42f2-b8b0-faa614db8774', 'choices': [{'delta': {'content': '{\"table_headers\":[\"first_name\",\"last_name\",\"favorite_color\"],\"table_data\":[{\"first_name\":\"Léa\",\"last_name\":\"Santos\",\"favorite_color\":\"Green\"}]}\\n', 'function_call': None, 'refusal': None, 'role': 'assistant', 'tool_calls': None}, 'finish_reason': None, 'index': 0, 'logprobs': None}], 'created': 1730924037, 'model': 'gretelai/auto', 'object': 'chat.completion.chunk', 'service_tier': None, 'system_fingerprint': None, 'usage': None, 'gretel': None}\n",
      "{'id': 'e2ef0213-a295-42f2-b8b0-faa614db8774', 'choices': [{'delta': {'content': None, 'function_call': None, 'refusal': None, 'role': None, 'tool_calls': None}, 'finish_reason': 'stop', 'index': 0, 'logprobs': None}], 'created': 1730924037, 'model': 'gretelai/auto', 'object': 'chat.completion.chunk', 'service_tier': None, 'system_fingerprint': None, 'usage': None, 'gretel': None}\n",
      "{'id': 'e2ef0213-a295-42f2-b8b0-faa614db8774', 'choices': [{'delta': {'content': None, 'function_call': None, 'refusal': None, 'role': None, 'tool_calls': None}, 'finish_reason': None, 'index': 0, 'logprobs': None}], 'created': 1730924037, 'model': 'gretelai/auto', 'object': 'chat.completion.chunk', 'service_tier': None, 'system_fingerprint': None, 'usage': {'completion_tokens': 72, 'prompt_tokens': 21, 'total_tokens': 93, 'completion_tokens_details': None, 'input_bytes': 84, 'output_bytes': 288, 'total_bytes': 372, 'billed_bytes': 380, 'billed_credits': 0.0038}, 'gretel': {'provenance': []}}\n"
     ]
    }
   ],
   "source": [
    "# Streaming case\n",
    "body[\"stream\"] = True\n",
    "\n",
    "stream_response = client.invoke_endpoint_with_response_stream(\n",
    "    EndpointName=model_name,\n",
    "    ContentType=\"application/json\",\n",
    "    Accept=\"application/json\",\n",
    "    Body=json.dumps(body),\n",
    ")\n",
    "\n",
    "last_chunk = \"\"\n",
    "for chunk in stream_response[\"Body\"]:\n",
    "    proc_chunk = (\n",
    "        chunk[\"PayloadPart\"][\"Bytes\"].decode(\"utf_8\").replace(\"data:\", \"\").strip()\n",
    "    )\n",
    "    try:\n",
    "        payload = last_chunk + proc_chunk\n",
    "        response_json = json.loads(payload)\n",
    "        last_chunk = \"\"\n",
    "        print(response_json)\n",
    "        assert \"choices\" in response_json\n",
    "        assert \"delta\" in response_json[\"choices\"][0]\n",
    "        assert \"index\" in response_json[\"choices\"][0]\n",
    "        assert \"role\" in response_json[\"choices\"][0][\"delta\"]\n",
    "        assert \"content\" in response_json[\"choices\"][0][\"delta\"]\n",
    "    except json.decoder.JSONDecodeError:\n",
    "        last_chunk = proc_chunk"
   ]
  }
 ],
 "metadata": {
  "kernelspec": {
   "display_name": "venv",
   "language": "python",
   "name": "python3"
  },
  "language_info": {
   "codemirror_mode": {
    "name": "ipython",
    "version": 3
   },
   "file_extension": ".py",
   "mimetype": "text/x-python",
   "name": "python",
   "nbconvert_exporter": "python",
   "pygments_lexer": "ipython3",
   "version": "3.9.16"
  }
 },
 "nbformat": 4,
 "nbformat_minor": 5
}
