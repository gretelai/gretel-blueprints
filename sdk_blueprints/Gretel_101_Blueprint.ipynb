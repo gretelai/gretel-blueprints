{
    "cells": [
        {
            "cell_type": "markdown",
            "metadata": {
                "id": "nwpvdB3Jn5hG"
            },
            "source": [
                "[![Open In Colab](https://colab.research.google.com/assets/colab-badge.svg)](https://colab.research.google.com/github/gretelai/gretel-blueprints/blob/main/sdk_blueprints/Gretel_101_Blueprint.ipynb)\n",
                "\n",
                "<br>\n",
                "\n",
                "<center><a href=https://gretel.ai/><img src=\"https://gretel-public-website.s3.us-west-2.amazonaws.com/assets/brand/gretel_brand_wordmark.svg\" alt=\"Gretel\" width=\"350\"/></a></center>\n",
                "\n",
                "<br>\n",
                "\n",
                "## Welcome to the Gretel 101 Blueprint!\n",
                "\n",
                "In this Blueprint, we will use Gretel Navigator Fine Tuning (navigator_ft) to fine tune a natural language model which was pre-trained specifically on tabular datasets with learned schema based rules. We use this model to generate high-quality synthetic (tabular) data and accomplish this by submitting training and generation jobs to the [Gretel Cloud](https://gretel.ai/faqs/gretel-cloud) via [Gretel's Python SDK](https://docs.gretel.ai/guides/environment-setup/cli-and-sdk).\n",
                "\n",
                "This model supports multiple tabular modalities, such as numeric, categorical, free text, JSON, and time series values. The datasets provided in this notebook are selected to include them all.\n",
                "\n",
                "Behind the scenes, Gretel will spin up workers with the necessary compute resources, set up the model with your desired configuration, and perform the submitted task.\n",
                "\n",
                "## Create your Gretel account\n",
                "\n",
                "To get started, you will need to [sign up for a free Gretel account](https://console.gretel.ai/).\n",
                "\n",
                "<br>\n",
                "\n",
                "#### Ready? Let's go 🚀"
            ]
        },
        {
            "cell_type": "markdown",
            "metadata": {
                "id": "MPHEAxLufyEo"
            },
            "source": [
                "## 💾 Install `gretel-client` and its dependencies"
            ]
        },
        {
            "cell_type": "code",
            "execution_count": null,
            "metadata": {
                "id": "zFeKqpkunEo1"
            },
            "outputs": [],
            "source": [
                "%%capture\n",
                "!pip install gretel-client"
            ]
        },
        {
            "cell_type": "markdown",
            "metadata": {
                "id": "DNdDXiI-Xkf1"
            },
            "source": [
                "## 🛜 Configure your Gretel session\n",
                "\n",
                "- The `Gretel` object provides a high-level interface for streamlining interactions with Gretel's APIs.\n",
                "\n",
                "- Each `Gretel` instance is bound to a single [Gretel project](https://docs.gretel.ai/guides/gretel-fundamentals/projects).\n",
                "\n",
                "- Running the cell below will prompt you for your Gretel API key, which you can retrieve [here](https://console.gretel.ai/users/me/key).\n",
                "\n",
                "- With `validate=True`, your login credentials will be validated immediately at instantiation."
            ]
        },
        {
            "cell_type": "code",
            "execution_count": null,
            "metadata": {
                "id": "5qnVwoPZx4j0"
            },
            "outputs": [],
            "source": [
                "from gretel_client import Gretel\n",
                "\n",
                "gretel = Gretel(api_key=\"prompt\", validate=True)"
            ]
        },
        {
            "cell_type": "code",
            "execution_count": null,
            "metadata": {
                "id": "uRbY7vk3tSBg"
            },
            "outputs": [],
            "source": [
                "# @title 🗂️ Pick a tabular dataset 👇 { display-mode: \"form\" }\n",
                "dataset_path_dict = {\n",
                "    \"patient events (7348 records, 17 fields)\": \"https://raw.githubusercontent.com/gretelai/gretel-blueprints/main/sample_data/sample-patient-events.csv\", \n",
                "    \"car accidents (25000 records, 46 fields)\": \"https://raw.githubusercontent.com/gretelai/gretel-blueprints/main/sample_data/sample-car-accidents.csv\", # cited papers: [Moosavi, Sobhan, Mohammad Hossein Samavatian, Srinivasan Parthasarathy, and Rajiv Ramnath. “A Countrywide Traffic Accident Dataset.”, 2019. & Moosavi, Sobhan, Mohammad Hossein Samavatian, Srinivasan Parthasarathy, Radu Teodorescu, and Rajiv Ramnath. \"Accident Risk Prediction based on Heterogeneous Sparse Data: New Dataset and Insights.\" In proceedings of the 27th ACM SIGSPATIAL International Conference on Advances in Geographic Information Systems, ACM, 2019.]\n",
                "\n",
                "}\n",
                "\n",
                "dataset = \"patient events (7348 records, 17 fields)\" # @param [ \"patient events (7348 records, 17 fields)\", \"car accidents (25000 records, 46 fields)\" ]\n",
                "dataset = dataset_path_dict[dataset]\n",
                "\n"
            ]
        },
        {
            "cell_type": "code",
            "execution_count": null,
            "metadata": {
                "id": "cW3VKpyPvm6W"
            },
            "outputs": [],
            "source": [
                "import pandas as pd\n",
                "\n",
                "# explore the data using pandas\n",
                "df = pd.read_csv(dataset)\n",
                "df.head()"
            ]
        },
        {
            "cell_type": "code",
            "execution_count": null,
            "metadata": {},
            "outputs": [],
            "source": [
                "# Patient dataset is sequential which is grouped based on \"patient_id\". Each group is ordered by the \"even_id\".\n",
                "df_sorted = df.groupby('patient_id', group_keys=True).apply(lambda group: group.sort_values('event_id'))\n",
                "df_sorted "
            ]
        },
        {
            "cell_type": "markdown",
            "metadata": {
                "id": "SwROZthrvXil"
            },
            "source": [
                "## 🏋️‍♂️ Train a generative model\n",
                "\n",
                "- The [navigator-ft](https://github.com/gretelai/gretel-blueprints/blob/main/config_templates/gretel/synthetics/navigator-ft.yml) base config tells Gretel which model to train and how to configure it.\n",
                "\n",
                "- You can replace `navigator-ft` with the path to a custom config file, or you can select any of the tabular configs [listed here](https://github.com/gretelai/gretel-blueprints/tree/main/config_templates/gretel/synthetics).\n",
                "\n",
                "- The training data is passed in using the `data_source` argument. Its type can be a file path or `DataFrame`.\n",
                "\n",
                "- **Tip:** Click the printed Console URL to monitor your job's progress in the Gretel Console."
            ]
        },
        {
            "cell_type": "code",
            "execution_count": null,
            "metadata": {
                "id": "i89eGZwIxSCW"
            },
            "outputs": [],
            "source": [
                "# For car accident data, the \"group_training_examples_by\" and \"order_training_examples_by\" params can be dropped since the data is not sequantial.\n",
                "trained = gretel.submit_train(\"navigator-ft\", \n",
                "                            group_training_examples_by= \"patient_id\", # groupby the \"patient_id\" column\n",
                "                            order_training_examples_by= \"event_id\", # orderby the \"event_id\" column\n",
                "                            data_source=dataset)"
            ]
        },
        {
            "cell_type": "markdown",
            "metadata": {
                "id": "eljkfb8jb_hK"
            },
            "source": [
                "## 🧐 Evaluate the synthetic data quality\n",
                "\n",
                "- Gretel automatically creates a [synthetic data quality report](https://docs.gretel.ai/reference/evaluate/synthetic-data-quality-report) for each model you train.\n",
                "\n",
                "- The training results object returned by `submit_train` has a `GretelReport` attribute for viewing the quality report.\n"
            ]
        },
        {
            "cell_type": "code",
            "execution_count": null,
            "metadata": {
                "id": "bNZqhFPOclrV"
            },
            "outputs": [],
            "source": [
                "# view the quality scores\n",
                "print(trained.report)"
            ]
        },
        {
            "cell_type": "code",
            "execution_count": null,
            "metadata": {
                "id": "3QMiP7lKecE5"
            },
            "outputs": [],
            "source": [
                "# display the full report within this notebook\n",
                "trained.report.display_in_notebook()"
            ]
        },
        {
            "cell_type": "code",
            "execution_count": null,
            "metadata": {
                "id": "2dHuQT_cuIno"
            },
            "outputs": [],
            "source": [
                "# inspect the synthetic data used to create the report\n",
                "df_synth_report = trained.fetch_report_synthetic_data()\n",
                "df_synth_report.head()"
            ]
        },
        {
            "cell_type": "markdown",
            "metadata": {
                "id": "ZIeY7TczxvDV"
            },
            "source": [
                "## 🤖 Generate synthetic data\n",
                "\n",
                "- The `model_id` argument can be the ID of any trained model within the current project.\n"
            ]
        },
        {
            "cell_type": "code",
            "execution_count": null,
            "metadata": {
                "id": "J6XZUuR2eguX"
            },
            "outputs": [],
            "source": [
                "generated = gretel.submit_generate(trained.model_id, num_records=1000)"
            ]
        },
        {
            "cell_type": "code",
            "execution_count": null,
            "metadata": {
                "id": "-_do0Kvvunv2"
            },
            "outputs": [],
            "source": [
                "# inspect the generated synthetic data\n",
                "generated.synthetic_data.head()"
            ]
        }
    ],
    "metadata": {
        "colab": {
            "authorship_tag": "ABX9TyNosAwAWvwVU9i43TeCxQrP",
            "provenance": []
        },
        "kernelspec": {
            "display_name": "Python 3",
            "name": "python3"
        },
        "language_info": {
            "name": "python"
        }
    },
    "nbformat": 4,
    "nbformat_minor": 0
}
