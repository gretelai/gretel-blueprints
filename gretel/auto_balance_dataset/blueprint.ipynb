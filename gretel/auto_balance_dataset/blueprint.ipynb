{
  "nbformat": 4,
  "nbformat_minor": 2,
  "metadata": {
    "accelerator": "GPU",
    "colab": {
      "name": "Gretel Blueprint: Auto-Balance Dataset",
      "provenance": [],
      "collapsed_sections": [],
      "toc_visible": true
    },
    "kernelspec": {
      "name": "python3",
      "display_name": "Python 3.7.9 64-bit ('venv': venv)"
    },
    "language_info": {
      "codemirror_mode": {
        "name": "ipython",
        "version": 3
      },
      "file_extension": ".py",
      "mimetype": "text/x-python",
      "name": "python",
      "nbconvert_exporter": "python",
      "pygments_lexer": "ipython3",
      "version": "3.7.9"
    },
    "interpreter": {
      "hash": "1d74fdffe0b7cccbd277227c1a7896096f19d28d1331726483e5e5414b532600"
    }
  },
  "cells": [
    {
      "cell_type": "markdown",
      "source": [
        "# Gretel Blueprint: Auto-Balance Dataset\n",
        "Use Gretel-Synthetics to automatically balance your project data. This blueprint can be used in support of fair AI and generally any imbalanced dataset to boost minority classes. In one pass, bias will be completely removed from as many fields as you like."
      ],
      "metadata": {
        "id": "Ee-Fh75XnQHX"
      }
    },
    {
      "cell_type": "markdown",
      "source": [
        "# Install Packages\n",
        "Install open source and premium packages from Gretel.ai"
      ],
      "metadata": {
        "id": "y9_t84MuNLFi"
      }
    },
    {
      "cell_type": "code",
      "execution_count": 1,
      "source": [
        "%%capture\n",
        "!pip install numpy pandas \n",
        "!pip install -U \"gretel-client<0.8.0\" gretel-synthetics"
      ],
      "outputs": [],
      "metadata": {
        "id": "-N2jfpPqsgZ7"
      }
    },
    {
      "cell_type": "code",
      "execution_count": null,
      "source": [
        "# Be sure to use your Gretel URI here, which is available from the Integration menu in the Console\n",
        "\n",
        "import getpass\n",
        "import os\n",
        "\n",
        "gretel_uri = os.getenv(\"GRETEL_URI\") or getpass.getpass(\"Your Gretel URI\")"
      ],
      "outputs": [],
      "metadata": {
        "id": "bgefJFCLnQHd"
      }
    },
    {
      "cell_type": "code",
      "execution_count": null,
      "source": [
        "# Install Gretel SDKs\n",
        "\n",
        "from gretel_client import project_from_uri\n",
        "\n",
        "project = project_from_uri(gretel_uri)\n",
        "client = project.client\n",
        "project.client.install_packages()"
      ],
      "outputs": [],
      "metadata": {
        "id": "t86xQEZMnQHe"
      }
    },
    {
      "cell_type": "markdown",
      "source": [
        "# Import Blueprint Modules\n",
        "If you are running on Google Colab, use the first cell to download files from our blueprint repo into a Colab notebook's working directory. Remember to change colab to a GPU runtime."
      ],
      "metadata": {
        "id": "XKnvIvJlnQHe"
      }
    },
    {
      "cell_type": "code",
      "execution_count": null,
      "source": [
        "!curl -sL https://get.gretel.cloud/blueprint.sh | bash -s gretel/auto_balance_dataset/*.py"
      ],
      "outputs": [],
      "metadata": {
        "id": "XIPeb4CXnQHe"
      }
    },
    {
      "cell_type": "code",
      "execution_count": null,
      "source": [
        "import bias_bp_inputs as bpi\n",
        "import bias_bp_generate as bpgen\n",
        "import bias_bp_graphs as bpg\n",
        "import bias_bp_data as bpd"
      ],
      "outputs": [],
      "metadata": {
        "id": "rGUqKvX5nQHe"
      }
    },
    {
      "cell_type": "markdown",
      "source": [
        "# Gather Project Data\n",
        "There are two different modes for balancing your data.  The first (mode=\"full\"), is the scenario where you'd like to generate a complete synthetic dataset with bias removed. The second (mode=\"additive\"), is the scenario where you only want to generate synthetic samples, such that when added to the original set will remove bias.\n",
        "\n",
        "In the below command to gather project data, specifiy the appropriate mode, as well as the number of records from your project that you'd like to use (num_records). If you are running in mode \"full\", please also specify \n",
        "the number of synthetic data records you'd like generated (gen_lines). If you are running in mode \"additive\", we will tell you the number of synthetic data records that will need to be generated to balance your dataset after you have chosen the fields to balance."
      ],
      "metadata": {
        "id": "T0yn3yBU9ukF"
      }
    },
    {
      "cell_type": "code",
      "execution_count": null,
      "source": [
        "project_info = bpd.get_project_info(project, mode=\"full\", num_records=14000, gen_lines=1000)"
      ],
      "outputs": [],
      "metadata": {
        "id": "tWxT-470nQHf"
      }
    },
    {
      "cell_type": "code",
      "execution_count": null,
      "source": [
        "project_info[\"records\"].head()"
      ],
      "outputs": [],
      "metadata": {
        "id": "Y0zqqv1unQHf"
      }
    },
    {
      "cell_type": "markdown",
      "source": [
        "# Look at Current Categorical Field Distributions\n",
        "Graphs are shown for categorical fields having a unique value count less than or equal \n",
        "to the parameter \"uniq_cnt_threshold\".  Adjust this parameter to fit your needs."
      ],
      "metadata": {
        "id": "3sWtspyXnQHg"
      }
    },
    {
      "cell_type": "code",
      "execution_count": null,
      "source": [
        "bpg.show_field_graphs(project_info[\"field_stats\"], uniq_cnt_threshold=10)"
      ],
      "outputs": [],
      "metadata": {
        "id": "hEc4GcLRnQHg"
      }
    },
    {
      "cell_type": "markdown",
      "source": [
        "# Choose Which Fields to Fix Bias In"
      ],
      "metadata": {
        "id": "eRWmYvXznQHg"
      }
    },
    {
      "cell_type": "code",
      "execution_count": null,
      "source": [
        "project_info = bpi.choose_bias_fields(project_info)"
      ],
      "outputs": [],
      "metadata": {
        "id": "4o7McqxDnQHg"
      }
    },
    {
      "cell_type": "markdown",
      "source": [
        "# Compute Records Needed to Fix Bias\n",
        "\n",
        "If you are running in mode \"additive\", this command will also tell you the total number of synthetic\n",
        "records that will need to be generated to fix the bias in your chosen fields. After viewing this, if you\n",
        "would like to go back and adjust your bias field selections, you may."
      ],
      "metadata": {
        "id": "T9ECkQkSnQHg"
      }
    },
    {
      "cell_type": "code",
      "execution_count": null,
      "source": [
        "project_info = bpgen.compute_synth_needs(project_info)"
      ],
      "outputs": [],
      "metadata": {
        "id": "fr1mEP3YnQHh"
      }
    },
    {
      "cell_type": "markdown",
      "source": [
        "# Train Your Synthetic Model\n",
        "\n",
        "- See [our documentation](https://gretel-synthetics.readthedocs.io/en/stable/api/config.html) for additional config options"
      ],
      "metadata": {
        "id": "bZ_Vt9NQnQHh"
      }
    },
    {
      "cell_type": "code",
      "execution_count": null,
      "source": [
        "# Create the Gretel Synthtetics Training / Model Configuration\n",
        "from pathlib import Path\n",
        "\n",
        "checkpoint_dir = str(Path.cwd() / \"checkpoints\")\n",
        "\n",
        "config_template = {\n",
        "    \"checkpoint_dir\": checkpoint_dir,\n",
        "    \"overwrite\": True\n",
        "}"
      ],
      "outputs": [],
      "metadata": {
        "id": "dAZNCflknQHh"
      }
    },
    {
      "cell_type": "code",
      "execution_count": null,
      "source": [
        "# Capture transient import errors in Google Colab\n",
        "\n",
        "try:\n",
        "    from gretel_helpers.synthetics import SyntheticDataBundle\n",
        "except FileNotFoundError:\n",
        "    from gretel_helpers.synthetics import SyntheticDataBundle"
      ],
      "outputs": [],
      "metadata": {
        "id": "ravd-PeZ-JUW"
      }
    },
    {
      "cell_type": "code",
      "execution_count": null,
      "source": [
        "#Create the Synthetic Training Model\n",
        "from gretel_helpers.synthetics import SyntheticDataBundle\n",
        "\n",
        "model = SyntheticDataBundle(\n",
        "    header_prefix=bpd.bias_fields(project_info),\n",
        "    training_df=project_info[\"records\"],\n",
        "    delimiter=\",\", # Specify the appropriate delimeter in your data\n",
        "    auto_validate=True, \n",
        "    synthetic_config=config_template, \n",
        ")\n",
        "\n",
        "model.build()"
      ],
      "outputs": [],
      "metadata": {
        "id": "fdeYoX2-nQHh"
      }
    },
    {
      "cell_type": "code",
      "execution_count": null,
      "source": [
        "# Now train your model\n",
        "model.train()"
      ],
      "outputs": [],
      "metadata": {
        "id": "-yHLEqB7nQHh"
      }
    },
    {
      "cell_type": "markdown",
      "source": [
        "# Generate Balanced Synthetic Data"
      ],
      "metadata": {
        "id": "U5HKHN1SnQHh"
      }
    },
    {
      "cell_type": "code",
      "execution_count": null,
      "source": [
        "synth_df = bpgen.gen_synth_nobias(model, project_info)"
      ],
      "outputs": [],
      "metadata": {
        "id": "K-f-VkB_nQHi"
      }
    },
    {
      "cell_type": "markdown",
      "source": [
        "# Take a Look At Your Synthetic Data"
      ],
      "metadata": {
        "id": "ppMQIeiZnQHi"
      }
    },
    {
      "cell_type": "code",
      "execution_count": null,
      "source": [
        "synth_df.head()"
      ],
      "outputs": [],
      "metadata": {
        "id": "GfFm2q38nQHi"
      }
    },
    {
      "cell_type": "markdown",
      "source": [
        "# Combine Your Original and New Synthetic Data\n",
        "Relevant if you are using mode=\"additive\""
      ],
      "metadata": {
        "id": "pregQJVCnQHi"
      }
    },
    {
      "cell_type": "code",
      "execution_count": null,
      "source": [
        "import pandas as pd\n",
        "new_df = pd.concat([synth_df,project_info[\"records\"]],ignore_index=True)"
      ],
      "outputs": [],
      "metadata": {
        "id": "nzwdVSkUnQHi"
      }
    },
    {
      "cell_type": "markdown",
      "source": [
        "# Save to CSV"
      ],
      "metadata": {
        "id": "V_XtKk0onQHi"
      }
    },
    {
      "cell_type": "code",
      "execution_count": null,
      "source": [
        "synth_df.to_csv('synthetic-data.csv', index=False, header=True)\n",
        "#new_df.to_csv('synth-plus-orig-data.csv', index=False, header=True)"
      ],
      "outputs": [],
      "metadata": {
        "id": "rdaDBdygnQHj"
      }
    },
    {
      "cell_type": "markdown",
      "source": [
        "# Save to New Gretel Project"
      ],
      "metadata": {
        "id": "731onBi4nQHj"
      }
    },
    {
      "cell_type": "code",
      "execution_count": null,
      "source": [
        "new_project = client.get_project(create=True)\n",
        "new_project.send_dataframe(synth_df, detection_mode='fast') #alternatively use new_df\n",
        "print(f\"Access your project at {new_project.get_console_url()}\") "
      ],
      "outputs": [],
      "metadata": {
        "id": "eiPWJCbhnQHj"
      }
    },
    {
      "cell_type": "code",
      "execution_count": null,
      "source": [
        "#Delete project if you don't need it\n",
        "new_project.delete()"
      ],
      "outputs": [],
      "metadata": {
        "id": "1f7sli1HnQHj"
      }
    },
    {
      "cell_type": "markdown",
      "source": [
        "# Show New Distributions\n",
        "When running in \"full\" mode, graphs will be shown comparing training data to synthetic data.  When running in \"additive\" mode, still pass in the synth_df and the graphs will automatically compare training data to training plus synthetic records."
      ],
      "metadata": {
        "id": "ISIkmmaRnQHj"
      }
    },
    {
      "cell_type": "code",
      "execution_count": null,
      "source": [
        "bpg.show_new_graphs(project_info, synth_df)"
      ],
      "outputs": [],
      "metadata": {
        "id": "OfC12KzynQHj"
      }
    },
    {
      "cell_type": "markdown",
      "source": [
        "# Generate a Full Synthetic Performance Report\n",
        "Correlations and distributions in non-bias fields should, as always, transfer from training data to synthetic data."
      ],
      "metadata": {
        "id": "o5ITgSKCnQHk"
      }
    },
    {
      "cell_type": "code",
      "execution_count": null,
      "source": [
        "from gretel_helpers.reports.correlation import generate_report\n",
        "from IPython.core.display import display\n",
        "from IPython.display import IFrame\n",
        "\n",
        "generate_report(project_info[\"records\"], synth_df, report_path=\"./report.html\") #alternatively use new_df\n",
        "display(IFrame(\"./report.html\", 1000, 600))"
      ],
      "outputs": [],
      "metadata": {
        "id": "v-vk70dKnQHk"
      }
    }
  ]
}