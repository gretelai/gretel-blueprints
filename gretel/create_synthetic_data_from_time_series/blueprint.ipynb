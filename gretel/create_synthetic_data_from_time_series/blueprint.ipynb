{
 "cells": [
  {
   "cell_type": "markdown",
   "source": [
    "# Synthesize Time Series data from your own DataFrame\n",
    "\n",
    "This Blueprint demonstrates how to create synthetic time series data with Gretel. We assume that within the dataset\n",
    "there is at least:\n",
    "\n",
    "1) A specific column holding time data points\n",
    "\n",
    "2) One or more columns that contain measurements or numerical observations for each point in time.\n",
    "\n",
    "For this Blueprint, we will generate a very simple sine wave as our time series data."
   ],
   "metadata": {}
  },
  {
   "cell_type": "code",
   "execution_count": null,
   "source": [
    "%%capture\n",
    "\n",
    "!pip install -U \"gretel-client<0.8.0\" gretel-synthetics pandas"
   ],
   "outputs": [],
   "metadata": {}
  },
  {
   "cell_type": "code",
   "execution_count": null,
   "source": [
    "# Load your Gretel API key. You can acquire this from the Gretel Console \n",
    "# @ https://console.gretel.cloud\n",
    "\n",
    "from gretel_client import get_cloud_client\n",
    "\n",
    "client = get_cloud_client(prefix=\"api\", api_key=\"prompt\")\n",
    "client.install_packages()"
   ],
   "outputs": [],
   "metadata": {}
  },
  {
   "cell_type": "code",
   "execution_count": null,
   "source": [
    "# Create a simple timeseries sine wave\n",
    "\n",
    "import datetime\n",
    "import pandas as pd\n",
    "import numpy as np\n",
    "\n",
    "day = 24 * 60 * 60\n",
    "year = 365.2425 * day\n",
    "\n",
    "\n",
    "def load_dataframe() -> pd.DataFrame:\n",
    "    \"\"\" Create a time series x sin wave dataframe. \"\"\"\n",
    "    df = pd.DataFrame(columns=['date', 'sin'])\n",
    "    df.date = pd.date_range(start='2018-01-01', end='2021-03-01', freq='D')\n",
    "    df.sin = 1 + np.sin(df.date.astype('int64') // 1e9 * (2 * np.pi / year))\n",
    "    df.sin = (df.sin * 100).round(2)\n",
    "    df.date = df.date.apply(lambda d: d.strftime('%Y-%m-%d'))\n",
    "    return df\n",
    "\n",
    "train_df = load_dataframe()\n",
    "train_df.set_index('date').plot()"
   ],
   "outputs": [],
   "metadata": {}
  },
  {
   "cell_type": "code",
   "execution_count": null,
   "source": [
    "# Create the Gretel Synthtetics Training / Model Configuration\n",
    "\n",
    "from pathlib import Path\n",
    "\n",
    "checkpoint_dir = str(Path.cwd() / \"checkpoints-sin\")\n",
    "\n",
    "config_template = {\n",
    "    \"epochs\": 100,\n",
    "    \"early_stopping\": False,\n",
    "    \"vocab_size\": 20,\n",
    "    \"reset_states\": True, \n",
    "    \"checkpoint_dir\": checkpoint_dir,\n",
    "    \"overwrite\": True,\n",
    "}"
   ],
   "outputs": [],
   "metadata": {}
  },
  {
   "cell_type": "code",
   "execution_count": null,
   "source": [
    "# Capture transient import errors in Google Colab\n",
    "\n",
    "try:\n",
    "    from gretel_helpers.series_models import TimeseriesModel\n",
    "except FileNotFoundError:\n",
    "    from gretel_helpers.series_models import TimeseriesModel\n",
    "\n",
    "# Params:\n",
    "# - time_column: The single column name that represents your points in time\n",
    "# - trend_columns: One or more columns that are the observations / measurements that are associated with\n",
    "#                  the points in time. These should be numerical.\n",
    "# - other_seed_columns: An optional list of other columns that should be used along with the time_column\n",
    "#                       as seeds to the synthetic generator.\n",
    "\n",
    "synthetic_df = TimeseriesModel(\n",
    "    training_df=train_df,\n",
    "    time_column=\"date\",\n",
    "    trend_columns=[\"sin\"],\n",
    "    synthetic_config=config_template\n",
    ").train().generate().df"
   ],
   "outputs": [],
   "metadata": {}
  },
  {
   "cell_type": "code",
   "execution_count": null,
   "source": [
    "# Does our synthetic data look the same? Yup!\n",
    "\n",
    "synthetic_df.set_index('date').plot()"
   ],
   "outputs": [],
   "metadata": {}
  }
 ],
 "metadata": {
  "kernelspec": {
   "display_name": "Python 3",
   "language": "python",
   "name": "python3"
  },
  "language_info": {
   "codemirror_mode": {
    "name": "ipython",
    "version": 3
   },
   "file_extension": ".py",
   "mimetype": "text/x-python",
   "name": "python",
   "nbconvert_exporter": "python",
   "pygments_lexer": "ipython3",
   "version": "3.6.9"
  }
 },
 "nbformat": 4,
 "nbformat_minor": 2
}