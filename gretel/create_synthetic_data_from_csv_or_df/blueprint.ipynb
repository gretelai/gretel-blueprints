{
 "cells": [
  {
   "cell_type": "markdown",
   "source": [
    "# Create a synthetic version of your own CSV or DataFrame\n",
    "\n",
    "This blueprint utilizes Gretel's premium SDKs to create a synthetic version of your own data. Our SDKs create automatic data validators to help ensure the data generated has the same semantics as the source data. Additionally, the SDKs do automatic header clustering to help maintain statistical relations between columns."
   ]
  },
  {
   "cell_type": "code",
   "execution_count": null,
   "source": [
    "!pip install -U \"gretel-client<0.8.0\" gretel-synthetics pandas"
   ],
   "outputs": [],
   "metadata": {
    "id": "VEM6kjRsczHd"
   }
  },
  {
   "cell_type": "code",
   "execution_count": null,
   "source": [
    "# Load your Gretel API key. You can acquire this from the Gretel Console \n",
    "# @ https://console.gretel.cloud\n",
    "\n",
    "import pandas as pd\n",
    "from gretel_client import get_cloud_client\n",
    "\n",
    "pd.set_option('max_colwidth', None)\n",
    "\n",
    "client = get_cloud_client(prefix=\"api\", api_key=\"prompt\")\n",
    "client.install_packages()"
   ],
   "outputs": [],
   "metadata": {
    "id": "ZQ-TmAdwczHd"
   }
  },
  {
   "cell_type": "code",
   "execution_count": null,
   "source": [
    "# Load and preview dataset\n",
    "\n",
    "import pandas as pd\n",
    "\n",
    "dataset_path = 'https://gretel-public-website.s3-us-west-2.amazonaws.com/datasets/healthcare-analytics-vidhya/train_data.csv'\n",
    "nrows = 10000  # We will use this later when generating data\n",
    "training_df = pd.read_csv(dataset_path, nrows=nrows)\n",
    "print(training_df.head())"
   ],
   "outputs": [],
   "metadata": {
    "id": "YMg9nX6SczHe"
   }
  },
  {
   "cell_type": "code",
   "execution_count": null,
   "source": [
    "# Create the Gretel Synthetics Training / Model Configuration\n",
    "#\n",
    "# Gretel now offers Configuration Templates that provide starting points for a variety\n",
    "# of training data characteristics.\n",
    "#\n",
    "# You may browse the options here: https://github.com/gretelai/gretel-blueprints/tree/main/config_templates/gretel/synthetics\n",
    "#\n",
    "# The helper function below will fetch the configuration based on the filename *WITHOUT the file extension*\n",
    "\n",
    "from pathlib import Path\n",
    "\n",
    "checkpoint_dir = str(Path.cwd() / \"checkpoints-synthetics\")\n",
    "\n",
    "try:\n",
    "    from gretel_client import get_synthetics_config\n",
    "    \n",
    "    # NOTE: Replace the \"default\" param with any of the configuration filenames (minus extension)\n",
    "    #\n",
    "    # https://github.com/gretelai/gretel-blueprints/tree/main/config_templates/gretel/synthetics\n",
    "    #\n",
    "    # example: get_synthetics_config(\"low-record-count\")\n",
    "\n",
    "    config_template = get_synthetics_config(\"default\")\n",
    "    print(f\"Loaded config: {config_template}\")\n",
    "except ImportError:\n",
    "    print(\"ERROR: Could not load remote template, using default params. Please ensure you have the latest gretel-client installed.\")\n",
    "    config_template = {\"epochs\": 100}\n",
    "    \n",
    "\n",
    "config_template[\"checkpoint_dir\"] = checkpoint_dir\n",
    "\n",
    "# Set or update any custom parameters here\n",
    " \n",
    "config_template[\"overwrite\"] = True"
   ],
   "outputs": [],
   "metadata": {
    "id": "O4-E_F0qczHe"
   }
  },
  {
   "cell_type": "code",
   "execution_count": null,
   "source": [
    "# Capture transient import errors in Google Colab\n",
    "\n",
    "try:\n",
    "    from gretel_helpers.synthetics import SyntheticDataBundle\n",
    "except FileNotFoundError:\n",
    "    from gretel_helpers.synthetics import SyntheticDataBundle"
   ],
   "outputs": [],
   "metadata": {
    "id": "Rw77l2Vg8nWl"
   }
  },
  {
   "cell_type": "code",
   "execution_count": null,
   "source": [
    "# Create a Gretel Synthetic Data Bundle\n",
    "\n",
    "from gretel_helpers.synthetics import create_df, SyntheticDataBundle\n",
    "\n",
    "model = SyntheticDataBundle(\n",
    "    training_df=training_df,\n",
    "    delimiter=None, # if ``None``, it will try and automatically be detected, otherwise you can set it\n",
    "    auto_validate=True, # build record validators that learn per-column, these are used to ensure generated records have the same composition as the original\n",
    "    synthetic_config=config_template, # the config for Synthetics\n",
    ")"
   ],
   "outputs": [],
   "metadata": {
    "id": "CCW-JaiNczHf"
   }
  },
  {
   "cell_type": "code",
   "execution_count": null,
   "source": [
    "model.build()"
   ],
   "outputs": [],
   "metadata": {
    "id": "NshnGoobczHf"
   }
  },
  {
   "cell_type": "code",
   "execution_count": null,
   "source": [
    "model.train()"
   ],
   "outputs": [],
   "metadata": {
    "id": "ocX625j-czHf"
   }
  },
  {
   "cell_type": "code",
   "execution_count": null,
   "source": [
    "# num_lines: how many rows to generate\n",
    "# max_invalid: the number of rows that do not pass semantic validation, if this number is exceeded, training will\n",
    "# stop\n",
    "model.generate(num_lines=nrows, max_invalid=nrows)"
   ],
   "outputs": [],
   "metadata": {
    "id": "sPM-gaU6czHf"
   }
  },
  {
   "cell_type": "code",
   "execution_count": null,
   "source": [
    "model.get_synthetic_df()"
   ],
   "outputs": [],
   "metadata": {
    "id": "PbB7vnisczHg"
   }
  },
  {
   "cell_type": "code",
   "execution_count": null,
   "source": [
    "# Generate report that shows the statistical performance between the training and synthetic data\n",
    "import IPython\n",
    "\n",
    "report_path = './report.html'\n",
    "model.generate_report(report_path=report_path)\n",
    "IPython.display.HTML(filename=report_path)"
   ],
   "outputs": [],
   "metadata": {
    "id": "zX8qsizqczHg"
   }
  },
  {
   "cell_type": "code",
   "execution_count": null,
   "source": [
    "# Optionally save your model\n",
    "\n",
    "model.save(\"my_model.tar.gz\")"
   ],
   "outputs": [],
   "metadata": {
    "id": "JWXis_7TczHg"
   }
  },
  {
   "cell_type": "code",
   "execution_count": null,
   "source": [
    "# Save synthetic dataframe locally and to a private Gretel project \n",
    "\n",
    "df = model.get_synthetic_df()\n",
    "df.to_csv('synthetic-data.csv', index=False)"
   ],
   "outputs": [],
   "metadata": {
    "id": "srW1HBA-d3Mp"
   }
  }
 ],
 "metadata": {
  "accelerator": "GPU",
  "colab": {
   "name": "blueprint.ipynb",
   "provenance": []
  },
  "kernelspec": {
   "display_name": "Python 3",
   "language": "python",
   "name": "python3"
  },
  "language_info": {
   "codemirror_mode": {
    "name": "ipython",
    "version": 3
   },
   "file_extension": ".py",
   "mimetype": "text/x-python",
   "name": "python",
   "nbconvert_exporter": "python",
   "pygments_lexer": "ipython3",
   "version": "3.7.9"
  }
 },
 "nbformat": 4,
 "nbformat_minor": 1
}