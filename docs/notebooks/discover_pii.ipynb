{
 "cells": [
  {
   "cell_type": "markdown",
   "metadata": {
    "colab_type": "text",
    "id": "view-in-github"
   },
   "source": [
    "<a href=\"https://colab.research.google.com/github/gretelai/gretel-blueprints/blob/main/docs/notebooks/discover_pii.ipynb\" target=\"_parent\"><img src=\"https://colab.research.google.com/assets/colab-badge.svg\" alt=\"Open In Colab\"/></a>\n"
   ]
  },
  {
   "cell_type": "markdown",
   "metadata": {
    "id": "UTRxpSlaczHY"
   },
   "source": [
    "# Discover PII\n",
    "\n",
    "In this blueprint, we will create a classification policy to identify PII as well as a custom regular expression. We will then use the SDK to classify data and examine the results.\n"
   ]
  },
  {
   "cell_type": "code",
   "execution_count": null,
   "metadata": {
    "id": "VEM6kjRsczHd"
   },
   "outputs": [],
   "source": [
    "%%capture\n",
    "\n",
    "!pip install pyyaml Faker pandas\n",
    "!pip install -U gretel-client"
   ]
  },
  {
   "cell_type": "code",
   "execution_count": null,
   "metadata": {
    "id": "ZQ-TmAdwczHd"
   },
   "outputs": [],
   "source": [
    "# Specify your Gretel API key\n",
    "\n",
    "import pandas as pd\n",
    "from gretel_client import configure_session\n",
    "\n",
    "pd.set_option(\"max_colwidth\", None)\n",
    "\n",
    "configure_session(api_key=\"prompt\", cache=\"yes\", validate=True)\n"
   ]
  },
  {
   "cell_type": "code",
   "execution_count": null,
   "metadata": {},
   "outputs": [],
   "source": [
    "# Create our configuration with our Transforms Policies and Rules.\n",
    "config = \"\"\"# Policy to search for \"sensitive PII\" as defined by\n",
    "# https://www.experian.com/blogs/ask-experian/what-is-personally-identifiable-information/\n",
    "\n",
    "schema_version: \"1.0\"\n",
    "name: \"discover-pii-model\"\n",
    "models:\n",
    "  - classify:\n",
    "      data_source: \"_\"\n",
    "      labels:\n",
    "        - person_name\n",
    "        - credit_card_number\n",
    "        - phone_number\n",
    "        - us_social_security_number\n",
    "        - email_address\n",
    "        - acme/*\n",
    "\n",
    "label_predictors:\n",
    "  namespace: acme\n",
    "  regex:\n",
    "    user_id:\n",
    "      patterns:\n",
    "        - score: high\n",
    "          regex: 'user_[\\d]{5}'\n",
    "\"\"\"\n"
   ]
  },
  {
   "cell_type": "code",
   "execution_count": null,
   "metadata": {},
   "outputs": [],
   "source": [
    "from faker import Faker\n",
    "\n",
    "# Use Faker to make training and test data.\n",
    "def fake_pii_csv(filename, lines=100):\n",
    "    fake = Faker()\n",
    "    with open(filename, \"w\") as f:\n",
    "        f.write(\"id,name,email,phone,visa,ssn,user_id\\n\")\n",
    "        for i in range(lines):\n",
    "            _name = fake.name()\n",
    "            _email = fake.email()\n",
    "            _phone = fake.phone_number()\n",
    "            _cc = fake.credit_card_number()\n",
    "            _ssn = fake.ssn()\n",
    "            _id = f'user_{fake.numerify(text=\"#####\")}'\n",
    "            f.write(f\"{i},{_name},{_email},{_phone},{_cc},{_ssn},{_id}\\n\")\n",
    "\n",
    "\n",
    "fake_pii_csv(\"train.csv\")\n",
    "fake_pii_csv(\"test.csv\")\n"
   ]
  },
  {
   "cell_type": "code",
   "execution_count": null,
   "metadata": {},
   "outputs": [],
   "source": [
    "import yaml\n",
    "\n",
    "from gretel_client.projects import create_or_get_unique_project\n",
    "from gretel_client.helpers import poll\n",
    "\n",
    "# Create a project and model configuration.\n",
    "project = create_or_get_unique_project(name=\"label-pii-classify\")\n",
    "\n",
    "model = project.create_model_obj(\n",
    "    model_config=yaml.safe_load(config), data_source=\"train.csv\"\n",
    ")\n",
    "\n",
    "# Upload the training data.  Train the model.\n",
    "model.submit_cloud()\n",
    "\n",
    "poll(model)\n"
   ]
  },
  {
   "cell_type": "code",
   "execution_count": null,
   "metadata": {},
   "outputs": [],
   "source": [
    "# Now we can use our model to classify the test data.\n",
    "record_handler = model.create_record_handler_obj(data_source=\"test.csv\")\n",
    "\n",
    "record_handler.submit_cloud()\n",
    "\n",
    "poll(record_handler)\n",
    "\n",
    "# Let's inspect the results.\n",
    "classified = pd.read_csv(record_handler.get_artifact_link(\"data\"), compression=\"gzip\")\n",
    "classified.head()\n"
   ]
  }
 ],
 "metadata": {
  "accelerator": "GPU",
  "colab": {
   "collapsed_sections": [],
   "name": "smart-seed-blueprint",
   "provenance": []
  },
  "kernelspec": {
   "display_name": "Python 3 (ipykernel)",
   "language": "python",
   "name": "python3"
  },
  "language_info": {
   "codemirror_mode": {
    "name": "ipython",
    "version": 3
   },
   "file_extension": ".py",
   "mimetype": "text/x-python",
   "name": "python",
   "nbconvert_exporter": "python",
   "pygments_lexer": "ipython3",
   "version": "3.9.10"
  }
 },
 "nbformat": 4,
 "nbformat_minor": 4
}
