{
 "cells": [
  {
   "cell_type": "markdown",
   "metadata": {
    "colab_type": "text",
    "id": "view-in-github"
   },
   "source": [
    "<a href=\"https://colab.research.google.com/github/gretelai/gretel-blueprints/blob/AW%2Fgtcc-example/docs/notebooks/balance_uci_heart_disease.ipynb\" target=\"_parent\"><img src=\"https://colab.research.google.com/assets/colab-badge.svg\" alt=\"Open In Colab\"/></a>\n"
   ]
  },
  {
   "cell_type": "markdown",
   "metadata": {
    "id": "BujHsjP2zY6m"
   },
   "source": [
    "This notebook demonstrates using Gretel.ai's conditional sampling to balance the gender attributes in a popular healthcare dataset, resulting in both better ML model accuracy, and potentially a more ethically fair training set.\n",
    "\n",
    "The Heart Disease dataset published by University of California Irvine is one of the top 5 datasets on the data science competition site Kaggle, with 9 data science tasks listed and 1,014+ notebook kernels created by data scientists. It is a series of health 14 attributes and is labeled with whether the patient had a heart disease or not, making it a great dataset for prediction.\n"
   ]
  },
  {
   "cell_type": "code",
   "execution_count": null,
   "metadata": {
    "id": "hbBXoBVyvkZ4"
   },
   "outputs": [],
   "source": [
    "%%capture\n",
    "!pip install gretel_client xgboost"
   ]
  },
  {
   "cell_type": "code",
   "execution_count": null,
   "metadata": {
    "colab": {
     "base_uri": "https://localhost:8080/"
    },
    "id": "PR_EA4Z-v8WM",
    "outputId": "89e66d2d-a793-4ba0-9c83-0ff8e67fe79e"
   },
   "outputs": [],
   "source": [
    "from gretel_client import configure_session\n",
    "\n",
    "configure_session(api_key=\"prompt\", cache=\"yes\", validate=True)\n"
   ]
  },
  {
   "cell_type": "code",
   "execution_count": null,
   "metadata": {
    "colab": {
     "base_uri": "https://localhost:8080/",
     "height": 423
    },
    "id": "YMg9nX6SczHe",
    "outputId": "0be46d67-6f51-47f2-8ed3-ca380744c280"
   },
   "outputs": [],
   "source": [
    "# Load and preview dataset\n",
    "\n",
    "import pandas as pd\n",
    "\n",
    "# Create from Kaggle dataset using an 70/30% split.\n",
    "train = pd.read_csv(\n",
    "    \"https://gretel-public-website.s3-us-west-2.amazonaws.com/datasets/uci-heart-disease/heart_train.csv\"\n",
    ")\n",
    "test = pd.read_csv(\n",
    "    \"https://gretel-public-website.s3-us-west-2.amazonaws.com/datasets/uci-heart-disease/heart_test.csv\"\n",
    ")\n",
    "\n",
    "train\n"
   ]
  },
  {
   "cell_type": "code",
   "execution_count": null,
   "metadata": {
    "colab": {
     "base_uri": "https://localhost:8080/",
     "height": 560
    },
    "id": "BTeNPvgKvkZ6",
    "outputId": "d5c4c979-918c-4a48-d959-f8d47d937706"
   },
   "outputs": [],
   "source": [
    "# Plot distributions in real world data\n",
    "\n",
    "pd.options.plotting.backend = \"plotly\"\n",
    "\n",
    "df = train.sex.copy()\n",
    "df = df.replace(0, \"female\").replace(1, \"male\")\n",
    "\n",
    "print(\n",
    "    f\"We will need to augment training set with an additional {train.sex.value_counts()[1] - train.sex.value_counts()[0]} records to balance gender class\"\n",
    ")\n",
    "df.value_counts().sort_values().plot(kind=\"barh\", title=\"Real world distribution\")\n"
   ]
  },
  {
   "cell_type": "code",
   "execution_count": null,
   "metadata": {
    "colab": {
     "base_uri": "https://localhost:8080/",
     "height": 1000
    },
    "id": "tvKsT56cjOFO",
    "outputId": "b0ed60db-3f8d-419f-f32f-32b680164fdd"
   },
   "outputs": [],
   "source": [
    "# Train a synthetic model on the training set\n",
    "\n",
    "from gretel_client import projects\n",
    "from gretel_client.projects.models import read_model_config\n",
    "from gretel_client.helpers import poll\n",
    "\n",
    "# Create a project and model configuration.\n",
    "project = projects.create_or_get_unique_project(name=\"uci-heart-disease\")\n",
    "\n",
    "config = read_model_config(\"synthetics/default\")\n",
    "\n",
    "# Here we prepare an object to specify the conditional data generation task.\n",
    "fields = [\"sex\"]\n",
    "task = {\"type\": \"seed\", \"attrs\": {\"fields\": fields}}\n",
    "config[\"models\"][0][\"synthetics\"][\"task\"] = task\n",
    "config[\"models\"][0][\"synthetics\"][\"generate\"] = {\"num_records\": 500}\n",
    "config[\"models\"][0][\"synthetics\"][\"privacy_filters\"] = {\n",
    "    \"similarity\": None,\n",
    "    \"outliers\": None,\n",
    "}\n",
    "\n",
    "\n",
    "# Fit the model on the training set\n",
    "model = project.create_model_obj(model_config=config)\n",
    "train.to_csv(\"train.csv\", index=False)\n",
    "model.data_source = \"train.csv\"\n",
    "model.submit_cloud()\n",
    "\n",
    "poll(model)\n",
    "\n",
    "synthetic = pd.read_csv(model.get_artifact_link(\"data_preview\"), compression=\"gzip\")\n",
    "synthetic\n"
   ]
  },
  {
   "cell_type": "code",
   "execution_count": null,
   "metadata": {
    "colab": {
     "base_uri": "https://localhost:8080/",
     "height": 1000
    },
    "id": "VJMSsKsJj52c",
    "outputId": "9a29ff2f-660e-4569-d2d7-3130192581e4"
   },
   "outputs": [],
   "source": [
    "# Conditionaly sample records from the synthetic data model using `seeds`\n",
    "# to augment the real world training data\n",
    "\n",
    "\n",
    "num_rows = 5000\n",
    "seeds = pd.DataFrame(index=range(num_rows), columns=[\"sex\"]).fillna(0)\n",
    "delta = train.sex.value_counts()[1] - train.sex.value_counts()[0]\n",
    "seeds[\"sex\"][int((num_rows + delta) / 2) :] = 1\n",
    "seeds.sample(frac=1).to_csv(\"seeds.csv\", index=False)\n",
    "\n",
    "rh = model.create_record_handler_obj(\n",
    "    data_source=\"seeds.csv\", params={\"num_records\": len(seeds)}\n",
    ")\n",
    "rh.submit_cloud()\n",
    "\n",
    "poll(rh)\n",
    "\n",
    "synthetic = pd.read_csv(rh.get_artifact_link(\"data\"), compression=\"gzip\")\n",
    "augmented = pd.concat([synthetic, train])\n",
    "augmented\n"
   ]
  },
  {
   "cell_type": "code",
   "execution_count": null,
   "metadata": {
    "colab": {
     "base_uri": "https://localhost:8080/",
     "height": 560
    },
    "id": "ZG3TEyfxvkZ8",
    "outputId": "8689cafd-019f-4880-bb0f-b260895af564"
   },
   "outputs": [],
   "source": [
    "# Plot distributions in the synthetic data\n",
    "\n",
    "\n",
    "print(\n",
    "    f\"Augmented synthetic dataset with an additional {delta} records to balance gender class\"\n",
    ")\n",
    "df = augmented.sex.copy()\n",
    "df = df.replace(0, \"female\").replace(1, \"male\")\n",
    "df.value_counts().sort_values().plot(\n",
    "    kind=\"barh\", title=\"Augmented dataset distribution\"\n",
    ")\n"
   ]
  },
  {
   "cell_type": "code",
   "execution_count": null,
   "metadata": {
    "colab": {
     "base_uri": "https://localhost:8080/",
     "height": 756
    },
    "id": "f-nDGh46vkZ8",
    "outputId": "5716d609-e1c4-46f5-9add-a8d6910ef556"
   },
   "outputs": [],
   "source": [
    "# Compare real world vs. synthetic accuracies using popular classifiers\n",
    "\n",
    "import matplotlib.pyplot as plt\n",
    "\n",
    "from sklearn.ensemble import RandomForestClassifier\n",
    "from sklearn.neighbors import KNeighborsClassifier\n",
    "from sklearn.tree import DecisionTreeClassifier\n",
    "from sklearn.svm import SVC\n",
    "from xgboost import XGBClassifier\n",
    "\n",
    "import plotly.express as px\n",
    "\n",
    "\n",
    "def classification_accuracy(data_type, dataset, test) -> dict:\n",
    "\n",
    "    accuracies = []\n",
    "    x_cols = [\n",
    "        \"age\",\n",
    "        \"sex\",\n",
    "        \"cp\",\n",
    "        \"trestbps\",\n",
    "        \"chol\",\n",
    "        \"fbs\",\n",
    "        \"restecg\",\n",
    "        \"thalach\",\n",
    "        \"exang\",\n",
    "        \"oldpeak\",\n",
    "        \"slope\",\n",
    "        \"ca\",\n",
    "        \"thal\",\n",
    "    ]\n",
    "    y_col = \"target\"\n",
    "\n",
    "    rf = RandomForestClassifier(n_estimators=1000, random_state=1)\n",
    "    rf.fit(dataset[x_cols], dataset[y_col])\n",
    "    acc = rf.score(test[x_cols], test[y_col]) * 100\n",
    "    accuracies.append([data_type, \"RandomForest\", acc])\n",
    "    print(\" -- Random Forest: {:.2f}%\".format(acc))\n",
    "\n",
    "    svm = SVC(random_state=1)\n",
    "    svm.fit(dataset[x_cols], dataset[y_col])\n",
    "    acc = svm.score(test[x_cols], test[y_col]) * 100\n",
    "    accuracies.append([data_type, \"SVM\", acc])\n",
    "    print(\" -- SVM: {:.2f}%\".format(acc))\n",
    "\n",
    "    knn = KNeighborsClassifier(n_neighbors=2)  # n_neighbors means k\n",
    "    knn.fit(dataset[x_cols], dataset[y_col])\n",
    "    acc = knn.score(test[x_cols], test[y_col]) * 100\n",
    "    accuracies.append([data_type, \"KNN\", acc])\n",
    "    print(\" -- KNN: {:.2f}%\".format(acc))\n",
    "\n",
    "    dtc = DecisionTreeClassifier()\n",
    "    dtc.fit(dataset[x_cols], dataset[y_col])\n",
    "    acc = dtc.score(test[x_cols], test[y_col]) * 100\n",
    "    accuracies.append([data_type, \"DecisionTree\", acc])\n",
    "    print(\" -- Decision Tree Test Accuracy {:.2f}%\".format(acc))\n",
    "\n",
    "    xgb = XGBClassifier(use_label_encoder=False, eval_metric=\"error\")\n",
    "    xgb.fit(dataset[x_cols], dataset[y_col])\n",
    "    acc = xgb.score(test[x_cols], test[y_col]) * 100\n",
    "    accuracies.append([data_type, \"XGBoost\", acc])\n",
    "    print(\" -- XGBoostClassifier: {:.2f}%\".format(acc))\n",
    "\n",
    "    return accuracies\n",
    "\n",
    "\n",
    "print(\"Calculating real world accuracies\")\n",
    "realworld_acc = classification_accuracy(\"real world\", train, test)\n",
    "print(\"Calculating synthetic accuracies\")\n",
    "synthetic_acc = classification_accuracy(\"synthetic\", augmented, test)\n",
    "\n",
    "comparison = pd.DataFrame(\n",
    "    realworld_acc + synthetic_acc, columns=[\"data_type\", \"algorithm\", \"acc\"]\n",
    ")\n",
    "colours = {\n",
    "    \"synthetic\": \"#3EC1CD\",\n",
    "    \"synthetic1\": \"#FCB94D\",\n",
    "    \"real world\": \"#9ee0e6\",\n",
    "    \"real world1\": \"#fddba5\",\n",
    "}\n",
    "\n",
    "fig = px.bar(\n",
    "    comparison,\n",
    "    x=\"algorithm\",\n",
    "    y=\"acc\",\n",
    "    color=\"data_type\",\n",
    "    color_discrete_map=colours,\n",
    "    barmode=\"group\",\n",
    "    text_auto=\".4s\",\n",
    "    title=\"Real World vs. Synthetic Data for <b>all classes</b>\",\n",
    ")\n",
    "fig.update_layout(legend_title_text=\"<b>Real world v. Synthetic</b>\")\n",
    "fig.show()\n"
   ]
  },
  {
   "cell_type": "code",
   "execution_count": null,
   "metadata": {
    "colab": {
     "base_uri": "https://localhost:8080/"
    },
    "id": "z8XG1abginmY",
    "outputId": "5d1ae12f-6cdc-45d7-9198-ef8abee12e46"
   },
   "outputs": [],
   "source": [
    "print(\"Calculating real world class accuracies\")\n",
    "realworld_male = classification_accuracy(\n",
    "    \"realworld_male\", train, test.loc[test[\"sex\"] == 1]\n",
    ")\n",
    "realworld_female = classification_accuracy(\n",
    "    \"realworld_female\", train, test.loc[test[\"sex\"] == 0]\n",
    ")\n",
    "print(\"Calculating synthetic class accuracies\")\n",
    "synthetic_male = classification_accuracy(\n",
    "    \"synthetic_male\", augmented, test.loc[test[\"sex\"] == 1]\n",
    ")\n",
    "synthetic_female = classification_accuracy(\n",
    "    \"synthetic_female\", augmented, test.loc[test[\"sex\"] == 0]\n",
    ")\n"
   ]
  },
  {
   "cell_type": "code",
   "execution_count": null,
   "metadata": {
    "colab": {
     "base_uri": "https://localhost:8080/",
     "height": 542
    },
    "id": "5xky1T471Gec",
    "outputId": "7def9d19-34e4-4df4-e7c3-9dd9e9f6b8bb"
   },
   "outputs": [],
   "source": [
    "# Plot male (majority class) heart disease detection accuracies (real world vs. synthetic)\n",
    "colours = {\n",
    "    \"synthetic_male\": \"#3EC1CD\",\n",
    "    \"synthetic_female\": \"#FCB94D\",\n",
    "    \"realworld_male\": \"#9ee0e6\",\n",
    "    \"realworld_female\": \"#fddba5\",\n",
    "}\n",
    "\n",
    "comparison = pd.DataFrame(\n",
    "    realworld_male + synthetic_male + realworld_female + synthetic_female,\n",
    "    columns=[\"data_type\", \"algorithm\", \"acc\"],\n",
    ")\n",
    "fig = px.bar(\n",
    "    comparison,\n",
    "    x=\"algorithm\",\n",
    "    y=\"acc\",\n",
    "    color=\"data_type\",\n",
    "    color_discrete_map=colours,\n",
    "    barmode=\"group\",\n",
    "    text_auto=\".4s\",\n",
    "    title=\"Real World vs. Synthetic Accuracy for <b>Male and Female Heart Disease Detection</b>\",\n",
    ")\n",
    "fig.update_layout(legend_title_text=\"<b>Real world v. Synthetic</b>\")\n",
    "fig.show()\n"
   ]
  }
 ],
 "metadata": {
  "accelerator": "GPU",
  "colab": {
   "collapsed_sections": [],
   "include_colab_link": true,
   "name": "balance_uci_heart_disease",
   "provenance": []
  },
  "kernelspec": {
   "display_name": "Python 3 (ipykernel)",
   "language": "python",
   "name": "python3"
  },
  "language_info": {
   "codemirror_mode": {
    "name": "ipython",
    "version": 3
   },
   "file_extension": ".py",
   "mimetype": "text/x-python",
   "name": "python",
   "nbconvert_exporter": "python",
   "pygments_lexer": "ipython3",
   "version": "3.9.10"
  }
 },
 "nbformat": 4,
 "nbformat_minor": 4
}
