{
  "cells": [
    {
      "cell_type": "markdown",
      "metadata": {
        "id": "4vXfYHX6QSJu"
      },
      "source": [
        "# Generate Synthetic Taylor Swift Lyrics with Gretel GPT\n",
        "\n",
        "* This notebook demonstrates how to use Gretel GPT to generate synthetic Taylor Swift lyrics.\n",
        "* To run this notebook, you will need an API key from the [Gretel Console](https://console.gretel.ai/)."
      ]
    },
    {
      "cell_type": "markdown",
      "metadata": {
        "id": "GhwZL2atTilv"
      },
      "source": [
        "## Getting Started"
      ]
    },
    {
      "cell_type": "code",
      "execution_count": null,
      "metadata": {
        "id": "V_iIkqnUQK2l"
      },
      "outputs": [],
      "source": [
        "%%capture\n",
        "!pip install -U gretel-client"
      ]
    },
    {
      "cell_type": "code",
      "execution_count": null,
      "metadata": {
        "id": "kixD67x_TSC4"
      },
      "outputs": [],
      "source": [
        "import pandas as pd\n",
        "\n",
        "from gretel_client import configure_session\n",
        "from gretel_client.helpers import poll\n",
        "from gretel_client.projects import create_or_get_unique_project, get_project"
      ]
    },
    {
      "cell_type": "code",
      "execution_count": null,
      "metadata": {
        "id": "mlQIp_uGTTgo"
      },
      "outputs": [],
      "source": [
        "# Log into Gretel\n",
        "configure_session(api_key=\"prompt\", cache=\"yes\", endpoint=\"https://api.gretel.cloud\", validate=True, clear=True)\n",
        "\n",
        "pd.set_option('max_colwidth', None)"
      ]
    },
    {
      "cell_type": "markdown",
      "metadata": {
        "id": "0pMwi0RghUzh"
      },
      "source": [
        "## Load and preview training data"
      ]
    },
    {
      "cell_type": "code",
      "execution_count": null,
      "metadata": {
        "id": "_QyG3jfRh2-i"
      },
      "outputs": [],
      "source": [
        "# Specify a dataset to train on \n",
        "DATASET_PATH = 'https://gretel-public-website.s3.us-west-2.amazonaws.com/datasets/taylor_swift_lyrics/TaylorSwiftLyrics.csv' \n",
        "df = pd.read_csv(DATASET_PATH, usecols=['text'])\n",
        "\n",
        "# Print human-friendly preview of training data\n",
        "print(df['text'][0])"
      ]
    },
    {
      "cell_type": "markdown",
      "metadata": {
        "id": "4PD5B0U06ALs"
      },
      "source": [
        "## Configure Model\n",
        "\n",
        "In this notebook we will use GPT-Neo, a transformer model designed using EleutherAI's replication of OpenAI's GPT-3 Architecture. This model has been pre-trained on the Pile, a large-scale dataset using 300 billion tokens over 572,300 steps. In this example, we will finetune GPT-Neo to generate synthetic Taylor Swift lyrics."
      ]
    },
    {
      "cell_type": "code",
      "execution_count": null,
      "metadata": {
        "id": "HpjRvCmjU5qG"
      },
      "outputs": [],
      "source": [
        "from gretel_client.projects.models import read_model_config\n",
        "\n",
        "config = read_model_config(\"synthetics/natural-language\")"
      ]
    },
    {
      "cell_type": "markdown",
      "metadata": {
        "id": "Lh4-8dddoTWb"
      },
      "source": [
        "## Train the synthetic model"
      ]
    },
    {
      "cell_type": "code",
      "execution_count": null,
      "metadata": {
        "id": "UsOXO4YPoSA1"
      },
      "outputs": [],
      "source": [
        "# Designate project\n",
        "PROJECT = 'taylor-swift-lyrics'\n",
        "project = create_or_get_unique_project(name=PROJECT)\n",
        "\n",
        "# Create and submit model\n",
        "model = project.create_model_obj(model_config=config, data_source=df)\n",
        "model.name = f\"{PROJECT}-gpt\"\n",
        "model.submit_cloud()\n",
        "\n",
        "poll(model)"
      ]
    },
    {
      "cell_type": "markdown",
      "metadata": {
        "id": "XZvz8l5epydr"
      },
      "source": [
        "## Generate Lyrics"
      ]
    },
    {
      "cell_type": "code",
      "execution_count": null,
      "metadata": {
        "id": "dVt7uU-YpyGv"
      },
      "outputs": [],
      "source": [
        "params={\"maximum_text_length\": 200, \"top_p\": 0.95, \"num_records\": 1}\n",
        "\n",
        "record_handler = model.create_record_handler_obj(params = params)\n",
        "record_handler.submit_cloud()\n",
        "poll(record_handler)"
      ]
    },
    {
      "cell_type": "code",
      "execution_count": null,
      "metadata": {
        "id": "u_q6zocotyhx"
      },
      "outputs": [],
      "source": [
        "# View Results\n",
        "gpt_output = pd.read_csv(record_handler.get_artifact_link(\"data\"), compression='gzip')\n",
        "print(gpt_output['text'][0])"
      ]
    }
  ],
  "metadata": {
    "colab": {
      "provenance": []
    },
    "kernelspec": {
      "display_name": "Python 3",
      "name": "python3"
    },
    "language_info": {
      "name": "python"
    }
  },
  "nbformat": 4,
  "nbformat_minor": 0
}
