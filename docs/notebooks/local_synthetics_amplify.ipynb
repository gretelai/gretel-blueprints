{
 "cells": [
  {
   "cell_type": "markdown",
   "metadata": {
    "id": "aK5jT0bVCMBM"
   },
   "source": [
    "## Train a Gretel ACTGAN synthetic data model locally\n",
    "\n",
    "This notebook walks through training a model and generating synthetic data locally in your environment.\n",
    "\n",
    "Follow the instructions here to set up your local environment and GPU: https://docs.gretel.ai/environment-setup\n",
    "\n",
    "Prerequisites:\n",
    "\n",
    "- Python 3.9+ (`python --version`).\n",
    "- GPU with CUDA configured highly recommended (`nvidia-smi`).\n",
    "- Ensure that Docker is running (`docker info`).\n",
    "- The Gretel client SDK is installed and configured (`pip install -U gretel-client; gretel configure`).\n"
   ]
  },
  {
   "cell_type": "code",
   "execution_count": null,
   "metadata": {
    "id": "THt1lGxoCMBP"
   },
   "outputs": [],
   "source": [
    "import json\n",
    "\n",
    "from smart_open import open\n",
    "from pathlib import Path\n",
    "import pandas as pd\n",
    "\n",
    "from gretel_client import submit_docker_local\n",
    "from gretel_client.projects import create_or_get_unique_project\n",
    "\n",
    "data_source = \"https://gretel-public-website.s3.us-west-2.amazonaws.com/datasets/sample-synthetic-healthcare.csv\"\n",
    "target_dir = Path(\"tmp-amplify\")"
   ]
  },
  {
   "cell_type": "code",
   "execution_count": null,
   "metadata": {
    "id": "jrOyn6iZCMBQ"
   },
   "outputs": [],
   "source": [
    "# Load and preview the DataFrame to train the synthetic model on.\n",
    "\n",
    "df = pd.read_csv(data_source)\n",
    "df.to_csv(\"training_data.csv\", index=False)\n",
    "df\n"
   ]
  },
  {
   "cell_type": "code",
   "execution_count": null,
   "metadata": {
    "id": "DPGHVyOqCMBR"
   },
   "outputs": [],
   "source": [
    "# Load config and set training parameters\n",
    "from gretel_client.projects.models import read_model_config\n",
    "\n",
    "config = read_model_config(\"synthetics/amplify\")\n",
    "\n",
    "config[\"models\"][0][\"amplify\"][\"params\"][\"num_records\"] = len(df) \n",
    "config[\"models\"][0][\"amplify\"][\"data_source\"] = \"training_data.csv\"\n",
    "\n",
    "print(json.dumps(config, indent=2))\n"
   ]
  },
  {
   "cell_type": "code",
   "execution_count": null,
   "metadata": {
    "id": "5-bELwJICMBR"
   },
   "outputs": [],
   "source": [
    "# Create a project and train the synthetic data model\n",
    "\n",
    "target_dir.mkdir(parents=True, exist_ok=True)\n",
    "project = create_or_get_unique_project(name=\"amplify-local\")\n",
    "model = project.create_model_obj(model_config=config)\n",
    "run = submit_docker_local(model, output_dir=target_dir)\n"
   ]
  },
  {
   "cell_type": "code",
   "execution_count": null,
   "metadata": {
    "id": "0AK7NS_JCMBR"
   },
   "outputs": [],
   "source": [
    "# View the generated synthetic data\n",
    "\n",
    "synthetic_df = pd.read_csv(target_dir / \"data_preview.gz\", compression=\"gzip\")\n",
    "synthetic_df\n"
   ]
  },
  {
   "cell_type": "code",
   "execution_count": null,
   "metadata": {
    "id": "vea3vyuKCMBR"
   },
   "outputs": [],
   "source": [
    "# View report that shows the statistical performance between the training and synthetic data\n",
    "\n",
    "import IPython\n",
    "\n",
    "IPython.display.HTML(data=open(target_dir / \"report.html.gz\").read(), metadata=dict(isolated=True))\n"
   ]
  },
  {
   "cell_type": "code",
   "execution_count": null,
   "metadata": {
    "id": "HBCqTzYNCMBS"
   },
   "outputs": [],
   "source": [
    "# Use the trained model to create additional synthetic data\n",
    "\n",
    "record_handler = model.create_record_handler_obj(params={\"num_records\": 5000})\n",
    "\n",
    "run = submit_docker_local(\n",
    "    record_handler, model_path=target_dir / \"model.tar.gz\", output_dir=target_dir\n",
    ")\n"
   ]
  },
  {
   "cell_type": "code",
   "execution_count": null,
   "metadata": {
    "id": "wqex-QF0CMBS"
   },
   "outputs": [],
   "source": [
    "synthetic_df_new = pd.read_csv(target_dir / \"data.gz\", compression=\"gzip\")\n",
    "synthetic_df_new\n"
   ]
  }
 ],
 "metadata": {
  "colab": {
   "provenance": []
  },
  "interpreter": {
   "hash": "9bba8f6ed2feafdad698ed6a1926c15a7650a75eedae60d223f34187f1656d66"
  },
  "kernelspec": {
   "display_name": "Python 3 (ipykernel)",
   "language": "python",
   "name": "python3"
  },
  "language_info": {
   "codemirror_mode": {
    "name": "ipython",
    "version": 3
   },
   "file_extension": ".py",
   "mimetype": "text/x-python",
   "name": "python",
   "nbconvert_exporter": "python",
   "pygments_lexer": "ipython3",
   "version": "3.9.13"
  }
 },
 "nbformat": 4,
 "nbformat_minor": 1
}
