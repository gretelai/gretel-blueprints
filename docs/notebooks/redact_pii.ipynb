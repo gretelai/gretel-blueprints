{
 "cells": [
  {
   "cell_type": "markdown",
   "metadata": {
    "colab_type": "text",
    "id": "view-in-github"
   },
   "source": [
    "<a href=\"https://colab.research.google.com/github/gretelai/gretel-blueprints/blob/main/docs/notebooks/redact_pii.ipynb\" target=\"_parent\"><img src=\"https://colab.research.google.com/assets/colab-badge.svg\" alt=\"Open In Colab\"/></a>\n"
   ]
  },
  {
   "cell_type": "markdown",
   "metadata": {
    "id": "UTRxpSlaczHY"
   },
   "source": [
    "# Redact PII\n",
    "\n",
    "In this blueprint, we will create a transform policy to identify and redact or replace PII with fake values. We will then use the SDK to transform a dataset and examine the results.\n"
   ]
  },
  {
   "cell_type": "code",
   "execution_count": null,
   "metadata": {
    "id": "VEM6kjRsczHd"
   },
   "outputs": [],
   "source": [
    "%%capture\n",
    "\n",
    "!pip install pyyaml Faker pandas\n",
    "!pip install -U gretel-client"
   ]
  },
  {
   "cell_type": "code",
   "execution_count": null,
   "metadata": {
    "id": "ZQ-TmAdwczHd"
   },
   "outputs": [],
   "source": [
    "# Specify your Gretel API key\n",
    "\n",
    "import pandas as pd\n",
    "from gretel_client import configure_session\n",
    "\n",
    "pd.set_option(\"max_colwidth\", None)\n",
    "\n",
    "configure_session(api_key=\"prompt\", cache=\"yes\", validate=True)\n"
   ]
  },
  {
   "cell_type": "code",
   "execution_count": null,
   "metadata": {},
   "outputs": [],
   "source": [
    "# Create our configuration with our Transforms Policies and Rules.\n",
    "config = \"\"\"schema_version: \"1.0\"\n",
    "name: \"Redact PII\"\n",
    "models:\n",
    "  - transforms:\n",
    "      data_source: \"_\"\n",
    "      policies:\n",
    "        - name: remove_pii\n",
    "          rules:\n",
    "            - name: fake_or_redact_pii\n",
    "              conditions:\n",
    "                value_label:\n",
    "                  - person_name\n",
    "                  - credit_card_number\n",
    "                  - phone_number\n",
    "                  - us_social_security_number\n",
    "                  - email_address\n",
    "                  - custom/*\n",
    "              transforms:\n",
    "                - type: fake\n",
    "                - type: redact_with_char\n",
    "                  attrs:\n",
    "                    char: X\n",
    "label_predictors:\n",
    "  namespace: custom\n",
    "  regex:\n",
    "    user_id:\n",
    "      patterns:\n",
    "        - score: high\n",
    "          regex: 'user_[\\d]{5}'\n",
    "\"\"\"\n"
   ]
  },
  {
   "cell_type": "code",
   "execution_count": null,
   "metadata": {},
   "outputs": [],
   "source": [
    "from faker import Faker\n",
    "\n",
    "# Use Faker to make training and test data.\n",
    "def fake_pii_csv(filename, lines=100):\n",
    "    fake = Faker()\n",
    "    with open(filename, \"w\") as f:\n",
    "        f.write(\"id,name,email,phone,visa,ssn,user_id\\n\")\n",
    "        for i in range(lines):\n",
    "            _name = fake.name()\n",
    "            _email = fake.email()\n",
    "            _phone = fake.phone_number()\n",
    "            _cc = fake.credit_card_number()\n",
    "            _ssn = fake.ssn()\n",
    "            _id = f'user_{fake.numerify(text=\"#####\")}'\n",
    "            f.write(f\"{i},{_name},{_email},{_phone},{_cc},{_ssn},{_id}\\n\")\n",
    "\n",
    "\n",
    "fake_pii_csv(\"train.csv\")\n",
    "fake_pii_csv(\"test.csv\")\n"
   ]
  },
  {
   "cell_type": "code",
   "execution_count": null,
   "metadata": {},
   "outputs": [],
   "source": [
    "import yaml\n",
    "\n",
    "from gretel_client.projects import create_or_get_unique_project\n",
    "from gretel_client.helpers import poll\n",
    "\n",
    "# Create a project and model configuration.\n",
    "project = create_or_get_unique_project(name=\"redact-pii-transform\")\n",
    "\n",
    "model = project.create_model_obj(\n",
    "    model_config=yaml.safe_load(config), data_source=\"train.csv\"\n",
    ")\n",
    "\n",
    "# Upload the training data.  Train the model.\n",
    "model.submit_cloud()\n",
    "\n",
    "poll(model)\n"
   ]
  },
  {
   "cell_type": "code",
   "execution_count": null,
   "metadata": {},
   "outputs": [],
   "source": [
    "# Use the model to generate synthetic data.\n",
    "record_handler = model.create_record_handler_obj(data_source=\"test.csv\")\n",
    "\n",
    "record_handler.submit_cloud()\n",
    "\n",
    "poll(record_handler)\n",
    "\n",
    "# Compare results.  Here is our \"before.\"\n",
    "train_df = pd.read_csv(\"test.csv\")\n",
    "print(\"test.csv head, before redaction\")\n",
    "print(train_df.head())\n",
    "\n",
    "# And here is our \"after.\"\n",
    "transformed = pd.read_csv(record_handler.get_artifact_link(\"data\"), compression=\"gzip\")\n",
    "print(\"test.csv head, after redaction\")\n",
    "transformed.head()\n"
   ]
  }
 ],
 "metadata": {
  "accelerator": "GPU",
  "colab": {
   "collapsed_sections": [],
   "name": "smart-seed-blueprint",
   "provenance": []
  },
  "kernelspec": {
   "display_name": "Python 3",
   "language": "python",
   "name": "python3"
  },
  "language_info": {
   "codemirror_mode": {
    "name": "ipython",
    "version": 3
   },
   "file_extension": ".py",
   "mimetype": "text/x-python",
   "name": "python",
   "nbconvert_exporter": "python",
   "pygments_lexer": "ipython3",
   "version": "3.9.9"
  }
 },
 "nbformat": 4,
 "nbformat_minor": 4
}
