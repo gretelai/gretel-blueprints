{
 "cells": [
  {
   "cell_type": "markdown",
   "metadata": {
    "colab_type": "text",
    "id": "view-in-github"
   },
   "source": [
    "<a href=\"https://colab.research.google.com/github/gretelai/gretel-blueprints/blob/main/docs/notebooks/redact_pii.ipynb\" target=\"_parent\"><img src=\"https://colab.research.google.com/assets/colab-badge.svg\" alt=\"Open In Colab\"/></a>\n"
   ]
  },
  {
   "cell_type": "markdown",
   "metadata": {
    "id": "UTRxpSlaczHY"
   },
   "source": [
    "# Redact PII\n",
    "\n",
    "In this blueprint, we will create a transform policy to identify and redact or replace PII with fake values. We will then use the SDK to transform a dataset and examine the results.\n"
   ]
  },
  {
   "cell_type": "code",
   "execution_count": null,
   "metadata": {
    "id": "VEM6kjRsczHd"
   },
   "outputs": [],
   "source": [
    "%%capture\n",
    "\n",
    "!pip install pyyaml Faker pandas\n",
    "!pip install -U gretel-client"
   ]
  },
  {
   "cell_type": "code",
   "execution_count": null,
   "metadata": {
    "id": "ZQ-TmAdwczHd"
   },
   "outputs": [],
   "source": [
    "# Specify your Gretel API key\n",
    "\n",
    "import pandas as pd\n",
    "from gretel_client import Gretel\n",
    "\n",
    "pd.set_option(\"max_colwidth\", None)\n",
    "\n",
    "gretel = Gretel(api_key=\"prompt\", project_name=\"redact-pii-transform\")\n",
    "\n"
   ]
  },
  {
   "cell_type": "code",
   "execution_count": 6,
   "metadata": {},
   "outputs": [],
   "source": [
    "from faker import Faker\n",
    "\n",
    "# Use Faker to make training and test data.\n",
    "def fake_pii_csv(filename, lines=100):\n",
    "    fake = Faker()\n",
    "    with open(filename, \"w\") as f:\n",
    "        f.write(\"id,name,email,phone,visa,ssn,user_id\\n\")\n",
    "        for i in range(lines):\n",
    "            _name = fake.name()\n",
    "            _email = fake.email()\n",
    "            _phone = fake.phone_number()\n",
    "            _cc = fake.credit_card_number()\n",
    "            _ssn = fake.ssn()\n",
    "            _id = f'user_{fake.numerify(text=\"#####\")}'\n",
    "            f.write(f\"{i},{_name},{_email},{_phone},{_cc},{_ssn},{_id}\\n\")\n",
    "\n",
    "\n",
    "fake_pii_csv(\"train.csv\")\n",
    "fake_pii_csv(\"test.csv\")\n"
   ]
  },
  {
   "cell_type": "code",
   "execution_count": null,
   "metadata": {},
   "outputs": [],
   "source": [
    "transform = gretel.submit_transform(\n",
    "    config=\"transform/default\",\n",
    "    data_source=\"train.csv\",\n",
    ")\n"
   ]
  },
  {
   "cell_type": "code",
   "execution_count": null,
   "metadata": {},
   "outputs": [],
   "source": [
    "from IPython.display import display\n",
    "\n",
    "# Compare results.  Here is our \"before.\"\n",
    "input_df = pd.read_csv(\"test.csv\")\n",
    "print(\"test.csv head, before redaction\")\n",
    "display(input_df)\n",
    "\n",
    "# And here is our \"after.\"\n",
    "print(\"test.csv head, after redaction\")\n",
    "transformed = transform.transformed_df\n",
    "display(transformed)\n"
   ]
  }
 ],
 "metadata": {
  "accelerator": "GPU",
  "colab": {
   "collapsed_sections": [],
   "name": "smart-seed-blueprint",
   "provenance": []
  },
  "kernelspec": {
   "display_name": ".venv",
   "language": "python",
   "name": "python3"
  },
  "language_info": {
   "codemirror_mode": {
    "name": "ipython",
    "version": 3
   },
   "file_extension": ".py",
   "mimetype": "text/x-python",
   "name": "python",
   "nbconvert_exporter": "python",
   "pygments_lexer": "ipython3",
   "version": "3.9.18"
  }
 },
 "nbformat": 4,
 "nbformat_minor": 4
}
