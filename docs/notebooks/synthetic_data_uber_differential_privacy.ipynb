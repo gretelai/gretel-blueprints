{
  "cells": [
 {
   "cell_type": "markdown",
   "metadata": {
    "colab_type": "text",
    "id": "view-in-github"
   },
   "source": [
    "<a href=\"https://colab.research.google.com/github/gretelai/gretel-blueprints/blob/main/docs/notebooks/synthetic_data_uber_differential_privacy.ipynb\" target=\"_parent\"><img src=\"https://colab.research.google.com/assets/colab-badge.svg\" alt=\"Open In Colab\"/></a>\n"
   ]
  },
    {
      "cell_type": "markdown",
      "metadata": {
        "id": "UTRxpSlaczHY"
      },
      "source": [
        "# A differentially private, synthetic ride-share dataset\n",
        "\n",
        "This blueprint utilizes Gretel's SDKs to create a synthetic version of your own data. Our SDKs create automatic data validators to help ensure the data generated has the same semantics as the source data. Additionally, the SDKs do autmoatic header clustering to help maintain statistical relations between columns."
      ]
    },
    {
      "cell_type": "code",
      "execution_count": 2,
      "metadata": {
        "id": "VEM6kjRsczHd"
      },
      "outputs": [],
      "source": [
        "%%capture\n",
        "!pip install gretel-client "
      ]
    },
    {
      "cell_type": "code",
      "execution_count": 1,
      "metadata": {
        "id": "ZQ-TmAdwczHd"
      },
      "outputs": [],
      "source": [
        "# Load your Gretel API key. You can acquire this from the Gretel Console \n",
        "# @ https://console.gretel.cloud\n",
        "\n",
        "import pandas as pd\n",
        "from gretel_client import configure_session\n",
        "\n",
        "pd.set_option('max_colwidth', None)\n",
        "configure_session(api_key=\"prompt\", cache=\"yes\", validate=True)"
      ]
    },
    {
      "cell_type": "code",
      "execution_count": 2,
      "metadata": {
        "id": "TzxieDJbgvW7"
      },
      "outputs": [],
      "source": [
        "# Read the training dataset before inserting canary values:\n",
        "dataset_path = \"https://gretel-public-website.s3.amazonaws.com/datasets/uber_scooter_rides_1day.csv\"\n",
        "df = pd.read_csv(dataset_path,names = [\"hour\",\"bike_id\",\"src_lat\",\"src_lon\",\"dst_lat\",\"dst_lon\"]).round(5)\n",
        "df.head()"
      ]
    },
    {
      "cell_type": "code",
      "execution_count": 3,
      "metadata": {
        "id": "nSIlKuSCk1kj"
      },
      "outputs": [],
      "source": [
        "from numpy.random import uniform\n",
        "import numpy as np\n",
        "from numpy.random import choice\n",
        " \n",
        "# Create random secrets (canaries) to insert into training set\n",
        "secrets = [85.31243, 80.71705, 84.98992, 63.20242]\n",
        "weights = np.array([.05, .15, .30, .50])\n",
        "\n",
        "def create_canaries(df: pd.DataFrame, secrets, weights, frac=0.01) -> pd.DataFrame:\n",
        "    \"\"\"Insert secrets randomly into the location columns.\n",
        "       These values should never be repeated by the model\n",
        "    \"\"\"\n",
        "    weights /= weights.sum()\n",
        "    cols = ['src_lon', 'src_lat', 'dst_lon', 'dst_lat']\n",
        "    \n",
        "    canaries = df.sample(frac=frac, random_state=42)\n",
        "    for i, row in canaries.iterrows():\n",
        "         canaries.at[i, choice(cols)] = choice(secrets, p=weights)\n",
        "    return canaries\n",
        "        \n",
        " \n",
        "canaries = create_canaries(df, secrets, weights, 0.01)\n",
        "canaries.head()"
      ]
    },
    {
      "cell_type": "code",
      "execution_count": 4,
      "metadata": {
        "id": "3RyDm9V5MDtR"
      },
      "outputs": [],
      "source": [
        "train_df = df.append(canaries,ignore_index= True)\n",
        "# shuffle the training dataset with appended canary values before training the model:\n",
        "from sklearn.utils import shuffle\n",
        "train_df = shuffle(train_df,random_state=42).reset_index(drop =True)\n",
        "# Save the dataset in a csv to train the model with.\n",
        "train_df.to_csv(\"train.csv\", index=False)\n",
        "train_df.head()\n"
      ]
    },
    {
      "cell_type": "code",
      "execution_count": 5,
      "metadata": {
        "id": "9hfXq5gMhByJ"
      },
      "outputs": [],
      "source": [
        "from gretel_client.projects.models import read_model_config\n",
        "\n",
        "# Create model configuration.\n",
        "config = read_model_config(\"synthetics/default\")\n",
        "\n",
        "config['models'][0][\"synthetics\"][\"params\"][\"vocab_size\"] = 0\n",
        "config['models'][0][\"synthetics\"][\"params\"][\"epochs\"] = 50\n",
        "config['models'][0][\"synthetics\"][\"params\"][\"learning_rate\"] = 0.001  # set low to demonstrate gradient clipping\n",
        "config['models'][0][\"synthetics\"][\"params\"][\"batch_size\"] = 4\n",
        "config['models'][0][\"synthetics\"][\"params\"][\"predict_batch_size\"] = 1\n",
        "\n",
        "# Enable Differential Privacy:\n",
        "config['models'][0][\"synthetics\"][\"params\"][\"dp\"] = True\n",
        "config['models'][0][\"synthetics\"][\"params\"][\"dp_noise_multiplier\"] = 0.001\n",
        "config['models'][0][\"synthetics\"][\"params\"][\"dp_l2_norm_clip\"] = 1.5\n",
        "\n",
        "#Setting the privacy filters off, since we are already using DP.\n",
        "config[\"models\"][0]['synthetics']['privacy_filters'][\"outliers\"] = None\n",
        "config[\"models\"][0]['synthetics']['privacy_filters'][\"similarity\"] = None\n",
        "\n",
        "seed_columns = [\"hour\", \"bike_id\"]\n",
        "task = {\"type\": \"seed\", \"attrs\": {\"fields\": seed_columns}}\n",
        "config[\"models\"][0][\"synthetics\"][\"task\"] = task\n",
        "\n",
        "# DP configurationsetting summary:\n",
        "data = config[\"models\"][0][\"synthetics\"][\"params\"]\n",
        "pd.DataFrame.from_dict(data,orient=\"index\",columns=[\"values\"])"
      ]
    },
    {
      "cell_type": "code",
      "execution_count": 6,
      "metadata": {
        "id": "CCW-JaiNczHf"
      },
      "outputs": [],
      "source": [
        "# Create a project\n",
        "from gretel_client.helpers import poll\n",
        "from gretel_client.projects import create_or_get_unique_project\n",
        "\n",
        "project = create_or_get_unique_project(name=\"ride-share-DP-Model\")\n",
        "model = project.create_model_obj(model_config=config, data_source=\"train.csv\")\n",
        "model.submit_cloud()\n",
        "poll(model)"
      ]
    },
    {
      "cell_type": "code",
      "execution_count": 7,
      "metadata": {
        "id": "srW1HBA-d3Mp"
      },
      "outputs": [],
      "source": [
        "# Read the synthetic data created from the conditioned synthetic data model.\n",
        "synthetic_df = pd.read_csv(model.get_artifact_link(\"data_preview\"), compression=\"gzip\")\n",
        "synthetic_df.head()"
      ]
    },
    {
      "cell_type": "code",
      "execution_count": 8,
      "metadata": {
        "id": "W5BhlCaoKGhn"
      },
      "outputs": [],
      "source": [
        "# Find the canaries that were replayed by our model\n",
        "def find_canaries(df, secrets):\n",
        "    frequency = []\n",
        "    raw = df.to_string()\n",
        "    for secret in secrets:\n",
        "      frequency.append(raw.count(str(secret)))\n",
        "    return frequency\n",
        "\n",
        "results = pd.DataFrame({\"Secret value\": secrets,\n",
        "                        \"Insertion count\": find_canaries(train_df, secrets),\n",
        "                        \"Repetition by synthetic model\" :find_canaries(synthetic_df, secrets)})\n",
        "\n",
        "results\n"
      ]
    }
  ],
  "metadata": {
    "accelerator": "GPU",
    "colab": {
      "collapsed_sections": [],
      "name": "synthetic_data_uber_differential_privacy.ipynb",
      "provenance": [],
      "toc_visible": true
    },
    "kernelspec": {
      "display_name": "Python 3",
      "language": "python",
      "name": "python3"
    },
    "language_info": {
      "codemirror_mode": {
        "name": "ipython",
        "version": 3
      },
      "file_extension": ".py",
      "mimetype": "text/x-python",
      "name": "python",
      "nbconvert_exporter": "python",
      "pygments_lexer": "ipython3",
      "version": "3.7.3"
    }
  },
  "nbformat": 4,
  "nbformat_minor": 0
}
