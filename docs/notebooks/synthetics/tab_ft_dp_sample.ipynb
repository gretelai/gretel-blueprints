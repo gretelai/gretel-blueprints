{
  "cells": [
    {
      "cell_type": "markdown",
      "metadata": {
        "id": "czPLoipgBarE"
      },
      "source": [
        "<a target=\"_blank\" href=\"https://colab.research.google.com/github/gretelai/gretel-blueprints/blob/main/docs/notebooks/navft_dp_sample.ipynb\">\n",
        "  <img src=\"https://colab.research.google.com/assets/colab-badge.svg\" alt=\"Open In Colab\"/>\n",
        "</a>"
      ]
    },
    {
      "cell_type": "markdown",
      "metadata": {
        "id": "Hr3wZ3E7BarF"
      },
      "source": [
        "# 🤫 Training Navigator Fine Tuning with Differential Privacy\n",
        "\n",
        "We here provide a quick example of how to train Navigator Fine Tuning with differential privacy (DP)."
      ]
    },
    {
      "cell_type": "code",
      "execution_count": null,
      "metadata": {
        "id": "5vBwBUwYBarG"
      },
      "outputs": [],
      "source": [
        "%%capture\n",
        "!pip install datasets gretel-client"
      ]
    },
    {
      "cell_type": "markdown",
      "metadata": {
        "id": "VfEfq9ETBarG"
      },
      "source": [
        "\n",
        "## 💾 Loading the Dataset\n",
        "\n",
        "Let's first load a dataset. We use an e-commerce dataset that contains both a free-text column and some numerical/categorical columns. We preprocess the dataset for simplicity."
      ]
    },
    {
      "cell_type": "code",
      "execution_count": null,
      "metadata": {
        "id": "fDd8vP9LBarG"
      },
      "outputs": [],
      "source": [
        "from datasets import load_dataset\n",
        "\n",
        "ds = load_dataset(\"saattrupdan/womens-clothing-ecommerce-reviews\")\n",
        "df_train = ds[\"train\"].to_pandas()\n",
        "\n",
        "# For simplicity, we remove non-standard chars and truncate the review text\n",
        "df_train[\"review_text\"] = df_train[\"review_text\"].str.replace(r'[^A-Za-z0-9 \\.!?\\']+', '', regex=True)\n",
        "df_train[\"review_text\"] = df_train[\"review_text\"].str.slice(0, 128)\n",
        "\n",
        "df_train.head()"
      ]
    },
    {
      "cell_type": "markdown",
      "metadata": {
        "id": "y0_RN0HdBarH"
      },
      "source": [
        "## 🏃🏽‍♀️ Running Fine-Tuning\n",
        "\n",
        "Navigator Fine Tuning uses a large-language model to generate synthetic output from training datasets with numeric, categorical, and/or free text columns.\n",
        "\n",
        "Let us first run a job without DP, so we have a baseline. This will take around 12 minutes, so feel free to grab a coffee ☕"
      ]
    },
    {
      "cell_type": "code",
      "execution_count": null,
      "metadata": {
        "id": "zb6UTlInBarH"
      },
      "outputs": [],
      "source": [
        "from gretel_client import Gretel\n",
        "\n",
        "gretel = Gretel(api_key=\"prompt\", project_name='navft-dp-sample', validate=True)"
      ]
    },
    {
      "cell_type": "code",
      "execution_count": null,
      "metadata": {
        "id": "UUcTz13ABarH"
      },
      "outputs": [],
      "source": [
        "yaml_config_nodp = f\"\"\"\n",
        "    schema_version: 1.0\n",
        "    name: \"navft-nodp\"\n",
        "    models:\n",
        "    - navigator_ft:\n",
        "        group_training_examples_by: null\n",
        "        order_training_examples_by: null\n",
        "\n",
        "        params:\n",
        "            num_input_records_to_sample: auto\n",
        "\n",
        "        generate:\n",
        "            num_records: 1000\n",
        "\"\"\"\n",
        "\n",
        "nodp_model = gretel.submit_train(base_config=yaml_config_nodp, data_source=df_train)"
      ]
    },
    {
      "cell_type": "markdown",
      "metadata": {
        "id": "q-yvAdD8BarH"
      },
      "source": [
        "To enable DP, we'll specify `privacy_params`.\n",
        "\n",
        "- `dp: true` activates fine tuning with DP\n",
        "- `epsilon` is the privacy loss parameter. Smaller epsilon values provide stronger guarantees that there will not be leakage of training data.\n",
        "- `delta` is the probability of accidentally leaking information. By default, delta is automatically set based on the characteristics of your dataset to be less than or equal to 1/n^1.2, where n is the number of training records.\n",
        "\n",
        "Additionally, we adjust the standard parameters slightly to account for the incorporation of differential privacy.\n",
        "\n",
        "- `batch_size: 8`\n",
        "    - While the default Navigator Fine Tuning batch size is `1`, we increase this to larger values of `8` or `16` when training with DP. Increasing batch size when using DP is a common practice because there is a corresponding almost linear decrease in the standard deviation of the noise added to the average batch gradient. Note that if this value is too high, out-of-memory errors may occur.\n",
        "- `use_structured_generation: true`\n",
        "    - Structured generation allows us to utilize the schema of the dataset to enforce structure in the outputs by manipulating output logits.\n",
        "        - Note that this assumes that the schema of the table, including numerical ranges and categories, are not private. If this is considered private, please set it to false.\n",
        "\n",
        "This will take a bit longer, around 25 minutes, so you can grab a couple more coffees ☕☕ (but please be careful with your caffeine intake - maybe a decaf?)"
      ]
    },
    {
      "cell_type": "code",
      "execution_count": null,
      "metadata": {
        "id": "FWo-gHvOBarH"
      },
      "outputs": [],
      "source": [
        "yaml_config_dp = f\"\"\"\n",
        "    schema_version: 1.0\n",
        "    name: \"navft-dp\"\n",
        "    models:\n",
        "    - navigator_ft:\n",
        "        group_training_examples_by: null\n",
        "        order_training_examples_by: null\n",
        "\n",
        "        params:\n",
        "            num_input_records_to_sample: auto\n",
        "            batch_size: 8\n",
        "\n",
        "        privacy_params:\n",
        "            dp: true\n",
        "            epsilon: 8\n",
        "\n",
        "        generate:\n",
        "            num_records: 1000\n",
        "            use_structured_generation: true\n",
        "\"\"\"\n",
        "\n",
        "dp_model = gretel.submit_train(base_config=yaml_config_dp, data_source=df_train)"
      ]
    },
    {
      "cell_type": "markdown",
      "metadata": {
        "id": "e-aqAjiGBarH"
      },
      "source": [
        "## 📋 Comparing Results\n",
        "\n",
        "Let's examine the results. In particular, we want to see how they compare in terms of:\n",
        "\n",
        "- the **data privacy score (DPS)**, a measure of how hard it is to extract information about the original data from the synthetic data\n",
        "- the **synthetic quality score (SQS)**, a measure of how close the synthetic data generated is to the original data\n",
        "\n",
        "Typically, we should observe a slightly higher DPS for the differentially private model as compared to the non-differentially private one. Conversely, we'd expect to see a slightly higher SQS for the non-DP model. However, due to the stochastic nature of the algorithm, this might vary each time."
      ]
    },
    {
      "cell_type": "code",
      "execution_count": null,
      "metadata": {
        "id": "DVmw6zqcBarH"
      },
      "outputs": [],
      "source": [
        "print(\"The DPS for the no-DP model is:\", nodp_model.report.quality_scores[\"data_privacy_score\"])\n",
        "print(\"The DPS for the DP model is:\", dp_model.report.quality_scores[\"data_privacy_score\"])"
      ]
    },
    {
      "cell_type": "code",
      "execution_count": null,
      "metadata": {
        "id": "yo_Byh-oBarH"
      },
      "outputs": [],
      "source": [
        "print(\"The SQS for the no-DP model is:\", nodp_model.report.quality_scores[\"synthetic_data_quality_score\"])\n",
        "print(\"The SQS for the DP model is:\", dp_model.report.quality_scores[\"synthetic_data_quality_score\"])"
      ]
    }
  ],
  "metadata": {
    "kernelspec": {
      "display_name": "Python 3",
      "language": "python",
      "name": "python3"
    },
    "language_info": {
      "codemirror_mode": {
        "name": "ipython",
        "version": 3
      },
      "file_extension": ".py",
      "mimetype": "text/x-python",
      "name": "python",
      "nbconvert_exporter": "python",
      "pygments_lexer": "ipython3",
      "version": "3.9.16"
    },
    "colab": {
      "provenance": []
    }
  },
  "nbformat": 4,
  "nbformat_minor": 0
}
