{
 "cells": [
  {
   "cell_type": "markdown",
   "metadata": {},
   "source": [
    "<a href=\"https://colab.research.google.com/github/gretelai/gretel-blueprints/blob/main/docs/notebooks/create_synthetic_data_with_tabular_dp.ipynb\" target=\"_parent\"><img src=\"https://colab.research.google.com/assets/colab-badge.svg\" alt=\"Open In Colab\"/></a>\n"
   ]
  },
  {
   "cell_type": "markdown",
   "metadata": {},
   "source": [
    "## Installation and instructions\n",
    "\n",
    "This notebook walks through using Gretel Tabular DP to generate synthetic healthcare data with differential privacy. It also walks through using Gretel LSTM and Gretel ACTGAN for comparison."
   ]
  },
  {
   "cell_type": "code",
   "execution_count": null,
   "metadata": {},
   "outputs": [],
   "source": [
    "%%capture\n",
    "! pip install numpy pandas\n",
    "! pip install -U gretel-client"
   ]
  },
  {
   "cell_type": "markdown",
   "metadata": {},
   "source": [
    "## Log in to Gretel using your API key"
   ]
  },
  {
   "cell_type": "code",
   "execution_count": null,
   "metadata": {},
   "outputs": [],
   "source": [
    "from gretel_client import configure_session\n",
    "configure_session(api_key=\"prompt\", validate=True, clear=True)"
   ]
  },
  {
   "cell_type": "markdown",
   "metadata": {},
   "source": [
    "## Load data\n",
    "\n",
    "This dataset contains information about the readmission of hospital patients with diabetes. Most of the 43 variables are categorical. Only a handful, such as `time_in_hospital`, `num_lab_procedures`, `num_procedures`, `num_medications`, `number_outpatient`, `number_emergency`, `number_inpatient`, and `number_diagnoses` contain numeric values. "
   ]
  },
  {
   "cell_type": "code",
   "execution_count": null,
   "metadata": {},
   "outputs": [],
   "source": [
    "import pandas as pd\n",
    "DATA_PATH = \"https://gretel-public-website.s3.us-west-2.amazonaws.com/datasets/uci_diabetes_readmission_data.csv\"\n",
    "df = pd.read_csv(DATA_PATH)"
   ]
  },
  {
   "cell_type": "code",
   "execution_count": null,
   "metadata": {},
   "outputs": [],
   "source": [
    "pd.set_option(\"display.max_columns\", 50)\n",
    "df.head()"
   ]
  },
  {
   "cell_type": "markdown",
   "metadata": {},
   "source": [
    "## Train Tabular DP with epsilon = 0.5\n",
    "Privacy parameter epsilon is set to 0.5. Privacy parameter delta is set automatically based on dataset size. \n",
    "See https://docs.gretel.ai/reference/synthetics/models/gretel-tabular-dp#model-creation for more information on setting these parameters."
   ]
  },
  {
   "cell_type": "code",
   "execution_count": null,
   "metadata": {},
   "outputs": [],
   "source": [
    "from gretel_client.projects import create_or_get_unique_project\n",
    "\n",
    "# set up a project \n",
    "project = create_or_get_unique_project(name=\"hospital-readmission-tabular-dp\")\n",
    "\n",
    "# upload data source\n",
    "data_source_identifier = project.upload_artifact(DATA_PATH)"
   ]
  },
  {
   "cell_type": "code",
   "execution_count": null,
   "metadata": {},
   "outputs": [],
   "source": [
    "from gretel_client.projects.models import read_model_config\n",
    "from pprint import pprint\n",
    "from gretel_client.helpers import poll\n",
    "\n",
    "# Create a new model configuration.\n",
    "config = read_model_config(\"synthetics/tabular-differential-privacy\")\n",
    "config[\"models\"][0][\"tabular_dp\"][\"params\"][\"epsilon\"] = 0.5\n",
    "config[\"name\"] = \"hospital-readmission-tabular-dp-epsilon-0.5\"\n",
    "\n",
    "# view config\n",
    "pprint(config)\n",
    "\n",
    "# create and submit the model for training\n",
    "model = project.create_model_obj(model_config=config, data_source=data_source_identifier)\n",
    "model.submit_cloud()\n",
    "poll(model)\n",
    "\n",
    "# view the synthetic data generated\n",
    "synthetic = pd.read_csv(model.get_artifact_link(\"data_preview\"), compression=\"gzip\")\n",
    "display(synthetic.head())\n",
    "\n",
    "# get quick information on synthetic data quality\n",
    "pprint(model.get_report_summary())"
   ]
  },
  {
   "cell_type": "markdown",
   "metadata": {},
   "source": [
    "## Train Tabular DP with epsilon = 1\n",
    "Privacy parameter epsilon is set to 1. Privacy parameter delta is set automatically based on dataset size. \n",
    "See https://docs.gretel.ai/reference/synthetics/models/gretel-tabular-dp#model-creation for more information on setting these parameters."
   ]
  },
  {
   "cell_type": "code",
   "execution_count": null,
   "metadata": {},
   "outputs": [],
   "source": [
    "# Create a new model configuration.\n",
    "config2 = read_model_config(\"synthetics/tabular-differential-privacy\")\n",
    "config2[\"models\"][0][\"tabular_dp\"][\"params\"][\"epsilon\"] = 1\n",
    "config2[\"name\"] = \"hospital-readmission-tabular-dp-epsilon-1\"\n",
    "\n",
    "# view config\n",
    "pprint(config2)\n",
    "\n",
    "# create and submit the model for training\n",
    "model2 = project.create_model_obj(model_config=config2, data_source=data_source_identifier)\n",
    "model2.submit_cloud()\n",
    "poll(model2)\n",
    "\n",
    "# view the synthetic data generated\n",
    "synthetic2 = pd.read_csv(model2.get_artifact_link(\"data_preview\"), compression=\"gzip\")\n",
    "display(synthetic2.head())\n",
    "\n",
    "# get quick information on synthetic data quality\n",
    "pprint(model2.get_report_summary())"
   ]
  },
  {
   "cell_type": "markdown",
   "metadata": {},
   "source": [
    "## Train other Gretel models for comparison\n",
    "\n",
    "* Gretel LSTM\n",
    "* Gretel ACTGAN"
   ]
  },
  {
   "cell_type": "code",
   "execution_count": null,
   "metadata": {},
   "outputs": [],
   "source": [
    "# Gretel LSTM \n",
    "\n",
    "# Create a new model configuration.\n",
    "config3 = read_model_config(\"synthetics/tabular-lstm\")\n",
    "config3[\"name\"] = \"hospital-readmission-tabular-lstm\"\n",
    "\n",
    "pprint(config3)\n",
    "\n",
    "# create and submit the model for training\n",
    "model3 = project.create_model_obj(model_config=config3, data_source=data_source_identifier)\n",
    "model3.submit_cloud()\n",
    "display(poll(model3))\n",
    "\n",
    "# view the synthetic data generated\n",
    "synthetic3 = pd.read_csv(model3.get_artifact_link(\"data_preview\"), compression=\"gzip\")\n",
    "display(synthetic3.head())\n",
    "\n",
    "# get quick information on synthetic data quality\n",
    "pprint(model3.get_report_summary())"
   ]
  },
  {
   "cell_type": "code",
   "execution_count": null,
   "metadata": {},
   "outputs": [],
   "source": [
    "# Gretel ACTGAN \n",
    "\n",
    "# Create a new model configuration.\n",
    "config5 = read_model_config(\"synthetics/tabular-actgan\")\n",
    "config5[\"name\"] = \"hospital-readmission-tabular-actgan\"\n",
    "\n",
    "pprint(config5)\n",
    "\n",
    "# create and submit the model for training\n",
    "model5 = project.create_model_obj(model_config=config5, data_source=data_source_identifier)\n",
    "model5.submit_cloud()\n",
    "poll(model5)\n",
    "\n",
    "# view the synthetic data generated\n",
    "synthetic5 = pd.read_csv(model5.get_artifact_link(\"data_preview\"), compression=\"gzip\")\n",
    "display(synthetic5.head())\n",
    "\n",
    "# get quick information on synthetic data quality\n",
    "pprint(model5.get_report_summary())"
   ]
  }
 ],
 "metadata": {
  "kernelspec": {
   "display_name": "Python 3 (ipykernel)",
   "language": "python",
   "name": "python3"
  },
  "language_info": {
   "codemirror_mode": {
    "name": "ipython",
    "version": 3
   },
   "file_extension": ".py",
   "mimetype": "text/x-python",
   "name": "python",
   "nbconvert_exporter": "python",
   "pygments_lexer": "ipython3",
   "version": "3.9.9"
  },
  "vscode": {
   "interpreter": {
    "hash": "1264641a2296bed54b65447ff0d3f452674f070f0748798274bc429fe6ce8efd"
   }
  }
 },
 "nbformat": 4,
 "nbformat_minor": 2
}
