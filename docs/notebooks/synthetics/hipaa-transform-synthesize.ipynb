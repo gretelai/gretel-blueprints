{
  "nbformat": 4,
  "nbformat_minor": 0,
  "metadata": {
    "colab": {
      "provenance": []
    },
    "kernelspec": {
      "name": "python3",
      "display_name": "Python 3"
    },
    "language_info": {
      "name": "python"
    }
  },
  "cells": [
    {
      "cell_type": "code",
      "execution_count": null,
      "metadata": {
        "id": "ubmyh3IVoL7w"
      },
      "outputs": [],
      "source": [
        "%%capture\n",
        "\n",
        "%pip install git+https://github.com/gretelai/gretel-python-client.git@main"
      ]
    },
    {
      "cell_type": "code",
      "source": [
        "from gretel_client.navigator_client import Gretel\n",
        "from rich.console import Console\n",
        "\n",
        "gretel = Gretel(api_key=\"prompt\", endpoint=\"https://api.dev.gretel.ai\")\n",
        "console = Console()"
      ],
      "metadata": {
        "id": "JF2cRncBoT1P"
      },
      "execution_count": null,
      "outputs": []
    },
    {
      "cell_type": "code",
      "source": [
        "from google.colab import drive\n",
        "drive.mount('/content/drive')\n",
        "\n",
        "ds = \"/content/drive/My Drive/hipaa_patients.csv\"\n",
        "\n",
        "import pandas as pd\n",
        "#ds = \"https://raw.githubusercontent.com/gretelai/gretel-blueprints/main/sample_data/sample-patient-events.csv\"\n",
        "df = pd.read_csv(ds)\n",
        "\n",
        "print(f\"Number of rows: {len(df)}\")\n",
        "df.head()"
      ],
      "metadata": {
        "id": "4KULZsmkowgk"
      },
      "execution_count": null,
      "outputs": []
    },
    {
      "cell_type": "code",
      "source": [
        "hipaa_safe_config_yaml = \"\"\"\n",
        "globals:\n",
        "  classify:\n",
        "    enable: true\n",
        "    entities:\n",
        "      - first_name\n",
        "      - last_name\n",
        "      - name\n",
        "      - street_address\n",
        "      - city\n",
        "      - state\n",
        "      - postcode\n",
        "      - country\n",
        "      - address\n",
        "      - latitude\n",
        "      - longitude\n",
        "      - coordinate\n",
        "      - age\n",
        "      - phone_number\n",
        "      - fax_number\n",
        "      - email\n",
        "      - ssn\n",
        "      - unique_identifer\n",
        "      - medical_record_number\n",
        "      - health_plan_beneficiary_number\n",
        "      - account_number\n",
        "      - certificate_license_number\n",
        "      - vehicle_identifier\n",
        "      - license_plate\n",
        "      - device_identifier\n",
        "      - biometric_identifier\n",
        "      - url\n",
        "      - ipv4\n",
        "      - ipv6\n",
        "      - date\n",
        "  ner:\n",
        "    ner_threshold: 0.3\n",
        "  locales: [en_US]\n",
        "steps:\n",
        "  - vars:\n",
        "      row_seed: random.random()\n",
        "    rows:\n",
        "      update:\n",
        "        - condition: column.entity == \"first_name\" and not (this | isna)\n",
        "          value: fake.persona(row_index=vars.row_seed + index).first_name\n",
        "        - condition: column.entity == \"last_name\" and not (this | isna)\n",
        "          value: fake.persona(row_index=vars.row_seed + index).last_name\n",
        "        - condition: column.entity == \"name\" and not (this | isna)\n",
        "          value: column.entity | fake\n",
        "        - condition: (column.entity == \"street_address\" or column.entity == \"city\" or column.entity == \"state\" or column.entity == \"postcode\" or column.entity == \"address\") and not (this | isna)\n",
        "          value: column.entity | fake\n",
        "        - condition: column.entity == \"latitude\" and not (this | isna)\n",
        "          value: fake.location_on_land()[0]\n",
        "        - condition: column.entity == \"longitude\" and not (this | isna)\n",
        "          value: fake.location_on_land()[1]\n",
        "        - condition: column.entity == \"coordinate\" and not (this | isna)\n",
        "          value: fake.location_on_land()\n",
        "        - condition: column.entity == \"email\" and not (this | isna)\n",
        "          value: fake.persona(row_index=vars.row_seed + index).email\n",
        "        - condition: column.entity == \"ssn\" and not (this | isna)\n",
        "          value: column.entity | fake\n",
        "        - condition: column.entity == \"phone_number\" and not (this | isna)\n",
        "          value: (fake.random_number(digits=3) | string) + \"-\" + (fake.random_number(digits=3) | string) + \"-\" + (fake.random_number(digits=4) | string)\n",
        "        - condition: column.entity == \"fax_number\" and not (this | isna)\n",
        "          value: (fake.random_number(digits=3) | string) + \"-\" + (fake.random_number(digits=3) |\n",
        "            string) + \"-\" + (fake.random_number(digits=4) | string)\n",
        "        - condition: column.entity == \"vehicle_identifier\" and not (this | isna)\n",
        "          value: fake.vin()\n",
        "        - condition: column.entity == \"license_plate\" and not (this | isna)\n",
        "          value: column.entity | fake\n",
        "        - condition: (column.entity == \"medical_record_number\" or column.entity == \"health_plan_beneficiary_number\" or column.entity == \"account_number\" or column.entity == \"certificate_license_number\" or column.entity == \"device_identifier\" or column.entity == \"biometric_identifier\") and not (this | isna)\n",
        "          value: fake.bothify(re.sub(\"\\\\d\", \"#\", re.sub(\"[A-Z]\", \"?\", (this | string))))\n",
        "        - condition: (column.entity == \"url\" or column.entity == \"ipv4\" or column.entity == \"ipv6\") and not (this | isna)\n",
        "          value: column.entity | fake\n",
        "        - condition: column.entity is none and column.type == \"text\"\n",
        "          value: this | fake_entities\n",
        "\"\"\"\n"
      ],
      "metadata": {
        "id": "NHD2Ny15o5ZF"
      },
      "execution_count": null,
      "outputs": []
    },
    {
      "cell_type": "code",
      "source": [
        "tabular_ft_config = {\n",
        "    \"train\": {\n",
        "        \"params\": {\n",
        "            \"num_input_records_to_sample\": 10000\n",
        "        },\n",
        "        \"privacy_params\": {\n",
        "            \"dp\": \"false\"\n",
        "        }\n",
        "    }\n",
        "}\n",
        "\n",
        "\n",
        "import yaml\n",
        "\n",
        "synthetic_dataset = gretel.safe_synthetic_dataset\\\n",
        "    .from_data_source(df) \\\n",
        "    .transform(yaml.safe_load(hipaa_safe_config_yaml)) \\\n",
        "    .synthesize(\"tabular_ft\", tabular_ft_config, num_records=1000) \\\n",
        "    .create()"
      ],
      "metadata": {
        "id": "5jQAciloopLn"
      },
      "execution_count": null,
      "outputs": []
    },
    {
      "cell_type": "code",
      "source": [
        "synthetic_dataset.dataset.df.head()"
      ],
      "metadata": {
        "id": "GDOmyMKVSSrU"
      },
      "execution_count": null,
      "outputs": []
    },
    {
      "cell_type": "code",
      "source": [
        "synthetic_dataset.report.table"
      ],
      "metadata": {
        "id": "TvXGWJpLSTWJ"
      },
      "execution_count": null,
      "outputs": []
    },
    {
      "cell_type": "code",
      "source": [
        "synthetic_dataset.get_step_output(\"transform\").df"
      ],
      "metadata": {
        "id": "MDM9AixOZ3_S"
      },
      "execution_count": null,
      "outputs": []
    },
    {
      "cell_type": "code",
      "source": [
        "import IPython\n",
        "IPython.display.HTML(str(synthetic_dataset.download_report(format=\"html\").read().decode('utf-8')), metadata=dict(isolated=True))"
      ],
      "metadata": {
        "id": "8Ue-7rS4DCEt"
      },
      "execution_count": null,
      "outputs": []
    }
  ]
}