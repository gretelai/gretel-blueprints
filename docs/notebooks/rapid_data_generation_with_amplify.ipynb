{
  "cells": [
    {
      "cell_type": "markdown",
      "metadata": {
        "id": "sugXH-2KDYdE"
      },
      "source": [
        "# Generate high volumes of data rapidly with Gretel Amplify\n",
        "\n",
        "*   This notebook demonstrates how to **generate lots of data fast** using Gretel Amplify\n",
        "*   To run this notebook, you will need an API key from the [Gretel console](https://console.gretel.cloud/dashboard).\n",
        "\n"
      ]
    },
    {
      "cell_type": "markdown",
      "metadata": {
        "id": "yOYfJXYREOSI"
      },
      "source": [
        "## Getting Started\n"
      ]
    },
    {
      "cell_type": "code",
      "execution_count": null,
      "metadata": {
        "id": "VEM6kjRsczHd"
      },
      "outputs": [],
      "source": [
        "%%capture\n",
        "!pip install -U gretel-client"
      ]
    },
    {
      "cell_type": "code",
      "execution_count": null,
      "metadata": {
        "id": "kQYlGEMbDEBv"
      },
      "outputs": [],
      "source": [
        "# Imports\n",
        "import json\n",
        "import pandas as pd\n",
        "from re import findall\n",
        "\n",
        "from gretel_client import configure_session\n",
        "from gretel_client.projects import create_or_get_unique_project\n",
        "from gretel_client.projects.models import read_model_config\n",
        "from gretel_client.helpers import poll"
      ]
    },
    {
      "cell_type": "code",
      "execution_count": null,
      "metadata": {
        "cellView": "form",
        "id": "HWg6t3ko-I2-"
      },
      "outputs": [],
      "source": [
        "# @title\n",
        "from re import findall\n",
        "\n",
        "\n",
        "def get_output_stats(logs):\n",
        "    i = len(logs)-1\n",
        "    output_recs = 0\n",
        "    while True:\n",
        "        ctx = len(logs[i]['ctx'])\n",
        "        if ctx != 0:\n",
        "            output_recs = int(findall('\\d*\\.?\\d+', logs[-4]['msg'])[0])\n",
        "            output_size = logs[i]['ctx']['final_size_mb']\n",
        "            gen_time = logs[i]['ctx']['amplify_time_min']*60\n",
        "            throughput_MBps = logs[i]['ctx']['throughput_mbps']\n",
        "\n",
        "            return(output_recs, output_size, gen_time, throughput_MBps)\n",
        "            break\n",
        "        i -= 1\n",
        "\n",
        "\n",
        "def stats(model):\n",
        "\n",
        "    # Statistics\n",
        "\n",
        "    stats = get_output_stats(model.logs)\n",
        "\n",
        "    target_size = model.model_config['models'][0]['amplify']['params']['target_size_mb']\n",
        "    output_recs = stats[0]\n",
        "    output_size = stats[1]\n",
        "    time = model.billing_details['total_time_seconds']\n",
        "    recs_per_sec = output_recs/time\n",
        "    total_MBps = output_size/time\n",
        "    gen_time = stats[2]\n",
        "    gen_recs_per_sec = output_recs/gen_time\n",
        "    throughput_MBps = stats[3]\n",
        "\n",
        "    print('\\033[1m' + \"Statistics\" '\\033[0m')\n",
        "    print(\"Target Size: \\t\\t{} MB\".format(target_size))\n",
        "    print(\"Output Rows: \\t\\t{} records\".format(output_recs))\n",
        "    print(\"Output Size: \\t\\t{:.2f} MB\".format(output_size))\n",
        "    print(\"Total Time: \\t\\t{:.2f} seconds\".format(time))\n",
        "    print(\"Total Speed: \\t\\t{:.2f} records/s\".format(recs_per_sec))\n",
        "    print(\"Total Speed: \\t\\t{:.2f} MBps\".format(total_MBps))\n",
        "    print(\"Generation Time: \\t{:.2f} seconds\".format(gen_time))\n",
        "    print(\"Generation Speed: \\t{:.2f} records/s\".format(gen_recs_per_sec))\n",
        "    print(\"Generation Speed: \\t{:.2f} MBps\".format(throughput_MBps))\n"
      ]
    },
    {
      "cell_type": "code",
      "execution_count": null,
      "metadata": {
        "collapsed": true,
        "id": "rjBbbGyNO2PO"
      },
      "outputs": [],
      "source": [
        "\n",
        "pd.set_option(\"max_colwidth\", None)\n",
        "\n",
        "# Specify your Gretel API Key\n",
        "configure_session(api_key=\"prompt\", cache=\"no\", validate=True)"
      ]
    },
    {
      "cell_type": "markdown",
      "metadata": {
        "id": "2mXcFk2Cy0lC"
      },
      "source": [
        "## Load and preview data\n",
        "\n",
        "For this demo, we'll use a [US Census dataset](https://github.com/gretelai/gretel-blueprints/blob/main/sample_data/us-adult-income.csv) as our input data. This dataset contains 14,000 records, 15 fields, and is about 1.68 MB in size. \n",
        "\n",
        "If you want to use another dataset, just replace the URL. "
      ]
    },
    {
      "cell_type": "code",
      "execution_count": null,
      "metadata": {
        "collapsed": true,
        "id": "Rgx85TgkPJsY"
      },
      "outputs": [],
      "source": [
        "url = 'https://raw.githubusercontent.com/gretelai/gretel-blueprints/main/sample_data/us-adult-income.csv'\n",
        "df = pd.read_csv(url)\n",
        "print('\\033[1m'+ \"Input Data - US Adult Income\" +'\\033[0m')\n",
        "print('Number of records: {}'.format(len(df)))\n",
        "print('Size: {:.2f} MB'.format(df.memory_usage(index=True).sum()/1e6))\n",
        "df"
      ]
    },
    {
      "cell_type": "markdown",
      "metadata": {
        "id": "2kKGDsEezMVY"
      },
      "source": [
        "## Set target output size\n",
        "\n",
        "There are two ways to indicate the amount of data your want to generate with Amplify. You can use the `num_records` config parameter to specify the number of records to produce. Or, you can use the `target_size_mb` parameter to designate the desired output size in megabytes. The maximum value for `target_size_mb` is 5000 (5GB). Only one parameter can be specified. To read more about the Amplify config, you can check out our docs [here](https://docs.gretel.ai/gretel.ai/synthetics/models/amplify).\n",
        "\n",
        "In this example, we want to generate 5GB of data so we'll set the `target_size_mb` parameter to be `5000`."
      ]
    },
    {
      "cell_type": "code",
      "execution_count": null,
      "metadata": {
        "id": "cpfJzWa8pENd"
      },
      "outputs": [],
      "source": [
        "# Pull Amplify model config \n",
        "config = read_model_config(\"https://raw.githubusercontent.com/gretelai/gretel-blueprints/main/config_templates/gretel/synthetics/amplify.yml\")\n",
        "\n",
        "# Set config parameters\n",
        "\n",
        "config['models'][0]['amplify']['params']['target_size_mb'] = 5000        # 5 GB\n",
        "config['name'] = \"amplify-demo\""
      ]
    },
    {
      "cell_type": "markdown",
      "metadata": {
        "id": "X19N2FOTxpEv"
      },
      "source": [
        "## Create and run model"
      ]
    },
    {
      "cell_type": "code",
      "execution_count": null,
      "metadata": {
        "collapsed": true,
        "id": "GOIbGmCXtGS5"
      },
      "outputs": [],
      "source": [
        "# Designate project\n",
        "project = create_or_get_unique_project(name=\"amplify\")\n",
        "\n",
        "# Create and submit model \n",
        "model = project.create_model_obj(model_config=config, data_source=df)\n",
        "model.submit_cloud()\n",
        "poll(model)"
      ]
    },
    {
      "cell_type": "markdown",
      "metadata": {
        "id": "XdRDFW1izjuR"
      },
      "source": [
        "## View results"
      ]
    },
    {
      "cell_type": "code",
      "execution_count": null,
      "metadata": {
        "id": "govCEdQ2VxU-"
      },
      "outputs": [],
      "source": [
        "stats(model)"
      ]
    },
    {
      "cell_type": "code",
      "execution_count": null,
      "metadata": {
        "id": "CWUvcfzXvptx"
      },
      "outputs": [],
      "source": [
        "amp = pd.read_csv(model.get_artifact_link(\"data_preview\"), compression=\"gzip\")\n",
        "amp"
      ]
    }
  ],
  "metadata": {
    "colab": {
      "collapsed_sections": [],
      "private_outputs": true,
      "provenance": []
    },
    "gpuClass": "standard",
    "kernelspec": {
      "display_name": "Python 3",
      "name": "python3"
    },
    "language_info": {
      "name": "python"
    }
  },
  "nbformat": 4,
  "nbformat_minor": 0
}