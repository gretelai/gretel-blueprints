{
 "cells": [
 {
   "cell_type": "markdown",
   "metadata": {
    "colab_type": "text",
    "id": "view-in-github"
   },
   "source": [
    "<a href=\"https://colab.research.google.com/github/gretelai/gretel-blueprints/blob/main/docs/notebooks/credit_card_dp_notebook.ipynb\" target=\"_parent\"><img src=\"https://colab.research.google.com/assets/colab-badge.svg\" alt=\"Open In Colab\"/></a>\n"
   ]
  },
  {
   "cell_type": "markdown",
   "metadata": {},
   "source": [
    "# Differentially private synthetic model with credit card dataset\n",
    "\n",
    "This blueprint implements a practical attack on a credit card dataset. We tune various parameters and privacy settings of a synthetic model to measure its ability in memorizing canaries inserted into dataset. We show that enabling differential privacy (DP) can provide greater protection from memorization of canaries."
   ]
  },
  {
   "cell_type": "code",
   "execution_count": null,
   "metadata": {},
   "outputs": [],
   "source": [
    "%%capture\n",
    "%pip install gretel-client "
   ]
  },
  {
   "cell_type": "code",
   "execution_count": null,
   "metadata": {},
   "outputs": [],
   "source": [
    "# Specify the Gretel API key. You can acquire this from the Gretel Console \n",
    "# @ https://console.gretel.cloud\n",
    "\n",
    "import pandas as pd\n",
    "\n",
    "from gretel_client import configure_session\n",
    "pd.set_option('max_colwidth', None)\n",
    "configure_session(api_key=\"prompt\", cache=\"yes\", validate=True)"
   ]
  },
  {
   "cell_type": "code",
   "execution_count": null,
   "metadata": {},
   "outputs": [],
   "source": [
    "# Load the credit card transaction fraud detection dataset to a dataframe.\n",
    "data_source = \"https://gretel-public-website.s3.us-west-2.amazonaws.com/datasets/CreditCard_Fraud_Transactions.csv\"\n",
    "data = pd.read_csv(data_source , index_col = [0])\n",
    "# See the raw dataset:\n",
    "data.head()"
   ]
  },
  {
   "cell_type": "code",
   "execution_count": null,
   "metadata": {},
   "outputs": [],
   "source": [
    "# Checking the ranges of the credit card number's length:\n",
    "data[\"cc_num\"].apply(lambda x:len(str(x))).value_counts().rename_axis(\"credit card number of digits\").reset_index(name = \"count\")"
   ]
  },
  {
   "cell_type": "code",
   "execution_count": null,
   "metadata": {},
   "outputs": [],
   "source": [
    "# Reduce the number of the records to 28K and select 4 feature columns:\n",
    "import random\n",
    "random.seed(42)\n",
    "\n",
    "sample_data = data.filter([\"cc_num\",\"first\",\"last\",\"gender\"],axis =1)\n",
    "# Since there are various credit card digit counts, we use te last 4 digits which is mostly common.\n",
    "sample_data[\"cc_num\"] = sample_data[\"cc_num\"].apply(lambda x:(str(x)[-4:]))\n",
    "# Just Sampling 28K dataset:\n",
    "sample_df = sample_data.sample(n = 28000,random_state = 62).reset_index(drop = True)\n",
    "sample_df.head()"
   ]
  },
  {
   "cell_type": "code",
   "execution_count": null,
   "metadata": {},
   "outputs": [],
   "source": [
    "# Select 5 secret values (canaries), test if they are not in the train dataset before insertion.\n",
    "secrets = [\"5601\",\"1003\",\"3456\",\"7290\",\"1342\"]\n",
    "sample_df.loc[sample_df[\"cc_num\"].isin(secrets), \"cc_num\"]\n"
   ]
  },
  {
   "cell_type": "code",
   "execution_count": null,
   "metadata": {},
   "outputs": [],
   "source": [
    "import numpy as np\n",
    "from numpy.random import choice\n",
    "\n",
    "weights = np.array([.05, .10, .15, .20, .50])\n",
    "\n",
    "def create_canaries(df: pd.DataFrame, secrets, weights, frac=0.01) -> pd.DataFrame:\n",
    "    \"\"\"Insert secrets randomly into the location columns.\n",
    "       These values should never be repeated by the model\n",
    "    \"\"\"\n",
    "    weights /= weights.sum()\n",
    "    cols = ['cc_num']\n",
    "    # Remove the random state in the blueprint\n",
    "    canaries = df.sample(frac=frac)\n",
    "    for i, row in canaries.iterrows():\n",
    "         canaries.at[i, choice(cols)] = choice(secrets, p=weights)\n",
    "    return canaries\n",
    "        \n",
    " \n",
    "canaries = create_canaries(sample_df, secrets, weights, 0.01)\n",
    "canaries.head()\n"
   ]
  },
  {
   "cell_type": "code",
   "execution_count": null,
   "metadata": {},
   "outputs": [],
   "source": [
    "# Get the counts for each secret value\n",
    "canaries[\"cc_num\"].value_counts()"
   ]
  },
  {
   "cell_type": "code",
   "execution_count": null,
   "metadata": {},
   "outputs": [],
   "source": [
    "from sklearn.utils import shuffle\n",
    "\n",
    "# canary_sample_df = sample_df.append(canaries)\n",
    "train_df = shuffle(sample_df.append(canaries),random_state=42).reset_index(drop =True)\n",
    "# The last four digits of a credit card number might start with 0 and be removed when saved as integer. We save it as a string by inserting a single letter at first part of it.\n",
    "train_df[\"cc_num\"] = train_df[\"cc_num\"].apply(lambda x:\"m\"+x)\n",
    "train_df.to_csv(\"train.csv\", index=False)"
   ]
  },
  {
   "cell_type": "code",
   "execution_count": null,
   "metadata": {},
   "outputs": [],
   "source": [
    "from gretel_client.projects.models import read_model_config\n",
    "import json\n",
    "\n",
    "# Create model configuration for the DP model.\n",
    "config = read_model_config(\"synthetics/default\")\n",
    "\n",
    "\n",
    "config['models'][0][\"synthetics\"][\"params\"][\"vocab_size\"] = 0\n",
    "config['models'][0][\"synthetics\"][\"params\"][\"epochs\"] = 50\n",
    "config['models'][0][\"synthetics\"][\"params\"][\"learning_rate\"] = 0.001\n",
    "config['models'][0][\"synthetics\"][\"params\"][\"batch_size\"] = 4\n",
    "config['models'][0][\"synthetics\"][\"params\"][\"predict_batch_size\"] = 1\n",
    "\n",
    "# Enable Differential Privacy:\n",
    "config['models'][0][\"synthetics\"][\"params\"][\"dp\"] = True\n",
    "config['models'][0][\"synthetics\"][\"params\"][\"dp_noise_multiplier\"] = 0.001\n",
    "config['models'][0][\"synthetics\"][\"params\"][\"dp_l2_norm_clip\"] = 2   # set low to demonstrate gradient clipping\n",
    "\n",
    "\n",
    "#Setting the privacy filters off, since we are already using DP.\n",
    "config[\"models\"][0]['synthetics']['privacy_filters'][\"outliers\"] = None\n",
    "config[\"models\"][0]['synthetics']['privacy_filters'][\"similarity\"] = None\n",
    "\n",
    "# DP configuration setting summary:\n",
    "config_dict = config[\"models\"][0][\"synthetics\"][\"params\"]\n",
    "pd.DataFrame.from_dict(config_dict,orient=\"index\",columns=[\"values\"])\n",
    "\n"
   ]
  },
  {
   "cell_type": "code",
   "execution_count": null,
   "metadata": {},
   "outputs": [],
   "source": [
    "# Create a project\n",
    "from gretel_client.helpers import poll\n",
    "from gretel_client.projects import create_or_get_unique_project\n",
    "\n",
    "project = create_or_get_unique_project(name=\"cc-dp-model\")\n",
    "model = project.create_model_obj(model_config=config, data_source=\"train.csv\")\n",
    "model.submit_cloud()\n",
    "poll(model)"
   ]
  },
  {
   "cell_type": "code",
   "execution_count": null,
   "metadata": {},
   "outputs": [],
   "source": [
    "# Read the generated synthetis data from the synthetic model:\n",
    "synthetic_df = pd.read_csv(model.get_artifact_link(\"data_preview\"), compression=\"gzip\")\n",
    "synthetic_df.head()"
   ]
  },
  {
   "cell_type": "code",
   "execution_count": null,
   "metadata": {},
   "outputs": [],
   "source": [
    "# Find the canaries in the synthetic data that were memorized by the model\n",
    "string_secrets = [\"m\"+s for s in secrets]\n",
    "\n",
    "\n",
    "def find_canaries(df, secrets):\n",
    "    frequency = []\n",
    "    raw = df.to_string()\n",
    "    for secret in secrets:\n",
    "      frequency.append(raw.count(str(secret)))\n",
    "    return frequency\n",
    "\n",
    "results = pd.DataFrame({\"Secret value\": string_secrets,\n",
    "                        \"Insertion count\": find_canaries(train_df, string_secrets),\n",
    "                        \"Repetition by synthetic model\" :find_canaries(synthetic_df, string_secrets)})\n",
    "\n",
    "results"
   ]
  }
 ],
 "metadata": {
  "interpreter": {
   "hash": "fce298a053426a47ca7dd0c01819201b95588dcb6b7eaac40cbd24a4491253ab"
  },
  "kernelspec": {
   "display_name": "Python 3.8.13 ('tf': conda)",
   "language": "python",
   "name": "python3"
  },
  "language_info": {
   "codemirror_mode": {
    "name": "ipython",
    "version": 3
   },
   "file_extension": ".py",
   "mimetype": "text/x-python",
   "name": "python",
   "nbconvert_exporter": "python",
   "pygments_lexer": "ipython3",
   "version": "3.8.13"
  },
  "orig_nbformat": 4
 },
 "nbformat": 4,
 "nbformat_minor": 2
}
