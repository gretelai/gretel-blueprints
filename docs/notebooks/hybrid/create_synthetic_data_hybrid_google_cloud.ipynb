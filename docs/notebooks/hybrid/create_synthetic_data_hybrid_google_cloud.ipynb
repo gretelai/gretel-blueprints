{
 "cells": [
  {
   "cell_type": "markdown",
   "id": "d1ceaf43",
   "metadata": {},
   "source": [
    "# Gretel Hybrid on Google Cloud\n",
    "\n",
    "This Notebook will walk you through creating synthetic data using Gretel Hybrid on Google Cloud. Before you can use this Notebook, you will need a Gretel Hybrid cluster setup in your Google Cloud environment.\n",
    "\n",
    "To get Gretel Hybrid on Google Cloud setup, please see our documentation: \n",
    "\n",
    "https://docs.gretel.ai/guides/environment-setup/running-gretel-hybrid"
   ]
  },
  {
   "cell_type": "code",
   "execution_count": 2,
   "id": "d733c322",
   "metadata": {},
   "outputs": [],
   "source": [
    "%%capture\n",
    "\n",
    "!pip install -U gretel-client[gcp]"
   ]
  },
  {
   "cell_type": "code",
   "execution_count": null,
   "id": "e180c28f",
   "metadata": {},
   "outputs": [],
   "source": [
    "# Set the following variables.\n",
    "\n",
    "\n",
    "# NOTE: This bucket is the same as the SINK BUCKET from this Hybrid setup step: \n",
    "# https://docs.gretel.ai/guides/environment-setup/running-gretel-hybrid/gcp-setup#create-gcs-buckets\n",
    "#\n",
    "# This bucket will store:\n",
    "# 1) Training data, which will be uploaded directly from the Gretel Client\n",
    "# 2) Artifacts such as the generated synthetic data, reports, and logs\n",
    "GCS_BUCKET = \"gs://your-bucket-name\"\n",
    "\n",
    "# Set the name of your Google Cloud Project\n",
    "GOOGLE_PROJECT = \"your-gcp-project-name\"\n",
    "\n",
    "# This project should have already been created in Gretel\n",
    "GRETEL_PROJECT = \"your-gretel-project-name\"\n",
    "\n",
    "# Set which Gretel model you want to use\n",
    "# https://github.com/gretelai/gretel-blueprints/tree/main/config_templates/gretel/synthetics\n",
    "# You can set the filename of any blueprint template below with a \"synthetics/\" prefix.\n",
    "GRETEL_MODEL = \"synthetics/tabular-actgan\"\n",
    "\n",
    "# If using a GCP service account for GCS access, set the absolute path to the JSON file here\n",
    "GOOGLE_CREDS = \"/path/to/gcp/creds.json\""
   ]
  },
  {
   "cell_type": "markdown",
   "id": "14971b4f",
   "metadata": {},
   "source": [
    "# Authenticate with Google Cloud\n",
    "\n",
    "*NOTE*: If creating a service account, we also add Vertex AI permissions so that the generated synthetic data\n",
    "can easily be used with Vertex APIs\n",
    "\n",
    "If you are using *Vertex Notebooks*, your environment is already authenticated. Skip this step.\n",
    "\n",
    "If you are using *Colab*, run the cell below and follow the instructions when prompted to authenticate your account via oAuth.\n",
    "\n",
    "Otherwise, follow these steps:\n",
    "\n",
    " - In the Cloud Console, go to the Create service account key page.\n",
    "\n",
    " - Click Create service account.\n",
    "\n",
    " - In the Service account name field, enter a name, and click \"Create and Continue\".\n",
    "\n",
    "- In the Grant this service account access to project section, click the Role drop-down list. Type \"Vertex AI\" into the filter box, and select Vertex AI Administrator. \n",
    "\n",
    "- Type \"Storage Object Admin\" into the filter box, and select Storage Object Admin.\n",
    "\n",
    "- Click Create. A JSON file that contains your key downloads to your local environment.\n",
    "\n",
    "Enter the path to your service account key as the `GOOGLE_APPLICATION_CREDENTIALS` variable in the cell below and run the cell."
   ]
  },
  {
   "cell_type": "code",
   "execution_count": null,
   "id": "4f3c5ae8",
   "metadata": {},
   "outputs": [],
   "source": [
    "import os\n",
    "import sys\n",
    "\n",
    "# If you are running this notebook in Colab, run this cell and follow the\n",
    "# instructions to authenticate your GCP account. This provides access to your\n",
    "# Cloud Storage bucket and lets you submit training jobs and prediction\n",
    "# requests.\n",
    "\n",
    "# The Google Cloud Notebook product has specific requirements\n",
    "IS_GOOGLE_CLOUD_NOTEBOOK = os.path.exists(\"/opt/deeplearning/metadata/env_version\")\n",
    "\n",
    "# If on Google Cloud Notebooks, then don't execute this code\n",
    "if not IS_GOOGLE_CLOUD_NOTEBOOK:\n",
    "    if \"google.colab\" in sys.modules:\n",
    "        from google.colab import auth as google_auth\n",
    "\n",
    "        google_auth.authenticate_user()\n",
    "\n",
    "    # If you are running this notebook locally, replace the string below with the\n",
    "    # path to your service account key and run this cell to authenticate your GCP\n",
    "    # account.\n",
    "    elif not os.getenv(\"IS_TESTING\"):\n",
    "        os.environ[\"GOOGLE_APPLICATION_CREDENTIALS\"] = GOOGLE_CREDS"
   ]
  },
  {
   "cell_type": "markdown",
   "id": "7b884b51",
   "metadata": {},
   "source": [
    "Next, verify that we can access the GCS bucket:"
   ]
  },
  {
   "cell_type": "code",
   "execution_count": null,
   "id": "ecb96b93",
   "metadata": {},
   "outputs": [],
   "source": [
    "!gcloud config set project {GOOGLE_PROJECT}\n",
    "!gsutil ls -al $GCS_BUCKET"
   ]
  },
  {
   "cell_type": "markdown",
   "id": "d80af03d",
   "metadata": {},
   "source": [
    "# Authenticate with Gretel Cloud\n",
    "\n",
    "This step will configure your Gretel Client to submit job _requests_ to Gretel Cloud. Once a job _request_ is sent to Gretel Cloud, the Hybrid cluster will download the job request _metadata_ and schedule the job to run on the Hybrid cluster in Google Cloud."
   ]
  },
  {
   "cell_type": "code",
   "execution_count": null,
   "id": "938bc140",
   "metadata": {},
   "outputs": [],
   "source": [
    "from gretel_client import configure_session\n",
    "\n",
    "configure_session(\n",
    "  api_key=\"prompt\", # for Notebook environments\n",
    "  validate=True,\n",
    "  clear=True,\n",
    "  default_runner=\"hybrid\",\n",
    "  artifact_endpoint=GCS_BUCKET\n",
    ")"
   ]
  },
  {
   "cell_type": "markdown",
   "id": "aa1f93d4",
   "metadata": {},
   "source": [
    "# Create a Gretel Model\n",
    "\n",
    "This step will request a model creation job and queue it in Gretel Cloud. The request metadata will be downloaded by the Gretel Hybrid cluster in Google Cloud and begin training the model."
   ]
  },
  {
   "cell_type": "code",
   "execution_count": null,
   "id": "25c6080a",
   "metadata": {},
   "outputs": [],
   "source": [
    "import pandas as pd\n",
    "\n",
    "from gretel_client import get_project\n",
    "from gretel_client.helpers import poll\n",
    "\n",
    "gretel_project = get_project(name=GRETEL_PROJECT)"
   ]
  },
  {
   "cell_type": "code",
   "execution_count": null,
   "id": "acd4dfdd",
   "metadata": {},
   "outputs": [],
   "source": [
    "training_df = pd.read_csv(\"https://raw.githubusercontent.com/gretelai/gretel-blueprints/main/sample_data/us-adult-income.csv\")\n",
    "training_df.head()"
   ]
  },
  {
   "cell_type": "code",
   "execution_count": null,
   "id": "51791917",
   "metadata": {},
   "outputs": [],
   "source": [
    "gretel_model = gretel_project.create_model_obj(model_config=GRETEL_MODEL, data_source=training_df)\n",
    "gretel_model = gretel_model.submit()\n",
    "print(f\"Gretel Model ID submitted for Hybrid, see project here: {gretel_project.get_console_url()}\")"
   ]
  },
  {
   "cell_type": "code",
   "execution_count": null,
   "id": "30b60d85",
   "metadata": {},
   "outputs": [],
   "source": [
    "poll(gretel_model)"
   ]
  },
  {
   "cell_type": "markdown",
   "id": "1487a127",
   "metadata": {},
   "source": [
    "# Preview Synthetic Data\n",
    "\n",
    "As part of the model training process, a sample of synthetic data is created, you can explore that data easily."
   ]
  },
  {
   "cell_type": "code",
   "execution_count": null,
   "id": "3357e78e",
   "metadata": {},
   "outputs": [],
   "source": [
    "# If you ever need to restore your Gretel Model object, you can do so like this:\n",
    "\n",
    "# gretel_model = gretel_project.get_model(\"64de615d5c7248c58cc50247\")\n",
    "\n",
    "# Next we look at the data that was generated as part of model training\n",
    "with gretel_model.get_artifact_handle(\"data_preview\") as fin:\n",
    "    syn_df = pd.read_csv(fin)\n",
    "    \n",
    "syn_df.head()"
   ]
  },
  {
   "cell_type": "markdown",
   "id": "fafb1da6",
   "metadata": {},
   "source": [
    "# Explore the Synthetic Quality Report\n",
    "\n",
    "This will download the full HTML of the Gretel Synthetic Quality Report."
   ]
  },
  {
   "cell_type": "code",
   "execution_count": null,
   "id": "54cb3cee",
   "metadata": {},
   "outputs": [],
   "source": [
    "from IPython.display import display, HTML\n",
    "\n",
    "with gretel_model.get_artifact_handle(\"report\") as fin:\n",
    "    html_contents = fin.read().decode()"
   ]
  },
  {
   "cell_type": "code",
   "execution_count": null,
   "id": "5f1be9f0",
   "metadata": {
    "scrolled": false
   },
   "outputs": [],
   "source": [
    "display(HTML(html_contents), metadata=dict(isolated=True))"
   ]
  },
  {
   "cell_type": "markdown",
   "id": "676b0de5",
   "metadata": {},
   "source": [
    "# Generate More Data\n",
    "\n",
    "With the Gretel Model created, you can run inferrence from that model as many times as you wish. You may either request a total number of records to generate or depending on the model, utilize conditioning. Conditioning allows you to provide partial values as an input dataset, and then the model will complete the remainder of each record."
   ]
  },
  {
   "cell_type": "code",
   "execution_count": null,
   "id": "c579d513",
   "metadata": {},
   "outputs": [],
   "source": [
    "# Generate more records based on record count\n",
    "\n",
    "model_run = gretel_model.create_record_handler_obj(params=dict(num_records=142))\n",
    "model_run.submit()\n",
    "poll(model_run)"
   ]
  },
  {
   "cell_type": "code",
   "execution_count": null,
   "id": "6b51b0a6",
   "metadata": {},
   "outputs": [],
   "source": [
    "# You can always retrieve a model run with the below:\n",
    "\n",
    "# model_run = gretel_model.get_record_handler(\"64df7fb5f62d5b782416f0d2\")\n",
    "\n",
    "# Retrieve newly generated data:\n",
    "\n",
    "with model_run.get_artifact_handle(\"data\") as fin:\n",
    "    syn_df = pd.read_csv(fin)\n",
    "\n",
    "print(f\"Total records generated: {len(syn_df)}\")\n",
    "syn_df.head()"
   ]
  },
  {
   "cell_type": "markdown",
   "id": "f65cca49",
   "metadata": {},
   "source": [
    "# Generate Records With Conditioning\n",
    "\n",
    "In this mode of generation, you may provide a dataset of partial records, and the model will complete each record for\n",
    "you. If you provide a file of 10 partial records, then you will receive 10 complete records at the end of the job. This mode of generation is only available with the Tabular ACTGAN model."
   ]
  },
  {
   "cell_type": "code",
   "execution_count": null,
   "id": "507949b8",
   "metadata": {},
   "outputs": [],
   "source": [
    "# First create a dataset of partial records that you want the model to complete.\n",
    "\n",
    "partial_records_df = pd.DataFrame(\n",
    "    [\"Private\"] * 5 + [\"Local-gov\"] * 5,\n",
    "    columns=[\"workclass\"]\n",
    ")\n",
    "\n",
    "partial_records_df"
   ]
  },
  {
   "cell_type": "code",
   "execution_count": null,
   "id": "703e40e8",
   "metadata": {},
   "outputs": [],
   "source": [
    "# Next run the model, providing the conditioning DF as the input data source\n",
    "\n",
    "model_run = gretel_model.create_record_handler_obj(data_source=partial_records_df)\n",
    "model_run.submit()\n",
    "poll(model_run)"
   ]
  },
  {
   "cell_type": "code",
   "execution_count": null,
   "id": "80e4917f",
   "metadata": {},
   "outputs": [],
   "source": [
    "# Access our completed records, note that our conditioned column, \"workclass\", contains\n",
    "# the exact values we submitted \n",
    "\n",
    "with model_run.get_artifact_handle(\"data\") as fin:\n",
    "    syn_df = pd.read_csv(fin)\n",
    "    \n",
    "syn_df"
   ]
  }
 ],
 "metadata": {
  "kernelspec": {
   "display_name": "Python 3 (ipykernel)",
   "language": "python",
   "name": "python3"
  },
  "language_info": {
   "codemirror_mode": {
    "name": "ipython",
    "version": 3
   },
   "file_extension": ".py",
   "mimetype": "text/x-python",
   "name": "python",
   "nbconvert_exporter": "python",
   "pygments_lexer": "ipython3",
   "version": "3.9.9"
  }
 },
 "nbformat": 4,
 "nbformat_minor": 5
}
