{
  "cells": [
    {
      "attachments": {},
      "cell_type": "markdown",
      "metadata": {
        "id": "Q0ffWpQtGQv3"
      },
      "source": [
        "<a target=\"_blank\" href=\"https://colab.research.google.com/github/gretelai/gretel-blueprints/blob/main/docs/notebooks/synthesize_relational_database.ipynb\">\n",
        "  <img src=\"https://colab.research.google.com/assets/colab-badge.svg\" alt=\"Open In Colab\"/>\n",
        "</a>"
      ]
    },
    {
      "attachments": {},
      "cell_type": "markdown",
      "metadata": {
        "id": "VQiqMoewdtmF"
      },
      "source": [
        "# Synthesize a Database with Gretel Relational\n",
        "\n",
        "This notebook uses [Gretel Relational Synthetics](https://docs.gretel.ai/reference/relational) to synthesize a sample telecommunications database. Try running the example below and compare the synthetic vs real world data for the example database. \n",
        "\n",
        "<img src=\"https://gretel-blueprints-pub.s3.us-west-2.amazonaws.com/rdb/telecom_db.png\"  width=\"70%\" height=\"70%\">"
      ]
    },
    {
      "attachments": {},
      "cell_type": "markdown",
      "metadata": {
        "id": "83KoGKH5eA-4"
      },
      "source": [
        "## Getting Started"
      ]
    },
    {
      "cell_type": "code",
      "execution_count": null,
      "metadata": {
        "collapsed": true,
        "id": "uu8M5yMc5DiT"
      },
      "outputs": [],
      "source": [
        "%%capture\n",
        "!pip install -U gretel-trainer"
      ]
    },
    {
      "cell_type": "code",
      "execution_count": null,
      "metadata": {
        "id": "RSvRE1X25DiW"
      },
      "outputs": [],
      "source": [
        "from gretel_trainer.relational import *"
      ]
    },
    {
      "cell_type": "code",
      "execution_count": null,
      "metadata": {},
      "outputs": [],
      "source": [
        "from gretel_client import configure_session\n",
        "\n",
        "configure_session(api_key=\"prompt\", cache=\"yes\", validate=True)"
      ]
    },
    {
      "cell_type": "code",
      "execution_count": null,
      "metadata": {
        "id": "1zESRbHGy1tU"
      },
      "outputs": [],
      "source": [
        "# Download sample database\n",
        "!wget https://gretel-blueprints-pub.s3.amazonaws.com/rdb/telecom.db"
      ]
    },
    {
      "attachments": {},
      "cell_type": "markdown",
      "metadata": {
        "id": "6PM0dEEEsi4H"
      },
      "source": [
        "## Define Source Data"
      ]
    },
    {
      "attachments": {},
      "cell_type": "markdown",
      "metadata": {
        "id": "HM2KEgl3eMXb"
      },
      "source": [
        "### Input data via database connector\n",
        "For information on connecting to your own database using one of our 30+ connectors, [check out our docs](https://docs.gretel.ai/reference/relational/database-connectors)."
      ]
    },
    {
      "cell_type": "code",
      "execution_count": null,
      "metadata": {
        "id": "Psa3cAaCshFq"
      },
      "outputs": [],
      "source": [
        "# Input data from database\n",
        "from gretel_trainer.relational import sqlite_conn\n",
        "\n",
        "db_path = \"telecom.db\"\n",
        "sqlite = sqlite_conn(path=db_path)\n",
        "relational_data = sqlite.extract()\n"
      ]
    },
    {
      "attachments": {},
      "cell_type": "markdown",
      "metadata": {
        "id": "Lsf3dqjzeP4p"
      },
      "source": [
        "### Alternatively, manually define data from CSVs \n"
      ]
    },
    {
      "cell_type": "code",
      "execution_count": null,
      "metadata": {
        "cellView": "form",
        "collapsed": true,
        "id": "ODqYUAVBeEp2"
      },
      "outputs": [],
      "source": [
        "# @title\n",
        "# #Alternatively, manually define relational data\n",
        "# #Uncomment code to run\n",
        "\n",
        "\n",
        "# from gretel_trainer.relational import RelationalData\n",
        "# import pandas as pd\n",
        "\n",
        "# csv_dir = \"/content\"\n",
        "\n",
        "# tables = [\n",
        "#     #(\"table_name\", \"primary_key\")\n",
        "#     (\"account\", \"account_id\"),\n",
        "#     (\"client\", \"client_id\"),\n",
        "#     (\"invoice\", \"invoice_id\"),\n",
        "#     (\"location\", \"location_id\"),\n",
        "#     (\"payment\", \"payment_id\"),\n",
        "# ]\n",
        "\n",
        "# foreign_keys = [\n",
        "#     {\"table\": \"account\", \"constrained_columns\": [\"client_id\"], \"referred_table\": \"client\", \"referred_columns\": [\"client_id\"]},\n",
        "#     {\"table\": \"location\", \"constrained_columns\": [\"client_id\"], \"referred_table\": \"client\", \"referred_columns\": [\"client_id\"]},\n",
        "#     {\"table\": \"invoice\", \"constrained_columns\": [\"account_id\"], \"referred_table\": \"account\", \"referred_columns\": [\"account_id\"]},\n",
        "#     {\"table\": \"payment\", \"constrained_columns\": [\"invoice_id\"], \"referred_table\": \"invoice\", \"referred_columns\": [\"invoice_id\"]},\n",
        "# ]\n",
        "\n",
        "# relational_data = RelationalData()\n",
        "\n",
        "# for table, pk in tables:\n",
        "#     relational_data.add_table(name=table, primary_key=pk, data=pd.read_csv(f\"{csv_dir}/{table}.csv\"))\n",
        "\n",
        "# for foreign_key in foreign_keys:\n",
        "#     relational_data.add_foreign_key_constraint(**foreign_key)"
      ]
    },
    {
      "cell_type": "code",
      "execution_count": null,
      "metadata": {
        "cellView": "form",
        "id": "fpEFMiWKCNgJ"
      },
      "outputs": [],
      "source": [
        "#@title Preview source data\n",
        "#@markdown #### Confirm referential integrity by joining two tables\n",
        "#@markdown Every record in the child table matches a distinct record in the parent table. Therefore, the number of records in the joined data will match the number of records in the child table.\n",
        "\n",
        "\n",
        "from IPython.display import display, HTML\n",
        "\n",
        "def join_tables(parent: str, child: str, relational_data=relational_data):\n",
        "  p_key = relational_data.get_primary_key(parent)\n",
        "  f_key = \"\"\n",
        "  for fk in relational_data.get_foreign_keys(child):\n",
        "    if fk.parent_table_name==parent:\n",
        "      f_key=fk.column_name\n",
        "    else:\n",
        "      logging.warning(\"The input parent and child table must be related.\")\n",
        "  \n",
        "  parent_df = relational_data.get_table_data(parent)\n",
        "  child_df = relational_data.get_table_data(child)\n",
        "\n",
        "  joined_data = child_df.merge(parent_df, how=\"left\", left_on=p_key, right_on=f_key)\n",
        "\n",
        "  print(f\"Number of records in {child} table:\\t {len(child_df)}\")\n",
        "  print(f\"Number of records in {parent} table:\\t {len(parent_df)}\")\n",
        "  print(f\"Number of records in joined data:\\t {len(joined_data)}\")\n",
        "\n",
        "  return joined_data.head()\n",
        "\n",
        "\n",
        "parent_table = \"client\" #@param {type:\"string\"}\n",
        "child_table = \"account\" #@param {type:\"string\"}\n",
        "\n",
        "print(\"\\033[1m Source Data: \\033[0m\")\n",
        "source_data = join_tables(parent_table, child_table)\n",
        "display(source_data)"
      ]
    },
    {
      "attachments": {},
      "cell_type": "markdown",
      "metadata": {
        "id": "uUf6n5K95DiX"
      },
      "source": [
        "## Set up Relational Model and Create Project\n",
        "\n",
        "During this step, you will be prompted to input your API key, which can be found in the [Gretel Console](https://console.gretel.ai/users/me/key).\n",
        "\n",
        "Relational Synthetics will use Amplify by default. Alternatively, you can set `gretel_model=\"actgan\"` or `gretel_model=\"lstm\"`. "
      ]
    },
    {
      "cell_type": "code",
      "execution_count": null,
      "metadata": {
        "id": "UURUHwED5DiZ"
      },
      "outputs": [],
      "source": [
        "from gretel_trainer.relational import MultiTable\n",
        "\n",
        "multitable = MultiTable(\n",
        "    relational_data,\n",
        "    project_display_name=\"Synthesize Telecom Database\",\n",
        "    #gretel_model=\"amplify\",\n",
        "    #refresh_interval=60\n",
        ")"
      ]
    },
    {
      "attachments": {},
      "cell_type": "markdown",
      "metadata": {
        "id": "ubA2WBTGBFxs"
      },
      "source": [
        "## Synthesize Database"
      ]
    },
    {
      "cell_type": "code",
      "execution_count": null,
      "metadata": {
        "id": "NWEe445h5hIy"
      },
      "outputs": [],
      "source": [
        "multitable.train()"
      ]
    },
    {
      "cell_type": "code",
      "execution_count": null,
      "metadata": {
        "id": "lTPtgdNcBI7A"
      },
      "outputs": [],
      "source": [
        "multitable.generate(record_size_ratio=1)       # To adjust the amount of data generated, change record_size_ratio parameter\n",
        "    "
      ]
    },
    {
      "attachments": {},
      "cell_type": "markdown",
      "metadata": {
        "id": "DUQDctnvBQbW"
      },
      "source": [
        "## View Results"
      ]
    },
    {
      "cell_type": "code",
      "execution_count": null,
      "metadata": {
        "cellView": "form",
        "collapsed": true,
        "id": "ih0BXletmGKw"
      },
      "outputs": [],
      "source": [
        "#@title Compare an individual table\n",
        "table = \"payment\" #@param {type:\"string\"}\n",
        "from IPython.display import display, HTML\n",
        "\n",
        "\n",
        "source_table = multitable.relational_data.get_table_data(table).head(5)\n",
        "synth_table = multitable.synthetic_output_tables[table][source_table.columns].head(5)\n",
        "print(\"\\033[1m Source Table:\")\n",
        "display(source_table)\n",
        "print(\"\\n\\n\\033[1m Synthesized Table:\")\n",
        "display(synth_table)"
      ]
    },
    {
      "cell_type": "code",
      "execution_count": null,
      "metadata": {
        "cellView": "form",
        "id": "onQlVAPFIfwF"
      },
      "outputs": [],
      "source": [
        "#@title Examine joined tables to confirm referential integrity\n",
        "#@markdown As with the original data, every record in the synthesized child table matches a distinct record in its synthesized parent table. The number of records in the joined data matches the number of records in the child table, confirming referential integrity has been maintained in the synthetic database.\n",
        "import logging \n",
        "from IPython.display import display, HTML\n",
        "\n",
        "def join_synth_tables(parent: str, child: str, multitable=multitable): \n",
        "  p_key = multitable.relational_data.get_primary_key(parent)\n",
        "  f_key = \"\"\n",
        "  for fk in multitable.relational_data.get_foreign_keys(child):\n",
        "    if fk.parent_table_name==parent:\n",
        "      f_key=fk.column_name\n",
        "    else:\n",
        "      logging.warning(\"The input parent and child table must be related.\")\n",
        "  \n",
        "  parent_df = multitable.synthetic_output_tables[parent]\n",
        "  child_df = multitable.synthetic_output_tables[child]\n",
        "\n",
        "  joined_data = child_df.merge(parent_df, how=\"left\", left_on=p_key, right_on=f_key)\n",
        "\n",
        "  print(f\"Number of records in {child} table:\\t {len(child_df)}\")\n",
        "  print(f\"Number of records in {parent} table:\\t {len(parent_df)}\")\n",
        "  print(f\"Number of records in joined data:\\t {len(joined_data)}\")\n",
        "  return joined_data.head()\n",
        "\n",
        "\n",
        "parent_table = \"client\" #@param {type:\"string\"}\n",
        "child_table = \"account\" #@param {type:\"string\"}\n",
        "\n",
        "print(\"\\n\\n\\033[1m Synthesized Data:\\033[0m\")\n",
        "display(join_synth_tables(parent_table, child_table)[source_data.columns])"
      ]
    },
    {
      "attachments": {},
      "cell_type": "markdown",
      "metadata": {
        "id": "4NJPu4L0YF4J"
      },
      "source": [
        "### View Gretel Relational Report\n",
        "Each synthetic database generation creates a [Gretel Relational Report](https://docs.gretel.ai/reference/relational/gretel-relational-report), which provides unique accuracy and privacy scores to help you verify the quality of your synthetic database. \n",
        "\n",
        "In addition to overall database scores, the report provides table-level insights that measure how well both in-table and cross-table relationships are maintained. Individual and cross-table synthetic reports are generated for each table, and can be found in your working directory."
      ]
    },
    {
      "cell_type": "code",
      "execution_count": null,
      "metadata": {
        "id": "hh9UESGCBTX4"
      },
      "outputs": [],
      "source": [
        "# View relational report\n",
        "import IPython\n",
        "from smart_open import open\n",
        "\n",
        "report_path = str(multitable._working_dir / multitable._synthetics_run.identifier / \"relational_report.html\")\n",
        "\n",
        "IPython.display.HTML(data=open(report_path).read())"
      ]
    },
    {
      "cell_type": "code",
      "execution_count": null,
      "metadata": {
        "cellView": "form",
        "id": "yGUxVzdlDqyg"
      },
      "outputs": [],
      "source": [
        "#@title Accessing Output Files\n",
        "#@markdown All of the Relational Synthetics output files can be found in your local working directory. Additionally, you can download the outputs as a single archive file from the Gretel Console using this URL:\n",
        "console_url = f\"https://console.gretel.ai/{multitable._project.name}/data_sources\"\n",
        "print(console_url)"
      ]
    },
    {
      "attachments": {},
      "cell_type": "markdown",
      "metadata": {
        "id": "R6uTKjYnhhx0"
      },
      "source": [
        "## [Optional] Save Synthesized Data to a Database"
      ]
    },
    {
      "cell_type": "code",
      "execution_count": null,
      "metadata": {
        "id": "T4f6hlvwhxoM"
      },
      "outputs": [],
      "source": [
        "output_db_path = \"synthetic_telecom.db\"\n",
        "output_conn = sqlite_conn(output_db_path)\n",
        "output_conn.save(\n",
        "    multitable.synthetic_output_tables,\n",
        "    prefix=\"synth_\"\n",
        "    )"
      ]
    }
  ],
  "metadata": {
    "colab": {
      "provenance": []
    },
    "gpuClass": "premium",
    "kernelspec": {
      "display_name": "Python 3",
      "language": "python",
      "name": "python3"
    },
    "language_info": {
      "codemirror_mode": {
        "name": "ipython",
        "version": 3
      },
      "file_extension": ".py",
      "mimetype": "text/x-python",
      "name": "python",
      "nbconvert_exporter": "python",
      "pygments_lexer": "ipython3",
      "version": "3.9.10 (main, Jun 23 2022, 15:36:57) \n[Clang 13.1.6 (clang-1316.0.21.2.5)]"
    },
    "vscode": {
      "interpreter": {
        "hash": "2bdb4985d2c4ccdd9da3d80dbbcd61329f4e8765a7715ea050d7419e0fe0515c"
      }
    }
  },
  "nbformat": 4,
  "nbformat_minor": 0
}
