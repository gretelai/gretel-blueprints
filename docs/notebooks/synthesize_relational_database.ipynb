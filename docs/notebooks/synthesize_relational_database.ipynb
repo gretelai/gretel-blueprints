{
  "cells": [
    {
      "cell_type": "markdown",
      "source": [
        "# Synthesize a Database with Gretel Relational\n",
        "\n",
        "This notebook uses Gretel Relational Synthetics to synthesize a sample telecommunications database. Try running the example below and compare the synthetic vs real world data for the example database. \n",
        "\n",
        "<img src=\"https://gretel-blueprints-pub.s3.us-west-2.amazonaws.com/rdb/telecom_db.png\"  width=\"70%\" height=\"70%\">"
      ],
      "metadata": {
        "id": "VQiqMoewdtmF"
      }
    },
    {
      "cell_type": "markdown",
      "source": [
        "## Getting Started"
      ],
      "metadata": {
        "id": "83KoGKH5eA-4"
      }
    },
    {
      "cell_type": "code",
      "execution_count": null,
      "metadata": {
        "collapsed": true,
        "id": "uu8M5yMc5DiT"
      },
      "outputs": [],
      "source": [
        "%%capture\n",
        "!pip install -U gretel-trainer"
      ]
    },
    {
      "cell_type": "code",
      "execution_count": null,
      "metadata": {
        "id": "RSvRE1X25DiW"
      },
      "outputs": [],
      "source": [
        "from gretel_trainer.relational import *"
      ]
    },
    {
      "cell_type": "code",
      "source": [
        "# Download sample database\n",
        "!wget https://gretel-blueprints-pub.s3.amazonaws.com/rdb/telecom.db"
      ],
      "metadata": {
        "id": "1zESRbHGy1tU"
      },
      "execution_count": null,
      "outputs": []
    },
    {
      "cell_type": "markdown",
      "source": [
        "## Define Source Data"
      ],
      "metadata": {
        "id": "6PM0dEEEsi4H"
      }
    },
    {
      "cell_type": "markdown",
      "source": [
        "### Input data via database connector"
      ],
      "metadata": {
        "id": "HM2KEgl3eMXb"
      }
    },
    {
      "cell_type": "code",
      "source": [
        "# Input data from database\n",
        "from gretel_trainer.relational import sqlite_conn\n",
        "\n",
        "db_path = \"telecom.db\"\n",
        "sqlite = sqlite_conn(path=db_path)\n",
        "relational_data = sqlite.extract()\n"
      ],
      "metadata": {
        "id": "Psa3cAaCshFq"
      },
      "execution_count": null,
      "outputs": []
    },
    {
      "cell_type": "markdown",
      "source": [
        "### Alternatively, manually define data from CSVs \n"
      ],
      "metadata": {
        "id": "Lsf3dqjzeP4p"
      }
    },
    {
      "cell_type": "code",
      "source": [
        "# @title\n",
        "# #Alternatively, manually define relational data\n",
        "# #Uncomment code to run\n",
        "\n",
        "\n",
        "# from gretel_trainer.relational import RelationalData\n",
        "# import pandas as pd\n",
        "\n",
        "# csv_dir = \"/content\"\n",
        "\n",
        "# tables = [\n",
        "#     #(\"table_name\", \"primary_key\")\n",
        "#     (\"account\", \"account_id\"),\n",
        "#     (\"client\", \"client_id\"),\n",
        "#     (\"invoice\", \"invoice_id\"),\n",
        "#     (\"location\", \"location_id\"),\n",
        "#     (\"payment\", \"payment_id\"),\n",
        "# ]\n",
        "\n",
        "# foreign_keys = [\n",
        "#     #(\"fkey_table.fkey\", \"pkey_table.pkey\")\n",
        "#     (\"account.client_id\", \"client.client_id\"),\n",
        "#     (\"location.client_id\", \"client.client_id\"),\n",
        "#     (\"invoice.account_id\", \"account.account_id\"),\n",
        "#     (\"payment.invoice_id\", \"invoice.invoice_id\"),\n",
        "# ]\n",
        "\n",
        "# relational_data = RelationalData()\n",
        "\n",
        "# for table, pk in tables:\n",
        "#     relational_data.add_table(name=table, primary_key=pk, data=pd.read_csv(f\"{csv_dir}/{table}.csv\"))\n",
        "\n",
        "# for fk, ref in foreign_keys:\n",
        "#     relational_data.add_foreign_key(foreign_key=fk, referencing=ref)"
      ],
      "metadata": {
        "id": "ODqYUAVBeEp2",
        "collapsed": true,
        "cellView": "form"
      },
      "execution_count": null,
      "outputs": []
    },
    {
      "cell_type": "code",
      "source": [
        "#@title Preview source data\n",
        "#@markdown #### Confirm referential integrety by joining two tables\n",
        "#@markdown Every record in the child table matches a distinct record in the parent table. Therefore, the number of records in the joined data will match the number of records in the child table.\n",
        "\n",
        "\n",
        "from IPython.display import display, HTML\n",
        "\n",
        "def join_tables(parent: str, child: str, relational_data=relational_data):\n",
        "  p_key = relational_data.get_primary_key(parent)\n",
        "  f_key = \"\"\n",
        "  for fk in relational_data.get_foreign_keys(child):\n",
        "    if fk.parent_table_name==parent:\n",
        "      f_key=fk.column_name\n",
        "    else:\n",
        "      logging.warning(\"The input parent and child table must be related.\")\n",
        "  \n",
        "  parent_df = relational_data.get_table_data(parent)\n",
        "  child_df = relational_data.get_table_data(child)\n",
        "\n",
        "  joined_data = child_df.merge(parent_df, how=\"left\", left_on=p_key, right_on=f_key)\n",
        "\n",
        "  print(f\"Number of records in {child} table:\\t {len(child_df)}\")\n",
        "  print(f\"Number of records in {parent} table:\\t {len(parent_df)}\")\n",
        "  print(f\"Number of records in joined data:\\t {len(joined_data)}\")\n",
        "\n",
        "  return joined_data.head()\n",
        "\n",
        "\n",
        "parent_table = \"client\" #@param {type:\"string\"}\n",
        "child_table = \"account\" #@param {type:\"string\"}\n",
        "\n",
        "print(\"\\033[1m Source Data: \\033[0m\")\n",
        "source_data = join_tables(parent_table, child_table)\n",
        "display(source_data)"
      ],
      "metadata": {
        "cellView": "form",
        "id": "fpEFMiWKCNgJ"
      },
      "execution_count": null,
      "outputs": []
    },
    {
      "cell_type": "markdown",
      "metadata": {
        "id": "uUf6n5K95DiX"
      },
      "source": [
        "## Set up Relational Model and Create Project\n",
        "\n",
        "During this step, you will be prompted to input your API key, which can be found in the [Gretel Console](https://console.gretel.ai/users/me/key).\n",
        "\n",
        "Relational Synthetics will use Amplify by default. Alternatively, you can set `gretel_model=\"actgan\"` or `gretel_model=\"lstm\"`. "
      ]
    },
    {
      "cell_type": "code",
      "execution_count": null,
      "metadata": {
        "id": "UURUHwED5DiZ"
      },
      "outputs": [],
      "source": [
        "from gretel_trainer.relational import MultiTable\n",
        "\n",
        "multitable = MultiTable(\n",
        "    relational_data,\n",
        "    project_display_name=\"Synthesize Telecom Database\",\n",
        "    #gretel_model=\"amplify\",\n",
        "    #refresh_interval=60\n",
        ")"
      ]
    },
    {
      "cell_type": "markdown",
      "metadata": {
        "id": "ubA2WBTGBFxs"
      },
      "source": [
        "## Synthesize Database"
      ]
    },
    {
      "cell_type": "code",
      "execution_count": null,
      "metadata": {
        "id": "NWEe445h5hIy"
      },
      "outputs": [],
      "source": [
        "multitable.train()"
      ]
    },
    {
      "cell_type": "code",
      "execution_count": null,
      "metadata": {
        "id": "lTPtgdNcBI7A"
      },
      "outputs": [],
      "source": [
        "multitable.generate(record_size_ratio=1)       # To adjust the amount of data generated, change record_size_ratio parameter\n",
        "    "
      ]
    },
    {
      "cell_type": "markdown",
      "metadata": {
        "id": "DUQDctnvBQbW"
      },
      "source": [
        "## View Results"
      ]
    },
    {
      "cell_type": "code",
      "source": [
        "#@title Compare an individual table\n",
        "table = \"payment\" #@param {type:\"string\"}\n",
        "from IPython.display import display, HTML\n",
        "\n",
        "\n",
        "source_table = multitable.relational_data.get_table_data(table).head(5)\n",
        "synth_table = multitable.synthetic_output_tables[table][source_table.columns].head(5)\n",
        "print(\"\\033[1m Source Table:\")\n",
        "display(source_table)\n",
        "print(\"\\n\\n\\033[1m Synthesized Table:\")\n",
        "display(synth_table)"
      ],
      "metadata": {
        "id": "ih0BXletmGKw",
        "collapsed": true,
        "cellView": "form"
      },
      "execution_count": null,
      "outputs": []
    },
    {
      "cell_type": "code",
      "source": [
        "#@title Examine joined tables to confirm referential integrity\n",
        "#@markdown As with the original data, every record in the synthesized child table matches a distinct record in its synthesized parent table. The number of records in the joined data matches the number of records in the child table, confirming referential integrity has been maintained in the synthetic database.\n",
        "import logging \n",
        "from IPython.display import display, HTML\n",
        "\n",
        "def join_synth_tables(parent: str, child: str, multitable=multitable): \n",
        "  p_key = multitable.relational_data.get_primary_key(parent)\n",
        "  f_key = \"\"\n",
        "  for fk in multitable.relational_data.get_foreign_keys(child):\n",
        "    if fk.parent_table_name==parent:\n",
        "      f_key=fk.column_name\n",
        "    else:\n",
        "      logging.warning(\"The input parent and child table must be related.\")\n",
        "  \n",
        "  parent_df = multitable.synthetic_output_tables[parent]\n",
        "  child_df = multitable.synthetic_output_tables[child]\n",
        "\n",
        "  joined_data = child_df.merge(parent_df, how=\"left\", left_on=p_key, right_on=f_key)\n",
        "\n",
        "  print(f\"Number of records in {child} table:\\t {len(child_df)}\")\n",
        "  print(f\"Number of records in {parent} table:\\t {len(parent_df)}\")\n",
        "  print(f\"Number of records in joined data:\\t {len(joined_data)}\")\n",
        "  return joined_data.head()\n",
        "\n",
        "\n",
        "parent_table = \"client\" #@param {type:\"string\"}\n",
        "child_table = \"account\" #@param {type:\"string\"}\n",
        "\n",
        "print(\"\\n\\n\\033[1m Synthesized Data:\\033[0m\")\n",
        "display(join_synth_tables(parent_table, child_table)[source_data.columns])"
      ],
      "metadata": {
        "cellView": "form",
        "id": "onQlVAPFIfwF"
      },
      "execution_count": null,
      "outputs": []
    },
    {
      "cell_type": "markdown",
      "source": [
        "### View Relational Synthetic Report"
      ],
      "metadata": {
        "id": "4NJPu4L0YF4J"
      }
    },
    {
      "cell_type": "code",
      "execution_count": null,
      "metadata": {
        "id": "hh9UESGCBTX4"
      },
      "outputs": [],
      "source": [
        "# View relational report\n",
        "import IPython\n",
        "from smart_open import open\n",
        "\n",
        "report_path = str(multitable._working_dir / multitable._synthetics_run.identifier / \"relational_report.html\")\n",
        "\n",
        "IPython.display.HTML(data=open(report_path).read())"
      ]
    },
    {
      "cell_type": "markdown",
      "source": [
        "## [Optional] Save Synthesized Data to a Database"
      ],
      "metadata": {
        "id": "R6uTKjYnhhx0"
      }
    },
    {
      "cell_type": "code",
      "source": [
        "output_db_path = \"synthetic_telecom.db\"\n",
        "output_conn = sqlite_conn(output_db_path)\n",
        "output_conn.save(\n",
        "    multitable.synthetic_output_tables,\n",
        "    prefix=\"synth_\"\n",
        "    )"
      ],
      "metadata": {
        "id": "T4f6hlvwhxoM"
      },
      "execution_count": null,
      "outputs": []
    }
  ],
  "metadata": {
    "colab": {
      "provenance": []
    },
    "kernelspec": {
      "display_name": "Python 3",
      "language": "python",
      "name": "python3"
    },
    "language_info": {
      "codemirror_mode": {
        "name": "ipython",
        "version": 3
      },
      "file_extension": ".py",
      "mimetype": "text/x-python",
      "name": "python",
      "nbconvert_exporter": "python",
      "pygments_lexer": "ipython3",
      "version": "3.9.10 (main, Jun 23 2022, 15:36:57) \n[Clang 13.1.6 (clang-1316.0.21.2.5)]"
    },
    "vscode": {
      "interpreter": {
        "hash": "2bdb4985d2c4ccdd9da3d80dbbcd61329f4e8765a7715ea050d7419e0fe0515c"
      }
    },
    "gpuClass": "premium"
  },
  "nbformat": 4,
  "nbformat_minor": 0
}