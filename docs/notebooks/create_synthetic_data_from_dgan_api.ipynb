{
  "cells": [
    {
      "cell_type": "markdown",
      "id": "NYS8U5A1KSFq",
      "metadata": {
        "id": "NYS8U5A1KSFq"
      },
      "source": [
        "**Creating Synthetic Time Series Data with DoppelGanger**\n",
        "\n",
        "\n",
        "This Blueprint demonstrates how to create synthetic time series data via Gretel API with DoppelGanger (DGAN). The notebook provides a step-by-step process on how to take a raw dataframe and generate high-quality synthetic time series data. Specifically, we take a dataset containing daily prices over the past 35 years of two different oils (WTI and Brent) and show how to:\n",
        "\n",
        "\n",
        "1.   Load and manipulate the dataset so that it is in the correct format for DGAN\n",
        "2.   Set up a training configuration file for the Gretel API \n",
        "3.   Submit the model for training and monitor status\n",
        "4.   Visuale and compare the synthetic and real data\n"
      ]
    },
    {
      "cell_type": "code",
      "execution_count": null,
      "id": "a513acf2",
      "metadata": {
        "id": "a513acf2"
      },
      "outputs": [],
      "source": [
        "# Install the required packages\n",
        "\n",
        "%%capture\n",
        "!pip install gretel_client pandas matplotlib numpy scipy torch"
      ]
    },
    {
      "cell_type": "code",
      "execution_count": null,
      "id": "e85467d2",
      "metadata": {
        "id": "e85467d2"
      },
      "outputs": [],
      "source": [
        "import math\n",
        "\n",
        "from typing import List, Optional\n",
        "\n",
        "import matplotlib.pyplot as plt\n",
        "import numpy as np\n",
        "import pandas as pd\n",
        "import plotly.graph_objects as go\n",
        "import torch\n",
        "import yaml\n",
        "\n",
        "from gretel_client import configure_session\n",
        "from gretel_client.helpers import poll\n",
        "from gretel_client.projects.projects import get_project\n",
        "from gretel_client.projects.models import read_model_config\n",
        "\n",
        "from plotly.subplots import make_subplots"
      ]
    },
    {
      "cell_type": "code",
      "execution_count": null,
      "id": "48d0e9f3",
      "metadata": {
        "id": "48d0e9f3"
      },
      "outputs": [],
      "source": [
        "# Specify your Gretel API Key\n",
        "configure_session(api_key=\"prompt\", cache=\"no\", validate=True)"
      ]
    },
    {
      "cell_type": "code",
      "execution_count": null,
      "id": "900e0942",
      "metadata": {
        "id": "900e0942"
      },
      "outputs": [],
      "source": [
        "# Download and load the oil data that we will generate synthetic data for\n",
        "\n",
        "def get_oil():\n",
        "    wti = pd.read_csv(\"https://datahub.io/core/oil-prices/r/wti-daily.csv\")\n",
        "    brent = pd.read_csv(\"https://datahub.io/core/oil-prices/r/brent-daily.csv\")\n",
        "    wti.columns = [\"Date\", \"WTI Price\"]\n",
        "    brent.columns = [\"Date\", \"Brent Price\"]\n",
        "    oil = wti.merge(brent)\n",
        "    return oil\n",
        "df = get_oil()\n",
        "df"
      ]
    },
    {
      "cell_type": "code",
      "execution_count": null,
      "id": "1ae3afb7",
      "metadata": {},
      "outputs": [],
      "source": [
        "# Plot entire 35 years of price history\n",
        "\n",
        "COLUMNS = [\"WTI Price\", \"Brent Price\"]\n",
        "TIME_COLUMN = \"Date\"\n",
        "MAX_SEQUENCE_LEN = 10\n",
        "\n",
        "\n",
        "for c in COLUMNS:\n",
        "    plt.plot(pd.to_datetime(df[TIME_COLUMN]), df[c])\n",
        "    plt.xlabel(\"Date\")\n",
        "    plt.ylabel(c)\n",
        "    plt.xticks(rotation=90)\n",
        "    plt.show()"
      ]
    },
    {
      "cell_type": "code",
      "execution_count": null,
      "id": "Mq5UOoAokH1W",
      "metadata": {
        "id": "Mq5UOoAokH1W"
      },
      "outputs": [],
      "source": [
        "# Plot several 10-day sequences from real data\n",
        "# These correspond to training examples for the DGAN model\n",
        "def plot_subsequence(df, max_sequence_len, index):\n",
        "    local_df = df.iloc[index * max_sequence_len:(index + 1) * max_sequence_len, :]\n",
        "\n",
        "    for c in COLUMNS:\n",
        "        plt.plot(local_df[TIME_COLUMN], local_df[c], label=c)\n",
        "    plt.legend()\n",
        "    plt.xlabel(\"Date\")\n",
        "    plt.ylabel(\"Price\")\n",
        "    plt.xticks(rotation=90)\n",
        "    plt.show()\n",
        "\n",
        "plot_subsequence(df, MAX_SEQUENCE_LEN, 20)\n",
        "plot_subsequence(df, MAX_SEQUENCE_LEN, 500)\n",
        "plot_subsequence(df, MAX_SEQUENCE_LEN, 731)"
      ]
    },
    {
      "cell_type": "code",
      "execution_count": null,
      "id": "112988bf",
      "metadata": {
        "id": "112988bf"
      },
      "outputs": [],
      "source": [
        "# Setup config and train model\n",
        "\n",
        "TMP_FILE = \"tmp_train.csv\"\n",
        "\n",
        "project = get_project(display_name=\"DGAN-oil\", create=True)\n",
        "\n",
        "print(f\"Follow model training at: {project.get_console_url()}\")\n",
        "\n",
        "CONFIG_STRING = \"\"\"\n",
        "schema_version: 1.0\n",
        "name: \"dgan-oil-data\"\n",
        "models:\n",
        "  - timeseries_dgan:\n",
        "        data_source: \"_\"\n",
        "        time_column: \"Date\"\n",
        "        df_style: \"long\"\n",
        "        params:\n",
        "            sample_len: 1\n",
        "            max_sequence_len: 10\n",
        "            feature_noise_dim: 32\n",
        "            feature_num_layers: 1\n",
        "            feature_num_units: 100\n",
        "            apply_feature_scaling: True\n",
        "            generator_learning_rate: 1e-5\n",
        "            discriminator_learning_rate: 1e-5\n",
        "            attribute_discriminator_learning_rate: 1e-5\n",
        "            batch_size: 100\n",
        "            epochs: 5000\n",
        "            apply_example_scaling: False\n",
        "            attribute_loss_coef: 10\n",
        "\"\"\"\n",
        "\n",
        "\n",
        "# TODO: Change to use config template once template is available.\n",
        "config = yaml.safe_load(CONFIG_STRING)\n",
        "#config = read_model_config(\"synthetics/dgan\")\n",
        "config[\"name\"] = \"dgan-oil-data\"\n",
        "config[\"models\"][0][\"timeseries_dgan\"][\"generate\"] = {\"num_records\": 10000}\n",
        "\n",
        "\n",
        "model = project.create_model_obj(model_config=config)\n",
        "\n",
        "df.to_csv(TMP_FILE, index=False)\n",
        "model.data_source = TMP_FILE\n",
        "\n",
        "model.submit(upload_data_source=True)\n",
        "\n",
        "poll(model)"
      ]
    },
    {
      "cell_type": "code",
      "execution_count": null,
      "id": "v9CVE9S7Sqam",
      "metadata": {
        "id": "v9CVE9S7Sqam"
      },
      "outputs": [],
      "source": [
        "# Read 10k synthetic examples\n",
        "synthetic_df = pd.read_csv(model.get_artifact_link(\"data_preview\"), compression=\"gzip\")\n",
        "synthetic_df"
      ]
    },
    {
      "cell_type": "code",
      "execution_count": null,
      "id": "cc2e3a58",
      "metadata": {},
      "outputs": [],
      "source": [
        "# Show first 20 rows of synthetic CSV\n",
        "synthetic_df[0:20]"
      ]
    },
    {
      "cell_type": "code",
      "execution_count": null,
      "id": "1ee1a5c7",
      "metadata": {},
      "outputs": [],
      "source": [
        "# Helper functions for plotting\n",
        "\n",
        "_GRETEL_PALETTE = [\"#A051FA\", \"#18E7AA\"]\n",
        "_GRAPH_OPACITY = 0.75\n",
        "_GRAPH_BARGAP = 0.2  # gap between bars of adjacent location coordinates\n",
        "_GRAPH_BARGROUPGAP = 0.1  # gap between bars of the same location coordinates\n",
        "\n",
        "\n",
        "def combine_subplots(\n",
        "    figures: List[go.Figure],\n",
        "    titles: List[str] = None,\n",
        "    subplot_type: str = \"xy\",\n",
        "    shared_xaxes=True,\n",
        "    shared_yaxes=True,\n",
        ") -> go.Figure:\n",
        "    \"\"\"\n",
        "    Take a list of go.Figures and make a single go.Figure out of them.  They will all be on one row.\n",
        "    Args:\n",
        "        figures: List of go.Figures to combine.\n",
        "        titles: List of subplot titles, must be same length as number of traces.\n",
        "        subplot_type: see https://plotly.com/python/subplots/#subplots-types,\n",
        "        shared_xaxes: Passed into plotly make_subplots call, see\n",
        "            https://plotly.com/python-api-reference/generated/plotly.subplots.make_subplots.html\n",
        "        shared_yaxes: Passed into plotly make_subplots call, see\n",
        "            https://plotly.com/python-api-reference/generated/plotly.subplots.make_subplots.html\n",
        "    Returns:\n",
        "        a single new plotly.graph_objects.Figure.\n",
        "    \"\"\"\n",
        "    specs = [[{\"type\": subplot_type}] * len(figures)]\n",
        "\n",
        "    fig = make_subplots(\n",
        "        rows=1,\n",
        "        cols=len(figures),\n",
        "        specs=specs,\n",
        "        shared_xaxes=shared_xaxes,\n",
        "        shared_yaxes=shared_yaxes,\n",
        "        subplot_titles=titles,\n",
        "    )\n",
        "    for i, f in enumerate(figures):\n",
        "        for t in f.select_traces():\n",
        "            fig.add_trace(trace=t, row=1, col=i + 1)\n",
        "        fig.layout.update(f.layout)\n",
        "    return fig\n",
        "\n",
        "def correlation_heatmap(matrix: pd.DataFrame, name: str = \"Correlation\") -> go.Figure:\n",
        "    \"\"\"\n",
        "    Generate the figure for a list of correlation matrices.\n",
        "    Arguments:\n",
        "        matrix: The correlation matrix computed by dython.\n",
        "        name: Name to use in add_trace.\n",
        "    Returns:\n",
        "        A plotly.graph_objects.Figure, a subplot with heatmaps.\n",
        "    \"\"\"\n",
        "    fig = go.Figure()\n",
        "    fields = [x if len(x) <= 15 else x[0:14] + \"...\" for x in matrix.columns]\n",
        "    fig.add_trace(\n",
        "        go.Heatmap(\n",
        "            z=matrix,\n",
        "            y=fields,\n",
        "            x=fields,\n",
        "            xgap=1,\n",
        "            ygap=1,\n",
        "            coloraxis=\"coloraxis\",\n",
        "            name=name,\n",
        "        )\n",
        "    )\n",
        "    fig.update_layout(\n",
        "        coloraxis=dict(\n",
        "            colorscale=[\n",
        "                [0.0, \"#E8F3C6\"],\n",
        "                [0.25, \"#94E2BA\"],\n",
        "                [0.5, \"#31B8C0\"],\n",
        "                [0.75, \"#4F78B3\"],\n",
        "                [1.0, \"#76137F\"],\n",
        "            ],\n",
        "            cmax=1.0,\n",
        "            cmin=0,\n",
        "        ),\n",
        "        showlegend=True,\n",
        "        xaxis=dict(visible=False),\n",
        "        yaxis=dict(visible=False),\n",
        "    )\n",
        "    fig.update_yaxes(dtick=1)\n",
        "    return fig\n",
        "\n",
        "def histogram(left: pd.Series, right: pd.Series) -> Optional[go.Figure]:\n",
        "    \"\"\"\n",
        "    Generate a histogram distplot for a numeric distribution.\n",
        "    Arguments:\n",
        "        left: The left pd.Series for which we make the histogram.\n",
        "        right: The right pd.Series for which we make the histogram.\n",
        "    Returns:\n",
        "        A plotly.graph_objects.Figure\n",
        "    \"\"\"\n",
        "    fig = go.Figure()\n",
        "    fig.update_layout(\n",
        "        yaxis_title_text=\"Percentage\",\n",
        "        bargap=_GRAPH_BARGAP,\n",
        "        bargroupgap=_GRAPH_BARGROUPGAP,\n",
        "        showlegend=False,\n",
        "    )\n",
        "\n",
        "    left_copy = pd.Series(left)\n",
        "    left_copy.dropna(inplace=True)\n",
        "    right_copy = pd.Series(right)\n",
        "    right_copy.dropna(inplace=True)\n",
        "\n",
        "    if len(left_copy) == 0 or len(right_copy) == 0:\n",
        "        return fig\n",
        "\n",
        "    q1 = np.quantile(left_copy, 0.25)\n",
        "    q3 = np.quantile(left_copy, 0.75)\n",
        "    iqr = q3 - q1\n",
        "    max_range = min(max(left_copy), (q3 + (1.5 * iqr)))\n",
        "    min_range = max(min(left_copy), (q1 - (1.5 * iqr)))\n",
        "\n",
        "    filtered_left_copy = [i for i in left_copy if min_range <= i <= max_range]\n",
        "    filtered_right_copy = [i for i in right_copy if min_range <= i <= max_range]\n",
        "    binsize = (max_range - min_range) / 30\n",
        "\n",
        "    fig.add_trace(\n",
        "        go.Histogram(\n",
        "            x=filtered_left_copy,\n",
        "            histnorm=\"percent\",\n",
        "            name=\"Training\",\n",
        "            xbins=dict(start=min_range, end=max_range, size=binsize),\n",
        "            marker=dict(color=_GRETEL_PALETTE[0]),\n",
        "            opacity=_GRAPH_OPACITY,\n",
        "            hovertemplate=\"(%{x}, %{y:.2f})\",\n",
        "        )\n",
        "    )\n",
        "    fig.add_trace(\n",
        "        go.Histogram(\n",
        "            x=filtered_right_copy,\n",
        "            histnorm=\"percent\",\n",
        "            name=\"Synthetic\",\n",
        "            xbins=dict(start=min_range, end=max_range, size=binsize),\n",
        "            marker=dict(color=_GRETEL_PALETTE[1]),\n",
        "            opacity=_GRAPH_OPACITY,\n",
        "            hovertemplate=\"(%{x}, %{y:.2f})\",\n",
        "        )\n",
        "    )\n",
        "    return fig\n"
      ]
    },
    {
      "cell_type": "code",
      "execution_count": null,
      "id": "1bfac4a5",
      "metadata": {
        "id": "1bfac4a5"
      },
      "outputs": [],
      "source": [
        "# Compare correlations between variables in the real and synthetic data\n",
        "print(\"Difference in real correlations and synethic data correlations:\")\n",
        "correlation_heatmap(df[COLUMNS].corr() - synthetic_df[COLUMNS].corr())"
      ]
    },
    {
      "cell_type": "code",
      "execution_count": null,
      "id": "0FmWGdwkgmlD",
      "metadata": {
        "id": "0FmWGdwkgmlD"
      },
      "outputs": [],
      "source": [
        "# Plot histograms of the distribution of values within each column\n",
        "h1 = histogram(df['WTI Price'], synthetic_df['WTI Price'])\n",
        "h2 = histogram(df['Brent Price'], synthetic_df['Brent Price'])\n",
        "combine_subplots(\n",
        "    figures=[h1, h2],\n",
        "    titles=['WTI Price', 'Brent Price'],\n",
        "    subplot_type = \"xy\",\n",
        "    shared_xaxes=True,\n",
        "    shared_yaxes=True,\n",
        ")\n"
      ]
    },
    {
      "cell_type": "code",
      "execution_count": null,
      "id": "095ed91d",
      "metadata": {
        "id": "095ed91d"
      },
      "outputs": [],
      "source": [
        "# Functions to calculate autocorrelation\n",
        "def autocorr(X, Y):\n",
        "    EPS = 1e-8\n",
        "    Xm = torch.mean(X, 1).unsqueeze(1)\n",
        "    Ym = torch.mean(Y, 1).unsqueeze(1)\n",
        "    r_num = torch.sum((X - Xm) * (Y - Ym), 1)\n",
        "    r_den = torch.sqrt(torch.sum((X - Xm)**2, 1) * torch.sum((Y - Ym)**2, 1))\n",
        "\n",
        "    r_num[r_num == 0] = EPS\n",
        "    r_den[r_den == 0] = EPS\n",
        "\n",
        "    r = r_num / r_den\n",
        "    r[r > 1] = 0\n",
        "    r[r < -1] = 0\n",
        "\n",
        "    return r\n",
        "    \n",
        "def get_autocorr(feature):\n",
        "    feature = torch.from_numpy(feature)\n",
        "    feature_length = feature.shape[1]\n",
        "    autocorr_vec = torch.Tensor(feature_length-2)\n",
        "\n",
        "    for j in range(1, feature_length - 1):\n",
        "      autocorr_vec[j - 1] = torch.mean(autocorr(feature[:, :-j], feature[:, j:]))\n",
        "\n",
        "    return autocorr_vec.cpu().detach().numpy()\n",
        "\n",
        "def generate_numpy_for_autocorr(df, batch_size):\n",
        "    features = df[COLUMNS].to_numpy()\n",
        "    n = features.shape[0] // batch_size\n",
        "\n",
        "    # Shape is now (# examples, # time points, # features)\n",
        "    features = features[:(n*batch_size),:].reshape(-1, batch_size, features.shape[1])\n",
        "    return features"
      ]
    },
    {
      "cell_type": "code",
      "execution_count": null,
      "id": "9bb282d0",
      "metadata": {
        "id": "9bb282d0"
      },
      "outputs": [],
      "source": [
        "# Generate autocorrelations from synthetic and real data and plot\n",
        "\n",
        "synthetic_acf = get_autocorr(generate_numpy_for_autocorr(df, MAX_SEQUENCE_LEN))\n",
        "acf = get_autocorr(generate_numpy_for_autocorr(synthetic_df, MAX_SEQUENCE_LEN))\n",
        "# Figure 1, autocorrelation\n",
        "plt.plot(acf, label=\"real\", color=_GRETEL_PALETTE[0])\n",
        "plt.plot(synthetic_acf, label=\"generated\", color=_GRETEL_PALETTE[1])\n",
        "plt.xlabel(\"Time lag (days)\")\n",
        "plt.ylabel(\"Autocorrelation\")\n",
        "plt.title(\"Autocorrelation of Oil Prices\")\n",
        "plt.legend()\n",
        "plt.show()"
      ]
    },
    {
      "cell_type": "code",
      "execution_count": null,
      "id": "rtr7B7vx72lN",
      "metadata": {
        "id": "rtr7B7vx72lN"
      },
      "outputs": [],
      "source": [
        "# Plot several 10-day sequences from synthetic data\n",
        "\n",
        "plot_subsequence(synthetic_df, MAX_SEQUENCE_LEN, 5)\n",
        "plot_subsequence(synthetic_df, MAX_SEQUENCE_LEN, 5000)\n",
        "plot_subsequence(synthetic_df, MAX_SEQUENCE_LEN, 9121)\n"
      ]
    }
  ],
  "metadata": {
    "colab": {
      "collapsed_sections": [],
      "provenance": []
    },
    "kernelspec": {
      "display_name": "Python 3.9.10 64-bit ('3.9.10')",
      "language": "python",
      "name": "python3"
    },
    "language_info": {
      "codemirror_mode": {
        "name": "ipython",
        "version": 3
      },
      "file_extension": ".py",
      "mimetype": "text/x-python",
      "name": "python",
      "nbconvert_exporter": "python",
      "pygments_lexer": "ipython3",
      "version": "3.9.10"
    },
    "vscode": {
      "interpreter": {
        "hash": "3fd0c0a87a3a572db3b40d0dff57892877a1d66b54da0444c96f84d76fdc4f04"
      }
    }
  },
  "nbformat": 4,
  "nbformat_minor": 5
}
