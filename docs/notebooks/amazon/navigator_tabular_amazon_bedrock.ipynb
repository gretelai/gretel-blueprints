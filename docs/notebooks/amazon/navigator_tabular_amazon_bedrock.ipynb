{
 "cells": [
  {
   "cell_type": "markdown",
   "metadata": {},
   "source": [
    "<a target=\"_parent\" href=\"https://colab.research.google.com/github/gretelai/gretel-blueprints/blob/main/docs/notebooks/amazon/navigator_tabular_aws_bedrock.ipynb\">\n",
    "  <img src=\"https://colab.research.google.com/assets/colab-badge.svg\" alt=\"Open In Colab\"/>\n",
    "</a>"
   ]
  },
  {
   "attachments": {},
   "cell_type": "markdown",
   "metadata": {},
   "source": [
    "# Gretel Navigator Tabular on Amazon Bedrock\n",
    "\n",
    "This Notebook will walk you through deploying Gretel Navigator Tabular as a Bedrock Marketplace Model. You can deploy Gretel Navigator as an endpoint in Bedrock and interact with the model using the Gretel SDK.\n",
    "\n",
    "This Notebook will walk you through the following steps:\n",
    "\n",
    "* Deploy Gretel Navigator Tabular on AWS Bedrock\n",
    "* Install and configure the Gretel SDK\n",
    "* Generate synthetic data with the Gretel SDK and the Bedrock Endpoint\n",
    "* Edit and augment existing data with the Gretel SDK and the Bedrock Endpoint"
   ]
  },
  {
   "cell_type": "markdown",
   "metadata": {},
   "source": [
    "# Deploy Gretel Navigator\n",
    "\n",
    "To get started, visit the [AWS Bedrock homepage](https://us-west-2.console.aws.amazon.com/bedrock/home?region=us-west-2#/) in the AWS Console. In this example we'll be using `us-west-2`."
   ]
  },
  {
   "attachments": {},
   "cell_type": "markdown",
   "metadata": {},
   "source": [
    "1. Under **Foundation Models**, select **Model Catalog**:\n",
    "\n",
    "<img src=\"https://gretel-blueprints-pub.s3.us-west-2.amazonaws.com/navigator_bedrock/1_model-catalog.png\" alt=\"Model Catalog\" width=\"70%\">\n",
    "\n",
    "2. Under **Providers** on the left side, select **Gretel**:\n",
    "\n",
    "<img src=\"https://gretel-blueprints-pub.s3.us-west-2.amazonaws.com/navigator_bedrock/2_providers.png\" alt=\"Provider\" width=\"70%\">\n",
    "\n",
    "4. Click on **View subscription options**:\n",
    "\n",
    "<img src=\"https://gretel-blueprints-pub.s3.us-west-2.amazonaws.com/navigator_bedrock/3_subscription-options.png\" alt=\"Subscription Options\" width=\"70%\">\n",
    "\n",
    "\n",
    "6. Click on **Subscribe**:\n",
    "\n",
    "<img src=\"https://gretel-blueprints-pub.s3.us-west-2.amazonaws.com/navigator_bedrock/4_subscribe.png\" alt=\"Subscribe\" width=\"60%\">\n",
    "\n",
    "\n",
    "8. Wait for the subscription to complete:\n",
    "\n",
    "<img src=\"https://gretel-blueprints-pub.s3.us-west-2.amazonaws.com/navigator_bedrock/5_subscription_complete.png\" alt=\"Subscription Complete\" width=\"70%\">\n",
    "\n",
    "\n",
    "10. Once the subscription is complete, click **Deploy**:\n",
    "\n",
    "<img src=\"https://gretel-blueprints-pub.s3.us-west-2.amazonaws.com/navigator_bedrock/6_deploy.png\" alt=\"Deploy\" width=\"70%\">\n",
    "\n",
    "\n",
    "12. You should reach a configuration screen like below. For this example, we will use the defaults. Update the fields for your use case and modify the **Advanced Settings** as required.\n",
    "\n",
    "\n",
    "When you are done with the configuration, click the **Deploy** button on the bottom right.\n",
    "\n",
    "<img src=\"https://gretel-blueprints-pub.s3.us-west-2.amazonaws.com/navigator_bedrock/7_config_deploy.png\" alt=\"Configure and Deploy\" width=\"70%\">\n",
    "\n",
    "\n",
    "8. Remain on the page, and you should eventually see something like this:\n",
    "\n",
    "<img src=\"https://gretel-blueprints-pub.s3.us-west-2.amazonaws.com/navigator_bedrock/8_in_progress.png\" alt=\"Deployment Progress\" width=\"70%\">\n",
    "\n",
    "\n",
    "Wait for the model to deploy and the **Endpoint status** to change from **Creating** to **In Service**"
   ]
  },
  {
   "cell_type": "markdown",
   "metadata": {},
   "source": [
    "# Setup"
   ]
  },
  {
   "cell_type": "markdown",
   "metadata": {},
   "source": [
    "From the **Marketplace deployments** page (see above). Retrieve the **Endpoint Name (ARN)** and set the variable below."
   ]
  },
  {
   "cell_type": "code",
   "execution_count": null,
   "metadata": {},
   "outputs": [],
   "source": [
    "# Install the Gretel SDK and boto3 (if you do not already have it)\n",
    "\n",
    "!pip install -U -qq gretel-client boto3"
   ]
  },
  {
   "cell_type": "code",
   "execution_count": null,
   "metadata": {},
   "outputs": [],
   "source": [
    "# Import required libraries\n",
    "import boto3\n",
    "import os\n",
    "from getpass import getpass"
   ]
  },
  {
   "cell_type": "code",
   "execution_count": null,
   "metadata": {},
   "outputs": [],
   "source": [
    "# If you'd prefer to use a profile, uncomment these lines and comment out the getpass cell below\n",
    "\n",
    "# AWS Metadata - set these based on your deployment and AWS account\n",
    "# ENDPOINT_NAME = \"arn:aws:sagemaker:us-east-2:298655852039:endpoint/endpoint-quick-start-uvzqj\"\n",
    "## AWS_PROFILE = \"marketplace-ops.poweruser\"\n",
    "\n",
    "# AWS_REGION = \"us-west-2\""
   ]
  },
  {
   "cell_type": "code",
   "execution_count": null,
   "metadata": {},
   "outputs": [],
   "source": [
    "# Set region and get credentials securely\n",
    "default_region = \"us-east-1\"\n",
    "AWS_ACCESS_KEY = getpass(\"AWS Access key: \")\n",
    "AWS_SECRET_KEY = getpass(\"AWS Secret key: \")\n",
    "AWS_SESSION_TOKEN = getpass(\"AWS Session token (press Enter if not using temporary credentials): \") or None\n",
    "AWS_REGION = input(f\"AWS Region [default: {default_region}]: \") or default_region\n",
    "ENDPOINT_NAME = input(\"Endpoint name: \")\n",
    "\n",
    "# Initialize the boto3 client with explicit credentials\n",
    "bedrock_client = boto3.client(\n",
    "    service_name=\"bedrock-runtime\",\n",
    "    region_name=AWS_REGION,\n",
    "    aws_access_key_id=AWS_ACCESS_KEY,\n",
    "    aws_secret_access_key=AWS_SECRET_KEY,\n",
    "    aws_session_token=AWS_SESSION_TOKEN if AWS_SESSION_TOKEN else None\n",
    ")"
   ]
  },
  {
   "cell_type": "code",
   "execution_count": null,
   "metadata": {},
   "outputs": [],
   "source": [
    "# Create a Bedrock Adapter using the Gretel SDK\n",
    "\n",
    "from gretel_client import Gretel\n",
    "\n",
    "bedrock = Gretel.create_navigator_bedrock_adapter(bedrock_client, ENDPOINT_NAME)"
   ]
  },
  {
   "cell_type": "markdown",
   "metadata": {},
   "source": [
    "# Generate and Augment Datasets using Gretel Navigator\n",
    "\n",
    "Alright, we're now ready to start creating data! We'll first generate some data using a single prompt, and then we'll add a couple of new columns. Try out some of your own prompts to see how it works."
   ]
  },
  {
   "cell_type": "code",
   "execution_count": null,
   "metadata": {},
   "outputs": [],
   "source": [
    "# First we'll generate some data from only a prompt. We provide a prompt and some existing sample data to guide the generation process.\n",
    "\n",
    "import pandas as pd\n",
    "\n",
    "PROMPT = \"\"\"Generate a mock dataset for users from the Foo company based in France.\n",
    "Each user should have the following columns:\n",
    "* first_name: traditional French first names.\n",
    "* last_name: traditional French surnames.\n",
    "* email: formatted as the first letter of their first name followed by their last name @foo.io (e.g., jdupont@foo.io)\n",
    "* gender: Male/Female\n",
    "* city: a city in France\n",
    "* country: always 'France'.\n",
    "\"\"\"\n",
    "\n",
    "table_headers = [\"first_name\", \"last_name\", \"email\", \"gender\", \"city\", \"country\"]\n",
    "table_data = [\n",
    "    {\n",
    "        \"first_name\": \"Lea\",\n",
    "        \"last_name\": \"Martin\",\n",
    "        \"email\": \"lmartin@foo.io\",\n",
    "        \"gender\": \"Female\",\n",
    "        \"city\": \"Lyon\",\n",
    "        \"country\": \"France\",\n",
    "    }\n",
    "]\n",
    "\n",
    "SAMPLE_DATA = pd.DataFrame(table_data, columns=table_headers)\n",
    "\n",
    "metadata, synthetic_df = bedrock.generate(\n",
    "    \"gretelai/auto\",\n",
    "    PROMPT,\n",
    "    num_records=10,\n",
    "    sample_data=SAMPLE_DATA,\n",
    ")\n",
    "\n",
    "print(synthetic_df)\n",
    "print(\"*******\")\n",
    "print(metadata)\n"
   ]
  },
  {
   "cell_type": "code",
   "execution_count": null,
   "metadata": {},
   "outputs": [],
   "source": [
    "# Finally, we'll demonstrate Navigator's edit mode, which can augment existing datasets. In this example we'll take our previously\n",
    "# generated Synthetic DF and ask Navigator to augment it with new columns.\n",
    "\n",
    "EDIT_PROMPT = \"\"\"Edit the table and add the following columns:\n",
    "* occupation: a random occupation\n",
    "* education level: make it relevant to the occupation\n",
    "\"\"\"\n",
    "\n",
    "metadata, augmented_df = bedrock.edit(\n",
    "    \"gretelai/auto\",\n",
    "    EDIT_PROMPT,\n",
    "    seed_data=synthetic_df\n",
    ")\n",
    "\n",
    "print(augmented_df)\n",
    "print(\"*******\")\n",
    "print(metadata)"
   ]
  }
 ],
 "metadata": {
  "kernelspec": {
   "display_name": "Python 3 (ipykernel)",
   "language": "python",
   "name": "python3"
  },
  "language_info": {
   "codemirror_mode": {
    "name": "ipython",
    "version": 3
   },
   "file_extension": ".py",
   "mimetype": "text/x-python",
   "name": "python",
   "nbconvert_exporter": "python",
   "pygments_lexer": "ipython3",
   "version": "3.12.5"
  }
 },
 "nbformat": 4,
 "nbformat_minor": 4
}
