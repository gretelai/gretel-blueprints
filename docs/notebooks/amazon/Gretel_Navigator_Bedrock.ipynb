{
 "cells": [
  {
   "cell_type": "markdown",
   "metadata": {},
   "source": [
    "# Navigator in Bedrock with the Gretel SDK"
   ]
  },
  {
   "cell_type": "markdown",
   "metadata": {},
   "source": [
    "In this blueprint, we'll be able to make requests to a OpenAI compliant Navigator hosted within Amazon Bedrock."
   ]
  },
  {
   "cell_type": "code",
   "execution_count": null,
   "metadata": {},
   "outputs": [],
   "source": [
    "%%capture\n",
    "!pip install gretel-client"
   ]
  },
  {
   "cell_type": "code",
   "execution_count": 1,
   "metadata": {},
   "outputs": [],
   "source": [
    "import pandas as pd\n",
    "\n",
    "from gretel_client import Gretel\n",
    "\n",
    "PROMPT = \"\"\"Generate a mock dataset for users from the Foo company based in France.\n",
    "Each user should have the following columns:\n",
    "* first_name: traditional French first names.\n",
    "* last_name: traditional French surnames. \n",
    "* email: formatted as the first letter of their first name followed by their last name @foo.io (e.g., jdupont@foo.io)\n",
    "* gender: Male/Female\n",
    "* city: a city in France\n",
    "* country: always 'France'.\n",
    "\"\"\"\n",
    "\n",
    "EDIT_PROMPT = \"\"\"Edit the table and add the following columns:\n",
    "* occupation: a random occupation\n",
    "* education level: make it relevant to the occupation\n",
    "\"\"\"\n",
    "\n",
    "table_headers = [\"first_name\", \"last_name\", \"email\", \"gender\", \"city\", \"country\"]\n",
    "table_data = [\n",
    "    {\n",
    "        \"first_name\": \"Lea\",\n",
    "        \"last_name\": \"Martin\",\n",
    "        \"email\": \"lmartin@foo.io\",\n",
    "        \"gender\": \"Female\",\n",
    "        \"city\": \"Lyon\",\n",
    "        \"country\": \"France\",\n",
    "    }\n",
    "]\n",
    "\n",
    "SAMPLE_DATA = pd.DataFrame(table_data, columns=table_headers)\n",
    "\n",
    "STREAM = True"
   ]
  },
  {
   "cell_type": "markdown",
   "metadata": {},
   "source": [
    "## AWS"
   ]
  },
  {
   "cell_type": "markdown",
   "metadata": {},
   "source": [
    "The first step will be standing up Gretel Navigator in your region. The short list of steps\n",
    "1. Navigate to the [Gretel Navigator Bedrock Offering](https://us-east-1.console.aws.amazon.com/bedrock/home?region=us-east-1#/model-catalog/bedrock-marketplace/gretel-navigator-tabular) and change your region as appropriate\n",
    "1. Subscribe to the offering\n",
    "1. Click the deploy button and deploy, changing what you might need as appropriate\n",
    "\n",
    "Once that's done, you'll need to update the following in the below script\n",
    "* Profile name\n",
    "* Bedrock endpoint ARN\n",
    "* AWS region"
   ]
  },
  {
   "cell_type": "code",
   "execution_count": null,
   "metadata": {},
   "outputs": [
    {
     "name": "stderr",
     "output_type": "stream",
     "text": [
      "Generating data: 100%|██████████| 10/10 [00:22, 0.44 records/s]"
     ]
    },
    {
     "name": "stdout",
     "output_type": "stream",
     "text": [
      "  first_name  last_name              email  gender         city country\n",
      "0   Aurélien  Guillaume  aguillaume@foo.io    Male    Marseille  France\n",
      "1        Léa     Dupont     ldupont@foo.io  Female        Paris  France\n",
      "2     Pierre   Lefebvre    plefevre@foo.io    Male     Toulouse  France\n",
      "3     Cécile   Marchand   cmarchand@foo.io  Female         Lyon  France\n",
      "4     Julien     Dubois     jdubois@foo.io    Male         Nice  France\n",
      "5     Sophie  Delacroix  sdelacroix@foo.io  Female     Bordeaux  France\n",
      "6    Laurent   Fournier   lfournier@foo.io    Male        Reims  France\n",
      "7      Adèle    Garnier    agarnier@foo.io  Female       Nantes  France\n",
      "8    Olivier       Roux       oroux@foo.io    Male   Strasbourg  France\n",
      "9      Anaïs    Lavalle    alavalle@foo.io  Female  Montpellier  France\n",
      "*****\n",
      "ResponseMetadata(completion_id='2860b211-bbb6-4793-9cf7-054f300d072c', usage={'completion_tokens': 548, 'prompt_tokens': 99, 'total_tokens': 647, 'completion_tokens_details': None, 'prompt_tokens_details': None, 'input_bytes': 399, 'output_bytes': 2192, 'total_bytes': 2591, 'billed_bytes': 2600, 'billed_credits': 0.026}, model_id=None)\n"
     ]
    },
    {
     "name": "stderr",
     "output_type": "stream",
     "text": [
      "\n"
     ]
    }
   ],
   "source": [
    "import boto3\n",
    "\n",
    "# Update the below as needed\n",
    "profile_name = \"my-profile\"\n",
    "endpoint_arn = \"arn:aws:sagemaker:us-east-1:1234567891011:endpoint/Gretel-Navigator-Tabular\"\n",
    "aws_region = \"us-east-1\"\n",
    "\n",
    "boto3.setup_default_session(profile_name=profile_name)\n",
    "\n",
    "sagemaker_client = boto3.client(\"bedrock-runtime\", region_name=aws_region)\n",
    "\n",
    "sagemaker = Gretel.create_navigator_bedrock_adapter(sagemaker_client, endpoint_arn)\n",
    "\n",
    "MODEL = \"gretelai/auto\"\n",
    "\n",
    "usage, generated_df = sagemaker.generate(\n",
    "    MODEL,\n",
    "    PROMPT,\n",
    "    num_records=10,\n",
    "    sample_data=SAMPLE_DATA,\n",
    "    stream=STREAM,\n",
    ")\n",
    "\n",
    "print(generated_df)\n",
    "print(\"*****\")\n",
    "print(usage)"
   ]
  },
  {
   "cell_type": "code",
   "execution_count": 4,
   "metadata": {},
   "outputs": [
    {
     "name": "stderr",
     "output_type": "stream",
     "text": [
      "Editing data: 100%|██████████| 10/10 [00:11, 0.83 records/s]"
     ]
    },
    {
     "name": "stdout",
     "output_type": "stream",
     "text": [
      "  first_name  last_name              email  gender         city country  \\\n",
      "0   Aurélien  Guillaume  aguillaume@foo.io    Male    Marseille  France   \n",
      "1        Léa     Dupont     ldupont@foo.io  Female        Paris  France   \n",
      "2     Pierre   Lefebvre    plefevre@foo.io    Male     Toulouse  France   \n",
      "3     Cécile   Marchand   cmarchand@foo.io  Female         Lyon  France   \n",
      "4     Julien     Dubois     jdubois@foo.io    Male         Nice  France   \n",
      "5     Sophie  Delacroix  sdelacroix@foo.io  Female     Bordeaux  France   \n",
      "6    Laurent   Fournier   lfournier@foo.io    Male        Reims  France   \n",
      "7      Adèle    Garnier    agarnier@foo.io  Female       Nantes  France   \n",
      "8    Olivier       Roux       oroux@foo.io    Male   Strasbourg  France   \n",
      "9      Anaïs    Lavalle    alavalle@foo.io  Female  Montpellier  France   \n",
      "\n",
      "       occupation              education level  \n",
      "0  Data Scientist              Master's Degree  \n",
      "1         Teacher            Bachelor's Degree  \n",
      "2        Engineer              Master's Degree  \n",
      "3          Doctor                          PhD  \n",
      "4            Chef    Diplôme d'État de Cuisine  \n",
      "5          Lawyer                 Juris Doctor  \n",
      "6      Programmer            Bachelor's Degree  \n",
      "7           Nurse  Diplôme d'État d'Infirmière  \n",
      "8       Architect              Master's Degree  \n",
      "9      Journalist            Bachelor's Degree  \n",
      "*****\n",
      "ResponseMetadata(completion_id='e3f8c67c-e46c-4d1e-84b1-a089f4add347', usage={'completion_tokens': 778, 'prompt_tokens': 33, 'total_tokens': 811, 'completion_tokens_details': None, 'prompt_tokens_details': None, 'input_bytes': 134, 'output_bytes': 3114, 'total_bytes': 3248, 'billed_bytes': 3250, 'billed_credits': 0.0325}, model_id=None)\n"
     ]
    },
    {
     "name": "stderr",
     "output_type": "stream",
     "text": [
      "\n"
     ]
    }
   ],
   "source": [
    "# Edit!\n",
    "usage, edited_df = sagemaker.edit(\n",
    "    MODEL,\n",
    "    EDIT_PROMPT,\n",
    "    seed_data=generated_df,\n",
    "    stream=STREAM\n",
    ")\n",
    "print(edited_df)\n",
    "print(\"*****\")\n",
    "print(usage)"
   ]
  }
 ],
 "metadata": {
  "kernelspec": {
   "display_name": "Python 3",
   "language": "python",
   "name": "python3"
  },
  "language_info": {
   "codemirror_mode": {
    "name": "ipython",
    "version": 3
   },
   "file_extension": ".py",
   "mimetype": "text/x-python",
   "name": "python",
   "nbconvert_exporter": "python",
   "pygments_lexer": "ipython3",
   "version": "3.9.16"
  }
 },
 "nbformat": 4,
 "nbformat_minor": 2
}
