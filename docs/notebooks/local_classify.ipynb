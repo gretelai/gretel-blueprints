{
 "cells": [
  {
   "cell_type": "markdown",
   "metadata": {},
   "source": [
    "## Classify and label content locally\n",
    "\n",
    "This notebook walks through training a classification model and labeling PII locally in your environment.\n",
    "\n",
    "Follow the instructions here to set up your local environment: https://docs.gretel.ai/environment-setup\n",
    "\n",
    "Prerequisites:\n",
    "\n",
    "- Python 3.9+ (`python --version`).\n",
    "- Ensure that Docker is running (`docker info`).\n",
    "- The Gretel client SDK is installed and configured (`pip install -U gretel-client; gretel configure`).\n"
   ]
  },
  {
   "cell_type": "code",
   "execution_count": null,
   "metadata": {
    "id": "ZLAlOI5f_zh2"
   },
   "outputs": [],
   "source": [
    "import json\n",
    "\n",
    "import yaml\n",
    "from smart_open import open\n",
    "import pandas as pd\n",
    "\n",
    "from gretel_client import submit_docker_local\n",
    "from gretel_client.projects import create_or_get_unique_project\n",
    "\n",
    "data_source = \"https://gretel-public-website.s3.us-west-2.amazonaws.com/datasets/example-datasets/bike-customer-orders.csv\"\n",
    "\n",
    "# Policy to search for sensitive data\n",
    "# including a custom regular expression based search\n",
    "config = \"\"\"\n",
    "schema_version: 1.0\n",
    "models:\n",
    "  - classify:\n",
    "      data_source: \"_\"\n",
    "      labels:\n",
    "        - person_name\n",
    "        - location\n",
    "        - phone_number\n",
    "        - date_time\n",
    "        - birthdate\n",
    "        - gender\n",
    "        - acme/*\n",
    "        \n",
    "label_predictors:\n",
    "  namespace: acme\n",
    "  regex:\n",
    "    user_id:\n",
    "      patterns:\n",
    "        - score: high\n",
    "          regex: ^user_[\\d]{5}$\n",
    "\"\"\"\n"
   ]
  },
  {
   "cell_type": "code",
   "execution_count": null,
   "metadata": {},
   "outputs": [],
   "source": [
    "# Load and preview the DataFrame to train the classification model on.\n",
    "\n",
    "df = pd.read_csv(data_source, nrows=500)\n",
    "df.to_csv(\"training_data.csv\", index=False)\n",
    "df\n"
   ]
  },
  {
   "cell_type": "code",
   "execution_count": null,
   "metadata": {
    "colab": {
     "base_uri": "https://localhost:8080/",
     "height": 582
    },
    "id": "xq2zj-6h_zh5",
    "outputId": "0587ddc8-ccb6-455b-f961-9392b4736d69"
   },
   "outputs": [],
   "source": [
    "project = create_or_get_unique_project(name=\"local-classify\")"
   ]
  },
  {
   "cell_type": "code",
   "execution_count": null,
   "metadata": {
    "id": "nvOhfvS4_zh5"
   },
   "outputs": [],
   "source": [
    "# the following cell will create the classification model and\n",
    "# run a sample of the data set through the model. this sample\n",
    "# can be used to ensure the model is functioning correctly\n",
    "# before continuing.\n",
    "classify = project.create_model_obj(\n",
    "    model_config=yaml.safe_load(config), data_source=\"training_data.csv\"\n",
    ")\n",
    "\n",
    "run = submit_docker_local(classify, output_dir=\"tmp/\")\n"
   ]
  },
  {
   "cell_type": "code",
   "execution_count": null,
   "metadata": {
    "id": "EAZLMwmG_zh6"
   },
   "outputs": [],
   "source": [
    "# review the sampled classification report\n",
    "report = json.loads(open(\"tmp/report_json.json.gz\").read())\n",
    "pd.DataFrame(report[\"metadata\"][\"fields\"])\n"
   ]
  },
  {
   "cell_type": "code",
   "execution_count": null,
   "metadata": {
    "id": "hL0COKZo_zh6"
   },
   "outputs": [],
   "source": [
    "# next let's classify the remaining records using the model\n",
    "# that was just created.\n",
    "classify_records = classify.create_record_handler_obj(data_source=\"training_data.csv\")\n",
    "\n",
    "run = submit_docker_local(\n",
    "    classify_records, model_path=\"tmp/model.tar.gz\", output_dir=\"tmp/\"\n",
    ")\n"
   ]
  },
  {
   "cell_type": "code",
   "execution_count": null,
   "metadata": {
    "id": "eVPQySOg_zh6"
   },
   "outputs": [],
   "source": [
    "report = json.loads(open(\"tmp/report_json.json.gz\").read())\n",
    "pd.DataFrame(report[\"metadata\"][\"fields\"])\n"
   ]
  },
  {
   "cell_type": "code",
   "execution_count": null,
   "metadata": {},
   "outputs": [],
   "source": [
    "# Load results\n",
    "results = pd.read_json(\"tmp/data.gz\", lines=True)\n",
    "\n",
    "# Examine labels found in the first record\n",
    "results.iloc[0].to_dict()\n"
   ]
  }
 ],
 "metadata": {
  "colab": {
   "name": "local_jobs.ipynb",
   "provenance": []
  },
  "interpreter": {
   "hash": "9bba8f6ed2feafdad698ed6a1926c15a7650a75eedae60d223f34187f1656d66"
  },
  "kernelspec": {
   "display_name": "Python 3",
   "language": "python",
   "name": "python3"
  },
  "language_info": {
   "codemirror_mode": {
    "name": "ipython",
    "version": 3
   },
   "file_extension": ".py",
   "mimetype": "text/x-python",
   "name": "python",
   "nbconvert_exporter": "python",
   "pygments_lexer": "ipython3",
   "version": "3.8.3"
  }
 },
 "nbformat": 4,
 "nbformat_minor": 1
}
