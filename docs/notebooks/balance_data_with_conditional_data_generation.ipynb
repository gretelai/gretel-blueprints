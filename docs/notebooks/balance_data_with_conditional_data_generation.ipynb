{
 "cells": [
  {
   "cell_type": "markdown",
   "metadata": {
    "id": "UTRxpSlaczHY"
   },
   "source": [
    "# Balancing datasets with conditional data generation\n",
    "\n",
    "Imbalanced datasets are a common problem in machine learning. There are several different scenarios where an imbalanced dataset can lead to a less than optimal model solution. One scenario is when you're training a multi-class classifier and one or more of the classes have fewer training examples than the others. This can sometimes lead to a model that may look like it's doing well overall,when really the accuracy of the underepresented classes is inferior to that of the classes with good representation.\n",
    "\n",
    "Another scenario is when the training data has imbalanced demographic data. Part of what the Fair AI movement is about is ensuring that AI models do equally well on all demographic slices.\n",
    "\n",
    "One approach to improve representational biases in data is through by conditioning Gretel's synthetic data model to generate more examples of different classes of data.\n",
    "\n",
    "You can use the approach to replace the original data with a balanced synthetic dataset or you can use it to augment the existing dataset, producing just enough synthetic data such that when added back into the original data, the imbalance is resolved.\n",
    "\n",
    "In this notebook, we're going to step you through how to use Gretel synthetics to resolve demographic bias in a dataset. We will be creating a new synthetic dataset that can be used in place of the original one.\n"
   ]
  },
  {
   "cell_type": "markdown",
   "metadata": {
    "id": "An3JaXtu_15j"
   },
   "source": [
    "## Begin by authenticating\n"
   ]
  },
  {
   "cell_type": "code",
   "execution_count": null,
   "metadata": {
    "id": "VEM6kjRsczHd"
   },
   "outputs": [],
   "source": [
    "%%capture\n",
    "!pip install -U gretel-client"
   ]
  },
  {
   "cell_type": "code",
   "execution_count": 1,
   "metadata": {
    "colab": {
     "base_uri": "https://localhost:8080/"
    },
    "id": "ZQ-TmAdwczHd",
    "outputId": "4a8c2b52-950a-4c07-d9ee-b80293238f43"
   },
   "outputs": [
    {
     "name": "stdout",
     "output_type": "stream",
     "text": [
      "Found cached Gretel credentials\n",
      "Using endpoint https://api-dev.gretel.cloud\n",
      "Logged in as drew@gretel.ai ✅\n"
     ]
    }
   ],
   "source": [
    "# Specify your Gretel API key\n",
    "\n",
    "import pandas as pd\n",
    "from gretel_client import configure_session\n",
    "\n",
    "pd.set_option(\"max_colwidth\", None)\n",
    "\n",
    "configure_session(api_key=\"prompt\", cache=\"yes\", validate=True)\n"
   ]
  },
  {
   "cell_type": "markdown",
   "metadata": {
    "id": "dDfOuvA5_15n"
   },
   "source": [
    "## Load and view the dataset\n"
   ]
  },
  {
   "cell_type": "code",
   "execution_count": 17,
   "metadata": {
    "colab": {
     "base_uri": "https://localhost:8080/",
     "height": 424
    },
    "id": "YRTunFZ2_15n",
    "outputId": "dc403944-03f8-4007-f47a-1d38eb1e81e9"
   },
   "outputs": [
    {
     "data": {
      "text/html": [
       "<div>\n",
       "<style scoped>\n",
       "    .dataframe tbody tr th:only-of-type {\n",
       "        vertical-align: middle;\n",
       "    }\n",
       "\n",
       "    .dataframe tbody tr th {\n",
       "        vertical-align: top;\n",
       "    }\n",
       "\n",
       "    .dataframe thead th {\n",
       "        text-align: right;\n",
       "    }\n",
       "</style>\n",
       "<table border=\"1\" class=\"dataframe\">\n",
       "  <thead>\n",
       "    <tr style=\"text-align: right;\">\n",
       "      <th></th>\n",
       "      <th>DATE</th>\n",
       "      <th>PatientID</th>\n",
       "      <th>BirthDate</th>\n",
       "      <th>RACE</th>\n",
       "      <th>ETHNICITY</th>\n",
       "      <th>GENDER</th>\n",
       "      <th>BIRTHPLACE</th>\n",
       "      <th>ConditionDesc</th>\n",
       "      <th>EncounterDesc</th>\n",
       "      <th>EncounterReasonDesc</th>\n",
       "      <th>ObsDesc</th>\n",
       "      <th>ObsValueFloat</th>\n",
       "      <th>UNITS</th>\n",
       "      <th>ProcedureDate</th>\n",
       "      <th>ProcedureDesc</th>\n",
       "    </tr>\n",
       "  </thead>\n",
       "  <tbody>\n",
       "    <tr>\n",
       "      <th>0</th>\n",
       "      <td>2013-05-02</td>\n",
       "      <td>34</td>\n",
       "      <td>1940-04-24</td>\n",
       "      <td>white</td>\n",
       "      <td>irish</td>\n",
       "      <td>F</td>\n",
       "      <td>Braintree Town MA US</td>\n",
       "      <td>Viral sinusitis (disorder)</td>\n",
       "      <td>Encounter for symptom</td>\n",
       "      <td>Viral sinusitis (disorder)</td>\n",
       "      <td>Potassium</td>\n",
       "      <td>6.53255</td>\n",
       "      <td>mmol/L</td>\n",
       "      <td>2010-06-28</td>\n",
       "      <td>Measurement of respiratory function (procedure)</td>\n",
       "    </tr>\n",
       "    <tr>\n",
       "      <th>1</th>\n",
       "      <td>2013-05-02</td>\n",
       "      <td>34</td>\n",
       "      <td>1940-04-24</td>\n",
       "      <td>white</td>\n",
       "      <td>irish</td>\n",
       "      <td>F</td>\n",
       "      <td>Braintree Town MA US</td>\n",
       "      <td>Viral sinusitis (disorder)</td>\n",
       "      <td>Encounter for symptom</td>\n",
       "      <td>Viral sinusitis (disorder)</td>\n",
       "      <td>Potassium</td>\n",
       "      <td>6.53255</td>\n",
       "      <td>mmol/L</td>\n",
       "      <td>2012-01-31</td>\n",
       "      <td>Sputum examination (procedure)</td>\n",
       "    </tr>\n",
       "    <tr>\n",
       "      <th>2</th>\n",
       "      <td>2013-05-02</td>\n",
       "      <td>34</td>\n",
       "      <td>1940-04-24</td>\n",
       "      <td>white</td>\n",
       "      <td>irish</td>\n",
       "      <td>F</td>\n",
       "      <td>Braintree Town MA US</td>\n",
       "      <td>Viral sinusitis (disorder)</td>\n",
       "      <td>Encounter for symptom</td>\n",
       "      <td>Viral sinusitis (disorder)</td>\n",
       "      <td>Potassium</td>\n",
       "      <td>6.53255</td>\n",
       "      <td>mmol/L</td>\n",
       "      <td>2013-01-09</td>\n",
       "      <td>Bone immobilization</td>\n",
       "    </tr>\n",
       "    <tr>\n",
       "      <th>3</th>\n",
       "      <td>2013-05-02</td>\n",
       "      <td>34</td>\n",
       "      <td>1940-04-24</td>\n",
       "      <td>white</td>\n",
       "      <td>irish</td>\n",
       "      <td>F</td>\n",
       "      <td>Braintree Town MA US</td>\n",
       "      <td>Viral sinusitis (disorder)</td>\n",
       "      <td>Encounter for symptom</td>\n",
       "      <td>Viral sinusitis (disorder)</td>\n",
       "      <td>Potassium</td>\n",
       "      <td>6.53255</td>\n",
       "      <td>mmol/L</td>\n",
       "      <td>2013-01-09</td>\n",
       "      <td>Bone density scan (procedure)</td>\n",
       "    </tr>\n",
       "    <tr>\n",
       "      <th>4</th>\n",
       "      <td>2013-05-02</td>\n",
       "      <td>34</td>\n",
       "      <td>1940-04-24</td>\n",
       "      <td>white</td>\n",
       "      <td>irish</td>\n",
       "      <td>F</td>\n",
       "      <td>Braintree Town MA US</td>\n",
       "      <td>Viral sinusitis (disorder)</td>\n",
       "      <td>Encounter for symptom</td>\n",
       "      <td>Viral sinusitis (disorder)</td>\n",
       "      <td>Potassium</td>\n",
       "      <td>6.53255</td>\n",
       "      <td>mmol/L</td>\n",
       "      <td>2013-05-02</td>\n",
       "      <td>Documentation of current medications</td>\n",
       "    </tr>\n",
       "    <tr>\n",
       "      <th>...</th>\n",
       "      <td>...</td>\n",
       "      <td>...</td>\n",
       "      <td>...</td>\n",
       "      <td>...</td>\n",
       "      <td>...</td>\n",
       "      <td>...</td>\n",
       "      <td>...</td>\n",
       "      <td>...</td>\n",
       "      <td>...</td>\n",
       "      <td>...</td>\n",
       "      <td>...</td>\n",
       "      <td>...</td>\n",
       "      <td>...</td>\n",
       "      <td>...</td>\n",
       "      <td>...</td>\n",
       "    </tr>\n",
       "    <tr>\n",
       "      <th>2280</th>\n",
       "      <td>2015-11-05</td>\n",
       "      <td>0</td>\n",
       "      <td>1956-03-31</td>\n",
       "      <td>white</td>\n",
       "      <td>swedish</td>\n",
       "      <td>M</td>\n",
       "      <td>Lanesborough MA US</td>\n",
       "      <td>Chronic sinusitis (disorder)</td>\n",
       "      <td>Outpatient Encounter</td>\n",
       "      <td>NaN</td>\n",
       "      <td>Potassium</td>\n",
       "      <td>6.50738</td>\n",
       "      <td>mmol/L</td>\n",
       "      <td>2016-11-18</td>\n",
       "      <td>Documentation of current medications</td>\n",
       "    </tr>\n",
       "    <tr>\n",
       "      <th>2281</th>\n",
       "      <td>2015-11-05</td>\n",
       "      <td>0</td>\n",
       "      <td>1956-03-31</td>\n",
       "      <td>white</td>\n",
       "      <td>swedish</td>\n",
       "      <td>M</td>\n",
       "      <td>Lanesborough MA US</td>\n",
       "      <td>Prediabetes</td>\n",
       "      <td>Outpatient Encounter</td>\n",
       "      <td>NaN</td>\n",
       "      <td>Potassium</td>\n",
       "      <td>6.50738</td>\n",
       "      <td>mmol/L</td>\n",
       "      <td>2016-11-18</td>\n",
       "      <td>Documentation of current medications</td>\n",
       "    </tr>\n",
       "    <tr>\n",
       "      <th>2282</th>\n",
       "      <td>2015-11-05</td>\n",
       "      <td>0</td>\n",
       "      <td>1956-03-31</td>\n",
       "      <td>white</td>\n",
       "      <td>swedish</td>\n",
       "      <td>M</td>\n",
       "      <td>Lanesborough MA US</td>\n",
       "      <td>Streptococcal sore throat (disorder)</td>\n",
       "      <td>Encounter for symptom</td>\n",
       "      <td>Streptococcal sore throat (disorder)</td>\n",
       "      <td>Potassium</td>\n",
       "      <td>6.50738</td>\n",
       "      <td>mmol/L</td>\n",
       "      <td>2016-11-18</td>\n",
       "      <td>Documentation of current medications</td>\n",
       "    </tr>\n",
       "    <tr>\n",
       "      <th>2283</th>\n",
       "      <td>2015-11-05</td>\n",
       "      <td>0</td>\n",
       "      <td>1956-03-31</td>\n",
       "      <td>white</td>\n",
       "      <td>swedish</td>\n",
       "      <td>M</td>\n",
       "      <td>Lanesborough MA US</td>\n",
       "      <td>Acute viral pharyngitis (disorder)</td>\n",
       "      <td>Encounter for symptom</td>\n",
       "      <td>Acute viral pharyngitis (disorder)</td>\n",
       "      <td>Potassium</td>\n",
       "      <td>6.50738</td>\n",
       "      <td>mmol/L</td>\n",
       "      <td>2016-11-18</td>\n",
       "      <td>Documentation of current medications</td>\n",
       "    </tr>\n",
       "    <tr>\n",
       "      <th>2284</th>\n",
       "      <td>2015-11-05</td>\n",
       "      <td>0</td>\n",
       "      <td>1956-03-31</td>\n",
       "      <td>white</td>\n",
       "      <td>swedish</td>\n",
       "      <td>M</td>\n",
       "      <td>Lanesborough MA US</td>\n",
       "      <td>Acute viral pharyngitis (disorder)</td>\n",
       "      <td>Encounter for symptom</td>\n",
       "      <td>Acute viral pharyngitis (disorder)</td>\n",
       "      <td>Potassium</td>\n",
       "      <td>6.50738</td>\n",
       "      <td>mmol/L</td>\n",
       "      <td>2016-11-18</td>\n",
       "      <td>Documentation of current medications</td>\n",
       "    </tr>\n",
       "  </tbody>\n",
       "</table>\n",
       "<p>2285 rows × 15 columns</p>\n",
       "</div>"
      ],
      "text/plain": [
       "            DATE  PatientID   BirthDate   RACE ETHNICITY GENDER  \\\n",
       "0     2013-05-02         34  1940-04-24  white     irish      F   \n",
       "1     2013-05-02         34  1940-04-24  white     irish      F   \n",
       "2     2013-05-02         34  1940-04-24  white     irish      F   \n",
       "3     2013-05-02         34  1940-04-24  white     irish      F   \n",
       "4     2013-05-02         34  1940-04-24  white     irish      F   \n",
       "...          ...        ...         ...    ...       ...    ...   \n",
       "2280  2015-11-05          0  1956-03-31  white   swedish      M   \n",
       "2281  2015-11-05          0  1956-03-31  white   swedish      M   \n",
       "2282  2015-11-05          0  1956-03-31  white   swedish      M   \n",
       "2283  2015-11-05          0  1956-03-31  white   swedish      M   \n",
       "2284  2015-11-05          0  1956-03-31  white   swedish      M   \n",
       "\n",
       "                BIRTHPLACE                         ConditionDesc  \\\n",
       "0     Braintree Town MA US            Viral sinusitis (disorder)   \n",
       "1     Braintree Town MA US            Viral sinusitis (disorder)   \n",
       "2     Braintree Town MA US            Viral sinusitis (disorder)   \n",
       "3     Braintree Town MA US            Viral sinusitis (disorder)   \n",
       "4     Braintree Town MA US            Viral sinusitis (disorder)   \n",
       "...                    ...                                   ...   \n",
       "2280    Lanesborough MA US          Chronic sinusitis (disorder)   \n",
       "2281    Lanesborough MA US                           Prediabetes   \n",
       "2282    Lanesborough MA US  Streptococcal sore throat (disorder)   \n",
       "2283    Lanesborough MA US    Acute viral pharyngitis (disorder)   \n",
       "2284    Lanesborough MA US    Acute viral pharyngitis (disorder)   \n",
       "\n",
       "              EncounterDesc                   EncounterReasonDesc    ObsDesc  \\\n",
       "0     Encounter for symptom            Viral sinusitis (disorder)  Potassium   \n",
       "1     Encounter for symptom            Viral sinusitis (disorder)  Potassium   \n",
       "2     Encounter for symptom            Viral sinusitis (disorder)  Potassium   \n",
       "3     Encounter for symptom            Viral sinusitis (disorder)  Potassium   \n",
       "4     Encounter for symptom            Viral sinusitis (disorder)  Potassium   \n",
       "...                     ...                                   ...        ...   \n",
       "2280   Outpatient Encounter                                   NaN  Potassium   \n",
       "2281   Outpatient Encounter                                   NaN  Potassium   \n",
       "2282  Encounter for symptom  Streptococcal sore throat (disorder)  Potassium   \n",
       "2283  Encounter for symptom    Acute viral pharyngitis (disorder)  Potassium   \n",
       "2284  Encounter for symptom    Acute viral pharyngitis (disorder)  Potassium   \n",
       "\n",
       "      ObsValueFloat   UNITS ProcedureDate  \\\n",
       "0           6.53255  mmol/L    2010-06-28   \n",
       "1           6.53255  mmol/L    2012-01-31   \n",
       "2           6.53255  mmol/L    2013-01-09   \n",
       "3           6.53255  mmol/L    2013-01-09   \n",
       "4           6.53255  mmol/L    2013-05-02   \n",
       "...             ...     ...           ...   \n",
       "2280        6.50738  mmol/L    2016-11-18   \n",
       "2281        6.50738  mmol/L    2016-11-18   \n",
       "2282        6.50738  mmol/L    2016-11-18   \n",
       "2283        6.50738  mmol/L    2016-11-18   \n",
       "2284        6.50738  mmol/L    2016-11-18   \n",
       "\n",
       "                                        ProcedureDesc  \n",
       "0     Measurement of respiratory function (procedure)  \n",
       "1                      Sputum examination (procedure)  \n",
       "2                                 Bone immobilization  \n",
       "3                       Bone density scan (procedure)  \n",
       "4                Documentation of current medications  \n",
       "...                                               ...  \n",
       "2280             Documentation of current medications  \n",
       "2281             Documentation of current medications  \n",
       "2282             Documentation of current medications  \n",
       "2283             Documentation of current medications  \n",
       "2284             Documentation of current medications  \n",
       "\n",
       "[2285 rows x 15 columns]"
      ]
     },
     "execution_count": 17,
     "metadata": {},
     "output_type": "execute_result"
    }
   ],
   "source": [
    "a = pd.read_csv(\n",
    "    \"https://gretel-public-website.s3.amazonaws.com/datasets/experiments/healthcare_dataset_a.csv\"\n",
    ")\n",
    "\n",
    "a\n"
   ]
  },
  {
   "cell_type": "markdown",
   "metadata": {
    "id": "sLkVPQlh_15o"
   },
   "source": [
    "## Isolate the fields that require balancing\n",
    "\n",
    "- We'll balance \"RACE\", \"ETHNICITY\", and \"GENDER\"\n"
   ]
  },
  {
   "cell_type": "code",
   "execution_count": 18,
   "metadata": {
    "colab": {
     "base_uri": "https://localhost:8080/"
    },
    "id": "XN-KytoT_15p",
    "outputId": "8d40c38d-80b7-4613-c206-e3d889c8cf69"
   },
   "outputs": [
    {
     "data": {
      "text/plain": [
       "white       1616\n",
       "black        332\n",
       "hispanic     258\n",
       "asian         79\n",
       "Name: RACE, dtype: int64"
      ]
     },
     "execution_count": 18,
     "metadata": {},
     "output_type": "execute_result"
    }
   ],
   "source": [
    "a[\"RACE\"].value_counts()\n"
   ]
  },
  {
   "cell_type": "code",
   "execution_count": 19,
   "metadata": {
    "colab": {
     "base_uri": "https://localhost:8080/"
    },
    "id": "sqpSM_EU_15q",
    "outputId": "aba9a196-68ec-403d-b47f-9f4a358dc669"
   },
   "outputs": [
    {
     "data": {
      "text/plain": [
       "irish              426\n",
       "german             267\n",
       "african            266\n",
       "french             240\n",
       "italian            213\n",
       "puerto_rican       175\n",
       "english            162\n",
       "polish             148\n",
       "mexican             83\n",
       "chinese             79\n",
       "russian             78\n",
       "swedish             50\n",
       "dominican           35\n",
       "west_indian         31\n",
       "french_canadian     12\n",
       "portuguese          12\n",
       "american             8\n",
       "Name: ETHNICITY, dtype: int64"
      ]
     },
     "execution_count": 19,
     "metadata": {},
     "output_type": "execute_result"
    }
   ],
   "source": [
    "a[\"ETHNICITY\"].value_counts()\n"
   ]
  },
  {
   "cell_type": "code",
   "execution_count": 20,
   "metadata": {
    "colab": {
     "base_uri": "https://localhost:8080/"
    },
    "id": "xZZ7v8Hf_15q",
    "outputId": "3358425a-5d46-43a4-ad51-0f7915f463cb"
   },
   "outputs": [
    {
     "data": {
      "text/plain": [
       "F    1296\n",
       "M     989\n",
       "Name: GENDER, dtype: int64"
      ]
     },
     "execution_count": 20,
     "metadata": {},
     "output_type": "execute_result"
    }
   ],
   "source": [
    "a[\"GENDER\"].value_counts()\n"
   ]
  },
  {
   "cell_type": "markdown",
   "metadata": {
    "id": "1Eisd9JU_15r"
   },
   "source": [
    "## Create a seed file\n",
    "\n",
    "- Create a csv with one column for each balance field and one record for each combination of the balance field values.\n",
    "- Replicate the seeds to reach the desired synthetic data size.\n"
   ]
  },
  {
   "cell_type": "code",
   "execution_count": 21,
   "metadata": {
    "id": "iOi2i3qr_15s"
   },
   "outputs": [],
   "source": [
    "import itertools\n",
    "\n",
    "# Choose your balance columns\n",
    "balance_columns = [\"GENDER\", \"ETHNICITY\", \"RACE\"]\n",
    "\n",
    "# How many total synthetic records do you want\n",
    "gen_lines = len(a)\n",
    "\n",
    "# Get the list of values for each seed field and the\n",
    "# overall percent we'll need for each seed value combination\n",
    "categ_val_lists = []\n",
    "seed_percent = 1\n",
    "for field in balance_columns:\n",
    "    values = set(pd.Series(a[field].dropna()))\n",
    "    category_cnt = len(values)\n",
    "    categ_val_lists.append(list(values))\n",
    "    seed_percent = seed_percent * 1 / category_cnt\n",
    "seed_gen_cnt = seed_percent * gen_lines\n",
    "\n",
    "# Get the combo seeds we'll need. This is all combinations of all\n",
    "# seed field values\n",
    "seed_fields = []\n",
    "for combo in itertools.product(*categ_val_lists):\n",
    "    seed_dict = {}\n",
    "    i = 0\n",
    "    for field in balance_columns:\n",
    "        seed_dict[field] = combo[i]\n",
    "        i += 1\n",
    "    seed = {}\n",
    "    seed[\"seed\"] = seed_dict\n",
    "    seed[\"cnt\"] = seed_gen_cnt\n",
    "    seed_fields.append(seed)\n",
    "\n",
    "# Create a dataframe with the seed values used to condition the synthetic model\n",
    "gender_all = []\n",
    "ethnicity_all = []\n",
    "race_all = []\n",
    "for seed in seed_fields:\n",
    "    gender = seed[\"seed\"][\"GENDER\"]\n",
    "    ethnicity = seed[\"seed\"][\"ETHNICITY\"]\n",
    "    race = seed[\"seed\"][\"RACE\"]\n",
    "    cnt = seed[\"cnt\"]\n",
    "    for i in range(int(cnt)):\n",
    "        gender_all.append(gender)\n",
    "        ethnicity_all.append(ethnicity)\n",
    "        race_all.append(race)\n",
    "\n",
    "df_seed = pd.DataFrame(\n",
    "    {\"GENDER\": gender_all, \"ETHNICITY\": ethnicity_all, \"RACE\": race_all}\n",
    ")\n",
    "\n",
    "# Save the seed dataframe to a file\n",
    "seedfile = \"/tmp/balance_seeds.csv\"\n",
    "df_seed.to_csv(seedfile, index=False, header=True)\n"
   ]
  },
  {
   "cell_type": "markdown",
   "metadata": {
    "id": "VVaGfSFc_15t"
   },
   "source": [
    "## Create a synthetic config file\n"
   ]
  },
  {
   "cell_type": "code",
   "execution_count": 3,
   "metadata": {
    "id": "BInkOazF_15u"
   },
   "outputs": [],
   "source": [
    "# Grab the default Synthetic Config file\n",
    "from gretel_client.projects.models import read_model_config\n",
    "\n",
    "config = read_model_config(\"synthetics/default\")\n"
   ]
  },
  {
   "cell_type": "code",
   "execution_count": 23,
   "metadata": {
    "id": "Z3hDdxFn_15u"
   },
   "outputs": [],
   "source": [
    "# Adjust the desired number of synthetic records to generated\n",
    "\n",
    "config[\"models\"][0][\"synthetics\"][\"generate\"][\"num_records\"] = len(a)\n"
   ]
  },
  {
   "cell_type": "code",
   "execution_count": 24,
   "metadata": {
    "id": "uneHBVfN_15v"
   },
   "outputs": [],
   "source": [
    "# Adjust params for complex dataset\n",
    "\n",
    "config[\"models\"][0][\"synthetics\"][\"params\"][\"data_upsample_limit\"] = 10000\n"
   ]
  },
  {
   "cell_type": "markdown",
   "metadata": {
    "id": "RR0AHEBR_15v"
   },
   "source": [
    "## Include a seeding task in the config\n"
   ]
  },
  {
   "cell_type": "code",
   "execution_count": 25,
   "metadata": {
    "id": "Qq-wkWq0_15v"
   },
   "outputs": [],
   "source": [
    "task = {\"type\": \"seed\", \"attrs\": {\"fields\": balance_columns}}\n",
    "config[\"models\"][0][\"synthetics\"][\"task\"] = task\n"
   ]
  },
  {
   "cell_type": "markdown",
   "metadata": {
    "id": "IbDnimMH_15w"
   },
   "source": [
    "## Train a synthetic model\n"
   ]
  },
  {
   "cell_type": "code",
   "execution_count": 26,
   "metadata": {
    "colab": {
     "base_uri": "https://localhost:8080/"
    },
    "id": "Yvf9EI85_15w",
    "outputId": "bcbed207-3a60-478a-9e65-88d54a45c9b2"
   },
   "outputs": [
    {
     "name": "stderr",
     "output_type": "stream",
     "text": [
      "\u001B[32mINFO: \u001B[0mStarting poller\n"
     ]
    },
    {
     "name": "stdout",
     "output_type": "stream",
     "text": [
      "{\n",
      "    \"uid\": \"624e2f167bb99b28a1267855\",\n",
      "    \"guid\": \"model_27Rly8B14FXXQfotbGbMNVO5HvJ\",\n",
      "    \"model_name\": \"awesome-mysterious-snake\",\n",
      "    \"runner_mode\": \"cloud\",\n",
      "    \"user_id\": \"5f28907abff6215b847fea12\",\n",
      "    \"user_guid\": \"user_26hlXr8FAOILKp6R3okyfJy7iPZ\",\n",
      "    \"billing_domain\": \"gretel.ai\",\n",
      "    \"billing_domain_guid\": null,\n",
      "    \"project_id\": \"624dd337297bcee982e8e562\",\n",
      "    \"project_guid\": \"proj_27R0IXq18YG8WQlPZ6ZYh8fGNcb\",\n",
      "    \"status_history\": {\n",
      "        \"created\": \"2022-04-07T00:23:50.957625Z\"\n",
      "    },\n",
      "    \"last_modified\": \"2022-04-07T00:23:51.202454Z\",\n",
      "    \"status\": \"created\",\n",
      "    \"last_active_hb\": null,\n",
      "    \"duration_minutes\": null,\n",
      "    \"error_msg\": null,\n",
      "    \"error_id\": null,\n",
      "    \"traceback\": null,\n",
      "    \"container_image\": \"074762682575.dkr.ecr.us-west-2.amazonaws.com/gretelai/synthetics@sha256:1006058feecf797de94a83dcc54d07265b53d4142f073a3f09902383368006c4\",\n",
      "    \"model_type\": \"synthetics\",\n",
      "    \"config\": {\n",
      "        \"schema_version\": \"1.0\",\n",
      "        \"name\": null,\n",
      "        \"models\": [\n",
      "            {\n",
      "                \"synthetics\": {\n",
      "                    \"data_source\": [\n",
      "                        \"gretel_725697977e324c219b3e2e0d0118d3d8_training_data.csv\"\n",
      "                    ],\n",
      "                    \"params\": {\n",
      "                        \"field_delimiter\": null,\n",
      "                        \"epochs\": 100,\n",
      "                        \"batch_size\": 64,\n",
      "                        \"vocab_size\": 20000,\n",
      "                        \"reset_states\": false,\n",
      "                        \"learning_rate\": 0.01,\n",
      "                        \"rnn_units\": 256,\n",
      "                        \"dropout_rate\": 0.2,\n",
      "                        \"overwrite\": true,\n",
      "                        \"early_stopping\": true,\n",
      "                        \"gen_temp\": 1.0,\n",
      "                        \"predict_batch_size\": 64,\n",
      "                        \"validation_split\": false,\n",
      "                        \"dp\": false,\n",
      "                        \"dp_noise_multiplier\": 0.001,\n",
      "                        \"dp_l2_norm_clip\": 5.0,\n",
      "                        \"dp_microbatches\": 1,\n",
      "                        \"early_stopping_min_delta\": null,\n",
      "                        \"max_training_time_seconds\": 28200,\n",
      "                        \"field_cluster_size\": 20,\n",
      "                        \"average_record_length_threshold\": 250.0,\n",
      "                        \"data_upsample_limit\": 10000\n",
      "                    },\n",
      "                    \"validators\": {\n",
      "                        \"in_set_count\": 10,\n",
      "                        \"pattern_count\": 10,\n",
      "                        \"datetime_formats\": \"infer\",\n",
      "                        \"use_numeric_iqr\": false\n",
      "                    },\n",
      "                    \"generate\": {\n",
      "                        \"num_records\": 2285,\n",
      "                        \"max_invalid\": null\n",
      "                    },\n",
      "                    \"task\": {\n",
      "                        \"type\": \"seed\",\n",
      "                        \"attrs\": {\n",
      "                            \"fields\": [\n",
      "                                \"GENDER\",\n",
      "                                \"ETHNICITY\",\n",
      "                                \"RACE\"\n",
      "                            ]\n",
      "                        }\n",
      "                    },\n",
      "                    \"privacy_filters\": {\n",
      "                        \"outliers\": \"medium\",\n",
      "                        \"similarity\": \"medium\"\n",
      "                    },\n",
      "                    \"debug\": {\n",
      "                        \"invalid_record_cutoff\": 40\n",
      "                    }\n",
      "                }\n",
      "            }\n",
      "        ],\n",
      "        \"notifications\": null,\n",
      "        \"label_predictors\": null\n",
      "    },\n",
      "    \"autouse_config\": null,\n",
      "    \"autouse_handler_id\": null\n",
      "}\n"
     ]
    },
    {
     "name": "stderr",
     "output_type": "stream",
     "text": [
      "\u001B[32mINFO: \u001B[0mStatus is created. Model creation has been queued.\n",
      "\u001B[32mINFO: \u001B[0mStatus is pending. A Gretel Cloud worker is being allocated to begin model creation.\n"
     ]
    }
   ],
   "source": [
    "from gretel_client import projects\n",
    "from gretel_client.helpers import poll\n",
    "\n",
    "training_path = \"training_data.csv\"\n",
    "a.to_csv(training_path)\n",
    "\n",
    "project = projects.create_or_get_unique_project(name=\"balancing-data-example\")\n",
    "model = project.create_model_obj(model_config=config, data_source=training_path)\n",
    "\n",
    "model.submit_cloud()\n",
    "poll(model)\n"
   ]
  },
  {
   "cell_type": "markdown",
   "metadata": {
    "id": "X--V8DHl_15w"
   },
   "source": [
    "## Generate data using the balance seeds\n"
   ]
  },
  {
   "cell_type": "code",
   "execution_count": null,
   "metadata": {
    "colab": {
     "base_uri": "https://localhost:8080/",
     "height": 1000
    },
    "id": "PeZPWdXT_15x",
    "outputId": "ec54477f-a64d-4686-f7ce-9a4b355ed53f"
   },
   "outputs": [],
   "source": [
    "rh = model.create_record_handler_obj(\n",
    "    data_source=seedfile, params={\"num_records\": len(df_seed)}\n",
    ")\n",
    "rh.submit_cloud()\n",
    "poll(rh)\n",
    "synth_df = pd.read_csv(rh.get_artifact_link(\"data\"), compression=\"gzip\")\n",
    "synth_df.head()\n"
   ]
  },
  {
   "cell_type": "markdown",
   "metadata": {
    "id": "GFoJ8niJ_15x"
   },
   "source": [
    "## Validate the balanced demographic data\n"
   ]
  },
  {
   "cell_type": "code",
   "execution_count": null,
   "metadata": {
    "colab": {
     "base_uri": "https://localhost:8080/"
    },
    "id": "CXdorzf1_15x",
    "outputId": "6732a6b0-b72f-48e0-db74-b7b0cdc40ff4"
   },
   "outputs": [],
   "source": [
    "synth_df[\"GENDER\"].value_counts()\n"
   ]
  },
  {
   "cell_type": "code",
   "execution_count": null,
   "metadata": {
    "colab": {
     "base_uri": "https://localhost:8080/"
    },
    "id": "yxrQujl0_15x",
    "outputId": "69ef1869-865e-4cff-e51e-c3447778619c"
   },
   "outputs": [],
   "source": [
    "synth_df[\"ETHNICITY\"].value_counts()\n"
   ]
  },
  {
   "cell_type": "code",
   "execution_count": null,
   "metadata": {
    "colab": {
     "base_uri": "https://localhost:8080/"
    },
    "id": "Ghc2mEQg_15y",
    "outputId": "710efabf-b480-4dbb-f145-2b717c6a5a11"
   },
   "outputs": [],
   "source": [
    "synth_df[\"RACE\"].value_counts()\n"
   ]
  },
  {
   "cell_type": "code",
   "execution_count": null,
   "metadata": {
    "id": "5152iEX1_15y"
   },
   "outputs": [],
   "source": []
  }
 ],
 "metadata": {
  "colab": {
   "collapsed_sections": [],
   "name": "Gretel - Balancing datasets with conditional data generation",
   "provenance": []
  },
  "kernelspec": {
   "display_name": "Python 3 (ipykernel)",
   "language": "python",
   "name": "python3"
  },
  "language_info": {
   "codemirror_mode": {
    "name": "ipython",
    "version": 3
   },
   "file_extension": ".py",
   "mimetype": "text/x-python",
   "name": "python",
   "nbconvert_exporter": "python",
   "pygments_lexer": "ipython3",
   "version": "3.9.10"
  }
 },
 "nbformat": 4,
 "nbformat_minor": 4
}