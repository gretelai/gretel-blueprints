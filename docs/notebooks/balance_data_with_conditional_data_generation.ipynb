{
 "cells": [
  {
   "cell_type": "markdown",
   "metadata": {
    "id": "UTRxpSlaczHY"
   },
   "source": [
    "# Balancing datasets with conditional data generation\n",
    "\n",
    "Imbalanced datasets are a common problem in machine learning. There are several different scenarios where an imbalanced dataset can lead to a less than optimal model solution. One scenario is when you're training a multi-class classifier and one or more of the classes have fewer training examples than the others. This can sometimes lead to a model that may look like it's doing well overall,when really the accuracy of the underepresented classes is inferior to that of the classes with good representation.\n",
    "\n",
    "Another scenario is when the training data has imbalanced demographic data. Part of what the Fair AI movement is about is ensuring that AI models do equally well on all demographic slices.\n",
    "\n",
    "One approach to improve representational biases in data is through by conditioning Gretel's synthetic data model to generate more examples of different classes of data.\n",
    "\n",
    "You can use the approach to replace the original data with a balanced synthetic dataset or you can use it to augment the existing dataset, producing just enough synthetic data such that when added back into the original data, the imbalance is resolved.\n",
    "\n",
    "In this notebook, we're going to step you through how to use Gretel synthetics to resolve demographic bias in a dataset. We will be creating a new synthetic dataset that can be used in place of the original one.\n"
   ]
  },
  {
   "cell_type": "markdown",
   "metadata": {
    "id": "An3JaXtu_15j"
   },
   "source": [
    "## Begin by authenticating\n"
   ]
  },
  {
   "cell_type": "code",
   "execution_count": null,
   "metadata": {
    "id": "VEM6kjRsczHd"
   },
   "outputs": [],
   "source": [
    "%%capture\n",
    "!pip install -U gretel-client"
   ]
  },
  {
   "cell_type": "code",
   "execution_count": null,
   "metadata": {
    "colab": {
     "base_uri": "https://localhost:8080/"
    },
    "id": "ZQ-TmAdwczHd",
    "outputId": "4a8c2b52-950a-4c07-d9ee-b80293238f43"
   },
   "outputs": [],
   "source": [
    "# Specify your Gretel API key\n",
    "\n",
    "import pandas as pd\n",
    "from gretel_client import configure_session\n",
    "\n",
    "pd.set_option(\"max_colwidth\", None)\n",
    "\n",
    "configure_session(api_key=\"prompt\", cache=\"yes\", validate=True)\n"
   ]
  },
  {
   "cell_type": "markdown",
   "metadata": {
    "id": "dDfOuvA5_15n"
   },
   "source": [
    "## Load and view the dataset\n"
   ]
  },
  {
   "cell_type": "code",
   "execution_count": null,
   "metadata": {
    "colab": {
     "base_uri": "https://localhost:8080/",
     "height": 424
    },
    "id": "YRTunFZ2_15n",
    "outputId": "dc403944-03f8-4007-f47a-1d38eb1e81e9"
   },
   "outputs": [],
   "source": [
    "a = pd.read_csv(\n",
    "    \"https://gretel-public-website.s3.amazonaws.com/datasets/experiments/healthcare_dataset_a.csv\"\n",
    ")\n",
    "\n",
    "a\n"
   ]
  },
  {
   "cell_type": "markdown",
   "metadata": {
    "id": "sLkVPQlh_15o"
   },
   "source": [
    "## Isolate the fields that require balancing\n",
    "\n",
    "- We'll balance \"RACE\", \"ETHNICITY\", and \"GENDER\"\n"
   ]
  },
  {
   "cell_type": "code",
   "execution_count": null,
   "metadata": {
    "colab": {
     "base_uri": "https://localhost:8080/"
    },
    "id": "XN-KytoT_15p",
    "outputId": "8d40c38d-80b7-4613-c206-e3d889c8cf69"
   },
   "outputs": [],
   "source": [
    "a[\"RACE\"].value_counts()\n"
   ]
  },
  {
   "cell_type": "code",
   "execution_count": null,
   "metadata": {
    "colab": {
     "base_uri": "https://localhost:8080/"
    },
    "id": "sqpSM_EU_15q",
    "outputId": "aba9a196-68ec-403d-b47f-9f4a358dc669"
   },
   "outputs": [],
   "source": [
    "a[\"ETHNICITY\"].value_counts()\n"
   ]
  },
  {
   "cell_type": "code",
   "execution_count": null,
   "metadata": {
    "colab": {
     "base_uri": "https://localhost:8080/"
    },
    "id": "xZZ7v8Hf_15q",
    "outputId": "3358425a-5d46-43a4-ad51-0f7915f463cb"
   },
   "outputs": [],
   "source": [
    "a[\"GENDER\"].value_counts()\n"
   ]
  },
  {
   "cell_type": "markdown",
   "metadata": {
    "id": "1Eisd9JU_15r"
   },
   "source": [
    "## Create a seed file\n",
    "\n",
    "- Create a csv with one column for each balance field and one record for each combination of the balance field values.\n",
    "- Replicate the seeds to reach the desired synthetic data size.\n"
   ]
  },
  {
   "cell_type": "code",
   "execution_count": null,
   "metadata": {
    "id": "iOi2i3qr_15s"
   },
   "outputs": [],
   "source": [
    "import itertools\n",
    "\n",
    "# Choose your balance columns\n",
    "balance_columns = [\"GENDER\", \"ETHNICITY\", \"RACE\"]\n",
    "\n",
    "# How many total synthetic records do you want\n",
    "gen_lines = len(a)\n",
    "\n",
    "# Get the list of values for each seed field and the\n",
    "# overall percent we'll need for each seed value combination\n",
    "categ_val_lists = []\n",
    "seed_percent = 1\n",
    "for field in balance_columns:\n",
    "    values = set(pd.Series(a[field].dropna()))\n",
    "    category_cnt = len(values)\n",
    "    categ_val_lists.append(list(values))\n",
    "    seed_percent = seed_percent * 1 / category_cnt\n",
    "seed_gen_cnt = seed_percent * gen_lines\n",
    "\n",
    "# Get the combo seeds we'll need. This is all combinations of all\n",
    "# seed field values\n",
    "seed_fields = []\n",
    "for combo in itertools.product(*categ_val_lists):\n",
    "    seed_dict = {}\n",
    "    i = 0\n",
    "    for field in balance_columns:\n",
    "        seed_dict[field] = combo[i]\n",
    "        i += 1\n",
    "    seed = {}\n",
    "    seed[\"seed\"] = seed_dict\n",
    "    seed[\"cnt\"] = seed_gen_cnt\n",
    "    seed_fields.append(seed)\n",
    "\n",
    "# Create a dataframe with the seed values used to condition the synthetic model\n",
    "gender_all = []\n",
    "ethnicity_all = []\n",
    "race_all = []\n",
    "for seed in seed_fields:\n",
    "    gender = seed[\"seed\"][\"GENDER\"]\n",
    "    ethnicity = seed[\"seed\"][\"ETHNICITY\"]\n",
    "    race = seed[\"seed\"][\"RACE\"]\n",
    "    cnt = seed[\"cnt\"]\n",
    "    for i in range(int(cnt)):\n",
    "        gender_all.append(gender)\n",
    "        ethnicity_all.append(ethnicity)\n",
    "        race_all.append(race)\n",
    "\n",
    "df_seed = pd.DataFrame(\n",
    "    {\"GENDER\": gender_all, \"ETHNICITY\": ethnicity_all, \"RACE\": race_all}\n",
    ")\n",
    "\n",
    "# Save the seed dataframe to a file\n",
    "seedfile = \"/tmp/balance_seeds.csv\"\n",
    "df_seed.to_csv(seedfile, index=False, header=True)\n"
   ]
  },
  {
   "cell_type": "markdown",
   "metadata": {
    "id": "VVaGfSFc_15t"
   },
   "source": [
    "## Create a synthetic config file\n"
   ]
  },
  {
   "cell_type": "code",
   "execution_count": null,
   "metadata": {
    "id": "BInkOazF_15u"
   },
   "outputs": [],
   "source": [
    "# Grab the default Synthetic Config file\n",
    "from gretel_client.projects.models import read_model_config\n",
    "\n",
    "config = read_model_config(\"synthetics/default\")\n"
   ]
  },
  {
   "cell_type": "code",
   "execution_count": null,
   "metadata": {
    "id": "Z3hDdxFn_15u"
   },
   "outputs": [],
   "source": [
    "# Adjust the desired number of synthetic records to generated\n",
    "\n",
    "config[\"models\"][0][\"synthetics\"][\"generate\"][\"num_records\"] = len(a)\n"
   ]
  },
  {
   "cell_type": "code",
   "execution_count": null,
   "metadata": {
    "id": "uneHBVfN_15v"
   },
   "outputs": [],
   "source": [
    "# Adjust params for complex dataset\n",
    "\n",
    "config[\"models\"][0][\"synthetics\"][\"params\"][\"data_upsample_limit\"] = 10000\n"
   ]
  },
  {
   "cell_type": "markdown",
   "metadata": {
    "id": "RR0AHEBR_15v"
   },
   "source": [
    "## Include a seeding task in the config\n"
   ]
  },
  {
   "cell_type": "code",
   "execution_count": null,
   "metadata": {
    "id": "Qq-wkWq0_15v"
   },
   "outputs": [],
   "source": [
    "task = {\"type\": \"seed\", \"attrs\": {\"fields\": balance_columns}}\n",
    "config[\"models\"][0][\"synthetics\"][\"task\"] = task\n"
   ]
  },
  {
   "cell_type": "markdown",
   "metadata": {
    "id": "IbDnimMH_15w"
   },
   "source": [
    "## Train a synthetic model\n"
   ]
  },
  {
   "cell_type": "code",
   "execution_count": null,
   "metadata": {
    "colab": {
     "base_uri": "https://localhost:8080/"
    },
    "id": "Yvf9EI85_15w",
    "outputId": "bcbed207-3a60-478a-9e65-88d54a45c9b2"
   },
   "outputs": [],
   "source": [
    "from gretel_client import projects\n",
    "from gretel_client.helpers import poll\n",
    "\n",
    "training_path = \"training_data.csv\"\n",
    "a.to_csv(training_path)\n",
    "\n",
    "project = projects.create_or_get_unique_project(name=\"balancing-data-example\")\n",
    "model = project.create_model_obj(model_config=config, data_source=training_path)\n",
    "\n",
    "model.submit_cloud()\n",
    "poll(model)\n"
   ]
  },
  {
   "cell_type": "markdown",
   "metadata": {
    "id": "X--V8DHl_15w"
   },
   "source": [
    "## Generate data using the balance seeds\n"
   ]
  },
  {
   "cell_type": "code",
   "execution_count": null,
   "metadata": {
    "colab": {
     "base_uri": "https://localhost:8080/",
     "height": 1000
    },
    "id": "PeZPWdXT_15x",
    "outputId": "ec54477f-a64d-4686-f7ce-9a4b355ed53f"
   },
   "outputs": [],
   "source": [
    "rh = model.create_record_handler_obj(\n",
    "    data_source=seedfile, params={\"num_records\": len(df_seed)}\n",
    ")\n",
    "rh.submit_cloud()\n",
    "poll(rh)\n",
    "synth_df = pd.read_csv(rh.get_artifact_link(\"data\"), compression=\"gzip\")\n",
    "synth_df.head()\n"
   ]
  },
  {
   "cell_type": "markdown",
   "metadata": {
    "id": "GFoJ8niJ_15x"
   },
   "source": [
    "## Validate the balanced demographic data\n"
   ]
  },
  {
   "cell_type": "code",
   "execution_count": null,
   "metadata": {
    "colab": {
     "base_uri": "https://localhost:8080/"
    },
    "id": "CXdorzf1_15x",
    "outputId": "6732a6b0-b72f-48e0-db74-b7b0cdc40ff4"
   },
   "outputs": [],
   "source": [
    "synth_df[\"GENDER\"].value_counts()\n"
   ]
  },
  {
   "cell_type": "code",
   "execution_count": null,
   "metadata": {
    "colab": {
     "base_uri": "https://localhost:8080/"
    },
    "id": "yxrQujl0_15x",
    "outputId": "69ef1869-865e-4cff-e51e-c3447778619c"
   },
   "outputs": [],
   "source": [
    "synth_df[\"ETHNICITY\"].value_counts()\n"
   ]
  },
  {
   "cell_type": "code",
   "execution_count": null,
   "metadata": {
    "colab": {
     "base_uri": "https://localhost:8080/"
    },
    "id": "Ghc2mEQg_15y",
    "outputId": "710efabf-b480-4dbb-f145-2b717c6a5a11"
   },
   "outputs": [],
   "source": [
    "synth_df[\"RACE\"].value_counts()\n"
   ]
  },
  {
   "cell_type": "code",
   "execution_count": null,
   "metadata": {
    "id": "5152iEX1_15y"
   },
   "outputs": [],
   "source": []
  }
 ],
 "metadata": {
  "colab": {
   "collapsed_sections": [],
   "name": "Gretel - Balancing datasets with conditional data generation",
   "provenance": []
  },
  "kernelspec": {
   "display_name": "Python 3 (ipykernel)",
   "language": "python",
   "name": "python3"
  },
  "language_info": {
   "codemirror_mode": {
    "name": "ipython",
    "version": 3
   },
   "file_extension": ".py",
   "mimetype": "text/x-python",
   "name": "python",
   "nbconvert_exporter": "python",
   "pygments_lexer": "ipython3",
   "version": "3.9.10"
  }
 },
 "nbformat": 4,
 "nbformat_minor": 4
}
