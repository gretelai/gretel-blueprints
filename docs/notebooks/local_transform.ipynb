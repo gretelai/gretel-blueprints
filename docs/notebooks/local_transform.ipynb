{
 "cells": [
  {
   "cell_type": "markdown",
   "metadata": {},
   "source": [
    "## Label and Transform content locally\n",
    "This notebook walks through training a transformation model and redacting PII locally in your environment.\n",
    "\n",
    "Follow the instructions here to set up your local environment: https://docs.gretel.ai/environment-setup\n",
    "\n",
    "Prerequisites:\n",
    "* Python 3.9+ (`python --version`).\n",
    "* Ensure that Docker is running (`docker info`).\n",
    "* The Gretel client SDK is installed and configured (`pip install -U gretel-client; gretel configure`)."
   ]
  },
  {
   "cell_type": "code",
   "execution_count": null,
   "metadata": {
    "id": "ZLAlOI5f_zh2"
   },
   "outputs": [],
   "source": [
    "import json\n",
    "\n",
    "import yaml\n",
    "from smart_open import open\n",
    "import pandas as pd\n",
    "\n",
    "from gretel_client import create_project, submit_docker_local\n",
    "\n",
    "data_source = \"https://gretel-public-website.s3.us-west-2.amazonaws.com/datasets/example-datasets/bike-customer-orders.csv\"\n",
    "\n",
    "# Simple policy to redact PII types with a character. \n",
    "# Dates are shifted +/- 20 days based on the CustomerID field.\n",
    "# Income is bucketized to 5000 number increments.\n",
    "\n",
    "config = \"\"\"\n",
    "schema_version: 1.0\n",
    "models:\n",
    "  - transforms:\n",
    "      data_source: \"_\"\n",
    "      policies:\n",
    "        - name: remove_pii\n",
    "          rules:\n",
    "            - name: fake_or_redact_pii\n",
    "              conditions:\n",
    "                value_label:\n",
    "                  - person_name\n",
    "                  - phone_number\n",
    "                  - gender\n",
    "                  - birth_date\n",
    "              transforms:\n",
    "                - type: redact_with_char\n",
    "                  attrs:\n",
    "                    char: X\n",
    "            - name: dateshifter\n",
    "              conditions:\n",
    "                field_label:\n",
    "                  - date\n",
    "                  - datetime\n",
    "                  - birth_date\n",
    "              transforms:\n",
    "                - type: dateshift\n",
    "                  attrs:\n",
    "                    min: 20\n",
    "                    max: 20\n",
    "                    formats: \"%Y-%m-%d\"\n",
    "                    field_name: \"CustomerID\"        \n",
    "            - name: bucketize-income\n",
    "              conditions:\n",
    "                field_name:\n",
    "                  - YearlyIncome\n",
    "              transforms:\n",
    "                - type: numberbucket\n",
    "                  attrs:\n",
    "                    min: 0\n",
    "                    max: 1000000\n",
    "                    nearest: 5000\n",
    "\"\"\"\n"
   ]
  },
  {
   "cell_type": "code",
   "execution_count": null,
   "metadata": {},
   "outputs": [],
   "source": [
    "# Load and preview the DataFrame to train the transform model on.\n",
    "\n",
    "df = pd.read_csv(data_source, nrows=500)\n",
    "df.to_csv('training_data.csv', index=False)\n",
    "df.head(5)"
   ]
  },
  {
   "cell_type": "code",
   "execution_count": null,
   "metadata": {
    "colab": {
     "base_uri": "https://localhost:8080/",
     "height": 582
    },
    "id": "xq2zj-6h_zh5",
    "outputId": "0587ddc8-ccb6-455b-f961-9392b4736d69"
   },
   "outputs": [],
   "source": [
    "project = create_project()"
   ]
  },
  {
   "cell_type": "code",
   "execution_count": null,
   "metadata": {
    "id": "nvOhfvS4_zh5"
   },
   "outputs": [],
   "source": [
    "# The following cell will create the transform model and \n",
    "# run a sample of the data set through the model. this sample\n",
    "# can be used to ensure the model is functioning correctly\n",
    "# before continuing.\n",
    "transform = project.create_model_obj(\n",
    "    model_config=yaml.safe_load(config),\n",
    "    data_source='training_data.csv'\n",
    ")\n",
    "\n",
    "run = submit_docker_local(transform, output_dir=\"tmp/\")"
   ]
  },
  {
   "cell_type": "code",
   "execution_count": null,
   "metadata": {
    "id": "EAZLMwmG_zh6"
   },
   "outputs": [],
   "source": [
    "# Review the sampled classification report\n",
    "# to get an overview of detected data types\n",
    "report = json.loads(open(\"tmp/report_json.json.gz\").read())\n",
    "pd.DataFrame(report[\"metadata\"][\"fields\"])"
   ]
  },
  {
   "cell_type": "code",
   "execution_count": null,
   "metadata": {
    "id": "hL0COKZo_zh6"
   },
   "outputs": [],
   "source": [
    "# Next let's transform the remaining records using the transformation\n",
    "# policy and model that was just created.\n",
    "transform_records = transform.create_record_handler_obj(data_source='training_data.csv')\n",
    "\n",
    "run = submit_docker_local(\n",
    "    transform_records,\n",
    "    model_path=\"tmp/model.tar.gz\",\n",
    "    output_dir=\"tmp/\"\n",
    ")"
   ]
  },
  {
   "cell_type": "code",
   "execution_count": null,
   "metadata": {
    "id": "eVPQySOg_zh6"
   },
   "outputs": [],
   "source": [
    "# View the transformation report\n",
    "report = json.loads(open(\"tmp/report_json.json.gz\").read())\n",
    "pd.DataFrame(report[\"metadata\"][\"fields\"])"
   ]
  },
  {
   "cell_type": "code",
   "execution_count": null,
   "metadata": {},
   "outputs": [],
   "source": [
    "# View the transformed data\n",
    "results = pd.read_csv('tmp/data.gz')\n",
    "results.head(5)"
   ]
  },
  {
   "cell_type": "code",
   "execution_count": null,
   "metadata": {},
   "outputs": [],
   "source": []
  }
 ],
 "metadata": {
  "colab": {
   "name": "local_jobs.ipynb",
   "provenance": []
  },
  "interpreter": {
   "hash": "9bba8f6ed2feafdad698ed6a1926c15a7650a75eedae60d223f34187f1656d66"
  },
  "kernelspec": {
   "display_name": "Python 3",
   "language": "python",
   "name": "python3"
  },
  "language_info": {
   "codemirror_mode": {
    "name": "ipython",
    "version": 3
   },
   "file_extension": ".py",
   "mimetype": "text/x-python",
   "name": "python",
   "nbconvert_exporter": "python",
   "pygments_lexer": "ipython3",
   "version": "3.8.3"
  }
 },
 "nbformat": 4,
 "nbformat_minor": 1
}
