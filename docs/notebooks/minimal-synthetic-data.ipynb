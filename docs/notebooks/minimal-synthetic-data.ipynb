{
  "cells": [
 {
   "cell_type": "markdown",
   "metadata": {
    "colab_type": "text",
    "id": "view-in-github"
   },
   "source": [
    "<a href=\"https://colab.research.google.com/github/gretelai/gretel-blueprints/blob/main/docs/notebooks/minimal-synthetic-data.ipynb\" target=\"_parent\"><img src=\"https://colab.research.google.com/assets/colab-badge.svg\" alt=\"Open In Colab\"/></a>\n"
   ]
  },
    {
      "cell_type": "code",
      "execution_count": null,
      "metadata": {
        "scrolled": true,
        "id": "iovURYt3d_pa"
      },
      "outputs": [],
      "source": [
        "pip install -U gretel-client pandas"
      ]
    },
    {
      "cell_type": "code",
      "execution_count": null,
      "metadata": {
        "scrolled": true,
        "id": "PryXC9MZd_pb"
      },
      "outputs": [],
      "source": [
        "# Specify your Gretel API key\n",
        "import pandas as pd\n",
        "from gretel_client import configure_session\n",
        "\n",
        "configure_session(api_key=\"prompt\", cache=\"yes\", validate=True)"
      ]
    },
    {
      "cell_type": "code",
      "execution_count": null,
      "metadata": {
        "scrolled": true,
        "id": "94NFYFbEd_pc"
      },
      "outputs": [],
      "source": [
        "# Create a project and set model configuration\n",
        "from gretel_client.projects import create_or_get_unique_project\n",
        "project = create_or_get_unique_project(name=\"mlworld\")\n",
        "\n",
        "from gretel_client.projects.models import read_model_config\n",
        "config = read_model_config(\"synthetics/default\")"
      ]
    },
    {
      "cell_type": "code",
      "execution_count": null,
      "metadata": {
        "scrolled": true,
        "id": "gK2B5viId_pc"
      },
      "outputs": [],
      "source": [
        "# Load and preview the DataFrame to train the synthetic model on.\n",
        "import pandas as pd\n",
        "\n",
        "dataset_path = \"https://gretel-public-website.s3-us-west-2.amazonaws.com/datasets/USAdultIncome5k.csv\"\n",
        "df = pd.read_csv(dataset_path)\n",
        "df.to_csv(\"training_data.csv\", index=False)\n",
        "df"
      ]
    },
    {
      "cell_type": "code",
      "execution_count": null,
      "metadata": {
        "scrolled": false,
        "id": "z1Ff1N3xd_pc"
      },
      "outputs": [],
      "source": [
        "from gretel_client.helpers import poll\n",
        "\n",
        "model = project.create_model_obj(model_config=config, data_source=\"training_data.csv\")\n",
        "model.submit_cloud()\n",
        "\n",
        "poll(model)"
      ]
    },
    {
      "cell_type": "code",
      "execution_count": null,
      "metadata": {
        "id": "lDNP0xAid_pd"
      },
      "outputs": [],
      "source": [
        "# View the synthetic data\n",
        "\n",
        "synthetic_df = pd.read_csv(model.get_artifact_link(\"data_preview\"), compression=\"gzip\")\n",
        "\n",
        "synthetic_df"
      ]
    }
  ],
  "metadata": {
    "interpreter": {
      "hash": "71cb0d5e65981f6fa5659bfbb000a9cb81b1de06a40d22b09746b990f4d79987"
    },
    "kernelspec": {
      "display_name": "Python 3.9.10 ('gretel': venv)",
      "language": "python",
      "name": "python3"
    },
    "language_info": {
      "codemirror_mode": {
        "name": "ipython",
        "version": 3
      },
      "file_extension": ".py",
      "mimetype": "text/x-python",
      "name": "python",
      "nbconvert_exporter": "python",
      "pygments_lexer": "ipython3",
      "version": "3.9.10"
    },
    "colab": {
      "name": "mlopsworld.ipynb",
      "provenance": []
    }
  },
  "nbformat": 4,
  "nbformat_minor": 0
}
