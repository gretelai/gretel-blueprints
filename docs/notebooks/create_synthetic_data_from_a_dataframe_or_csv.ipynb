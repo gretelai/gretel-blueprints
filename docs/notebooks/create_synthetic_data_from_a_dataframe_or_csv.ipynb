{
  "nbformat": 4,
  "nbformat_minor": 0,
  "metadata": {
    "colab": {
      "name": "Create synthetic data from a DataFrame or CSV",
      "provenance": [],
      "collapsed_sections": [],
      "toc_visible": true
    },
    "kernelspec": {
      "display_name": "Python 3",
      "language": "python",
      "name": "python3"
    },
    "language_info": {
      "codemirror_mode": {
        "name": "ipython",
        "version": 3
      },
      "file_extension": ".py",
      "mimetype": "text/x-python",
      "name": "python",
      "nbconvert_exporter": "python",
      "pygments_lexer": "ipython3",
      "version": "3.7.9"
    }
  },
  "cells": [
    {
      "cell_type": "markdown",
      "metadata": {
        "id": "UTRxpSlaczHY"
      },
      "source": [
        "# Create synthetic data with the Python SDK\n",
        "\n",
        "This notebook will walk you through the process of creating your own synthetic data using Gretel's Python SDK from a CSV or a DataFrame of your choosing. \n",
        "\n",
        "To run this notebook, you will need an API key from the Gretel console,  at https://console.gretel.cloud.\n",
        "\n"
      ]
    },
    {
      "cell_type": "code",
      "metadata": {
        "id": "VEM6kjRsczHd"
      },
      "source": [
        "%%capture\n",
        "!pip install -U gretel-client"
      ],
      "execution_count": null,
      "outputs": []
    },
    {
      "cell_type": "code",
      "metadata": {
        "id": "ZQ-TmAdwczHd"
      },
      "source": [
        "# Specify your Gretel API key\n",
        "\n",
        "from getpass import getpass\n",
        "import pandas as pd\n",
        "from gretel_client import configure_session, ClientConfig\n",
        "\n",
        "pd.set_option('max_colwidth', None)\n",
        "\n",
        "configure_session(ClientConfig(api_key=getpass(prompt=\"Enter Gretel API key\"), \n",
        "                               endpoint=\"https://api.gretel.cloud\"))\n",
        "\n",
        "                            "
      ],
      "execution_count": null,
      "outputs": []
    },
    {
      "cell_type": "code",
      "metadata": {
        "id": "fmHDICI1oPS5"
      },
      "source": [
        "# Create a project\n",
        "\n",
        "from gretel_client import create_project\n",
        "\n",
        "project = create_project(display_name=\"synthetic-data\")"
      ],
      "execution_count": null,
      "outputs": []
    },
    {
      "cell_type": "markdown",
      "metadata": {
        "id": "4PD5B0U06ALs"
      },
      "source": [
        "## Create the synthetic data configuration\n",
        "Load the default configuration template. This template will work well for most datasets. View other templates at https://github.com/gretelai/gretel-blueprints/tree/main/config_templates/gretel/synthetics"
      ]
    },
    {
      "cell_type": "code",
      "metadata": {
        "id": "uIu3hkzoCzGz"
      },
      "source": [
        "import json\n",
        "from smart_open import open\n",
        "import yaml\n",
        "\n",
        "with open(\"https://raw.githubusercontent.com/gretelai/gretel-blueprints/main/config_templates/gretel/synthetics/default.yml\", 'r') as stream:\n",
        "    config = yaml.safe_load(stream)\n",
        "\n",
        "# Set the model epochs to 50\n",
        "config['models'][0]['synthetics']['params']['epochs'] = 50\n",
        "\n",
        "print(json.dumps(config, indent=2))"
      ],
      "execution_count": null,
      "outputs": []
    },
    {
      "cell_type": "markdown",
      "metadata": {
        "id": "s9LTh7GO6VIu"
      },
      "source": [
        "## Load and preview the source dataset\n",
        "Specify a data source to train the model on. This can be a local file, web location, or HDFS file.\n"
      ]
    },
    {
      "cell_type": "code",
      "metadata": {
        "id": "YMg9nX6SczHe"
      },
      "source": [
        "# Load and preview the DataFrame to train the synthetic model on.\n",
        "import pandas as pd\n",
        "\n",
        "dataset_path = 'https://gretel-public-website.s3-us-west-2.amazonaws.com/datasets/USAdultIncome5k.csv'\n",
        "df = pd.read_csv(dataset_path)\n",
        "df.to_csv('training_data.csv', index=False)\n",
        "df"
      ],
      "execution_count": null,
      "outputs": []
    },
    {
      "cell_type": "markdown",
      "metadata": {
        "id": "WxnH8th-65Dh"
      },
      "source": [
        "## Train the synthetic model\n",
        "In this step, we will task the worker running in the Gretel cloud, or locally, to train a synthetic model on the source dataset."
      ]
    },
    {
      "cell_type": "code",
      "metadata": {
        "id": "O4-E_F0qczHe"
      },
      "source": [
        "from gretel_client.helpers import poll\n",
        "\n",
        "model = project.create_model_obj(model_config=config)\n",
        "model.data_source = 'training_data.csv'\n",
        "model.submit(upload_data_source=True)\n",
        "\n",
        "poll(model)"
      ],
      "execution_count": null,
      "outputs": []
    },
    {
      "cell_type": "markdown",
      "metadata": {
        "id": "2bgWKArX7QGf"
      },
      "source": [
        "# View the generated synthetic data"
      ]
    },
    {
      "cell_type": "code",
      "metadata": {
        "id": "sPM-gaU6czHf"
      },
      "source": [
        "# View the synthetic data\n",
        "\n",
        "synthetic_df = pd.read_csv(model.get_artifact_link(\"data_preview\"), compression='gzip')\n",
        "\n",
        "synthetic_df"
      ],
      "execution_count": null,
      "outputs": []
    },
    {
      "cell_type": "markdown",
      "metadata": {
        "id": "69XYfU9k7fq4"
      },
      "source": [
        "# View the synthetic data quality report"
      ]
    },
    {
      "cell_type": "code",
      "metadata": {
        "id": "zX8qsizqczHg",
        "jupyter": {
          "outputs_hidden": true
        },
        "tags": []
      },
      "source": [
        "# Generate report that shows the statistical performance between the training and synthetic data\n",
        "\n",
        "import IPython\n",
        "from smart_open import open\n",
        "\n",
        "IPython.display.HTML(data=open(model.get_artifact_link(\"report\")).read())"
      ],
      "execution_count": null,
      "outputs": []
    },
    {
      "cell_type": "markdown",
      "metadata": {
        "id": "6IkWOnVQ7oo1"
      },
      "source": [
        "# Generate unlimited synthetic data\n",
        "You can now use the trained synthetic model to generate as much synthetic data as you like."
      ]
    },
    {
      "cell_type": "code",
      "metadata": {
        "id": "X0bI0OpI6W3Y"
      },
      "source": [
        "# Generate more records from the model\n",
        "\n",
        "record_handler = model.create_record_handler_obj()\n",
        "\n",
        "record_handler.submit(\n",
        "    action=\"generate\",\n",
        "    params={\"num_records\": 100, \"max_invalid\": 500}\n",
        ")\n",
        "\n",
        "poll(record_handler)"
      ],
      "execution_count": null,
      "outputs": []
    },
    {
      "cell_type": "code",
      "metadata": {
        "id": "uUIErjQ7CzGy"
      },
      "source": [
        "synthetic_df = pd.read_csv(record_handler.get_artifact_link(\"data\"), compression='gzip')\n",
        "\n",
        "synthetic_df"
      ],
      "execution_count": null,
      "outputs": []
    }
  ]
}