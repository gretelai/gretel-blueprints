{
 "cells": [
  {
   "cell_type": "markdown",
   "metadata": {
    "id": "UTRxpSlaczHY"
   },
   "source": [
    "# Create synthetic data with the Python SDK\n",
    "\n",
    "This notebook will walk you through the process of creating your own synthetic data using Gretel's Python SDK from a CSV or a DataFrame of your choosing.\n",
    "\n",
    "To run this notebook, you will need an API key from the Gretel console, at https://console.gretel.cloud.\n"
   ]
  },
  {
   "cell_type": "code",
   "execution_count": null,
   "metadata": {
    "id": "VEM6kjRsczHd"
   },
   "outputs": [],
   "source": [
    "%%capture\n",
    "!pip install -U gretel-client"
   ]
  },
  {
   "cell_type": "code",
   "execution_count": null,
   "metadata": {
    "id": "ZQ-TmAdwczHd"
   },
   "outputs": [],
   "source": [
    "# Specify your Gretel API key\n",
    "\n",
    "import pandas as pd\n",
    "from gretel_client import configure_session\n",
    "\n",
    "pd.set_option(\"max_colwidth\", None)\n",
    "\n",
    "configure_session(api_key=\"prompt\", cache=\"yes\", validate=True)\n"
   ]
  },
  {
   "cell_type": "code",
   "execution_count": null,
   "metadata": {
    "id": "fmHDICI1oPS5"
   },
   "outputs": [],
   "source": [
    "# Create a project\n",
    "\n",
    "from gretel_client.projects import create_or_get_unique_project\n",
    "\n",
    "project = create_or_get_unique_project(name=\"synthetic-data\")\n"
   ]
  },
  {
   "cell_type": "markdown",
   "metadata": {
    "id": "4PD5B0U06ALs"
   },
   "source": [
    "## Create the synthetic data configuration\n",
    "\n",
    "Load the default configuration template. This template will work well for most datasets. View other templates at https://github.com/gretelai/gretel-blueprints/tree/main/config_templates/gretel/synthetics\n"
   ]
  },
  {
   "cell_type": "code",
   "execution_count": null,
   "metadata": {
    "id": "uIu3hkzoCzGz"
   },
   "outputs": [],
   "source": [
    "import json\n",
    "\n",
    "from gretel_client.projects.models import read_model_config\n",
    "\n",
    "config = read_model_config(\"synthetics/default\")\n",
    "\n",
    "# Set the model epochs to 50\n",
    "config[\"models\"][0][\"synthetics\"][\"params\"][\"epochs\"] = 50\n",
    "\n",
    "print(json.dumps(config, indent=2))\n"
   ]
  },
  {
   "cell_type": "markdown",
   "metadata": {
    "id": "s9LTh7GO6VIu"
   },
   "source": [
    "## Load and preview the source dataset\n",
    "\n",
    "Specify a data source to train the model on. This can be a local file, web location, or HDFS file.\n"
   ]
  },
  {
   "cell_type": "code",
   "execution_count": null,
   "metadata": {
    "id": "YMg9nX6SczHe"
   },
   "outputs": [],
   "source": [
    "# Load and preview the DataFrame to train the synthetic model on.\n",
    "import pandas as pd\n",
    "\n",
    "dataset_path = \"https://gretel-public-website.s3-us-west-2.amazonaws.com/datasets/USAdultIncome5k.csv\"\n",
    "df = pd.read_csv(dataset_path)\n",
    "df.to_csv(\"training_data.csv\", index=False)\n",
    "df\n"
   ]
  },
  {
   "cell_type": "markdown",
   "metadata": {
    "id": "WxnH8th-65Dh"
   },
   "source": [
    "## Train the synthetic model\n",
    "\n",
    "In this step, we will task the worker running in the Gretel cloud, or locally, to train a synthetic model on the source dataset.\n"
   ]
  },
  {
   "cell_type": "code",
   "execution_count": null,
   "metadata": {
    "id": "O4-E_F0qczHe"
   },
   "outputs": [],
   "source": [
    "from gretel_client.helpers import poll\n",
    "\n",
    "model = project.create_model_obj(model_config=config, data_source=\"training_data.csv\")\n",
    "model.submit_cloud()\n",
    "\n",
    "poll(model)\n"
   ]
  },
  {
   "cell_type": "code",
   "execution_count": null,
   "metadata": {
    "id": "sPM-gaU6czHf"
   },
   "outputs": [],
   "source": [
    "# View the synthetic data\n",
    "\n",
    "synthetic_df = pd.read_csv(model.get_artifact_link(\"data_preview\"), compression=\"gzip\")\n",
    "\n",
    "synthetic_df\n"
   ]
  },
  {
   "cell_type": "markdown",
   "metadata": {
    "id": "69XYfU9k7fq4"
   },
   "source": [
    "# View the synthetic data quality report\n"
   ]
  },
  {
   "cell_type": "code",
   "execution_count": null,
   "metadata": {
    "id": "zX8qsizqczHg",
    "jupyter": {
     "outputs_hidden": true
    },
    "tags": []
   },
   "outputs": [],
   "source": [
    "# Generate report that shows the statistical performance between the training and synthetic data\n",
    "\n",
    "import IPython\n",
    "from smart_open import open\n",
    "\n",
    "IPython.display.HTML(data=open(model.get_artifact_link(\"report\")).read())\n"
   ]
  },
  {
   "cell_type": "markdown",
   "metadata": {
    "id": "6IkWOnVQ7oo1"
   },
   "source": [
    "# Generate unlimited synthetic data\n",
    "\n",
    "You can now use the trained synthetic model to generate as much synthetic data as you like.\n"
   ]
  },
  {
   "cell_type": "code",
   "execution_count": null,
   "metadata": {
    "id": "X0bI0OpI6W3Y"
   },
   "outputs": [],
   "source": [
    "# Generate more records from the model\n",
    "\n",
    "record_handler = model.create_record_handler_obj(\n",
    "    params={\"num_records\": 100, \"max_invalid\": 500}\n",
    ")\n",
    "record_handler.submit_cloud()\n",
    "poll(record_handler)\n"
   ]
  },
  {
   "cell_type": "code",
   "execution_count": null,
   "metadata": {
    "id": "uUIErjQ7CzGy"
   },
   "outputs": [],
   "source": [
    "synthetic_df = pd.read_csv(record_handler.get_artifact_link(\"data\"), compression=\"gzip\")\n",
    "\n",
    "synthetic_df\n"
   ]
  }
 ],
 "metadata": {
  "colab": {
   "collapsed_sections": [],
   "name": "Create synthetic data from a DataFrame or CSV",
   "provenance": [],
   "toc_visible": true
  },
  "kernelspec": {
   "display_name": "Python 3 (ipykernel)",
   "language": "python",
   "name": "python3"
  },
  "language_info": {
   "codemirror_mode": {
    "name": "ipython",
    "version": 3
   },
   "file_extension": ".py",
   "mimetype": "text/x-python",
   "name": "python",
   "nbconvert_exporter": "python",
   "pygments_lexer": "ipython3",
   "version": "3.9.10"
  }
 },
 "nbformat": 4,
 "nbformat_minor": 0
}
