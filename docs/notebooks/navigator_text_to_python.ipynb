{
 "cells": [
  {
   "cell_type": "markdown",
   "metadata": {},
   "source": [
    "# Navigator Text-to-Python Notebook"
   ]
  },
  {
   "cell_type": "code",
   "execution_count": 1,
   "metadata": {},
   "outputs": [],
   "source": [
    "#%%capture\n",
    "#!pip install git+https://github.com/gretelai/gretel-python-client@dev/data-designer-m1\n",
    "\n",
    "session_kwargs = {\n",
    "    \"api_key\": \"prompt\",\n",
    "    \"endpoint\": \"https://api-dev.gretel.cloud\",\n",
    "    \"cache\": \"yes\",\n",
    "}"
   ]
  },
  {
   "cell_type": "code",
   "execution_count": 2,
   "metadata": {},
   "outputs": [],
   "source": [
    "from gretel_client.navigator import DataDesigner"
   ]
  },
  {
   "cell_type": "markdown",
   "metadata": {},
   "source": [
    "### 📘 Text-to-Python Blueprint"
   ]
  },
  {
   "cell_type": "code",
   "execution_count": 10,
   "metadata": {},
   "outputs": [],
   "source": [
    "text2python_blueprint_string =\"\"\"\n",
    "model_suite: Apache-2.0\n",
    "\n",
    "special_system_instructions: >-\n",
    "   You are an expert at writing Python code and technical documentation. You are obsessed with writing clean,\n",
    "   efficient, and maintainable code. You are tasked with generating Python code and natural\n",
    "   language text that will be used to train a language model that will be used to generate Python code.\n",
    "\n",
    "seed_categories:\n",
    "    - name: domain\n",
    "      description: Major industry domain or sector that relies on robust software solutions\n",
    "      values: [Healthcare, Finance, Retail, Manufacturing, Education, Public Health, Science and Technology, Environmental Science, Government, Media and Entertainment, \n",
    "            Transportation, Energy, Agriculture, Manufacturing, Food and Beverage, Wellness, Construction, Automotive, Telecommunications, Public Services, Financial Services, \n",
    "            Medicine, Social Services, Education and Training, Information and Communications, Environment, Textiles, Startups, Legal and Law, Entertainment, Pharmaceuticals, \n",
    "            Food Service, Advertising, Financial Planning, Travel and Tourism, Waste Management, E-commerce, Hospitality, Philanthropy, Public Health, Sports, Social Media, \n",
    "            Venture Capital, Arts and Culture, Economics, Artificial Intelligence, Biotechnology, Renewable Energy and Sustainability, Business and Entrepreneurship, \n",
    "            Defense and Aerospace, Logistics, Oil and Gas, Fashion and Apparel, Human Resources, Music, Nonprofit, Gaming, Insurance, Space Exploration, Banking, Smart Cities, \n",
    "            Recreation, Maritime, Electricity, Gas & Water Services, Wholesale Trade, Hotel and Resorts, Rental Services, Fitness, Agricultural Technology, Consulting, Analytics, \n",
    "            Chemicals, Urban Planning, Internet of Things, Global Trade, Automation Technology, Journalism, Engineering, Psychology, Scientific Research, Publishing, Cybersecurity, \n",
    "            Credit Cards & Loans, Robotics & Computing, Digital Health, Consumer Electronics, Business Intelligence, Market Research, Sales Forecasting, Data Governance, Digital Marketing]\n",
    "      subcategories:\n",
    "        - name: topic\n",
    "          num_values_to_generate: 25\n",
    "          description: Key topics that professional Python developers care about for corresponding \n",
    "\n",
    "    - name: code_complexity\n",
    "      description: Complexity of the Python code.\n",
    "      values:\n",
    "          - \"Intermediate: Control flow, functions, and modules\"\n",
    "          - \"Advanced: Classes, inheritance, and exceptions\"\n",
    "          - \"Expert: Decorators, generators, and context managers\"\n",
    "\n",
    "    - name: natural_language_type\n",
    "      description: Type of natural language that will be paired with a block of code\n",
    "      num_values_to_generate: 10\n",
    "      values:\n",
    "          - a natural language prompt for a Python coding task.\n",
    "          - a question about how to solve a problem using a Python program\n",
    "          - a code description that would appear at the top of a function, class, or module\n",
    "          - an instruction that instructs a user to write Python code for a specific task\n",
    "\n",
    "data_columns:\n",
    "    - name: natural_language_prompt\n",
    "      description: Natural language text that will be paired with a block of Python code\n",
    "      specific_instructions: \"Generate {natural_language_type} that is relevant to {topic} in the {domain} industry. Ensure that the prompt you generate is specific, accurate and detailed\"\n",
    "    \n",
    "    - name: suggested_packages\n",
    "      description: Suggested Python packages that are commonly used in the {domain} industry\n",
    "      specific_instructions: \"Suggest up to 4 Python packages that are commonly used in the {domain} industry.\"\n",
    "      output_type: list\n",
    "      relevant_columns: [domain, topic, natural_language_prompt]\n",
    "\n",
    "    - name: code\n",
    "      description: Python code that will be paired with natural language text.\n",
    "      specific_instructions: \"{natural_language_prompt}\"\n",
    "      relevant_columns: [domain, topic, code_complexity, suggested_packages]\n",
    "      output_type: code\n",
    "      llm_type: code\n",
    "\n",
    "data_validators:\n",
    "    - validator: code\n",
    "      code_lang: python\n",
    "      code_columns: [code]\n",
    "\"\"\""
   ]
  },
  {
   "cell_type": "code",
   "execution_count": null,
   "metadata": {},
   "outputs": [],
   "source": [
    "# Defines a new DataDesigner instance\n",
    "designer = DataDesigner.from_config(text2python_blueprint_string, **session_kwargs)\n",
    "designer\n"
   ]
  },
  {
   "cell_type": "markdown",
   "metadata": {},
   "source": [
    "### 👀 Generating a dataset preview"
   ]
  },
  {
   "cell_type": "code",
   "execution_count": null,
   "metadata": {},
   "outputs": [],
   "source": [
    "preview = designer.generate_dataset_preview()"
   ]
  },
  {
   "cell_type": "code",
   "execution_count": null,
   "metadata": {},
   "outputs": [],
   "source": [
    "preview.display_dataframe_in_notebook()"
   ]
  },
  {
   "cell_type": "markdown",
   "metadata": {},
   "source": [
    "### 🔎 Taking a closer look at single records"
   ]
  },
  {
   "cell_type": "code",
   "execution_count": null,
   "metadata": {},
   "outputs": [],
   "source": [
    "designer.display_sample_record(preview.output.sample(1))"
   ]
  },
  {
   "cell_type": "markdown",
   "metadata": {},
   "source": [
    "### 🤔 Like what you see? Generate an entire dataset"
   ]
  },
  {
   "cell_type": "code",
   "execution_count": null,
   "metadata": {},
   "outputs": [],
   "source": [
    "# Submit a batch workflow to generate records\n",
    "results = designer.submit_batch_workflow(num_records=50)"
   ]
  },
  {
   "cell_type": "code",
   "execution_count": null,
   "metadata": {},
   "outputs": [],
   "source": [
    "# Fetch the dataset\n",
    "df = results.fetch_dataset(wait_for_completion=True)"
   ]
  },
  {
   "cell_type": "code",
   "execution_count": null,
   "metadata": {},
   "outputs": [],
   "source": [
    "# Inspect the dataset\n",
    "df.head()"
   ]
  },
  {
   "cell_type": "code",
   "execution_count": null,
   "metadata": {},
   "outputs": [],
   "source": []
  }
 ],
 "metadata": {
  "kernelspec": {
   "display_name": "monogretel",
   "language": "python",
   "name": "python3"
  },
  "language_info": {
   "codemirror_mode": {
    "name": "ipython",
    "version": 3
   },
   "file_extension": ".py",
   "mimetype": "text/x-python",
   "name": "python",
   "nbconvert_exporter": "python",
   "pygments_lexer": "ipython3",
   "version": "3.9.17"
  }
 },
 "nbformat": 4,
 "nbformat_minor": 2
}
