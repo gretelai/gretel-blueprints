{
  "nbformat": 4,
  "nbformat_minor": 0,
  "metadata": {
    "colab": {
      "provenance": []
    },
    "kernelspec": {
      "name": "python3",
      "display_name": "Python 3"
    },
    "language_info": {
      "name": "python"
    }
  },
  "cells": [
    {
      "cell_type": "markdown",
      "source": [
        "# Transform a Database with Gretel Relational\n",
        "\n",
        "This notebook uses [Gretel Relational Transform](https://docs.gretel.ai/reference/relational) to redact Personal Identifiable Information (PII) in a sample telecommunications database. Gretel Workflows all you to connect directly to your data source to extract training data, train and generate data using one or more Gretel Models, and (optionally) write your generated data back to your data destination.\n",
        "\n",
        "Try running the example below and compare the transformed vs real world data. With this sample database, the notebook takes approximately 5 minutes to run.\n",
        "\n",
        "To run this notebook, you will need [your API key from the Gretel Console](https://console.gretel.ai/users/me/key).\n",
        "\n",
        "**Telecom Database Schema**\n",
        "\n",
        "<img src=\"https://gretel-blueprints-pub.s3.us-west-2.amazonaws.com/rdb/telecom_db.png\"  width=\"70%\" height=\"70%\">"
      ],
      "metadata": {
        "id": "m5UTfvYPOCno"
      }
    },
    {
      "cell_type": "markdown",
      "source": [
        "## Getting Started\n",
        "These cells install `gretel-client`, import the required modules, define helper functions, and then prompt you to enter your API key to log into Gretel."
      ],
      "metadata": {
        "id": "NYjLo2JeQWOY"
      }
    },
    {
      "cell_type": "code",
      "execution_count": null,
      "metadata": {
        "id": "Xs-rOB3uN0-T"
      },
      "outputs": [],
      "source": [
        "# Install required packages\n",
        "\n",
        "%%capture\n",
        "!pip install -Uqq gretel-client"
      ]
    },
    {
      "cell_type": "code",
      "source": [
        "# Imports\n",
        "\n",
        "import pandas as pd\n",
        "import yaml\n",
        "import time\n",
        "\n",
        "from gretel_client import configure_session\n",
        "from gretel_client import create_or_get_unique_project\n",
        "from gretel_client.config import get_session_config\n",
        "from gretel_client.rest_v1.api.connections_api import ConnectionsApi\n",
        "from gretel_client.rest_v1.api.workflows_api import WorkflowsApi\n",
        "from gretel_client.rest_v1.models import (\n",
        "    CreateConnectionRequest,\n",
        "    CreateWorkflowRunRequest,\n",
        "    CreateWorkflowRequest,\n",
        ")\n",
        "from gretel_client.workflows.logs import print_logs_for_workflow_run"
      ],
      "metadata": {
        "id": "35xpN6RrQZ9u"
      },
      "execution_count": null,
      "outputs": []
    },
    {
      "cell_type": "code",
      "source": [
        "# @title Helper functions\n",
        "# Helpers for running workflows from the notebook\n",
        "\n",
        "\n",
        "def run_workflow(config: str):\n",
        "    \"\"\"Create a workflow, and workflow run from a given yaml config. Blocks and\n",
        "    prints log lines until the workflow reaches a terminal state.\n",
        "\n",
        "    Args:\n",
        "        config: The workflow config to run.\n",
        "    \"\"\"\n",
        "    print(\"Validating actions in the config...\")\n",
        "    config_dict = yaml.safe_load(config)\n",
        "\n",
        "    for action in config_dict[\"actions\"]:\n",
        "        print(f\"Validating action {action['name']}\")\n",
        "        response = workflow_api.validate_workflow_action(action)\n",
        "        print(f\"Validation response: {response}\")\n",
        "\n",
        "    workflow = workflow_api.create_workflow(\n",
        "        CreateWorkflowRequest(project_id=project.project_guid, config=config_dict, name=config_dict[\"name\"])\n",
        "    )\n",
        "\n",
        "    workflow_run = workflow_api.create_workflow_run(\n",
        "        CreateWorkflowRunRequest(workflow_id=workflow.id)\n",
        "    )\n",
        "\n",
        "    print(f\"workflow: {workflow.id}\")\n",
        "    print(f\"workflow run id: {workflow_run.id}\")\n",
        "\n",
        "    print_logs_for_workflow_run(workflow_run.id, session)"
      ],
      "metadata": {
        "id": "ETHB5XXnQcp4",
        "cellView": "form"
      },
      "execution_count": null,
      "outputs": []
    },
    {
      "cell_type": "code",
      "source": [
        "# Log into Gretel\n",
        "configure_session(api_key=\"prompt\", cache=\"yes\", validate=True)"
      ],
      "metadata": {
        "id": "GQKSRI_WQmjr"
      },
      "execution_count": null,
      "outputs": []
    },
    {
      "cell_type": "markdown",
      "source": [
        "## Designate Project for your Relational Workflow"
      ],
      "metadata": {
        "id": "F27PoejzSvhP"
      }
    },
    {
      "cell_type": "code",
      "source": [
        "session = get_session_config()\n",
        "connection_api = session.get_v1_api(ConnectionsApi)\n",
        "workflow_api = session.get_v1_api(WorkflowsApi)\n",
        "\n",
        "project = create_or_get_unique_project(name=\"Transform-Telecom-Database\")"
      ],
      "metadata": {
        "id": "YRgJn52kSd1P"
      },
      "execution_count": null,
      "outputs": []
    },
    {
      "cell_type": "markdown",
      "source": [
        "## Configure and Run your Relational Workflow\n",
        "Gretel Workflows provide an easy to use, config driven API for automating and operationalizing Gretel. A Gretel Workflow is constructed by actions that are composed to create a pipeline for processing data with Gretel. To learn more, check out [our docs](https://docs.gretel.ai/reference/workflows)."
      ],
      "metadata": {
        "id": "Qx-9Dl9OSztc"
      }
    },
    {
      "cell_type": "markdown",
      "source": [
        "### Define Source Data via Connector\n",
        "Gretel Workflows work hand-in-hand with our connectors, allowing you to connect directly to the data that will be transformed. The first step in any workflow is a `read` action where the training data is extracted from your chosen connection.\n",
        "\n",
        "For this example, we are using a sample MySQL source connection to read our input telecom database. To transform your own database, you can [create a connection in the Gretel Console](https://console.gretel.ai/connections) and replace the `input_connection_uid` parameter below with your own connection UID."
      ],
      "metadata": {
        "id": "cLClb5ltVWoR"
      }
    },
    {
      "cell_type": "code",
      "source": [
        "input_connection_uid = \"sample_mysql_telecom\" # @param {type:\"string\"}\n",
        "connection_type = connection_api.get_connection(input_connection_uid).dict()['type']"
      ],
      "metadata": {
        "id": "aZfojPjmXD2U",
        "cellView": "form"
      },
      "execution_count": null,
      "outputs": []
    },
    {
      "cell_type": "markdown",
      "source": [
        "### Define Workflow configuration\n",
        "\n",
        "Workflows are defined using a YAML config that specifies the data connections and models used in a sequence of actions.\n",
        "\n",
        "In this example, the workflow is composed by the following actions:\n",
        "1. `mysql_destination` configured to extract a database via a MySQL connection.\n",
        "2. `gretel_tabular` which redacts PII in the extracted database using the Gretel Transform.\n",
        "\n",
        "While not included in this notebook, you can also chain different models together based on specific use cases or privacy needs. And, you can use a destination action to write the outputs of model(s) via a destination connection. Workflows can also be scheduled to run on a recurring basis using triggers.\n",
        "\n",
        "To learn more about how to define Workflow configs, check out [our config syntax docs](https://docs.gretel.ai/reference/workflows/config-syntax)."
      ],
      "metadata": {
        "id": "8QR-1h5Y96iB"
      }
    },
    {
      "cell_type": "code",
      "source": [
        "workflow_config = f\"\"\"\\\n",
        "name: my-{connection_type}-workflow\n",
        "\n",
        "actions:\n",
        "  - name: {connection_type}-read\n",
        "    type: {connection_type}_source\n",
        "    connection: {input_connection_uid}\n",
        "\n",
        "  - name: model-train-run\n",
        "    type: gretel_tabular\n",
        "    input: {connection_type}-read\n",
        "    config:\n",
        "      project_id: {project.project_guid}\n",
        "      train:\n",
        "        model: \"transform/v2\"\n",
        "        dataset: \"{{{connection_type}-read.outputs.dataset}}\"\n",
        "      run:\n",
        "        num_records_multiplier: 1.0\n",
        "\n",
        "\"\"\"\n",
        "print(workflow_config)"
      ],
      "metadata": {
        "id": "tFlcwlANAKzN"
      },
      "execution_count": null,
      "outputs": []
    },
    {
      "cell_type": "markdown",
      "source": [
        "### Run Workflow"
      ],
      "metadata": {
        "id": "04yab4joThoD"
      }
    },
    {
      "cell_type": "code",
      "source": [
        "run_workflow(workflow_config)"
      ],
      "metadata": {
        "collapsed": true,
        "id": "W2WB2_tvUE55"
      },
      "execution_count": null,
      "outputs": []
    },
    {
      "cell_type": "markdown",
      "source": [
        "## View Results"
      ],
      "metadata": {
        "id": "MhhHfeeYTlHp"
      }
    },
    {
      "cell_type": "code",
      "source": [
        "# @title Outputs\n",
        "# @markdown Download output artifacts by clicking link:\n",
        "output_url = project.get_artifact_link(project.artifacts[-1]['key'])\n",
        "print(output_url)"
      ],
      "metadata": {
        "id": "FgEtGVa7nBXJ",
        "cellView": "form"
      },
      "execution_count": null,
      "outputs": []
    },
    {
      "cell_type": "code",
      "source": [
        "# @markdown Or view the results within the notebook by running this cell.\n",
        "import urllib.request\n",
        "urllib.request.urlretrieve(project.get_artifact_link(project.artifacts[-1]['key']), \"/content/workflow-output.tar.gz\")\n",
        "!gunzip /content/workflow-output.tar.gz\n",
        "!tar -xzvf /content/workflow-output.tar"
      ],
      "metadata": {
        "id": "0gBopMCG1zbC",
        "collapsed": true,
        "cellView": "form"
      },
      "execution_count": null,
      "outputs": []
    },
    {
      "cell_type": "code",
      "source": [
        "#@title Compare Source and Transformed Table from Database\n",
        "table = \"location\" #@param {type:\"string\"}\n",
        "from IPython.display import display, HTML\n",
        "\n",
        "source_table = pd.read_csv(f\"https://gretel-blueprints-pub.s3.amazonaws.com/rdb/{table}.csv\").head(10)\n",
        "trans_table = pd.read_csv(f\"/content/transformed_{table}.csv\").head(10)\n",
        "\n",
        "print(\"\\033[1m Source Table:\")\n",
        "display(source_table)\n",
        "print(\"\\n\\n\\033[1m Transformed Table:\")\n",
        "display(trans_table)"
      ],
      "metadata": {
        "cellView": "form",
        "id": "D4-TQVKSxfsv",
        "collapsed": true
      },
      "execution_count": null,
      "outputs": []
    }
  ]
}