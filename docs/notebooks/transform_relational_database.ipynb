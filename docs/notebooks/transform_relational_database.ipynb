{
  "cells": [
    {
      "cell_type": "markdown",
      "source": [
        "<a target=\"_blank\" href=\"https://colab.research.google.com/github/gretelai/gretel-blueprints/blob/main/docs/notebooks/transform_relational_database.ipynb\">\n",
        "  <img src=\"https://colab.research.google.com/assets/colab-badge.svg\" alt=\"Open In Colab\"/>\n",
        "</a>"
      ],
      "metadata": {
        "id": "TK3tkdsbG2xs"
      }
    },
    {
      "cell_type": "markdown",
      "source": [
        "# Transform a Database with Gretel Relational\n",
        "\n",
        "This notebook uses [Gretel Relational Transform](https://docs.gretel.ai/reference/relational) to redact Personal Identifiable Information (PII) in a sample telecommunications database. Try running the example below and compare the transformed vs real world data.\n",
        "\n",
        "<img src=\"https://gretel-blueprints-pub.s3.us-west-2.amazonaws.com/rdb/telecom_db.png\"  width=\"70%\" height=\"70%\">"
      ],
      "metadata": {
        "id": "SYRvd6uJSyHC"
      }
    },
    {
      "cell_type": "markdown",
      "source": [
        "## Getting Started"
      ],
      "metadata": {
        "id": "mS4Yi2LiSvaZ"
      }
    },
    {
      "cell_type": "code",
      "execution_count": null,
      "metadata": {
        "collapsed": true,
        "id": "uu8M5yMc5DiT"
      },
      "outputs": [],
      "source": [
        "%%capture\n",
        "!pip install -U gretel-trainer"
      ]
    },
    {
      "cell_type": "code",
      "execution_count": null,
      "metadata": {
        "id": "RSvRE1X25DiW"
      },
      "outputs": [],
      "source": [
        "from gretel_trainer.relational import *"
      ]
    },
    {
      "cell_type": "code",
      "source": [
        "# Download sample database\n",
        "!wget https://gretel-blueprints-pub.s3.amazonaws.com/rdb/telecom.db"
      ],
      "metadata": {
        "id": "y7uMBkKrHtyt"
      },
      "execution_count": null,
      "outputs": []
    },
    {
      "cell_type": "markdown",
      "source": [
        "## Define Source Data"
      ],
      "metadata": {
        "id": "6PM0dEEEsi4H"
      }
    },
    {
      "cell_type": "markdown",
      "source": [
        "### Input data via database connector\n",
        "For information on connecting to your own database using one of our 30+ connectors, [check out our docs](https://docs.gretel.ai/reference/relational/database-connectors)."
      ],
      "metadata": {
        "id": "9Sji4PdVFuVF"
      }
    },
    {
      "cell_type": "code",
      "source": [
        "# Input data from database\n",
        "from gretel_trainer.relational import sqlite_conn\n",
        "\n",
        "db_path = \"telecom.db\"\n",
        "conn = sqlite_conn(db_path)\n",
        "relational_data = conn.extract()"
      ],
      "metadata": {
        "id": "Psa3cAaCshFq"
      },
      "execution_count": null,
      "outputs": []
    },
    {
      "cell_type": "markdown",
      "source": [
        "### Alternatively, manually define data from CSVs"
      ],
      "metadata": {
        "id": "Ndj779pNgbr0"
      }
    },
    {
      "cell_type": "code",
      "source": [
        "#@title\n",
        "# Alternatively, manually define relational data\n",
        "# Uncomment code to run cell\n",
        "\n",
        "# from gretel_trainer.relational import RelationalData\n",
        "# import pandas as pd\n",
        "\n",
        "# csv_dir = \"/path/to/extracted_csvs\"\n",
        "\n",
        "# tables = [\n",
        "#     (\"events\", \"id\"),\n",
        "#     (\"users\", \"id\"),\n",
        "#     (\"distribution_center\", \"id\"),\n",
        "#     (\"products\", \"id\"),\n",
        "#     (\"inventory_items\", \"id\"),\n",
        "#     (\"order_items\", \"id\"),\n",
        "# ]\n",
        "\n",
        "# foreign_keys = [\n",
        "#     (\"events.user_id\", \"users.id\"),\n",
        "#     (\"order_items.user_id\", \"users.id\"),\n",
        "#     (\"order_items.inventory_item_id\", \"inventory_items.id\"),\n",
        "#     (\"inventory_items.product_id\", \"products.id\"),\n",
        "#     (\"inventory_items.product_distribution_center_id\", \"distribution_center.id\"),\n",
        "#     (\"products.distribution_center_id\", \"distribution_center.id\"),\n",
        "# ]\n",
        "\n",
        "# relational_data = RelationalData()\n",
        "\n",
        "# for table, pk in tables:\n",
        "#     relational_data.add_table(name=table, primary_key=pk, data=pd.read_csv(f\"{csv_dir}/{table}.csv\"))\n",
        "\n",
        "# for fk, ref in foreign_keys:\n",
        "#     relational_data.add_foreign_key(foreign_key=fk, referencing=ref)"
      ],
      "metadata": {
        "cellView": "form",
        "id": "Dfi8kLbrgfTH"
      },
      "execution_count": null,
      "outputs": []
    },
    {
      "cell_type": "code",
      "source": [
        "#@title Preview source data\n",
        "#@markdown #### Confirm referential integrity by joining two tables\n",
        "#@markdown Every record in the child table matches a distinct record in the parent table. Therefore, the number of records in the joined data will match the number of records in the child table.\n",
        "\n",
        "\n",
        "from IPython.display import display, HTML\n",
        "\n",
        "def join_tables(parent: str, child: str, relational_data=relational_data):\n",
        "  p_key = relational_data.get_primary_key(parent)\n",
        "  f_key = \"\"\n",
        "  for fk in relational_data.get_foreign_keys(child):\n",
        "    if fk.parent_table_name==parent:\n",
        "      f_key=fk.column_name\n",
        "    else:\n",
        "      logging.warning(\"The input parent and child table must be related.\")\n",
        "  \n",
        "  parent_df = relational_data.get_table_data(parent)\n",
        "  child_df = relational_data.get_table_data(child)\n",
        "\n",
        "  joined_data = child_df.merge(parent_df, how=\"left\", left_on=p_key, right_on=f_key)\n",
        "\n",
        "  print(f\"Number of records in {child} table:\\t {len(child_df)}\")\n",
        "  print(f\"Number of records in {parent} table:\\t {len(parent_df)}\")\n",
        "  print(f\"Number of records in joined data:\\t {len(joined_data)}\")\n",
        "\n",
        "  return joined_data.head()\n",
        "\n",
        "\n",
        "parent_table = \"client\" #@param {type:\"string\"}\n",
        "child_table = \"account\" #@param {type:\"string\"}\n",
        "\n",
        "print(\"\\033[1m Source Data: \\033[0m\")\n",
        "source_data = join_tables(parent_table, child_table)\n",
        "display(source_data)  \n"
      ],
      "metadata": {
        "id": "NwHT39fzF2yK",
        "cellView": "form"
      },
      "execution_count": null,
      "outputs": []
    },
    {
      "cell_type": "markdown",
      "metadata": {
        "id": "uUf6n5K95DiX"
      },
      "source": [
        "## Create Project\n",
        "\n",
        "During this step, you will be prompted to input your API key, which can be found in the [Gretel Console](https://console.gretel.ai/users/me/key)."
      ]
    },
    {
      "cell_type": "code",
      "execution_count": null,
      "metadata": {
        "id": "UURUHwED5DiZ"
      },
      "outputs": [],
      "source": [
        "from gretel_trainer.relational import MultiTable\n",
        "\n",
        "multitable = MultiTable(\n",
        "    relational_data,\n",
        "    project_display_name=\"Transform Telecom Database\",\n",
        "    #refresh_interval=60\n",
        ")"
      ]
    },
    {
      "cell_type": "markdown",
      "metadata": {
        "id": "ubA2WBTGBFxs"
      },
      "source": [
        "## Transform Database"
      ]
    },
    {
      "cell_type": "markdown",
      "source": [
        "### Set Transform configuration"
      ],
      "metadata": {
        "id": "yrArborLR9Ta"
      }
    },
    {
      "cell_type": "code",
      "execution_count": null,
      "metadata": {
        "id": "NWEe445h5hIy"
      },
      "outputs": [],
      "source": [
        "from gretel_client.projects.models import read_model_config\n",
        "\n",
        "configs = {}\n",
        "for table in relational_data.list_all_tables():\n",
        "    configs[table] = read_model_config(\"https://gretel-blueprints-pub.s3.amazonaws.com/rdb/transforms_config.yaml\")\n"
      ]
    },
    {
      "cell_type": "markdown",
      "source": [
        "## Transform Database"
      ],
      "metadata": {
        "id": "bx3b5ve9SIDY"
      }
    },
    {
      "cell_type": "code",
      "execution_count": null,
      "metadata": {
        "id": "lTPtgdNcBI7A"
      },
      "outputs": [],
      "source": [
        "multitable.train_transform_models(configs=configs)\n",
        "multitable.run_transforms()"
      ]
    },
    {
      "cell_type": "markdown",
      "metadata": {
        "id": "DUQDctnvBQbW"
      },
      "source": [
        "## View Results"
      ]
    },
    {
      "cell_type": "code",
      "execution_count": null,
      "metadata": {
        "id": "5ltc4Nx5Ba4S",
        "cellView": "form"
      },
      "outputs": [],
      "source": [
        "#@title Compare an Individual Table\n",
        "table = \"location\" #@param {type:\"string\"}\n",
        "from IPython.display import display, HTML\n",
        "\n",
        "source_table = multitable.relational_data.get_table_data(table).head(5)\n",
        "trans_table = multitable.transform_output_tables[table][source_table.columns].head(5)\n",
        "print(\"\\033[1m Source Table:\")\n",
        "display(source_table)\n",
        "print(\"\\n\\n\\033[1m Transformed Table:\")\n",
        "display(trans_table)"
      ]
    },
    {
      "cell_type": "code",
      "source": [
        "#@title Examine joined tables to confirm referential integrity\n",
        "#@markdown As with the original data, every record in the transformed child table matches a distinct record in its transformed parent table. The number of records in the joined data matches the number of records in the child table, confirming referential integrity has been maintained in the transformed database.\n",
        "import logging \n",
        "from IPython.display import display, HTML\n",
        "\n",
        "def join_trans_tables(parent: str, child: str, multitable=multitable): \n",
        "  p_key = multitable.relational_data.get_primary_key(parent)\n",
        "  f_key = \"\"\n",
        "  for fk in multitable.relational_data.get_foreign_keys(child):\n",
        "    if fk.parent_table_name==parent:\n",
        "      f_key=fk.column_name\n",
        "    else:\n",
        "      logging.warning(\"The input parent and child table must be related.\")\n",
        "  \n",
        "  parent_df = multitable.transform_output_tables[parent]\n",
        "  child_df = multitable.transform_output_tables[child]\n",
        "\n",
        "  joined_data = child_df.merge(parent_df, how=\"left\", left_on=p_key, right_on=f_key)\n",
        "\n",
        "  print(f\"Number of records in {child} table:\\t {len(child_df)}\")\n",
        "  print(f\"Number of records in {parent} table:\\t {len(parent_df)}\")\n",
        "  print(f\"Number of records in joined data:\\t {len(joined_data)}\")\n",
        "  return joined_data.head()\n",
        "\n",
        "\n",
        "parent_table = \"client\" #@param {type:\"string\"}\n",
        "child_table = \"account\" #@param {type:\"string\"}\n",
        "\n",
        "print(\"\\n\\n\\033[1m Transformed Data:\\033[0m\")\n",
        "display(join_trans_tables(parent_table, child_table)[source_data.columns])"
      ],
      "metadata": {
        "cellView": "form",
        "id": "9P40pDY71cX_"
      },
      "execution_count": null,
      "outputs": []
    },
    {
      "cell_type": "code",
      "source": [
        "#@title Accessing Output Files\n",
        "#@markdown All of the Relational Transform output files can be found in your local working directory. Additionally, you can download the outputs as a single archive file from the Gretel Console using this URL:\n",
        "console_url = f\"https://console.gretel.ai/{multitable._project.name}/data_sources\"\n",
        "print(console_url)"
      ],
      "metadata": {
        "cellView": "form",
        "id": "aO04kQCFESjh"
      },
      "execution_count": null,
      "outputs": []
    },
    {
      "cell_type": "markdown",
      "source": [
        "## [Optional] Save Transformed Data to a Database\n"
      ],
      "metadata": {
        "id": "VWhUpzYoT-W-"
      }
    },
    {
      "cell_type": "code",
      "source": [
        "output_db_path = \"transformed_telecom.db\"\n",
        "output_conn = sqlite_conn(output_db_path)\n",
        "output_conn.save(\n",
        "    multitable.transform_output_tables,\n",
        "    prefix=\"trans_\"\n",
        "    )"
      ],
      "metadata": {
        "id": "2TMQSrRdUMLC"
      },
      "execution_count": null,
      "outputs": []
    }
  ],
  "metadata": {
    "colab": {
      "provenance": []
    },
    "kernelspec": {
      "display_name": "Python 3",
      "language": "python",
      "name": "python3"
    },
    "language_info": {
      "codemirror_mode": {
        "name": "ipython",
        "version": 3
      },
      "file_extension": ".py",
      "mimetype": "text/x-python",
      "name": "python",
      "nbconvert_exporter": "python",
      "pygments_lexer": "ipython3",
      "version": "3.9.10 (main, Jun 23 2022, 15:36:57) \n[Clang 13.1.6 (clang-1316.0.21.2.5)]"
    },
    "vscode": {
      "interpreter": {
        "hash": "2bdb4985d2c4ccdd9da3d80dbbcd61329f4e8765a7715ea050d7419e0fe0515c"
      }
    },
    "gpuClass": "premium"
  },
  "nbformat": 4,
  "nbformat_minor": 0
}