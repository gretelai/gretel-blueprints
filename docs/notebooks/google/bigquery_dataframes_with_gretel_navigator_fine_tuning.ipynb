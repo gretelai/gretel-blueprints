{
  "cells": [
    {
      "cell_type": "markdown",
      "metadata": {
        "id": "view-in-github"
      },
      "source": [
        "<a href=\"https://colab.research.google.com/gist/zredlined/b613e96c3b66b0f3d04648c15df16cb7/bigframes-demo-1-synthesizing-data-with-navigator-ft.ipynb\" target=\"_parent\"><img src=\"https://colab.research.google.com/assets/colab-badge.svg\" alt=\"Open In Colab\"/></a>"
      ]
    },
    {
      "cell_type": "markdown",
      "metadata": {
        "id": "u8FxOdDYkca0"
      },
      "source": [
        "# 🤖 Synthesize Private Data with Gretel, BigFrames, and BigQuery\n",
        "\n",
        "This notebook demonstrates a powerful workflow for generating high-quality, privacy-safe synthetic data using [Gretel](https://gretel.ai)'s suite of tools in conjunction with [Google BigQuery](https://cloud.google.com/bigquery) and the [BigFrames SDK](https://cloud.google.com/python/docs/reference/bigframes/latest).\n",
        "\n",
        "## 🔍 What We'll Do:\n",
        "\n",
        "- Retrieve real-world data from BigQuery using BigFrames SDK\n",
        "- De-identify sensitive information with Gretel Transform v2 (TV2)\n",
        "- Generate AI-ready, privacy-safe synthetic data using Gretel Navigator Fine-Tuning\n",
        "- Seamlessly work with large-scale datasets in BigQuery\n",
        "\n",
        "\n",
        "## 💪 Why It Matters:\n",
        "This integrated approach enables organizations to:\n",
        "\n",
        "- Safely leverage sensitive data for AI and ML use cases\n",
        "- Break down data silos, promoting broader data accessibility\n",
        "- Unlock the potential of restricted datasets\n",
        "- Accelerate innovation while maintaining privacy and compliance\n",
        "- Scale data operations seamlessly across large datasets\n",
        "\n",
        "This notebook goes beyond simple PII removal, addressing the limitations of traditional anonymization techniques. By generating synthetic data, we create new records not based on any single individual, providing robust protection against various privacy attacks and re-identification risks.\n",
        "\n",
        "\n",
        "Let's explore the power of privacy-preserving synthetic data generation! 🚀\n",
        "\n",
        "[Learn more about Gretel Transform v2](https://docs.gretel.ai/create-synthetic-data/models/transform/v2) and [Gretel's Synthetic Data Generation](https://docs.gretel.ai/create-synthetic-data/models/synthetics/gretel-navigator-fine-tuning)"
      ]
    },
    {
      "cell_type": "code",
      "execution_count": null,
      "metadata": {
        "id": "ByGXgHrUgA20"
      },
      "outputs": [],
      "source": [
        "%%capture\n",
        "!pip install -Uqq \"gretel-client>=0.22.0\""
      ]
    },
    {
      "cell_type": "code",
      "execution_count": null,
      "metadata": {
        "id": "viRsIylpDrbv"
      },
      "outputs": [],
      "source": [
        "# Install bigframes if it's not already installed in the environment.\n",
        "\n",
        "# %%capture\n",
        "# !pip install bigframes"
      ]
    },
    {
      "cell_type": "code",
      "execution_count": null,
      "metadata": {
        "id": "rwmtdvRlgHPD"
      },
      "outputs": [],
      "source": [
        "from gretel_client import Gretel\n",
        "from gretel_client.bigquery import BigFrames\n",
        "\n",
        "gretel = Gretel(api_key=\"prompt\", validate=True, project_name=\"bigframes-demo\")\n",
        "\n",
        "# This is the core interface we will use moving forward!\n",
        "gretel_bigframes = BigFrames(gretel)"
      ]
    },
    {
      "cell_type": "code",
      "execution_count": null,
      "metadata": {
        "id": "52FR7Gohcyds"
      },
      "outputs": [],
      "source": [
        "import bigframes.pandas as bpd\n",
        "import bigframes\n",
        "\n",
        "BIGQUERY_PROJECT = \"gretel-vertex-demo\"\n",
        "\n",
        "# Set BigFrames options\n",
        "bpd.options.display.progress_bar = None\n",
        "bpd.options.bigquery.project = BIGQUERY_PROJECT"
      ]
    },
    {
      "cell_type": "code",
      "execution_count": null,
      "metadata": {
        "id": "WzEL1I8IDrbw"
      },
      "outputs": [],
      "source": [
        "# Define the source project and dataset\n",
        "project_id = \"gretel-public\"\n",
        "dataset_id = \"public\"\n",
        "table_id = \"sample-patient-events\"\n",
        "\n",
        "# Construct the table path\n",
        "table_path = f\"{project_id}.{dataset_id}.{table_id}\"\n",
        "\n",
        "# Read the table into a DataFrame\n",
        "df = bpd.read_gbq_table(table_path)\n",
        "\n",
        "# Display the DataFrame\n",
        "df.peek()"
      ]
    },
    {
      "cell_type": "markdown",
      "metadata": {
        "id": "YytYbGPvhnzk"
      },
      "source": [
        "## 🛡️ De-identifying and Processing Data with Gretel Transform v2\n",
        "\n",
        "Before generating synthetic data, de-identifying personally identifiable information (PII) is a crucial first step towards data anonymization. Gretel's Transform v2 (TV2) provides a powerful and scalable framework for this and various other data processing tasks. TV2 combines advanced transformation techniques with named entity recognition (NER) capabilities, enabling efficient handling of large datasets. Beyond PII de-identification, TV2 can be used for data cleansing, formatting, and other preprocessing steps, making it a versatile tool in the data preparation pipeline. [Learn more about Gretel Transform v2](https://docs.gretel.ai/create-synthetic-data/models/transform/v2)."
      ]
    },
    {
      "cell_type": "code",
      "execution_count": null,
      "metadata": {
        "id": "CcyflhZYI8d8"
      },
      "outputs": [],
      "source": [
        "# De-identification configuration\n",
        "\n",
        "transform_config = \"\"\"\n",
        "schema_version: \"1.0\"\n",
        "models:\n",
        "  - transform_v2:\n",
        "      steps:\n",
        "        - rows:\n",
        "            update:\n",
        "              - name: patient_id\n",
        "                value: this | hash | truncate(10, end='')\n",
        "              - name: first_name\n",
        "                value: >\n",
        "                  fake.first_name_female() if row.sex == 'Female' else\n",
        "                  fake.first_name_male() if row.sex == 'Male' else\n",
        "                  fake.first_name()\n",
        "              - name: last_name\n",
        "                value: fake.last_name()\n",
        "\"\"\""
      ]
    },
    {
      "cell_type": "code",
      "execution_count": null,
      "metadata": {
        "id": "ENrGlIzQDrbx"
      },
      "outputs": [],
      "source": [
        "# Submit a transform job against the BigFrames table\n",
        "\n",
        "transform_results = gretel_bigframes.submit_transforms(transform_config, df)"
      ]
    },
    {
      "cell_type": "code",
      "execution_count": null,
      "metadata": {
        "id": "005enXhxDrbx"
      },
      "outputs": [],
      "source": [
        "# Check out our Model ID, we can re-use this later to restore results.\n",
        "\n",
        "model_id = transform_results.model_id\n",
        "\n",
        "print(f\"Gretel Model ID: {model_id}\\n\")\n",
        "\n",
        "print(f\"Gretel Console URL: {transform_results.model_url}\")"
      ]
    },
    {
      "cell_type": "code",
      "execution_count": null,
      "metadata": {
        "id": "Kb-K0yhIDrby"
      },
      "outputs": [],
      "source": [
        "# Restore an existing Transform model if needed\n",
        "\n",
        "# model_id = \"66db3d13e85d10df07c188c7\"\n",
        "# transform_results = gretel_bigframes.fetch_transforms_results(model_id)"
      ]
    },
    {
      "cell_type": "code",
      "execution_count": null,
      "metadata": {
        "id": "QvG8ma9YDrby"
      },
      "outputs": [],
      "source": [
        "transform_results.wait_for_completion()"
      ]
    },
    {
      "cell_type": "code",
      "execution_count": null,
      "metadata": {
        "id": "jiSsRIh-Drby"
      },
      "outputs": [],
      "source": [
        "transform_results.refresh()"
      ]
    },
    {
      "cell_type": "code",
      "execution_count": null,
      "metadata": {
        "id": "NwOm2DMJDrby"
      },
      "outputs": [],
      "source": [
        "# Take a look at the newly transformed BigFrames DataFrame\n",
        "\n",
        "transform_results.transformed_df.head()"
      ]
    },
    {
      "cell_type": "markdown",
      "metadata": {
        "id": "heSGzxZ1i1tj"
      },
      "source": [
        "*italicized text*## 🧬 Generating Synthetic Data with Navigator Fine-Tuning\n",
        "\n",
        "Gretel Navigator Fine-Tuning (Navigator-FT) generates high-quality, domain-specific synthetic data by fine-tuning pre-trained models on your datasets. Key features include:\n",
        "\n",
        "- Handles multiple data modalities: numeric, categorical, free text, time series, and JSON\n",
        "- Maintains complex relationships across data types and rows\n",
        "- Can introduce meaningful new patterns, potentially improving ML/AI task performance\n",
        "- Balances data utility with privacy protection\n",
        "\n",
        "Navigator-FT builds on Gretel Navigator's capabilities, enabling the creation of synthetic data that captures the nuances of your specific domain while leveraging the strengths of pre-trained models. [Learn more](https://docs.gretel.ai/create-synthetic-data/models/synthetics/gretel-navigator-fine-tuning)."
      ]
    },
    {
      "cell_type": "code",
      "execution_count": null,
      "metadata": {
        "id": "Qm34rcxvgO94"
      },
      "outputs": [],
      "source": [
        "# Prepare the training configuration\n",
        "base_config = \"navigator-ft\"     # Base configuration for training\n",
        "\n",
        "# Define the generation parameters\n",
        "generate_params = {\n",
        "    \"num_records\": len(df),  # Number of records to generate\n",
        "    \"temperature\": 0.7       # Temperature parameter for data generation\n",
        "}\n",
        "\n",
        "# Submit the training job to Gretel\n",
        "train_results = gretel_bigframes.submit_train(\n",
        "    base_config=base_config,\n",
        "    dataframe=transform_results.transformed_df,\n",
        "    job_label=\"synthetic_patient_data\",\n",
        "    generate=generate_params,\n",
        "    group_training_examples_by=\"patient_id\",  # Group training examples by patient_id\n",
        "    order_training_examples_by=\"event_date\"   # Order training examples by event_date\n",
        ")"
      ]
    },
    {
      "cell_type": "code",
      "execution_count": null,
      "metadata": {
        "id": "nRg38rYPDrbz"
      },
      "outputs": [],
      "source": [
        "# Inspect model metadata, Model ID can be used to re-hydrate training results\n",
        "\n",
        "print(f\"Gretel Model ID: {train_results.model_id}\\n\")\n",
        "\n",
        "print(f\"Gretel Console URL: {train_results.model_url}\\n\")"
      ]
    },
    {
      "cell_type": "code",
      "execution_count": null,
      "metadata": {
        "id": "Gl_MweVCDrbz"
      },
      "outputs": [],
      "source": [
        "train_results.wait_for_completion()\n",
        "train_results.refresh()"
      ]
    },
    {
      "cell_type": "code",
      "execution_count": null,
      "metadata": {
        "id": "IB0ivm8yDrbz"
      },
      "outputs": [],
      "source": [
        "# Restore training results from a Model ID\n",
        "\n",
        "model_id = \"66e87fb4e95431a2ba067bbf\"\n",
        "train_results = gretel_bigframes.fetch_train_job_results(model_id)"
      ]
    },
    {
      "cell_type": "code",
      "execution_count": null,
      "metadata": {
        "id": "KCJHY7D0fu1m"
      },
      "outputs": [],
      "source": [
        "# Display the full report within this notebook\n",
        "train_results.report.display_in_notebook()"
      ]
    },
    {
      "cell_type": "code",
      "execution_count": null,
      "metadata": {
        "id": "ZfF8tIkbHdEr"
      },
      "outputs": [],
      "source": [
        "# Fetch the synthetically generated data\n",
        "df_synth = train_results.fetch_report_synthetic_data()\n",
        "df_synth.head()"
      ]
    },
    {
      "cell_type": "code",
      "execution_count": null,
      "metadata": {
        "id": "UpFGzkULwCEJ"
      },
      "outputs": [],
      "source": [
        "# Write the synthetically generated data to your table in BQ\n",
        "# NOTE: The BQ Dataset must already exist!\n",
        "\n",
        "project_id = BIGQUERY_PROJECT\n",
        "dataset_id = \"syntheticdata\"\n",
        "table_id = \"patient-events\"\n",
        "\n",
        "# Construct the table path\n",
        "table_path = f\"{project_id}.{dataset_id}.{table_id}\"\n",
        "\n",
        "# Write to the destination table in BQ, un-comment to actually write to BQ.\n",
        "df_synth.to_gbq(table_path)"
      ]
    },
    {
      "cell_type": "markdown",
      "metadata": {
        "id": "-qNfF2keDrbz"
      },
      "source": [
        "## ⚙️ Generate Additional Data\n",
        "\n",
        "Given a trained synthetic model, you can now generate additional records."
      ]
    },
    {
      "cell_type": "code",
      "execution_count": null,
      "metadata": {
        "id": "7t5hvu_XogY7"
      },
      "outputs": [],
      "source": [
        "generate_results = gretel_bigframes.submit_generate(model_id, num_records=100)"
      ]
    },
    {
      "cell_type": "code",
      "execution_count": null,
      "metadata": {
        "id": "bLjMHawiDrbz"
      },
      "outputs": [],
      "source": [
        "generate_job_id = generate_results.record_id\n",
        "\n",
        "print(f\"Generation Job ID: {generate_job_id}\")"
      ]
    },
    {
      "cell_type": "code",
      "execution_count": null,
      "metadata": {
        "id": "xaJqZJWMDrbz"
      },
      "outputs": [],
      "source": [
        "# Optionally restore a generation result object\n",
        "\n",
        "# generate_job_id = \"66db4e67ae94eef3abbcacf5\"\n",
        "# generate_results = gretel_bigframes.fetch_generate_job_results(train_results.model_id, generate_job_id)"
      ]
    },
    {
      "cell_type": "code",
      "execution_count": null,
      "metadata": {
        "id": "LBnMoYhzDrbz"
      },
      "outputs": [],
      "source": [
        "generate_results.wait_for_completion()"
      ]
    },
    {
      "cell_type": "code",
      "execution_count": null,
      "metadata": {
        "id": "MKQsF_qRDrbz"
      },
      "outputs": [],
      "source": [
        "generate_results.synthetic_data"
      ]
    }
  ],
  "metadata": {
    "colab": {
      "provenance": []
    },
    "kernelspec": {
      "display_name": "Python 3 (ipykernel)",
      "language": "python",
      "name": "python3"
    },
    "language_info": {
      "codemirror_mode": {
        "name": "ipython",
        "version": 3
      },
      "file_extension": ".py",
      "mimetype": "text/x-python",
      "name": "python",
      "nbconvert_exporter": "python",
      "pygments_lexer": "ipython3",
      "version": "3.9.16"
    }
  },
  "nbformat": 4,
  "nbformat_minor": 0
}