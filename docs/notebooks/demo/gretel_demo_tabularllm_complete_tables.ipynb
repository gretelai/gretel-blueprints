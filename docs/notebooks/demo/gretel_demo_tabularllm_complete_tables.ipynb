{
  "cells": [
    {
      "cell_type": "markdown",
      "source": [
        "## Completing tabular datasets with Tabular LLM\n",
        "\n",
        "*   This notebook demonstrates how to use Gretel Tabular LLM to fill in missing fields in table columns.\n",
        "*  To run this notebook, you will need an API key from the Gretel Console."
      ],
      "metadata": {
        "id": "wUgVzySDQGnU"
      }
    },
    {
      "cell_type": "markdown",
      "source": [
        "## Getting Started"
      ],
      "metadata": {
        "id": "WdBJw3mtQqN3"
      }
    },
    {
      "cell_type": "code",
      "source": [
        "%%capture\n",
        "!pip install -Uqq gretel-client"
      ],
      "metadata": {
        "id": "MyGP5roSboSZ"
      },
      "execution_count": 1,
      "outputs": []
    },
    {
      "cell_type": "markdown",
      "source": [
        "## Load and preview training data"
      ],
      "metadata": {
        "id": "b_XdaUuBQ1pc"
      }
    },
    {
      "cell_type": "code",
      "source": [
        "# Read in the data\n",
        "import pandas as pd\n",
        "\n",
        "pd.set_option(\"display.max_colwidth\", None)\n",
        "data_source = pd.read_csv(\"https://gretel-datasets.s3.us-west-2.amazonaws.com/sparse/shoes-sparse-500.csv\")\n",
        "data_source.head()"
      ],
      "metadata": {
        "id": "7gChkAvKQ037"
      },
      "execution_count": null,
      "outputs": []
    },
    {
      "cell_type": "markdown",
      "source": [
        "## Define helper functions\n",
        "\n",
        "The below helper functions facilitate interacting with Gretel Tabular LLM."
      ],
      "metadata": {
        "id": "CV-GiA6bhh5X"
      }
    },
    {
      "cell_type": "code",
      "source": [
        "from dataclasses import dataclass\n",
        "\n",
        "import yaml\n",
        "\n",
        "from gretel_client.gretel.artifact_fetching import fetch_synthetic_data\n",
        "from gretel_client.helpers import poll\n",
        "from gretel_client.projects import Project, create_or_get_unique_project\n",
        "from gretel_client.projects.models import Model\n",
        "\n",
        "TABLLM_CONFIG = \"\"\"\n",
        "schema_version: 1.0\n",
        "models:\n",
        "- tabllm:\n",
        "        model_id: \"gretelai/tabular-v0\"\n",
        "        output_format: csv\n",
        "\"\"\"\n",
        "\n",
        "\n",
        "@dataclass\n",
        "class TabLLM:\n",
        "    project: Project\n",
        "    model: Model\n",
        "\n",
        "    def submit_generate(\n",
        "        self,\n",
        "        prompt: str,\n",
        "        seed_data: pd.DataFrame,\n",
        "        temperature: float = 0.8,\n",
        "        top_p: float = 1,\n",
        "        top_k: int = 50,\n",
        "        keep_remote_data: bool = False,\n",
        "        verbose: bool = False,\n",
        "    ) -> pd.DataFrame:\n",
        "\n",
        "        params = {\"temperature\": temperature, \"top_p\": top_p, \"top_k\": top_k, \"num_records\": len(seed_data)}\n",
        "\n",
        "        if isinstance(seed_data, pd.Series):\n",
        "            seed_data = seed_data.to_frame()\n",
        "\n",
        "        ref_data = {\"data\": seed_data} if seed_data is not None else None\n",
        "\n",
        "        data_processor = self.model.create_record_handler_obj(\n",
        "            data_source=pd.DataFrame({\"prompt\": [prompt]}), params=params, ref_data=ref_data\n",
        "        )\n",
        "\n",
        "        print(\"Submitting generate job...\")\n",
        "        print(f\"Prompt: {prompt}\")\n",
        "        print(f\"Model URL: {self.project.get_console_url()}/models/{self.model.model_id}/data\")\n",
        "\n",
        "        data_processor.submit()\n",
        "        poll(data_processor, verbose=verbose)\n",
        "\n",
        "        df_generated = fetch_synthetic_data(data_processor)\n",
        "\n",
        "        if not keep_remote_data:\n",
        "            data_processor.delete()\n",
        "\n",
        "        return df_generated\n",
        "\n",
        "def initialize_tabllm(project_name: str):\n",
        "    project = create_or_get_unique_project(name=project_name)\n",
        "    print(f\"Project URL: {project.get_console_url()}\")\n",
        "\n",
        "    model_config = yaml.safe_load(TABLLM_CONFIG)\n",
        "    model_list = list(project.search_models())\n",
        "    if len(model_list) > 0:\n",
        "        model = model_list[0]\n",
        "        print(f\"Found existing model with id {model.model_id}\")\n",
        "        print(f\"Model URL: {project.get_console_url()}/models/{model.model_id}/data\")\n",
        "    else:\n",
        "        model = project.create_model_obj(model_config)\n",
        "        model.submit()\n",
        "        poll(model, verbose=False)\n",
        "\n",
        "    return TabLLM(project=project, model=model)"
      ],
      "metadata": {
        "id": "-uaoE-ZlX1xZ"
      },
      "execution_count": 3,
      "outputs": []
    },
    {
      "cell_type": "markdown",
      "source": [
        "# Configure the Tabular LLM session"
      ],
      "metadata": {
        "id": "AcZuRa2HhueM"
      }
    },
    {
      "cell_type": "code",
      "execution_count": null,
      "metadata": {
        "id": "woTcLgeHXsq5"
      },
      "outputs": [],
      "source": [
        "# Configure session and initalize Tabular LLM\n",
        "\n",
        "from gretel_client import configure_session\n",
        "\n",
        "configure_session(api_key=\"prompt\", cache=\"yes\", validate=True)\n",
        "\n",
        "tabllm = initialize_tabllm(project_name=\"gretel-demo-complete-partial-data\")"
      ]
    },
    {
      "cell_type": "markdown",
      "source": [
        "## Create the prompt for Tabular LLM\n"
      ],
      "metadata": {
        "id": "F_PZjDysRV5I"
      }
    },
    {
      "cell_type": "code",
      "execution_count": 5,
      "metadata": {
        "id": "7emf-T7_Xsq4"
      },
      "outputs": [],
      "source": [
        "prompt = \"\"\"\\\n",
        "Add these columns\n",
        "* Manufacturer# - If the Manufacturer is empty, replace with the Manufacturer based on the other columns\n",
        "* Style# - If the Style is empty, replace with the Style based on the other columns\n",
        "* Color# - If the Color is empty, replace with the Color based on the Name of this specific shoe\n",
        "* Size# - If the Size is empty, replace with the integer value for a US shoe size based on the other columns. Default to 8 if unknown\n",
        "* Description# - If the Description is empty, replace with a helpful Description of this specific shoe based on the other columns\n",
        "* Gender# - If the Gender is empty, replace with the Gender based on the other columns\n",
        "\"\"\""
      ]
    },
    {
      "cell_type": "markdown",
      "source": [
        "## Complete the table using Tabular LLM\n",
        "\n",
        "Running the below will take < 10 minutes to complete."
      ],
      "metadata": {
        "id": "-Vnfx9Hva-Qi"
      }
    },
    {
      "cell_type": "code",
      "source": [
        "%%time\n",
        "data_completed = tabllm.submit_generate(\n",
        "    prompt=prompt,\n",
        "    seed_data=data_source,\n",
        "    temperature=0.2,\n",
        "    verbose=True\n",
        "  )"
      ],
      "metadata": {
        "id": "zYIsmTrWgBdV"
      },
      "execution_count": null,
      "outputs": []
    },
    {
      "cell_type": "markdown",
      "source": [
        "## Inspect the results"
      ],
      "metadata": {
        "id": "1ucZxMDqRZan"
      }
    },
    {
      "cell_type": "code",
      "source": [
        "complete_columns = [col for col in data_completed.columns if col.endswith('#') or col=='Name']\n",
        "data_completed = data_completed[complete_columns]\n",
        "\n",
        "print(\"Original Table\")\n",
        "display(data_source)\n",
        "print(\"----\")\n",
        "\n",
        "print(\"Completed Table\")\n",
        "display(data_completed)\n",
        "print(\"----\")"
      ],
      "metadata": {
        "id": "Vy_JhShHMbhY"
      },
      "execution_count": null,
      "outputs": []
    }
  ],
  "metadata": {
    "kernelspec": {
      "display_name": "gretel-dev",
      "language": "python",
      "name": "python3"
    },
    "language_info": {
      "codemirror_mode": {
        "name": "ipython",
        "version": 3
      },
      "file_extension": ".py",
      "mimetype": "text/x-python",
      "name": "python",
      "nbconvert_exporter": "python",
      "pygments_lexer": "ipython3",
      "version": "3.10.12"
    },
    "colab": {
      "provenance": [],
      "collapsed_sections": [
        "CV-GiA6bhh5X"
      ]
    }
  },
  "nbformat": 4,
  "nbformat_minor": 0
}
