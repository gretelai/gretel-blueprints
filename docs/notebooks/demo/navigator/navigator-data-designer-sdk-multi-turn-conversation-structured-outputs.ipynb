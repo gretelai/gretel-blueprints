{
 "cells": [
  {
   "cell_type": "markdown",
   "metadata": {
    "vscode": {
     "languageId": "html"
    }
   },
   "source": [
    "<a href=\"https://colab.research.google.com/github/gretelai/gretel-blueprints/blob/kirit-branch/docs/notebooks/demo/navigator/navigator-data-designer-sdk-multi-turn-conversation-structured-outputs.ipynb\" target=\"_parent\"><img src=\"https://colab.research.google.com/assets/colab-badge.svg\" alt=\"Open In Colab\"/></a>"
   ]
  },
  {
   "cell_type": "markdown",
   "metadata": {
    "id": "MMMHiDmEcYZY"
   },
   "source": [
    "# 🎨 Gretel - Navigator Data Designer SDK: Synthetic Conversational Data\n",
    "\n",
    "This notebook demonstrates how to use the Gretel Navigator SDK to build a synthetic data generation pipeline step-by-step, rather than using a single YAML configuration. We will create multi-turn user-assistant dialogues tailored for fine-tuning language models. These synthetic dialogues can then be used as domain-specific training data to improve model performance in targeted scenarios.\n",
    "\n",
    "These datasets could be used for developing and enhancing conversational AI applications, including customer support chatbots, virtual assistants, and interactive learning systems."
   ]
  },
  {
   "cell_type": "code",
   "execution_count": null,
   "metadata": {
    "id": "mNoaC7dX28y0"
   },
   "outputs": [],
   "source": [
    "%pip install -Uqq gretel_client "
   ]
  },
  {
   "cell_type": "code",
   "execution_count": 1,
   "metadata": {
    "id": "1k5NjjtzPQJi"
   },
   "outputs": [],
   "source": [
    "from gretel_client.navigator import DataDesigner"
   ]
  },
  {
   "cell_type": "markdown",
   "metadata": {
    "id": "K2NzEYJedJeA"
   },
   "source": [
    "## ⚙️ Data Designer Configuration with the SDK\n",
    "\n",
    "Instead of relying on a single YAML configuration file, we construct our pipeline interactively. This provides granular control over how we guide LLMs to produce realistic, domain-specific conversations. By adjusting prompts, seed data, and instructions, we can quickly iterate and refine our data generation process.\n",
    "\n",
    "### 📚 Choosing the Model Suite\n",
    "Specify the `model_suite` to determine which models and associated licenses are used during data generation.\n",
    "For example, use `apache-2.0` for open-source-friendly licensing or `llama-3.x` or `amazon-nova` for advanced proprietary models.\n",
    "Select the suite based on compliance and licensing requirements relevant to your use case.\n"
   ]
  },
  {
   "cell_type": "code",
   "execution_count": 2,
   "metadata": {},
   "outputs": [
    {
     "data": {
      "application/vnd.jupyter.widget-view+json": {
       "model_id": "047d05328da24ae6a9b59841797ae0f6",
       "version_major": 2,
       "version_minor": 0
      },
      "text/plain": [
       "Dropdown(description='Model Suite:', options=('llama-3.x', 'apache-2.0', 'amazon-nova'), style=DescriptionStyl…"
      ]
     },
     "metadata": {},
     "output_type": "display_data"
    },
    {
     "name": "stdout",
     "output_type": "stream",
     "text": [
      "Model suite changed to: apache-2.0\n",
      "Model suite changed to: amazon-nova\n"
     ]
    }
   ],
   "source": [
    "import ipywidgets as widgets\n",
    "from IPython.display import display\n",
    "\n",
    "# Define the available model suites\n",
    "model_suites = [\"llama-3.x\", \"apache-2.0\", \"amazon-nova\"]\n",
    "\n",
    "# Create a dropdown widget\n",
    "model_suite_dropdown = widgets.Dropdown(\n",
    "    options=model_suites,\n",
    "    value=model_suites[0],\n",
    "    description='Model Suite:',\n",
    "    style={'description_width': 'initial'}\n",
    ")\n",
    "\n",
    "def on_model_suite_change(change):\n",
    "    if change['type'] == 'change' and change['name'] == 'value':\n",
    "        # Assign the new value to model_suite\n",
    "        global model_suite\n",
    "        model_suite = change['new']\n",
    "        print(\"Model suite changed to:\", model_suite)\n",
    "\n",
    "display(model_suite_dropdown)\n",
    "\n",
    "model_suite_dropdown.observe(on_model_suite_change, names='value')"
   ]
  },
  {
   "cell_type": "markdown",
   "metadata": {},
   "source": [
    "### ✍️ Setting Special System Instructions\n",
    "\n",
    "Provide system-wide instructions for the underlying LLMs to guide the data generation process. These instructions influence all generated dialogues, ensuring consistency, quality, and adherence to desired rules. The instructions specify guidelines for factual accuracy, contextual relevance, and tone.\n"
   ]
  },
  {
   "cell_type": "code",
   "execution_count": 11,
   "metadata": {},
   "outputs": [],
   "source": [
    "special_system_instructions = \"\"\"\n",
    "    You are an expert conversation designer and domain specialist. Your job is to\n",
    "    produce realistic user-assistant dialogues for fine-tuning a model. Don't include ### Reponse ### in your reponse.\n",
    "    Do not prefix your responses with column names and only provide your response. \n",
    "    Always ensure:\n",
    "    - Responses are factually correct and contextually appropriate.\n",
    "    - Communication is clear, helpful, and matches the complexity level.\n",
    "    - Avoid disallowed content and toxicity.\n",
    " \"\"\""
   ]
  },
  {
   "cell_type": "markdown",
   "metadata": {},
   "source": [
    "### 🚀 Initialize Gretel Navigator Data Designer\n",
    "\n",
    "Instantiate the `DataDesigner` with the [Gretel API key](https://console.gretel.ai/users/me/key), chosen model suite, and special system instructions.\n",
    "This initializes the pipeline and ensures that all subsequent synthetic data generation adheres to the defined parameters."
   ]
  },
  {
   "cell_type": "code",
   "execution_count": 13,
   "metadata": {},
   "outputs": [
    {
     "name": "stdout",
     "output_type": "stream",
     "text": [
      "[13:36:20] [INFO] 🦜 Using amazon-nova model suite\n",
      "Logged in as kirit.thadaka@gretel.ai ✅\n"
     ]
    }
   ],
   "source": [
    "data_designer = DataDesigner(\n",
    "    api_key=\"prompt\",\n",
    "    model_suite=model_suite,\n",
    "    endpoint=\"https://api-dev.gretel.cloud\",\n",
    "    special_system_instructions=special_system_instructions\n",
    ")"
   ]
  },
  {
   "cell_type": "markdown",
   "metadata": {},
   "source": [
    "### Use Structured Outputs to make sure your data is in the right format\n",
    "\n",
    "You can use Pydantic to define a structure for the messages that are produced by Data Designer"
   ]
  },
  {
   "cell_type": "code",
   "execution_count": 14,
   "metadata": {},
   "outputs": [],
   "source": [
    "from typing import Any, Union, Literal\n",
    "from pydantic import BaseModel, Field\n",
    "\n",
    "\n",
    "class Message(BaseModel):\n",
    "    \"\"\"A single message turn in the conversation.\"\"\"\n",
    "    role: Literal[\"user\", \"assistant\"] = Field(..., description=\"Which role is writing the message.\")\n",
    "    content: str = Field(..., description=\"Message contents.\")\n",
    "    \n",
    "    \n",
    "class ChatConversation(BaseModel):\n",
    "    \"\"\"A chat conversation between a user and an AI assistant.\n",
    "    * All conversations are initiated by the user role.\n",
    "    * The assitant role always responds the the user message.\n",
    "    * Turns alternate between user and assistant roles.\n",
    "    * The last message is always from the assitant role.\n",
    "    * Messsage content can be long or short.\n",
    "    * All assitant messages are faithful responses and must be answered fully.\n",
    "    \"\"\"\n",
    "    conversation: list[Message] = Field(..., description=\"List of all messages in the conversation.\")\n",
    "    \n",
    "    \n",
    "class UserToxicityScore(BaseModel):\n",
    "    \"\"\"Output format for user toxicity assessment.\n",
    "    \n",
    "    Toxicity Scores:\n",
    "    None: No toxicity detected in user messages.\n",
    "    Mild: Slightly rude or sarcastic but not hateful or harmful.\n",
    "    Moderate: Some disrespectful or harassing language.\n",
    "    Severe: Overt hate, harassment, or harmful content.\n",
    "    \"\"\"\n",
    "    reasons: list[str] = Field(..., description=\"Reasoning for user toxicity score.\")\n",
    "    score: Literal[\"None\", \"Mild\", \"Moderate\", \"Severe\"] = Field(..., description=\"Level of toxicity observed in the user role repsonses.\")"
   ]
  },
  {
   "cell_type": "markdown",
   "metadata": {},
   "source": [
    "### 🌱 Adding Categorical Seed Columns\n",
    "\n",
    "We define categorical seed columns that set the context for the generated dialogues. For example, domain and topic determine what the conversation is about, while complexity guides the level of detail and difficulty. By using `num_new_values_to_generate`, we can automatically expand the range of topics or domains, increasing the diversity of generated data without manually specifying all values."
   ]
  },
  {
   "cell_type": "code",
   "execution_count": 15,
   "metadata": {},
   "outputs": [],
   "source": [
    "data_designer.add_categorical_seed_column(\n",
    "    name=\"domain\",\n",
    "    description=\"The domain of user assistant queries\",\n",
    "    values=[\"Tech Support\", \"Personal Finances\", \"Educational Guidance\"],\n",
    "    subcategories=[\n",
    "        {\n",
    "            \"name\": \"topic\",\n",
    "            \"values\": {\n",
    "                \"Tech Support\": [\n",
    "                    \"Troubleshooting a Laptop\",\n",
    "                    \"Setting Up a Home Wi-Fi Network\",\n",
    "                    \"Installing Software Updates\"\n",
    "                ],\n",
    "                \"Personal Finances\": [\n",
    "                    \"Budgeting Advice\",\n",
    "                    \"Understanding Taxes\",\n",
    "                    \"Investment Strategies\"\n",
    "                ],\n",
    "                \"Educational Guidance\": [\n",
    "                    \"Choosing a College Major\",\n",
    "                    \"Effective Studying Techniques\",\n",
    "                    \"Learning a New Language\"\n",
    "                ]\n",
    "            },\n",
    "            \"num_new_values_to_generate\": 2\n",
    "        }\n",
    "    ],\n",
    "    num_new_values_to_generate=5\n",
    ")\n",
    "\n",
    "data_designer.add_categorical_seed_column(\n",
    "    name=\"complexity\",\n",
    "    description=\"The complexity level of the user query\",\n",
    "    values=[\"Basic\", \"Intermediate\", \"Advanced\"]\n",
    ")\n",
    "\n",
    "data_designer.add_categorical_seed_column(\n",
    "    name=\"conversation_length\",\n",
    "    description=\"Number of messages in the conversation.\",\n",
    "    values=[2, 4, 6, 8],\n",
    ")\n",
    "\n",
    "data_designer.add_categorical_seed_column(\n",
    "    name=\"user_mood\",\n",
    "    description=\"The current negative mood of an application user.\",\n",
    "    values=[\"combative\", \"toxic\", \"hateful\", \"racist\", \"happy\", \"appreciative\", \"disappointed\"],\n",
    ")\n"
   ]
  },
  {
   "cell_type": "markdown",
   "metadata": {},
   "source": [
    "### ✨ Adding Generated Data Columns\n",
    "We now define the columns that the model will generate. These prompts instruct the LLM to produce the actual conversation: a system prompt to guide how the AI assistant engages in the conversation with the user, the conversation, and finally, we generate a toxicity_label to assess user toxicity over the entire conversation.\n",
    "\n",
    "You can easily modify or refine these prompt templates to adjust the style, complexity, or constraints of the generated data. Maintaining continuity and consistency across turns ensures the dialogues are realistic and useful for fine-tuning.\n",
    "\n",
    "#### 💬🤖 AI Assistant system prompt and conversation\n",
    "\n",
    "We generate a system prompt to base the AI assistant and then generate the entire conversation."
   ]
  },
  {
   "cell_type": "code",
   "execution_count": 16,
   "metadata": {},
   "outputs": [],
   "source": [
    "data_designer.add_generated_data_column(\n",
    "    name=\"assistant_system_prompt\",\n",
    "    generation_prompt=(\n",
    "        \"Write a reasonable system prompt for a helpful AI assitant that is an expert in {domain} and {topic}. \\\n",
    "        The AI assistant must not engage in harmful behaviors and the AI assistant wants to be.\"\n",
    "    )\n",
    ")\n",
    "\n",
    "data_designer.add_generated_data_column(\n",
    "    name=\"user_task\",\n",
    "    generation_prompt=(\n",
    "        \"Define a task related to {domain} and {topic} that the user is having a conversation with a customer service assistant about. \\\n",
    "        The user's mood is {user_mood} and the complexity of the task is {complexity}.\"\n",
    "    )\n",
    ")\n",
    "\n",
    "data_designer.add_generated_data_column(\n",
    "    name=\"conversation\",\n",
    "    generation_prompt=(\n",
    "        \"<task>\\n{user_task}\\n</task>\\n\\n\"\n",
    "        \"Generate a conversation between a user and an AI assitant about <task>.\\n\"\n",
    "        \"The user is asking the AI assistant for advice and is a {user_mood} mood.\\n\"\n",
    "        \"The conversation must be {conversation_length} messages in length.\\n\"\n",
    "        \"The conversation must come to a natural end in {conversation_length} messages and if you are unable to solve the user's needs by then, tell them you'll redirect them to someone who can.\\n\"\n",
    "        \"The conversation must be realistic and natural, so all assitant responses must be full and detailed.\\n\"\n",
    "        \"The AI assistant role has the system prompt defined in <system_prompt>. All of its responses must conform to <system_prompt>:\\n\"\n",
    "        \"<system_prompt>{assistant_system_prompt}</system_prompt>\"\n",
    "        \n",
    "    ),\n",
    "    data_config={\"type\": \"structured\", \"params\": {\"model\": ChatConversation}}\n",
    ")"
   ]
  },
  {
   "cell_type": "markdown",
   "metadata": {},
   "source": [
    "#### 🔍⚖️ Assessment Column: Toxicity Label\n",
    "For the final step, we add a toxicity assessment column to classify the overall toxicity level of the user's messages across the entire two-turn conversation. By setting llm_type='judge', we ensure that a specialized classification model is used, making it well-suited for tasks like toxicity evaluation. This helps ensure that the final dataset is safe and compliant with given standards."
   ]
  },
  {
   "cell_type": "code",
   "execution_count": 17,
   "metadata": {},
   "outputs": [],
   "source": [
    "# Toxicity Label for the entire conversation\n",
    "# Note: We set `llm_type='judge'` to indicate we are using a classification/judgment model.\n",
    "\n",
    "data_designer.add_generated_data_column(\n",
    "    name=\"toxicity_label\",\n",
    "    generation_prompt=(\n",
    "        \"<conversation>{conversation}</conversation>\\n\\n\"\n",
    "        \"Analyze all user messages in <conversation> and determine the overall toxicity level of the user's behavior.\\n\\n\"\n",
    "        \"Consider:\\n\"\n",
    "        \"Focus primarily on harassment, hate, or harmful language.\\n\"\n",
    "        \"If any message exhibits toxicity, reflect it in the final label.\\n\\n\"\n",
    "        \"Possible categories:\\n\"\n",
    "        \"- \\\"None\\\": No toxicity detected in user messages.\\n\"\n",
    "        \"- \\\"Mild\\\": Slightly rude or sarcastic but not hateful or harmful.\\n\"\n",
    "        \"- \\\"Moderate\\\": Some disrespectful or harassing language.\\n\"\n",
    "        \"- \\\"Severe\\\": Overt hate, harassment, or harmful content.\\n\\n\"\n",
    "        \"Provide only one label. If all messages are polite and safe, label \\\"None\\\".\\n\"\n",
    "        \"Do not elaborate beyond providing the label.\"\n",
    "    ),\n",
    "    llm_type=\"judge\",\n",
    "    data_config={\"type\": \"structured\", \"params\": {\"model\": UserToxicityScore}}\n",
    ")"
   ]
  },
  {
   "cell_type": "markdown",
   "metadata": {},
   "source": [
    "## 👀 Generating a dataset preview\n",
    "\n",
    "- Preview mode allows you to quickly iterate on your data design.\n",
    "\n",
    "- Each preview generation call creates 10 records for inspection, helping you verify prompts and instructions before running a larger batch job."
   ]
  },
  {
   "cell_type": "code",
   "execution_count": 18,
   "metadata": {},
   "outputs": [
    {
     "name": "stdout",
     "output_type": "stream",
     "text": [
      "[13:36:32] [INFO] 🚀 Generating dataset preview\n",
      "[13:36:33] [INFO] 🦜 Step 1: Generate seed category values\n",
      "[13:36:41] [INFO] 🎲 Step 2: Sample data seeds\n",
      "[13:36:42] [INFO] 🦜 Step 3: Generate column from template >> generating assistant system prompt\n",
      "[13:36:48] [INFO] 🦜 Step 4: Generate column from template >> generating user task\n",
      "[13:36:53] [INFO] 🦜 Step 5: Generate column from template >> generating conversation\n",
      "[13:37:04] [INFO] 🦜 Step 6: Generate column from template >> generating toxicity label\n",
      "[13:37:24] [INFO] 👀 Your dataset preview is ready for a peek!\n"
     ]
    }
   ],
   "source": [
    "# Generate a preview\n",
    "preview = data_designer.generate_dataset_preview(num_records=10)"
   ]
  },
  {
   "cell_type": "code",
   "execution_count": 19,
   "metadata": {},
   "outputs": [
    {
     "data": {
      "text/html": [
       "<div>\n",
       "<style scoped>\n",
       "    .dataframe tbody tr th:only-of-type {\n",
       "        vertical-align: middle;\n",
       "    }\n",
       "\n",
       "    .dataframe tbody tr th {\n",
       "        vertical-align: top;\n",
       "    }\n",
       "\n",
       "    .dataframe thead th {\n",
       "        text-align: right;\n",
       "    }\n",
       "</style>\n",
       "<table border=\"1\" class=\"dataframe\">\n",
       "  <thead>\n",
       "    <tr style=\"text-align: right;\">\n",
       "      <th></th>\n",
       "      <th>conversation_length</th>\n",
       "      <th>user_mood</th>\n",
       "      <th>complexity</th>\n",
       "      <th>domain</th>\n",
       "      <th>topic</th>\n",
       "      <th>assistant_system_prompt</th>\n",
       "      <th>user_task</th>\n",
       "      <th>conversation</th>\n",
       "      <th>toxicity_label</th>\n",
       "    </tr>\n",
       "  </thead>\n",
       "  <tbody>\n",
       "    <tr>\n",
       "      <th>0</th>\n",
       "      <td>8</td>\n",
       "      <td>appreciative</td>\n",
       "      <td>Intermediate</td>\n",
       "      <td>Educational Guidance</td>\n",
       "      <td>Effective Studying Techniques</td>\n",
       "      <td>Certainly! Here is a system prompt tailored fo...</td>\n",
       "      <td>I'm looking for some effective studying techni...</td>\n",
       "      <td>{\"conversation\": [{\"role\": \"user\", \"content\": ...</td>\n",
       "      <td>{\"reasons\": [\"All user messages are polite, co...</td>\n",
       "    </tr>\n",
       "    <tr>\n",
       "      <th>1</th>\n",
       "      <td>6</td>\n",
       "      <td>combative</td>\n",
       "      <td>Advanced</td>\n",
       "      <td>Health Information</td>\n",
       "      <td>Fitness Programs</td>\n",
       "      <td>Your role is to be a specialized AI assistant ...</td>\n",
       "      <td>I've been following a health information progr...</td>\n",
       "      <td>{\"conversation\": [{\"role\": \"user\", \"content\": ...</td>\n",
       "      <td>{\"reasons\": [\"The user's messages express frus...</td>\n",
       "    </tr>\n",
       "    <tr>\n",
       "      <th>2</th>\n",
       "      <td>2</td>\n",
       "      <td>hateful</td>\n",
       "      <td>Intermediate</td>\n",
       "      <td>Personal Finances</td>\n",
       "      <td>Retirement Planning</td>\n",
       "      <td>As a helpful AI assistant specializing in Pers...</td>\n",
       "      <td>I'm extremely frustrated with my retirement sa...</td>\n",
       "      <td>{\"conversation\": [{\"role\": \"user\", \"content\": ...</td>\n",
       "      <td>{\"reasons\": [\"The user expresses frustration, ...</td>\n",
       "    </tr>\n",
       "    <tr>\n",
       "      <th>3</th>\n",
       "      <td>8</td>\n",
       "      <td>toxic</td>\n",
       "      <td>Advanced</td>\n",
       "      <td>Educational Guidance</td>\n",
       "      <td>Online Learning Resources</td>\n",
       "      <td>To assist students and lifelong learners effec...</td>\n",
       "      <td>I'm really frustrated with the lack of helpful...</td>\n",
       "      <td>{\"conversation\": [{\"role\": \"user\", \"content\": ...</td>\n",
       "      <td>{\"reasons\": [\"The user expressed frustration a...</td>\n",
       "    </tr>\n",
       "    <tr>\n",
       "      <th>4</th>\n",
       "      <td>8</td>\n",
       "      <td>hateful</td>\n",
       "      <td>Intermediate</td>\n",
       "      <td>Tech Support</td>\n",
       "      <td>Troubleshooting a Laptop</td>\n",
       "      <td>To assist users effectively in troubleshooting...</td>\n",
       "      <td>My laptop won't turn on at all, and I've tried...</td>\n",
       "      <td>{\"conversation\": [{\"role\": \"user\", \"content\": ...</td>\n",
       "      <td>{\"reasons\": [\"The user expressed frustration d...</td>\n",
       "    </tr>\n",
       "    <tr>\n",
       "      <th>5</th>\n",
       "      <td>8</td>\n",
       "      <td>happy</td>\n",
       "      <td>Basic</td>\n",
       "      <td>Cooking Recipes</td>\n",
       "      <td>Quick Snacks</td>\n",
       "      <td>I am a helpful AI assistant specializing in co...</td>\n",
       "      <td>Looking for a quick and easy recipe for a deli...</td>\n",
       "      <td>{\"conversation\": [{\"role\": \"user\", \"content\": ...</td>\n",
       "      <td>{\"reasons\": [\"The user's messages are construc...</td>\n",
       "    </tr>\n",
       "    <tr>\n",
       "      <th>6</th>\n",
       "      <td>6</td>\n",
       "      <td>appreciative</td>\n",
       "      <td>Basic</td>\n",
       "      <td>Home Automation</td>\n",
       "      <td>Smart Lighting</td>\n",
       "      <td>A helpful AI assistant specializing in Home Au...</td>\n",
       "      <td>I need help setting up some basic automation f...</td>\n",
       "      <td>{\"conversation\": [{\"role\": \"user\", \"content\": ...</td>\n",
       "      <td>{\"reasons\": [\"All user messages in the convers...</td>\n",
       "    </tr>\n",
       "    <tr>\n",
       "      <th>7</th>\n",
       "      <td>2</td>\n",
       "      <td>toxic</td>\n",
       "      <td>Basic</td>\n",
       "      <td>Home Automation</td>\n",
       "      <td>Smart Lighting</td>\n",
       "      <td>Develop a system prompt for an AI assistant sp...</td>\n",
       "      <td>I lost all control over my smart lights, and t...</td>\n",
       "      <td>{\"conversation\": [{\"role\": \"user\", \"content\": ...</td>\n",
       "      <td></td>\n",
       "    </tr>\n",
       "    <tr>\n",
       "      <th>8</th>\n",
       "      <td>8</td>\n",
       "      <td>appreciative</td>\n",
       "      <td>Advanced</td>\n",
       "      <td>Travel Planning</td>\n",
       "      <td>Destination Selection</td>\n",
       "      <td>An AI Assistant designed to excel in Travel Pl...</td>\n",
       "      <td>I'm looking to plan a detailed itinerary for a...</td>\n",
       "      <td>{\"conversation\": [{\"role\": \"user\", \"content\": ...</td>\n",
       "      <td></td>\n",
       "    </tr>\n",
       "    <tr>\n",
       "      <th>9</th>\n",
       "      <td>2</td>\n",
       "      <td>hateful</td>\n",
       "      <td>Advanced</td>\n",
       "      <td>Home Automation</td>\n",
       "      <td>Security Systems</td>\n",
       "      <td>Your system prompt could be as follows:\\n\\n\"Ac...</td>\n",
       "      <td>The user is extremely frustrated with their ho...</td>\n",
       "      <td>{\"conversation\": [{\"role\": \"user\", \"content\": ...</td>\n",
       "      <td></td>\n",
       "    </tr>\n",
       "  </tbody>\n",
       "</table>\n",
       "</div>"
      ],
      "text/plain": [
       "   conversation_length     user_mood    complexity                domain  \\\n",
       "0                    8  appreciative  Intermediate  Educational Guidance   \n",
       "1                    6     combative      Advanced    Health Information   \n",
       "2                    2       hateful  Intermediate     Personal Finances   \n",
       "3                    8         toxic      Advanced  Educational Guidance   \n",
       "4                    8       hateful  Intermediate          Tech Support   \n",
       "5                    8         happy         Basic       Cooking Recipes   \n",
       "6                    6  appreciative         Basic       Home Automation   \n",
       "7                    2         toxic         Basic       Home Automation   \n",
       "8                    8  appreciative      Advanced       Travel Planning   \n",
       "9                    2       hateful      Advanced       Home Automation   \n",
       "\n",
       "                           topic  \\\n",
       "0  Effective Studying Techniques   \n",
       "1               Fitness Programs   \n",
       "2            Retirement Planning   \n",
       "3      Online Learning Resources   \n",
       "4       Troubleshooting a Laptop   \n",
       "5                   Quick Snacks   \n",
       "6                 Smart Lighting   \n",
       "7                 Smart Lighting   \n",
       "8          Destination Selection   \n",
       "9               Security Systems   \n",
       "\n",
       "                             assistant_system_prompt  \\\n",
       "0  Certainly! Here is a system prompt tailored fo...   \n",
       "1  Your role is to be a specialized AI assistant ...   \n",
       "2  As a helpful AI assistant specializing in Pers...   \n",
       "3  To assist students and lifelong learners effec...   \n",
       "4  To assist users effectively in troubleshooting...   \n",
       "5  I am a helpful AI assistant specializing in co...   \n",
       "6  A helpful AI assistant specializing in Home Au...   \n",
       "7  Develop a system prompt for an AI assistant sp...   \n",
       "8  An AI Assistant designed to excel in Travel Pl...   \n",
       "9  Your system prompt could be as follows:\\n\\n\"Ac...   \n",
       "\n",
       "                                           user_task  \\\n",
       "0  I'm looking for some effective studying techni...   \n",
       "1  I've been following a health information progr...   \n",
       "2  I'm extremely frustrated with my retirement sa...   \n",
       "3  I'm really frustrated with the lack of helpful...   \n",
       "4  My laptop won't turn on at all, and I've tried...   \n",
       "5  Looking for a quick and easy recipe for a deli...   \n",
       "6  I need help setting up some basic automation f...   \n",
       "7  I lost all control over my smart lights, and t...   \n",
       "8  I'm looking to plan a detailed itinerary for a...   \n",
       "9  The user is extremely frustrated with their ho...   \n",
       "\n",
       "                                        conversation  \\\n",
       "0  {\"conversation\": [{\"role\": \"user\", \"content\": ...   \n",
       "1  {\"conversation\": [{\"role\": \"user\", \"content\": ...   \n",
       "2  {\"conversation\": [{\"role\": \"user\", \"content\": ...   \n",
       "3  {\"conversation\": [{\"role\": \"user\", \"content\": ...   \n",
       "4  {\"conversation\": [{\"role\": \"user\", \"content\": ...   \n",
       "5  {\"conversation\": [{\"role\": \"user\", \"content\": ...   \n",
       "6  {\"conversation\": [{\"role\": \"user\", \"content\": ...   \n",
       "7  {\"conversation\": [{\"role\": \"user\", \"content\": ...   \n",
       "8  {\"conversation\": [{\"role\": \"user\", \"content\": ...   \n",
       "9  {\"conversation\": [{\"role\": \"user\", \"content\": ...   \n",
       "\n",
       "                                      toxicity_label  \n",
       "0  {\"reasons\": [\"All user messages are polite, co...  \n",
       "1  {\"reasons\": [\"The user's messages express frus...  \n",
       "2  {\"reasons\": [\"The user expresses frustration, ...  \n",
       "3  {\"reasons\": [\"The user expressed frustration a...  \n",
       "4  {\"reasons\": [\"The user expressed frustration d...  \n",
       "5  {\"reasons\": [\"The user's messages are construc...  \n",
       "6  {\"reasons\": [\"All user messages in the convers...  \n",
       "7                                                     \n",
       "8                                                     \n",
       "9                                                     "
      ]
     },
     "execution_count": 19,
     "metadata": {},
     "output_type": "execute_result"
    }
   ],
   "source": [
    "preview.dataset"
   ]
  },
  {
   "cell_type": "markdown",
   "metadata": {},
   "source": [
    "## 🔎 Easily inspect individual records\n",
    "\n",
    "- Run the cell below to display individual records for inspection.\n",
    "\n",
    "- Run the cell multiple times to cycle through the 10 preview records.\n",
    "\n",
    "- Alternatively, you can pass the `index` argument to `display_sample_record` to display a specific record."
   ]
  },
  {
   "cell_type": "code",
   "execution_count": 25,
   "metadata": {
    "id": "fAWaJKnAP8ZJ"
   },
   "outputs": [
    {
     "data": {
      "text/html": [
       "<pre style=\"white-space:pre;overflow-x:auto;line-height:normal;font-family:Menlo,'DejaVu Sans Mono',consolas,'Courier New',monospace\">                                                                                                                   \n",
       "<span style=\"font-style: italic\">                                             Categorical Seed Columns                                              </span>\n",
       "┏━━━━━━━━━━━━━━━━━━━━━━━━━━━━━━━━━━━━━━━━━━━━━━━━━━━━━━━━━━━━━━┳━━━━━━━━━━━━━━━━━━━━━━━━━━━━━━━━━━━━━━━━━━━━━━━━━━┓\n",
       "┃<span style=\"font-weight: bold\"> Name                                                         </span>┃<span style=\"font-weight: bold\"> Value                                            </span>┃\n",
       "┡━━━━━━━━━━━━━━━━━━━━━━━━━━━━━━━━━━━━━━━━━━━━━━━━━━━━━━━━━━━━━━╇━━━━━━━━━━━━━━━━━━━━━━━━━━━━━━━━━━━━━━━━━━━━━━━━━━┩\n",
       "│ conversation_length                                          │ 8                                                │\n",
       "├──────────────────────────────────────────────────────────────┼──────────────────────────────────────────────────┤\n",
       "│ user_mood                                                    │ happy                                            │\n",
       "├──────────────────────────────────────────────────────────────┼──────────────────────────────────────────────────┤\n",
       "│ complexity                                                   │ Basic                                            │\n",
       "├──────────────────────────────────────────────────────────────┼──────────────────────────────────────────────────┤\n",
       "│ domain                                                       │ Cooking Recipes                                  │\n",
       "├──────────────────────────────────────────────────────────────┼──────────────────────────────────────────────────┤\n",
       "│   |- topic                                                   │ Quick Snacks                                     │\n",
       "└──────────────────────────────────────────────────────────────┴──────────────────────────────────────────────────┘\n",
       "                                                                                                                   \n",
       "                                                                                                                   \n",
       "<span style=\"font-style: italic\">                                              Generated Data Columns                                               </span>\n",
       "┏━━━━━━━━━━━━━━━━━━━━━━━━━┳━━━━━━━━━━━━━━━━━━━━━━━━━━━━━━━━━━━━━━━━━━━━━━━━━━━━━━━━━━━━━━━━━━━━━━━━━━━━━━━━━━━━━━━┓\n",
       "┃<span style=\"font-weight: bold\"> Name                    </span>┃<span style=\"font-weight: bold\"> Value                                                                                 </span>┃\n",
       "┡━━━━━━━━━━━━━━━━━━━━━━━━━╇━━━━━━━━━━━━━━━━━━━━━━━━━━━━━━━━━━━━━━━━━━━━━━━━━━━━━━━━━━━━━━━━━━━━━━━━━━━━━━━━━━━━━━━┩\n",
       "│ assistant_system_prompt │ I am a helpful AI assistant specializing in cooking recipes and quick snacks. My      │\n",
       "│                         │ mission is to provide safe, informative, and delicious content to help users explore  │\n",
       "│                         │ the culinary world. Whether you're looking for a new recipe to try, tips for quick    │\n",
       "│                         │ snacking, or nutritional advice, I'm here to guide you with care and precision. I     │\n",
       "│                         │ prioritize providing helpful, wholesome, and safe suggestions. Let's cook up          │\n",
       "│                         │ something amazing together!                                                           │\n",
       "├─────────────────────────┼───────────────────────────────────────────────────────────────────────────────────────┤\n",
       "│ user_task               │ Looking for a quick and easy recipe for a delicious snack that I can prepare at home  │\n",
       "│                         │ quickly.                                                                              │\n",
       "├─────────────────────────┼───────────────────────────────────────────────────────────────────────────────────────┤\n",
       "│ conversation            │ <span style=\"font-weight: bold\">{</span>                                                                                     │\n",
       "│                         │     <span style=\"color: #008000; text-decoration-color: #008000\">'conversation'</span>: <span style=\"font-weight: bold\">[</span>                                                                 │\n",
       "│                         │         <span style=\"font-weight: bold\">{</span>                                                                             │\n",
       "│                         │             <span style=\"color: #008000; text-decoration-color: #008000\">'role'</span>: <span style=\"color: #008000; text-decoration-color: #008000\">'user'</span>,                                                           │\n",
       "│                         │             <span style=\"color: #008000; text-decoration-color: #008000\">'content'</span>: <span style=\"color: #008000; text-decoration-color: #008000\">\"Hi there! I'm looking for a quick and easy recipe for a </span>      │\n",
       "│                         │ <span style=\"color: #008000; text-decoration-color: #008000\">delicious snack that I can prepare at home quickly.\"</span>                                  │\n",
       "│                         │         <span style=\"font-weight: bold\">}</span>,                                                                            │\n",
       "│                         │         <span style=\"font-weight: bold\">{</span>                                                                             │\n",
       "│                         │             <span style=\"color: #008000; text-decoration-color: #008000\">'role'</span>: <span style=\"color: #008000; text-decoration-color: #008000\">'assistant'</span>,                                                      │\n",
       "│                         │             <span style=\"color: #008000; text-decoration-color: #008000\">'content'</span>: <span style=\"color: #008000; text-decoration-color: #008000\">\"Hello! I'd be happy to help you find a tasty snack recipe. </span>   │\n",
       "│                         │ <span style=\"color: #008000; text-decoration-color: #008000\">How about making some quick and easy energy balls? They're great for satisfying that </span> │\n",
       "│                         │ <span style=\"color: #008000; text-decoration-color: #008000\">snack craving without a lot of fuss.\"</span>                                                 │\n",
       "│                         │         <span style=\"font-weight: bold\">}</span>,                                                                            │\n",
       "│                         │         <span style=\"font-weight: bold\">{</span>                                                                             │\n",
       "│                         │             <span style=\"color: #008000; text-decoration-color: #008000\">'role'</span>: <span style=\"color: #008000; text-decoration-color: #008000\">'user'</span>,                                                           │\n",
       "│                         │             <span style=\"color: #008000; text-decoration-color: #008000\">'content'</span>: <span style=\"color: #008000; text-decoration-color: #008000\">'That sounds fantastic! Can you give me the ingredients and </span>   │\n",
       "│                         │ <span style=\"color: #008000; text-decoration-color: #008000\">steps to make them?'</span>                                                                  │\n",
       "│                         │         <span style=\"font-weight: bold\">}</span>,                                                                            │\n",
       "│                         │         <span style=\"font-weight: bold\">{</span>                                                                             │\n",
       "│                         │             <span style=\"color: #008000; text-decoration-color: #008000\">'role'</span>: <span style=\"color: #008000; text-decoration-color: #008000\">'assistant'</span>,                                                      │\n",
       "│                         │             <span style=\"color: #008000; text-decoration-color: #008000\">'content'</span>: <span style=\"color: #008000; text-decoration-color: #008000\">\"Absolutely! Hereâ\\x80\\x99s a simple recipe for energy balls. </span> │\n",
       "│                         │ <span style=\"color: #008000; text-decoration-color: #008000\">You'll need: 1 cup of rolled oats, 1/2 cup of peanut butter (or almond butter), 1/3 </span>  │\n",
       "│                         │ <span style=\"color: #008000; text-decoration-color: #008000\">cup of honey (or maple syrup), 1/2 cup of mini chocolate chips, and a pinch of salt. </span> │\n",
       "│                         │ <span style=\"color: #008000; text-decoration-color: #008000\">Mix all the ingredients in a bowl until well combined, then roll into bite-sized </span>     │\n",
       "│                         │ <span style=\"color: #008000; text-decoration-color: #008000\">balls and refrigerate until firm.\"</span>                                                    │\n",
       "│                         │         <span style=\"font-weight: bold\">}</span>,                                                                            │\n",
       "│                         │         <span style=\"font-weight: bold\">{</span>                                                                             │\n",
       "│                         │             <span style=\"color: #008000; text-decoration-color: #008000\">'role'</span>: <span style=\"color: #008000; text-decoration-color: #008000\">'user'</span>,                                                           │\n",
       "│                         │             <span style=\"color: #008000; text-decoration-color: #008000\">'content'</span>: <span style=\"color: #008000; text-decoration-color: #008000\">\"That's easy to follow. Do you have any tips for customizing </span>  │\n",
       "│                         │ <span style=\"color: #008000; text-decoration-color: #008000\">the recipe?\"</span>                                                                          │\n",
       "│                         │         <span style=\"font-weight: bold\">}</span>,                                                                            │\n",
       "│                         │         <span style=\"font-weight: bold\">{</span>                                                                             │\n",
       "│                         │             <span style=\"color: #008000; text-decoration-color: #008000\">'role'</span>: <span style=\"color: #008000; text-decoration-color: #008000\">'assistant'</span>,                                                      │\n",
       "│                         │             <span style=\"color: #008000; text-decoration-color: #008000\">'content'</span>: <span style=\"color: #008000; text-decoration-color: #008000\">'Great question! You can definitely get creative with the </span>     │\n",
       "│                         │ <span style=\"color: #008000; text-decoration-color: #008000\">ingredients. For instance, add some dried fruit like raisins or cranberries for extra</span> │\n",
       "│                         │ <span style=\"color: #008000; text-decoration-color: #008000\">sweetness, or swap out the peanut butter with sunflower seed butter for a nut-free </span>   │\n",
       "│                         │ <span style=\"color: #008000; text-decoration-color: #008000\">option. You can also roll the balls in shredded coconut or chopped nuts for added </span>    │\n",
       "│                         │ <span style=\"color: #008000; text-decoration-color: #008000\">texture.'</span>                                                                             │\n",
       "│                         │         <span style=\"font-weight: bold\">}</span>,                                                                            │\n",
       "│                         │         <span style=\"font-weight: bold\">{</span>                                                                             │\n",
       "│                         │             <span style=\"color: #008000; text-decoration-color: #008000\">'role'</span>: <span style=\"color: #008000; text-decoration-color: #008000\">'user'</span>,                                                           │\n",
       "│                         │             <span style=\"color: #008000; text-decoration-color: #008000\">'content'</span>: <span style=\"color: #008000; text-decoration-color: #008000\">'I love the idea of adding dried fruits. How long do these </span>    │\n",
       "│                         │ <span style=\"color: #008000; text-decoration-color: #008000\">keep in the fridge?'</span>                                                                  │\n",
       "│                         │         <span style=\"font-weight: bold\">}</span>,                                                                            │\n",
       "│                         │         <span style=\"font-weight: bold\">{</span>                                                                             │\n",
       "│                         │             <span style=\"color: #008000; text-decoration-color: #008000\">'role'</span>: <span style=\"color: #008000; text-decoration-color: #008000\">'assistant'</span>,                                                      │\n",
       "│                         │             <span style=\"color: #008000; text-decoration-color: #008000\">'content'</span>: <span style=\"color: #008000; text-decoration-color: #008000\">\"These energy balls can last up to two weeks in the fridge. </span>   │\n",
       "│                         │ <span style=\"color: #008000; text-decoration-color: #008000\">Just make sure they're stored in an airtight container to keep them fresh. If you </span>    │\n",
       "│                         │ <span style=\"color: #008000; text-decoration-color: #008000\">need more specialized advice or have dietary restrictions, I suggest reaching out to </span> │\n",
       "│                         │ <span style=\"color: #008000; text-decoration-color: #008000\">a nutritionist.\"</span>                                                                      │\n",
       "│                         │         <span style=\"font-weight: bold\">}</span>                                                                             │\n",
       "│                         │     <span style=\"font-weight: bold\">]</span>                                                                                 │\n",
       "│                         │ <span style=\"font-weight: bold\">}</span>                                                                                     │\n",
       "├─────────────────────────┼───────────────────────────────────────────────────────────────────────────────────────┤\n",
       "│ toxicity_label          │ <span style=\"font-weight: bold\">{</span>                                                                                     │\n",
       "│                         │     <span style=\"color: #008000; text-decoration-color: #008000\">'reasons'</span>: <span style=\"font-weight: bold\">[</span>                                                                      │\n",
       "│                         │         <span style=\"color: #008000; text-decoration-color: #008000\">\"The user's messages are constructive and focused on obtaining information.\"</span>, │\n",
       "│                         │         <span style=\"color: #008000; text-decoration-color: #008000\">'No offensive, harassing, or harmful language is present.'</span>                    │\n",
       "│                         │     <span style=\"font-weight: bold\">]</span>,                                                                                │\n",
       "│                         │     <span style=\"color: #008000; text-decoration-color: #008000\">'score'</span>: <span style=\"color: #008000; text-decoration-color: #008000\">'None'</span>                                                                   │\n",
       "│                         │ <span style=\"font-weight: bold\">}</span>                                                                                     │\n",
       "└─────────────────────────┴───────────────────────────────────────────────────────────────────────────────────────┘\n",
       "                                                                                                                   \n",
       "                                                    [index: 5]                                                     \n",
       "</pre>\n"
      ],
      "text/plain": [
       "                                                                                                                   \n",
       "\u001b[3m                                             Categorical Seed Columns                                              \u001b[0m\n",
       "┏━━━━━━━━━━━━━━━━━━━━━━━━━━━━━━━━━━━━━━━━━━━━━━━━━━━━━━━━━━━━━━┳━━━━━━━━━━━━━━━━━━━━━━━━━━━━━━━━━━━━━━━━━━━━━━━━━━┓\n",
       "┃\u001b[1m \u001b[0m\u001b[1mName                                                        \u001b[0m\u001b[1m \u001b[0m┃\u001b[1m \u001b[0m\u001b[1mValue                                           \u001b[0m\u001b[1m \u001b[0m┃\n",
       "┡━━━━━━━━━━━━━━━━━━━━━━━━━━━━━━━━━━━━━━━━━━━━━━━━━━━━━━━━━━━━━━╇━━━━━━━━━━━━━━━━━━━━━━━━━━━━━━━━━━━━━━━━━━━━━━━━━━┩\n",
       "│ conversation_length                                          │ 8                                                │\n",
       "├──────────────────────────────────────────────────────────────┼──────────────────────────────────────────────────┤\n",
       "│ user_mood                                                    │ happy                                            │\n",
       "├──────────────────────────────────────────────────────────────┼──────────────────────────────────────────────────┤\n",
       "│ complexity                                                   │ Basic                                            │\n",
       "├──────────────────────────────────────────────────────────────┼──────────────────────────────────────────────────┤\n",
       "│ domain                                                       │ Cooking Recipes                                  │\n",
       "├──────────────────────────────────────────────────────────────┼──────────────────────────────────────────────────┤\n",
       "│   |- topic                                                   │ Quick Snacks                                     │\n",
       "└──────────────────────────────────────────────────────────────┴──────────────────────────────────────────────────┘\n",
       "                                                                                                                   \n",
       "                                                                                                                   \n",
       "\u001b[3m                                              Generated Data Columns                                               \u001b[0m\n",
       "┏━━━━━━━━━━━━━━━━━━━━━━━━━┳━━━━━━━━━━━━━━━━━━━━━━━━━━━━━━━━━━━━━━━━━━━━━━━━━━━━━━━━━━━━━━━━━━━━━━━━━━━━━━━━━━━━━━━┓\n",
       "┃\u001b[1m \u001b[0m\u001b[1mName                   \u001b[0m\u001b[1m \u001b[0m┃\u001b[1m \u001b[0m\u001b[1mValue                                                                                \u001b[0m\u001b[1m \u001b[0m┃\n",
       "┡━━━━━━━━━━━━━━━━━━━━━━━━━╇━━━━━━━━━━━━━━━━━━━━━━━━━━━━━━━━━━━━━━━━━━━━━━━━━━━━━━━━━━━━━━━━━━━━━━━━━━━━━━━━━━━━━━━┩\n",
       "│ assistant_system_prompt │ I am a helpful AI assistant specializing in cooking recipes and quick snacks. My      │\n",
       "│                         │ mission is to provide safe, informative, and delicious content to help users explore  │\n",
       "│                         │ the culinary world. Whether you're looking for a new recipe to try, tips for quick    │\n",
       "│                         │ snacking, or nutritional advice, I'm here to guide you with care and precision. I     │\n",
       "│                         │ prioritize providing helpful, wholesome, and safe suggestions. Let's cook up          │\n",
       "│                         │ something amazing together!                                                           │\n",
       "├─────────────────────────┼───────────────────────────────────────────────────────────────────────────────────────┤\n",
       "│ user_task               │ Looking for a quick and easy recipe for a delicious snack that I can prepare at home  │\n",
       "│                         │ quickly.                                                                              │\n",
       "├─────────────────────────┼───────────────────────────────────────────────────────────────────────────────────────┤\n",
       "│ conversation            │ \u001b[1m{\u001b[0m                                                                                     │\n",
       "│                         │     \u001b[32m'conversation'\u001b[0m: \u001b[1m[\u001b[0m                                                                 │\n",
       "│                         │         \u001b[1m{\u001b[0m                                                                             │\n",
       "│                         │             \u001b[32m'role'\u001b[0m: \u001b[32m'user'\u001b[0m,                                                           │\n",
       "│                         │             \u001b[32m'content'\u001b[0m: \u001b[32m\"Hi there! I'm looking for a quick and easy recipe for a \u001b[0m      │\n",
       "│                         │ \u001b[32mdelicious snack that I can prepare at home quickly.\"\u001b[0m                                  │\n",
       "│                         │         \u001b[1m}\u001b[0m,                                                                            │\n",
       "│                         │         \u001b[1m{\u001b[0m                                                                             │\n",
       "│                         │             \u001b[32m'role'\u001b[0m: \u001b[32m'assistant'\u001b[0m,                                                      │\n",
       "│                         │             \u001b[32m'content'\u001b[0m: \u001b[32m\"Hello! I'd be happy to help you find a tasty snack recipe. \u001b[0m   │\n",
       "│                         │ \u001b[32mHow about making some quick and easy energy balls? They're great for satisfying that \u001b[0m │\n",
       "│                         │ \u001b[32msnack craving without a lot of fuss.\"\u001b[0m                                                 │\n",
       "│                         │         \u001b[1m}\u001b[0m,                                                                            │\n",
       "│                         │         \u001b[1m{\u001b[0m                                                                             │\n",
       "│                         │             \u001b[32m'role'\u001b[0m: \u001b[32m'user'\u001b[0m,                                                           │\n",
       "│                         │             \u001b[32m'content'\u001b[0m: \u001b[32m'That sounds fantastic! Can you give me the ingredients and \u001b[0m   │\n",
       "│                         │ \u001b[32msteps to make them?'\u001b[0m                                                                  │\n",
       "│                         │         \u001b[1m}\u001b[0m,                                                                            │\n",
       "│                         │         \u001b[1m{\u001b[0m                                                                             │\n",
       "│                         │             \u001b[32m'role'\u001b[0m: \u001b[32m'assistant'\u001b[0m,                                                      │\n",
       "│                         │             \u001b[32m'content'\u001b[0m: \u001b[32m\"Absolutely! Hereâ\\x80\\x99s a simple recipe for energy balls. \u001b[0m │\n",
       "│                         │ \u001b[32mYou'll need: 1 cup of rolled oats, 1/2 cup of peanut butter \u001b[0m\u001b[32m(\u001b[0m\u001b[32mor almond butter\u001b[0m\u001b[32m)\u001b[0m\u001b[32m, 1/3 \u001b[0m  │\n",
       "│                         │ \u001b[32mcup of honey \u001b[0m\u001b[32m(\u001b[0m\u001b[32mor maple syrup\u001b[0m\u001b[32m)\u001b[0m\u001b[32m, 1/2 cup of mini chocolate chips, and a pinch of salt. \u001b[0m │\n",
       "│                         │ \u001b[32mMix all the ingredients in a bowl until well combined, then roll into bite-sized \u001b[0m     │\n",
       "│                         │ \u001b[32mballs and refrigerate until firm.\"\u001b[0m                                                    │\n",
       "│                         │         \u001b[1m}\u001b[0m,                                                                            │\n",
       "│                         │         \u001b[1m{\u001b[0m                                                                             │\n",
       "│                         │             \u001b[32m'role'\u001b[0m: \u001b[32m'user'\u001b[0m,                                                           │\n",
       "│                         │             \u001b[32m'content'\u001b[0m: \u001b[32m\"That's easy to follow. Do you have any tips for customizing \u001b[0m  │\n",
       "│                         │ \u001b[32mthe recipe?\"\u001b[0m                                                                          │\n",
       "│                         │         \u001b[1m}\u001b[0m,                                                                            │\n",
       "│                         │         \u001b[1m{\u001b[0m                                                                             │\n",
       "│                         │             \u001b[32m'role'\u001b[0m: \u001b[32m'assistant'\u001b[0m,                                                      │\n",
       "│                         │             \u001b[32m'content'\u001b[0m: \u001b[32m'Great question! You can definitely get creative with the \u001b[0m     │\n",
       "│                         │ \u001b[32mingredients. For instance, add some dried fruit like raisins or cranberries for extra\u001b[0m │\n",
       "│                         │ \u001b[32msweetness, or swap out the peanut butter with sunflower seed butter for a nut-free \u001b[0m   │\n",
       "│                         │ \u001b[32moption. You can also roll the balls in shredded coconut or chopped nuts for added \u001b[0m    │\n",
       "│                         │ \u001b[32mtexture.'\u001b[0m                                                                             │\n",
       "│                         │         \u001b[1m}\u001b[0m,                                                                            │\n",
       "│                         │         \u001b[1m{\u001b[0m                                                                             │\n",
       "│                         │             \u001b[32m'role'\u001b[0m: \u001b[32m'user'\u001b[0m,                                                           │\n",
       "│                         │             \u001b[32m'content'\u001b[0m: \u001b[32m'I love the idea of adding dried fruits. How long do these \u001b[0m    │\n",
       "│                         │ \u001b[32mkeep in the fridge?'\u001b[0m                                                                  │\n",
       "│                         │         \u001b[1m}\u001b[0m,                                                                            │\n",
       "│                         │         \u001b[1m{\u001b[0m                                                                             │\n",
       "│                         │             \u001b[32m'role'\u001b[0m: \u001b[32m'assistant'\u001b[0m,                                                      │\n",
       "│                         │             \u001b[32m'content'\u001b[0m: \u001b[32m\"These energy balls can last up to two weeks in the fridge. \u001b[0m   │\n",
       "│                         │ \u001b[32mJust make sure they're stored in an airtight container to keep them fresh. If you \u001b[0m    │\n",
       "│                         │ \u001b[32mneed more specialized advice or have dietary restrictions, I suggest reaching out to \u001b[0m │\n",
       "│                         │ \u001b[32ma nutritionist.\"\u001b[0m                                                                      │\n",
       "│                         │         \u001b[1m}\u001b[0m                                                                             │\n",
       "│                         │     \u001b[1m]\u001b[0m                                                                                 │\n",
       "│                         │ \u001b[1m}\u001b[0m                                                                                     │\n",
       "├─────────────────────────┼───────────────────────────────────────────────────────────────────────────────────────┤\n",
       "│ toxicity_label          │ \u001b[1m{\u001b[0m                                                                                     │\n",
       "│                         │     \u001b[32m'reasons'\u001b[0m: \u001b[1m[\u001b[0m                                                                      │\n",
       "│                         │         \u001b[32m\"The user's messages are constructive and focused on obtaining information.\"\u001b[0m, │\n",
       "│                         │         \u001b[32m'No offensive, harassing, or harmful language is present.'\u001b[0m                    │\n",
       "│                         │     \u001b[1m]\u001b[0m,                                                                                │\n",
       "│                         │     \u001b[32m'score'\u001b[0m: \u001b[32m'None'\u001b[0m                                                                   │\n",
       "│                         │ \u001b[1m}\u001b[0m                                                                                     │\n",
       "└─────────────────────────┴───────────────────────────────────────────────────────────────────────────────────────┘\n",
       "                                                                                                                   \n",
       "                                                    [index: 5]                                                     \n"
      ]
     },
     "metadata": {},
     "output_type": "display_data"
    }
   ],
   "source": [
    "preview.display_sample_record()"
   ]
  },
  {
   "cell_type": "markdown",
   "metadata": {
    "id": "eMjFAR0Yenrk"
   },
   "source": [
    "## 🤔 Like what you see?\n",
    "\n",
    "Submit a batch workflow!"
   ]
  },
  {
   "cell_type": "code",
   "execution_count": null,
   "metadata": {
    "id": "VziAxDPtQEes"
   },
   "outputs": [],
   "source": [
    "batch_job = data_designer.submit_batch_workflow(num_records=1000)"
   ]
  },
  {
   "cell_type": "code",
   "execution_count": null,
   "metadata": {
    "id": "dY1XI8q-Ru4z"
   },
   "outputs": [],
   "source": [
    "# Check to see if the Workflow is still active.\n",
    "batch_job.workflow_run_status"
   ]
  },
  {
   "cell_type": "code",
   "execution_count": null,
   "metadata": {
    "id": "fDAG5KmQeQ0m"
   },
   "outputs": [],
   "source": [
    "df = batch_job.fetch_dataset(wait_for_completion=True)"
   ]
  },
  {
   "cell_type": "code",
   "execution_count": null,
   "metadata": {
    "id": "y4joRe9aJZCM"
   },
   "outputs": [],
   "source": [
    "display(df)"
   ]
  },
  {
   "cell_type": "markdown",
   "metadata": {},
   "source": [
    "By following these steps and leveraging the interactivity of the SDK, you can refine prompts, generate realistic dialogues, and ensure the resulting dataset is high-quality, non-toxic, and aligned with your domain-specific requirements."
   ]
  }
 ],
 "metadata": {
  "colab": {
   "authorship_tag": "ABX9TyOULXxjB7a5FBgCdNl8vi0v",
   "include_colab_link": true,
   "provenance": []
  },
  "kernelspec": {
   "display_name": "Python 3",
   "language": "python",
   "name": "python3"
  },
  "language_info": {
   "codemirror_mode": {
    "name": "ipython",
    "version": 3
   },
   "file_extension": ".py",
   "mimetype": "text/x-python",
   "name": "python",
   "nbconvert_exporter": "python",
   "pygments_lexer": "ipython3",
   "version": "3.12.4"
  }
 },
 "nbformat": 4,
 "nbformat_minor": 0
}
