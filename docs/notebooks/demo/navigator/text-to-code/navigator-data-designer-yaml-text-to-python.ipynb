{
 "cells": [
  {
   "cell_type": "markdown",
   "metadata": {
    "colab_type": "text",
    "id": "view-in-github"
   },
   "source": [
    "<a href=\"https://colab.research.google.com/github/gretelai/gretel-blueprints/blob/main/docs/notebooks/demo/navigator/navigator-data-designer-yaml-text-to-python.ipynb\" target=\"_parent\"><img src=\"https://colab.research.google.com/assets/colab-badge.svg\" alt=\"Open In Colab\"/></a>"
   ]
  },
  {
   "cell_type": "markdown",
   "metadata": {},
   "source": [
    "# 🌅 Early Preview: Data Designer\n",
    "\n",
    "> **Note:** The [Data Designer](https://gretel.ai/navigator/data-designer) functionality demonstrated in this notebook is currently in **Early Preview**.\n",
    ">\n",
    "> To access these features and run this notebook, please [join the waitlist](https://gretel.ai/navigator/data-designer#waitlist)."
   ]
  },
  {
   "cell_type": "markdown",
   "metadata": {
    "id": "MMMHiDmEcYZY"
   },
   "source": [
    "# 🎨 Navigator Data Designer SDK: Text-to-Python\n"
   ]
  },
  {
   "cell_type": "code",
   "execution_count": null,
   "metadata": {
    "id": "mNoaC7dX28y0"
   },
   "outputs": [],
   "source": [
    "%%capture\n",
    "!pip install -U git+https://github.com/gretelai/gretel-python-client"
   ]
  },
  {
   "cell_type": "code",
   "execution_count": null,
   "metadata": {
    "id": "1k5NjjtzPQJi",
    "tags": []
   },
   "outputs": [],
   "source": [
    "from gretel_client.navigator import DataDesigner"
   ]
  },
  {
   "cell_type": "markdown",
   "metadata": {},
   "source": [
    "## 📘 Text-to-Python Configuration\n",
    "\n",
    "Below we show an example Text-to-Python `DataDesigner` configuration. The main sections are as follow:\n",
    "\n",
    "- **model_suite:** You can use `apache-2.0` or `llama-3.x` depending on the type of license you want associated with the data you generate. Selecting `apache-2.0` ensures that all models used by Data Designer comply with the `apache-2.0` license and using `llama-3.x` means the models used by Data Designer will fall under the `Llama 3` license.\n",
    "\n",
    "- **special_system_instructions:** This is an optional use-case-specific instruction to be added to the system prompt of all LLMs used during synthetic data generation.\n",
    "\n",
    "- **categorical_seed_columns:** Specifies categorical data seed columns that will be used to seed the synthetic data generation process. Here we fully specify all seed categories and subcategories. It is also possible to generate category values using the `num_new_values_to_generate` parameter.\n",
    "\n",
    "- **generated_data_columns:** Specifies data columns that are fully generated using LLMs, seeded by the categorical seed columns. The `generation_prompt` field is the prompt template that will be used to generate the data column. All data seeds and previously defined data columns can be used as template keyword arguments.\n",
    "\n",
    "- **post_processors:** Specifics validation / evaluation / processing that is applied to the dataset after generation. Here, we define a code validator and the `text_to_python` evaluation suite."
   ]
  },
  {
   "cell_type": "code",
   "execution_count": null,
   "metadata": {
    "id": "0cxx8ensOqLl",
    "tags": []
   },
   "outputs": [],
   "source": [
    "config_string = \"\"\"\n",
    "model_suite: apache-2.0\n",
    "\n",
    "special_system_instructions: >-\n",
    "  You are an expert at writing, analyzing, and editing Python code. You know what\n",
    "  high-quality, clean, efficient, and maintainable Python code looks like. You\n",
    "  excel at transforming natural language into Python, as well as Python back into\n",
    "  natural language. Your job is to assist the user with their Python-related tasks.\n",
    "\n",
    "categorical_seed_columns:\n",
    "  - name: industry_sector\n",
    "    values: [Healthcare, Finance, Technology]\n",
    "    subcategories:\n",
    "      - name: topic\n",
    "        values:\n",
    "          Healthcare:\n",
    "            - Electronic Health Records (EHR) Systems\n",
    "            - Telemedicine Platforms\n",
    "            - AI-Powered Diagnostic Tools\n",
    "          Finance:\n",
    "            - Fraud Detection Software\n",
    "            - Automated Trading Systems\n",
    "            - Personal Finance Apps\n",
    "          Technology:\n",
    "            - Cloud Computing Platforms\n",
    "            - Artificial Intelligence and Machine Learning Platforms\n",
    "            - DevOps and Continuous Integration/Continuous Deployment (CI/CD) Tools\n",
    "\n",
    "  - name: code_complexity\n",
    "    values: [Beginner, Intermediate, Advanced]\n",
    "    subcategories:\n",
    "      - name: code_concept\n",
    "        values:\n",
    "          Beginner: [Variables, Data Types, Functions, Loops, Classes]\n",
    "          Intermediate: [List Comprehensions, Object-oriented programming, Lambda Functions, Web frameworks, Pandas]\n",
    "          Advanced: [Multithreading, Context Managers, Generators]\n",
    "  \n",
    "  - name: instruction_phrase\n",
    "    values: [\"Write a function that\", \"Create a class that\", \"Implement a script\", \"Can you create a function\", \"Develop a module that\"]\n",
    "\n",
    "generated_data_columns:\n",
    "    - name: instruction\n",
    "      generation_prompt: >-\n",
    "        Generate an instruction to create Python code that solves a specific problem. Each instruction should begin with one of the following phrases: {instruction_phrase}.\n",
    "        \n",
    "        Important Guidelines:\n",
    "            * Industry Relevance: Ensure the instruction pertains to the {industry_sector} sector and {topic} topic.\n",
    "            * Code Complexity: Tailor the instruction to the {code_complexity} level. Utilize relevant {code_concept} where appropriate to match the complexity level.\n",
    "            * Clarity and Specificity: Make the problem statement clear and unambiguous. Provide sufficient context to understand the requirements without being overly verbose.\n",
    "            * Response Formatting: Do not include any markers such as ### Response ### in the instruction.\n",
    "      columns_to_list_in_prompt: all_categorical_seed_columns\n",
    "\n",
    "    - name: code\n",
    "      generation_prompt: >-\n",
    "        Write Python code for the following instruction:\n",
    "        Instruction: {instruction}\\n\n",
    "\n",
    "        Important Guidelines:\n",
    "            * Code Quality: Your code should be clean, complete, self-contained and accurate.\n",
    "            * Code Validity: Please ensure that your python code is executable and does not contain any errors.\n",
    "            * Packages: Remember to import any necessary libraries, and to use all libraries you import.\n",
    "            * Complexity & Concepts: The code should be written at a {code_complexity} level, making use use of concepts such as {code_concept}.\n",
    "      llm_type: code\n",
    "      columns_to_list_in_prompt: [topic]\n",
    "      data_config:\n",
    "          type: code\n",
    "          params:\n",
    "            syntax: python\n",
    "\n",
    "post_processors:\n",
    "    - validator: code\n",
    "      settings:\n",
    "        code_lang: python\n",
    "        code_columns: [code]\n",
    "\n",
    "    - evaluator: text_to_python\n",
    "      settings:\n",
    "        text_column: instruction\n",
    "        code_column: code\n",
    "\"\"\"\n",
    "\n",
    "data_designer = DataDesigner.from_config(config_string, api_key=\"prompt\")"
   ]
  },
  {
   "cell_type": "markdown",
   "metadata": {
    "id": "NDxYu6azd3c4"
   },
   "source": [
    "## 👀 Generating a dataset preview\n",
    "\n",
    "- Preview mode allows you to quickly iterate on your data design.\n",
    "\n",
    "- Each preview generation call creates 10 records for inspection."
   ]
  },
  {
   "cell_type": "code",
   "execution_count": null,
   "metadata": {
    "id": "Ef8Ws90cPbIu",
    "tags": []
   },
   "outputs": [],
   "source": [
    "preview = data_designer.generate_dataset_preview()"
   ]
  },
  {
   "cell_type": "code",
   "execution_count": null,
   "metadata": {
    "id": "Y5I2GjczNh_s",
    "tags": []
   },
   "outputs": [],
   "source": [
    "# The preview dataset is accessible as a DataFrame\n",
    "preview.dataset"
   ]
  },
  {
   "cell_type": "markdown",
   "metadata": {
    "id": "CjYiKmcWd_2t"
   },
   "source": [
    "## 🔎 Easily inspect individual records\n",
    "\n",
    "- Run the cell below to display individual records for inspection.\n",
    "\n",
    "- Run the cell multiple times to cycle through the 10 preview records.\n",
    "\n",
    "- Alternatively, you can pass the `index` argument to `display_sample_record` to display a specific record."
   ]
  },
  {
   "cell_type": "code",
   "execution_count": null,
   "metadata": {
    "id": "fAWaJKnAP8ZJ",
    "tags": []
   },
   "outputs": [],
   "source": [
    "preview.display_sample_record()"
   ]
  },
  {
   "cell_type": "markdown",
   "metadata": {
    "id": "eMjFAR0Yenrk"
   },
   "source": [
    "## 🤔 Like what you see?\n",
    "\n",
    "- Submit a batch workflow!"
   ]
  },
  {
   "cell_type": "code",
   "execution_count": null,
   "metadata": {
    "id": "VziAxDPtQEes",
    "tags": []
   },
   "outputs": [],
   "source": [
    "batch_job = data_designer.submit_batch_workflow(num_records=25)"
   ]
  },
  {
   "cell_type": "code",
   "execution_count": null,
   "metadata": {
    "id": "dY1XI8q-Ru4z",
    "tags": []
   },
   "outputs": [],
   "source": [
    "# Check to see if the Workflow is still active.\n",
    "batch_job.workflow_run_status"
   ]
  },
  {
   "cell_type": "code",
   "execution_count": null,
   "metadata": {
    "id": "fDAG5KmQeQ0m",
    "tags": []
   },
   "outputs": [],
   "source": [
    "df = batch_job.fetch_dataset(wait_for_completion=True)"
   ]
  },
  {
   "cell_type": "code",
   "execution_count": null,
   "metadata": {
    "id": "y4joRe9aJZCM",
    "tags": []
   },
   "outputs": [],
   "source": [
    "path = batch_job.download_evaluation_report(wait_for_completion=True)"
   ]
  }
 ],
 "metadata": {
  "colab": {
   "authorship_tag": "ABX9TyOULXxjB7a5FBgCdNl8vi0v",
   "include_colab_link": true,
   "provenance": []
  },
  "kernelspec": {
   "display_name": "Python 3 (ipykernel)",
   "language": "python",
   "name": "python3"
  },
  "language_info": {
   "codemirror_mode": {
    "name": "ipython",
    "version": 3
   },
   "file_extension": ".py",
   "mimetype": "text/x-python",
   "name": "python",
   "nbconvert_exporter": "python",
   "pygments_lexer": "ipython3",
   "version": "3.9.18"
  }
 },
 "nbformat": 4,
 "nbformat_minor": 4
}
