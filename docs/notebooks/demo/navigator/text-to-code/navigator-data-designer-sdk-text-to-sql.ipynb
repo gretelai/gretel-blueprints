{
 "cells": [
  {
   "cell_type": "markdown",
   "metadata": {
    "colab_type": "text",
    "id": "view-in-github"
   },
   "source": [
    "<a href=\"https://colab.research.google.com/github/gretelai/gretel-blueprints/blob/main/docs/notebooks/demo/navigator/navigator-data-designer-sdk-text-to-sql.ipynb\" target=\"_parent\"><img src=\"https://colab.research.google.com/assets/colab-badge.svg\" alt=\"Open In Colab\"/></a>"
   ]
  },
  {
   "cell_type": "markdown",
   "metadata": {},
   "source": [
    "# 🎨 Navigator Data Designer SDK: Text-to-SQL\n",
    "\n",
    "This notebook demonstrates how to use the Gretel Navigator SDK to create a synthetic data generation pipeline for SQL code examples. We'll build a system that generates SQL code based on natural language instructions, with varying complexity levels and industry focuses.\n"
   ]
  },
  {
   "cell_type": "code",
   "execution_count": null,
   "metadata": {
    "id": "mNoaC7dX28y0"
   },
   "outputs": [],
   "source": [
    "%%capture\n",
    "!pip install -U git+https://github.com/gretelai/gretel-python-client"
   ]
  },
  {
   "cell_type": "code",
   "execution_count": null,
   "metadata": {
    "id": "1k5NjjtzPQJi"
   },
   "outputs": [],
   "source": [
    "from gretel_client.navigator import DataDesigner"
   ]
  },
  {
   "cell_type": "markdown",
   "metadata": {},
   "source": [
    "## 📘 Setting Up the Data Designer\n",
    "\n",
    "First, we'll initialize the Data Designer with appropriate system instructions."
   ]
  },
  {
   "cell_type": "code",
   "execution_count": null,
   "metadata": {},
   "outputs": [],
   "source": [
    "data_designer = DataDesigner(\n",
    "    api_key=\"prompt\",\n",
    "    model_suite=\"apache-2.0\",  # Use apache-2.0 or llama-3.x based on your licensing needs\n",
    "    endpoint=\"https://api-dev.gretel.cloud\",\n",
    "    special_system_instructions=\"\"\"\\\n",
    "You are an expert at writing, analyzing and editing SQL queries. You know what\n",
    "a high-quality, clean, efficient, and maintainable SQL code looks like. You\n",
    "excel at transforming natural language into SQL, as well as SQL back into\n",
    "natural language. Your job is to assist the user with their SQL-related tasks.\n",
    "\"\"\"\n",
    ")"
   ]
  },
  {
   "cell_type": "markdown",
   "metadata": {},
   "source": [
    "## 🌱 Define Categorical Seed Columns\n",
    "\n",
    "We'll set up our seed columns for industry sectors, code complexity, and task and instruction types. These will help generate diverse and relevant code examples."
   ]
  },
  {
   "cell_type": "code",
   "execution_count": null,
   "metadata": {},
   "outputs": [],
   "source": [
    "data_designer.add_categorical_seed_column(\n",
    "    name=\"industry_sector\",\n",
    "    values=[\"Healthcare\", \"Finance\", \"Technology\"],\n",
    "    subcategories=[\n",
    "        {\n",
    "            \"name\": \"topic\",\n",
    "            \"values\": {\n",
    "                \"Healthcare\": [\n",
    "                    \"Electronic Health Records (EHR) Systems\", \n",
    "                    \"Telemedicine Platforms\", \n",
    "                    \"AI-Powered Diagnostic Tools\",\n",
    "                ],\n",
    "                \"Finance\": [\n",
    "                    \"Fraud Detection Software\", \n",
    "                    \"Automated Trading Systems\", \n",
    "                    \"Personal Finance Apps\",\n",
    "                ],\n",
    "                \"Technology\": [\n",
    "                    \"Cloud Computing Platforms\", \n",
    "                    \"Artificial Intelligence and Machine Learning Platforms\", \n",
    "                    \"DevOps and Continuous Integration/Continuous Deployment (CI/CD) Tools\",\n",
    "                ]\n",
    "            }\n",
    "        }\n",
    "        \n",
    "    ]\n",
    ")\n",
    "\n",
    "data_designer.add_categorical_seed_column(\n",
    "    name=\"sql_complexity\",\n",
    "    values=[\"Beginner\", \"Intermediate\", \"Advanced\"],\n",
    "    subcategories=[\n",
    "        {\n",
    "            \"name\": \"sql_concept\",\n",
    "            \"values\": {\n",
    "                \"Beginner\": [\n",
    "                    \"Basic SQL\", \n",
    "                    \"SELECT Statements\", \n",
    "                    \"WHERE Clauses\", \n",
    "                    \"Basic JOINs\", \n",
    "                    \"INSERT, UPDATE, DELETE\",\n",
    "                ],\n",
    "                \"Intermediate\": [\n",
    "                    \"Aggregation\", \n",
    "                    \"Single JOIN\", \n",
    "                    \"Subquery\", \n",
    "                    \"Views\", \n",
    "                    \"Stored Procedures\",\n",
    "                ],\n",
    "                \"Advanced\": [\n",
    "                    \"Multiple JOINs\", \n",
    "                    \"Window Functions\", \n",
    "                    \"Common Table Expressions (CTEs)\", \n",
    "                    \"Triggers\", \n",
    "                    \"Query Optimization\",\n",
    "                ]\n",
    "            }\n",
    "        },\n",
    "        {\n",
    "            \"name\": \"sql_complexity_description\",\n",
    "            \"description\": \"The complexity level of the given SQL complexity and SQL concept.\",\n",
    "            \"num_new_values_to_generate\": 1\n",
    "        }\n",
    "    ]\n",
    ")\n",
    "\n",
    "data_designer.add_categorical_seed_column(\n",
    "    name=\"sql_task_type\",\n",
    "    values=[\n",
    "        \"Data Retrieval\",\n",
    "        \"Data Definition\",\n",
    "        \"Data Manipulation\",\n",
    "        \"Analytics and Reporting\",\n",
    "        \"Database Administration\",\n",
    "        \"Data Cleaning and Transformation\",\n",
    "    ],\n",
    "    subcategories=[\n",
    "        {\n",
    "            \"name\": \"sql_task_type_description\",\n",
    "            \"description\": \"A brief description of the SQL task type.\",\n",
    "            \"num_new_values_to_generate\": 1\n",
    "        }\n",
    "    ]\n",
    ")\n",
    "\n",
    "data_designer.add_categorical_seed_column(\n",
    "    name=\"instruction_phrase\",\n",
    "    values=[\n",
    "        \"Construct an SQL query to\",\n",
    "        \"Formulate an SQL statement that\",\n",
    "        \"Implement an SQL view that\",\n",
    "    ]\n",
    ")\n"
   ]
  },
  {
   "cell_type": "markdown",
   "metadata": {},
   "source": [
    "## ✨ Define Generated Data Columns\n",
    "\n",
    "Now we'll set up the columns that will be generated by the LLMs, including the instruction and code implementation."
   ]
  },
  {
   "cell_type": "code",
   "execution_count": null,
   "metadata": {},
   "outputs": [],
   "source": [
    "data_designer.add_generated_data_column(\n",
    "    name=\"sql_prompt\",\n",
    "    generation_prompt=\"\"\"\\\n",
    "Generate a clear and specific natural language instruction for creating an SQL query tailored \n",
    "to the {industry_sector} sector, focusing on the {topic} topic and the {sql_task_type} task.\n",
    "Each instruction should begin with one of the following phrases: \"{instruction_phrase}\".\n",
    "\n",
    "Important Guidelines:\n",
    "* Industry Relevance: Ensure the instruction is directly related to the {industry_sector} sector and the {topic} topic.\n",
    "* Task Specificity: Clearly define the SQL task type ({sql_task_type}) to provide focused and actionable requirements.\n",
    "* Complexity Alignment: Align the instruction with the appropriate SQL complexity level by implicitly incorporating relevant SQL concepts.\n",
    "* Clarity and Precision: Craft the instruction to be unambiguous and straightforward, providing all necessary context without unnecessary verbosity.\n",
    "* Response Formatting: Exclude any markers or similar formatting cues in the instruction.\n",
    "\"\"\",\n",
    "    columns_to_list_in_prompt=[\"industry_sector\", \"topic\", \"sql_task_type\", \"instruction_phrase\"]\n",
    ")\n",
    "\n",
    "\n",
    "data_designer.add_generated_data_column(\n",
    "    name=\"sql_context\",\n",
    "    generation_prompt=\"\"\"\\\n",
    "Generate a set of database tables and views that are pertinent to the SQL instruction in {sql_prompt} and the \n",
    "task type {sql_task_type} within the {industry_sector} sector and {topic} topic.\n",
    "\n",
    "Important Guidelines:\n",
    "* Relevance: Ensure that all generated tables and views are directly related to the {industry_sector} sector and the {topic} topic.\n",
    "* Completeness: Include all essential columns with appropriate data types, primary/foreign keys, and necessary constraints.\n",
    "* Realism: Design realistic and practical table schemas that reflect typical structures used in the specified industry sector.\n",
    "* Executable SQL: Provide complete and executable statements. Ensure that there are no syntax errors and that the statements can be run without modification.\n",
    "* Consistency: Maintain consistent naming conventions for tables and columns, adhering to best practices (e.g., snake_case for table and column names).\n",
    "* Response Formatting: Exclude any markers or similar formatting cues in the instruction.\n",
    "\"\"\",\n",
    "    llm_type=\"code\",\n",
    "    data_config={\"type\": \"code\", \"params\": {\"syntax\": \"sql\"}},\n",
    "    columns_to_list_in_prompt=[\"industry_sector\", \"topic\", \"sql_prompt\", \"sql_task_type\"], \n",
    ")\n",
    "\n",
    "\n",
    "data_designer.add_generated_data_column(\n",
    "    name=\"sql\",\n",
    "    generation_prompt=\"\"\"\\\n",
    "Write an SQL query to answer/execute the following instruction and sql context.\n",
    "Instruction: {sql_prompt}\\n\n",
    "DB Context: {sql_context}\\n\n",
    "\n",
    "Important Guidelines:\n",
    "* SQL Quality: Write self-contained and modular SQL code.\n",
    "* SQL Validity: Please ensure that your SQL code is executable and does not contain any errors.\n",
    "* Context: Base the SQL query on the provided database context. Ensure that all referenced tables, views, and columns exist within this context.\n",
    "* Complexity & Concepts: The SQL should be written at a {sql_complexity} level and relate to {sql_concept}.\n",
    "\"\"\",\n",
    "    llm_type=\"code\",\n",
    "    data_config={\"type\": \"code\", \"params\": {\"syntax\": \"sql\"}},\n",
    "    columns_to_list_in_prompt=[\"sql_prompt\", \"sql_context\", \"sql_complexity\"],\n",
    ")"
   ]
  },
  {
   "cell_type": "markdown",
   "metadata": {},
   "source": [
    "## 🔍 Add Validation and Evaluation\n",
    "\n",
    "Let's add post-processing steps to validate the generated code and evaluate the text-to-SQL conversion."
   ]
  },
  {
   "cell_type": "code",
   "execution_count": null,
   "metadata": {},
   "outputs": [],
   "source": [
    "data_designer.add_validator(\n",
    "    validator=\"code\",\n",
    "    code_lang=\"ansi\",\n",
    "    code_columns=[\"sql_context\", \"sql\"]\n",
    "    \n",
    ")\n",
    "\n",
    "data_designer.add_evaluator(\n",
    "    eval_type=\"text_to_sql\",\n",
    "    instruction_column_name=\"sql_prompt\",\n",
    "    context_column_name=\"sql_context\",\n",
    "    response_column_name=\"sql\"   \n",
    ")"
   ]
  },
  {
   "cell_type": "code",
   "execution_count": null,
   "metadata": {
    "id": "ApZ7xb8dPOO0"
   },
   "outputs": [],
   "source": [
    "data_designer"
   ]
  },
  {
   "cell_type": "markdown",
   "metadata": {},
   "source": [
    "## 👀 Generate Preview Dataset\n",
    "\n",
    "Let's generate a preview to see some data."
   ]
  },
  {
   "cell_type": "code",
   "execution_count": null,
   "metadata": {
    "id": "Ef8Ws90cPbIu"
   },
   "outputs": [],
   "source": [
    "preview = data_designer.generate_dataset_preview()"
   ]
  },
  {
   "cell_type": "code",
   "execution_count": null,
   "metadata": {},
   "outputs": [],
   "source": [
    "# The preview dataset is available as a pandas DataFrame.\n",
    "preview.dataset.head()"
   ]
  },
  {
   "cell_type": "markdown",
   "metadata": {
    "id": "CjYiKmcWd_2t"
   },
   "source": [
    "## 🔎 Easily inspect individual records\n",
    "\n",
    "- Run the cell below to display individual records for inspection.\n",
    "\n",
    "- Run the cell multiple times to cycle through the 10 preview records.\n",
    "\n",
    "- Alternatively, you can pass the `index` argument to `display_sample_record` to display a specific record."
   ]
  },
  {
   "cell_type": "code",
   "execution_count": null,
   "metadata": {
    "id": "nSMFirnBMXtb"
   },
   "outputs": [],
   "source": [
    "preview.display_sample_record()"
   ]
  },
  {
   "cell_type": "markdown",
   "metadata": {
    "id": "eMjFAR0Yenrk"
   },
   "source": [
    "## 🚀 Generate Full Dataset\n",
    "\n",
    "If you're satisfied with the preview, you can generate a larger dataset using a batch workflow."
   ]
  },
  {
   "cell_type": "code",
   "execution_count": null,
   "metadata": {
    "id": "VziAxDPtQEes"
   },
   "outputs": [],
   "source": [
    "# Submit batch job\n",
    "batch_job = data_designer.submit_batch_workflow(num_records=100)\n",
    "df = batch_job.fetch_dataset(wait_for_completion=True)\n",
    "\n",
    "# Download evaluation report\n",
    "path = batch_job.download_evaluation_report(wait_for_completion=True)"
   ]
  }
 ],
 "metadata": {
  "colab": {
   "include_colab_link": true,
   "provenance": []
  },
  "kernelspec": {
   "display_name": ".venv",
   "language": "python",
   "name": "python3"
  },
  "language_info": {
   "codemirror_mode": {
    "name": "ipython",
    "version": 3
   },
   "file_extension": ".py",
   "mimetype": "text/x-python",
   "name": "python",
   "nbconvert_exporter": "python",
   "pygments_lexer": "ipython3",
   "version": "3.11.11"
  }
 },
 "nbformat": 4,
 "nbformat_minor": 0
}
