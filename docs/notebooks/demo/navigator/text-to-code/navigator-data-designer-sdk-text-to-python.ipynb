{
 "cells": [
  {
   "cell_type": "markdown",
   "metadata": {},
   "source": [
    "<a target=\"_parent\" href=\"https://colab.research.google.com/github/gretelai/gretel-blueprints/blob/main/docs/notebooks/demo/navigator/text-to-code/navigator-data-designer-sdk-text-to-python.ipynb\">\n",
    "  <img src=\"https://colab.research.google.com/assets/colab-badge.svg\" alt=\"Open In Colab\"/>\n",
    "</a>"
   ]
  },
  {
   "cell_type": "markdown",
   "metadata": {},
   "source": [
    "# 🎨 Navigator Data Designer SDK: Text-to-Python\n",
    "\n",
    "This notebook demonstrates how to use the Gretel Navigator SDK to create a synthetic data generation pipeline for Python code examples. We'll build a system that generates Python code based on natural language instructions, with varying complexity levels and industry focuses."
   ]
  },
  {
   "cell_type": "code",
   "execution_count": null,
   "metadata": {},
   "outputs": [],
   "source": [
    "%%capture\n",
    "%pip install -U gretel_client "
   ]
  },
  {
   "cell_type": "code",
   "execution_count": null,
   "metadata": {},
   "outputs": [],
   "source": [
    "from gretel_client.navigator import DataDesigner"
   ]
  },
  {
   "cell_type": "markdown",
   "metadata": {},
   "source": [
    "## 📘 Setting Up the Data Designer\n",
    "\n",
    "First, we'll initialize the Data Designer with appropriate system instructions."
   ]
  },
  {
   "cell_type": "code",
   "execution_count": null,
   "metadata": {},
   "outputs": [],
   "source": [
    "# Initialize the Data Designer\n",
    "data_designer = DataDesigner(\n",
    "    api_key=\"prompt\", \n",
    "    model_suite=\"apache-2.0\",  # Use apache-2.0 or llama-3.x based on your licensing needs\n",
    "    endpoint=\"https://api.gretel.cloud\",\n",
    "    special_system_instructions=\"\"\"\\\n",
    "You are an expert at writing, analyzing, and editing Python code. You know what\n",
    "high-quality, clean, efficient, and maintainable Python code looks like. You\n",
    "excel at transforming natural language into Python, as well as Python back into\n",
    "natural language. Your job is to assist the user with their Python-related tasks.\n",
    "\"\"\"\n",
    ") "
   ]
  },
  {
   "cell_type": "markdown",
   "metadata": {},
   "source": [
    "## 🌱 Define Categorical Seed Columns\n",
    "\n",
    "We'll set up our seed columns for industry sectors, code complexity, and instruction types. These will help generate diverse and relevant code examples."
   ]
  },
  {
   "cell_type": "code",
   "execution_count": null,
   "metadata": {},
   "outputs": [],
   "source": [
    "# Add industry sector categories\n",
    "data_designer.add_categorical_seed_column(\n",
    "    name=\"industry_sector\",\n",
    "    description=\"The industry sector for the code example\",\n",
    "    values=[\"Healthcare\", \"Finance\", \"Technology\"],\n",
    "    subcategories=[\n",
    "        {\n",
    "            \"name\": \"topic\",\n",
    "            \"values\": {\n",
    "                \"Healthcare\": [\n",
    "                    \"Electronic Health Records (EHR) Systems\",\n",
    "                    \"Telemedicine Platforms\", \n",
    "                    \"AI-Powered Diagnostic Tools\"\n",
    "                ],\n",
    "                \"Finance\": [\n",
    "                    \"Fraud Detection Software\",\n",
    "                    \"Automated Trading Systems\",\n",
    "                    \"Personal Finance Apps\"\n",
    "                ],\n",
    "                \"Technology\": [\n",
    "                    \"Cloud Computing Platforms\",\n",
    "                    \"Artificial Intelligence and Machine Learning Platforms\",\n",
    "                    \"DevOps and CI/CD Tools\"\n",
    "                ]\n",
    "            }\n",
    "        }\n",
    "    ]\n",
    ")\n",
    "\n",
    "# Add code complexity and concepts\n",
    "data_designer.add_categorical_seed_column(\n",
    "    name=\"code_complexity\",\n",
    "    description=\"The complexity level of the code\",\n",
    "    values=[\"Beginner\", \"Intermediate\", \"Advanced\"],\n",
    "    subcategories=[\n",
    "        {\n",
    "            \"name\": \"code_concept\",\n",
    "            \"values\": {\n",
    "                \"Beginner\": [\n",
    "                    \"Variables\",\n",
    "                    \"Data Types\",\n",
    "                    \"Functions\",\n",
    "                    \"Loops\",\n",
    "                    \"Classes\"\n",
    "                ],\n",
    "                \"Intermediate\": [\n",
    "                    \"List Comprehensions\",\n",
    "                    \"Object-oriented programming\",\n",
    "                    \"Lambda Functions\",\n",
    "                    \"Web frameworks\",\n",
    "                    \"Pandas\"\n",
    "                ],\n",
    "                \"Advanced\": [\n",
    "                    \"Multithreading\",\n",
    "                    \"Context Managers\",\n",
    "                    \"Generators\"\n",
    "                ]\n",
    "            }\n",
    "        }\n",
    "    ]\n",
    ")\n",
    "\n",
    "# Add instruction phrases\n",
    "data_designer.add_categorical_seed_column(\n",
    "    name=\"instruction_phrase\",\n",
    "    description=\"Starting phrase for the code instruction\",\n",
    "    values=[\n",
    "        \"Write a function that\",\n",
    "        \"Create a class that\",\n",
    "        \"Implement a script\",\n",
    "        \"Can you create a function\",\n",
    "        \"Develop a module that\"\n",
    "    ]\n",
    ")"
   ]
  },
  {
   "cell_type": "markdown",
   "metadata": {},
   "source": [
    "## ✨ Define Generated Data Columns\n",
    "\n",
    "Now we'll set up the columns that will be generated by the LLMs, including the instruction and code implementation."
   ]
  },
  {
   "cell_type": "code",
   "execution_count": null,
   "metadata": {},
   "outputs": [],
   "source": [
    "# Generate instruction for the code\n",
    "data_designer.add_generated_data_column(\n",
    "    name=\"instruction\",\n",
    "    generation_prompt=\"\"\"\\\n",
    "Generate an instruction to create Python code that solves a specific problem. \n",
    "Each instruction should begin with one of the following phrases: {instruction_phrase}.\n",
    "\n",
    "Important Guidelines:\n",
    "* Industry Relevance: Ensure the instruction pertains to the {industry_sector} sector and {topic} topic.\n",
    "* Code Complexity: Tailor the instruction to the {code_complexity} level. Utilize relevant {code_concept} where appropriate to match the complexity level.\n",
    "* Clarity and Specificity: Make the problem statement clear and unambiguous. Provide sufficient context to understand the requirements without being overly verbose.\n",
    "* Response Formatting: Do not include any markers such as ### Response ### in the instruction.\n",
    "\"\"\"\n",
    ")\n",
    "\n",
    "# Generate the Python code\n",
    "data_designer.add_generated_data_column(\n",
    "    name=\"code_implementation\",\n",
    "    llm_type=\"code\",\n",
    "    data_config={\"type\": \"code\", \"params\": {\"syntax\": \"python\"}},\n",
    "    generation_prompt=\"\"\"\\\n",
    "Write Python code for the following instruction:\n",
    "Instruction: {instruction}\n",
    "\n",
    "Important Guidelines:\n",
    "* Code Quality: Your code should be clean, complete, self-contained and accurate.\n",
    "* Code Validity: Please ensure that your python code is executable and does not contain any errors.\n",
    "* Packages: Remember to import any necessary libraries, and to use all libraries you import.\n",
    "* Complexity & Concepts: The code should be written at a {code_complexity} level, making use of concepts such as {code_concept}.\n",
    "\"\"\"\n",
    ")"
   ]
  },
  {
   "cell_type": "markdown",
   "metadata": {},
   "source": [
    "## 🔍 Add Validation and Evaluation\n",
    "\n",
    "Let's add post-processing steps to validate the generated code and evaluate the text-to-Python conversion."
   ]
  },
  {
   "cell_type": "code",
   "execution_count": null,
   "metadata": {},
   "outputs": [],
   "source": [
    "data_designer.add_validator(\n",
    "    validator=\"code\",\n",
    "    code_lang=\"python\",\n",
    "    code_columns=[\"code_implementation\"]\n",
    ")\n",
    "\n",
    "data_designer.add_evaluator(\n",
    "    eval_type=\"text_to_python\",  \n",
    "    instruction_column_name=\"instruction\",    \n",
    "    response_column_name=\"code_implementation\"\n",
    ")"
   ]
  },
  {
   "cell_type": "markdown",
   "metadata": {},
   "source": [
    "## 👀 Generate Preview Dataset\n",
    "\n",
    "Let's generate a preview to see some data."
   ]
  },
  {
   "cell_type": "code",
   "execution_count": null,
   "metadata": {},
   "outputs": [],
   "source": [
    "preview = data_designer.generate_dataset_preview()"
   ]
  },
  {
   "cell_type": "markdown",
   "metadata": {},
   "source": [
    "## 🔎 Easily inspect individual records\n",
    "\n",
    "- Run the cell below to display individual records for inspection.\n",
    "\n",
    "- Run the cell multiple times to cycle through the 10 preview records.\n",
    "\n",
    "- Alternatively, you can pass the `index` argument to `display_sample_record` to display a specific record."
   ]
  },
  {
   "cell_type": "code",
   "execution_count": null,
   "metadata": {},
   "outputs": [],
   "source": [
    "preview.display_sample_record()"
   ]
  },
  {
   "cell_type": "markdown",
   "metadata": {},
   "source": [
    "## 🚀 Generate Full Dataset\n",
    "\n",
    "If you're satisfied with the preview, you can generate a larger dataset using a batch workflow."
   ]
  },
  {
   "cell_type": "code",
   "execution_count": null,
   "metadata": {},
   "outputs": [],
   "source": [
    "# Submit batch job\n",
    "batch_job = data_designer.submit_batch_workflow(num_records=100)\n",
    "df = batch_job.fetch_dataset(wait_for_completion=True)\n",
    "print(\"\\nGenerated dataset shape:\", df.shape)\n",
    "\n",
    "# Download evaluation report\n",
    "path = batch_job.download_evaluation_report(wait_for_completion=True)"
   ]
  }
 ],
 "metadata": {
  "kernelspec": {
   "display_name": ".venv",
   "language": "python",
   "name": "python3"
  },
  "language_info": {
   "codemirror_mode": {
    "name": "ipython",
    "version": 3
   },
   "file_extension": ".py",
   "mimetype": "text/x-python",
   "name": "python",
   "nbconvert_exporter": "python",
   "pygments_lexer": "ipython3",
   "version": "3.11.11"
  }
 },
 "nbformat": 4,
 "nbformat_minor": 4
}
