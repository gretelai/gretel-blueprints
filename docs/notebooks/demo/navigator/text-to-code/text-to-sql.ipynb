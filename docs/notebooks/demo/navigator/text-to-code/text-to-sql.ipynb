{
    "cells": [
        {
            "cell_type": "markdown",
            "metadata": {},
            "source": [
                "<a target=\"_parent\" href=\"https://colab.research.google.com/github/gretelai/gretel-blueprints/blob/main/docs/notebooks/demo/navigator/text-to-code/text-to-sql.ipynb\">\n",
                "  <img src=\"https://colab.research.google.com/assets/colab-badge.svg\" alt=\"Open In Colab\"/>\n",
                "</a>"
            ]
        },
        {
            "cell_type": "markdown",
            "metadata": {},
            "source": [
                "# 🎨 Navigator Data Designer SDK: Text-to-SQL\n",
                "\n",
                "This notebook demonstrates how to use the Gretel Navigator SDK to create a synthetic data generation pipeline for SQL code examples. We'll build a system that generates SQL code based on natural language instructions, with varying complexity levels and industry focuses.\n",
                "\n",
                "In this notebook, we'll demonstrate how to add columns using a short-hand syntax where you do not need to use concrete Python Types. "
            ]
        },
        {
            "cell_type": "code",
            "execution_count": null,
            "metadata": {},
            "outputs": [],
            "source": [
                "%%capture\n",
                "# Install the latest version of Gretel client and dependencies\n",
                "%pip install -U gretel_client "
            ]
        },
        {
            "cell_type": "code",
            "execution_count": null,
            "metadata": {},
            "outputs": [],
            "source": [
                "from gretel_client.navigator_client import Gretel"
            ]
        },
        {
            "cell_type": "markdown",
            "metadata": {},
            "source": [
                "## 📘 Setting Up the Data Designer\n",
                "\n",
                "First, we'll initialize the Data Designer with appropriate system instructions."
            ]
        },
        {
            "cell_type": "code",
            "execution_count": null,
            "metadata": {},
            "outputs": [],
            "source": [
                "# Initialize Gretel client and Data Designer\n",
                "gretel = Gretel(api_key=\"prompt\", endpoint=\"https://api.dev.gretel.ai\")\n",
                "aidd = gretel.data_designer.new(\n",
                "    model_suite=\"apache-2.0\"  # Use apache-2.0 or llama-3.x based on your licensing needs\n",
                ")"
            ]
        },
        {
            "cell_type": "markdown",
            "metadata": {},
            "source": [
                "## 🌱 Define Categorical Seed Columns\n",
                "\n",
                "We'll set up our seed columns for industry sectors, code complexity, and instruction types. These will help generate diverse and relevant SQL examples."
            ]
        },
        {
            "cell_type": "code",
            "execution_count": null,
            "metadata": {},
            "outputs": [],
            "source": [
                "# Add industry sector categories\n",
                "aidd.add_column(\n",
                "    name=\"industry_sector\",\n",
                "    type=\"category\",\n",
                "    params={\n",
                "        \"values\": [\"Healthcare\", \"Finance\", \"Technology\"],\n",
                "        \"description\": \"The industry sector for the SQL example\"\n",
                "    }\n",
                ")\n",
                "\n",
                "# Add topic as a subcategory of industry_sector\n",
                "aidd.add_column(\n",
                "    name=\"topic\",\n",
                "    type=\"subcategory\",\n",
                "    params={\n",
                "        \"category\": \"industry_sector\",\n",
                "        \"values\": {\n",
                "            \"Healthcare\": [\n",
                "                \"Electronic Health Records (EHR) Systems\",\n",
                "                \"Telemedicine Platforms\", \n",
                "                \"AI-Powered Diagnostic Tools\"\n",
                "            ],\n",
                "            \"Finance\": [\n",
                "                \"Fraud Detection Software\",\n",
                "                \"Automated Trading Systems\",\n",
                "                \"Personal Finance Apps\"\n",
                "            ],\n",
                "            \"Technology\": [\n",
                "                \"Cloud Computing Platforms\",\n",
                "                \"Artificial Intelligence and Machine Learning Platforms\",\n",
                "                \"DevOps and CI/CD Tools\"\n",
                "            ]\n",
                "        }\n",
                "    }\n",
                ")\n",
                "\n",
                "# Add SQL complexity with subcategory for SQL concepts\n",
                "aidd.add_column(\n",
                "    name=\"sql_complexity\",\n",
                "    type=\"category\",\n",
                "    params={\n",
                "        \"values\": [\"Beginner\", \"Intermediate\", \"Advanced\"],\n",
                "        \"description\": \"The complexity level of the SQL code\"\n",
                "    }\n",
                ")\n",
                "\n",
                "# Add SQL concept as a subcategory of sql_complexity\n",
                "aidd.add_column(\n",
                "    name=\"sql_concept\",\n",
                "    type=\"subcategory\",\n",
                "    params={\n",
                "        \"category\": \"sql_complexity\",\n",
                "        \"values\": {\n",
                "            \"Beginner\": [\n",
                "                \"Basic SELECT Statements\",\n",
                "                \"WHERE Clauses\",\n",
                "                \"Basic JOINs\",\n",
                "                \"INSERT, UPDATE, DELETE\"\n",
                "            ],\n",
                "            \"Intermediate\": [\n",
                "                \"Aggregation Functions\",\n",
                "                \"Multiple JOINs\",\n",
                "                \"Subqueries\",\n",
                "                \"Views\"\n",
                "            ],\n",
                "            \"Advanced\": [\n",
                "                \"Window Functions\",\n",
                "                \"Common Table Expressions (CTEs)\",\n",
                "                \"Stored Procedures\",\n",
                "                \"Query Optimization\"\n",
                "            ]\n",
                "        }\n",
                "    }\n",
                ")\n",
                "\n",
                "# Add SQL task types\n",
                "aidd.add_column(\n",
                "    name=\"sql_task_type\",\n",
                "    type=\"category\",\n",
                "    params={\n",
                "        \"values\": [\n",
                "            \"Data Retrieval\",\n",
                "            \"Data Manipulation\",\n",
                "            \"Analytics and Reporting\",\n",
                "            \"Data Transformation\"\n",
                "        ],\n",
                "        \"description\": \"The type of SQL task being performed\"\n",
                "    }\n",
                ")\n",
                "\n",
                "# Add instruction phrases\n",
                "aidd.add_column(\n",
                "    name=\"instruction_phrase\",\n",
                "    type=\"category\",\n",
                "    params={\n",
                "        \"values\": [\n",
                "            \"Write an SQL query that\",\n",
                "            \"Create an SQL statement to\",\n",
                "            \"Develop an SQL query to\",\n",
                "            \"Can you write SQL that\",\n",
                "            \"Formulate an SQL query that\"\n",
                "        ],\n",
                "        \"description\": \"Starting phrase for the SQL instruction\"\n",
                "    }\n",
                ")"
            ]
        },
        {
            "cell_type": "markdown",
            "metadata": {},
            "source": [
                "## ✨ Define Generated Data Columns\n",
                "\n",
                "Now we'll set up the columns that will be generated by the LLMs, including the instruction, database context, and SQL implementation."
            ]
        },
        {
            "cell_type": "code",
            "execution_count": null,
            "metadata": {},
            "outputs": [],
            "source": [
                "from gretel_client.data_designer import params as P\n",
                "# Generate instruction for the SQL query\n",
                "aidd.add_column(\n",
                "    name=\"sql_prompt\",\n",
                "    type=\"llm-text\",\n",
                "    system_prompt=\"You are an expert at generating clear and specific SQL tasks.\",\n",
                "    prompt=\"\"\"\\\n",
                "Generate an instruction to create SQL code that solves a specific problem. \n",
                "Each instruction should begin with one of the following phrases: {{instruction_phrase}}.\n",
                "\n",
                "Important Guidelines:\n",
                "* Industry Relevance: Ensure the instruction pertains to the {{industry_sector}} sector and {{topic}} topic.\n",
                "* SQL Complexity: Tailor the instruction to the {{sql_complexity}} level. Utilize relevant {{sql_concept}} where appropriate to match the complexity level.\n",
                "* Task Type: The instruction should involve a {{sql_task_type}} task.\n",
                "* Clarity and Specificity: Make the problem statement clear and unambiguous. Provide sufficient context to understand the requirements without being overly verbose.\n",
                "* Response Formatting: Do not include any markers such as ### Response ### in the instruction.\n",
                "\"\"\"\n",
                ")\n",
                "\n",
                "# Generate database context\n",
                "aidd.add_column(\n",
                "    name=\"sql_context\",\n",
                "    type=\"llm-code\",\n",
                "    output_format=P.CodeLang.SQL_ANSI, # Specify CodeLang.SQL_ANSI to ensure the code is structured as valid SQL\n",
                "    system_prompt=\"You are an expert SQL database designer who creates clean, efficient, and well-structured database schemas.\",\n",
                "    prompt=\"\"\"\\\n",
                "Generate the SQL for creating database tables that would be relevant for the following instruction:\n",
                "Instruction: {{sql_prompt}}\n",
                "\n",
                "Important Guidelines:\n",
                "* Relevance: Ensure all tables are directly related to the {{industry_sector}} sector and {{topic}} topic.\n",
                "* Completeness: Include all essential columns with appropriate data types, primary/foreign keys, and necessary constraints.\n",
                "* Realism: Use realistic table structures typical for the specified industry.\n",
                "* Executable SQL: Provide complete CREATE TABLE statements that can be run without modification.\n",
                "* Consistency: Use consistent naming conventions (e.g., snake_case for table and column names).\n",
                "* Sample Data: Include INSERT statements with sample data that makes sense for the tables (at least 5-10 rows per table).\n",
                "\"\"\"\n",
                ")\n",
                "\n",
                "# Generate the SQL code\n",
                "aidd.add_column(\n",
                "    name=\"sql\",\n",
                "    type=\"llm-code\",\n",
                "    output_format=P.CodeLang.SQL_ANSI, # Specify CodeLang.SQL_ANSI to ensure the code is structured as valid SQL\n",
                "    system_prompt=\"You are an expert SQL programmer who writes clean, efficient, and well-structured queries.\",\n",
                "    prompt=\"\"\"\\\n",
                "Write SQL code for the following instruction based on the provided database context:\n",
                "Instruction: {{sql_prompt}}\n",
                "\n",
                "Database Context:\n",
                "{{sql_context}}\n",
                "\n",
                "Important Guidelines:\n",
                "* Code Quality: Your SQL should be clean, complete, self-contained and accurate.\n",
                "* Code Validity: Please ensure that your SQL code is executable and does not contain any errors.\n",
                "* Context: Base your query on the provided database context. Only reference tables and columns that exist in the context.\n",
                "* Complexity & Concepts: The SQL should be written at a {{sql_complexity}} level, making use of concepts such as {{sql_concept}}.\n",
                "* Task Type: Ensure your solution implements the appropriate {{sql_task_type}} operation.\n",
                "* Comments: Include brief comments explaining the key parts of your query.\n",
                "\"\"\"\n",
                ")"
            ]
        },
        {
            "cell_type": "markdown",
            "metadata": {},
            "source": [
                "## 🔍 Add Validation and Evaluation\n",
                "\n",
                "Let's add post-processing steps to validate the generated code and evaluate the text-to-SQL conversion."
            ]
        },
        {
            "cell_type": "code",
            "execution_count": null,
            "metadata": {},
            "outputs": [],
            "source": [
                "# Add validators and evaluators\n",
                "from gretel_client.data_designer.judge_rubrics import TEXT_TO_SQL_LLM_JUDGE_PROMPT_TEMPLATE, SQL_RUBRICS\n",
                "\n",
                "aidd.add_column(name=\"sql_validity_result\", type=\"code-validation\", code_lang=P.CodeLang.SQL_ANSI, target_column=\"sql\")\n",
                "aidd.add_column(name=\"sql_judge_result\", type=\"llm-judge\", prompt=TEXT_TO_SQL_LLM_JUDGE_PROMPT_TEMPLATE, rubrics=SQL_RUBRICS)"
            ]
        },
        {
            "cell_type": "markdown",
            "metadata": {},
            "source": [
                "## 👀 Generate Preview Dataset\n",
                "\n",
                "Let's generate a preview to see some data."
            ]
        },
        {
            "cell_type": "code",
            "execution_count": null,
            "metadata": {},
            "outputs": [],
            "source": [
                "aidd.with_evaluation_report()"
            ]
        },
        {
            "cell_type": "code",
            "execution_count": null,
            "metadata": {},
            "outputs": [],
            "source": [
                "# Generate a preview\n",
                "preview = aidd.preview()"
            ]
        },
        {
            "cell_type": "markdown",
            "metadata": {},
            "source": [
                "## 🔎 Easily inspect individual records\n",
                "\n",
                "- Run the cell below to display individual records for inspection.\n",
                "\n",
                "- Run the cell multiple times to cycle through the 10 preview records.\n",
                "\n",
                "- Alternatively, you can pass the `index` argument to `display_sample_record` to display a specific record."
            ]
        },
        {
            "cell_type": "code",
            "execution_count": null,
            "metadata": {},
            "outputs": [],
            "source": [
                "preview.display_sample_record()"
            ]
        },
        {
            "cell_type": "markdown",
            "metadata": {},
            "source": [
                "## 🚀 Generate Full Dataset\n",
                "\n",
                "If you're satisfied with the preview, you can generate a larger dataset using a batch workflow."
            ]
        },
        {
            "cell_type": "code",
            "execution_count": null,
            "metadata": {},
            "outputs": [],
            "source": [
                "# Submit batch job\n",
                "workflow_run = aidd.create(\n",
                "    num_records=100,\n",
                "    name=\"text_to_sql_examples\"\n",
                ")\n",
                "\n",
                "workflow_run.wait_until_done()\n",
                "\n",
                "print(\"\\nGenerated dataset shape:\", workflow_run.dataset.df.shape)\n",
                "\n",
                "# Download evaluation report\n",
                "workflow_run.report.download(\"report.html\", format=\"html\")"
            ]
        }
    ],
    "metadata": {
        "kernelspec": {
            "display_name": "base_env",
            "language": "python",
            "name": "python3"
        },
        "language_info": {
            "codemirror_mode": {
                "name": "ipython",
                "version": 3
            },
            "file_extension": ".py",
            "mimetype": "text/x-python",
            "name": "python",
            "nbconvert_exporter": "python",
            "pygments_lexer": "ipython3",
            "version": "3.12.9"
        }
    },
    "nbformat": 4,
    "nbformat_minor": 5
}
