{
 "cells": [
  {
   "cell_type": "markdown",
   "metadata": {},
   "source": [
    "<a target=\"_parent\" href=\"https://colab.research.google.com/github/gretelai/gretel-blueprints/blob/main/docs/notebooks/demo/navigator/text-to-code/text-to-python-evol.ipynb\">\n",
    "  <img src=\"https://colab.research.google.com/assets/colab-badge.svg\" alt=\"Open In Colab\"/>\n",
    "</a>"
   ]
  },
  {
   "cell_type": "markdown",
   "metadata": {},
   "source": [
    "# 🎨 Navigator Data Designer SDK: Text-to-Python Evolution\n",
    "\n",
    "This notebook demonstrates how to use the Gretel Navigator SDK to create a synthetic data generation pipeline for Python code examples, with a focus on evolutionary improvements. We'll build a system that generates Python code based on natural language instructions, validates it, analyzes issues, and then improves the code based on feedback."
   ]
  },
  {
   "cell_type": "code",
   "execution_count": 1,
   "metadata": {},
   "outputs": [],
   "source": [
    "%%capture\n",
    "# Install the latest version of Gretel client and dependencies\n",
    "%pip install -U gretel_client "
   ]
  },
  {
   "cell_type": "code",
   "execution_count": null,
   "metadata": {},
   "outputs": [],
   "source": [
    "from gretel_client.navigator_client import Gretel\n",
    "\n",
    "# Initialize Gretel client and Data Designer\n",
    "gretel = Gretel(api_key=\"prompt\", endpoint=\"https://api.dev.gretel.ai\")\n",
    "aidd = gretel.data_designer.new(model_suite=\"apache-2.0\")"
   ]
  },
  {
   "cell_type": "markdown",
   "metadata": {},
   "source": [
    "## 🌱 Define Categorical Seed Columns\n",
    "\n",
    "We'll set up our seed columns for industry sectors, code complexity, and instruction types. These will help generate diverse and relevant code examples."
   ]
  },
  {
   "cell_type": "code",
   "execution_count": null,
   "metadata": {},
   "outputs": [],
   "source": [
    "# Add industry sector categories\n",
    "aidd.add_column(\n",
    "    name=\"industry_sector\",\n",
    "    type=\"category\",\n",
    "    params={\n",
    "        \"values\": [\"Healthcare\", \"Finance\", \"Technology\"],\n",
    "        \"description\": \"The industry sector for the code example\"\n",
    "    }\n",
    ")\n",
    "\n",
    "# Add topic as a subcategory of industry_sector\n",
    "aidd.add_column(\n",
    "    name=\"topic\",\n",
    "    type=\"subcategory\",\n",
    "    params={\n",
    "        \"category\": \"industry_sector\",\n",
    "        \"values\": {\n",
    "            \"Healthcare\": [\n",
    "                \"Electronic Health Records (EHR) Systems\",\n",
    "                \"Telemedicine Platforms\", \n",
    "                \"AI-Powered Diagnostic Tools\"\n",
    "            ],\n",
    "            \"Finance\": [\n",
    "                \"Fraud Detection Software\",\n",
    "                \"Automated Trading Systems\",\n",
    "                \"Personal Finance Apps\"\n",
    "            ],\n",
    "            \"Technology\": [\n",
    "                \"Cloud Computing Platforms\",\n",
    "                \"Artificial Intelligence and Machine Learning Platforms\",\n",
    "                \"DevOps and CI/CD Tools\"\n",
    "            ]\n",
    "        }\n",
    "    }\n",
    ")\n",
    "\n",
    "# Add code complexity with subcategory for code concepts\n",
    "aidd.add_column(\n",
    "    name=\"code_complexity\",\n",
    "    type=\"category\",\n",
    "    params={\n",
    "        \"values\": [\"Beginner\", \"Intermediate\", \"Advanced\"],\n",
    "        \"description\": \"The complexity level of the code\"\n",
    "    }\n",
    ")\n",
    "\n",
    "# Add code_concept as a subcategory of code_complexity\n",
    "aidd.add_column(\n",
    "    name=\"code_concept\",\n",
    "    type=\"subcategory\",\n",
    "    params={\n",
    "        \"category\": \"code_complexity\",\n",
    "        \"values\": {\n",
    "            \"Beginner\": [\n",
    "                \"Variables\",\n",
    "                \"Data Types\",\n",
    "                \"Functions\",\n",
    "                \"Loops\",\n",
    "                \"Classes\"\n",
    "            ],\n",
    "            \"Intermediate\": [\n",
    "                \"List Comprehensions\",\n",
    "                \"Object-oriented programming\",\n",
    "                \"Lambda Functions\",\n",
    "                \"Web frameworks\",\n",
    "                \"Pandas\"\n",
    "            ],\n",
    "            \"Advanced\": [\n",
    "                \"Multithreading\",\n",
    "                \"Context Managers\",\n",
    "                \"Generators\"\n",
    "            ]\n",
    "        }\n",
    "    }\n",
    ")\n",
    "\n",
    "# Add instruction phrases\n",
    "aidd.add_column(\n",
    "    name=\"instruction_phrase\",\n",
    "    type=\"category\",\n",
    "    params={\n",
    "        \"values\": [\n",
    "            \"Write a function that\",\n",
    "            \"Create a class that\",\n",
    "            \"Implement a script\",\n",
    "            \"Can you create a function\",\n",
    "            \"Develop a module that\"\n",
    "        ],\n",
    "        \"description\": \"Starting phrase for the code instruction\"\n",
    "    }\n",
    ")"
   ]
  },
  {
   "cell_type": "markdown",
   "metadata": {},
   "source": [
    "## ✨ Define Initial Code Generation\n",
    "\n",
    "First, we'll set up the columns for generating the instruction and initial code implementation using the same approach as in the text-to-python notebook."
   ]
  },
  {
   "cell_type": "code",
   "execution_count": null,
   "metadata": {},
   "outputs": [],
   "source": [
    "# Generate instruction for the code\n",
    "aidd.add_column(\n",
    "    name=\"instruction\",\n",
    "    type=\"llm-text\",\n",
    "    system_prompt=\"You are an expert at generating clear and specific programming tasks.\",\n",
    "    prompt=\"\"\"\\\n",
    "Generate an instruction to create Python code that solves a specific problem. \n",
    "Each instruction should begin with one of the following phrases: {{instruction_phrase}}.\n",
    "\n",
    "Important Guidelines:\n",
    "* Industry Relevance: Ensure the instruction pertains to the {{industry_sector}} sector and {{topic}} topic.\n",
    "* Code Complexity: Tailor the instruction to the {{code_complexity}} level. Utilize relevant {{code_concept}} where appropriate to match the complexity level.\n",
    "* Clarity and Specificity: Make the problem statement clear and unambiguous. Provide sufficient context to understand the requirements without being overly verbose.\n",
    "* Response Formatting: Do not include any markers such as ### Response ### in the instruction.\n",
    "\"\"\"\n",
    ")\n",
    "\n",
    "# Generate the initial Python code\n",
    "aidd.add_column(\n",
    "    name=\"initial_code\",\n",
    "    type=\"llm-code\",\n",
    "    model_alias=\"code\",\n",
    "    output_format=\"python\",\n",
    "    system_prompt=\"You are an expert Python programmer who writes clean, efficient, and well-documented code.\",\n",
    "    prompt=\"\"\"\\\n",
    "Write Python code for the following instruction:\n",
    "Instruction: {{instruction}}\n",
    "\n",
    "Important Guidelines:\n",
    "* Code Quality: Your code should be clean, complete, self-contained and accurate.\n",
    "* Code Validity: Please ensure that your python code is executable and does not contain any errors.\n",
    "* Packages: Remember to import any necessary libraries, and to use all libraries you import.\n",
    "* Complexity & Concepts: The code should be written at a {{code_complexity}} level, making use of concepts such as {{code_concept}}.\n",
    "\"\"\"\n",
    ")"
   ]
  },
  {
   "cell_type": "markdown",
   "metadata": {},
   "source": [
    "## 🔍 Code Validation and Analysis\n",
    "\n",
    "Now we'll add validation for the initial code and generate analysis of any issues found."
   ]
  },
  {
   "cell_type": "code",
   "execution_count": null,
   "metadata": {},
   "outputs": [],
   "source": [
    "# Validate the initial code\n",
    "aidd.add_column(\n",
    "    name=\"code_validation\",\n",
    "    type=\"code-validation\",\n",
    "    code_lang=\"python\",\n",
    "    target_column=\"initial_code\"\n",
    ")"
   ]
  },
  {
   "cell_type": "code",
   "execution_count": null,
   "metadata": {},
   "outputs": [],
   "source": [
    "# Generate a detailed error analysis and improvement plan\n",
    "aidd.add_column(\n",
    "    name=\"code_analysis\",\n",
    "    type=\"llm-text\",\n",
    "    prompt=\"\"\"\\\n",
    "Analyze the following Python code and its validation results:\n",
    "\n",
    "INSTRUCTION:\n",
    "{{instruction}}\n",
    "\n",
    "INITIAL CODE:\n",
    "{{initial_code}}\n",
    "\n",
    "VALIDATION RESULTS:\n",
    "{{code_validation}}\n",
    "\n",
    "{% if code_validation != '[]' %}\n",
    "Please provide:\n",
    "1. A detailed analysis of each error or warning (categorize by type: convention, warning, error, refactor)\n",
    "2. Specific recommendations that directly address each issue\n",
    "3. A structured plan for implementing fixes while maintaining code functionality\n",
    "4. Any PEP 8 style improvements that would improve code quality\n",
    "{% else %}\n",
    "The code passes all validation checks. Provide potential optimizations for:\n",
    "1. Code readability\n",
    "2. Performance improvements\n",
    "3. Better adherence to Python best practices\n",
    "4. Enhanced documentation\n",
    "{% endif %}\n",
    "\"\"\"\n",
    ")"
   ]
  },
  {
   "cell_type": "markdown",
   "metadata": {},
   "source": [
    "## 🔄 Code Evolution\n",
    "\n",
    "Next, we'll create the improved version of the code based on the analysis and validation."
   ]
  },
  {
   "cell_type": "code",
   "execution_count": null,
   "metadata": {},
   "outputs": [],
   "source": [
    "# Generate improved code based on feedback\n",
    "aidd.add_column(\n",
    "    name=\"improved_code\",\n",
    "    type=\"llm-code\",\n",
    "    model_alias=\"code\",\n",
    "    output_format=\"python\",\n",
    "    system_prompt=\"You are an expert Python programmer focused on writing production-quality code that adheres to best practices.\",\n",
    "    prompt=\"\"\"\\\n",
    "Rewrite and improve the following Python code based on the analysis provided.\n",
    "\n",
    "ORIGINAL INSTRUCTION:\n",
    "{{instruction}}\n",
    "\n",
    "INITIAL CODE:\n",
    "{{initial_code}}\n",
    "\n",
    "CODE ANALYSIS:\n",
    "{{code_analysis}}\n",
    "\n",
    "Your task is to create a revised version that:\n",
    "1. Addresses all issues identified in the analysis\n",
    "2. Follows PEP 8 style guidelines systematically\n",
    "3. Eliminates common anti-patterns\n",
    "4. Includes comprehensive docstrings for functions, classes, and modules\n",
    "5. Uses type hints for function parameters and return values where appropriate\n",
    "6. Implements proper error handling with specific exception types\n",
    "7. Ensures all imports are properly organized and used\n",
    "\n",
    "The goal is production-quality code that would pass a professional code review at a {{code_complexity}} level.\n",
    "\"\"\"\n",
    ")\n",
    "\n",
    "# Validate the improved code\n",
    "aidd.add_column(\n",
    "    name=\"improved_code_validation\",\n",
    "    type=\"code-validation\",\n",
    "    code_lang=\"python\",\n",
    "    target_column=\"improved_code\"\n",
    ")"
   ]
  },
  {
   "cell_type": "markdown",
   "metadata": {},
   "source": [
    "## 📊 Evaluation\n",
    "\n",
    "Finally, we'll add an evaluation that compares the initial and improved code."
   ]
  },
  {
   "cell_type": "code",
   "execution_count": null,
   "metadata": {},
   "outputs": [],
   "source": [
    "from gretel_client.data_designer.judge_rubrics import PYTHON_RUBRICS\n",
    "\n",
    "# Add judge evaluation\n",
    "aidd.add_column(\n",
    "    name=\"code_judge_result\", \n",
    "    type=\"llm-judge\", \n",
    "    prompt=(\n",
    "        \"You are an expert in Python programming, with specialized knowledge in software engineering, \"\n",
    "        \"data science, and algorithmic problem-solving. You think about potential flaws and errors \"\n",
    "        \"in the code. You are a tough critic, but a fair one.\\n\\n\"\n",
    "        \"Take a deep breath and use the Python Code Quality Rubric below to score the **Generated Python Code** \"\n",
    "        \"based on the INSTRUCTIONS.\\n\\n\"\n",
    "        \"#### INSTRUCTIONS\\n\"\n",
    "        \"The Generated Python Code should be a valid response to the Natural Language Prompt below\\n\\n\"\n",
    "        \"Natural Language Prompt:\\n\"\n",
    "        \"{{ instruction }}\\n\\n\"\n",
    "        \"Generated Python Code\\n\"\n",
    "        \"```python\\n\"\n",
    "        \"{{ improved_code }}\\n\"\n",
    "        \"```\\n\"\n",
    "    ),\n",
    "    rubrics=PYTHON_RUBRICS\n",
    ")"
   ]
  },
  {
   "cell_type": "markdown",
   "metadata": {},
   "source": [
    "## 👀 Generate Preview Dataset\n",
    "\n",
    "Let's generate a preview to see how our evolved code examples look."
   ]
  },
  {
   "cell_type": "code",
   "execution_count": null,
   "metadata": {},
   "outputs": [],
   "source": [
    "# Generate a preview\n",
    "preview = aidd.preview()"
   ]
  },
  {
   "cell_type": "markdown",
   "metadata": {},
   "source": [
    "## 🔎 Easily inspect individual records\n",
    "\n",
    "- Run the cell below to display individual records for inspection.\n",
    "- Run the cell multiple times to cycle through the preview records.\n",
    "- Alternatively, you can pass the `index` argument to `display_sample_record` to display a specific record."
   ]
  },
  {
   "cell_type": "code",
   "execution_count": null,
   "metadata": {},
   "outputs": [],
   "source": [
    "preview.display_sample_record()"
   ]
  },
  {
   "cell_type": "markdown",
   "metadata": {},
   "source": [
    "## 🚀 Generate Full Dataset\n",
    "\n",
    "If you're satisfied with the preview, you can generate a larger dataset using a batch workflow."
   ]
  },
  {
   "cell_type": "code",
   "execution_count": 11,
   "metadata": {},
   "outputs": [],
   "source": [
    "# # Submit batch job\n",
    "# workflow_run = aidd.create(\n",
    "#     num_records=50,\n",
    "#     name=\"text_to_python_evolution\",\n",
    "#     wait_for_completion=True\n",
    "# )\n",
    "# print(\"\\nGenerated dataset shape:\", workflow_run.dataset.df.shape)"
   ]
  },
  {
   "cell_type": "code",
   "execution_count": 12,
   "metadata": {},
   "outputs": [],
   "source": [
    "# # Download evaluation report\n",
    "# path = workflow_run.download_report(wait_for_completion=True)"
   ]
  }
 ],
 "metadata": {
  "kernelspec": {
   "display_name": "base_env",
   "language": "python",
   "name": "python3"
  },
  "language_info": {
   "codemirror_mode": {
    "name": "ipython",
    "version": 3
   },
   "file_extension": ".py",
   "mimetype": "text/x-python",
   "name": "python",
   "nbconvert_exporter": "python",
   "pygments_lexer": "ipython3",
   "version": "3.12.9"
  }
 },
 "nbformat": 4,
 "nbformat_minor": 2
}
