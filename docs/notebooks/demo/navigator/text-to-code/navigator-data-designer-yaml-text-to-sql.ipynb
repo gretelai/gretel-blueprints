{
 "cells": [
  {
   "cell_type": "markdown",
   "metadata": {
    "colab_type": "text",
    "id": "view-in-github"
   },
   "source": [
    "<a href=\"https://colab.research.google.com/github/gretelai/gretel-blueprints/blob/main/notebooks/demo/navigator/text-to-code/navigator-data-designer-yaml-text-to-sql.ipynb\" target=\"_parent\"><img src=\"https://colab.research.google.com/assets/colab-badge.svg\" alt=\"Open In Colab\"/></a>"
   ]
  },
  {
   "cell_type": "markdown",
   "metadata": {},
   "source": [
    "# 🌅 Early Preview: Data Designer\n",
    "\n",
    "> **Note:** The [Data Designer](https://gretel.ai/navigator/data-designer) functionality demonstrated in this notebook is currently in **Early Preview**.\n",
    ">\n",
    "> To access these features and run this notebook, please [join the waitlist](https://gretel.ai/navigator/data-designer#waitlist).\n"
   ]
  },
  {
   "cell_type": "markdown",
   "metadata": {
    "id": "MMMHiDmEcYZY"
   },
   "source": [
    "# 🎨 Navigator Data Designer SDK: Text-to-SQL"
   ]
  },
  {
   "cell_type": "code",
   "execution_count": null,
   "metadata": {
    "id": "mNoaC7dX28y0"
   },
   "outputs": [],
   "source": [
    "%%capture\n",
    "!pip install -U git+https://github.com/gretelai/gretel-python-client"
   ]
  },
  {
   "cell_type": "code",
   "execution_count": null,
   "metadata": {
    "id": "1k5NjjtzPQJi",
    "tags": []
   },
   "outputs": [],
   "source": [
    "from gretel_client.navigator import DataDesigner"
   ]
  },
  {
   "cell_type": "markdown",
   "metadata": {
    "id": "K2NzEYJedJeA"
   },
   "source": [
    "## 📘 Text-to-SQL Configuration\n",
    "\n",
    "In this example, we want an LLM to help us generate _values_ for some data seed categories / subcategories, as specified by the `num_new_values_to_generate` parameter.\n",
    "\n",
    "- `num_new_values_to_generate` indicates that we want to generate this many new values, in addition to any that exist in the config.\n",
    "\n",
    "- If both `values` and `num_new_values_to_generate` are present, then the existing values are used as examples for generation.\n",
    "\n"
   ]
  },
  {
   "cell_type": "code",
   "execution_count": null,
   "metadata": {
    "id": "0cxx8ensOqLl",
    "tags": []
   },
   "outputs": [],
   "source": [
    "config_string = \"\"\"\n",
    "model_suite: apache-2.0\n",
    "\n",
    "special_system_instructions: >-\n",
    "  You are an expert at writing, analyzing and editing SQL queries. You know what\n",
    "  a high-quality, clean, efficient, and maintainable SQL code looks like. You\n",
    "  excel at transforming natural language into SQL, as well as SQL back into\n",
    "  natural language. Your job is to assist the user with their SQL-related tasks.\n",
    "\n",
    "categorical_seed_columns:\n",
    "  - name: industry_sector\n",
    "    values: [Healthcare, Finance, Technology]\n",
    "    subcategories:\n",
    "      - name: topic\n",
    "        values:\n",
    "          Healthcare:\n",
    "            - Electronic Health Records (EHR) Systems\n",
    "            - Telemedicine Platforms\n",
    "            - AI-Powered Diagnostic Tools\n",
    "          Finance:\n",
    "            - Fraud Detection Software\n",
    "            - Automated Trading Systems\n",
    "            - Personal Finance Apps\n",
    "          Technology:\n",
    "            - Cloud Computing Platforms\n",
    "            - Artificial Intelligence and Machine Learning Platforms\n",
    "            - DevOps and Continuous Integration/Continuous Deployment (CI/CD) Tools\n",
    "\n",
    "  - name: sql_complexity\n",
    "    values: [Beginner, Intermediate, Advanced]\n",
    "    subcategories:\n",
    "      - name: sql_concept\n",
    "        values:\n",
    "          Beginner: [\"Basic SQL\", \"SELECT Statements\", \"WHERE Clauses\", \"Basic JOINs\", \"INSERT, UPDATE, DELETE\"]\n",
    "          Intermediate: [\"Aggregation\", \"Single JOIN\", \"Subquery\", \"Views\", \"Stored Procedures\"]\n",
    "          Advanced: [\"Multiple JOINs\", \"Window Functions\", \"Common Table Expressions (CTEs)\", \"Triggers\", \"Query Optimization\"]\n",
    "      - name: sql_complexity_description\n",
    "        description: The complexity level of the given SQL complexity and SQL concept.\n",
    "        num_new_values_to_generate: 1\n",
    "\n",
    "  - name: sql_task_type\n",
    "    values:\n",
    "      - \"Data Retrieval\"\n",
    "      - \"Data Definition\"\n",
    "      - \"Data Manipulation\"\n",
    "      - \"Analytics and Reporting\"\n",
    "      - \"Database Administration\"\n",
    "      - \"Data Cleaning and Transformation\"\n",
    "    subcategories:\n",
    "      - name: sql_task_type_description\n",
    "        description: A brief description of the SQL task type.\n",
    "        num_new_values_to_generate: 1\n",
    "\n",
    "  - name: instruction_phrase\n",
    "    values:\n",
    "      - \"Construct an SQL query to\"\n",
    "      - \"Formulate an SQL statement that\"\n",
    "      - \"Implement an SQL view that\"\n",
    "\n",
    "generated_data_columns:\n",
    "  - name: sql_prompt\n",
    "    generation_prompt: >-\n",
    "      Generate a clear and specific natural language instruction for creating an SQL query tailored to the {industry_sector} sector, focusing on the {topic} topic and the {sql_task_type} task. \n",
    "      Each instruction should begin with one of the following phrases: \"{instruction_phrase}\".\n",
    "      \n",
    "      Important Guidelines:\n",
    "        * Industry Relevance: Ensure the instruction is directly related to the {industry_sector} sector and the {topic} topic.\n",
    "        * Task Specificity: Clearly define the SQL task type ({sql_task_type}) to provide focused and actionable requirements.\n",
    "        * Complexity Alignment: Align the instruction with the appropriate SQL complexity level by implicitly incorporating relevant SQL concepts.\n",
    "        * Clarity and Precision: Craft the instruction to be unambiguous and straightforward, providing all necessary context without unnecessary verbosity.\n",
    "        * Response Formatting: Exclude any markers or similar formatting cues in the instruction.\n",
    "    columns_to_list_in_prompt: [industry_sector, topic, sql_task_type, instruction_phrase]\n",
    "\n",
    "  - name: sql_context\n",
    "    generation_prompt: >-\n",
    "      Generate a set of database tables and views that are pertinent to the SQL instruction in {sql_prompt} and the task type {sql_task_type} within the {industry_sector} sector and {topic} topic.\n",
    "      \n",
    "      Important Guidelines:\n",
    "        * Relevance: Ensure that all generated tables and views are directly related to the {industry_sector} sector and the {topic} topic. They should provide the necessary structure to support the SQL instruction effectively.\n",
    "        * Completeness: Include all essential columns with appropriate data types, primary keys, foreign keys, and necessary constraints to accurately represent real-world database schemas.\n",
    "        * Realism: Design realistic and practical table schemas that reflect typical structures used in the specified industry sector. Avoid overly simplistic or excessively complex schemas unless required by the task.\n",
    "        * Executable SQL: Provide complete and executable statements. Ensure that there are no syntax errors and that the statements can be run without modification.\n",
    "        * Consistency: Maintain consistent naming conventions for tables and columns, adhering to best practices (e.g., snake_case for table and column names).\n",
    "        * Response Formatting: Exclude any markers or similar formatting cues in the instruction.\n",
    "    columns_to_list_in_prompt: [industry_sector, topic, sql_prompt, sql_task_type]\n",
    "    llm_type: code\n",
    "    data_config:\n",
    "      type: code\n",
    "      params:\n",
    "        syntax: sql\n",
    "  \n",
    "  - name: sql\n",
    "    generation_prompt: >-\n",
    "      Write an SQL query to answer/execute the following instruction and sql context.\n",
    "      Instruction: {sql_prompt}\\n\n",
    "      Context: {sql_context}\\n\n",
    "      \n",
    "      Important Guidelines:\n",
    "        * SQL Quality: Write self-contained and modular SQL code.\n",
    "        * SQL Validity: Please ensure that your SQL code is executable and does not contain any errors.\n",
    "        * Context: Base the SQL query on the provided database context in \"{sql_context}\". Ensure that all referenced tables, views, and columns exist within this context.\n",
    "        * Complexity & Concepts: The SQL should be written at a {sql_complexity} level, making use use of concepts such as {sql_context}.\n",
    "    columns_to_list_in_prompt: [sql_prompt, sql_context, sql_complexity]\n",
    "    llm_type: code\n",
    "    data_config:\n",
    "      type: code \n",
    "      params:\n",
    "        syntax: sql\n",
    "\n",
    "post_processors:\n",
    "  - validator: code\n",
    "    settings:\n",
    "      code_lang: ansi\n",
    "      code_columns: [sql_context, sql]\n",
    "  \n",
    "  - evaluator: text_to_sql\n",
    "    settings:\n",
    "      text_column: sql_prompt\n",
    "      code_column: sql\n",
    "      context_column: sql_context\n",
    "\"\"\"\n",
    "\n",
    "data_designer = DataDesigner.from_config(config_string, api_key=\"prompt\")"
   ]
  },
  {
   "cell_type": "code",
   "execution_count": null,
   "metadata": {
    "id": "ApZ7xb8dPOO0",
    "tags": []
   },
   "outputs": [],
   "source": [
    "data_designer"
   ]
  },
  {
   "cell_type": "markdown",
   "metadata": {
    "id": "iapaPqrN6w4T"
   },
   "source": [
    "## 🌱 Generating categorical seed _values_\n",
    "\n",
    "If some/all of your categorical data seeds have values that need to be generated (as is the case for this example), you have two choices:\n",
    "\n",
    "1.   Generate them every time you generate a preview dataset and/or batch workflow. In this case, you simply call `designer.generate_dataset_preview` or `designer.submit_batch_workflow` without providing `data_seeds` as input.\n",
    "\n",
    "2.  Generate them once using `designer.run_data_seeds_step` and then pass the resulting `data_seeds` as input when generating a preview / batch workflow, as we will show below."
   ]
  },
  {
   "cell_type": "code",
   "execution_count": null,
   "metadata": {
    "id": "7N_VqvICN9In",
    "tags": []
   },
   "outputs": [],
   "source": [
    "data_seeds = data_designer.run_data_seeds_step()"
   ]
  },
  {
   "cell_type": "code",
   "execution_count": null,
   "metadata": {
    "id": "7zwFpB24ZAHf",
    "tags": []
   },
   "outputs": [],
   "source": [
    "data_seeds"
   ]
  },
  {
   "cell_type": "code",
   "execution_count": null,
   "metadata": {
    "id": "4LDG93_KOcF2",
    "tags": []
   },
   "outputs": [],
   "source": [
    "data_seeds.inspect()"
   ]
  },
  {
   "cell_type": "markdown",
   "metadata": {
    "id": "NDxYu6azd3c4"
   },
   "source": [
    "## 👀 Generating a dataset preview\n",
    "\n",
    "- You can run `generate_seed_category_values` multiple times.\n",
    "\n",
    "- Once you are happy with the results, you can pass `data_seeds` as input to the preview / batch generation methods.\n",
    "\n",
    "- Notice that Step 1 now loads the data seeds rather than generating them."
   ]
  },
  {
   "cell_type": "code",
   "execution_count": null,
   "metadata": {
    "id": "Ef8Ws90cPbIu",
    "tags": []
   },
   "outputs": [],
   "source": [
    "preview = data_designer.generate_dataset_preview(data_seeds=data_seeds)"
   ]
  },
  {
   "cell_type": "code",
   "execution_count": null,
   "metadata": {
    "tags": []
   },
   "outputs": [],
   "source": [
    "preview.dataset"
   ]
  },
  {
   "cell_type": "markdown",
   "metadata": {
    "id": "CjYiKmcWd_2t"
   },
   "source": [
    "## 🔎 Taking a closer look at single records"
   ]
  },
  {
   "cell_type": "code",
   "execution_count": null,
   "metadata": {
    "id": "nSMFirnBMXtb",
    "tags": []
   },
   "outputs": [],
   "source": [
    "# Provide an index to display a specific record or leave it empty \n",
    "# to cycle through records each time you run the cell.\n",
    "preview.display_sample_record(index=5)"
   ]
  },
  {
   "cell_type": "code",
   "execution_count": null,
   "metadata": {
    "tags": []
   },
   "outputs": [],
   "source": [
    "preview.dataset"
   ]
  },
  {
   "cell_type": "markdown",
   "metadata": {
    "id": "eMjFAR0Yenrk"
   },
   "source": [
    "## 🤔 Like what you see?\n",
    "\n",
    "- Submit a batch workflow!\n",
    "\n",
    "- Notice we pass `data_seeds` as an argument to `data_designer.submit_batch_workflow` so we use the same data seeds any time we run this workflow."
   ]
  },
  {
   "cell_type": "code",
   "execution_count": null,
   "metadata": {
    "id": "VziAxDPtQEes",
    "tags": []
   },
   "outputs": [],
   "source": [
    "batch_job = data_designer.submit_batch_workflow(num_records=25, data_seeds=data_seeds)"
   ]
  },
  {
   "cell_type": "code",
   "execution_count": null,
   "metadata": {
    "id": "zRIrNifpj5vO",
    "tags": []
   },
   "outputs": [],
   "source": [
    "# Check to see if the Workflow is still active.\n",
    "batch_job.workflow_run_status"
   ]
  },
  {
   "cell_type": "code",
   "execution_count": null,
   "metadata": {
    "id": "fDAG5KmQeQ0m",
    "tags": []
   },
   "outputs": [],
   "source": [
    "df = batch_job.fetch_dataset(wait_for_completion=True)"
   ]
  },
  {
   "cell_type": "code",
   "execution_count": null,
   "metadata": {
    "id": "0I9rT4mNOLTh",
    "tags": []
   },
   "outputs": [],
   "source": [
    "path = batch_job.download_evaluation_report(wait_for_completion=True)"
   ]
  }
 ],
 "metadata": {
  "colab": {
   "include_colab_link": true,
   "provenance": []
  },
  "kernelspec": {
   "display_name": "Python 3 (ipykernel)",
   "language": "python",
   "name": "python3"
  },
  "language_info": {
   "codemirror_mode": {
    "name": "ipython",
    "version": 3
   },
   "file_extension": ".py",
   "mimetype": "text/x-python",
   "name": "python",
   "nbconvert_exporter": "python",
   "pygments_lexer": "ipython3",
   "version": "3.9.18"
  }
 },
 "nbformat": 4,
 "nbformat_minor": 4
}
