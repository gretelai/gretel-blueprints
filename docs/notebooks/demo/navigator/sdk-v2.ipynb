{
 "cells": [
  {
   "cell_type": "code",
   "execution_count": null,
   "metadata": {},
   "outputs": [],
   "source": [
    "%load_ext autoreload\n",
    "%autoreload 2"
   ]
  },
  {
   "cell_type": "code",
   "execution_count": null,
   "metadata": {},
   "outputs": [],
   "source": [
    "from pydantic import BaseModel, Field\n",
    "\n",
    "from gretel_client.navigator_client import Gretel\n",
    "from gretel_client.data_designer.judge_rubrics import TEXT_TO_PYTHON_LLM_JUDGE_PROMPT_TEMPLATE, PYTHON_RUBRICS\n"
   ]
  },
  {
   "cell_type": "code",
   "execution_count": null,
   "metadata": {},
   "outputs": [],
   "source": [
    "class Fruit(BaseModel):\n",
    "    name: str = Field(..., description=\"Name of the fruit.\")\n",
    "    cost: float = Field(..., description=\"Dollar value of the fruit.\")\n",
    "    weight: float = Field(..., description=\"Weight in lbs.\")\n",
    "    flavor: str = Field(..., description=\"Primary flavor profile of the fruit.\")\n",
    "    preparation: str = Field(..., description=\"How to prepare the fruit for a fruit salad.\")\n",
    "\n",
    "\n",
    "class FruitSalad(BaseModel):\n",
    "    total_cost: float = Field(..., description=\"Total cost of all fruits.\")\n",
    "    name: str = Field(..., description=\"Name of this unique fruit salad.\")\n",
    "    haiku: str = Field(..., description=\"A beautiful haiku about this fruit salad.\")\n",
    "    ascii_art: str = Field(..., description=\"A small ASCII art depiction of the fruit salad.\")\n",
    "    fruits: list[Fruit]"
   ]
  },
  {
   "cell_type": "code",
   "execution_count": null,
   "metadata": {},
   "outputs": [],
   "source": [
    "gretel = Gretel(endpoint='https://api.dev.gretel.ai')\n",
    "dd = (gretel.data_designer.new(model_suite=\"apache-2.0\")\n",
    "    .with_person_samplers({\"some_dude\": {\"sex\": \"Male\", \"locale\": \"en_GB\"}})\n",
    "    .add_column(name=\"employee_id\",\n",
    "                type=\"uuid\",\n",
    "                params={\"prefix\": \"GRETEL_\", \"short_form\": True, \"uppercase\": True})        \n",
    "    .add_column(name=\"first_name\", type=\"expression\", params={\"expr\": \"some_dude.first_name\"})\n",
    "    .add_column(name=\"last_name\", type=\"expression\", params={\"expr\": \"some_dude.last_name\"})\n",
    "    .add_column(name=\"start_date\",\n",
    "                type=\"datetime\",\n",
    "                params={\"start\": \"2020-01-01\", \"end\": \"2025-01-01\"},\n",
    "                convert_to=\"%m/%d/%Y\")\n",
    "    .add_column(name=\"end_date\",\n",
    "                type=\"datetime\",\n",
    "                params={\"start\": \"2020-01-01\", \"end\": \"2025-01-01\"},\n",
    "                convert_to=\"%m/%d/%Y\")\n",
    "    .add_column(name=\"age\",\n",
    "                type=\"gaussian\",\n",
    "                params={\"mean\": 30, \"stddev\": 5},\n",
    "                conditional_params={\"pet_type == 'reptile'\": {\"mean\": 25, \"stddev\": 2}},\n",
    "                convert_to=\"int\")\n",
    "    .add_column(name=\"pet_type\",\n",
    "                type=\"category\",\n",
    "                params={\"values\": [\"dog\", \"cat\"], \"weights\": [0.8, 0.2]})\n",
    "    .add_column(name=\"pet_names\",\n",
    "                type=\"subcategory\",\n",
    "                params={\"category\": \"pet_type\", \"values\": {\"dog\": [\"fido\", \"spot\"], \"cat\": [\"whiskers\", \"mittens\"]}})\n",
    "    .add_column(name=\"instruction\", \n",
    "                prompt=\"Write a description of python code that does sorts an array in nlong time complexity\",)\n",
    "    .add_column(name=\"code_implementation\", \n",
    "                prompt=\"Wirte a python code that described by {instruction}\",\n",
    "                model_alias=\"code\",\n",
    "                data_config={\"type\": \"code\", \"params\": {\"syntax\": \"python\"}})\n",
    "    .add_column(name=\"region\", type=\"category\", params={\"values\": [\"Thailand\", \"France\", \"South Africa\"]})\n",
    "    .add_column(name=\"fruit_salad\",\n",
    "                prompt=\"Create a description of fruits to go in a regional fruit salad from {region}!\",\n",
    "                data_config={\"type\": \"structured\", \"params\": {\"model\": FruitSalad}})\n",
    "    .add_column(name=\"code_validity_result\", type=\"code-validation\", code_lang=\"python\", target_column=\"code_implementation\")\n",
    "    .add_column(name=\"code_judge_result\", type=\"llm-judge\", prompt=TEXT_TO_PYTHON_LLM_JUDGE_PROMPT_TEMPLATE, rubrics=PYTHON_RUBRICS)\n",
    "    .add_constraint(target_column=\"age\", type=\"scalar_inequality\", params={\"operator\": \"<\", \"rhs\": 35})\n",
    "    .add_constraint(target_column=\"start_date\", type=\"column_inequality\", params={\"operator\": \"<\", \"rhs\": \"end_date\"})\n",
    "    .with_evaluation_report()\n",
    ")\n",
    "\n",
    "dd"
   ]
  },
  {
   "cell_type": "code",
   "execution_count": null,
   "metadata": {},
   "outputs": [],
   "source": [
    "dd.C.SamplerColumn(\n",
    "    name=\"pet_type\",\n",
    "    type=\"category\",\n",
    "    params=dd.P.Category(values=[\"dog\", \"cat\"], weights=[0.8, 0.2])\n",
    ")"
   ]
  },
  {
   "cell_type": "code",
   "execution_count": null,
   "metadata": {},
   "outputs": [],
   "source": [
    "preview_result = dd.preview(verbose_logging=True)"
   ]
  },
  {
   "cell_type": "code",
   "execution_count": null,
   "metadata": {},
   "outputs": [],
   "source": [
    "preview_result.display_sample_record()"
   ]
  },
  {
   "cell_type": "code",
   "execution_count": null,
   "metadata": {},
   "outputs": [],
   "source": [
    "preview_result.dataset.df"
   ]
  },
  {
   "cell_type": "code",
   "execution_count": null,
   "metadata": {},
   "outputs": [],
   "source": [
    "# result = dd.create(num_records=100, workflow_run_name=\"test_new\")"
   ]
  }
 ],
 "metadata": {
  "kernelspec": {
   "display_name": ".venv",
   "language": "python",
   "name": "python3"
  },
  "language_info": {
   "codemirror_mode": {
    "name": "ipython",
    "version": 3
   },
   "file_extension": ".py",
   "mimetype": "text/x-python",
   "name": "python",
   "nbconvert_exporter": "python",
   "pygments_lexer": "ipython3",
   "version": "3.11.9"
  }
 },
 "nbformat": 4,
 "nbformat_minor": 2
}
