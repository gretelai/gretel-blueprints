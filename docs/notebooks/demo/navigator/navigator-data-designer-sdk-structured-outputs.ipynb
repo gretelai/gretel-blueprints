{
  "cells": [
    {
      "cell_type": "markdown",
      "id": "274b71f1",
      "metadata": {},
      "source": [
        "<a href=\"https://colab.research.google.com/github/gretelai/gretel-blueprints/blob/main/docs/notebooks/demo/navigator/navigator-data-designer-sdk-structured-outputs.ipynb\" target=\"_parent\"><img src=\"https://colab.research.google.com/assets/colab-badge.svg\" alt=\"Open In Colab\"/></a>"
      ]
    },
    {
      "cell_type": "markdown",
      "id": "8a83e26a-3f0e-4c9f-9c0d-a3fddde7a2ff",
      "metadata": {
        "id": "8a83e26a-3f0e-4c9f-9c0d-a3fddde7a2ff"
      },
      "source": [
        "# 🎨 Data Designer SDK: Structured Outputs\n",
        "\n",
        "Let's explore how to use Data Designer's structured outputs feature to generate complex, nested data structures, with support for both Pydantic and JSON schema definitions.\n",
        "\n",
        "> **Note:** The [Data Designer](https://docs.gretel.ai/create-synthetic-data/gretel-data-designer-beta) functionality demonstrated in this notebook is currently in **Early Preview**. To access these features and run this notebook, please [join the waitlist](https://gretel.ai/navigator/data-designer#waitlist).\n",
        "\n",
        "# 📘 Getting Started\n",
        "\n",
        "First, let's install and import the required packages:"
      ]
    },
    {
      "cell_type": "code",
      "execution_count": null,
      "id": "JCe_omTROVNH",
      "metadata": {
        "id": "JCe_omTROVNH"
      },
      "outputs": [],
      "source": [
        "%%capture\n",
        "%pip install -U gretel_client "
      ]
    },
    {
      "cell_type": "code",
      "execution_count": null,
      "id": "730ed460-6fe3-4dc1-b443-027df91510f2",
      "metadata": {
        "id": "730ed460-6fe3-4dc1-b443-027df91510f2"
      },
      "outputs": [],
      "source": [
        "from gretel_client.navigator import DataDesigner"
      ]
    },
    {
      "cell_type": "markdown",
      "id": "TWJ88u51RUlO",
      "metadata": {
        "id": "TWJ88u51RUlO"
      },
      "source": [
        "# 🥗 Building a Fruit Salad Generator\n",
        "\n",
        "To demonstrate structured outputs, we'll create a fruit salad recipe generator. This example showcases how to:\n",
        "- Handle nested data structures (recipes containing multiple fruits)\n",
        "- Generate variable-length lists (different numbers of fruits per salad)\n",
        "- Maintain relationships between components (total cost based on individual fruits)\n",
        "- Create derivative content (HTML presentations of our recipes)\n",
        "\n",
        "## 1. Setting Up Data Designer\n",
        "\n",
        "First, we'll create a Data Designer instance and define our seed data:"
      ]
    },
    {
      "cell_type": "code",
      "execution_count": null,
      "id": "37cf3de3-08c2-42f0-ae78-850667eb331c",
      "metadata": {
        "id": "37cf3de3-08c2-42f0-ae78-850667eb331c"
      },
      "outputs": [],
      "source": [
        "## Create our DD Instance\n",
        "data_designer = DataDesigner(\n",
        "    api_key=\"prompt\",\n",
        "    model_suite=\"apache-2.0\",\n",
        ")\n",
        "\n",
        "## Generate some regions for our fruit salad recipes\n",
        "data_designer.add_categorical_seed_column(\n",
        "    name=\"region\",\n",
        "    description=\"Regions of the world with an exciting culinary tradition.\",\n",
        "    values=[\"Thailand\", \"France\", \"South Africa\"],\n",
        "    num_new_values_to_generate=5\n",
        ")"
      ]
    },
    {
      "cell_type": "markdown",
      "id": "3nYvwlfORXP8",
      "metadata": {
        "id": "3nYvwlfORXP8"
      },
      "source": [
        "## 2. Defining Our Data Model\n",
        "\n",
        "The power of structured outputs comes from defining exact schemas for our generated data. We'll use Pydantic to create our data models:"
      ]
    },
    {
      "cell_type": "code",
      "execution_count": null,
      "id": "fa246495-0a68-4d98-9ce7-9351528edb25",
      "metadata": {
        "id": "fa246495-0a68-4d98-9ce7-9351528edb25"
      },
      "outputs": [],
      "source": [
        "## Now, we're making a recipe, which is pretty structured.\n",
        "## So let's give data designer a recipe to follow!\n",
        "\n",
        "from pydantic import BaseModel, Field\n",
        "\n",
        "class Fruit(BaseModel):\n",
        "    name: str = Field(..., description=\"Name of the fruit.\")\n",
        "    cost: float = Field(..., description=\"Dollar value of the fruit.\")\n",
        "    weight: float = Field(..., description=\"Weight in lbs.\")\n",
        "    flavor: str = Field(..., description=\"Primary flavor profile of the fruit.\")\n",
        "    preparation: str = Field(..., description=\"How to prepare the fruit for a fruit salad.\")\n",
        "\n",
        "\n",
        "class FruitSalad(BaseModel):\n",
        "    total_cost: float = Field(..., description=\"Total cost of all fruits.\")\n",
        "    name: str = Field(..., description=\"Name of this unique fruit salad.\")\n",
        "    haiku: str = Field(..., description=\"A beautiful haiku about this fruit salad.\")\n",
        "    ascii_art: str = Field(..., description=\"A small ASCII art depiction of the fruit salad.\")\n",
        "    fruits: list[Fruit]"
      ]
    },
    {
      "cell_type": "markdown",
      "id": "6f1b79ff-3411-4b29-9715-07009b88450f",
      "metadata": {
        "id": "6f1b79ff-3411-4b29-9715-07009b88450f"
      },
      "source": [
        "Now, we can pass ths Pydantic data model to DataDesigner and have a contract that we'll get back data in the format we specified above (or none!)\n",
        "\n",
        "Our implementation also permits one to specify [JSON Schema](https://json-schema.org/) directly via any source."
      ]
    },
    {
      "cell_type": "markdown",
      "id": "6faba3e3-1654-490b-911a-fe116cd09c40",
      "metadata": {
        "id": "6faba3e3-1654-490b-911a-fe116cd09c40"
      },
      "source": [
        "\n",
        "## 3. Generating Structured Data\n",
        "\n",
        "With our models defined, we can now tell Data Designer exactly what kind of data to generate:"
      ]
    },
    {
      "cell_type": "code",
      "execution_count": null,
      "id": "5e5c844b-99ee-4b12-b4b8-477a37f1875f",
      "metadata": {
        "id": "5e5c844b-99ee-4b12-b4b8-477a37f1875f"
      },
      "outputs": [],
      "source": [
        "## Tell DD to generate some fruit salads\n",
        "data_designer.add_generated_data_column(\n",
        "    name=\"fruit_salad\",\n",
        "    generation_prompt=(\n",
        "        \"Create a description of fruits to go in a regional fruit salad from {region}!\"\n",
        "    ),\n",
        "    data_config={\"type\": \"structured\", \"params\": {\"model\": FruitSalad}}\n",
        "\n",
        "    ## We also could have initialized from a JSON Schema alone\n",
        "    # data_config={\"type\": \"structured\", \"params\": {\"json_schema\": FruitSalad.to_json_schema()}},\n",
        ")"
      ]
    },
    {
      "cell_type": "markdown",
      "id": "TQY-lQ7fQsn3",
      "metadata": {
        "id": "TQY-lQ7fQsn3"
      },
      "source": [
        "## 4. Creating Presentation Layer\n",
        "\n",
        "Finally, we'll generate HTML presentations of our fruit salads, demonstrating how to use structured data in subsequent generation steps:"
      ]
    },
    {
      "cell_type": "code",
      "execution_count": null,
      "id": "1bd99170-f61d-4c30-a13e-efa996508e24",
      "metadata": {
        "id": "1bd99170-f61d-4c30-a13e-efa996508e24"
      },
      "outputs": [],
      "source": [
        "data_designer.add_generated_data_column(\n",
        "    name=\"fruit_salad_html\",\n",
        "    generation_prompt=(\n",
        "        \"<data>\\n{fruit_salad}\\n</data>\\n\\n\"\n",
        "        \"Given the provided <data>, write a self-contained HTML webpage \"\n",
        "        \"which provides all of the provided information. Embed your own CSS into the document.\\n\"\n",
        "        \"The page and its text should be in a color palette and style matching the national flag of {region}.\\n\"\n",
        "        \"The page background and the page text should be in contrasting colors.\\n\"\n",
        "        \"Make sure to structure your fruit information so that the information is displayed clearly, like a table format.\\n\"\n",
        "        \"Place the haiku and ASCII art side by side and above the info table.\\n\"\n",
        "        \"ASCII art should be displayed in a <code> block.\\n\"\n",
        "        \"Use fancy HTML transforms and animations on different elements of the webpage.\"\n",
        "    ),\n",
        "    llm_type=\"code\",\n",
        "    data_config={\"type\": \"code\", \"params\": {\"syntax\": \"html\"}}\n",
        ")\n",
        "\n"
      ]
    },
    {
      "cell_type": "markdown",
      "id": "G6e1eY0RRAIr",
      "metadata": {
        "id": "G6e1eY0RRAIr"
      },
      "source": [
        "## 5. Previewing Results\n",
        "\n",
        "Let's take a look at what we've created:"
      ]
    },
    {
      "cell_type": "code",
      "execution_count": null,
      "id": "j4Pb2lDgQ-uJ",
      "metadata": {
        "id": "j4Pb2lDgQ-uJ"
      },
      "outputs": [],
      "source": [
        "preview = data_designer.generate_dataset_preview()"
      ]
    },
    {
      "cell_type": "code",
      "execution_count": null,
      "id": "9c589ae7-b06b-490b-87cb-f238b0e4cfe9",
      "metadata": {
        "id": "9c589ae7-b06b-490b-87cb-f238b0e4cfe9"
      },
      "outputs": [],
      "source": [
        "from IPython.display import HTML\n",
        "from itertools import cycle\n",
        "websites = iter(cycle(preview.dataset[\"fruit_salad_html\"].values))"
      ]
    },
    {
      "cell_type": "code",
      "execution_count": null,
      "id": "1a7605ad-d99a-41e7-b70a-a39aaacebf5a",
      "metadata": {
        "id": "1a7605ad-d99a-41e7-b70a-a39aaacebf5a"
      },
      "outputs": [],
      "source": [
        "HTML(next(websites))"
      ]
    },
    {
      "cell_type": "code",
      "execution_count": null,
      "id": "91e6f3a8-ff8b-4301-94cd-1b8d886bd936",
      "metadata": {
        "id": "91e6f3a8-ff8b-4301-94cd-1b8d886bd936"
      },
      "outputs": [],
      "source": [
        "preview.display_sample_record()"
      ]
    },
    {
      "cell_type": "code",
      "execution_count": null,
      "id": "be55d68e-72e8-4500-998c-06c26991c155",
      "metadata": {
        "id": "be55d68e-72e8-4500-998c-06c26991c155"
      },
      "outputs": [],
      "source": [
        "preview.dataset"
      ]
    }
  ],
  "metadata": {
    "colab": {
      "provenance": []
    },
    "kernelspec": {
      "display_name": "Python 3 (ipykernel)",
      "language": "python",
      "name": "python3"
    },
    "language_info": {
      "codemirror_mode": {
        "name": "ipython",
        "version": 3
      },
      "file_extension": ".py",
      "mimetype": "text/x-python",
      "name": "python",
      "nbconvert_exporter": "python",
      "pygments_lexer": "ipython3",
      "version": "3.9.18"
    }
  },
  "nbformat": 4,
  "nbformat_minor": 5
}
