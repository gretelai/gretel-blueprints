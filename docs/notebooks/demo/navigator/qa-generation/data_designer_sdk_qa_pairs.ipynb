{
 "cells": [
  {
   "cell_type": "markdown",
   "id": "1a776ccf",
   "metadata": {},
   "source": [
    "<a target=\"_parent\" href=\"https://colab.research.google.com/github/gretelai/gretel-blueprints/blob/main/docs/notebooks/demo/navigator/qa-generation/data_designer_sdk_qa_pairs.ipynb\">\n",
    "  <img src=\"https://colab.research.google.com/assets/colab-badge.svg\" alt=\"Open In Colab\"/>\n",
    "</a>"
   ]
  },
  {
   "cell_type": "markdown",
   "metadata": {
    "id": "_Qw4dkKAPvhT"
   },
   "source": [
    "# 📚 Data Designer SDK: Generate Diverse Q&A Pairs\n",
    "\n",
    "This notebook demonstrates a general approach for extracting Q&A pairs from any source document\n",
    "(e.g. text, markdown, or PDF files). The generated Q&A pairs can be used for:\n",
    "- **Instruction Tuning:** Training models with clear, self-contained examples.\n",
    "- **Retrieval-Augmented Generation (RAG):** Enhancing retrieval systems with precise and context-supported Q&A pairs.\n",
    "- **Search and FAQ Systems:** Powering natural language query systems and documentation.\n",
    "\n",
    "> **Note:** The [Data Designer](https://docs.gretel.ai/create-synthetic-data/gretel-data-designer-beta) functionality demonstrated in this notebook is currently in **Early Preview**. To access these features and run this notebook, please [join the waitlist](https://gretel.ai/navigator/data-designer#waitlist).\n",
    "\n",
    "# 📘 Getting Started\n",
    "\n",
    "First, let's install and import the required packages:"
   ]
  },
  {
   "cell_type": "code",
   "execution_count": null,
   "metadata": {
    "id": "yELZ-vcSE67b"
   },
   "outputs": [],
   "source": [
    "# Install required libraries\n",
    "\n",
    "%%capture\n",
    "!pip install -qq langchain unstructured[pdf] smart_open git+https://github.com/gretelai/gretel-python-client"
   ]
  },
  {
   "cell_type": "code",
   "execution_count": null,
   "metadata": {
    "id": "2ml6WiAdCYaN"
   },
   "outputs": [],
   "source": [
    "# Configuration\n",
    "# -------------\n",
    "# Define your source document(s) and the number of Q&A pairs to generate.\n",
    "# You can replace this with your own documents in PDF, markdown, or text formats.\n",
    "\n",
    "DOCUMENT_LIST = [\"https://gretel-public-website.s3.us-west-2.amazonaws.com/datasets/rag_evals/databricks-state-of-data-ai-report.pdf\"]\n",
    "NUM_QA_PAIRS = 50"
   ]
  },
  {
   "cell_type": "code",
   "execution_count": null,
   "metadata": {
    "id": "JBmeZnTgFjFU"
   },
   "outputs": [],
   "source": [
    "# Document Processing\n",
    "# ------------------\n",
    "# The DocumentProcessor class handles loading and chunking source documents for RAG evaluation.\n",
    "# We use langchain's RecursiveCharacterTextSplitter and unstructured.io for robust document parsing.\n",
    "\n",
    "from typing import List, Union\n",
    "from langchain.text_splitter import RecursiveCharacterTextSplitter\n",
    "from unstructured.partition.auto import partition\n",
    "from smart_open import open\n",
    "import tempfile\n",
    "import os\n",
    "\n",
    "class DocumentProcessor:\n",
    "    def __init__(self, chunk_size: int = 4192, chunk_overlap: int = 200):\n",
    "        self.text_splitter = RecursiveCharacterTextSplitter(\n",
    "            chunk_size=chunk_size,\n",
    "            chunk_overlap=chunk_overlap,\n",
    "            length_function=len,\n",
    "        )\n",
    "\n",
    "    def parse_document(self, uri: str) -> str:\n",
    "        \"\"\"Parse a single document from URI into raw text.\"\"\"\n",
    "        with open(uri, 'rb') as file:\n",
    "            content = file.read()\n",
    "            with tempfile.NamedTemporaryFile(delete=False) as temp_file:\n",
    "                temp_file.write(content)\n",
    "                temp_file.flush()\n",
    "                elements = partition(temp_file.name)\n",
    "\n",
    "        os.unlink(temp_file.name)\n",
    "        return \"\\n\\n\".join([str(element) for element in elements])\n",
    "\n",
    "    def process_documents(self, uris: Union[str, List[str]]) -> List[str]:\n",
    "        \"\"\"Process one or more documents into chunks for RAG evaluation.\"\"\"\n",
    "        if isinstance(uris, str):\n",
    "            uris = [uris]\n",
    "\n",
    "        all_chunks = []\n",
    "        for uri in uris:\n",
    "            text = self.parse_document(uri)\n",
    "            chunks = self.text_splitter.split_text(text)\n",
    "            all_chunks.extend(chunks)\n",
    "\n",
    "        return all_chunks"
   ]
  },
  {
   "cell_type": "code",
   "execution_count": null,
   "metadata": {
    "id": "Vu8Qx1WXJWiW"
   },
   "outputs": [],
   "source": [
    "# Data Models\n",
    "# -----------\n",
    "# Define Pydantic models for structured output generation:\n",
    "# 1. QAPair: Schema for question-answer pairs\n",
    "# 2. EvalMetrics: Schema for scoring generation quality\n",
    "\n",
    "from pydantic import BaseModel, Field\n",
    "from typing import Optional, Literal\n",
    "\n",
    "class QAPair(BaseModel):\n",
    "    context: str = Field(..., description=\"The context used to make the question and answer.\")\n",
    "    question: str = Field(..., description=\"A clear and concise question derived from the context.\")\n",
    "    answer: str = Field(..., description=\"A detailed and accurate answer fully supported by the context.\")\n",
    "\n",
    "\n",
    "class EvalMetrics(BaseModel):\n",
    "    clarity: int = Field(\n",
    "        ...,\n",
    "        description=\"How clear and understandable is the question? (1=vague/confusing, 5=perfectly clear and well-structured)\",\n",
    "        ge=1,\n",
    "        le=5\n",
    "    )\n",
    "    factual_accuracy: int = Field(\n",
    "        ...,\n",
    "        description=\"Is the answer fully supported by the context? (1=contains errors/unsupported claims, 5=completely accurate and supported)\",\n",
    "        ge=1,\n",
    "        le=5\n",
    "    )\n",
    "    comprehensiveness: int = Field(\n",
    "        ...,\n",
    "        description=\"Does the answer cover all necessary details? (1=missing crucial information, 5=complete coverage of all relevant points)\",\n",
    "        ge=1,\n",
    "        le=5\n",
    "    )\n",
    "    answer_relevance: int = Field(\n",
    "        ...,\n",
    "        description=\"Does the answer directly address what was asked in the question? (1=misaligned/tangential, 5=perfectly addresses the question)\",\n",
    "        ge=1,\n",
    "        le=5\n",
    "    )"
   ]
  },
  {
   "cell_type": "code",
   "execution_count": null,
   "metadata": {},
   "outputs": [],
   "source": [
    "# Setup & Configure Data Designer using the new SDK\n",
    "# --------------------------------\n",
    "# Process document chunks first\n",
    "\n",
    "import pandas as pd\n",
    "from gretel_client.navigator_client import Gretel\n",
    "\n",
    "# Process document chunks\n",
    "processor = DocumentProcessor(chunk_size=4192, chunk_overlap=200)\n",
    "chunks = processor.process_documents(DOCUMENT_LIST)\n",
    "\n",
    "# Create a seed DataFrame with the document chunks\n",
    "seed_df = pd.DataFrame({\"context\": chunks})"
   ]
  },
  {
   "cell_type": "code",
   "execution_count": null,
   "metadata": {},
   "outputs": [],
   "source": [
    "# Initialize Gretel client and Data Designer\n",
    "gretel = Gretel(api_key=\"prompt\", endpoint=\"https://api.dev.gretel.ai\")\n",
    "aidd = gretel.data_designer.new(model_suite=\"llama-3.x\")  # or \"apache-2.0\" as needed"
   ]
  },
  {
   "cell_type": "code",
   "execution_count": null,
   "metadata": {},
   "outputs": [],
   "source": [
    "# Upload the seed dataset with document chunks\n",
    "aidd.with_seed_dataset(seed_df, sampling_strategy=\"shuffle\", with_replacement=True)"
   ]
  },
  {
   "cell_type": "code",
   "execution_count": null,
   "metadata": {
    "id": "k009Ko0EJZas"
   },
   "outputs": [],
   "source": [
    "# Add categorical columns for controlled diversity\n",
    "aidd.add_column(\n",
    "    name=\"difficulty\",\n",
    "    type=\"category\",\n",
    "    params={\"values\": [\"easy\", \"medium\", \"hard\"]}\n",
    ")\n",
    "\n",
    "# Add sophistication as a subcategory of difficulty\n",
    "aidd.add_column(\n",
    "    name=\"sophistication\",\n",
    "    type=\"subcategory\",\n",
    "    params= {\n",
    "        \"category\": \"difficulty\",\n",
    "        \"values\": {\n",
    "            \"easy\": [\n",
    "                \"basic\", \n",
    "                \"straightforward\"\n",
    "            ],\n",
    "            \"medium\": [\n",
    "                \"intermediate\", \n",
    "                \"moderately complex\"\n",
    "            ],\n",
    "            \"hard\": [\n",
    "                \"advanced\", \n",
    "                \"sophisticated\"\n",
    "            ]\n",
    "        }\n",
    "    }\n",
    ")\n",
    "\n",
    "# Add other categorical columns\n",
    "aidd.add_column(\n",
    "    name=\"question_style\",\n",
    "    type=\"category\",\n",
    "    params={\"values\": [\"factual\", \"exploratory\", \"analytical\", \"comparative\"]}\n",
    ")\n",
    "\n",
    "aidd.add_column(\n",
    "    name=\"target_audience\",\n",
    "    type=\"category\",\n",
    "    params={\"values\": [\"novice\", \"intermediate\", \"expert\"]}\n",
    ")\n",
    "\n",
    "aidd.add_column(\n",
    "    name=\"response_format\",\n",
    "    type=\"category\",\n",
    "    params={\"values\": [\"short\", \"detailed\", \"step-by-step\", \"list\"]}\n",
    ")\n",
    "\n",
    "# Add Q&A pair generation column\n",
    "aidd.add_column(\n",
    "    name=\"qa_pair\",\n",
    "    type=\"llm-generated\",\n",
    "    system_prompt=\"\"\"You are an expert at generating high-quality, context-supported Q&A pairs.\n",
    "Your output should be clear, concise, and factually correct.\n",
    "Ensure that every question is self-contained and every answer is comprehensive and derived solely from the provided context.\n",
    "\"\"\",\n",
    "    prompt=\"\"\"\\n{context}\\n\\n\n",
    "Based on the above context, generate a high-quality Q&A pair. The question should be clear and concise, \n",
    "and tailored for an audience at the '{target_audience}' level. The overall difficulty should be '{difficulty}', \n",
    "with a corresponding sophistication level (e.g., {sophistication}). The question style should be '{question_style}', \n",
    "and the answer should be provided in a '{response_format}' format. \n",
    "Ensure that the answer is factually accurate, fully derived from the context, and comprehensive.\\n\n",
    "Put your thoughts within <think>...</think> before providing the JSON.\"\"\",\n",
    "    data_config={\"type\": \"structured\", \"params\": {\"model\": QAPair}}\n",
    "\n",
    "    \n",
    ")\n",
    "\n",
    "# Add evaluation metrics column\n",
    "aidd.add_column(\n",
    "    name=\"eval_metrics\",\n",
    "    type=\"llm-generated\",\n",
    "    model_alias=\"judge\",  # Use judge model for evaluation\n",
    "    prompt=\"\"\"\\n{context}\\n\\n\n",
    "For the above Q&A pair:\\n\n",
    "{qa_pair}\\n\\n\n",
    "Rate each criterion on a scale of 1-5:\\n\n",
    "- Clarity\\n\n",
    "- Factual Accuracy\\n\n",
    "- Comprehensiveness\\n\n",
    "- Answer Relevance\\n\n",
    "Put your thoughts within <think>...</think> before providing the JSON.\"\"\",\n",
    "    data_config={\"type\": \"structured\", \"params\": {\"model\": EvalMetrics}}\n",
    ")"
   ]
  },
  {
   "cell_type": "code",
   "execution_count": null,
   "metadata": {
    "id": "yNNiHIIhjli8"
   },
   "outputs": [],
   "source": [
    "# Preview a Sample of Generated Records\n",
    "preview = aidd.preview()\n",
    "preview.display_sample_record()"
   ]
  },
  {
   "cell_type": "code",
   "execution_count": null,
   "metadata": {
    "id": "P8REiGAvaPm-"
   },
   "outputs": [],
   "source": [
    "# Explore the generated preview as a Pandas DataFrame\n",
    "# ---------------------------\n",
    "\n",
    "preview.dataset"
   ]
  },
  {
   "cell_type": "code",
   "execution_count": null,
   "metadata": {
    "id": "uCAOD8Y4J819"
   },
   "outputs": [],
   "source": [
    "# Submit batch job\n",
    "workflow_run = aidd.create(\n",
    "    num_records=100,\n",
    "    workflow_run_name=\"qa_pair_generation\",\n",
    "    wait_for_completion=True\n",
    ")\n",
    "print(\"\\nGenerated dataset shape:\", workflow_run.dataset.df.shape)"
   ]
  },
  {
   "cell_type": "code",
   "execution_count": null,
   "metadata": {},
   "outputs": [],
   "source": [
    "# Inspect first 10 records of the generated dataset\n",
    "workflow_run.dataset.df.head(10)"
   ]
  }
 ],
 "metadata": {
  "colab": {
   "provenance": []
  },
  "kernelspec": {
   "display_name": "base_env",
   "language": "python",
   "name": "python3"
  },
  "language_info": {
   "codemirror_mode": {
    "name": "ipython",
    "version": 3
   },
   "file_extension": ".py",
   "mimetype": "text/x-python",
   "name": "python",
   "nbconvert_exporter": "python",
   "pygments_lexer": "ipython3",
   "version": "3.12.9"
  }
 },
 "nbformat": 4,
 "nbformat_minor": 0
}
