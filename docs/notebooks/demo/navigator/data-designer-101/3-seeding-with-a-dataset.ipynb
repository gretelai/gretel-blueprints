{
 "cells": [
  {
   "cell_type": "markdown",
   "metadata": {},
   "source": [
    "<a target=\"_parent\" href=\"https://colab.research.google.com/github/gretelai/gretel-blueprints/blob/main/docs/notebooks/demo/navigator/data-designer-101/3-seeding-with-a-dataset.ipynb\">\n",
    "  <img src=\"https://colab.research.google.com/assets/colab-badge.svg\" alt=\"Open In Colab\"/>\n",
    "</a>\n",
    "\n",
    "# 🎨 Data Designer 101: Seeding synthetic data generation with an external dataset\n",
    "\n",
    "In this notebook, we will demonstrate how to seed synthetic data generation in `DataDesigner` with an external dataset.\n",
    "\n",
    "\n",
    "If this is your first time using `DataDesigner`, we recommend starting with the [first notebook](https://github.com/gretelai/gretel-blueprints/blob/main/docs/notebooks/demo/navigator/data-designer-101/1-the-basics.ipynb) in this 101 series.\n",
    "\n",
    "\n",
    "<br>\n",
    "\n",
    "### 💾 Install `gretel-client` and its dependencies"
   ]
  },
  {
   "cell_type": "code",
   "execution_count": null,
   "metadata": {},
   "outputs": [],
   "source": [
    "%%capture\n",
    "%pip install git+https://github.com/gretelai/gretel-python-client datasets"
   ]
  },
  {
   "cell_type": "code",
   "execution_count": null,
   "metadata": {},
   "outputs": [],
   "source": [
    "from gretel_client.navigator_client import Gretel\n",
    "\n",
    "# The Gretel object is the SDK's main entry point for interacting with Gretel's API.\n",
    "gretel = Gretel(api_key=\"prompt\", endpoint=\"https://api.dev.gretel.ai\")"
   ]
  },
  {
   "cell_type": "markdown",
   "metadata": {},
   "source": [
    "## 🏥 Download a seed dataset\n",
    "\n",
    "- For this notebook, we'll change gears and create a synthetic dataset of patient notes.\n",
    "\n",
    "- To steer the generation process, we will use Gretel's open-source [symptom-to-diagnosis dataset](https://huggingface.co/datasets/gretelai/symptom_to_diagnosis)."
   ]
  },
  {
   "cell_type": "code",
   "execution_count": null,
   "metadata": {},
   "outputs": [],
   "source": [
    "from datasets import load_dataset\n",
    "\n",
    "df_seed = load_dataset(\"gretelai/symptom_to_diagnosis\")[\"train\"].to_pandas()\n",
    "df_seed = df_seed.rename(columns={\"output_text\": \"diagnosis\", \"input_text\": \"patient_summary\"})\n",
    "\n",
    "print(f\"Number of records: {len(df_seed)}\")\n",
    "\n",
    "df_seed.head()"
   ]
  },
  {
   "cell_type": "markdown",
   "metadata": {},
   "source": [
    "## 👩‍⚕️ Designing our synthetic patient notes dataset\n",
    "\n",
    "- We set the seed dataset using the `with_seed_dataset` method.\n",
    "\n",
    "- We use the `shuffle` sampling strategy, which shuffles the seed dataset before sampling.\n",
    "\n",
    "- We set `with_replacement=False`, so our max num_records is 853, \n"
   ]
  },
  {
   "cell_type": "code",
   "execution_count": null,
   "metadata": {},
   "outputs": [],
   "source": [
    "aidd = gretel.data_designer.new(model_suite=\"apache-2.0\")\n",
    "\n",
    "aidd.with_seed_dataset(\n",
    "    df_seed,\n",
    "    sampling_strategy=\"shuffle\",\n",
    "    with_replacement=False\n",
    ")\n",
    "\n",
    "# Empty dictionaries mean use default settings for the person samplers.\n",
    "aidd.with_person_samplers({\"patient_sampler\": {}, \"doctor_sampler\": {}})"
   ]
  },
  {
   "cell_type": "code",
   "execution_count": null,
   "metadata": {},
   "outputs": [],
   "source": [
    "# Here we demonstrate how you can add a column by calling `add_column` with the \n",
    "# column name, column type, and any parameters for that column type. This is in \n",
    "# contrast to using the column and parameter type objects, via `C` and `P`, as we \n",
    "# did in the previous notebook. Generally, we recommend using the concrete column\n",
    "# and parameter type objects, but this is a convenient shorthand when you are \n",
    "# familiar with the required arguments for each type.\n",
    "\n",
    "aidd.add_column(\n",
    "    name=\"patient_id\",\n",
    "    type=\"uuid\",\n",
    "    params={\"prefix\": \"PT-\", \"short_form\": True, \"uppercase\": True},\n",
    ")\n",
    "\n",
    "aidd.add_column(\n",
    "    name=\"first_name\",\n",
    "    type=\"expression\",\n",
    "    expr=\"{{ patient_sampler.first_name}} \",\n",
    ")\n",
    "\n",
    "aidd.add_column(\n",
    "    name=\"last_name\",\n",
    "    type=\"expression\",\n",
    "    expr=\"{{ patient_sampler.last_name }}\",\n",
    ")\n",
    "\n",
    "\n",
    "aidd.add_column(\n",
    "    name=\"dob\",\n",
    "    type=\"expression\",\n",
    "    expr=\"{{ patient_sampler.birth_date }}\"\n",
    ")\n",
    "\n",
    "\n",
    "aidd.add_column(\n",
    "    name=\"patient_email\",\n",
    "    type=\"expression\",\n",
    "    expr=\"{{ patient_sampler.email_address }}\",\n",
    ")\n",
    "\n",
    "\n",
    "aidd.add_column(\n",
    "    name=\"symptom_onset_date\",\n",
    "    type=\"datetime\",\n",
    "    params={\"start\": \"2024-01-01\", \"end\": \"2024-12-31\"},\n",
    ")\n",
    "\n",
    "aidd.add_column(\n",
    "    name=\"date_of_visit\",\n",
    "    type=\"timedelta\",\n",
    "    params={\n",
    "        \"dt_min\": 1,\n",
    "        \"dt_max\": 30,\n",
    "        \"reference_column_name\": \"symptom_onset_date\"\n",
    "    },\n",
    ")\n",
    "\n",
    "aidd.add_column(\n",
    "    name=\"physician\",\n",
    "    type=\"expression\",\n",
    "    expr=\"Dr. {{ doctor_sampler.last_name }}\",\n",
    ")\n",
    "\n",
    "# Note we have access to the seed data fields.\n",
    "aidd.add_column(\n",
    "    name=\"physician_notes\",\n",
    "    prompt=\"\"\"\\\n",
    "You are a primary-care physician who just had an appointment with {{ first_name }} {{ last_name }},\n",
    "who has been struggling with symptoms from {{ diagnosis }} since {{ symptom_onset_date }}.\n",
    "The date of today's visit is {{ date_of_visit }}.\n",
    "\n",
    "{{ patient_summary }}\n",
    "\n",
    "Write careful notes about your visit with {{ first_name }},\n",
    "as Dr. {{ doctor_sampler.first_name }} {{ doctor_sampler.last_name }}.\n",
    "\n",
    "Format the notes as a busy doctor might.\n",
    "\"\"\"\n",
    " )\n",
    "\n",
    "\n",
    "aidd.with_evaluation_report().validate()"
   ]
  },
  {
   "cell_type": "markdown",
   "metadata": {},
   "source": [
    "## 👀 Preview the dataset\n",
    "\n",
    "- Iteration is key to generating high-quality synthetic data.\n",
    "\n",
    "- Use the `preview` method to generate 10 records for inspection."
   ]
  },
  {
   "cell_type": "code",
   "execution_count": null,
   "metadata": {},
   "outputs": [],
   "source": [
    "preview = aidd.preview()"
   ]
  },
  {
   "cell_type": "code",
   "execution_count": null,
   "metadata": {},
   "outputs": [],
   "source": [
    "# The preview dataset is available as a pandas DataFrame.\n",
    "preview.dataset.df.head()"
   ]
  },
  {
   "cell_type": "code",
   "execution_count": null,
   "metadata": {},
   "outputs": [],
   "source": [
    "# Run this cell multiple times to cycle through the 10 preview records.\n",
    "preview.display_sample_record()"
   ]
  },
  {
   "cell_type": "markdown",
   "metadata": {},
   "source": [
    "## 🆙 Scale up!\n",
    "\n",
    "- Once you are happy with the preview, scale up to a larger dataset by submitting a batch workflow.\n",
    "\n",
    "- You can view the evaluation report by following the workflow link in the output of `create` below.\n",
    "\n",
    "- Click the link to follow along with the generation process."
   ]
  },
  {
   "cell_type": "code",
   "execution_count": null,
   "metadata": {},
   "outputs": [],
   "source": [
    "workflow_run = aidd.create(num_records=100, name=\"aidd-101-notebook-3-patient-notes\")"
   ]
  }
 ],
 "metadata": {
  "kernelspec": {
   "display_name": ".venv",
   "language": "python",
   "name": "python3"
  },
  "language_info": {
   "codemirror_mode": {
    "name": "ipython",
    "version": 3
   },
   "file_extension": ".py",
   "mimetype": "text/x-python",
   "name": "python",
   "nbconvert_exporter": "python",
   "pygments_lexer": "ipython3",
   "version": "3.11.9"
  }
 },
 "nbformat": 4,
 "nbformat_minor": 2
}
