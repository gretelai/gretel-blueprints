{
 "cells": [
  {
   "cell_type": "markdown",
   "metadata": {},
   "source": [
    "<a target=\"_parent\" href=\"https://colab.research.google.com/github/gretelai/gretel-blueprints/blob/main/docs/notebooks/demo/navigator/navigator-data-designer-sdk-sample-to-dataset.ipynb\">\n",
    "  <img src=\"https://colab.research.google.com/assets/colab-badge.svg\" alt=\"Open In Colab\"/>\n",
    "</a>"
   ]
  },
  {
   "cell_type": "markdown",
   "metadata": {
    "id": "YTT6ZxhGX_Zg"
   },
   "source": [
    "# 🌅 Early Preview: Data Designer\n",
    "\n",
    "> **Note:** The [Data Designer](https://gretel.ai/navigator/data-designer) functionality demonstrated in this notebook is currently in **Early Preview**.\n",
    ">\n",
    "> To access these features and run this notebook, please [join the waitlist](https://gretel.ai/navigator/data-designer#waitlist).\n"
   ]
  },
  {
   "cell_type": "markdown",
   "metadata": {
    "id": "-HniG9AXRn0x"
   },
   "source": [
    "# 🎛️ Import things"
   ]
  },
  {
   "cell_type": "code",
   "execution_count": null,
   "metadata": {
    "id": "bQQwU3__fQas"
   },
   "outputs": [],
   "source": [
    "%%capture\n",
    "# Install the latest version of Gretel client and dependencies\n",
    "%pip install -U git+https://github.com/gretelai/gretel-python-client"
   ]
  },
  {
   "cell_type": "code",
   "execution_count": null,
   "metadata": {
    "id": "GoIl12fOjL2V"
   },
   "outputs": [],
   "source": [
    "import pandas as pd\n",
    "\n",
    "from datasets import load_dataset\n",
    "from IPython.display import IFrame\n",
    "\n",
    "from gretel_client.navigator import DataDesignerFactory"
   ]
  },
  {
   "cell_type": "markdown",
   "metadata": {
    "id": "BY6e8wfNSvFd"
   },
   "source": [
    "# 🗺️ Choose your adventure"
   ]
  },
  {
   "cell_type": "markdown",
   "metadata": {
    "id": "UG32DHuVB_6j"
   },
   "source": [
    "## 🏡 Real-estate Example"
   ]
  },
  {
   "cell_type": "code",
   "execution_count": null,
   "metadata": {
    "colab": {
     "base_uri": "https://localhost:8080/",
     "height": 206
    },
    "id": "E6-RyY5RCG9E",
    "outputId": "65dde450-4735-4d7d-b358-6f556482b1a2"
   },
   "outputs": [],
   "source": [
    "NUM_SAMPLES = 10\n",
    "\n",
    "df = pd.read_csv(\"https://gretel-datasets.s3.us-west-2.amazonaws.com/realestate_data_london_2024_nov.csv\")\n",
    "sample_records = df.sample(NUM_SAMPLES).to_dict(orient=\"records\")\n",
    "df.head()"
   ]
  },
  {
   "cell_type": "markdown",
   "metadata": {
    "id": "uF0WfgbvUY1P"
   },
   "source": [
    "## 🤗 HF Dataset Examples\n",
    "Make sure to uncomment!"
   ]
  },
  {
   "cell_type": "code",
   "execution_count": null,
   "metadata": {
    "colab": {
     "base_uri": "https://localhost:8080/",
     "height": 621
    },
    "id": "aPUzP9LpU2gY",
    "outputId": "e3abeea6-1549-4648-cb8e-b26e6687140c"
   },
   "outputs": [],
   "source": [
    "# hf_handle = \"openai/gsm8k\"\n",
    "\n",
    "# dataset = load_dataset(hf_handle, \"main\")\n",
    "# df = dataset[\"train\"].to_pandas()\n",
    "# sample_records = df.sample(NUM_SAMPLES).to_dict(orient=\"records\")\n",
    "\n",
    "# IFrame(src=f\"https://huggingface.co/datasets/{hf_handle}/embed/viewer/default/train\", width=1200, height=600)"
   ]
  },
  {
   "cell_type": "markdown",
   "metadata": {
    "id": "gSZ959HIUjKA"
   },
   "source": [
    "## 🧙‍♀️ Manually-provided samples from a Subject Matter Expert (SME)\n",
    "Make sure to uncomment!"
   ]
  },
  {
   "cell_type": "code",
   "execution_count": null,
   "metadata": {
    "id": "ek1rkTQJkBDb"
   },
   "outputs": [],
   "source": [
    "# sme_examples = [\n",
    "#     {\n",
    "#         \"prompt\": \"Write a function that calculates the running average of a stream of numbers. Each time a new number is added, return the average of all numbers seen so far.\",\n",
    "#         \"gold_solution\": \"\"\"\n",
    "# class RunningAverage:\n",
    "#     def __init__(self):\n",
    "#         self.count = 0\n",
    "#         self.sum = 0\n",
    "\n",
    "#     def add_number(self, num):\n",
    "#         self.count += 1\n",
    "#         self.sum += num\n",
    "#         return self.sum / self.count\"\"\",\n",
    "#         \"alternative_solution\": \"\"\"\n",
    "# class RunningAverage:\n",
    "#     def __init__(self):\n",
    "#         self.numbers = []\n",
    "\n",
    "#     def add_number(self, num):\n",
    "#         self.numbers.append(num)\n",
    "#         return sum(self.numbers) / len(self.numbers)\"\"\",\n",
    "#         \"incorrect_solution\": \"\"\"\n",
    "# class RunningAverage:\n",
    "#     def __init__(self):\n",
    "#         self.last_num = 0\n",
    "#         self.count = 0\n",
    "\n",
    "#     def add_number(self, num):\n",
    "#         self.count += 1\n",
    "#         self.last_num = num\n",
    "#         return self.last_num\"\"\",\n",
    "#         \"tests\": \"\"\"\n",
    "# def test_running_average():\n",
    "#     ra = RunningAverage()\n",
    "#     assert ra.add_number(10) == 10.0\n",
    "#     assert ra.add_number(20) == 15.0\n",
    "#     assert ra.add_number(30) == 20.0\"\"\"\n",
    "#     },\n",
    "#     {\n",
    "#         \"prompt\": \"Create a function that finds the longest palindromic substring in a given string. For example, in 'babad', one solution is 'bab'.\",\n",
    "#         \"gold_solution\": \"\"\"\n",
    "# def longest_palindrome(s):\n",
    "#     if not s: return ''\n",
    "#     start = end = 0\n",
    "\n",
    "#     def expand(left, right):\n",
    "#         while left >= 0 and right < len(s) and s[left] == s[right]:\n",
    "#             left -= 1\n",
    "#             right += 1\n",
    "#         return right - left - 1\n",
    "\n",
    "#     for i in range(len(s)):\n",
    "#         len1 = expand(i, i)\n",
    "#         len2 = expand(i, i + 1)\n",
    "#         max_len = max(len1, len2)\n",
    "#         if max_len > end - start:\n",
    "#             start = i - (max_len - 1) // 2\n",
    "#             end = i + max_len // 2\n",
    "#     return s[start:end + 1]\"\"\",\n",
    "#         \"alternative_solution\": \"\"\"\n",
    "# def longest_palindrome(s):\n",
    "#     if not s: return ''\n",
    "#     longest = s[0]\n",
    "#     for i in range(len(s)):\n",
    "#         for j in range(i + 1, len(s) + 1):\n",
    "#             substr = s[i:j]\n",
    "#             if substr == substr[::-1] and len(substr) > len(longest):\n",
    "#                 longest = substr\n",
    "#     return longest\"\"\",\n",
    "#         \"incorrect_solution\": \"\"\"\n",
    "# def longest_palindrome(s):\n",
    "#     if not s: return ''\n",
    "#     longest = ''\n",
    "#     for i in range(len(s)):\n",
    "#         if s[i] == s[i:i+2]:\n",
    "#             return s[i:i+2]\n",
    "#         if len(longest) < 1:\n",
    "#             longest = s[i]\n",
    "#     return longest\"\"\",\n",
    "#         \"tests\": \"\"\"\n",
    "# def test_longest_palindrome():\n",
    "#     assert longest_palindrome('babad') in ['bab', 'aba']\n",
    "#     assert longest_palindrome('cbbd') == 'bb'\n",
    "#     assert longest_palindrome('a') == 'a'\n",
    "#     assert longest_palindrome('') == ''\"\"\"\n",
    "#     },\n",
    "#     {\n",
    "#         \"prompt\": \"Write a function that finds the first non-repeating character in a string and returns its index. If there is no non-repeating character, return -1.\",\n",
    "#         \"gold_solution\": \"\"\"\n",
    "# def first_unique_char(s):\n",
    "#     char_count = {}\n",
    "\n",
    "#     # Count character frequencies\n",
    "#     for char in s:\n",
    "#         char_count[char] = char_count.get(char, 0) + 1\n",
    "\n",
    "#     # Find first character with count 1\n",
    "#     for i, char in enumerate(s):\n",
    "#         if char_count[char] == 1:\n",
    "#             return i\n",
    "#     return -1\"\"\",\n",
    "#         \"alternative_solution\": \"\"\"\n",
    "# from collections import Counter\n",
    "\n",
    "# def first_unique_char(s):\n",
    "#     # Count all characters\n",
    "#     counter = Counter(s)\n",
    "\n",
    "#     # Find first character with count 1\n",
    "#     for i, char in enumerate(s):\n",
    "#         if counter[char] == 1:\n",
    "#             return i\n",
    "#     return -1\"\"\",\n",
    "#         \"incorrect_solution\": \"\"\"\n",
    "# def first_unique_char(s):\n",
    "#     seen = set()\n",
    "\n",
    "#     # Only checks if we've seen the character before\n",
    "#     # Doesn't account for later duplicates\n",
    "#     for i, char in enumerate(s):\n",
    "#         if char not in seen:\n",
    "#             seen.add(char)\n",
    "#             return i\n",
    "#     return -1\"\"\",\n",
    "#         \"tests\": \"\"\"\n",
    "# def test_first_unique_char():\n",
    "#     assert first_unique_char('leetcode') == 0  # 'l' is first unique\n",
    "#     assert first_unique_char('loveleetcode') == 2  # 'v' is first unique\n",
    "#     assert first_unique_char('aabb') == -1  # no unique characters\n",
    "#     assert first_unique_char('') == -1  # empty string\n",
    "#     assert first_unique_char('cc') == -1  # no unique characters\"\"\"\n",
    "#     }\n",
    "# ]\n",
    "\n",
    "# df = pd.DataFrame(sme_examples)\n",
    "# sample_records = df.to_dict(orient=\"records\")"
   ]
  },
  {
   "cell_type": "markdown",
   "metadata": {
    "id": "jEKBX_is0HdH"
   },
   "source": [
    "# ✍️ Set up Data Designer for Sample-to-Dataset"
   ]
  },
  {
   "cell_type": "code",
   "execution_count": null,
   "metadata": {
    "colab": {
     "base_uri": "https://localhost:8080/"
    },
    "id": "VjuEfrx2z8UK",
    "outputId": "6dc28b92-2fe0-46a4-f45c-60c02148dd12"
   },
   "outputs": [],
   "source": [
    "MODEL_SUITE = \"apache-2.0\"\n",
    "\n",
    "data_designer = DataDesignerFactory.from_sample_records(\n",
    "    sample_records=sample_records,\n",
    "    model_suite=MODEL_SUITE,\n",
    "    api_key=\"prompt\"\n",
    ")"
   ]
  },
  {
   "cell_type": "markdown",
   "metadata": {
    "id": "obAK17vEiHBH"
   },
   "source": [
    "# 🌱 Extract Data Seeds"
   ]
  },
  {
   "cell_type": "code",
   "execution_count": null,
   "metadata": {
    "colab": {
     "base_uri": "https://localhost:8080/"
    },
    "id": "xp8vbAmJkZHU",
    "outputId": "f4e7faa8-38e6-470e-f7d6-f2d438a7d787"
   },
   "outputs": [],
   "source": [
    "data_seeds = data_designer.run_data_seeds_step(\n",
    "    max_num_seeds=7,\n",
    "    num_assistants=5,\n",
    "    verbose_logging=True,\n",
    ")\n",
    "\n",
    "for c in data_seeds.seed_categories:\n",
    "    print(f\"{c.name}:\")\n",
    "    print(f\" |- description: {c.description}\")\n",
    "    print(f\" |- values: {c.values}\")"
   ]
  },
  {
   "cell_type": "markdown",
   "metadata": {
    "id": "MkGiLYDASl2t"
   },
   "source": [
    "# 👁️ Preview Data"
   ]
  },
  {
   "cell_type": "code",
   "execution_count": null,
   "metadata": {
    "colab": {
     "base_uri": "https://localhost:8080/"
    },
    "id": "IMi8KF_BpEmj",
    "outputId": "3c681d27-ce2f-4487-9829-9e7fc125137a"
   },
   "outputs": [],
   "source": [
    "preview = data_designer.generate_dataset_preview(\n",
    "    data_seeds=data_seeds,\n",
    "    verbose_logging=True\n",
    ")"
   ]
  },
  {
   "cell_type": "code",
   "execution_count": null,
   "metadata": {
    "colab": {
     "base_uri": "https://localhost:8080/",
     "height": 490
    },
    "id": "k4_W9d6s2vlM",
    "outputId": "2fde58a3-4fb9-4cdc-f386-6688e66aefa3"
   },
   "outputs": [],
   "source": [
    "preview.display_sample_record()"
   ]
  },
  {
   "cell_type": "markdown",
   "metadata": {
    "id": "vIatp_x7Swvs"
   },
   "source": [
    "# 🆙 Scale up!"
   ]
  },
  {
   "cell_type": "code",
   "execution_count": null,
   "metadata": {
    "colab": {
     "base_uri": "https://localhost:8080/"
    },
    "id": "092BssDipjmh",
    "outputId": "a8dbdf87-f919-4d7a-d4ec-04284319aab6"
   },
   "outputs": [],
   "source": [
    "batch_job = data_designer.submit_batch_workflow(\n",
    "    num_records=100,\n",
    "    data_seeds=data_seeds,\n",
    "    project_name=\"sample-to-dataset\"\n",
    ")"
   ]
  },
  {
   "cell_type": "code",
   "execution_count": null,
   "metadata": {
    "colab": {
     "base_uri": "https://localhost:8080/"
    },
    "id": "8thpC5BAp5vn",
    "outputId": "842bacf3-c9bd-4ac6-acad-0c1b607aa4dc"
   },
   "outputs": [],
   "source": [
    "synthetic_dataset = batch_job.fetch_dataset(wait_for_completion=True)"
   ]
  },
  {
   "cell_type": "code",
   "execution_count": null,
   "metadata": {
    "id": "N5naObE3qmzO"
   },
   "outputs": [],
   "source": [
    "synthetic_dataset"
   ]
  }
 ],
 "metadata": {
  "colab": {
   "collapsed_sections": [
    "uF0WfgbvUY1P",
    "gSZ959HIUjKA"
   ],
   "provenance": []
  },
  "kernelspec": {
   "display_name": "nav-helpers",
   "language": "python",
   "name": "nav-helpers"
  },
  "language_info": {
   "codemirror_mode": {
    "name": "ipython",
    "version": 3
   },
   "file_extension": ".py",
   "mimetype": "text/x-python",
   "name": "python",
   "nbconvert_exporter": "python",
   "pygments_lexer": "ipython3",
   "version": "3.9.16"
  }
 },
 "nbformat": 4,
 "nbformat_minor": 0
}
