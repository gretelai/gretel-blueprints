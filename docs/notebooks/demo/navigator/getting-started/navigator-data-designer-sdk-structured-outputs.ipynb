{
 "cells": [
  {
   "cell_type": "markdown",
   "id": "274b71f1",
   "metadata": {},
   "source": [
    "<a target=\"_parent\" href=\"https://colab.research.google.com/github/gretelai/gretel-blueprints/blob/main/docs/notebooks/demo/navigator/navigator-data-designer-sdk-structured-outputs.ipynb\">\n",
    "  <img src=\"https://colab.research.google.com/assets/colab-badge.svg\" alt=\"Open In Colab\"/>\n",
    "</a>"
   ]
  },
  {
   "cell_type": "markdown",
   "id": "8a83e26a-3f0e-4c9f-9c0d-a3fddde7a2ff",
   "metadata": {
    "id": "8a83e26a-3f0e-4c9f-9c0d-a3fddde7a2ff"
   },
   "source": [
    "# 🎨 Data Designer SDK: Structured Outputs\n",
    "\n",
    "Let's explore how to use Data Designer's structured outputs feature to generate complex, nested data structures, with support for both Pydantic and JSON schema definitions.\n",
    "\n",
    "# 📘 Getting Started\n",
    "\n",
    "First, let's install and import the required packages:"
   ]
  },
  {
   "cell_type": "code",
   "execution_count": 1,
   "id": "JCe_omTROVNH",
   "metadata": {
    "id": "JCe_omTROVNH"
   },
   "outputs": [],
   "source": [
    "%%capture\n",
    "# Install the latest version of Gretel client and dependencies\n",
    "%pip install -U git+https://github.com/gretelai/gretel-python-client"
   ]
  },
  {
   "cell_type": "code",
   "execution_count": 8,
   "id": "730ed460-6fe3-4dc1-b443-027df91510f2",
   "metadata": {
    "id": "730ed460-6fe3-4dc1-b443-027df91510f2"
   },
   "outputs": [],
   "source": [
    "from gretel_client.navigator_client import Gretel"
   ]
  },
  {
   "cell_type": "markdown",
   "id": "TWJ88u51RUlO",
   "metadata": {
    "id": "TWJ88u51RUlO"
   },
   "source": [
    "# 🥗 Building a Fruit Salad Generator\n",
    "\n",
    "To demonstrate structured outputs, we'll create a fruit salad recipe generator. This example showcases how to:\n",
    "- Handle nested data structures (recipes containing multiple fruits)\n",
    "- Generate variable-length lists (different numbers of fruits per salad)\n",
    "- Maintain relationships between components (total cost based on individual fruits)\n",
    "- Create derivative content (HTML presentations of our recipes)\n",
    "\n",
    "## 1. Setting Up Data Designer\n",
    "\n",
    "First, we'll create a Data Designer instance and define our seed data:"
   ]
  },
  {
   "cell_type": "code",
   "execution_count": null,
   "id": "37cf3de3-08c2-42f0-ae78-850667eb331c",
   "metadata": {
    "id": "37cf3de3-08c2-42f0-ae78-850667eb331c"
   },
   "outputs": [],
   "source": [
    "## Create our DD Instance\n",
    "gretel = Gretel(api_key=\"prompt\", endpoint='https://api.dev.gretel.ai')\n",
    "\n",
    "aidd = gretel.data_designer.new(\n",
    "    model_suite=\"apache-2.0\"  # Use apache-2.0 or llama-3.x based on your licensing needs\n",
    ")"
   ]
  },
  {
   "cell_type": "code",
   "execution_count": null,
   "id": "726f09ed",
   "metadata": {},
   "outputs": [],
   "source": [
    "\n",
    "## Generate some regions for our fruit salad recipes\n",
    "aidd.add_column(\n",
    "    name=\"region\",\n",
    "    type=\"category\",\n",
    "    params={\"values\": [\"Thailand\", \"France\", \"South Africa\"]},\n",
    ")"
   ]
  },
  {
   "cell_type": "markdown",
   "id": "3nYvwlfORXP8",
   "metadata": {
    "id": "3nYvwlfORXP8"
   },
   "source": [
    "## 2. Defining Our Data Model\n",
    "\n",
    "The power of structured outputs comes from defining exact schemas for our generated data. We'll use Pydantic to create our data models:"
   ]
  },
  {
   "cell_type": "code",
   "execution_count": 11,
   "id": "fa246495-0a68-4d98-9ce7-9351528edb25",
   "metadata": {
    "id": "fa246495-0a68-4d98-9ce7-9351528edb25"
   },
   "outputs": [],
   "source": [
    "## Now, we're making a recipe, which is pretty structured.\n",
    "## So let's give data designer a recipe to follow!\n",
    "\n",
    "from pydantic import BaseModel, Field\n",
    "\n",
    "class Fruit(BaseModel):\n",
    "    name: str = Field(..., description=\"Name of the fruit.\")\n",
    "    cost: float = Field(..., description=\"Dollar value of the fruit.\")\n",
    "    weight: float = Field(..., description=\"Weight in lbs.\")\n",
    "    flavor: str = Field(..., description=\"Primary flavor profile of the fruit.\")\n",
    "    preparation: str = Field(..., description=\"How to prepare the fruit for a fruit salad.\")\n",
    "\n",
    "\n",
    "class FruitSalad(BaseModel):\n",
    "    total_cost: float = Field(..., description=\"Total cost of all fruits.\")\n",
    "    name: str = Field(..., description=\"Name of this unique fruit salad.\")\n",
    "    haiku: str = Field(..., description=\"A beautiful haiku about this fruit salad.\")\n",
    "    ascii_art: str = Field(..., description=\"A small ASCII art depiction of the fruit salad.\")\n",
    "    fruits: list[Fruit]"
   ]
  },
  {
   "cell_type": "markdown",
   "id": "6f1b79ff-3411-4b29-9715-07009b88450f",
   "metadata": {
    "id": "6f1b79ff-3411-4b29-9715-07009b88450f"
   },
   "source": [
    "Now, we can pass ths Pydantic data model to DataDesigner and have a contract that we'll get back data in the format we specified above (or none!)\n",
    "\n",
    "Our implementation also permits one to specify [JSON Schema](https://json-schema.org/) directly via any source."
   ]
  },
  {
   "cell_type": "markdown",
   "id": "6faba3e3-1654-490b-911a-fe116cd09c40",
   "metadata": {
    "id": "6faba3e3-1654-490b-911a-fe116cd09c40"
   },
   "source": [
    "\n",
    "## 3. Generating Structured Data\n",
    "\n",
    "With our models defined, we can now tell Data Designer exactly what kind of data to generate:"
   ]
  },
  {
   "cell_type": "code",
   "execution_count": null,
   "id": "5e5c844b-99ee-4b12-b4b8-477a37f1875f",
   "metadata": {
    "id": "5e5c844b-99ee-4b12-b4b8-477a37f1875f"
   },
   "outputs": [],
   "source": [
    "## Tell DD to generate some fruit salads\n",
    "aidd.add_column(\n",
    "    name=\"fruit_salad\",\n",
    "    type=\"llm-gen\",\n",
    "    prompt=(\n",
    "        \"Create a description of fruits to go in a regional fruit salad from {{region}}!\"\n",
    "    ),\n",
    "    data_config={\"type\": \"structured\", \"params\": {\"model\": FruitSalad}}\n",
    ")"
   ]
  },
  {
   "cell_type": "markdown",
   "id": "G6e1eY0RRAIr",
   "metadata": {
    "id": "G6e1eY0RRAIr"
   },
   "source": [
    "## 4. Previewing Results\n",
    "\n",
    "Let's take a look at what we've created:"
   ]
  },
  {
   "cell_type": "code",
   "execution_count": null,
   "id": "j4Pb2lDgQ-uJ",
   "metadata": {
    "id": "j4Pb2lDgQ-uJ"
   },
   "outputs": [],
   "source": [
    "preview = aidd.preview()"
   ]
  },
  {
   "cell_type": "code",
   "execution_count": null,
   "id": "91e6f3a8-ff8b-4301-94cd-1b8d886bd936",
   "metadata": {
    "id": "91e6f3a8-ff8b-4301-94cd-1b8d886bd936"
   },
   "outputs": [],
   "source": [
    "preview.display_sample_record()"
   ]
  }
 ],
 "metadata": {
  "colab": {
   "provenance": []
  },
  "kernelspec": {
   "display_name": "base_env",
   "language": "python",
   "name": "python3"
  },
  "language_info": {
   "codemirror_mode": {
    "name": "ipython",
    "version": 3
   },
   "file_extension": ".py",
   "mimetype": "text/x-python",
   "name": "python",
   "nbconvert_exporter": "python",
   "pygments_lexer": "ipython3",
   "version": "3.12.9"
  }
 },
 "nbformat": 4,
 "nbformat_minor": 5
}
