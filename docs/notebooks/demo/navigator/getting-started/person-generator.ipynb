{
  "cells": [
    {
      "cell_type": "markdown",
      "metadata": {
        "colab_type": "text",
        "id": "view-in-github"
      },
      "source": [
        "<a href=\"https://colab.research.google.com/gist/johnnygreco/ed5fc5fa46a46887adb1ade232da359b/physician-notes-with-non-llm-data-sources.ipynb\" target=\"_parent\"><img src=\"https://colab.research.google.com/assets/colab-badge.svg\" alt=\"Open In Colab\"/></a>"
      ]
    },
    {
      "cell_type": "code",
      "execution_count": 5,
      "metadata": {
        "id": "i4T3aNS11Cq7"
      },
      "outputs": [],
      "source": [
        "%%capture\n",
        "# Install the latest version of Gretel client and dependencies\n",
        "%pip install -U git+https://github.com/gretelai/gretel-python-client datasets"
      ]
    },
    {
      "cell_type": "code",
      "execution_count": null,
      "metadata": {
        "id": "HJyfNQ_r1K4I"
      },
      "outputs": [],
      "source": [
        "from datasets import load_dataset\n",
        "\n",
        "from gretel_client.navigator_client import Gretel\n",
        "\n",
        "gretel = Gretel(api_key=\"prompt\", endpoint='https://api.dev.gretel.ai')"
      ]
    },
    {
      "cell_type": "markdown",
      "metadata": {
        "id": "yZCJNmXARO_4"
      },
      "source": [
        "## 🏥 Patient Notes Example"
      ]
    },
    {
      "cell_type": "code",
      "execution_count": null,
      "metadata": {
        "id": "BpDiA0cOUYLN"
      },
      "outputs": [],
      "source": [
        "# Let's use Gretel's symptom-to-diagnosis dataset to seed our workflow.\n",
        "df_seed = load_dataset(\"gretelai/symptom_to_diagnosis\")[\"train\"].to_pandas()\n",
        "df_seed = df_seed.rename(columns={\"output_text\": \"diagnosis\", \"input_text\": \"patient_summary\"})\n",
        "\n",
        "print(f\"Number of records: {len(df_seed)}\")\n",
        "\n",
        "df_seed.head()"
      ]
    },
    {
      "cell_type": "code",
      "execution_count": null,
      "metadata": {
        "id": "yilrGBGiXxDG"
      },
      "outputs": [],
      "source": [
        "aidd = gretel.data_designer.new(model_suite=\"apache-2.0\")\n",
        "\n",
        "# We use with_replacement=False, so our max num_records is 853.\n",
        "aidd.with_seed_dataset(\n",
        "    df_seed,\n",
        "    sampling_strategy=\"shuffle\",\n",
        "    with_replacement=False\n",
        ")\n",
        "\n",
        "# Create a couple random person samplers. For now, the\n",
        "# default locale has been updated to \"en_GB\", since we\n",
        "# do not yet support the PGM in streaming mode.\n",
        "aidd.with_person_samplers({\"patient_sampler\": {}, \"doctor_sampler\": {}})"
      ]
    },
    {
      "cell_type": "code",
      "execution_count": null,
      "metadata": {
        "id": "FfUiiV0URWl5"
      },
      "outputs": [],
      "source": [
        "aidd.add_column(\n",
        "    name=\"patient_id\",\n",
        "    type=\"uuid\",\n",
        "    params={\"prefix\": \"PT-\", \"short_form\": True, \"uppercase\": True},\n",
        ")\n",
        "\n",
        "aidd.add_column(\n",
        "    name=\"first_name\",\n",
        "    type=\"expression\",\n",
        "    expr=\"{{patient_sampler.first_name}}\"\n",
        ")\n",
        "\n",
        "aidd.add_column(\n",
        "    name=\"last_name\",\n",
        "    type=\"expression\",\n",
        "    expr=\"{{patient_sampler.last_name}}\"\n",
        ")\n",
        "\n",
        "\n",
        "aidd.add_column(\n",
        "    name=\"dob\",\n",
        "    type=\"expression\",\n",
        "    expr=\"{{patient_sampler.birth_date}}\"\n",
        ")\n",
        "\n",
        "\n",
        "aidd.add_column(\n",
        "    name=\"patient_email\",\n",
        "    type=\"expression\",\n",
        "    expr=\"{{patient_sampler.email_address}}\"\n",
        ")\n",
        "\n",
        "\n",
        "aidd.add_column(\n",
        "    name=\"symptom_onset_date\",\n",
        "    type=\"datetime\",\n",
        "    params={\"start\": \"2024-01-01\", \"end\": \"2024-12-31\"},\n",
        ")\n",
        "\n",
        "aidd.add_column(\n",
        "    name=\"date_of_visit\",\n",
        "    type=\"timedelta\",\n",
        "    params={\n",
        "        \"dt_min\": 1,\n",
        "        \"dt_max\": 30,\n",
        "        \"reference_column_name\": \"symptom_onset_date\"\n",
        "    },\n",
        ")\n",
        "\n",
        "aidd.add_column(\n",
        "    name=\"physician\",\n",
        "    type=\"expression\",\n",
        "    expr=\"Dr. {{doctor_sampler.first_name}} {{doctor_sampler.last_name}}\",\n",
        ")\n",
        "\n",
        "\n",
        "# Note we have access to the seed data fields.\n",
        "aidd.add_column(\n",
        "    name=\"physician_notes\",\n",
        "    type=\"llm-gen\",\n",
        "    prompt=\"\"\"\\\n",
        "<context>\n",
        "You are a primary-care physician who just had an appointment with {{first_name}} {{last_name}},\n",
        "who has been struggling with symptoms from {{diagnosis}} since {{symptom_onset_date}}.\n",
        "The date of today's visit is {{date_of_visit}}.\n",
        "</context>\n",
        "\n",
        "<patient_summary_of_symptoms>\n",
        "{{patient_summary}}\n",
        "</patient_summary_of_symptoms>\n",
        "\n",
        "<task>\n",
        "Write careful notes about your visit with {{first_name}},\n",
        "as {{physician}}.\n",
        "\n",
        "Format the notes as a busy doctor might.\n",
        "</task>\n",
        "\"\"\"\n",
        " )"
      ]
    },
    {
      "cell_type": "code",
      "execution_count": null,
      "metadata": {
        "id": "OP75CDMWRjBz"
      },
      "outputs": [],
      "source": [
        "preview = aidd.preview(verbose_logging=True)"
      ]
    },
    {
      "cell_type": "code",
      "execution_count": null,
      "metadata": {
        "id": "w0F53a0lVpc8"
      },
      "outputs": [],
      "source": [
        "preview.display_sample_record()"
      ]
    },
    {
      "cell_type": "code",
      "execution_count": null,
      "metadata": {
        "id": "kzVhlYsjWCj4"
      },
      "outputs": [],
      "source": [
        "# The full dataset includes the seed data as columns.\n",
        "preview.dataset.df"
      ]
    },
    {
      "cell_type": "code",
      "execution_count": null,
      "metadata": {
        "id": "N3gMVbhgYNLn"
      },
      "outputs": [],
      "source": [
        "# workflow_run = aidd.create(\n",
        "#     num_records=100,\n",
        "#     workflow_run_name=\"physician_notes\",\n",
        "#     wait_for_completion=True\n",
        "# )"
      ]
    }
  ],
  "metadata": {
    "colab": {
      "authorship_tag": "ABX9TyOcgvcQQKha1iI9rDekBBIg",
      "include_colab_link": true,
      "provenance": []
    },
    "kernelspec": {
      "display_name": "base_env",
      "language": "python",
      "name": "python3"
    },
    "language_info": {
      "codemirror_mode": {
        "name": "ipython",
        "version": 3
      },
      "file_extension": ".py",
      "mimetype": "text/x-python",
      "name": "python",
      "nbconvert_exporter": "python",
      "pygments_lexer": "ipython3",
      "version": "3.12.9"
    }
  },
  "nbformat": 4,
  "nbformat_minor": 0
}
