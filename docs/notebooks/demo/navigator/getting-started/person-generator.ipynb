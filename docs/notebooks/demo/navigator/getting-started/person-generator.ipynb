{
  "cells": [
    {
      "cell_type": "markdown",
      "metadata": {
        "colab_type": "text",
        "id": "view-in-github"
      },
      "source": [
        "<a href=\"https://colab.research.google.com/gist/johnnygreco/ed5fc5fa46a46887adb1ade232da359b/physician-notes-with-non-llm-data-sources.ipynb\" target=\"_parent\"><img src=\"https://colab.research.google.com/assets/colab-badge.svg\" alt=\"Open In Colab\"/></a>"
      ]
    },
    {
      "cell_type": "code",
      "execution_count": 5,
      "metadata": {
        "id": "i4T3aNS11Cq7"
      },
      "outputs": [],
      "source": [
        "%%capture\n",
        "# Install the latest version of Gretel client and dependencies\n",
        "%pip install -U git+https://github.com/gretelai/gretel-python-client networkx datasets"
      ]
    },
    {
      "cell_type": "code",
      "execution_count": 7,
      "metadata": {
        "id": "HJyfNQ_r1K4I"
      },
      "outputs": [
        {
          "name": "stdout",
          "output_type": "stream",
          "text": [
            "Found cached Gretel credentials\n",
            "Logged in as kirit.thadaka@gretel.ai ✅\n",
            "Gretel client configured to use project: proj_2uY0cfM0kjiegpyEZvCHNKZYxGf\n"
          ]
        }
      ],
      "source": [
        "from datasets import load_dataset\n",
        "\n",
        "from gretel_client.navigator_client import Gretel\n",
        "\n",
        "gretel = Gretel(api_key=\"prompt\", endpoint='https://api.dev.gretel.ai')"
      ]
    },
    {
      "cell_type": "markdown",
      "metadata": {
        "id": "yZCJNmXARO_4"
      },
      "source": [
        "## 🏥 Patient Notes Example"
      ]
    },
    {
      "cell_type": "code",
      "execution_count": 8,
      "metadata": {
        "id": "BpDiA0cOUYLN"
      },
      "outputs": [
        {
          "name": "stdout",
          "output_type": "stream",
          "text": [
            "Number of records: 853\n"
          ]
        },
        {
          "data": {
            "text/html": [
              "<div>\n",
              "<style scoped>\n",
              "    .dataframe tbody tr th:only-of-type {\n",
              "        vertical-align: middle;\n",
              "    }\n",
              "\n",
              "    .dataframe tbody tr th {\n",
              "        vertical-align: top;\n",
              "    }\n",
              "\n",
              "    .dataframe thead th {\n",
              "        text-align: right;\n",
              "    }\n",
              "</style>\n",
              "<table border=\"1\" class=\"dataframe\">\n",
              "  <thead>\n",
              "    <tr style=\"text-align: right;\">\n",
              "      <th></th>\n",
              "      <th>diagnosis</th>\n",
              "      <th>patient_summary</th>\n",
              "    </tr>\n",
              "  </thead>\n",
              "  <tbody>\n",
              "    <tr>\n",
              "      <th>0</th>\n",
              "      <td>cervical spondylosis</td>\n",
              "      <td>I've been having a lot of pain in my neck and ...</td>\n",
              "    </tr>\n",
              "    <tr>\n",
              "      <th>1</th>\n",
              "      <td>impetigo</td>\n",
              "      <td>I have a rash on my face that is getting worse...</td>\n",
              "    </tr>\n",
              "    <tr>\n",
              "      <th>2</th>\n",
              "      <td>urinary tract infection</td>\n",
              "      <td>I have been urinating blood. I sometimes feel ...</td>\n",
              "    </tr>\n",
              "    <tr>\n",
              "      <th>3</th>\n",
              "      <td>arthritis</td>\n",
              "      <td>I have been having trouble with my muscles and...</td>\n",
              "    </tr>\n",
              "    <tr>\n",
              "      <th>4</th>\n",
              "      <td>dengue</td>\n",
              "      <td>I have been feeling really sick. My body hurts...</td>\n",
              "    </tr>\n",
              "  </tbody>\n",
              "</table>\n",
              "</div>"
            ],
            "text/plain": [
              "                 diagnosis                                    patient_summary\n",
              "0     cervical spondylosis  I've been having a lot of pain in my neck and ...\n",
              "1                 impetigo  I have a rash on my face that is getting worse...\n",
              "2  urinary tract infection  I have been urinating blood. I sometimes feel ...\n",
              "3                arthritis  I have been having trouble with my muscles and...\n",
              "4                   dengue  I have been feeling really sick. My body hurts..."
            ]
          },
          "execution_count": 8,
          "metadata": {},
          "output_type": "execute_result"
        }
      ],
      "source": [
        "# Let's use Gretel's symptom-to-diagnosis dataset to seed our workflow.\n",
        "df_seed = load_dataset(\"gretelai/symptom_to_diagnosis\")[\"train\"].to_pandas()\n",
        "df_seed = df_seed.rename(columns={\"output_text\": \"diagnosis\", \"input_text\": \"patient_summary\"})\n",
        "\n",
        "print(f\"Number of records: {len(df_seed)}\")\n",
        "\n",
        "df_seed.head()"
      ]
    },
    {
      "cell_type": "code",
      "execution_count": 9,
      "metadata": {
        "id": "yilrGBGiXxDG"
      },
      "outputs": [
        {
          "name": "stdout",
          "output_type": "stream",
          "text": [
            "[19:07:18] [INFO] 🌱 Using seed dataset with file ID: file_7dc363b601dd4e52ad04d033a19418f4\n"
          ]
        },
        {
          "data": {
            "text/html": [
              "<meta charset=\"UTF-8\"><style>pre { line-height: 125%; }\n",
              "td.linenos .normal { color: #D8DEE9; background-color: #242933; padding-left: 5px; padding-right: 5px; }\n",
              "span.linenos { color: #D8DEE9; background-color: #242933; padding-left: 5px; padding-right: 5px; }\n",
              "td.linenos .special { color: #242933; background-color: #D8DEE9; padding-left: 5px; padding-right: 5px; }\n",
              "span.linenos.special { color: #242933; background-color: #D8DEE9; padding-left: 5px; padding-right: 5px; }\n",
              ".code .hll { background-color: #3B4252 }\n",
              ".code { background: #2E3440; color: #D8DEE9 }\n",
              ".code .c { color: #616E87; font-style: italic } /* Comment */\n",
              ".code .err { color: #BF616A } /* Error */\n",
              ".code .esc { color: #D8DEE9 } /* Escape */\n",
              ".code .g { color: #D8DEE9 } /* Generic */\n",
              ".code .k { color: #81A1C1; font-weight: bold } /* Keyword */\n",
              ".code .l { color: #D8DEE9 } /* Literal */\n",
              ".code .n { color: #D8DEE9 } /* Name */\n",
              ".code .o { color: #81A1C1; font-weight: bold } /* Operator */\n",
              ".code .x { color: #D8DEE9 } /* Other */\n",
              ".code .p { color: #ECEFF4 } /* Punctuation */\n",
              ".code .ch { color: #616E87; font-style: italic } /* Comment.Hashbang */\n",
              ".code .cm { color: #616E87; font-style: italic } /* Comment.Multiline */\n",
              ".code .cp { color: #5E81AC; font-style: italic } /* Comment.Preproc */\n",
              ".code .cpf { color: #616E87; font-style: italic } /* Comment.PreprocFile */\n",
              ".code .c1 { color: #616E87; font-style: italic } /* Comment.Single */\n",
              ".code .cs { color: #616E87; font-style: italic } /* Comment.Special */\n",
              ".code .gd { color: #BF616A } /* Generic.Deleted */\n",
              ".code .ge { color: #D8DEE9; font-style: italic } /* Generic.Emph */\n",
              ".code .ges { color: #D8DEE9; font-weight: bold; font-style: italic } /* Generic.EmphStrong */\n",
              ".code .gr { color: #BF616A } /* Generic.Error */\n",
              ".code .gh { color: #88C0D0; font-weight: bold } /* Generic.Heading */\n",
              ".code .gi { color: #A3BE8C } /* Generic.Inserted */\n",
              ".code .go { color: #D8DEE9 } /* Generic.Output */\n",
              ".code .gp { color: #616E88; font-weight: bold } /* Generic.Prompt */\n",
              ".code .gs { color: #D8DEE9; font-weight: bold } /* Generic.Strong */\n",
              ".code .gu { color: #88C0D0; font-weight: bold } /* Generic.Subheading */\n",
              ".code .gt { color: #BF616A } /* Generic.Traceback */\n",
              ".code .kc { color: #81A1C1; font-weight: bold } /* Keyword.Constant */\n",
              ".code .kd { color: #81A1C1; font-weight: bold } /* Keyword.Declaration */\n",
              ".code .kn { color: #81A1C1; font-weight: bold } /* Keyword.Namespace */\n",
              ".code .kp { color: #81A1C1 } /* Keyword.Pseudo */\n",
              ".code .kr { color: #81A1C1; font-weight: bold } /* Keyword.Reserved */\n",
              ".code .kt { color: #81A1C1 } /* Keyword.Type */\n",
              ".code .ld { color: #D8DEE9 } /* Literal.Date */\n",
              ".code .m { color: #B48EAD } /* Literal.Number */\n",
              ".code .s { color: #A3BE8C } /* Literal.String */\n",
              ".code .na { color: #8FBCBB } /* Name.Attribute */\n",
              ".code .nb { color: #81A1C1 } /* Name.Builtin */\n",
              ".code .nc { color: #8FBCBB } /* Name.Class */\n",
              ".code .no { color: #8FBCBB } /* Name.Constant */\n",
              ".code .nd { color: #D08770 } /* Name.Decorator */\n",
              ".code .ni { color: #D08770 } /* Name.Entity */\n",
              ".code .ne { color: #BF616A } /* Name.Exception */\n",
              ".code .nf { color: #88C0D0 } /* Name.Function */\n",
              ".code .nl { color: #D8DEE9 } /* Name.Label */\n",
              ".code .nn { color: #8FBCBB } /* Name.Namespace */\n",
              ".code .nx { color: #D8DEE9 } /* Name.Other */\n",
              ".code .py { color: #D8DEE9 } /* Name.Property */\n",
              ".code .nt { color: #81A1C1 } /* Name.Tag */\n",
              ".code .nv { color: #D8DEE9 } /* Name.Variable */\n",
              ".code .ow { color: #81A1C1; font-weight: bold } /* Operator.Word */\n",
              ".code .pm { color: #ECEFF4 } /* Punctuation.Marker */\n",
              ".code .w { color: #D8DEE9 } /* Text.Whitespace */\n",
              ".code .mb { color: #B48EAD } /* Literal.Number.Bin */\n",
              ".code .mf { color: #B48EAD } /* Literal.Number.Float */\n",
              ".code .mh { color: #B48EAD } /* Literal.Number.Hex */\n",
              ".code .mi { color: #B48EAD } /* Literal.Number.Integer */\n",
              ".code .mo { color: #B48EAD } /* Literal.Number.Oct */\n",
              ".code .sa { color: #A3BE8C } /* Literal.String.Affix */\n",
              ".code .sb { color: #A3BE8C } /* Literal.String.Backtick */\n",
              ".code .sc { color: #A3BE8C } /* Literal.String.Char */\n",
              ".code .dl { color: #A3BE8C } /* Literal.String.Delimiter */\n",
              ".code .sd { color: #616E87 } /* Literal.String.Doc */\n",
              ".code .s2 { color: #A3BE8C } /* Literal.String.Double */\n",
              ".code .se { color: #EBCB8B } /* Literal.String.Escape */\n",
              ".code .sh { color: #A3BE8C } /* Literal.String.Heredoc */\n",
              ".code .si { color: #A3BE8C } /* Literal.String.Interpol */\n",
              ".code .sx { color: #A3BE8C } /* Literal.String.Other */\n",
              ".code .sr { color: #EBCB8B } /* Literal.String.Regex */\n",
              ".code .s1 { color: #A3BE8C } /* Literal.String.Single */\n",
              ".code .ss { color: #A3BE8C } /* Literal.String.Symbol */\n",
              ".code .bp { color: #81A1C1 } /* Name.Builtin.Pseudo */\n",
              ".code .fm { color: #88C0D0 } /* Name.Function.Magic */\n",
              ".code .vc { color: #D8DEE9 } /* Name.Variable.Class */\n",
              ".code .vg { color: #D8DEE9 } /* Name.Variable.Global */\n",
              ".code .vi { color: #D8DEE9 } /* Name.Variable.Instance */\n",
              ".code .vm { color: #D8DEE9 } /* Name.Variable.Magic */\n",
              ".code .il { color: #B48EAD } /* Literal.Number.Integer.Long */</style><div class='code' style='padding: 5px;background-color: #2F343F;border: 1px solid grey;border-radius: 5px;display:inline-block;'><div class=\"code\"><pre><span></span><span class=\"n\">DataDesigner</span><span class=\"p\">(</span>\n",
              "    <span class=\"n\">model_suite</span><span class=\"p\">:</span> <span class=\"n\">apache</span><span class=\"o\">-</span><span class=\"mf\">2.0</span>\n",
              "    <span class=\"n\">person_samplers</span><span class=\"p\">:</span> <span class=\"p\">[</span><span class=\"s1\">&#39;patient_sampler&#39;</span><span class=\"p\">,</span> <span class=\"s1\">&#39;doctor_sampler&#39;</span><span class=\"p\">]</span>\n",
              "    <span class=\"n\">seed_dataset</span><span class=\"p\">:</span> <span class=\"n\">file_7dc363b601dd4e52ad04d033a19418f4</span>\n",
              "    <span class=\"n\">seed_columns</span><span class=\"p\">:</span> <span class=\"p\">[</span><span class=\"s1\">&#39;diagnosis&#39;</span><span class=\"p\">,</span> <span class=\"s1\">&#39;patient_summary&#39;</span><span class=\"p\">]</span>\n",
              "<span class=\"p\">)</span>\n",
              "</pre></div>\n",
              "</div>"
            ],
            "text/plain": [
              "DataDesigner(\n",
              "    model_suite: apache-2.0\n",
              "    person_samplers: ['patient_sampler', 'doctor_sampler']\n",
              "    seed_dataset: file_7dc363b601dd4e52ad04d033a19418f4\n",
              "    seed_columns: ['diagnosis', 'patient_summary']\n",
              ")"
            ]
          },
          "execution_count": 9,
          "metadata": {},
          "output_type": "execute_result"
        }
      ],
      "source": [
        "aidd = gretel.data_designer.new(model_suite=\"apache-2.0\")\n",
        "\n",
        "# We use with_replacement=False, so our max num_records is 853.\n",
        "aidd.with_seed_dataset(\n",
        "    df_seed,\n",
        "    sampling_strategy=\"shuffle\",\n",
        "    with_replacement=False\n",
        ")\n",
        "\n",
        "# Create a couple random person samplers. For now, the\n",
        "# default locale has been updated to \"en_GB\", since we\n",
        "# do not yet support the PGM in streaming mode.\n",
        "aidd.with_person_samplers({\"patient_sampler\": {}, \"doctor_sampler\": {}})"
      ]
    },
    {
      "cell_type": "code",
      "execution_count": 13,
      "metadata": {
        "id": "FfUiiV0URWl5"
      },
      "outputs": [
        {
          "data": {
            "text/html": [
              "<meta charset=\"UTF-8\"><style>pre { line-height: 125%; }\n",
              "td.linenos .normal { color: #D8DEE9; background-color: #242933; padding-left: 5px; padding-right: 5px; }\n",
              "span.linenos { color: #D8DEE9; background-color: #242933; padding-left: 5px; padding-right: 5px; }\n",
              "td.linenos .special { color: #242933; background-color: #D8DEE9; padding-left: 5px; padding-right: 5px; }\n",
              "span.linenos.special { color: #242933; background-color: #D8DEE9; padding-left: 5px; padding-right: 5px; }\n",
              ".code .hll { background-color: #3B4252 }\n",
              ".code { background: #2E3440; color: #D8DEE9 }\n",
              ".code .c { color: #616E87; font-style: italic } /* Comment */\n",
              ".code .err { color: #BF616A } /* Error */\n",
              ".code .esc { color: #D8DEE9 } /* Escape */\n",
              ".code .g { color: #D8DEE9 } /* Generic */\n",
              ".code .k { color: #81A1C1; font-weight: bold } /* Keyword */\n",
              ".code .l { color: #D8DEE9 } /* Literal */\n",
              ".code .n { color: #D8DEE9 } /* Name */\n",
              ".code .o { color: #81A1C1; font-weight: bold } /* Operator */\n",
              ".code .x { color: #D8DEE9 } /* Other */\n",
              ".code .p { color: #ECEFF4 } /* Punctuation */\n",
              ".code .ch { color: #616E87; font-style: italic } /* Comment.Hashbang */\n",
              ".code .cm { color: #616E87; font-style: italic } /* Comment.Multiline */\n",
              ".code .cp { color: #5E81AC; font-style: italic } /* Comment.Preproc */\n",
              ".code .cpf { color: #616E87; font-style: italic } /* Comment.PreprocFile */\n",
              ".code .c1 { color: #616E87; font-style: italic } /* Comment.Single */\n",
              ".code .cs { color: #616E87; font-style: italic } /* Comment.Special */\n",
              ".code .gd { color: #BF616A } /* Generic.Deleted */\n",
              ".code .ge { color: #D8DEE9; font-style: italic } /* Generic.Emph */\n",
              ".code .ges { color: #D8DEE9; font-weight: bold; font-style: italic } /* Generic.EmphStrong */\n",
              ".code .gr { color: #BF616A } /* Generic.Error */\n",
              ".code .gh { color: #88C0D0; font-weight: bold } /* Generic.Heading */\n",
              ".code .gi { color: #A3BE8C } /* Generic.Inserted */\n",
              ".code .go { color: #D8DEE9 } /* Generic.Output */\n",
              ".code .gp { color: #616E88; font-weight: bold } /* Generic.Prompt */\n",
              ".code .gs { color: #D8DEE9; font-weight: bold } /* Generic.Strong */\n",
              ".code .gu { color: #88C0D0; font-weight: bold } /* Generic.Subheading */\n",
              ".code .gt { color: #BF616A } /* Generic.Traceback */\n",
              ".code .kc { color: #81A1C1; font-weight: bold } /* Keyword.Constant */\n",
              ".code .kd { color: #81A1C1; font-weight: bold } /* Keyword.Declaration */\n",
              ".code .kn { color: #81A1C1; font-weight: bold } /* Keyword.Namespace */\n",
              ".code .kp { color: #81A1C1 } /* Keyword.Pseudo */\n",
              ".code .kr { color: #81A1C1; font-weight: bold } /* Keyword.Reserved */\n",
              ".code .kt { color: #81A1C1 } /* Keyword.Type */\n",
              ".code .ld { color: #D8DEE9 } /* Literal.Date */\n",
              ".code .m { color: #B48EAD } /* Literal.Number */\n",
              ".code .s { color: #A3BE8C } /* Literal.String */\n",
              ".code .na { color: #8FBCBB } /* Name.Attribute */\n",
              ".code .nb { color: #81A1C1 } /* Name.Builtin */\n",
              ".code .nc { color: #8FBCBB } /* Name.Class */\n",
              ".code .no { color: #8FBCBB } /* Name.Constant */\n",
              ".code .nd { color: #D08770 } /* Name.Decorator */\n",
              ".code .ni { color: #D08770 } /* Name.Entity */\n",
              ".code .ne { color: #BF616A } /* Name.Exception */\n",
              ".code .nf { color: #88C0D0 } /* Name.Function */\n",
              ".code .nl { color: #D8DEE9 } /* Name.Label */\n",
              ".code .nn { color: #8FBCBB } /* Name.Namespace */\n",
              ".code .nx { color: #D8DEE9 } /* Name.Other */\n",
              ".code .py { color: #D8DEE9 } /* Name.Property */\n",
              ".code .nt { color: #81A1C1 } /* Name.Tag */\n",
              ".code .nv { color: #D8DEE9 } /* Name.Variable */\n",
              ".code .ow { color: #81A1C1; font-weight: bold } /* Operator.Word */\n",
              ".code .pm { color: #ECEFF4 } /* Punctuation.Marker */\n",
              ".code .w { color: #D8DEE9 } /* Text.Whitespace */\n",
              ".code .mb { color: #B48EAD } /* Literal.Number.Bin */\n",
              ".code .mf { color: #B48EAD } /* Literal.Number.Float */\n",
              ".code .mh { color: #B48EAD } /* Literal.Number.Hex */\n",
              ".code .mi { color: #B48EAD } /* Literal.Number.Integer */\n",
              ".code .mo { color: #B48EAD } /* Literal.Number.Oct */\n",
              ".code .sa { color: #A3BE8C } /* Literal.String.Affix */\n",
              ".code .sb { color: #A3BE8C } /* Literal.String.Backtick */\n",
              ".code .sc { color: #A3BE8C } /* Literal.String.Char */\n",
              ".code .dl { color: #A3BE8C } /* Literal.String.Delimiter */\n",
              ".code .sd { color: #616E87 } /* Literal.String.Doc */\n",
              ".code .s2 { color: #A3BE8C } /* Literal.String.Double */\n",
              ".code .se { color: #EBCB8B } /* Literal.String.Escape */\n",
              ".code .sh { color: #A3BE8C } /* Literal.String.Heredoc */\n",
              ".code .si { color: #A3BE8C } /* Literal.String.Interpol */\n",
              ".code .sx { color: #A3BE8C } /* Literal.String.Other */\n",
              ".code .sr { color: #EBCB8B } /* Literal.String.Regex */\n",
              ".code .s1 { color: #A3BE8C } /* Literal.String.Single */\n",
              ".code .ss { color: #A3BE8C } /* Literal.String.Symbol */\n",
              ".code .bp { color: #81A1C1 } /* Name.Builtin.Pseudo */\n",
              ".code .fm { color: #88C0D0 } /* Name.Function.Magic */\n",
              ".code .vc { color: #D8DEE9 } /* Name.Variable.Class */\n",
              ".code .vg { color: #D8DEE9 } /* Name.Variable.Global */\n",
              ".code .vi { color: #D8DEE9 } /* Name.Variable.Instance */\n",
              ".code .vm { color: #D8DEE9 } /* Name.Variable.Magic */\n",
              ".code .il { color: #B48EAD } /* Literal.Number.Integer.Long */</style><div class='code' style='padding: 5px;background-color: #2F343F;border: 1px solid grey;border-radius: 5px;display:inline-block;'><div class=\"code\"><pre><span></span><span class=\"n\">DataDesigner</span><span class=\"p\">(</span>\n",
              "    <span class=\"n\">model_suite</span><span class=\"p\">:</span> <span class=\"n\">apache</span><span class=\"o\">-</span><span class=\"mf\">2.0</span>\n",
              "    <span class=\"n\">person_samplers</span><span class=\"p\">:</span> <span class=\"p\">[</span><span class=\"s1\">&#39;patient_sampler&#39;</span><span class=\"p\">,</span> <span class=\"s1\">&#39;doctor_sampler&#39;</span><span class=\"p\">]</span>\n",
              "    <span class=\"n\">seed_dataset</span><span class=\"p\">:</span> <span class=\"n\">file_7dc363b601dd4e52ad04d033a19418f4</span>\n",
              "    <span class=\"n\">seed_columns</span><span class=\"p\">:</span> <span class=\"p\">[</span><span class=\"s1\">&#39;diagnosis&#39;</span><span class=\"p\">,</span> <span class=\"s1\">&#39;patient_summary&#39;</span><span class=\"p\">]</span>\n",
              "    <span class=\"n\">sampler_columns</span><span class=\"p\">:</span> <span class=\"p\">[</span><span class=\"s1\">&#39;patient_id&#39;</span><span class=\"p\">,</span> <span class=\"s1\">&#39;symptom_onset_date&#39;</span><span class=\"p\">,</span> <span class=\"s1\">&#39;date_of_visit&#39;</span><span class=\"p\">]</span>\n",
              "    <span class=\"n\">llm_gen_columns</span><span class=\"p\">:</span> <span class=\"p\">[</span><span class=\"s1\">&#39;physician_notes&#39;</span><span class=\"p\">]</span>\n",
              "    <span class=\"n\">expression_columns</span><span class=\"p\">:</span> <span class=\"p\">[</span>\n",
              "        <span class=\"s2\">&quot;first_name&quot;</span><span class=\"p\">,</span>\n",
              "        <span class=\"s2\">&quot;last_name&quot;</span><span class=\"p\">,</span>\n",
              "        <span class=\"s2\">&quot;dob&quot;</span><span class=\"p\">,</span>\n",
              "        <span class=\"s2\">&quot;patient_email&quot;</span><span class=\"p\">,</span>\n",
              "        <span class=\"s2\">&quot;physician&quot;</span>\n",
              "    <span class=\"p\">]</span>\n",
              "<span class=\"p\">)</span>\n",
              "</pre></div>\n",
              "</div>"
            ],
            "text/plain": [
              "DataDesigner(\n",
              "    model_suite: apache-2.0\n",
              "    person_samplers: ['patient_sampler', 'doctor_sampler']\n",
              "    seed_dataset: file_7dc363b601dd4e52ad04d033a19418f4\n",
              "    seed_columns: ['diagnosis', 'patient_summary']\n",
              "    sampler_columns: ['patient_id', 'symptom_onset_date', 'date_of_visit']\n",
              "    llm_gen_columns: ['physician_notes']\n",
              "    expression_columns: [\n",
              "        \"first_name\",\n",
              "        \"last_name\",\n",
              "        \"dob\",\n",
              "        \"patient_email\",\n",
              "        \"physician\"\n",
              "    ]\n",
              ")"
            ]
          },
          "execution_count": 13,
          "metadata": {},
          "output_type": "execute_result"
        }
      ],
      "source": [
        "aidd.add_column(\n",
        "    name=\"patient_id\",\n",
        "    type=\"uuid\",\n",
        "    params={\"prefix\": \"PT-\", \"short_form\": True, \"uppercase\": True},\n",
        ")\n",
        "\n",
        "aidd.add_column(\n",
        "    name=\"first_name\",\n",
        "    type=\"expression\",\n",
        "    expr=\"{{patient_sampler.first_name}}\"\n",
        ")\n",
        "\n",
        "aidd.add_column(\n",
        "    name=\"last_name\",\n",
        "    type=\"expression\",\n",
        "    expr=\"{{patient_sampler.last_name}}\"\n",
        ")\n",
        "\n",
        "\n",
        "aidd.add_column(\n",
        "    name=\"dob\",\n",
        "    type=\"expression\",\n",
        "    expr=\"{{patient_sampler.birth_date}}\"\n",
        ")\n",
        "\n",
        "\n",
        "aidd.add_column(\n",
        "    name=\"patient_email\",\n",
        "    type=\"expression\",\n",
        "    expr=\"{{patient_sampler.email_address}}\"\n",
        ")\n",
        "\n",
        "\n",
        "aidd.add_column(\n",
        "    name=\"symptom_onset_date\",\n",
        "    type=\"datetime\",\n",
        "    params={\"start\": \"2024-01-01\", \"end\": \"2024-12-31\"},\n",
        ")\n",
        "\n",
        "aidd.add_column(\n",
        "    name=\"date_of_visit\",\n",
        "    type=\"timedelta\",\n",
        "    params={\n",
        "        \"dt_min\": 1,\n",
        "        \"dt_max\": 30,\n",
        "        \"reference_column_name\": \"symptom_onset_date\"\n",
        "    },\n",
        ")\n",
        "\n",
        "aidd.add_column(\n",
        "    name=\"physician\",\n",
        "    type=\"expression\",\n",
        "    expr=\"Dr. {{doctor_sampler.first_name}} {{doctor_sampler.last_name}}\",\n",
        ")\n",
        "\n",
        "\n",
        "# Note we have access to the seed data fields.\n",
        "aidd.add_column(\n",
        "    name=\"physician_notes\",\n",
        "    type=\"llm-gen\",\n",
        "    prompt=\"\"\"\\\n",
        "<context>\n",
        "You are a primary-care physician who just had an appointment with {{first_name}} {{last_name}},\n",
        "who has been struggling with symptoms from {{diagnosis}} since {{symptom_onset_date}}.\n",
        "The date of today's visit is {{date_of_visit}}.\n",
        "</context>\n",
        "\n",
        "<patient_summary_of_symptoms>\n",
        "{{patient_summary}}\n",
        "</patient_summary_of_symptoms>\n",
        "\n",
        "<task>\n",
        "Write careful notes about your visit with {{first_name}},\n",
        "as {{physician}}.\n",
        "\n",
        "Format the notes as a busy doctor might.\n",
        "</task>\n",
        "\"\"\"\n",
        " )"
      ]
    },
    {
      "cell_type": "code",
      "execution_count": 14,
      "metadata": {
        "id": "OP75CDMWRjBz"
      },
      "outputs": [
        {
          "name": "stdout",
          "output_type": "stream",
          "text": [
            "[19:08:34] [INFO] 🚀 Generating preview\n",
            "[19:08:35] [INFO] ⛓️ Representing generation steps as a Directed Acyclic Graph\n",
            "[19:08:35] [INFO]   |-- 🔗 `physician_notes` depends on `last_name`\n",
            "[19:08:35] [INFO]   |-- 🔗 `physician_notes` depends on `first_name`\n",
            "[19:08:35] [INFO]   |-- 🔗 `physician_notes` depends on `physician`\n",
            "[19:08:37] [INFO] 🎲 Step 1: Sample from dataset\n",
            "[19:08:38] [INFO]   |-- 🎲 Sampling 10 records from input dataset\n",
            "[19:08:39] [INFO] 🦜 Step 2: Generate columns using samplers\n",
            "[19:08:39] [INFO]   |-- 🎲 🧑‍🚀 Creating person generator\n",
            "[19:08:39] [INFO]   |-- 🎲 Using numerical samplers to generate 10 records across 5 columns\n",
            "[19:08:44] [INFO] 🔗 Step 3: Concat datasets\n",
            "[19:08:44] [INFO]   |-- (💾 + 💾) Concatenating 2 datasets\n",
            "[19:08:44] [INFO] 🦜 Step 4: Generate column from expression\n",
            "[19:08:44] [INFO]   |-- 🧩 Generating column `last_name` from expression\n",
            "[19:08:45] [INFO] 🦜 Step 5: Generate column from expression 1\n",
            "[19:08:45] [INFO]   |-- 🧩 Generating column `first_name` from expression\n",
            "[19:08:45] [INFO] 🦜 Step 6: Generate column from expression 2\n",
            "[19:08:45] [INFO]   |-- 🧩 Generating column `physician` from expression\n",
            "[19:08:46] [INFO] 🦜 Step 7: Generate column from expression 3\n",
            "[19:08:46] [INFO]   |-- 🧩 Generating column `dob` from expression\n",
            "[19:08:46] [INFO] 🦜 Step 8: Generate column from expression 4\n",
            "[19:08:46] [INFO]   |-- 🧩 Generating column `patient_email` from expression\n",
            "[19:08:47] [INFO] 🦜 Step 9: Generate column from template\n",
            "[19:08:47] [INFO]   |-- 📝 Preparing template to generate data column `physician_notes`\n",
            "[19:08:47] [INFO]   |   |-- model_alias: ModelAlias.TEXT\n",
            "[19:09:03] [INFO]   |-- Generation summary for field: physician_notes\n",
            "[19:09:03] [INFO]   |-- \tTotal inference requests: 10\n",
            "[19:09:03] [INFO]   |-- \tSuccessful requests: 10\n",
            "[19:09:03] [INFO]   |-- Model usage: [{\"model\": \"gretel/stelterlab/Mistral-Small-24B-Instruct-2501-AWQ\", \"prompt_tokens\": 1488, \"completion_tokens\": 3910, \"request_count\": 10, \"total_tokens\": 5398}]\n",
            "[19:09:04] [INFO] Step 10: Drop columns\n",
            "[19:09:04] [INFO] 🎉 Your dataset preview is ready!\n"
          ]
        }
      ],
      "source": [
        "preview = aidd.preview(verbose_logging=True)"
      ]
    },
    {
      "cell_type": "code",
      "execution_count": null,
      "metadata": {
        "id": "w0F53a0lVpc8"
      },
      "outputs": [],
      "source": [
        "preview.display_sample_record()"
      ]
    },
    {
      "cell_type": "code",
      "execution_count": null,
      "metadata": {
        "id": "kzVhlYsjWCj4"
      },
      "outputs": [],
      "source": [
        "# The full dataset includes the seed data as columns.\n",
        "preview.dataset.df"
      ]
    },
    {
      "cell_type": "code",
      "execution_count": null,
      "metadata": {
        "id": "N3gMVbhgYNLn"
      },
      "outputs": [],
      "source": [
        "# workflow_run = aidd.create(\n",
        "#     num_records=100,\n",
        "#     workflow_run_name=\"physician_notes\",\n",
        "#     wait_for_completion=True\n",
        "# )"
      ]
    }
  ],
  "metadata": {
    "colab": {
      "authorship_tag": "ABX9TyOcgvcQQKha1iI9rDekBBIg",
      "include_colab_link": true,
      "provenance": []
    },
    "kernelspec": {
      "display_name": "base_env",
      "language": "python",
      "name": "python3"
    },
    "language_info": {
      "codemirror_mode": {
        "name": "ipython",
        "version": 3
      },
      "file_extension": ".py",
      "mimetype": "text/x-python",
      "name": "python",
      "nbconvert_exporter": "python",
      "pygments_lexer": "ipython3",
      "version": "3.12.9"
    }
  },
  "nbformat": 4,
  "nbformat_minor": 0
}
