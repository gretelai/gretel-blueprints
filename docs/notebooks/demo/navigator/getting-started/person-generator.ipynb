{
  "cells": [
    {
      "cell_type": "markdown",
      "metadata": {
        "colab_type": "text",
        "id": "view-in-github"
      },
      "source": [
        "<a href=\"https://colab.research.google.com/gist/johnnygreco/ed5fc5fa46a46887adb1ade232da359b/physician-notes-with-non-llm-data-sources.ipynb\" target=\"_parent\"><img src=\"https://colab.research.google.com/assets/colab-badge.svg\" alt=\"Open In Colab\"/></a>"
      ]
    },
    {
      "cell_type": "code",
      "execution_count": 1,
      "metadata": {
        "id": "i4T3aNS11Cq7"
      },
      "outputs": [],
      "source": [
        "%%capture\n",
        "%pip install -U git+https://github.com/gretelai/gretel-python-client datasets"
      ]
    },
    {
      "cell_type": "code",
      "execution_count": 2,
      "metadata": {
        "id": "HJyfNQ_r1K4I"
      },
      "outputs": [
        {
          "name": "stdout",
          "output_type": "stream",
          "text": [
            "Found cached Gretel credentials\n",
            "Logged in as kirit.thadaka@gretel.ai ✅\n",
            "Gretel client configured to use project: proj_2uY0cfM0kjiegpyEZvCHNKZYxGf\n"
          ]
        }
      ],
      "source": [
        "from datasets import load_dataset\n",
        "\n",
        "from gretel_client.navigator_client import Gretel\n",
        "\n",
        "gretel = Gretel(api_key=\"prompt\", endpoint='https://api.dev.gretel.ai')"
      ]
    },
    {
      "cell_type": "markdown",
      "metadata": {
        "id": "yZCJNmXARO_4"
      },
      "source": [
        "## 🏥 Patient Notes Example"
      ]
    },
    {
      "cell_type": "code",
      "execution_count": 3,
      "metadata": {
        "id": "BpDiA0cOUYLN"
      },
      "outputs": [
        {
          "name": "stdout",
          "output_type": "stream",
          "text": [
            "Number of records: 853\n"
          ]
        },
        {
          "data": {
            "text/html": [
              "<div>\n",
              "<style scoped>\n",
              "    .dataframe tbody tr th:only-of-type {\n",
              "        vertical-align: middle;\n",
              "    }\n",
              "\n",
              "    .dataframe tbody tr th {\n",
              "        vertical-align: top;\n",
              "    }\n",
              "\n",
              "    .dataframe thead th {\n",
              "        text-align: right;\n",
              "    }\n",
              "</style>\n",
              "<table border=\"1\" class=\"dataframe\">\n",
              "  <thead>\n",
              "    <tr style=\"text-align: right;\">\n",
              "      <th></th>\n",
              "      <th>diagnosis</th>\n",
              "      <th>patient_summary</th>\n",
              "    </tr>\n",
              "  </thead>\n",
              "  <tbody>\n",
              "    <tr>\n",
              "      <th>0</th>\n",
              "      <td>cervical spondylosis</td>\n",
              "      <td>I've been having a lot of pain in my neck and ...</td>\n",
              "    </tr>\n",
              "    <tr>\n",
              "      <th>1</th>\n",
              "      <td>impetigo</td>\n",
              "      <td>I have a rash on my face that is getting worse...</td>\n",
              "    </tr>\n",
              "    <tr>\n",
              "      <th>2</th>\n",
              "      <td>urinary tract infection</td>\n",
              "      <td>I have been urinating blood. I sometimes feel ...</td>\n",
              "    </tr>\n",
              "    <tr>\n",
              "      <th>3</th>\n",
              "      <td>arthritis</td>\n",
              "      <td>I have been having trouble with my muscles and...</td>\n",
              "    </tr>\n",
              "    <tr>\n",
              "      <th>4</th>\n",
              "      <td>dengue</td>\n",
              "      <td>I have been feeling really sick. My body hurts...</td>\n",
              "    </tr>\n",
              "  </tbody>\n",
              "</table>\n",
              "</div>"
            ],
            "text/plain": [
              "                 diagnosis                                    patient_summary\n",
              "0     cervical spondylosis  I've been having a lot of pain in my neck and ...\n",
              "1                 impetigo  I have a rash on my face that is getting worse...\n",
              "2  urinary tract infection  I have been urinating blood. I sometimes feel ...\n",
              "3                arthritis  I have been having trouble with my muscles and...\n",
              "4                   dengue  I have been feeling really sick. My body hurts..."
            ]
          },
          "execution_count": 3,
          "metadata": {},
          "output_type": "execute_result"
        }
      ],
      "source": [
        "# Let's use Gretel's symptom-to-diagnosis dataset to seed our workflow.\n",
        "df_seed = load_dataset(\"gretelai/symptom_to_diagnosis\")[\"train\"].to_pandas()\n",
        "df_seed = df_seed.rename(columns={\"output_text\": \"diagnosis\", \"input_text\": \"patient_summary\"})\n",
        "\n",
        "print(f\"Number of records: {len(df_seed)}\")\n",
        "\n",
        "df_seed.head()"
      ]
    },
    {
      "cell_type": "code",
      "execution_count": 4,
      "metadata": {
        "id": "yilrGBGiXxDG"
      },
      "outputs": [
        {
          "name": "stdout",
          "output_type": "stream",
          "text": [
            "[09:13:08] [INFO] 🌱 Using seed dataset with file ID: file_cf29088131334a2087c4115ccb0bdf1a\n"
          ]
        },
        {
          "data": {
            "text/html": [
              "<style>pre { line-height: 125%; }\n",
              "td.linenos .normal { color: #D8DEE9; background-color: #242933; padding-left: 5px; padding-right: 5px; }\n",
              "span.linenos { color: #D8DEE9; background-color: #242933; padding-left: 5px; padding-right: 5px; }\n",
              "td.linenos .special { color: #242933; background-color: #D8DEE9; padding-left: 5px; padding-right: 5px; }\n",
              "span.linenos.special { color: #242933; background-color: #D8DEE9; padding-left: 5px; padding-right: 5px; }\n",
              ".code .hll { background-color: #3B4252 }\n",
              ".code { background: #2E3440; color: #d8dee9 }\n",
              ".code .c { color: #616e87; font-style: italic } /* Comment */\n",
              ".code .err { color: #bf616a } /* Error */\n",
              ".code .esc { color: #d8dee9 } /* Escape */\n",
              ".code .g { color: #d8dee9 } /* Generic */\n",
              ".code .k { color: #81a1c1; font-weight: bold } /* Keyword */\n",
              ".code .l { color: #d8dee9 } /* Literal */\n",
              ".code .n { color: #d8dee9 } /* Name */\n",
              ".code .o { color: #81a1c1; font-weight: bold } /* Operator */\n",
              ".code .x { color: #d8dee9 } /* Other */\n",
              ".code .p { color: #eceff4 } /* Punctuation */\n",
              ".code .ch { color: #616e87; font-style: italic } /* Comment.Hashbang */\n",
              ".code .cm { color: #616e87; font-style: italic } /* Comment.Multiline */\n",
              ".code .cp { color: #5e81ac; font-style: italic } /* Comment.Preproc */\n",
              ".code .cpf { color: #616e87; font-style: italic } /* Comment.PreprocFile */\n",
              ".code .c1 { color: #616e87; font-style: italic } /* Comment.Single */\n",
              ".code .cs { color: #616e87; font-style: italic } /* Comment.Special */\n",
              ".code .gd { color: #bf616a } /* Generic.Deleted */\n",
              ".code .ge { color: #d8dee9; font-style: italic } /* Generic.Emph */\n",
              ".code .ges { color: #d8dee9; font-weight: bold; font-style: italic } /* Generic.EmphStrong */\n",
              ".code .gr { color: #bf616a } /* Generic.Error */\n",
              ".code .gh { color: #88c0d0; font-weight: bold } /* Generic.Heading */\n",
              ".code .gi { color: #a3be8c } /* Generic.Inserted */\n",
              ".code .go { color: #d8dee9 } /* Generic.Output */\n",
              ".code .gp { color: #616e88; font-weight: bold } /* Generic.Prompt */\n",
              ".code .gs { color: #d8dee9; font-weight: bold } /* Generic.Strong */\n",
              ".code .gu { color: #88c0d0; font-weight: bold } /* Generic.Subheading */\n",
              ".code .gt { color: #bf616a } /* Generic.Traceback */\n",
              ".code .kc { color: #81a1c1; font-weight: bold } /* Keyword.Constant */\n",
              ".code .kd { color: #81a1c1; font-weight: bold } /* Keyword.Declaration */\n",
              ".code .kn { color: #81a1c1; font-weight: bold } /* Keyword.Namespace */\n",
              ".code .kp { color: #81a1c1 } /* Keyword.Pseudo */\n",
              ".code .kr { color: #81a1c1; font-weight: bold } /* Keyword.Reserved */\n",
              ".code .kt { color: #81a1c1 } /* Keyword.Type */\n",
              ".code .ld { color: #d8dee9 } /* Literal.Date */\n",
              ".code .m { color: #b48ead } /* Literal.Number */\n",
              ".code .s { color: #a3be8c } /* Literal.String */\n",
              ".code .na { color: #8fbcbb } /* Name.Attribute */\n",
              ".code .nb { color: #81a1c1 } /* Name.Builtin */\n",
              ".code .nc { color: #8fbcbb } /* Name.Class */\n",
              ".code .no { color: #8fbcbb } /* Name.Constant */\n",
              ".code .nd { color: #d08770 } /* Name.Decorator */\n",
              ".code .ni { color: #d08770 } /* Name.Entity */\n",
              ".code .ne { color: #bf616a } /* Name.Exception */\n",
              ".code .nf { color: #88c0d0 } /* Name.Function */\n",
              ".code .nl { color: #d8dee9 } /* Name.Label */\n",
              ".code .nn { color: #8fbcbb } /* Name.Namespace */\n",
              ".code .nx { color: #d8dee9 } /* Name.Other */\n",
              ".code .py { color: #d8dee9 } /* Name.Property */\n",
              ".code .nt { color: #81a1c1 } /* Name.Tag */\n",
              ".code .nv { color: #d8dee9 } /* Name.Variable */\n",
              ".code .ow { color: #81a1c1; font-weight: bold } /* Operator.Word */\n",
              ".code .pm { color: #eceff4 } /* Punctuation.Marker */\n",
              ".code .w { color: #d8dee9 } /* Text.Whitespace */\n",
              ".code .mb { color: #b48ead } /* Literal.Number.Bin */\n",
              ".code .mf { color: #b48ead } /* Literal.Number.Float */\n",
              ".code .mh { color: #b48ead } /* Literal.Number.Hex */\n",
              ".code .mi { color: #b48ead } /* Literal.Number.Integer */\n",
              ".code .mo { color: #b48ead } /* Literal.Number.Oct */\n",
              ".code .sa { color: #a3be8c } /* Literal.String.Affix */\n",
              ".code .sb { color: #a3be8c } /* Literal.String.Backtick */\n",
              ".code .sc { color: #a3be8c } /* Literal.String.Char */\n",
              ".code .dl { color: #a3be8c } /* Literal.String.Delimiter */\n",
              ".code .sd { color: #616e87 } /* Literal.String.Doc */\n",
              ".code .s2 { color: #a3be8c } /* Literal.String.Double */\n",
              ".code .se { color: #ebcb8b } /* Literal.String.Escape */\n",
              ".code .sh { color: #a3be8c } /* Literal.String.Heredoc */\n",
              ".code .si { color: #a3be8c } /* Literal.String.Interpol */\n",
              ".code .sx { color: #a3be8c } /* Literal.String.Other */\n",
              ".code .sr { color: #ebcb8b } /* Literal.String.Regex */\n",
              ".code .s1 { color: #a3be8c } /* Literal.String.Single */\n",
              ".code .ss { color: #a3be8c } /* Literal.String.Symbol */\n",
              ".code .bp { color: #81a1c1 } /* Name.Builtin.Pseudo */\n",
              ".code .fm { color: #88c0d0 } /* Name.Function.Magic */\n",
              ".code .vc { color: #d8dee9 } /* Name.Variable.Class */\n",
              ".code .vg { color: #d8dee9 } /* Name.Variable.Global */\n",
              ".code .vi { color: #d8dee9 } /* Name.Variable.Instance */\n",
              ".code .vm { color: #d8dee9 } /* Name.Variable.Magic */\n",
              ".code .il { color: #b48ead } /* Literal.Number.Integer.Long */</style><div class='code' style='padding: 5px;border: 1px solid grey;border-radius: 5px;display:inline-block;'><div class=\"code\"><pre><span></span><span class=\"n\">DataDesigner</span><span class=\"p\">(</span>\n",
              "    <span class=\"n\">model_suite</span><span class=\"p\">:</span> <span class=\"n\">apache</span><span class=\"o\">-</span><span class=\"mf\">2.0</span>\n",
              "    <span class=\"n\">seed_dataset</span><span class=\"p\">:</span> <span class=\"n\">file_cf29088131334a2087c4115ccb0bdf1a</span>\n",
              "    <span class=\"n\">person_samplers</span><span class=\"p\">:</span> <span class=\"p\">[</span><span class=\"s1\">&#39;patient_sampler&#39;</span><span class=\"p\">,</span> <span class=\"s1\">&#39;doctor_sampler&#39;</span><span class=\"p\">]</span>\n",
              "<span class=\"p\">)</span>\n",
              "</pre></div>\n",
              "</div>"
            ],
            "text/plain": [
              "DataDesigner(\n",
              "    model_suite: apache-2.0\n",
              "    seed_dataset: file_cf29088131334a2087c4115ccb0bdf1a\n",
              "    person_samplers: ['patient_sampler', 'doctor_sampler']\n",
              ")"
            ]
          },
          "execution_count": 4,
          "metadata": {},
          "output_type": "execute_result"
        }
      ],
      "source": [
        "aidd = gretel.data_designer.new(model_suite=\"apache-2.0\")\n",
        "\n",
        "# We use with_replacement=False, so our max num_records is 853.\n",
        "aidd.with_seed_dataset(\n",
        "    df_seed,\n",
        "    sampling_strategy=\"shuffle\",\n",
        "    with_replacement=False\n",
        ")\n",
        "\n",
        "# Create a couple random person samplers. For now, the\n",
        "# default locale has been updated to \"en_GB\", since we\n",
        "# do not yet support the PGM in streaming mode.\n",
        "aidd.with_person_samplers({\"patient_sampler\": {}, \"doctor_sampler\": {}})"
      ]
    },
    {
      "cell_type": "code",
      "execution_count": 5,
      "metadata": {
        "id": "FfUiiV0URWl5"
      },
      "outputs": [
        {
          "data": {
            "text/html": [
              "<style>pre { line-height: 125%; }\n",
              "td.linenos .normal { color: #D8DEE9; background-color: #242933; padding-left: 5px; padding-right: 5px; }\n",
              "span.linenos { color: #D8DEE9; background-color: #242933; padding-left: 5px; padding-right: 5px; }\n",
              "td.linenos .special { color: #242933; background-color: #D8DEE9; padding-left: 5px; padding-right: 5px; }\n",
              "span.linenos.special { color: #242933; background-color: #D8DEE9; padding-left: 5px; padding-right: 5px; }\n",
              ".code .hll { background-color: #3B4252 }\n",
              ".code { background: #2E3440; color: #d8dee9 }\n",
              ".code .c { color: #616e87; font-style: italic } /* Comment */\n",
              ".code .err { color: #bf616a } /* Error */\n",
              ".code .esc { color: #d8dee9 } /* Escape */\n",
              ".code .g { color: #d8dee9 } /* Generic */\n",
              ".code .k { color: #81a1c1; font-weight: bold } /* Keyword */\n",
              ".code .l { color: #d8dee9 } /* Literal */\n",
              ".code .n { color: #d8dee9 } /* Name */\n",
              ".code .o { color: #81a1c1; font-weight: bold } /* Operator */\n",
              ".code .x { color: #d8dee9 } /* Other */\n",
              ".code .p { color: #eceff4 } /* Punctuation */\n",
              ".code .ch { color: #616e87; font-style: italic } /* Comment.Hashbang */\n",
              ".code .cm { color: #616e87; font-style: italic } /* Comment.Multiline */\n",
              ".code .cp { color: #5e81ac; font-style: italic } /* Comment.Preproc */\n",
              ".code .cpf { color: #616e87; font-style: italic } /* Comment.PreprocFile */\n",
              ".code .c1 { color: #616e87; font-style: italic } /* Comment.Single */\n",
              ".code .cs { color: #616e87; font-style: italic } /* Comment.Special */\n",
              ".code .gd { color: #bf616a } /* Generic.Deleted */\n",
              ".code .ge { color: #d8dee9; font-style: italic } /* Generic.Emph */\n",
              ".code .ges { color: #d8dee9; font-weight: bold; font-style: italic } /* Generic.EmphStrong */\n",
              ".code .gr { color: #bf616a } /* Generic.Error */\n",
              ".code .gh { color: #88c0d0; font-weight: bold } /* Generic.Heading */\n",
              ".code .gi { color: #a3be8c } /* Generic.Inserted */\n",
              ".code .go { color: #d8dee9 } /* Generic.Output */\n",
              ".code .gp { color: #616e88; font-weight: bold } /* Generic.Prompt */\n",
              ".code .gs { color: #d8dee9; font-weight: bold } /* Generic.Strong */\n",
              ".code .gu { color: #88c0d0; font-weight: bold } /* Generic.Subheading */\n",
              ".code .gt { color: #bf616a } /* Generic.Traceback */\n",
              ".code .kc { color: #81a1c1; font-weight: bold } /* Keyword.Constant */\n",
              ".code .kd { color: #81a1c1; font-weight: bold } /* Keyword.Declaration */\n",
              ".code .kn { color: #81a1c1; font-weight: bold } /* Keyword.Namespace */\n",
              ".code .kp { color: #81a1c1 } /* Keyword.Pseudo */\n",
              ".code .kr { color: #81a1c1; font-weight: bold } /* Keyword.Reserved */\n",
              ".code .kt { color: #81a1c1 } /* Keyword.Type */\n",
              ".code .ld { color: #d8dee9 } /* Literal.Date */\n",
              ".code .m { color: #b48ead } /* Literal.Number */\n",
              ".code .s { color: #a3be8c } /* Literal.String */\n",
              ".code .na { color: #8fbcbb } /* Name.Attribute */\n",
              ".code .nb { color: #81a1c1 } /* Name.Builtin */\n",
              ".code .nc { color: #8fbcbb } /* Name.Class */\n",
              ".code .no { color: #8fbcbb } /* Name.Constant */\n",
              ".code .nd { color: #d08770 } /* Name.Decorator */\n",
              ".code .ni { color: #d08770 } /* Name.Entity */\n",
              ".code .ne { color: #bf616a } /* Name.Exception */\n",
              ".code .nf { color: #88c0d0 } /* Name.Function */\n",
              ".code .nl { color: #d8dee9 } /* Name.Label */\n",
              ".code .nn { color: #8fbcbb } /* Name.Namespace */\n",
              ".code .nx { color: #d8dee9 } /* Name.Other */\n",
              ".code .py { color: #d8dee9 } /* Name.Property */\n",
              ".code .nt { color: #81a1c1 } /* Name.Tag */\n",
              ".code .nv { color: #d8dee9 } /* Name.Variable */\n",
              ".code .ow { color: #81a1c1; font-weight: bold } /* Operator.Word */\n",
              ".code .pm { color: #eceff4 } /* Punctuation.Marker */\n",
              ".code .w { color: #d8dee9 } /* Text.Whitespace */\n",
              ".code .mb { color: #b48ead } /* Literal.Number.Bin */\n",
              ".code .mf { color: #b48ead } /* Literal.Number.Float */\n",
              ".code .mh { color: #b48ead } /* Literal.Number.Hex */\n",
              ".code .mi { color: #b48ead } /* Literal.Number.Integer */\n",
              ".code .mo { color: #b48ead } /* Literal.Number.Oct */\n",
              ".code .sa { color: #a3be8c } /* Literal.String.Affix */\n",
              ".code .sb { color: #a3be8c } /* Literal.String.Backtick */\n",
              ".code .sc { color: #a3be8c } /* Literal.String.Char */\n",
              ".code .dl { color: #a3be8c } /* Literal.String.Delimiter */\n",
              ".code .sd { color: #616e87 } /* Literal.String.Doc */\n",
              ".code .s2 { color: #a3be8c } /* Literal.String.Double */\n",
              ".code .se { color: #ebcb8b } /* Literal.String.Escape */\n",
              ".code .sh { color: #a3be8c } /* Literal.String.Heredoc */\n",
              ".code .si { color: #a3be8c } /* Literal.String.Interpol */\n",
              ".code .sx { color: #a3be8c } /* Literal.String.Other */\n",
              ".code .sr { color: #ebcb8b } /* Literal.String.Regex */\n",
              ".code .s1 { color: #a3be8c } /* Literal.String.Single */\n",
              ".code .ss { color: #a3be8c } /* Literal.String.Symbol */\n",
              ".code .bp { color: #81a1c1 } /* Name.Builtin.Pseudo */\n",
              ".code .fm { color: #88c0d0 } /* Name.Function.Magic */\n",
              ".code .vc { color: #d8dee9 } /* Name.Variable.Class */\n",
              ".code .vg { color: #d8dee9 } /* Name.Variable.Global */\n",
              ".code .vi { color: #d8dee9 } /* Name.Variable.Instance */\n",
              ".code .vm { color: #d8dee9 } /* Name.Variable.Magic */\n",
              ".code .il { color: #b48ead } /* Literal.Number.Integer.Long */</style><div class='code' style='padding: 5px;border: 1px solid grey;border-radius: 5px;display:inline-block;'><div class=\"code\"><pre><span></span><span class=\"n\">DataDesigner</span><span class=\"p\">(</span>\n",
              "    <span class=\"n\">model_suite</span><span class=\"p\">:</span> <span class=\"n\">apache</span><span class=\"o\">-</span><span class=\"mf\">2.0</span>\n",
              "    <span class=\"n\">seed_dataset</span><span class=\"p\">:</span> <span class=\"n\">file_cf29088131334a2087c4115ccb0bdf1a</span>\n",
              "    <span class=\"n\">person_samplers</span><span class=\"p\">:</span> <span class=\"p\">[</span><span class=\"s1\">&#39;patient_sampler&#39;</span><span class=\"p\">,</span> <span class=\"s1\">&#39;doctor_sampler&#39;</span><span class=\"p\">]</span>\n",
              "    <span class=\"n\">sampling_based_columns</span><span class=\"p\">:</span> <span class=\"p\">[</span>\n",
              "        <span class=\"s2\">&quot;patient_id&quot;</span><span class=\"p\">,</span>\n",
              "        <span class=\"s2\">&quot;first_name&quot;</span><span class=\"p\">,</span>\n",
              "        <span class=\"s2\">&quot;last_name&quot;</span><span class=\"p\">,</span>\n",
              "        <span class=\"s2\">&quot;dob&quot;</span><span class=\"p\">,</span>\n",
              "        <span class=\"s2\">&quot;patient_email&quot;</span><span class=\"p\">,</span>\n",
              "        <span class=\"s2\">&quot;symptom_onset_date&quot;</span><span class=\"p\">,</span>\n",
              "        <span class=\"s2\">&quot;date_of_visit&quot;</span><span class=\"p\">,</span>\n",
              "        <span class=\"s2\">&quot;physician&quot;</span>\n",
              "    <span class=\"p\">]</span>\n",
              "    <span class=\"n\">llm_based_columns</span><span class=\"p\">:</span> <span class=\"p\">[</span><span class=\"s1\">&#39;physician_notes&#39;</span><span class=\"p\">]</span>\n",
              "<span class=\"p\">)</span>\n",
              "</pre></div>\n",
              "</div>"
            ],
            "text/plain": [
              "DataDesigner(\n",
              "    model_suite: apache-2.0\n",
              "    seed_dataset: file_cf29088131334a2087c4115ccb0bdf1a\n",
              "    person_samplers: ['patient_sampler', 'doctor_sampler']\n",
              "    sampling_based_columns: [\n",
              "        \"patient_id\",\n",
              "        \"first_name\",\n",
              "        \"last_name\",\n",
              "        \"dob\",\n",
              "        \"patient_email\",\n",
              "        \"symptom_onset_date\",\n",
              "        \"date_of_visit\",\n",
              "        \"physician\"\n",
              "    ]\n",
              "    llm_based_columns: ['physician_notes']\n",
              ")"
            ]
          },
          "execution_count": 5,
          "metadata": {},
          "output_type": "execute_result"
        }
      ],
      "source": [
        "aidd.add_column(\n",
        "    name=\"patient_id\",\n",
        "    type=\"uuid\",\n",
        "    params={\"prefix\": \"PT-\", \"short_form\": True, \"uppercase\": True},\n",
        ")\n",
        "\n",
        "aidd.add_column(\n",
        "    name=\"first_name\",\n",
        "    type=\"expression\",\n",
        "    params={\"expr\": \"patient_sampler.first_name\"}\n",
        ")\n",
        "\n",
        "aidd.add_column(\n",
        "    name=\"last_name\",\n",
        "    type=\"expression\",\n",
        "    params={\"expr\": \"patient_sampler.last_name\"}\n",
        ")\n",
        "\n",
        "\n",
        "aidd.add_column(\n",
        "    name=\"dob\",\n",
        "    type=\"expression\",\n",
        "    params={\"expr\": \"patient_sampler.birth_date\"}\n",
        ")\n",
        "\n",
        "\n",
        "aidd.add_column(\n",
        "    name=\"patient_email\",\n",
        "    type=\"expression\",\n",
        "    params={\"expr\": \"patient_sampler.email_address\"}\n",
        ")\n",
        "\n",
        "\n",
        "aidd.add_column(\n",
        "    name=\"symptom_onset_date\",\n",
        "    type=\"datetime\",\n",
        "    params={\"start\": \"2024-01-01\", \"end\": \"2024-12-31\"},\n",
        ")\n",
        "\n",
        "aidd.add_column(\n",
        "    name=\"date_of_visit\",\n",
        "    type=\"timedelta\",\n",
        "    params={\n",
        "        \"dt_min\": 1,\n",
        "        \"dt_max\": 30,\n",
        "        \"reference_column_name\": \"symptom_onset_date\"\n",
        "    },\n",
        ")\n",
        "\n",
        "aidd.add_column(\n",
        "    name=\"physician\",\n",
        "    type=\"expression\",\n",
        "    params={\"expr\": \"Dr. + ' ' + doctor_sampler.first_name + ' ' + doctor_sampler.last_name\"},\n",
        ")\n",
        "\n",
        "\n",
        "# Note we have access to the seed data fields.\n",
        "aidd.add_column(\n",
        "    name=\"physician_notes\",\n",
        "    prompt=\"\"\"\\\n",
        "<context>\n",
        "You are a primary-care physician who just had an appointment with {{first_name}} {{last_name}},\n",
        "who has been struggling with symptoms from {{diagnosis}} since {{symptom_onset_date}}.\n",
        "The date of today's visit is {{date_of_visit}}.\n",
        "</context>\n",
        "\n",
        "<patient_summary_of_symptoms>\n",
        "{{patient_summary}}\n",
        "</patient_summary_of_symptoms>\n",
        "\n",
        "<task>\n",
        "Write careful notes about your visit with {{first_name}},\n",
        "as {{physician}}.\n",
        "\n",
        "Format the notes as a busy doctor might.\n",
        "</task>\n",
        "\"\"\"\n",
        " )\n",
        "\n",
        "aidd"
      ]
    },
    {
      "cell_type": "code",
      "execution_count": 6,
      "metadata": {
        "id": "OP75CDMWRjBz"
      },
      "outputs": [
        {
          "name": "stdout",
          "output_type": "stream",
          "text": [
            "[09:13:08] [INFO] 🚀 Generating preview\n",
            "Task config validation failed: task: 'generate_columns_using_samplers' step: 'generate-columns-using-samplers':\n",
            "\tfield='generate_columns_using_samplers' error_message='Unknown error'\n"
          ]
        },
        {
          "ename": "WorkflowValidationError",
          "evalue": "Task config validation failed",
          "output_type": "error",
          "traceback": [
            "\u001b[0;31m---------------------------------------------------------------------------\u001b[0m",
            "\u001b[0;31mApiException\u001b[0m                              Traceback (most recent call last)",
            "File \u001b[0;32m~/base_env/lib/python3.12/site-packages/gretel_client/workflows/builder.py:362\u001b[0m, in \u001b[0;36mWorkflowBuilder.validate_step\u001b[0;34m(self, step)\u001b[0m\n\u001b[1;32m    361\u001b[0m \u001b[38;5;28;01mtry\u001b[39;00m:\n\u001b[0;32m--> 362\u001b[0m     resp \u001b[38;5;241m=\u001b[39m \u001b[38;5;28;43mself\u001b[39;49m\u001b[38;5;241;43m.\u001b[39;49m\u001b[43m_data_api\u001b[49m\u001b[38;5;241;43m.\u001b[39;49m\u001b[43mtasks_validate_v2_workflows_tasks_validate_post\u001b[49m\u001b[43m(\u001b[49m\n\u001b[1;32m    363\u001b[0m \u001b[43m        \u001b[49m\u001b[43mTaskEnvelope\u001b[49m\u001b[43m(\u001b[49m\u001b[43mname\u001b[49m\u001b[38;5;241;43m=\u001b[39;49m\u001b[43mstep\u001b[49m\u001b[38;5;241;43m.\u001b[39;49m\u001b[43mtask\u001b[49m\u001b[43m,\u001b[49m\u001b[43m \u001b[49m\u001b[43mconfig\u001b[49m\u001b[38;5;241;43m=\u001b[39;49m\u001b[43mstep\u001b[49m\u001b[38;5;241;43m.\u001b[39;49m\u001b[43mconfig\u001b[49m\u001b[43m)\u001b[49m\n\u001b[1;32m    364\u001b[0m \u001b[43m    \u001b[49m\u001b[43m)\u001b[49m\n\u001b[1;32m    365\u001b[0m \u001b[38;5;28;01mexcept\u001b[39;00m ApiException \u001b[38;5;28;01mas\u001b[39;00m ex:\n",
            "File \u001b[0;32m~/base_env/lib/python3.12/site-packages/pydantic/_internal/_validate_call.py:38\u001b[0m, in \u001b[0;36mupdate_wrapper_attributes.<locals>.wrapper_function\u001b[0;34m(*args, **kwargs)\u001b[0m\n\u001b[1;32m     36\u001b[0m \u001b[38;5;129m@functools\u001b[39m\u001b[38;5;241m.\u001b[39mwraps(wrapped)\n\u001b[1;32m     37\u001b[0m \u001b[38;5;28;01mdef\u001b[39;00m \u001b[38;5;21mwrapper_function\u001b[39m(\u001b[38;5;241m*\u001b[39margs, \u001b[38;5;241m*\u001b[39m\u001b[38;5;241m*\u001b[39mkwargs):\n\u001b[0;32m---> 38\u001b[0m     \u001b[38;5;28;01mreturn\u001b[39;00m \u001b[43mwrapper\u001b[49m\u001b[43m(\u001b[49m\u001b[38;5;241;43m*\u001b[39;49m\u001b[43margs\u001b[49m\u001b[43m,\u001b[49m\u001b[43m \u001b[49m\u001b[38;5;241;43m*\u001b[39;49m\u001b[38;5;241;43m*\u001b[39;49m\u001b[43mkwargs\u001b[49m\u001b[43m)\u001b[49m\n",
            "File \u001b[0;32m~/base_env/lib/python3.12/site-packages/pydantic/_internal/_validate_call.py:111\u001b[0m, in \u001b[0;36mValidateCallWrapper.__call__\u001b[0;34m(self, *args, **kwargs)\u001b[0m\n\u001b[1;32m    110\u001b[0m \u001b[38;5;28;01mdef\u001b[39;00m \u001b[38;5;21m__call__\u001b[39m(\u001b[38;5;28mself\u001b[39m, \u001b[38;5;241m*\u001b[39margs: Any, \u001b[38;5;241m*\u001b[39m\u001b[38;5;241m*\u001b[39mkwargs: Any) \u001b[38;5;241m-\u001b[39m\u001b[38;5;241m>\u001b[39m Any:\n\u001b[0;32m--> 111\u001b[0m     res \u001b[38;5;241m=\u001b[39m \u001b[38;5;28;43mself\u001b[39;49m\u001b[38;5;241;43m.\u001b[39;49m\u001b[43m__pydantic_validator__\u001b[49m\u001b[38;5;241;43m.\u001b[39;49m\u001b[43mvalidate_python\u001b[49m\u001b[43m(\u001b[49m\u001b[43mpydantic_core\u001b[49m\u001b[38;5;241;43m.\u001b[39;49m\u001b[43mArgsKwargs\u001b[49m\u001b[43m(\u001b[49m\u001b[43margs\u001b[49m\u001b[43m,\u001b[49m\u001b[43m \u001b[49m\u001b[43mkwargs\u001b[49m\u001b[43m)\u001b[49m\u001b[43m)\u001b[49m\n\u001b[1;32m    112\u001b[0m     \u001b[38;5;28;01mif\u001b[39;00m \u001b[38;5;28mself\u001b[39m\u001b[38;5;241m.\u001b[39m__return_pydantic_validator__:\n",
            "File \u001b[0;32m~/base_env/lib/python3.12/site-packages/gretel_client/_api/api/default_api.py:1332\u001b[0m, in \u001b[0;36mDefaultApi.tasks_validate_v2_workflows_tasks_validate_post\u001b[0;34m(self, task_envelope, _request_timeout, _request_auth, _content_type, _headers, _host_index)\u001b[0m\n\u001b[1;32m   1331\u001b[0m response_data\u001b[38;5;241m.\u001b[39mread()\n\u001b[0;32m-> 1332\u001b[0m \u001b[38;5;28;01mreturn\u001b[39;00m \u001b[38;5;28;43mself\u001b[39;49m\u001b[38;5;241;43m.\u001b[39;49m\u001b[43mapi_client\u001b[49m\u001b[38;5;241;43m.\u001b[39;49m\u001b[43mresponse_deserialize\u001b[49m\u001b[43m(\u001b[49m\n\u001b[1;32m   1333\u001b[0m \u001b[43m    \u001b[49m\u001b[43mresponse_data\u001b[49m\u001b[38;5;241;43m=\u001b[39;49m\u001b[43mresponse_data\u001b[49m\u001b[43m,\u001b[49m\n\u001b[1;32m   1334\u001b[0m \u001b[43m    \u001b[49m\u001b[43mresponse_types_map\u001b[49m\u001b[38;5;241;43m=\u001b[39;49m\u001b[43m_response_types_map\u001b[49m\u001b[43m,\u001b[49m\n\u001b[1;32m   1335\u001b[0m \u001b[43m\u001b[49m\u001b[43m)\u001b[49m\u001b[38;5;241m.\u001b[39mdata\n",
            "File \u001b[0;32m~/base_env/lib/python3.12/site-packages/gretel_client/_api/api_client.py:318\u001b[0m, in \u001b[0;36mApiClient.response_deserialize\u001b[0;34m(self, response_data, response_types_map)\u001b[0m\n\u001b[1;32m    317\u001b[0m     \u001b[38;5;28;01mif\u001b[39;00m \u001b[38;5;129;01mnot\u001b[39;00m \u001b[38;5;241m200\u001b[39m \u001b[38;5;241m<\u001b[39m\u001b[38;5;241m=\u001b[39m response_data\u001b[38;5;241m.\u001b[39mstatus \u001b[38;5;241m<\u001b[39m\u001b[38;5;241m=\u001b[39m \u001b[38;5;241m299\u001b[39m:\n\u001b[0;32m--> 318\u001b[0m         \u001b[38;5;28;01mraise\u001b[39;00m \u001b[43mApiException\u001b[49m\u001b[38;5;241;43m.\u001b[39;49m\u001b[43mfrom_response\u001b[49m\u001b[43m(\u001b[49m\n\u001b[1;32m    319\u001b[0m \u001b[43m            \u001b[49m\u001b[43mhttp_resp\u001b[49m\u001b[38;5;241;43m=\u001b[39;49m\u001b[43mresponse_data\u001b[49m\u001b[43m,\u001b[49m\n\u001b[1;32m    320\u001b[0m \u001b[43m            \u001b[49m\u001b[43mbody\u001b[49m\u001b[38;5;241;43m=\u001b[39;49m\u001b[43mresponse_text\u001b[49m\u001b[43m,\u001b[49m\n\u001b[1;32m    321\u001b[0m \u001b[43m            \u001b[49m\u001b[43mdata\u001b[49m\u001b[38;5;241;43m=\u001b[39;49m\u001b[43mreturn_data\u001b[49m\u001b[43m,\u001b[49m\n\u001b[1;32m    322\u001b[0m \u001b[43m        \u001b[49m\u001b[43m)\u001b[49m\n\u001b[1;32m    324\u001b[0m \u001b[38;5;28;01mreturn\u001b[39;00m ApiResponse(\n\u001b[1;32m    325\u001b[0m     status_code\u001b[38;5;241m=\u001b[39mresponse_data\u001b[38;5;241m.\u001b[39mstatus,\n\u001b[1;32m    326\u001b[0m     data\u001b[38;5;241m=\u001b[39mreturn_data,\n\u001b[1;32m    327\u001b[0m     headers\u001b[38;5;241m=\u001b[39mresponse_data\u001b[38;5;241m.\u001b[39mgetheaders(),\n\u001b[1;32m    328\u001b[0m     raw_data\u001b[38;5;241m=\u001b[39mresponse_data\u001b[38;5;241m.\u001b[39mdata,\n\u001b[1;32m    329\u001b[0m )\n",
            "File \u001b[0;32m~/base_env/lib/python3.12/site-packages/gretel_client/_api/exceptions.py:158\u001b[0m, in \u001b[0;36mApiException.from_response\u001b[0;34m(cls, http_resp, body, data)\u001b[0m\n\u001b[1;32m    157\u001b[0m     \u001b[38;5;28;01mraise\u001b[39;00m ServiceException(http_resp\u001b[38;5;241m=\u001b[39mhttp_resp, body\u001b[38;5;241m=\u001b[39mbody, data\u001b[38;5;241m=\u001b[39mdata)\n\u001b[0;32m--> 158\u001b[0m \u001b[38;5;28;01mraise\u001b[39;00m ApiException(http_resp\u001b[38;5;241m=\u001b[39mhttp_resp, body\u001b[38;5;241m=\u001b[39mbody, data\u001b[38;5;241m=\u001b[39mdata)\n",
            "\u001b[0;31mApiException\u001b[0m: (422)\nReason: Unprocessable Entity\nHTTP response headers: HTTPHeaderDict({'date': 'Mon, 24 Mar 2025 16:13:08 GMT', 'server': 'uvicorn', 'content-length': '154', 'content-type': 'application/json'})\nHTTP response body: detail=None\n",
            "\nDuring handling of the above exception, another exception occurred:\n",
            "\u001b[0;31mWorkflowValidationError\u001b[0m                   Traceback (most recent call last)",
            "Cell \u001b[0;32mIn[6], line 1\u001b[0m\n\u001b[0;32m----> 1\u001b[0m preview \u001b[38;5;241m=\u001b[39m \u001b[43maidd\u001b[49m\u001b[38;5;241;43m.\u001b[39;49m\u001b[43mpreview\u001b[49m\u001b[43m(\u001b[49m\u001b[43m)\u001b[49m\n",
            "File \u001b[0;32m~/base_env/lib/python3.12/site-packages/gretel_client/data_designer/data_designer.py:195\u001b[0m, in \u001b[0;36mDataDesigner.preview\u001b[0;34m(self, verbose_logging)\u001b[0m\n\u001b[1;32m    193\u001b[0m \u001b[38;5;28;01mdef\u001b[39;00m \u001b[38;5;21mpreview\u001b[39m(\u001b[38;5;28mself\u001b[39m, verbose_logging: \u001b[38;5;28mbool\u001b[39m \u001b[38;5;241m=\u001b[39m \u001b[38;5;28;01mTrue\u001b[39;00m) \u001b[38;5;241m-\u001b[39m\u001b[38;5;241m>\u001b[39m PreviewResults:\n\u001b[1;32m    194\u001b[0m     logger\u001b[38;5;241m.\u001b[39minfo(\u001b[38;5;124m\"\u001b[39m\u001b[38;5;124m🚀 Generating preview\u001b[39m\u001b[38;5;124m\"\u001b[39m)\n\u001b[0;32m--> 195\u001b[0m     workflow \u001b[38;5;241m=\u001b[39m \u001b[38;5;28;43mself\u001b[39;49m\u001b[38;5;241;43m.\u001b[39;49m\u001b[43m_build_workflow\u001b[49m\u001b[43m(\u001b[49m\u001b[43mnum_records\u001b[49m\u001b[38;5;241;43m=\u001b[39;49m\u001b[38;5;241;43m10\u001b[39;49m\u001b[43m,\u001b[49m\u001b[43m \u001b[49m\u001b[43mverbose_logging\u001b[49m\u001b[38;5;241;43m=\u001b[39;49m\u001b[43mverbose_logging\u001b[49m\u001b[43m)\u001b[49m\n\u001b[1;32m    197\u001b[0m     preview \u001b[38;5;241m=\u001b[39m \u001b[38;5;28mself\u001b[39m\u001b[38;5;241m.\u001b[39m_capture_preview_result(\n\u001b[1;32m    198\u001b[0m         workflow, verbose_logging\u001b[38;5;241m=\u001b[39mverbose_logging\n\u001b[1;32m    199\u001b[0m     )\n\u001b[1;32m    200\u001b[0m     \u001b[38;5;28;01mif\u001b[39;00m preview\u001b[38;5;241m.\u001b[39mdataset \u001b[38;5;129;01mis\u001b[39;00m \u001b[38;5;129;01mnot\u001b[39;00m \u001b[38;5;28;01mNone\u001b[39;00m:\n",
            "File \u001b[0;32m~/base_env/lib/python3.12/site-packages/gretel_client/data_designer/data_designer.py:373\u001b[0m, in \u001b[0;36mDataDesigner._build_workflow\u001b[0;34m(self, num_records, verbose_logging)\u001b[0m\n\u001b[1;32m    363\u001b[0m \u001b[38;5;28;01mif\u001b[39;00m \u001b[38;5;28mlen\u001b[39m(\u001b[38;5;28mself\u001b[39m\u001b[38;5;241m.\u001b[39m_columns_from_sampling) \u001b[38;5;241m>\u001b[39m \u001b[38;5;241m0\u001b[39m:\n\u001b[1;32m    364\u001b[0m     columns_using_samples_step \u001b[38;5;241m=\u001b[39m (\n\u001b[1;32m    365\u001b[0m         \u001b[38;5;28mself\u001b[39m\u001b[38;5;241m.\u001b[39m_task_registry\u001b[38;5;241m.\u001b[39mGenerateColumnsUsingSamplers(\n\u001b[1;32m    366\u001b[0m             data_schema\u001b[38;5;241m=\u001b[39mDataSchema(\n\u001b[0;32m   (...)\u001b[0m\n\u001b[1;32m    371\u001b[0m         )\n\u001b[1;32m    372\u001b[0m     )\n\u001b[0;32m--> 373\u001b[0m     \u001b[43mbuilder\u001b[49m\u001b[38;5;241;43m.\u001b[39;49m\u001b[43madd_step\u001b[49m\u001b[43m(\u001b[49m\u001b[43mstep\u001b[49m\u001b[38;5;241;43m=\u001b[39;49m\u001b[43mcolumns_using_samples_step\u001b[49m\u001b[43m,\u001b[49m\u001b[43m \u001b[49m\u001b[43mstep_inputs\u001b[49m\u001b[38;5;241;43m=\u001b[39;49m\u001b[43m[\u001b[49m\u001b[43m]\u001b[49m\u001b[43m)\u001b[49m\n\u001b[1;32m    374\u001b[0m     last_step_added \u001b[38;5;241m=\u001b[39m columns_using_samples_step\n\u001b[1;32m    376\u001b[0m \u001b[38;5;28;01mif\u001b[39;00m (\n\u001b[1;32m    377\u001b[0m     sample_from_dataset_step \u001b[38;5;129;01mis\u001b[39;00m \u001b[38;5;129;01mnot\u001b[39;00m \u001b[38;5;28;01mNone\u001b[39;00m\n\u001b[1;32m    378\u001b[0m     \u001b[38;5;129;01mand\u001b[39;00m columns_using_samples_step \u001b[38;5;129;01mis\u001b[39;00m \u001b[38;5;129;01mnot\u001b[39;00m \u001b[38;5;28;01mNone\u001b[39;00m\n\u001b[1;32m    379\u001b[0m ):\n",
            "File \u001b[0;32m~/base_env/lib/python3.12/site-packages/gretel_client/workflows/builder.py:336\u001b[0m, in \u001b[0;36mWorkflowBuilder.add_step\u001b[0;34m(self, step, step_inputs, validate)\u001b[0m\n\u001b[1;32m    333\u001b[0m step \u001b[38;5;241m=\u001b[39m \u001b[38;5;28mself\u001b[39m\u001b[38;5;241m.\u001b[39m_ensure_unique_step_name(step)\n\u001b[1;32m    335\u001b[0m \u001b[38;5;28;01mif\u001b[39;00m validate:\n\u001b[0;32m--> 336\u001b[0m     \u001b[38;5;28;43mself\u001b[39;49m\u001b[38;5;241;43m.\u001b[39;49m\u001b[43mvalidate_step\u001b[49m\u001b[43m(\u001b[49m\u001b[43mstep\u001b[49m\u001b[43m)\u001b[49m\n\u001b[1;32m    338\u001b[0m \u001b[38;5;28mself\u001b[39m\u001b[38;5;241m.\u001b[39m_steps\u001b[38;5;241m.\u001b[39mappend(step)\n\u001b[1;32m    339\u001b[0m \u001b[38;5;28mself\u001b[39m\u001b[38;5;241m.\u001b[39m_step_hash_to_name_map[hash_before_transform] \u001b[38;5;241m=\u001b[39m step\u001b[38;5;241m.\u001b[39mname\n",
            "File \u001b[0;32m~/base_env/lib/python3.12/site-packages/gretel_client/workflows/builder.py:383\u001b[0m, in \u001b[0;36mWorkflowBuilder.validate_step\u001b[0;34m(self, step)\u001b[0m\n\u001b[1;32m    380\u001b[0m         \u001b[38;5;28;01mfor\u001b[39;00m violation \u001b[38;5;129;01min\u001b[39;00m field_violations:\n\u001b[1;32m    381\u001b[0m             logger\u001b[38;5;241m.\u001b[39merror(\u001b[38;5;124mf\u001b[39m\u001b[38;5;124m\"\u001b[39m\u001b[38;5;130;01m\\t\u001b[39;00m\u001b[38;5;132;01m{\u001b[39;00mviolation\u001b[38;5;132;01m}\u001b[39;00m\u001b[38;5;124m\"\u001b[39m)\n\u001b[0;32m--> 383\u001b[0m         \u001b[38;5;28;01mraise\u001b[39;00m WorkflowValidationError(body\u001b[38;5;241m.\u001b[39mget(\u001b[38;5;124m\"\u001b[39m\u001b[38;5;124mmessage\u001b[39m\u001b[38;5;124m\"\u001b[39m), field_violations)\n\u001b[1;32m    384\u001b[0m     \u001b[38;5;28;01mraise\u001b[39;00m ex\n\u001b[1;32m    386\u001b[0m \u001b[38;5;28;01mif\u001b[39;00m \u001b[38;5;129;01mnot\u001b[39;00m resp\u001b[38;5;241m.\u001b[39mvalid:\n",
            "\u001b[0;31mWorkflowValidationError\u001b[0m: Task config validation failed"
          ]
        }
      ],
      "source": [
        "preview = aidd.preview()"
      ]
    },
    {
      "cell_type": "code",
      "execution_count": null,
      "metadata": {
        "id": "w0F53a0lVpc8"
      },
      "outputs": [],
      "source": [
        "preview.display_sample_record()"
      ]
    },
    {
      "cell_type": "code",
      "execution_count": null,
      "metadata": {
        "id": "kzVhlYsjWCj4"
      },
      "outputs": [],
      "source": [
        "# The full dataset includes the seed data as columns.\n",
        "preview.dataset.df"
      ]
    },
    {
      "cell_type": "code",
      "execution_count": null,
      "metadata": {
        "id": "N3gMVbhgYNLn"
      },
      "outputs": [],
      "source": [
        "# workflow_run = aidd.create(\n",
        "#     num_records=100,\n",
        "#     workflow_run_name=\"physician_notes\",\n",
        "#     wait_for_completion=True\n",
        "# )"
      ]
    }
  ],
  "metadata": {
    "colab": {
      "authorship_tag": "ABX9TyOcgvcQQKha1iI9rDekBBIg",
      "include_colab_link": true,
      "provenance": []
    },
    "kernelspec": {
      "display_name": "base_env",
      "language": "python",
      "name": "python3"
    },
    "language_info": {
      "codemirror_mode": {
        "name": "ipython",
        "version": 3
      },
      "file_extension": ".py",
      "mimetype": "text/x-python",
      "name": "python",
      "nbconvert_exporter": "python",
      "pygments_lexer": "ipython3",
      "version": "3.12.9"
    }
  },
  "nbformat": 4,
  "nbformat_minor": 0
}
