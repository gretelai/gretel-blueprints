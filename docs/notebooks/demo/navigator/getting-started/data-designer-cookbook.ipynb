{
 "cells": [
  {
   "cell_type": "markdown",
   "id": "af525ea1",
   "metadata": {},
   "source": [
    "<a target=\"_parent\" href=\"https://colab.research.google.com/github/gretelai/gretel-blueprints/blob/main/docs/notebooks/demo/navigator/getting-started/data-designer-cookbook.ipynb\">\n",
    "  <img src=\"https://colab.research.google.com/assets/colab-badge.svg\" alt=\"Open In Colab\"/>\n",
    "</a>"
   ]
  },
  {
   "cell_type": "markdown",
   "metadata": {
    "id": "JQaZUdZe85_3"
   },
   "source": [
    "# 🎨 Navigator Data Designer SDK: Getting Started\n"
   ]
  },
  {
   "cell_type": "markdown",
   "metadata": {
    "id": "ryeGPmfkSWdB"
   },
   "source": [
    "Welcome! In this guide, we’ll walk through how to use the SDK to generate rich, diverse datasets — from designing your columns to injecting variability and logic into your data.\n",
    "\n",
    "### 🧙 Magic vs 🛠 Manual Usage\n",
    "\n",
    "This guide supports two usage styles:\n",
    "\n",
    "- **Magic Mode** 🪄  \n",
    "  Enlist the help of an LLM to automatically generate your dataset configuration. Perfect for quick starts and exploring schema ideas.\n",
    "\n",
    "- **Manual Mode** 🧩  \n",
    "  Take full control and define your configuration by hand. Ideal when you want precision and complete customization.\n",
    "\n",
    "---\n",
    "\n",
    "### 🔁 Generation Methods\n",
    "\n",
    "Our SDK supports **three flexible generation methods**:\n",
    "\n",
    "- **Sampling** 🎲  \n",
    "  Generate values using numerical or categorical distributions to generate realistic, balanced datasets.\n",
    "\n",
    "- **LLM-generated** 🤖  \n",
    "  Leverage large language models to create contextual data — such as natural language, code snippets, or structured text.\n",
    "\n",
    "- **Seeded** 🌱  \n",
    "  Provide your own seed dataset and sample from it to produce similar or derivative outputs.\n",
    "\n",
    "---\n",
    "\n",
    "### 🧠 Expression-Based Columns with Jinja\n",
    "\n",
    "For more advanced control, you can define **expression-based columns** using Jinja templating. This unlocks:\n",
    "\n",
    "- 🔀 Conditional logic (`if`, `else`, `for`)\n",
    "- 🔗 Cross-column references (`{{ column_name }}`)\n",
    "- ➕ Basic arithmetic and transformations\n",
    "\n",
    "This lets you dynamically shape values based on other columns and inject logic directly into your data schema.\n",
    "\n",
    "---\n",
    "\n",
    "Let’s dive in and start building your dataset! 💡\n"
   ]
  },
  {
   "cell_type": "markdown",
   "metadata": {
    "id": "iZoByOgI9E83"
   },
   "source": [
    "## Installation and Setup"
   ]
  },
  {
   "cell_type": "code",
   "execution_count": 1,
   "metadata": {
    "id": "D602xPNh8bFV"
   },
   "outputs": [],
   "source": [
    "%%capture\n",
    "# Install the latest version of Gretel client and dependencies\n",
    "%pip install -U gretel_client  datasets"
   ]
  },
  {
   "cell_type": "code",
   "execution_count": null,
   "metadata": {
    "colab": {
     "base_uri": "https://localhost:8080/"
    },
    "id": "ROn9MBSK88ZR",
    "outputId": "4d66b281-1af6-4cd6-af5d-ec07afc68d91"
   },
   "outputs": [],
   "source": [
    "# Import\n",
    "import time\n",
    "import pandas as pd\n",
    "\n",
    "from gretel_client.navigator_client import Gretel\n",
    "from gretel_client.data_designer import columns as C\n",
    "from gretel_client.data_designer import params as P\n",
    "\n",
    "\n",
    "## Create Gretel Client\n",
    "gretel = Gretel(\n",
    "    api_key=\"prompt\",\n",
    "    endpoint=\"https://api.dev.gretel.ai\"\n",
    ")\n",
    "\n",
    "\n",
    "model_suite=\"apache-2.0\"\n",
    "dd = gretel.data_designer.new(model_suite=model_suite) # we will be building on top of this object\n"
   ]
  },
  {
   "cell_type": "markdown",
   "metadata": {
    "id": "kednFG_u882a"
   },
   "source": [
    "# 🌱 Beginner: Kickstart with Magic + Seeded Data\n",
    "\n",
    "In this section, we’re keeping things simple and powerful. You’ll learn how to get up and running quickly by combining:\n",
    "\n",
    "- **Magic Mode** 🪄 — Let an LLM generate your dataset configuration for you, based on a few high-level inputs. (Note: Magic is still experimentatal so responses may occasionally be inaccurate)\n",
    "- **Seeded Generation** 🌾 — Provide a sample dataset, and we’ll draw from it to create new rows with similar structure and variety.\n",
    "\n",
    "This is a great way to start experimenting with the SDK while getting meaningful output fast. You don’t need to worry about crafting configs by hand just yet — we’ll guide you through using your own data and a touch of AI magic to get impressive results with minimal effort.\n",
    "\n",
    "📦 By the end of this section, you’ll have a generated dataset built from your seed data and enriched through a config designed by the LLM.\n",
    "\n",
    "Let’s dive in! 🔍\n"
   ]
  },
  {
   "cell_type": "code",
   "execution_count": null,
   "metadata": {
    "cellView": "form",
    "colab": {
     "base_uri": "https://localhost:8080/",
     "height": 1000,
     "referenced_widgets": [
      "5a956c3ce8e64b468a0e6ef00e379122",
      "ee12931e52244197b86f9e758305c95a",
      "910ef11be58e47d8bfdac24be5ec1f7c",
      "8f0191b6d9bc4aa794e6f7cfd92b3401",
      "ad8e46c2b63640339f157d62602f614c",
      "6c3e4f37b63b49daa3e8404e7a94f2a5",
      "f9f895e31c9b44ffb0217c7ef717184e",
      "fc0a07a2f3304998b7f3cc45bdb5de82"
     ]
    },
    "collapsed": true,
    "id": "vtqPivpZ_TXn",
    "outputId": "bd83597a-cd18-484c-c246-6fdaf1a19449"
   },
   "outputs": [],
   "source": [
    "# Generated using RNG with add_sampling_column function\n",
    "dd.magic.add_sampling_column(\n",
    "    name = \"patient\",\n",
    "    description = \"An american male living in San Diego\",\n",
    "    interactive=False,\n",
    "    preview=True\n",
    ")\n",
    "\n",
    "# Sampling based off of a distribution\n",
    "dd.magic.add_sampling_column(\n",
    "    name = \"bmi\",\n",
    "    description = \"body mass index of an average person\",\n",
    "    interactive=False,\n",
    "    preview=True\n",
    ")"
   ]
  },
  {
   "cell_type": "code",
   "execution_count": null,
   "metadata": {
    "colab": {
     "base_uri": "https://localhost:8080/",
     "height": 161
    },
    "id": "Y2fbkhX-9J4W",
    "outputId": "8f65cfbe-0314-4f2e-9701-6ef1703fae2e"
   },
   "outputs": [],
   "source": [
    "#Adding Seed Data\n",
    "\n",
    "# Load the seed dataset\n",
    "\n",
    "from datasets import load_dataset\n",
    "df_seed = load_dataset(\"gretelai/symptom_to_diagnosis\")[\"train\"].to_pandas()\n",
    "df_seed = df_seed.rename(columns={\"output_text\": \"diagnosis\", \"input_text\": \"patient_summary\"})\n",
    "\n",
    "print(f\"Number of records: {len(df_seed)}\")\n",
    "\n",
    "\n",
    "\n",
    "df_seed.head(n=3)"
   ]
  },
  {
   "cell_type": "code",
   "execution_count": null,
   "metadata": {
    "colab": {
     "base_uri": "https://localhost:8080/",
     "height": 151
    },
    "id": "WSVtl-9C-7je",
    "outputId": "4234ed67-b893-4029-ce00-3f1fbac79294"
   },
   "outputs": [],
   "source": [
    "# Add seed columns\n",
    "\n",
    "dd.with_seed_dataset(\n",
    "        df_seed,\n",
    "        sampling_strategy=\"shuffle\", #what are the options?\n",
    "        with_replacement=False,\n",
    "    )"
   ]
  },
  {
   "cell_type": "code",
   "execution_count": null,
   "metadata": {
    "colab": {
     "base_uri": "https://localhost:8080/",
     "height": 519
    },
    "id": "a3vkJXaoJpVj",
    "outputId": "2dd3bd40-6719-42ac-f8d9-8998005f9158"
   },
   "outputs": [],
   "source": [
    "dd.preview().dataset.df"
   ]
  },
  {
   "cell_type": "code",
   "execution_count": null,
   "metadata": {
    "colab": {
     "base_uri": "https://localhost:8080/",
     "height": 1000,
     "referenced_widgets": [
      "f627c883f2e644cc98def609a06acc36",
      "bcb414ff09fd40f887fae06461666b4a",
      "6653cf8a70fb4ed4b75da2b21ab5b37a",
      "8e600cfb42e14423853ff8184d4a0856",
      "58f16ea0b64d417797bf1a2fcbc7ef73",
      "a163caa74f3e4a339980811abdaf1b35",
      "c4b6571400294b06856f2a3a48b4a7e1",
      "84da0d9574f84303a8979c5569f45b50",
      "c62995f6f9454c2ba3c520a19ac50c60",
      "09743bbad46b4ae3bd937fcee444b9df",
      "820f16e549b74953b15f0a9e35ad0288",
      "750bfdf379a847db8f8dc218b5c37232"
     ]
    },
    "id": "f7GiH-v0KVDu",
    "outputId": "ed85c439-8909-4e69-e1f3-bcfd02a1e5d2"
   },
   "outputs": [],
   "source": [
    "# Add an LLM-generated column. This requires atleast one non-LLM generated column (either through seed or sampling)\n",
    "\n",
    "dd.magic.add_column(\n",
    "    name = \"api_response\",\n",
    "    instruction_or_description = \"An API response that updates a database with with a generated UUID and the diagnosis column\",\n",
    "    must_depend_on=[\"diagnosis\", \"patient\"],\n",
    "    interactive=False, #give feedback\n",
    "    preview=False\n",
    ")"
   ]
  },
  {
   "cell_type": "code",
   "execution_count": null,
   "metadata": {
    "colab": {
     "base_uri": "https://localhost:8080/",
     "height": 953
    },
    "id": "7Or4emwqK9Ko",
    "outputId": "3d3ee478-a06d-4143-d82b-997ac09780ff"
   },
   "outputs": [],
   "source": [
    "# # display sample record\n",
    "# dd.preview().display_sample_record()\n",
    "\n",
    "# display sample df\n",
    "dd.preview().dataset.df"
   ]
  },
  {
   "cell_type": "markdown",
   "metadata": {
    "id": "_r1h-Cdp8-vd"
   },
   "source": [
    "# 🧪 Intermediate: Manual Configuration, Sampling, Jinja & LLM Generation\n",
    "\n",
    "Now that you’ve gotten a feel for the basics, it’s time to roll up our sleeves and explore more of what the SDK can do.\n",
    "\n",
    "In this section, we’ll move beyond Magic Mode and **manually create a configuration** to define our dataset structure. Here’s what you’ll be working with:\n",
    "\n",
    "- **📊 Sampling Columns**  \n",
    "  Learn how to:\n",
    "  - Sample values from built-in or custom datasets\n",
    "  - Use statistical distributions (like normal, uniform, categorical) to shape your data\n",
    "\n",
    "- **🧠 Expression Columns with Jinja**  \n",
    "  Add powerful logic and dynamic behavior to your data by:\n",
    "  - Referencing values from other columns (`{{ other_column }}`)\n",
    "  - Using conditional logic (`if`, `else`, `for`)\n",
    "  - Performing basic arithmetic (`+`, `-`, `*`, `/`)\n",
    "\n",
    "- **🤖 LLM-Based Columns**  \n",
    "  Inject creativity and contextual intelligence by leveraging an LLM to generate column values like text, summaries, or even simple code.\n",
    "\n",
    "This section will give you the tools to build smart, expressive datasets that go beyond static values — all by hand. It’s a perfect step toward mastering the full flexibility of the SDK.\n",
    "\n",
    "Ready to get your hands dirty? 🛠 Let’s go!\n"
   ]
  },
  {
   "cell_type": "markdown",
   "metadata": {
    "id": "Zd2RSGr4wEx3"
   },
   "source": [
    "#### 👩‍🚀 Person Attributes\n",
    "\n",
    "| Field | Type | Description |\n",
    "|-------|------|-------------|\n",
    "| first_name | str | Person's first name |\n",
    "| middle_name | str \\| None | Person's middle name (optional) |\n",
    "| last_name | str | Person's last name |\n",
    "| sex | Sex | Person's sex (enum type) |\n",
    "| age | int | Person's age |\n",
    "| zipcode | str | Zipcode/Postal Code |\n",
    "| street_number | int \\| str | Street number (can be numeric or alphanumeric) |\n",
    "| street_name | str | Name of the street |\n",
    "| unit | str | Unit/apartment number |\n",
    "| city | str | City name |\n",
    "| state | str \\| None | State (US locale only) |\n",
    "| county | str \\| None | County (US locale only) |\n",
    "| country | str | Country name |\n",
    "| ethnic_background | str \\| None | Ethnic background (optional) |\n",
    "| marital_status | str \\| None | Marital status (optional) |\n",
    "| education_level | str \\| None | Education level (optional) |\n",
    "| bachelors_field | str \\| None | Field of bachelor's degree (optional) |\n",
    "| occupation | str \\| None | Occupation (optional) |\n",
    "| uuid | UUID | Unique identifier |\n",
    "| locale | str | Locale setting |\n",
    "| phone_number | PhoneNumber \\| None | Generated phone number based on location (None for age < 18) |\n",
    "| email_address | EmailStr \\| None | Generated email address (None for age < 18) |\n",
    "| birth_date | date | Calculated birth date based on age |\n",
    "| ssn | str \\| None | SSN (US locale only) |"
   ]
  },
  {
   "cell_type": "code",
   "execution_count": null,
   "metadata": {
    "colab": {
     "base_uri": "https://localhost:8080/",
     "height": 256
    },
    "id": "j9FghqvRwhNc",
    "outputId": "42770685-bce7-44ad-f60a-dd299279a4b9"
   },
   "outputs": [],
   "source": [
    "# Add in sampled columns\n",
    "dd.add_column(\n",
    "    C.SamplerColumn(\n",
    "        name=\"emergency_contact\",\n",
    "        type=P.SamplingSourceType.PERSON,\n",
    "        params=P.PersonSamplerParams(locale='en_US',\n",
    "                                     sex='Female',\n",
    "                                     city='San Diego')\n",
    "    )\n",
    ")\n",
    "\n",
    "\n",
    "# do vector weights need to sum to 1?\n",
    "# what happens if sampling category set dont match with subcategory?\n",
    "# what is scipy distribution?\n",
    "\n",
    "dd.add_column(\n",
    "    C.SamplerColumn(\n",
    "        name=\"pet_type\",\n",
    "        type=P.SamplingSourceType.CATEGORY,\n",
    "        params=P.CategorySamplerParams(values=[\"dog\", \"cat\"],\n",
    "                                       weights=[0.7, 0.3]),\n",
    "    )\n",
    ")\n",
    "\n",
    "dd.add_column(\n",
    "    C.SamplerColumn(\n",
    "        name=\"first_pet_name\",\n",
    "        type=P.SamplingSourceType.SUBCATEGORY,\n",
    "        params=P.SubcategoryParams(\n",
    "            category=\"pet_type\",\n",
    "            values={\n",
    "                \"dog\": [\"Buddy\", \"Max\", \"Charlie\", \"Cooper\", \"Daisy\", \"Lucy\"],\n",
    "                \"cat\": [\"Oliver\", \"Leo\", \"Milo\", \"Charlie\", \"Simba\", \"Luna\"],\n",
    "\n",
    "            }\n",
    "        )\n",
    "    )\n",
    ")\n",
    "\n",
    "# Sampling from a distribution (e.g. Bernoulli, binomial, poisson, etc..)\n",
    "dd.add_column(\n",
    "    C.SamplerColumn(\n",
    "        name=\"household_income\",\n",
    "        type=P.SamplingSourceType.POISSON,\n",
    "        params=P.PoissonSamplerParams(mean=100000)\n",
    "    )\n",
    ")"
   ]
  },
  {
   "cell_type": "code",
   "execution_count": null,
   "metadata": {
    "colab": {
     "base_uri": "https://localhost:8080/",
     "height": 274
    },
    "id": "uaSTzUMgytHr",
    "outputId": "9109f6ac-65a1-4b78-94d0-3f9d7fd0be01"
   },
   "outputs": [],
   "source": [
    "# Expression\n",
    "# https://documentation.bloomreach.com/engagement/docs/jinja-syntax\n",
    "\n",
    "# Referring to existing columns\n",
    "dd.add_column(\n",
    "    C.ExpressionColumn(\n",
    "        name=\"patient_full_name\",\n",
    "        expr=\"{{ patient.first_name }} {{ patient.last_name }}\"\n",
    "    )\n",
    ")\n",
    "\n",
    "# Deterministically determine outcome based on arithmetic\n",
    "dd.add_column(\n",
    "    C.ExpressionColumn(\n",
    "        name=\"net_worth\",\n",
    "        expr=\"{{ household_income - 50000}}\"\n",
    "    )\n",
    ")\n",
    "\n",
    "\n",
    "# Conditionally generate the values using expressions based on jinja templating\n",
    "dd.add_column(\n",
    "    C.ExpressionColumn(\n",
    "        name=\"number_of_children\",\n",
    "        expr=\"{% if household_income > 100000 %}{{2}}{% else %}1{% endif %}\"\n",
    "    )\n",
    ")\n"
   ]
  },
  {
   "cell_type": "code",
   "execution_count": null,
   "metadata": {
    "colab": {
     "base_uri": "https://localhost:8080/",
     "height": 2218
    },
    "id": "4xgu_GanOlp8",
    "outputId": "838f2125-8ad4-4ac4-b37e-3a568ebef76d"
   },
   "outputs": [],
   "source": [
    "dd.preview().dataset.df"
   ]
  },
  {
   "cell_type": "code",
   "execution_count": null,
   "metadata": {
    "colab": {
     "base_uri": "https://localhost:8080/",
     "height": 274
    },
    "id": "hSGkp6Yp9ANm",
    "outputId": "54f0da26-edb0-4235-c72c-e97f7e4054ac"
   },
   "outputs": [],
   "source": [
    "## Add in LLM generated Column\n",
    "\n",
    "dd.add_column(\n",
    "    C.LLMGenColumn(\n",
    "        name=\"potential_cause\",\n",
    "        type=\"llm-text\",\n",
    "        prompt=(\n",
    "            \"Write a brief backstory for how {{ patient }} got {{ diagnosis }}.\"\n",
    "            \"Ensure it is consistent with {{patient_summary}}.\"\n",
    "            \"Make it no more than 2 sentences.\"\n",
    "        ),\n",
    "    )\n",
    "\n",
    ")"
   ]
  },
  {
   "cell_type": "code",
   "execution_count": null,
   "metadata": {
    "colab": {
     "base_uri": "https://localhost:8080/",
     "height": 2897
    },
    "id": "fNTW60oR7Oiv",
    "outputId": "f3dc934b-c7ad-454b-d125-825ca1c38cc1"
   },
   "outputs": [],
   "source": [
    "dd.preview().dataset.df"
   ]
  },
  {
   "cell_type": "markdown",
   "metadata": {
    "id": "Bg4-KJgI9BmF"
   },
   "source": [
    "# 🧠 Advanced: Bringing It All Together with Complex LLM Prompts\n",
    "\n",
    "Welcome to the final section — time to go full wizard mode. 🧙‍♂️\n",
    "\n",
    "Here, we’ll combine everything you've learned so far into a **powerful, LLM-driven workflow**. Instead of manually configuring each column or relying solely on basic sampling, we’ll focus on crafting **rich, detailed prompts** that instruct the LLM to generate entire datasets with structure, logic, and nuance.\n",
    "\n",
    "In this section, you’ll:\n",
    "\n",
    "- 🧩 Bring together **Jinja expressions**, and **LLM columns** into a single cohesive config\n",
    "- ✨ Design and refine complex LLM prompts to guide dataset creation with high fidelity and variability\n",
    "- 🧠 Leverage the LLM’s contextual understanding to generate multi-column data with realistic relationships and patterns\n",
    "\n",
    "This approach is ideal when you want to prototype ideas, simulate user behavior, generate synthetic logs, or create diverse, semi-structured content at scale.\n",
    "\n",
    "By the end of this section, you’ll be able to use the SDK as a creative tool — part data engine, part storytelling assistant.\n",
    "\n",
    "Let’s take it to the next level. 🚀\n"
   ]
  },
  {
   "cell_type": "code",
   "execution_count": null,
   "metadata": {
    "colab": {
     "base_uri": "https://localhost:8080/",
     "height": 274
    },
    "id": "X0UvrV319DQY",
    "outputId": "c37d6360-a327-4fba-b3cc-fabacc504bab"
   },
   "outputs": [],
   "source": [
    "## Add in LLM generated Column\n",
    "\n",
    "dd.add_column(\n",
    "    C.LLMGenColumn(\n",
    "        name=\"outcome\",\n",
    "        type=\"llm-text\",\n",
    "        prompt=(\n",
    "            \"Write a brief outcome for what {{patient}} will result in. No more than 1 sentence.\"\n",
    "            \"{% if bmi > 25 %}\"\n",
    "            \"They will have a negative outcome unless they change their lifestyle\"\n",
    "            \"They will need the support of {{emergency_contact.first_name}}\"\n",
    "            \"{% else %}\"\n",
    "            \"They must start spending {{net_worth * 0.5}} dollars on a treatment plan.\"\n",
    "            \"{% endif %}\"\n",
    "        ),\n",
    "    )\n",
    "\n",
    ")"
   ]
  },
  {
   "cell_type": "code",
   "execution_count": null,
   "metadata": {
    "colab": {
     "base_uri": "https://localhost:8080/",
     "height": 4138
    },
    "id": "IyC8AVGZBRLU",
    "outputId": "8c9b742f-706d-4019-9d79-6ba79530a5b7"
   },
   "outputs": [],
   "source": [
    "dd.preview().dataset.df"
   ]
  }
 ],
 "metadata": {
  "colab": {
   "collapsed_sections": [
    "kednFG_u882a"
   ],
   "provenance": []
  },
  "kernelspec": {
   "display_name": "base_env",
   "language": "python",
   "name": "python3"
  },
  "language_info": {
   "codemirror_mode": {
    "name": "ipython",
    "version": 3
   },
   "file_extension": ".py",
   "mimetype": "text/x-python",
   "name": "python",
   "nbconvert_exporter": "python",
   "pygments_lexer": "ipython3",
   "version": "3.12.9"
  },
  "widgets": {
   "application/vnd.jupyter.widget-state+json": {
    "09743bbad46b4ae3bd937fcee444b9df": {
     "model_module": "@jupyter-widgets/base",
     "model_module_version": "1.2.0",
     "model_name": "LayoutModel",
     "state": {
      "_model_module": "@jupyter-widgets/base",
      "_model_module_version": "1.2.0",
      "_model_name": "LayoutModel",
      "_view_count": null,
      "_view_module": "@jupyter-widgets/base",
      "_view_module_version": "1.2.0",
      "_view_name": "LayoutView",
      "align_content": null,
      "align_items": null,
      "align_self": null,
      "border": null,
      "bottom": null,
      "display": null,
      "flex": null,
      "flex_flow": null,
      "grid_area": null,
      "grid_auto_columns": null,
      "grid_auto_flow": null,
      "grid_auto_rows": null,
      "grid_column": null,
      "grid_gap": null,
      "grid_row": null,
      "grid_template_areas": null,
      "grid_template_columns": null,
      "grid_template_rows": null,
      "height": null,
      "justify_content": null,
      "justify_items": null,
      "left": null,
      "margin": null,
      "max_height": null,
      "max_width": null,
      "min_height": null,
      "min_width": null,
      "object_fit": null,
      "object_position": null,
      "order": null,
      "overflow": null,
      "overflow_x": null,
      "overflow_y": null,
      "padding": null,
      "right": null,
      "top": null,
      "visibility": null,
      "width": null
     }
    },
    "58f16ea0b64d417797bf1a2fcbc7ef73": {
     "model_module": "@jupyter-widgets/output",
     "model_module_version": "1.0.0",
     "model_name": "OutputModel",
     "state": {
      "_dom_classes": [],
      "_model_module": "@jupyter-widgets/output",
      "_model_module_version": "1.0.0",
      "_model_name": "OutputModel",
      "_view_count": null,
      "_view_module": "@jupyter-widgets/output",
      "_view_module_version": "1.0.0",
      "_view_name": "OutputView",
      "layout": "IPY_MODEL_a163caa74f3e4a339980811abdaf1b35",
      "msg_id": "",
      "outputs": [
       {
        "data": {
         "text/html": "<pre style=\"white-space:pre;overflow-x:auto;line-height:normal;font-family:Menlo,'DejaVu Sans Mono',consolas,'Courier New',monospace\"><span style=\"color: #008000; text-decoration-color: #008000\">㊁</span> Magicking <span style=\"color: #00afff; text-decoration-color: #00afff; font-style: italic\">api_response</span>\n</pre>\n",
         "text/plain": "\u001b[32m㊁\u001b[0m Magicking \u001b[3;38;5;39mapi_response\u001b[0m\n"
        },
        "metadata": {},
        "output_type": "display_data"
       }
      ]
     }
    },
    "5a956c3ce8e64b468a0e6ef00e379122": {
     "model_module": "@jupyter-widgets/output",
     "model_module_version": "1.0.0",
     "model_name": "OutputModel",
     "state": {
      "_dom_classes": [],
      "_model_module": "@jupyter-widgets/output",
      "_model_module_version": "1.0.0",
      "_model_name": "OutputModel",
      "_view_count": null,
      "_view_module": "@jupyter-widgets/output",
      "_view_module_version": "1.0.0",
      "_view_name": "OutputView",
      "layout": "IPY_MODEL_ee12931e52244197b86f9e758305c95a",
      "msg_id": "",
      "outputs": [
       {
        "data": {
         "text/html": "<pre style=\"white-space:pre;overflow-x:auto;line-height:normal;font-family:Menlo,'DejaVu Sans Mono',consolas,'Courier New',monospace\"><span style=\"color: #008000; text-decoration-color: #008000\">㊂</span> Noodling <span style=\"color: #00afff; text-decoration-color: #00afff; font-style: italic\">patient</span>\n</pre>\n",
         "text/plain": "\u001b[32m㊂\u001b[0m Noodling \u001b[3;38;5;39mpatient\u001b[0m\n"
        },
        "metadata": {},
        "output_type": "display_data"
       }
      ]
     }
    },
    "6653cf8a70fb4ed4b75da2b21ab5b37a": {
     "model_module": "@jupyter-widgets/output",
     "model_module_version": "1.0.0",
     "model_name": "OutputModel",
     "state": {
      "_dom_classes": [],
      "_model_module": "@jupyter-widgets/output",
      "_model_module_version": "1.0.0",
      "_model_name": "OutputModel",
      "_view_count": null,
      "_view_module": "@jupyter-widgets/output",
      "_view_module_version": "1.0.0",
      "_view_name": "OutputView",
      "layout": "IPY_MODEL_8e600cfb42e14423853ff8184d4a0856",
      "msg_id": "",
      "outputs": [
       {
        "data": {
         "text/html": "<pre style=\"white-space:pre;overflow-x:auto;line-height:normal;font-family:Menlo,'DejaVu Sans Mono',consolas,'Courier New',monospace\"><span style=\"color: #008000; text-decoration-color: #008000\">㊂</span> Noodling samples of <span style=\"color: #00afff; text-decoration-color: #00afff; font-style: italic\">api_response</span>...\n</pre>\n",
         "text/plain": "\u001b[32m㊂\u001b[0m Noodling samples of \u001b[3;38;5;39mapi_response\u001b[0m...\n"
        },
        "metadata": {},
        "output_type": "display_data"
       }
      ]
     }
    },
    "6c3e4f37b63b49daa3e8404e7a94f2a5": {
     "model_module": "@jupyter-widgets/base",
     "model_module_version": "1.2.0",
     "model_name": "LayoutModel",
     "state": {
      "_model_module": "@jupyter-widgets/base",
      "_model_module_version": "1.2.0",
      "_model_name": "LayoutModel",
      "_view_count": null,
      "_view_module": "@jupyter-widgets/base",
      "_view_module_version": "1.2.0",
      "_view_name": "LayoutView",
      "align_content": null,
      "align_items": null,
      "align_self": null,
      "border": null,
      "bottom": null,
      "display": null,
      "flex": null,
      "flex_flow": null,
      "grid_area": null,
      "grid_auto_columns": null,
      "grid_auto_flow": null,
      "grid_auto_rows": null,
      "grid_column": null,
      "grid_gap": null,
      "grid_row": null,
      "grid_template_areas": null,
      "grid_template_columns": null,
      "grid_template_rows": null,
      "height": null,
      "justify_content": null,
      "justify_items": null,
      "left": null,
      "margin": null,
      "max_height": null,
      "max_width": null,
      "min_height": null,
      "min_width": null,
      "object_fit": null,
      "object_position": null,
      "order": null,
      "overflow": null,
      "overflow_x": null,
      "overflow_y": null,
      "padding": null,
      "right": null,
      "top": null,
      "visibility": null,
      "width": null
     }
    },
    "750bfdf379a847db8f8dc218b5c37232": {
     "model_module": "@jupyter-widgets/base",
     "model_module_version": "1.2.0",
     "model_name": "LayoutModel",
     "state": {
      "_model_module": "@jupyter-widgets/base",
      "_model_module_version": "1.2.0",
      "_model_name": "LayoutModel",
      "_view_count": null,
      "_view_module": "@jupyter-widgets/base",
      "_view_module_version": "1.2.0",
      "_view_name": "LayoutView",
      "align_content": null,
      "align_items": null,
      "align_self": null,
      "border": null,
      "bottom": null,
      "display": null,
      "flex": null,
      "flex_flow": null,
      "grid_area": null,
      "grid_auto_columns": null,
      "grid_auto_flow": null,
      "grid_auto_rows": null,
      "grid_column": null,
      "grid_gap": null,
      "grid_row": null,
      "grid_template_areas": null,
      "grid_template_columns": null,
      "grid_template_rows": null,
      "height": null,
      "justify_content": null,
      "justify_items": null,
      "left": null,
      "margin": null,
      "max_height": null,
      "max_width": null,
      "min_height": null,
      "min_width": null,
      "object_fit": null,
      "object_position": null,
      "order": null,
      "overflow": null,
      "overflow_x": null,
      "overflow_y": null,
      "padding": null,
      "right": null,
      "top": null,
      "visibility": null,
      "width": null
     }
    },
    "820f16e549b74953b15f0a9e35ad0288": {
     "model_module": "@jupyter-widgets/output",
     "model_module_version": "1.0.0",
     "model_name": "OutputModel",
     "state": {
      "_dom_classes": [],
      "_model_module": "@jupyter-widgets/output",
      "_model_module_version": "1.0.0",
      "_model_name": "OutputModel",
      "_view_count": null,
      "_view_module": "@jupyter-widgets/output",
      "_view_module_version": "1.0.0",
      "_view_name": "OutputView",
      "layout": "IPY_MODEL_750bfdf379a847db8f8dc218b5c37232",
      "msg_id": "",
      "outputs": [
       {
        "data": {
         "text/html": "<pre style=\"white-space:pre;overflow-x:auto;line-height:normal;font-family:Menlo,'DejaVu Sans Mono',consolas,'Courier New',monospace\"><span style=\"color: #008000; text-decoration-color: #008000\">㊁</span> Magicking samples of <span style=\"color: #00afff; text-decoration-color: #00afff; font-style: italic\">api_response</span>...\n</pre>\n",
         "text/plain": "\u001b[32m㊁\u001b[0m Magicking samples of \u001b[3;38;5;39mapi_response\u001b[0m...\n"
        },
        "metadata": {},
        "output_type": "display_data"
       }
      ]
     }
    },
    "84da0d9574f84303a8979c5569f45b50": {
     "model_module": "@jupyter-widgets/base",
     "model_module_version": "1.2.0",
     "model_name": "LayoutModel",
     "state": {
      "_model_module": "@jupyter-widgets/base",
      "_model_module_version": "1.2.0",
      "_model_name": "LayoutModel",
      "_view_count": null,
      "_view_module": "@jupyter-widgets/base",
      "_view_module_version": "1.2.0",
      "_view_name": "LayoutView",
      "align_content": null,
      "align_items": null,
      "align_self": null,
      "border": null,
      "bottom": null,
      "display": null,
      "flex": null,
      "flex_flow": null,
      "grid_area": null,
      "grid_auto_columns": null,
      "grid_auto_flow": null,
      "grid_auto_rows": null,
      "grid_column": null,
      "grid_gap": null,
      "grid_row": null,
      "grid_template_areas": null,
      "grid_template_columns": null,
      "grid_template_rows": null,
      "height": null,
      "justify_content": null,
      "justify_items": null,
      "left": null,
      "margin": null,
      "max_height": null,
      "max_width": null,
      "min_height": null,
      "min_width": null,
      "object_fit": null,
      "object_position": null,
      "order": null,
      "overflow": null,
      "overflow_x": null,
      "overflow_y": null,
      "padding": null,
      "right": null,
      "top": null,
      "visibility": null,
      "width": null
     }
    },
    "8e600cfb42e14423853ff8184d4a0856": {
     "model_module": "@jupyter-widgets/base",
     "model_module_version": "1.2.0",
     "model_name": "LayoutModel",
     "state": {
      "_model_module": "@jupyter-widgets/base",
      "_model_module_version": "1.2.0",
      "_model_name": "LayoutModel",
      "_view_count": null,
      "_view_module": "@jupyter-widgets/base",
      "_view_module_version": "1.2.0",
      "_view_name": "LayoutView",
      "align_content": null,
      "align_items": null,
      "align_self": null,
      "border": null,
      "bottom": null,
      "display": null,
      "flex": null,
      "flex_flow": null,
      "grid_area": null,
      "grid_auto_columns": null,
      "grid_auto_flow": null,
      "grid_auto_rows": null,
      "grid_column": null,
      "grid_gap": null,
      "grid_row": null,
      "grid_template_areas": null,
      "grid_template_columns": null,
      "grid_template_rows": null,
      "height": null,
      "justify_content": null,
      "justify_items": null,
      "left": null,
      "margin": null,
      "max_height": null,
      "max_width": null,
      "min_height": null,
      "min_width": null,
      "object_fit": null,
      "object_position": null,
      "order": null,
      "overflow": null,
      "overflow_x": null,
      "overflow_y": null,
      "padding": null,
      "right": null,
      "top": null,
      "visibility": null,
      "width": null
     }
    },
    "8f0191b6d9bc4aa794e6f7cfd92b3401": {
     "model_module": "@jupyter-widgets/base",
     "model_module_version": "1.2.0",
     "model_name": "LayoutModel",
     "state": {
      "_model_module": "@jupyter-widgets/base",
      "_model_module_version": "1.2.0",
      "_model_name": "LayoutModel",
      "_view_count": null,
      "_view_module": "@jupyter-widgets/base",
      "_view_module_version": "1.2.0",
      "_view_name": "LayoutView",
      "align_content": null,
      "align_items": null,
      "align_self": null,
      "border": null,
      "bottom": null,
      "display": null,
      "flex": null,
      "flex_flow": null,
      "grid_area": null,
      "grid_auto_columns": null,
      "grid_auto_flow": null,
      "grid_auto_rows": null,
      "grid_column": null,
      "grid_gap": null,
      "grid_row": null,
      "grid_template_areas": null,
      "grid_template_columns": null,
      "grid_template_rows": null,
      "height": null,
      "justify_content": null,
      "justify_items": null,
      "left": null,
      "margin": null,
      "max_height": null,
      "max_width": null,
      "min_height": null,
      "min_width": null,
      "object_fit": null,
      "object_position": null,
      "order": null,
      "overflow": null,
      "overflow_x": null,
      "overflow_y": null,
      "padding": null,
      "right": null,
      "top": null,
      "visibility": null,
      "width": null
     }
    },
    "910ef11be58e47d8bfdac24be5ec1f7c": {
     "model_module": "@jupyter-widgets/output",
     "model_module_version": "1.0.0",
     "model_name": "OutputModel",
     "state": {
      "_dom_classes": [],
      "_model_module": "@jupyter-widgets/output",
      "_model_module_version": "1.0.0",
      "_model_name": "OutputModel",
      "_view_count": null,
      "_view_module": "@jupyter-widgets/output",
      "_view_module_version": "1.0.0",
      "_view_name": "OutputView",
      "layout": "IPY_MODEL_8f0191b6d9bc4aa794e6f7cfd92b3401",
      "msg_id": "",
      "outputs": [
       {
        "data": {
         "text/html": "<pre style=\"white-space:pre;overflow-x:auto;line-height:normal;font-family:Menlo,'DejaVu Sans Mono',consolas,'Courier New',monospace\"><span style=\"color: #008000; text-decoration-color: #008000\">㊀</span> Vibing samples of <span style=\"color: #00afff; text-decoration-color: #00afff; font-style: italic\">patient</span>...\n</pre>\n",
         "text/plain": "\u001b[32m㊀\u001b[0m Vibing samples of \u001b[3;38;5;39mpatient\u001b[0m...\n"
        },
        "metadata": {},
        "output_type": "display_data"
       }
      ]
     }
    },
    "a163caa74f3e4a339980811abdaf1b35": {
     "model_module": "@jupyter-widgets/base",
     "model_module_version": "1.2.0",
     "model_name": "LayoutModel",
     "state": {
      "_model_module": "@jupyter-widgets/base",
      "_model_module_version": "1.2.0",
      "_model_name": "LayoutModel",
      "_view_count": null,
      "_view_module": "@jupyter-widgets/base",
      "_view_module_version": "1.2.0",
      "_view_name": "LayoutView",
      "align_content": null,
      "align_items": null,
      "align_self": null,
      "border": null,
      "bottom": null,
      "display": null,
      "flex": null,
      "flex_flow": null,
      "grid_area": null,
      "grid_auto_columns": null,
      "grid_auto_flow": null,
      "grid_auto_rows": null,
      "grid_column": null,
      "grid_gap": null,
      "grid_row": null,
      "grid_template_areas": null,
      "grid_template_columns": null,
      "grid_template_rows": null,
      "height": null,
      "justify_content": null,
      "justify_items": null,
      "left": null,
      "margin": null,
      "max_height": null,
      "max_width": null,
      "min_height": null,
      "min_width": null,
      "object_fit": null,
      "object_position": null,
      "order": null,
      "overflow": null,
      "overflow_x": null,
      "overflow_y": null,
      "padding": null,
      "right": null,
      "top": null,
      "visibility": null,
      "width": null
     }
    },
    "ad8e46c2b63640339f157d62602f614c": {
     "model_module": "@jupyter-widgets/output",
     "model_module_version": "1.0.0",
     "model_name": "OutputModel",
     "state": {
      "_dom_classes": [],
      "_model_module": "@jupyter-widgets/output",
      "_model_module_version": "1.0.0",
      "_model_name": "OutputModel",
      "_view_count": null,
      "_view_module": "@jupyter-widgets/output",
      "_view_module_version": "1.0.0",
      "_view_name": "OutputView",
      "layout": "IPY_MODEL_6c3e4f37b63b49daa3e8404e7a94f2a5",
      "msg_id": "",
      "outputs": [
       {
        "data": {
         "text/html": "<pre style=\"white-space:pre;overflow-x:auto;line-height:normal;font-family:Menlo,'DejaVu Sans Mono',consolas,'Courier New',monospace\"><span style=\"color: #008000; text-decoration-color: #008000\">㊀</span> Noodling <span style=\"color: #00afff; text-decoration-color: #00afff; font-style: italic\">bmi</span>\n</pre>\n",
         "text/plain": "\u001b[32m㊀\u001b[0m Noodling \u001b[3;38;5;39mbmi\u001b[0m\n"
        },
        "metadata": {},
        "output_type": "display_data"
       }
      ]
     }
    },
    "bcb414ff09fd40f887fae06461666b4a": {
     "model_module": "@jupyter-widgets/base",
     "model_module_version": "1.2.0",
     "model_name": "LayoutModel",
     "state": {
      "_model_module": "@jupyter-widgets/base",
      "_model_module_version": "1.2.0",
      "_model_name": "LayoutModel",
      "_view_count": null,
      "_view_module": "@jupyter-widgets/base",
      "_view_module_version": "1.2.0",
      "_view_name": "LayoutView",
      "align_content": null,
      "align_items": null,
      "align_self": null,
      "border": null,
      "bottom": null,
      "display": null,
      "flex": null,
      "flex_flow": null,
      "grid_area": null,
      "grid_auto_columns": null,
      "grid_auto_flow": null,
      "grid_auto_rows": null,
      "grid_column": null,
      "grid_gap": null,
      "grid_row": null,
      "grid_template_areas": null,
      "grid_template_columns": null,
      "grid_template_rows": null,
      "height": null,
      "justify_content": null,
      "justify_items": null,
      "left": null,
      "margin": null,
      "max_height": null,
      "max_width": null,
      "min_height": null,
      "min_width": null,
      "object_fit": null,
      "object_position": null,
      "order": null,
      "overflow": null,
      "overflow_x": null,
      "overflow_y": null,
      "padding": null,
      "right": null,
      "top": null,
      "visibility": null,
      "width": null
     }
    },
    "c4b6571400294b06856f2a3a48b4a7e1": {
     "model_module": "@jupyter-widgets/output",
     "model_module_version": "1.0.0",
     "model_name": "OutputModel",
     "state": {
      "_dom_classes": [],
      "_model_module": "@jupyter-widgets/output",
      "_model_module_version": "1.0.0",
      "_model_name": "OutputModel",
      "_view_count": null,
      "_view_module": "@jupyter-widgets/output",
      "_view_module_version": "1.0.0",
      "_view_name": "OutputView",
      "layout": "IPY_MODEL_84da0d9574f84303a8979c5569f45b50",
      "msg_id": "",
      "outputs": [
       {
        "data": {
         "text/html": "<pre style=\"white-space:pre;overflow-x:auto;line-height:normal;font-family:Menlo,'DejaVu Sans Mono',consolas,'Courier New',monospace\"><span style=\"color: #008000; text-decoration-color: #008000\">㊂</span> Noodling samples of <span style=\"color: #00afff; text-decoration-color: #00afff; font-style: italic\">api_response</span>...\n</pre>\n",
         "text/plain": "\u001b[32m㊂\u001b[0m Noodling samples of \u001b[3;38;5;39mapi_response\u001b[0m...\n"
        },
        "metadata": {},
        "output_type": "display_data"
       },
       {
        "name": "stdout",
        "output_type": "stream",
        "text": [
         "[20:25:38] [INFO] 🎉 Your dataset preview is ready!\n"
        ]
       }
      ]
     }
    },
    "c62995f6f9454c2ba3c520a19ac50c60": {
     "model_module": "@jupyter-widgets/output",
     "model_module_version": "1.0.0",
     "model_name": "OutputModel",
     "state": {
      "_dom_classes": [],
      "_model_module": "@jupyter-widgets/output",
      "_model_module_version": "1.0.0",
      "_model_name": "OutputModel",
      "_view_count": null,
      "_view_module": "@jupyter-widgets/output",
      "_view_module_version": "1.0.0",
      "_view_name": "OutputView",
      "layout": "IPY_MODEL_09743bbad46b4ae3bd937fcee444b9df",
      "msg_id": "",
      "outputs": [
       {
        "data": {
         "text/html": "<pre style=\"white-space:pre;overflow-x:auto;line-height:normal;font-family:Menlo,'DejaVu Sans Mono',consolas,'Courier New',monospace\"><span style=\"color: #008000; text-decoration-color: #008000\">㊂</span> Noodling <span style=\"color: #00afff; text-decoration-color: #00afff; font-style: italic\">api_response</span>\n</pre>\n",
         "text/plain": "\u001b[32m㊂\u001b[0m Noodling \u001b[3;38;5;39mapi_response\u001b[0m\n"
        },
        "metadata": {},
        "output_type": "display_data"
       }
      ]
     }
    },
    "ee12931e52244197b86f9e758305c95a": {
     "model_module": "@jupyter-widgets/base",
     "model_module_version": "1.2.0",
     "model_name": "LayoutModel",
     "state": {
      "_model_module": "@jupyter-widgets/base",
      "_model_module_version": "1.2.0",
      "_model_name": "LayoutModel",
      "_view_count": null,
      "_view_module": "@jupyter-widgets/base",
      "_view_module_version": "1.2.0",
      "_view_name": "LayoutView",
      "align_content": null,
      "align_items": null,
      "align_self": null,
      "border": null,
      "bottom": null,
      "display": null,
      "flex": null,
      "flex_flow": null,
      "grid_area": null,
      "grid_auto_columns": null,
      "grid_auto_flow": null,
      "grid_auto_rows": null,
      "grid_column": null,
      "grid_gap": null,
      "grid_row": null,
      "grid_template_areas": null,
      "grid_template_columns": null,
      "grid_template_rows": null,
      "height": null,
      "justify_content": null,
      "justify_items": null,
      "left": null,
      "margin": null,
      "max_height": null,
      "max_width": null,
      "min_height": null,
      "min_width": null,
      "object_fit": null,
      "object_position": null,
      "order": null,
      "overflow": null,
      "overflow_x": null,
      "overflow_y": null,
      "padding": null,
      "right": null,
      "top": null,
      "visibility": null,
      "width": null
     }
    },
    "f627c883f2e644cc98def609a06acc36": {
     "model_module": "@jupyter-widgets/output",
     "model_module_version": "1.0.0",
     "model_name": "OutputModel",
     "state": {
      "_dom_classes": [],
      "_model_module": "@jupyter-widgets/output",
      "_model_module_version": "1.0.0",
      "_model_name": "OutputModel",
      "_view_count": null,
      "_view_module": "@jupyter-widgets/output",
      "_view_module_version": "1.0.0",
      "_view_name": "OutputView",
      "layout": "IPY_MODEL_bcb414ff09fd40f887fae06461666b4a",
      "msg_id": "",
      "outputs": [
       {
        "data": {
         "text/html": "<pre style=\"white-space:pre;overflow-x:auto;line-height:normal;font-family:Menlo,'DejaVu Sans Mono',consolas,'Courier New',monospace\"><span style=\"color: #008000; text-decoration-color: #008000\">㊂</span> Magicking <span style=\"color: #00afff; text-decoration-color: #00afff; font-style: italic\">api_response</span>\n</pre>\n",
         "text/plain": "\u001b[32m㊂\u001b[0m Magicking \u001b[3;38;5;39mapi_response\u001b[0m\n"
        },
        "metadata": {},
        "output_type": "display_data"
       }
      ]
     }
    },
    "f9f895e31c9b44ffb0217c7ef717184e": {
     "model_module": "@jupyter-widgets/output",
     "model_module_version": "1.0.0",
     "model_name": "OutputModel",
     "state": {
      "_dom_classes": [],
      "_model_module": "@jupyter-widgets/output",
      "_model_module_version": "1.0.0",
      "_model_name": "OutputModel",
      "_view_count": null,
      "_view_module": "@jupyter-widgets/output",
      "_view_module_version": "1.0.0",
      "_view_name": "OutputView",
      "layout": "IPY_MODEL_fc0a07a2f3304998b7f3cc45bdb5de82",
      "msg_id": "",
      "outputs": [
       {
        "data": {
         "text/html": "<pre style=\"white-space:pre;overflow-x:auto;line-height:normal;font-family:Menlo,'DejaVu Sans Mono',consolas,'Courier New',monospace\"><span style=\"color: #008000; text-decoration-color: #008000\">㊁</span> Magicking samples of <span style=\"color: #00afff; text-decoration-color: #00afff; font-style: italic\">bmi</span>...\n</pre>\n",
         "text/plain": "\u001b[32m㊁\u001b[0m Magicking samples of \u001b[3;38;5;39mbmi\u001b[0m...\n"
        },
        "metadata": {},
        "output_type": "display_data"
       }
      ]
     }
    },
    "fc0a07a2f3304998b7f3cc45bdb5de82": {
     "model_module": "@jupyter-widgets/base",
     "model_module_version": "1.2.0",
     "model_name": "LayoutModel",
     "state": {
      "_model_module": "@jupyter-widgets/base",
      "_model_module_version": "1.2.0",
      "_model_name": "LayoutModel",
      "_view_count": null,
      "_view_module": "@jupyter-widgets/base",
      "_view_module_version": "1.2.0",
      "_view_name": "LayoutView",
      "align_content": null,
      "align_items": null,
      "align_self": null,
      "border": null,
      "bottom": null,
      "display": null,
      "flex": null,
      "flex_flow": null,
      "grid_area": null,
      "grid_auto_columns": null,
      "grid_auto_flow": null,
      "grid_auto_rows": null,
      "grid_column": null,
      "grid_gap": null,
      "grid_row": null,
      "grid_template_areas": null,
      "grid_template_columns": null,
      "grid_template_rows": null,
      "height": null,
      "justify_content": null,
      "justify_items": null,
      "left": null,
      "margin": null,
      "max_height": null,
      "max_width": null,
      "min_height": null,
      "min_width": null,
      "object_fit": null,
      "object_position": null,
      "order": null,
      "overflow": null,
      "overflow_x": null,
      "overflow_y": null,
      "padding": null,
      "right": null,
      "top": null,
      "visibility": null,
      "width": null
     }
    }
   }
  }
 },
 "nbformat": 4,
 "nbformat_minor": 0
}
