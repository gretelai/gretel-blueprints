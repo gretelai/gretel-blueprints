{
  "cells": [
    {
      "cell_type": "markdown",
      "metadata": {
        "colab_type": "text",
        "id": "view-in-github"
      },
      "source": [
        "<a href=\"https://colab.research.google.com/gist/johnnygreco/7dc7c56679ff405902296c3071b748f6/pokemon_story_generator.ipynb\" target=\"_parent\"><img src=\"https://colab.research.google.com/assets/colab-badge.svg\" alt=\"Open In Colab\"/></a>"
      ]
    },
    {
      "cell_type": "code",
      "execution_count": null,
      "metadata": {
        "id": "CGLXhTzCqZ-Z"
      },
      "outputs": [],
      "source": [
        "%%capture\n",
        "%pip install -U git+https://github.com/gretelai/gretel-python-client"
      ]
    },
    {
      "cell_type": "code",
      "execution_count": null,
      "metadata": {
        "id": "kiXwrvpPdVfQ"
      },
      "outputs": [],
      "source": [
        "import pandas as pd\n",
        "\n",
        "# Load our new Gretel object.\n",
        "from gretel_client.navigator_client import Gretel"
      ]
    },
    {
      "cell_type": "markdown",
      "metadata": {
        "id": "UOemRAntdVfR"
      },
      "source": [
        "## 🐯 Pokemon Seed Dataset\n",
        "\n",
        "- To demonstrate how to use your own seed data, we'll use a fun [pokemon dataset](https://calmcode.io/datasets/pokemon-json)."
      ]
    },
    {
      "cell_type": "code",
      "execution_count": null,
      "metadata": {
        "id": "0pg_pk2jdVfS"
      },
      "outputs": [],
      "source": [
        "data_seed_file = \"https://gretel-datasets.s3.us-west-2.amazonaws.com/calmcode-datasets/pokemon_descriptive_columns.csv\"\n",
        "df_seed = pd.read_csv(data_seed_file)\n",
        "df_seed.head()"
      ]
    },
    {
      "cell_type": "markdown",
      "metadata": {
        "id": "FsijaKUpdVfS"
      },
      "source": [
        "## 🎬 Getting Started with AIDD 2.0\n",
        "\n",
        "- Note the new DEV endpoint. You'll need your DEV APY key.\n",
        "\n",
        "- The new `DataDesigner` factory is accessed via the `data_designer` attribute."
      ]
    },
    {
      "cell_type": "code",
      "execution_count": null,
      "metadata": {
        "id": "R7dm-Iq2dVfS"
      },
      "outputs": [],
      "source": [
        "gretel = Gretel(api_key=\"prompt\", endpoint='https://api.dev.gretel.ai')\n",
        "\n",
        "aidd = gretel.data_designer.new(model_suite=\"apache-2.0\")\n",
        "\n",
        "aidd"
      ]
    },
    {
      "cell_type": "markdown",
      "metadata": {
        "id": "wQbQxDotdVfT"
      },
      "source": [
        "## 🌱 Injecting seed data into AIDD\n",
        "\n",
        "- Use the `with_seed_dataset` method to upload your dataset to our platform.\n",
        "\n",
        "- You now have access to all the fields in the dataset's schema, which you can use in prompt templates.\n",
        "\n",
        "- Use the `sampling_strategy` argument to control how the data is sampled.\n",
        "\n",
        "  - `ordered` (default): maintains the order of the seed dataset.\n",
        "  \n",
        "  - `shuffled`: randomly shuffles the seed dataset.\n",
        "\n",
        "- If you plan to generate more data than the seed dataset contains, use `with_replacement=True` ."
      ]
    },
    {
      "cell_type": "code",
      "execution_count": null,
      "metadata": {
        "id": "FYrsyznqdVfT"
      },
      "outputs": [],
      "source": [
        "# The file_id is the unique identifier for the dataset we just uploaded.\n",
        "# You can use it to reference this dataset in future API calls.\n",
        "aidd.with_seed_dataset(df_seed, sampling_strategy=\"shuffle\", with_replacement=True)"
      ]
    },
    {
      "cell_type": "markdown",
      "metadata": {
        "id": "O81zFy_MdVfT"
      },
      "source": [
        "## 👩‍🚀 🎲 Person Samplers\n",
        "\n",
        "- You can create reusable person samplers using the `with_person_samplers` method.\n",
        "\n",
        "- Each person sampler you add will sample a different person _for each row_ of your dataset.\n",
        "\n",
        "- You can choose the locale of the person sampler. We support all `Faker` [locales](https://faker.readthedocs.io/en/master/locales.html).\n",
        "\n",
        "- For `locale=en_US`, we use our PGM to generate the person data. For all other locales, we use `Faker`, which means the data-quality is _far_ lower than for `en_US`.\n",
        "\n",
        "- **IMPORTANT:** The PGM doesn't work in streaming mode at the moment, so we are using a default locale of `en_GB` for our initial testing.\n",
        "\n",
        "- Sampled persons have a bunch of attributes that you can use in your prompt templates. <br><br> A limited set of attributes include:\n",
        "    \n",
        "    - first_name\n",
        "    - last_name\n",
        "    - city\n",
        "    - country\n",
        "    - marital_status\n",
        "    - education_level\n",
        "    - bachelors_field\n",
        "    - email_address\n",
        "\n",
        "- The full sampled person objects will be dropped at the end of the generation process. If you want to keep them as structured objects, you\n",
        "can add them using `add_column` (see below) with `type=\"person\"`\n",
        "\n",
        "- When creating person samplers, we currently support specification of the person's `sex`, `locale`, and `city`. Note the city must exist within the locale."
      ]
    },
    {
      "cell_type": "code",
      "execution_count": null,
      "metadata": {
        "id": "hU17gKa8dVfT"
      },
      "outputs": [],
      "source": [
        "aidd.with_person_samplers(\n",
        "    {\n",
        "        \"main_dude\": {\"sex\": \"Male\"},\n",
        "        \"french_woman\": {\"sex\": \"Female\", \"locale\": \"fr_FR\"},\n",
        "        \"random_bad_person\": {}\n",
        "    }\n",
        ")"
      ]
    },
    {
      "cell_type": "markdown",
      "metadata": {
        "id": "REUfi3-bdVfT"
      },
      "source": [
        "## 🧱 Building your data schema\n",
        "\n",
        "- Add columns to your dataset's schema using the `add_column` method.\n",
        "\n",
        "- Important arguments:\n",
        "\n",
        "  - `name`: name of the column.\n",
        "  \n",
        "  - `type`: the column type, which determines the task that will generate the data. Available types:\n",
        "\n",
        "    - **llm-generated**: Will use an LLM to generate the data. This is the same as our previous `add_generated_data_column` method.\n",
        "\n",
        "    - There are many **sampling-based types**: `category`, `subcategory`, `uuid`, `uniform`, `gaussian`, `poisson`, `bernoulli`, `binomial`, `datetime`, `timedelta` <br> (documentation on all the configuration options for these types is coming soon).\n",
        "\n",
        "    - Two special sampling-based types are `person` (sample persons using either our PGM or Faker) and `expression` (mathematical expressions involving other columns).\n",
        "\n",
        "- Constraints can be applied to numerical samplers using the `add_constraint` method.\n",
        "\n",
        "<br>\n",
        "\n",
        "> **Note**: When calling `add_column`, llm-generated columns require a `prompt` and sampling-based columns require `params` for the sampler."
      ]
    },
    {
      "cell_type": "code",
      "execution_count": null,
      "metadata": {
        "id": "XeeYnmFodVfT"
      },
      "outputs": [],
      "source": [
        "# If you want to keep things compact, you can optionally use this chaining syntax:\n",
        "(\n",
        "    aidd\n",
        "    # You can create columns based on attributes of person objects.\n",
        "    .add_column(\n",
        "        name=\"protagonist_first_name\",\n",
        "        type=\"expression\",\n",
        "        params={\"expr\": \"main_dude.first_name\"}\n",
        "    )\n",
        "    .add_column(\n",
        "        name=\"protagonist_last_name\",\n",
        "        type=\"expression\",\n",
        "        params={\"expr\": \"main_dude.last_name\"}\n",
        "    )\n",
        "    # Categories are a great way to add variety to your data.\n",
        "    .add_column(\n",
        "        name=\"story_theme\",\n",
        "        type=\"category\",\n",
        "        params={\n",
        "            \"values\": [\n",
        "                \"Quest-based narrative\",\n",
        "                \"Adventure gone wrong\",\n",
        "                \"Unexpected discovery\",\n",
        "                \"Coming-of-age\",\n",
        "                \"Redemption/second chance\",\n",
        "            ]\n",
        "        }\n",
        "    )\n",
        "    # Subcategories let you create values associated with a parent category.\n",
        "    .add_column(\n",
        "        name=\"theme_details\",\n",
        "        type=\"subcategory\",\n",
        "        params={\n",
        "            \"category\": \"story_theme\",\n",
        "            \"values\": {\n",
        "                \"Quest-based narrative\": [\n",
        "                    \"Rescue mission (saving Pokemon from danger)\",\n",
        "                    \"Multi-stage journey (collecting items/clues leading to rare Pokemon)\",\n",
        "                    \"Mythical pursuit (following legends to find rare Pokemon)\",\n",
        "                    \"Personal goal (completing Pokedex, finding specific Pokemon)\"\n",
        "                ],\n",
        "                \"Adventure gone wrong\": [\n",
        "                    \"Lost in the wilderness (trying to find way back to civilization)\",\n",
        "                    \"Trapped in a cave (escaping from dangerous Pokemon)\",\n",
        "                    \"Caught in a storm (finding shelter and food while waiting for rescue)\",\n",
        "                    \"Shipwrecked (finding a way to signal for help)\"\n",
        "                ],\n",
        "                \"Unexpected discovery\": [\n",
        "                    \"Hidden treasure (finding rare Pokemon in unexpected location)\",\n",
        "                    \"Ancient ruins (exploring ancient Pokemon civilization)\",\n",
        "                    \"Time travel (visiting past/future to find rare Pokemon)\",\n",
        "                    \"Alien encounter (meeting Pokemon from another planet)\"\n",
        "                ],\n",
        "                \"Coming-of-age\": [\n",
        "                    \"Rite of passage (proving worth to Pokemon tribe)\",\n",
        "                    \"Mentorship (learning from wise Pokemon)\",\n",
        "                    \"First significant catch (finding rare Pokemon for first time)\",\n",
        "                    \"Epic battle (defeating powerful Pokemon)\"\n",
        "                ],\n",
        "                \"Redemption/second chance\": [\n",
        "                    \"Rehabilitation (helping injured Pokemon recover)\",\n",
        "                    \"Forgiveness (making amends with Pokemon after past mistake)\",\n",
        "                    \"Second chance (finding rare Pokemon after failing first attempt)\",\n",
        "                    \"Redemption (saving Pokemon from evil trainer)\"\n",
        "                ]\n",
        "            }\n",
        "        }\n",
        "    )\n",
        "    # We have numerical samplers for common distributions.\n",
        "    # There's also a sampler for scipy, which lets you use any\n",
        "    # distribution available in scipy.stats.\n",
        "    .add_column(\n",
        "        name=\"number_of_pokemon\",\n",
        "        type=\"poisson\",\n",
        "        params={\"mean\": 5}\n",
        "    )\n",
        "    .add_column(\n",
        "        name=\"years_since_last_pokemon_sighting\",\n",
        "        type=\"gaussian\",\n",
        "        params={\"mean\": 5, \"stddev\": 5},\n",
        "        convert_to=\"int\"\n",
        "    )\n",
        "    # Constraints are currently supported for numerical samplers.\n",
        "    .add_constraint(\n",
        "        target_column=\"number_of_pokemon\",\n",
        "        type=\"scalar_inequality\",\n",
        "        params={\"operator\": \">=\", \"rhs\": 1}\n",
        "    )\n",
        "    .add_constraint(\n",
        "        target_column=\"years_since_last_pokemon_sighting\",\n",
        "        type=\"scalar_inequality\",\n",
        "        params={\"operator\": \">\", \"rhs\": 0}\n",
        "    )\n",
        ")"
      ]
    },
    {
      "cell_type": "code",
      "execution_count": null,
      "metadata": {
        "id": "j9qw1QtWdVfU"
      },
      "outputs": [],
      "source": [
        "# Pull it all together in a prompt that combines the elements we've created.\n",
        "# Note how we access attributes of person objects the same as structured outputs.\n",
        "aidd.add_column(\n",
        "        name=\"adventure_story\",\n",
        "        model_alias=\"judge\",\n",
        "        prompt=\"\"\"\\\n",
        "Create an engaging short story about a Pokemon adventure with the following elements:\n",
        "\n",
        "**Characters and Setting:**\n",
        "- Protagonist: {{ protagonist_first_name }} {{ protagonist_last_name }}\n",
        "- Supporting character: French woman named {{ french_woman.first_name }}\n",
        "- Antagonist: {{ random_bad_person.first_name }} {{ random_bad_person.last_name }}\n",
        "- Context: {{ years_since_last_pokemon_sighting }} years since the last Pokemon sighting in the region\n",
        "- Number of Pokemon to include: {{ number_of_pokemon }}\n",
        "- Featured Pokemon: {{ pokemon_name }} (Type: {{ pokemon_type }}, HP: {{ hit_points }}, Attack: {{ attack_points }})\n",
        "\n",
        "**Story Framework:**\n",
        "- Theme: {{ story_theme }}\n",
        "- Thematic elements to incorporate: {{ theme_details }}\n",
        "- Begin with {{ protagonist_first_name }} encountering or searching for {{ pokemon_name }}\n",
        "- Feature a conflict involving {{ random_bad_person.first_name }}\n",
        "- Show how {{ french_woman.first_name }}'s expertise helps the protagonist\n",
        "- End with a resolution that reflects the main theme\n",
        "\n",
        "Write in a vivid, concise style that balances action, dialogue, and description while capturing the wonder of the Pokemon world.\n",
        "\"\"\"\n",
        ")\n"
      ]
    },
    {
      "cell_type": "markdown",
      "metadata": {
        "id": "I_dRdNxPdVfU"
      },
      "source": [
        "## 👀 Preview your AIDD workflow"
      ]
    },
    {
      "cell_type": "code",
      "execution_count": null,
      "metadata": {
        "id": "_YocNQDqdVfU"
      },
      "outputs": [],
      "source": [
        "preview = aidd.preview()"
      ]
    },
    {
      "cell_type": "code",
      "execution_count": null,
      "metadata": {
        "id": "DqWazRXTdVfU"
      },
      "outputs": [],
      "source": [
        "preview.display_sample_record()"
      ]
    },
    {
      "cell_type": "markdown",
      "metadata": {
        "id": "jxSxsDjWdVfU"
      },
      "source": [
        "## 🆙 Scale up with a batch workflow"
      ]
    },
    {
      "cell_type": "code",
      "execution_count": null,
      "metadata": {
        "id": "PZhLSDYMdVfU"
      },
      "outputs": [],
      "source": [
        "workflow_run = aidd.create(\n",
        "    num_records=100,\n",
        "    workflow_run_name=\"pokemon_story_generator\",\n",
        "    wait_for_completion=True\n",
        ")"
      ]
    },
    {
      "cell_type": "code",
      "execution_count": null,
      "metadata": {
        "id": "jSINDAPCr581"
      },
      "outputs": [],
      "source": [
        "workflow_run.dataset.df"
      ]
    }
  ],
  "metadata": {
    "colab": {
      "include_colab_link": true,
      "provenance": []
    },
    "kernelspec": {
      "display_name": "base_env",
      "language": "python",
      "name": "python3"
    },
    "language_info": {
      "codemirror_mode": {
        "name": "ipython",
        "version": 3
      },
      "file_extension": ".py",
      "mimetype": "text/x-python",
      "name": "python",
      "nbconvert_exporter": "python",
      "pygments_lexer": "ipython3",
      "version": "3.12.9"
    }
  },
  "nbformat": 4,
  "nbformat_minor": 0
}
