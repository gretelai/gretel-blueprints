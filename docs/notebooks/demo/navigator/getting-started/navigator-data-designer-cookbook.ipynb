{
  "cells": [
    {
      "cell_type": "markdown",
      "metadata": {
        "id": "JQaZUdZe85_3"
      },
      "source": [
        "# Getting Started with Data Designer\n"
      ]
    },
    {
      "cell_type": "markdown",
      "metadata": {
        "id": "ryeGPmfkSWdB"
      },
      "source": [
        "Welcome! In this guide, we’ll walk through how to use the SDK to generate rich, diverse datasets — from designing your columns to injecting variability and logic into your data.\n",
        "\n",
        "### 🧙 Magic vs 🛠 Manual Usage\n",
        "\n",
        "This guide supports two usage styles:\n",
        "\n",
        "- **Magic Mode** 🪄  \n",
        "  Enlist the help of an LLM to automatically generate your dataset configuration. Perfect for quick starts and exploring schema ideas.\n",
        "\n",
        "- **Manual Mode** 🧩  \n",
        "  Take full control and define your configuration by hand. Ideal when you want precision and complete customization.\n",
        "\n",
        "---\n",
        "\n",
        "### 🔁 Generation Methods\n",
        "\n",
        "Our SDK supports **three flexible generation methods**:\n",
        "\n",
        "- **Sampling** 🎲  \n",
        "  Generate values using numerical or categorical distributions to generate realistic, balanced datasets.\n",
        "\n",
        "- **LLM-generated** 🤖  \n",
        "  Leverage large language models to create contextual data — such as natural language, code snippets, or structured text.\n",
        "\n",
        "- **Seeded** 🌱  \n",
        "  Provide your own seed dataset and sample from it to produce similar or derivative outputs.\n",
        "\n",
        "---\n",
        "\n",
        "### 🧠 Expression-Based Columns with Jinja\n",
        "\n",
        "For more advanced control, you can define **expression-based columns** using Jinja templating. This unlocks:\n",
        "\n",
        "- 🔀 Conditional logic (`if`, `else`, `for`)\n",
        "- 🔗 Cross-column references (`{{ column_name }}`)\n",
        "- ➕ Basic arithmetic and transformations\n",
        "\n",
        "This lets you dynamically shape values based on other columns and inject logic directly into your data schema.\n",
        "\n",
        "---\n",
        "\n",
        "Let’s dive in and start building your dataset! 💡\n"
      ]
    },
    {
      "cell_type": "markdown",
      "metadata": {
        "id": "iZoByOgI9E83"
      },
      "source": [
        "## Installation and Setup"
      ]
    },
    {
      "cell_type": "code",
      "execution_count": null,
      "metadata": {
        "id": "D602xPNh8bFV"
      },
      "outputs": [],
      "source": [
        "%%capture\n",
        "# Install the latest version of Gretel client and dependencies\n",
        "%pip install -U git+https://github.com/gretelai/gretel-python-client networkx datasets"
      ]
    },
    {
      "cell_type": "code",
      "execution_count": 1,
      "metadata": {
        "colab": {
          "base_uri": "https://localhost:8080/"
        },
        "id": "ROn9MBSK88ZR",
        "outputId": "4d66b281-1af6-4cd6-af5d-ec07afc68d91"
      },
      "outputs": [
        {
          "name": "stdout",
          "output_type": "stream",
          "text": [
            "Found cached Gretel credentials\n",
            "Logged in as kirit.thadaka@gretel.ai ✅\n",
            "Gretel client configured to use project: proj_2uY0cfM0kjiegpyEZvCHNKZYxGf\n"
          ]
        }
      ],
      "source": [
        "# Import\n",
        "import time\n",
        "import pandas as pd\n",
        "\n",
        "from gretel_client.navigator_client import Gretel\n",
        "from gretel_client.data_designer import columns as C\n",
        "from gretel_client.data_designer import params as P\n",
        "\n",
        "\n",
        "## Create Gretel Client\n",
        "gretel = Gretel(\n",
        "    api_key=\"prompt\",\n",
        "    endpoint=\"https://api.dev.gretel.ai\"\n",
        ")\n",
        "\n",
        "\n",
        "model_suite=\"apache-2.0\"\n",
        "dd = gretel.data_designer.new(model_suite=model_suite) # we will be building on top of this object\n"
      ]
    },
    {
      "cell_type": "markdown",
      "metadata": {
        "id": "kednFG_u882a"
      },
      "source": [
        "# 🌱 Beginner: Kickstart with Magic + Seeded Data\n",
        "\n",
        "In this section, we’re keeping things simple and powerful. You’ll learn how to get up and running quickly by combining:\n",
        "\n",
        "- **Magic Mode** 🪄 — Let an LLM generate your dataset configuration for you, based on a few high-level inputs. (Note: Magic is still experimentatal so responses may occasionally be inaccurate)\n",
        "- **Seeded Generation** 🌾 — Provide a sample dataset, and we’ll draw from it to create new rows with similar structure and variety.\n",
        "\n",
        "This is a great way to start experimenting with the SDK while getting meaningful output fast. You don’t need to worry about crafting configs by hand just yet — we’ll guide you through using your own data and a touch of AI magic to get impressive results with minimal effort.\n",
        "\n",
        "📦 By the end of this section, you’ll have a generated dataset built from your seed data and enriched through a config designed by the LLM.\n",
        "\n",
        "Let’s dive in! 🔍\n"
      ]
    },
    {
      "cell_type": "code",
      "execution_count": 2,
      "metadata": {
        "cellView": "form",
        "colab": {
          "base_uri": "https://localhost:8080/",
          "height": 1000,
          "referenced_widgets": [
            "5a956c3ce8e64b468a0e6ef00e379122",
            "ee12931e52244197b86f9e758305c95a",
            "910ef11be58e47d8bfdac24be5ec1f7c",
            "8f0191b6d9bc4aa794e6f7cfd92b3401",
            "ad8e46c2b63640339f157d62602f614c",
            "6c3e4f37b63b49daa3e8404e7a94f2a5",
            "f9f895e31c9b44ffb0217c7ef717184e",
            "fc0a07a2f3304998b7f3cc45bdb5de82"
          ]
        },
        "collapsed": true,
        "id": "vtqPivpZ_TXn",
        "outputId": "bd83597a-cd18-484c-c246-6fdaf1a19449"
      },
      "outputs": [
        {
          "data": {
            "text/html": [
              "\n",
              "    <div style=\"background-color: #FFF3CD; \n",
              "                color: #856404; \n",
              "                padding: 10px; \n",
              "                margin: 10px 0; \n",
              "                border-left: 6px solid #FFE187; \n",
              "                border-radius: 4px;\">\n",
              "        <p style=\"margin: 0;\">\n",
              "            <strong>🧪 Experimental Feature:</strong> Thanks for trying the 🪄 Magic `DataDesigner` interface! This interface is experimental and will likely change in the future. Please let us know your feedback and any issues @ https://github.com/gretelai/gretel-python-client/issues/new.\n",
              "\n",
              "        </p>\n",
              "    </div>\n",
              "    "
            ],
            "text/plain": [
              "<IPython.core.display.HTML object>"
            ]
          },
          "metadata": {},
          "output_type": "display_data"
        },
        {
          "data": {
            "text/html": [
              "<pre style=\"white-space:pre;overflow-x:auto;line-height:normal;font-family:Menlo,'DejaVu Sans Mono',consolas,'Courier New',monospace\"><span style=\"color: #00afff; text-decoration-color: #00afff\">╭─</span> 💬 <span style=\"color: #00afff; text-decoration-color: #00afff; font-style: italic\">patient</span> <span style=\"color: #00afff; text-decoration-color: #00afff\">────────────────────────────────────────────────────────────────────────────────────────────────────╮</span>\n",
              "<span style=\"color: #00afff; text-decoration-color: #00afff\">│ An american male living in San Diego                                                                            │</span>\n",
              "<span style=\"color: #00afff; text-decoration-color: #00afff\">╰─────────────────────────────────────────────────────────────────────────────────────────────────────────────────╯</span>\n",
              "</pre>\n"
            ],
            "text/plain": [
              "\u001b[38;5;39m╭─\u001b[0m 💬 \u001b[3;38;5;39mpatient\u001b[0m \u001b[38;5;39m───────────────────────────────────────────────────────────────────────────────────────────────────\u001b[0m\u001b[38;5;39m─╮\u001b[0m\n",
              "\u001b[38;5;39m│\u001b[0m\u001b[38;5;39m \u001b[0m\u001b[38;5;39mAn american male living in San Diego\u001b[0m\u001b[38;5;39m                                                                           \u001b[0m\u001b[38;5;39m \u001b[0m\u001b[38;5;39m│\u001b[0m\n",
              "\u001b[38;5;39m╰─────────────────────────────────────────────────────────────────────────────────────────────────────────────────╯\u001b[0m\n"
            ]
          },
          "metadata": {},
          "output_type": "display_data"
        },
        {
          "data": {
            "application/vnd.jupyter.widget-view+json": {
              "model_id": "beb42c9a41e54963930130226797f20f",
              "version_major": 2,
              "version_minor": 0
            },
            "text/plain": [
              "Output()"
            ]
          },
          "metadata": {},
          "output_type": "display_data"
        },
        {
          "data": {
            "text/html": [
              "<pre style=\"white-space:pre;overflow-x:auto;line-height:normal;font-family:Menlo,'DejaVu Sans Mono',consolas,'Courier New',monospace\"></pre>\n"
            ],
            "text/plain": []
          },
          "metadata": {},
          "output_type": "display_data"
        },
        {
          "data": {
            "text/html": [
              "<pre style=\"white-space:pre;overflow-x:auto;line-height:normal;font-family:Menlo,'DejaVu Sans Mono',consolas,'Courier New',monospace\"><span style=\"color: #d7af00; text-decoration-color: #d7af00\">╭─</span> 🪄 Generated Column Config for <span style=\"color: #00afff; text-decoration-color: #00afff; font-style: italic\">patient</span> <span style=\"color: #d7af00; text-decoration-color: #d7af00\">────────────────────────────────────────────────────────────────────────╮</span>\n",
              "<span style=\"color: #d7af00; text-decoration-color: #d7af00\">│ </span><span style=\"color: #5e81ac; text-decoration-color: #5e81ac\">SamplerColumn</span><span style=\"color: #8fbcbb; text-decoration-color: #8fbcbb\">(</span><span style=\"color: #d7af00; text-decoration-color: #d7af00\">                                                                                                  │</span>\n",
              "<span style=\"color: #d7af00; text-decoration-color: #d7af00\">│     </span><span style=\"color: #4c566a; text-decoration-color: #4c566a\">name</span><span style=\"color: #d7af00; text-decoration-color: #d7af00\">=</span><span style=\"color: #008000; text-decoration-color: #008000\">'patient'</span><span style=\"color: #d7af00; text-decoration-color: #d7af00\">,                                                                                             │</span>\n",
              "<span style=\"color: #d7af00; text-decoration-color: #d7af00\">│     </span><span style=\"color: #4c566a; text-decoration-color: #4c566a\">type</span><span style=\"color: #d7af00; text-decoration-color: #d7af00\">=</span><span style=\"color: #d7af00; text-decoration-color: #d7af00; font-weight: bold\">&lt;</span><span style=\"color: #ff00ff; text-decoration-color: #ff00ff; font-weight: bold\">SamplingSourceType.PERSON:</span><span style=\"color: #000000; text-decoration-color: #000000\"> </span><span style=\"color: #008000; text-decoration-color: #008000\">'person'</span><span style=\"color: #000000; text-decoration-color: #000000\">&gt;,</span><span style=\"color: #d7af00; text-decoration-color: #d7af00\">                                                                 │</span>\n",
              "<span style=\"color: #d7af00; text-decoration-color: #d7af00\">│ </span><span style=\"color: #000000; text-decoration-color: #000000\">    </span><span style=\"color: #4c566a; text-decoration-color: #4c566a\">params</span><span style=\"color: #000000; text-decoration-color: #000000\">=</span><span style=\"color: #5e81ac; text-decoration-color: #5e81ac\">PersonSamplerParams</span><span style=\"color: #8fbcbb; text-decoration-color: #8fbcbb\">(</span><span style=\"color: #4c566a; text-decoration-color: #4c566a\">locale</span><span style=\"color: #000000; text-decoration-color: #000000\">=</span><span style=\"color: #008000; text-decoration-color: #008000\">'en_US'</span><span style=\"color: #000000; text-decoration-color: #000000\">, </span><span style=\"color: #4c566a; text-decoration-color: #4c566a\">sex</span><span style=\"color: #000000; text-decoration-color: #000000\">=&lt;Sex.MALE: </span><span style=\"color: #008000; text-decoration-color: #008000\">'Male'</span><span style=\"color: #d7af00; text-decoration-color: #d7af00; font-weight: bold\">&gt;</span><span style=\"color: #d7af00; text-decoration-color: #d7af00\">, </span><span style=\"color: #4c566a; text-decoration-color: #4c566a\">city</span><span style=\"color: #d7af00; text-decoration-color: #d7af00\">=</span><span style=\"color: #008000; text-decoration-color: #008000\">'San Diego'</span><span style=\"color: #8fbcbb; text-decoration-color: #8fbcbb\">)</span><span style=\"color: #d7af00; text-decoration-color: #d7af00\">,                       │</span>\n",
              "<span style=\"color: #d7af00; text-decoration-color: #d7af00\">│     </span><span style=\"color: #4c566a; text-decoration-color: #4c566a\">conditional_params</span><span style=\"color: #d7af00; text-decoration-color: #d7af00\">=</span><span style=\"color: #8fbcbb; text-decoration-color: #8fbcbb\">{}</span><span style=\"color: #d7af00; text-decoration-color: #d7af00\">,                                                                                      │</span>\n",
              "<span style=\"color: #d7af00; text-decoration-color: #d7af00\">│     </span><span style=\"color: #4c566a; text-decoration-color: #4c566a\">convert_to</span><span style=\"color: #d7af00; text-decoration-color: #d7af00\">=</span><span style=\"color: #bf616a; text-decoration-color: #bf616a\">None</span><span style=\"color: #d7af00; text-decoration-color: #d7af00\">                                                                                             │</span>\n",
              "<span style=\"color: #d7af00; text-decoration-color: #d7af00\">│ </span><span style=\"color: #8fbcbb; text-decoration-color: #8fbcbb\">)</span><span style=\"color: #d7af00; text-decoration-color: #d7af00\">                                                                                                               │</span>\n",
              "<span style=\"color: #d7af00; text-decoration-color: #d7af00\">╰─────────────────────────────────────────────────────────────────────────────────────────────────────────────────╯</span>\n",
              "</pre>\n"
            ],
            "text/plain": [
              "\u001b[38;5;178m╭─\u001b[0m 🪄 Generated Column Config for \u001b[3;38;5;39mpatient\u001b[0m \u001b[38;5;178m───────────────────────────────────────────────────────────────────────\u001b[0m\u001b[38;5;178m─╮\u001b[0m\n",
              "\u001b[38;5;178m│\u001b[0m\u001b[38;5;178m \u001b[0m\u001b[38;2;94;129;172mSamplerColumn\u001b[0m\u001b[38;2;143;188;187m(\u001b[0m\u001b[38;5;178m                                                                                                 \u001b[0m\u001b[38;5;178m \u001b[0m\u001b[38;5;178m│\u001b[0m\n",
              "\u001b[38;5;178m│\u001b[0m\u001b[38;5;178m \u001b[0m\u001b[38;5;178m    \u001b[0m\u001b[38;2;76;86;106mname\u001b[0m\u001b[38;5;178m=\u001b[0m\u001b[32m'patient'\u001b[0m\u001b[38;5;178m,\u001b[0m\u001b[38;5;178m                                                                                            \u001b[0m\u001b[38;5;178m \u001b[0m\u001b[38;5;178m│\u001b[0m\n",
              "\u001b[38;5;178m│\u001b[0m\u001b[38;5;178m \u001b[0m\u001b[38;5;178m    \u001b[0m\u001b[38;2;76;86;106mtype\u001b[0m\u001b[38;5;178m=\u001b[0m\u001b[1;38;5;178m<\u001b[0m\u001b[1;95mSamplingSourceType.PERSON:\u001b[0m\u001b[39m \u001b[0m\u001b[32m'person'\u001b[0m\u001b[39m>,\u001b[0m\u001b[38;5;178m                                                                \u001b[0m\u001b[38;5;178m \u001b[0m\u001b[38;5;178m│\u001b[0m\n",
              "\u001b[38;5;178m│\u001b[0m\u001b[38;5;178m \u001b[0m\u001b[39m    \u001b[0m\u001b[38;2;76;86;106mparams\u001b[0m\u001b[39m=\u001b[0m\u001b[38;2;94;129;172mPersonSamplerParams\u001b[0m\u001b[38;2;143;188;187m(\u001b[0m\u001b[38;2;76;86;106mlocale\u001b[0m\u001b[39m=\u001b[0m\u001b[32m'en_US'\u001b[0m\u001b[39m, \u001b[0m\u001b[38;2;76;86;106msex\u001b[0m\u001b[39m=<Sex.MALE: \u001b[0m\u001b[32m'Male'\u001b[0m\u001b[1;38;5;178m>\u001b[0m\u001b[38;5;178m, \u001b[0m\u001b[38;2;76;86;106mcity\u001b[0m\u001b[38;5;178m=\u001b[0m\u001b[32m'San Diego'\u001b[0m\u001b[38;2;143;188;187m)\u001b[0m\u001b[38;5;178m,\u001b[0m\u001b[38;5;178m                      \u001b[0m\u001b[38;5;178m \u001b[0m\u001b[38;5;178m│\u001b[0m\n",
              "\u001b[38;5;178m│\u001b[0m\u001b[38;5;178m \u001b[0m\u001b[38;5;178m    \u001b[0m\u001b[38;2;76;86;106mconditional_params\u001b[0m\u001b[38;5;178m=\u001b[0m\u001b[38;2;143;188;187m{\u001b[0m\u001b[38;2;143;188;187m}\u001b[0m\u001b[38;5;178m,\u001b[0m\u001b[38;5;178m                                                                                     \u001b[0m\u001b[38;5;178m \u001b[0m\u001b[38;5;178m│\u001b[0m\n",
              "\u001b[38;5;178m│\u001b[0m\u001b[38;5;178m \u001b[0m\u001b[38;5;178m    \u001b[0m\u001b[38;2;76;86;106mconvert_to\u001b[0m\u001b[38;5;178m=\u001b[0m\u001b[38;2;191;97;106mNone\u001b[0m\u001b[38;5;178m                                                                                            \u001b[0m\u001b[38;5;178m \u001b[0m\u001b[38;5;178m│\u001b[0m\n",
              "\u001b[38;5;178m│\u001b[0m\u001b[38;5;178m \u001b[0m\u001b[38;2;143;188;187m)\u001b[0m\u001b[38;5;178m                                                                                                              \u001b[0m\u001b[38;5;178m \u001b[0m\u001b[38;5;178m│\u001b[0m\n",
              "\u001b[38;5;178m╰─────────────────────────────────────────────────────────────────────────────────────────────────────────────────╯\u001b[0m\n"
            ]
          },
          "metadata": {},
          "output_type": "display_data"
        },
        {
          "name": "stdout",
          "output_type": "stream",
          "text": [
            "[20:15:36] [INFO] 🚀 Generating preview\n"
          ]
        },
        {
          "data": {
            "application/vnd.jupyter.widget-view+json": {
              "model_id": "7543fcaf01824e909e06cf6e897babf1",
              "version_major": 2,
              "version_minor": 0
            },
            "text/plain": [
              "Output()"
            ]
          },
          "metadata": {},
          "output_type": "display_data"
        },
        {
          "name": "stdout",
          "output_type": "stream",
          "text": [
            "[20:15:37] [INFO] 🦜 Step 1: Generate columns using samplers\n"
          ]
        },
        {
          "name": "stdout",
          "output_type": "stream",
          "text": [
            "[20:15:40] [INFO] 🎉 Your dataset preview is ready!\n"
          ]
        },
        {
          "data": {
            "text/html": [
              "<pre style=\"white-space:pre;overflow-x:auto;line-height:normal;font-family:Menlo,'DejaVu Sans Mono',consolas,'Courier New',monospace\"></pre>\n"
            ],
            "text/plain": []
          },
          "metadata": {},
          "output_type": "display_data"
        },
        {
          "data": {
            "text/html": [
              "<pre style=\"white-space:pre;overflow-x:auto;line-height:normal;font-family:Menlo,'DejaVu Sans Mono',consolas,'Courier New',monospace\"><span style=\"color: #d7af00; text-decoration-color: #d7af00\">╭─────────────────────────────────────────────</span> 🎲 Samples of <span style=\"color: #00afff; text-decoration-color: #00afff; font-style: italic\">patient</span> <span style=\"color: #d7af00; text-decoration-color: #d7af00\">─────────────────────────────────────────────╮</span>\n",
              "<span style=\"color: #d7af00; text-decoration-color: #d7af00\">│ ╭───────────────────────────────────╮╭───────────────────────────────────╮╭───────────────────────────────────╮ │</span>\n",
              "<span style=\"color: #d7af00; text-decoration-color: #d7af00\">│ │ </span><span style=\"color: #8fbcbb; text-decoration-color: #8fbcbb\">{</span><span style=\"color: #d7af00; text-decoration-color: #d7af00\">                                 ││ </span><span style=\"color: #8fbcbb; text-decoration-color: #8fbcbb\">{</span><span style=\"color: #d7af00; text-decoration-color: #d7af00\">                                 ││ </span><span style=\"color: #8fbcbb; text-decoration-color: #8fbcbb\">{</span><span style=\"color: #d7af00; text-decoration-color: #d7af00\">                                 │ │</span>\n",
              "<span style=\"color: #d7af00; text-decoration-color: #d7af00\">│ │     </span><span style=\"color: #008000; text-decoration-color: #008000\">'first_name'</span><span style=\"color: #d7af00; text-decoration-color: #d7af00\">: </span><span style=\"color: #008000; text-decoration-color: #008000\">'Todd'</span><span style=\"color: #d7af00; text-decoration-color: #d7af00\">,         ││     </span><span style=\"color: #008000; text-decoration-color: #008000\">'first_name'</span><span style=\"color: #d7af00; text-decoration-color: #d7af00\">: </span><span style=\"color: #008000; text-decoration-color: #008000\">'Jamieson'</span><span style=\"color: #d7af00; text-decoration-color: #d7af00\">,     ││     </span><span style=\"color: #008000; text-decoration-color: #008000\">'first_name'</span><span style=\"color: #d7af00; text-decoration-color: #d7af00\">: </span><span style=\"color: #008000; text-decoration-color: #008000\">'Christopher'</span><span style=\"color: #d7af00; text-decoration-color: #d7af00\">,  │ │</span>\n",
              "<span style=\"color: #d7af00; text-decoration-color: #d7af00\">│ │     </span><span style=\"color: #008000; text-decoration-color: #008000\">'middle_name'</span><span style=\"color: #d7af00; text-decoration-color: #d7af00\">: </span><span style=\"color: #008000; text-decoration-color: #008000\">''</span><span style=\"color: #d7af00; text-decoration-color: #d7af00\">,            ││     </span><span style=\"color: #008000; text-decoration-color: #008000\">'middle_name'</span><span style=\"color: #d7af00; text-decoration-color: #d7af00\">: </span><span style=\"color: #008000; text-decoration-color: #008000\">'Wayne'</span><span style=\"color: #d7af00; text-decoration-color: #d7af00\">,       ││     </span><span style=\"color: #008000; text-decoration-color: #008000\">'middle_name'</span><span style=\"color: #d7af00; text-decoration-color: #d7af00\">: </span><span style=\"color: #008000; text-decoration-color: #008000\">'Ronald'</span><span style=\"color: #d7af00; text-decoration-color: #d7af00\">,      │ │</span>\n",
              "<span style=\"color: #d7af00; text-decoration-color: #d7af00\">│ │     </span><span style=\"color: #008000; text-decoration-color: #008000\">'last_name'</span><span style=\"color: #d7af00; text-decoration-color: #d7af00\">: </span><span style=\"color: #008000; text-decoration-color: #008000\">'Lieu'</span><span style=\"color: #d7af00; text-decoration-color: #d7af00\">,          ││     </span><span style=\"color: #008000; text-decoration-color: #008000\">'last_name'</span><span style=\"color: #d7af00; text-decoration-color: #d7af00\">: </span><span style=\"color: #008000; text-decoration-color: #008000\">'Berg'</span><span style=\"color: #d7af00; text-decoration-color: #d7af00\">,          ││     </span><span style=\"color: #008000; text-decoration-color: #008000\">'last_name'</span><span style=\"color: #d7af00; text-decoration-color: #d7af00\">: </span><span style=\"color: #008000; text-decoration-color: #008000\">'Thornton'</span><span style=\"color: #d7af00; text-decoration-color: #d7af00\">,      │ │</span>\n",
              "<span style=\"color: #d7af00; text-decoration-color: #d7af00\">│ │     </span><span style=\"color: #008000; text-decoration-color: #008000\">'sex'</span><span style=\"color: #d7af00; text-decoration-color: #d7af00\">: </span><span style=\"color: #008000; text-decoration-color: #008000\">'Male'</span><span style=\"color: #d7af00; text-decoration-color: #d7af00\">,                ││     </span><span style=\"color: #008000; text-decoration-color: #008000\">'sex'</span><span style=\"color: #d7af00; text-decoration-color: #d7af00\">: </span><span style=\"color: #008000; text-decoration-color: #008000\">'Male'</span><span style=\"color: #d7af00; text-decoration-color: #d7af00\">,                ││     </span><span style=\"color: #008000; text-decoration-color: #008000\">'sex'</span><span style=\"color: #d7af00; text-decoration-color: #d7af00\">: </span><span style=\"color: #008000; text-decoration-color: #008000\">'Male'</span><span style=\"color: #d7af00; text-decoration-color: #d7af00\">,                │ │</span>\n",
              "<span style=\"color: #d7af00; text-decoration-color: #d7af00\">│ │     </span><span style=\"color: #008000; text-decoration-color: #008000\">'age'</span><span style=\"color: #d7af00; text-decoration-color: #d7af00\">: </span><span style=\"color: #b48ead; text-decoration-color: #b48ead\">3</span><span style=\"color: #d7af00; text-decoration-color: #d7af00\">,                     ││     </span><span style=\"color: #008000; text-decoration-color: #008000\">'age'</span><span style=\"color: #d7af00; text-decoration-color: #d7af00\">: </span><span style=\"color: #b48ead; text-decoration-color: #b48ead\">43</span><span style=\"color: #d7af00; text-decoration-color: #d7af00\">,                    ││     </span><span style=\"color: #008000; text-decoration-color: #008000\">'age'</span><span style=\"color: #d7af00; text-decoration-color: #d7af00\">: </span><span style=\"color: #b48ead; text-decoration-color: #b48ead\">6</span><span style=\"color: #d7af00; text-decoration-color: #d7af00\">,                     │ │</span>\n",
              "<span style=\"color: #d7af00; text-decoration-color: #d7af00\">│ │     </span><span style=\"color: #008000; text-decoration-color: #008000\">'postcode'</span><span style=\"color: #d7af00; text-decoration-color: #d7af00\">: </span><span style=\"color: #008000; text-decoration-color: #008000\">'92127'</span><span style=\"color: #d7af00; text-decoration-color: #d7af00\">,          ││     </span><span style=\"color: #008000; text-decoration-color: #008000\">'postcode'</span><span style=\"color: #d7af00; text-decoration-color: #d7af00\">: </span><span style=\"color: #008000; text-decoration-color: #008000\">'92126'</span><span style=\"color: #d7af00; text-decoration-color: #d7af00\">,          ││     </span><span style=\"color: #008000; text-decoration-color: #008000\">'postcode'</span><span style=\"color: #d7af00; text-decoration-color: #d7af00\">: </span><span style=\"color: #008000; text-decoration-color: #008000\">'92114'</span><span style=\"color: #d7af00; text-decoration-color: #d7af00\">,          │ │</span>\n",
              "<span style=\"color: #d7af00; text-decoration-color: #d7af00\">│ │     </span><span style=\"color: #008000; text-decoration-color: #008000\">'street_number'</span><span style=\"color: #d7af00; text-decoration-color: #d7af00\">: </span><span style=\"color: #b48ead; text-decoration-color: #b48ead\">88</span><span style=\"color: #d7af00; text-decoration-color: #d7af00\">,          ││     </span><span style=\"color: #008000; text-decoration-color: #008000\">'street_number'</span><span style=\"color: #d7af00; text-decoration-color: #d7af00\">: </span><span style=\"color: #b48ead; text-decoration-color: #b48ead\">194</span><span style=\"color: #d7af00; text-decoration-color: #d7af00\">,         ││     </span><span style=\"color: #008000; text-decoration-color: #008000\">'street_number'</span><span style=\"color: #d7af00; text-decoration-color: #d7af00\">: </span><span style=\"color: #b48ead; text-decoration-color: #b48ead\">1175</span><span style=\"color: #d7af00; text-decoration-color: #d7af00\">,        │ │</span>\n",
              "<span style=\"color: #d7af00; text-decoration-color: #d7af00\">│ │     </span><span style=\"color: #008000; text-decoration-color: #008000\">'street_name'</span><span style=\"color: #d7af00; text-decoration-color: #d7af00\">: </span><span style=\"color: #008000; text-decoration-color: #008000\">'Dorchester </span><span style=\"color: #d7af00; text-decoration-color: #d7af00\">   ││     </span><span style=\"color: #008000; text-decoration-color: #008000\">'street_name'</span><span style=\"color: #d7af00; text-decoration-color: #d7af00\">: </span><span style=\"color: #008000; text-decoration-color: #008000\">'E College </span><span style=\"color: #d7af00; text-decoration-color: #d7af00\">    ││     </span><span style=\"color: #008000; text-decoration-color: #008000\">'street_name'</span><span style=\"color: #d7af00; text-decoration-color: #d7af00\">: </span><span style=\"color: #008000; text-decoration-color: #008000\">'Jefferson </span><span style=\"color: #d7af00; text-decoration-color: #d7af00\">    │ │</span>\n",
              "<span style=\"color: #d7af00; text-decoration-color: #d7af00\">│ │ </span><span style=\"color: #008000; text-decoration-color: #008000\">Drive'</span><span style=\"color: #d7af00; text-decoration-color: #d7af00\">,                           ││ </span><span style=\"color: #008000; text-decoration-color: #008000\">Ave'</span><span style=\"color: #d7af00; text-decoration-color: #d7af00\">,                             ││ </span><span style=\"color: #008000; text-decoration-color: #008000\">Ave'</span><span style=\"color: #d7af00; text-decoration-color: #d7af00\">,                             │ │</span>\n",
              "<span style=\"color: #d7af00; text-decoration-color: #d7af00\">│ │     </span><span style=\"color: #008000; text-decoration-color: #008000\">'unit'</span><span style=\"color: #d7af00; text-decoration-color: #d7af00\">: </span><span style=\"color: #008000; text-decoration-color: #008000\">'98'</span><span style=\"color: #d7af00; text-decoration-color: #d7af00\">,                 ││     </span><span style=\"color: #008000; text-decoration-color: #008000\">'unit'</span><span style=\"color: #d7af00; text-decoration-color: #d7af00\">: </span><span style=\"color: #008000; text-decoration-color: #008000\">'Apt 305'</span><span style=\"color: #d7af00; text-decoration-color: #d7af00\">,            ││     </span><span style=\"color: #008000; text-decoration-color: #008000\">'unit'</span><span style=\"color: #d7af00; text-decoration-color: #d7af00\">: </span><span style=\"color: #008000; text-decoration-color: #008000\">''</span><span style=\"color: #d7af00; text-decoration-color: #d7af00\">,                   │ │</span>\n",
              "<span style=\"color: #d7af00; text-decoration-color: #d7af00\">│ │     </span><span style=\"color: #008000; text-decoration-color: #008000\">'city'</span><span style=\"color: #d7af00; text-decoration-color: #d7af00\">: </span><span style=\"color: #008000; text-decoration-color: #008000\">'San Diego'</span><span style=\"color: #d7af00; text-decoration-color: #d7af00\">,          ││     </span><span style=\"color: #008000; text-decoration-color: #008000\">'city'</span><span style=\"color: #d7af00; text-decoration-color: #d7af00\">: </span><span style=\"color: #008000; text-decoration-color: #008000\">'San Diego'</span><span style=\"color: #d7af00; text-decoration-color: #d7af00\">,          ││     </span><span style=\"color: #008000; text-decoration-color: #008000\">'city'</span><span style=\"color: #d7af00; text-decoration-color: #d7af00\">: </span><span style=\"color: #008000; text-decoration-color: #008000\">'San Diego'</span><span style=\"color: #d7af00; text-decoration-color: #d7af00\">,          │ │</span>\n",
              "<span style=\"color: #d7af00; text-decoration-color: #d7af00\">│ │     </span><span style=\"color: #008000; text-decoration-color: #008000\">'region'</span><span style=\"color: #d7af00; text-decoration-color: #d7af00\">: </span><span style=\"color: #008000; text-decoration-color: #008000\">'CA'</span><span style=\"color: #d7af00; text-decoration-color: #d7af00\">,               ││     </span><span style=\"color: #008000; text-decoration-color: #008000\">'region'</span><span style=\"color: #d7af00; text-decoration-color: #d7af00\">: </span><span style=\"color: #008000; text-decoration-color: #008000\">'CA'</span><span style=\"color: #d7af00; text-decoration-color: #d7af00\">,               ││     </span><span style=\"color: #008000; text-decoration-color: #008000\">'region'</span><span style=\"color: #d7af00; text-decoration-color: #d7af00\">: </span><span style=\"color: #008000; text-decoration-color: #008000\">'CA'</span><span style=\"color: #d7af00; text-decoration-color: #d7af00\">,               │ │</span>\n",
              "<span style=\"color: #d7af00; text-decoration-color: #d7af00\">│ │     </span><span style=\"color: #008000; text-decoration-color: #008000\">'district'</span><span style=\"color: #d7af00; text-decoration-color: #d7af00\">: </span><span style=\"color: #008000; text-decoration-color: #008000\">'San Diego </span><span style=\"color: #d7af00; text-decoration-color: #d7af00\">       ││     </span><span style=\"color: #008000; text-decoration-color: #008000\">'district'</span><span style=\"color: #d7af00; text-decoration-color: #d7af00\">: </span><span style=\"color: #008000; text-decoration-color: #008000\">'San Diego </span><span style=\"color: #d7af00; text-decoration-color: #d7af00\">       ││     </span><span style=\"color: #008000; text-decoration-color: #008000\">'district'</span><span style=\"color: #d7af00; text-decoration-color: #d7af00\">: </span><span style=\"color: #008000; text-decoration-color: #008000\">'San Diego </span><span style=\"color: #d7af00; text-decoration-color: #d7af00\">       │ │</span>\n",
              "<span style=\"color: #d7af00; text-decoration-color: #d7af00\">│ │ </span><span style=\"color: #008000; text-decoration-color: #008000\">County'</span><span style=\"color: #d7af00; text-decoration-color: #d7af00\">,                          ││ </span><span style=\"color: #008000; text-decoration-color: #008000\">County'</span><span style=\"color: #d7af00; text-decoration-color: #d7af00\">,                          ││ </span><span style=\"color: #008000; text-decoration-color: #008000\">County'</span><span style=\"color: #d7af00; text-decoration-color: #d7af00\">,                          │ │</span>\n",
              "<span style=\"color: #d7af00; text-decoration-color: #d7af00\">│ │     </span><span style=\"color: #008000; text-decoration-color: #008000\">'country'</span><span style=\"color: #d7af00; text-decoration-color: #d7af00\">: </span><span style=\"color: #008000; text-decoration-color: #008000\">'USA'</span><span style=\"color: #d7af00; text-decoration-color: #d7af00\">,             ││     </span><span style=\"color: #008000; text-decoration-color: #008000\">'country'</span><span style=\"color: #d7af00; text-decoration-color: #d7af00\">: </span><span style=\"color: #008000; text-decoration-color: #008000\">'USA'</span><span style=\"color: #d7af00; text-decoration-color: #d7af00\">,             ││     </span><span style=\"color: #008000; text-decoration-color: #008000\">'country'</span><span style=\"color: #d7af00; text-decoration-color: #d7af00\">: </span><span style=\"color: #008000; text-decoration-color: #008000\">'USA'</span><span style=\"color: #d7af00; text-decoration-color: #d7af00\">,             │ │</span>\n",
              "<span style=\"color: #d7af00; text-decoration-color: #d7af00\">│ │     </span><span style=\"color: #008000; text-decoration-color: #008000\">'ethnic_background'</span><span style=\"color: #d7af00; text-decoration-color: #d7af00\">:          ││     </span><span style=\"color: #008000; text-decoration-color: #008000\">'ethnic_background'</span><span style=\"color: #d7af00; text-decoration-color: #d7af00\">: </span><span style=\"color: #008000; text-decoration-color: #008000\">'white'</span><span style=\"color: #d7af00; text-decoration-color: #d7af00\">, ││     </span><span style=\"color: #008000; text-decoration-color: #008000\">'ethnic_background'</span><span style=\"color: #d7af00; text-decoration-color: #d7af00\">: </span><span style=\"color: #008000; text-decoration-color: #008000\">'white'</span><span style=\"color: #d7af00; text-decoration-color: #d7af00\">, │ │</span>\n",
              "<span style=\"color: #d7af00; text-decoration-color: #d7af00\">│ │ </span><span style=\"color: #008000; text-decoration-color: #008000\">'southeast asian'</span><span style=\"color: #d7af00; text-decoration-color: #d7af00\">,                ││     </span><span style=\"color: #008000; text-decoration-color: #008000\">'marital_status'</span><span style=\"color: #d7af00; text-decoration-color: #d7af00\">:             ││     </span><span style=\"color: #008000; text-decoration-color: #008000\">'marital_status'</span><span style=\"color: #d7af00; text-decoration-color: #d7af00\">:             │ │</span>\n",
              "<span style=\"color: #d7af00; text-decoration-color: #d7af00\">│ │     </span><span style=\"color: #008000; text-decoration-color: #008000\">'marital_status'</span><span style=\"color: #d7af00; text-decoration-color: #d7af00\">:             ││ </span><span style=\"color: #008000; text-decoration-color: #008000\">'never_married'</span><span style=\"color: #d7af00; text-decoration-color: #d7af00\">,                  ││ </span><span style=\"color: #008000; text-decoration-color: #008000\">'never_married'</span><span style=\"color: #d7af00; text-decoration-color: #d7af00\">,                  │ │</span>\n",
              "<span style=\"color: #d7af00; text-decoration-color: #d7af00\">│ │ </span><span style=\"color: #008000; text-decoration-color: #008000\">'never_married'</span><span style=\"color: #d7af00; text-decoration-color: #d7af00\">,                  ││     </span><span style=\"color: #008000; text-decoration-color: #008000\">'education_level'</span><span style=\"color: #d7af00; text-decoration-color: #d7af00\">:            ││     </span><span style=\"color: #008000; text-decoration-color: #008000\">'education_level'</span><span style=\"color: #d7af00; text-decoration-color: #d7af00\">:            │ │</span>\n",
              "<span style=\"color: #d7af00; text-decoration-color: #d7af00\">│ │     </span><span style=\"color: #008000; text-decoration-color: #008000\">'education_level'</span><span style=\"color: #d7af00; text-decoration-color: #d7af00\">:            ││ </span><span style=\"color: #008000; text-decoration-color: #008000\">'graduate'</span><span style=\"color: #d7af00; text-decoration-color: #d7af00\">,                       ││ </span><span style=\"color: #008000; text-decoration-color: #008000\">'less_than_9th'</span><span style=\"color: #d7af00; text-decoration-color: #d7af00\">,                  │ │</span>\n",
              "<span style=\"color: #d7af00; text-decoration-color: #d7af00\">│ │ </span><span style=\"color: #008000; text-decoration-color: #008000\">'less_than_9th'</span><span style=\"color: #d7af00; text-decoration-color: #d7af00\">,                  ││     </span><span style=\"color: #008000; text-decoration-color: #008000\">'bachelors_field'</span><span style=\"color: #d7af00; text-decoration-color: #d7af00\">: </span><span style=\"color: #008000; text-decoration-color: #008000\">'stem'</span><span style=\"color: #d7af00; text-decoration-color: #d7af00\">,    ││     </span><span style=\"color: #008000; text-decoration-color: #008000\">'bachelors_field'</span><span style=\"color: #d7af00; text-decoration-color: #d7af00\">: </span><span style=\"color: #008000; text-decoration-color: #008000\">'no </span><span style=\"color: #d7af00; text-decoration-color: #d7af00\">       │ │</span>\n",
              "<span style=\"color: #d7af00; text-decoration-color: #d7af00\">│ │     </span><span style=\"color: #008000; text-decoration-color: #008000\">'bachelors_field'</span><span style=\"color: #d7af00; text-decoration-color: #d7af00\">: </span><span style=\"color: #008000; text-decoration-color: #008000\">'no </span><span style=\"color: #d7af00; text-decoration-color: #d7af00\">       ││     </span><span style=\"color: #008000; text-decoration-color: #008000\">'occupation'</span><span style=\"color: #d7af00; text-decoration-color: #d7af00\">:                 ││ </span><span style=\"color: #008000; text-decoration-color: #008000\">degree'</span><span style=\"color: #d7af00; text-decoration-color: #d7af00\">,                          │ │</span>\n",
              "<span style=\"color: #d7af00; text-decoration-color: #d7af00\">│ │ </span><span style=\"color: #008000; text-decoration-color: #008000\">degree'</span><span style=\"color: #d7af00; text-decoration-color: #d7af00\">,                          ││ </span><span style=\"color: #008000; text-decoration-color: #008000\">'stocker_or_order_filler'</span><span style=\"color: #d7af00; text-decoration-color: #d7af00\">,        ││     </span><span style=\"color: #008000; text-decoration-color: #008000\">'occupation'</span><span style=\"color: #d7af00; text-decoration-color: #d7af00\">: </span><span style=\"color: #008000; text-decoration-color: #008000\">'no </span><span style=\"color: #d7af00; text-decoration-color: #d7af00\">            │ │</span>\n",
              "<span style=\"color: #d7af00; text-decoration-color: #d7af00\">│ │     </span><span style=\"color: #008000; text-decoration-color: #008000\">'occupation'</span><span style=\"color: #d7af00; text-decoration-color: #d7af00\">: </span><span style=\"color: #008000; text-decoration-color: #008000\">'no </span><span style=\"color: #d7af00; text-decoration-color: #d7af00\">            ││     </span><span style=\"color: #008000; text-decoration-color: #008000\">'uuid'</span><span style=\"color: #d7af00; text-decoration-color: #d7af00\">:                       ││ </span><span style=\"color: #008000; text-decoration-color: #008000\">occupation'</span><span style=\"color: #d7af00; text-decoration-color: #d7af00\">,                      │ │</span>\n",
              "<span style=\"color: #d7af00; text-decoration-color: #d7af00\">│ │ </span><span style=\"color: #008000; text-decoration-color: #008000\">occupation'</span><span style=\"color: #d7af00; text-decoration-color: #d7af00\">,                      ││ </span><span style=\"color: #008000; text-decoration-color: #008000\">'a8fabf34-9805-4106-8cfa-b9990a3…</span><span style=\"color: #d7af00; text-decoration-color: #d7af00\"> ││     </span><span style=\"color: #008000; text-decoration-color: #008000\">'uuid'</span><span style=\"color: #d7af00; text-decoration-color: #d7af00\">:                       │ │</span>\n",
              "<span style=\"color: #d7af00; text-decoration-color: #d7af00\">│ │     </span><span style=\"color: #008000; text-decoration-color: #008000\">'uuid'</span><span style=\"color: #d7af00; text-decoration-color: #d7af00\">:                       ││     </span><span style=\"color: #008000; text-decoration-color: #008000\">'locale'</span><span style=\"color: #d7af00; text-decoration-color: #d7af00\">: </span><span style=\"color: #008000; text-decoration-color: #008000\">'en_US'</span><span style=\"color: #d7af00; text-decoration-color: #d7af00\">,            ││ </span><span style=\"color: #008000; text-decoration-color: #008000\">'28bc67e4-cf04-4268-b9f6-feaab65…</span><span style=\"color: #d7af00; text-decoration-color: #d7af00\"> │ │</span>\n",
              "<span style=\"color: #d7af00; text-decoration-color: #d7af00\">│ │ </span><span style=\"color: #008000; text-decoration-color: #008000\">'906a7735-ce0b-43a1-a2cb-b2cf816…</span><span style=\"color: #d7af00; text-decoration-color: #d7af00\"> ││     </span><span style=\"color: #008000; text-decoration-color: #008000\">'phone_number'</span><span style=\"color: #d7af00; text-decoration-color: #d7af00\">:               ││     </span><span style=\"color: #008000; text-decoration-color: #008000\">'locale'</span><span style=\"color: #d7af00; text-decoration-color: #d7af00\">: </span><span style=\"color: #008000; text-decoration-color: #008000\">'en_US'</span><span style=\"color: #d7af00; text-decoration-color: #d7af00\">,            │ │</span>\n",
              "<span style=\"color: #d7af00; text-decoration-color: #d7af00\">│ │     </span><span style=\"color: #008000; text-decoration-color: #008000\">'locale'</span><span style=\"color: #d7af00; text-decoration-color: #d7af00\">: </span><span style=\"color: #008000; text-decoration-color: #008000\">'en_US'</span><span style=\"color: #d7af00; text-decoration-color: #d7af00\">,            ││ </span><span style=\"color: #008000; text-decoration-color: #008000\">'406-204-9166'</span><span style=\"color: #d7af00; text-decoration-color: #d7af00\">,                   ││     </span><span style=\"color: #008000; text-decoration-color: #008000\">'phone_number'</span><span style=\"color: #d7af00; text-decoration-color: #d7af00\">: </span><span style=\"color: #008000; text-decoration-color: #008000\">'None'</span><span style=\"color: #d7af00; text-decoration-color: #d7af00\">,       │ │</span>\n",
              "<span style=\"color: #d7af00; text-decoration-color: #d7af00\">│ │     </span><span style=\"color: #008000; text-decoration-color: #008000\">'phone_number'</span><span style=\"color: #d7af00; text-decoration-color: #d7af00\">: </span><span style=\"color: #008000; text-decoration-color: #008000\">'None'</span><span style=\"color: #d7af00; text-decoration-color: #d7af00\">,       ││     </span><span style=\"color: #008000; text-decoration-color: #008000\">'email_address'</span><span style=\"color: #d7af00; text-decoration-color: #d7af00\">:              ││     </span><span style=\"color: #008000; text-decoration-color: #008000\">'email_address'</span><span style=\"color: #d7af00; text-decoration-color: #d7af00\">: </span><span style=\"color: #bf616a; text-decoration-color: #bf616a\">None</span><span style=\"color: #d7af00; text-decoration-color: #d7af00\">,        │ │</span>\n",
              "<span style=\"color: #d7af00; text-decoration-color: #d7af00\">│ │     </span><span style=\"color: #008000; text-decoration-color: #008000\">'email_address'</span><span style=\"color: #d7af00; text-decoration-color: #d7af00\">: </span><span style=\"color: #bf616a; text-decoration-color: #bf616a\">None</span><span style=\"color: #d7af00; text-decoration-color: #d7af00\">,        ││ </span><span style=\"color: #008000; text-decoration-color: #008000\">'jamiesonwayne24@icloud.com'</span><span style=\"color: #d7af00; text-decoration-color: #d7af00\">,     ││     </span><span style=\"color: #008000; text-decoration-color: #008000\">'birth_date'</span><span style=\"color: #d7af00; text-decoration-color: #d7af00\">: </span><span style=\"color: #008000; text-decoration-color: #008000\">'2018-10-01'</span><span style=\"color: #d7af00; text-decoration-color: #d7af00\">,   │ │</span>\n",
              "<span style=\"color: #d7af00; text-decoration-color: #d7af00\">│ │     </span><span style=\"color: #008000; text-decoration-color: #008000\">'birth_date'</span><span style=\"color: #d7af00; text-decoration-color: #d7af00\">: </span><span style=\"color: #008000; text-decoration-color: #008000\">'2022-01-16'</span><span style=\"color: #d7af00; text-decoration-color: #d7af00\">,   ││     </span><span style=\"color: #008000; text-decoration-color: #008000\">'birth_date'</span><span style=\"color: #d7af00; text-decoration-color: #d7af00\">: </span><span style=\"color: #008000; text-decoration-color: #008000\">'1981-09-24'</span><span style=\"color: #d7af00; text-decoration-color: #d7af00\">,   ││     </span><span style=\"color: #008000; text-decoration-color: #008000\">'national_id'</span><span style=\"color: #d7af00; text-decoration-color: #d7af00\">: </span><span style=\"color: #008000; text-decoration-color: #008000\">'276-81-5387'</span><span style=\"color: #d7af00; text-decoration-color: #d7af00\">  │ │</span>\n",
              "<span style=\"color: #d7af00; text-decoration-color: #d7af00\">│ │     </span><span style=\"color: #008000; text-decoration-color: #008000\">'national_id'</span><span style=\"color: #d7af00; text-decoration-color: #d7af00\">: </span><span style=\"color: #008000; text-decoration-color: #008000\">'063-27-1393'</span><span style=\"color: #d7af00; text-decoration-color: #d7af00\">  ││     </span><span style=\"color: #008000; text-decoration-color: #008000\">'national_id'</span><span style=\"color: #d7af00; text-decoration-color: #d7af00\">: </span><span style=\"color: #008000; text-decoration-color: #008000\">'570-15-2021'</span><span style=\"color: #d7af00; text-decoration-color: #d7af00\">  ││ </span><span style=\"color: #8fbcbb; text-decoration-color: #8fbcbb\">}</span><span style=\"color: #d7af00; text-decoration-color: #d7af00\">                                 │ │</span>\n",
              "<span style=\"color: #d7af00; text-decoration-color: #d7af00\">│ │ </span><span style=\"color: #8fbcbb; text-decoration-color: #8fbcbb\">}</span><span style=\"color: #d7af00; text-decoration-color: #d7af00\">                                 ││ </span><span style=\"color: #8fbcbb; text-decoration-color: #8fbcbb\">}</span><span style=\"color: #d7af00; text-decoration-color: #d7af00\">                                 │╰───────────────────────────────────╯ │</span>\n",
              "<span style=\"color: #d7af00; text-decoration-color: #d7af00\">│ ╰───────────────────────────────────╯╰───────────────────────────────────╯                                      │</span>\n",
              "<span style=\"color: #d7af00; text-decoration-color: #d7af00\">╰─────────────────────────────────────────────────────────────────────────────────────────────────────────────────╯</span>\n",
              "</pre>\n"
            ],
            "text/plain": [
              "\u001b[38;5;178m╭─\u001b[0m\u001b[38;5;178m────────────────────────────────────────────\u001b[0m 🎲 Samples of \u001b[3;38;5;39mpatient\u001b[0m \u001b[38;5;178m────────────────────────────────────────────\u001b[0m\u001b[38;5;178m─╮\u001b[0m\n",
              "\u001b[38;5;178m│\u001b[0m\u001b[38;5;178m \u001b[0m\u001b[38;5;178m╭───────────────────────────────────╮\u001b[0m\u001b[38;5;178m╭───────────────────────────────────╮\u001b[0m\u001b[38;5;178m╭───────────────────────────────────╮\u001b[0m\u001b[38;5;178m \u001b[0m\u001b[38;5;178m│\u001b[0m\n",
              "\u001b[38;5;178m│\u001b[0m\u001b[38;5;178m \u001b[0m\u001b[38;5;178m│\u001b[0m\u001b[38;5;178m \u001b[0m\u001b[38;2;143;188;187m{\u001b[0m\u001b[38;5;178m                                \u001b[0m\u001b[38;5;178m \u001b[0m\u001b[38;5;178m│\u001b[0m\u001b[38;5;178m│\u001b[0m\u001b[38;5;178m \u001b[0m\u001b[38;2;143;188;187m{\u001b[0m\u001b[38;5;178m                                \u001b[0m\u001b[38;5;178m \u001b[0m\u001b[38;5;178m│\u001b[0m\u001b[38;5;178m│\u001b[0m\u001b[38;5;178m \u001b[0m\u001b[38;2;143;188;187m{\u001b[0m\u001b[38;5;178m                                \u001b[0m\u001b[38;5;178m \u001b[0m\u001b[38;5;178m│\u001b[0m\u001b[38;5;178m \u001b[0m\u001b[38;5;178m│\u001b[0m\n",
              "\u001b[38;5;178m│\u001b[0m\u001b[38;5;178m \u001b[0m\u001b[38;5;178m│\u001b[0m\u001b[38;5;178m \u001b[0m\u001b[38;5;178m    \u001b[0m\u001b[32m'first_name'\u001b[0m\u001b[38;5;178m: \u001b[0m\u001b[32m'Todd'\u001b[0m\u001b[38;5;178m,        \u001b[0m\u001b[38;5;178m \u001b[0m\u001b[38;5;178m│\u001b[0m\u001b[38;5;178m│\u001b[0m\u001b[38;5;178m \u001b[0m\u001b[38;5;178m    \u001b[0m\u001b[32m'first_name'\u001b[0m\u001b[38;5;178m: \u001b[0m\u001b[32m'Jamieson'\u001b[0m\u001b[38;5;178m,    \u001b[0m\u001b[38;5;178m \u001b[0m\u001b[38;5;178m│\u001b[0m\u001b[38;5;178m│\u001b[0m\u001b[38;5;178m \u001b[0m\u001b[38;5;178m    \u001b[0m\u001b[32m'first_name'\u001b[0m\u001b[38;5;178m: \u001b[0m\u001b[32m'Christopher'\u001b[0m\u001b[38;5;178m, \u001b[0m\u001b[38;5;178m \u001b[0m\u001b[38;5;178m│\u001b[0m\u001b[38;5;178m \u001b[0m\u001b[38;5;178m│\u001b[0m\n",
              "\u001b[38;5;178m│\u001b[0m\u001b[38;5;178m \u001b[0m\u001b[38;5;178m│\u001b[0m\u001b[38;5;178m \u001b[0m\u001b[38;5;178m    \u001b[0m\u001b[32m'middle_name'\u001b[0m\u001b[38;5;178m: \u001b[0m\u001b[32m''\u001b[0m\u001b[38;5;178m,           \u001b[0m\u001b[38;5;178m \u001b[0m\u001b[38;5;178m│\u001b[0m\u001b[38;5;178m│\u001b[0m\u001b[38;5;178m \u001b[0m\u001b[38;5;178m    \u001b[0m\u001b[32m'middle_name'\u001b[0m\u001b[38;5;178m: \u001b[0m\u001b[32m'Wayne'\u001b[0m\u001b[38;5;178m,      \u001b[0m\u001b[38;5;178m \u001b[0m\u001b[38;5;178m│\u001b[0m\u001b[38;5;178m│\u001b[0m\u001b[38;5;178m \u001b[0m\u001b[38;5;178m    \u001b[0m\u001b[32m'middle_name'\u001b[0m\u001b[38;5;178m: \u001b[0m\u001b[32m'Ronald'\u001b[0m\u001b[38;5;178m,     \u001b[0m\u001b[38;5;178m \u001b[0m\u001b[38;5;178m│\u001b[0m\u001b[38;5;178m \u001b[0m\u001b[38;5;178m│\u001b[0m\n",
              "\u001b[38;5;178m│\u001b[0m\u001b[38;5;178m \u001b[0m\u001b[38;5;178m│\u001b[0m\u001b[38;5;178m \u001b[0m\u001b[38;5;178m    \u001b[0m\u001b[32m'last_name'\u001b[0m\u001b[38;5;178m: \u001b[0m\u001b[32m'Lieu'\u001b[0m\u001b[38;5;178m,         \u001b[0m\u001b[38;5;178m \u001b[0m\u001b[38;5;178m│\u001b[0m\u001b[38;5;178m│\u001b[0m\u001b[38;5;178m \u001b[0m\u001b[38;5;178m    \u001b[0m\u001b[32m'last_name'\u001b[0m\u001b[38;5;178m: \u001b[0m\u001b[32m'Berg'\u001b[0m\u001b[38;5;178m,         \u001b[0m\u001b[38;5;178m \u001b[0m\u001b[38;5;178m│\u001b[0m\u001b[38;5;178m│\u001b[0m\u001b[38;5;178m \u001b[0m\u001b[38;5;178m    \u001b[0m\u001b[32m'last_name'\u001b[0m\u001b[38;5;178m: \u001b[0m\u001b[32m'Thornton'\u001b[0m\u001b[38;5;178m,     \u001b[0m\u001b[38;5;178m \u001b[0m\u001b[38;5;178m│\u001b[0m\u001b[38;5;178m \u001b[0m\u001b[38;5;178m│\u001b[0m\n",
              "\u001b[38;5;178m│\u001b[0m\u001b[38;5;178m \u001b[0m\u001b[38;5;178m│\u001b[0m\u001b[38;5;178m \u001b[0m\u001b[38;5;178m    \u001b[0m\u001b[32m'sex'\u001b[0m\u001b[38;5;178m: \u001b[0m\u001b[32m'Male'\u001b[0m\u001b[38;5;178m,               \u001b[0m\u001b[38;5;178m \u001b[0m\u001b[38;5;178m│\u001b[0m\u001b[38;5;178m│\u001b[0m\u001b[38;5;178m \u001b[0m\u001b[38;5;178m    \u001b[0m\u001b[32m'sex'\u001b[0m\u001b[38;5;178m: \u001b[0m\u001b[32m'Male'\u001b[0m\u001b[38;5;178m,               \u001b[0m\u001b[38;5;178m \u001b[0m\u001b[38;5;178m│\u001b[0m\u001b[38;5;178m│\u001b[0m\u001b[38;5;178m \u001b[0m\u001b[38;5;178m    \u001b[0m\u001b[32m'sex'\u001b[0m\u001b[38;5;178m: \u001b[0m\u001b[32m'Male'\u001b[0m\u001b[38;5;178m,               \u001b[0m\u001b[38;5;178m \u001b[0m\u001b[38;5;178m│\u001b[0m\u001b[38;5;178m \u001b[0m\u001b[38;5;178m│\u001b[0m\n",
              "\u001b[38;5;178m│\u001b[0m\u001b[38;5;178m \u001b[0m\u001b[38;5;178m│\u001b[0m\u001b[38;5;178m \u001b[0m\u001b[38;5;178m    \u001b[0m\u001b[32m'age'\u001b[0m\u001b[38;5;178m: \u001b[0m\u001b[38;2;180;142;173m3\u001b[0m\u001b[38;5;178m,                    \u001b[0m\u001b[38;5;178m \u001b[0m\u001b[38;5;178m│\u001b[0m\u001b[38;5;178m│\u001b[0m\u001b[38;5;178m \u001b[0m\u001b[38;5;178m    \u001b[0m\u001b[32m'age'\u001b[0m\u001b[38;5;178m: \u001b[0m\u001b[38;2;180;142;173m43\u001b[0m\u001b[38;5;178m,                   \u001b[0m\u001b[38;5;178m \u001b[0m\u001b[38;5;178m│\u001b[0m\u001b[38;5;178m│\u001b[0m\u001b[38;5;178m \u001b[0m\u001b[38;5;178m    \u001b[0m\u001b[32m'age'\u001b[0m\u001b[38;5;178m: \u001b[0m\u001b[38;2;180;142;173m6\u001b[0m\u001b[38;5;178m,                    \u001b[0m\u001b[38;5;178m \u001b[0m\u001b[38;5;178m│\u001b[0m\u001b[38;5;178m \u001b[0m\u001b[38;5;178m│\u001b[0m\n",
              "\u001b[38;5;178m│\u001b[0m\u001b[38;5;178m \u001b[0m\u001b[38;5;178m│\u001b[0m\u001b[38;5;178m \u001b[0m\u001b[38;5;178m    \u001b[0m\u001b[32m'postcode'\u001b[0m\u001b[38;5;178m: \u001b[0m\u001b[32m'92127'\u001b[0m\u001b[38;5;178m,         \u001b[0m\u001b[38;5;178m \u001b[0m\u001b[38;5;178m│\u001b[0m\u001b[38;5;178m│\u001b[0m\u001b[38;5;178m \u001b[0m\u001b[38;5;178m    \u001b[0m\u001b[32m'postcode'\u001b[0m\u001b[38;5;178m: \u001b[0m\u001b[32m'92126'\u001b[0m\u001b[38;5;178m,         \u001b[0m\u001b[38;5;178m \u001b[0m\u001b[38;5;178m│\u001b[0m\u001b[38;5;178m│\u001b[0m\u001b[38;5;178m \u001b[0m\u001b[38;5;178m    \u001b[0m\u001b[32m'postcode'\u001b[0m\u001b[38;5;178m: \u001b[0m\u001b[32m'92114'\u001b[0m\u001b[38;5;178m,         \u001b[0m\u001b[38;5;178m \u001b[0m\u001b[38;5;178m│\u001b[0m\u001b[38;5;178m \u001b[0m\u001b[38;5;178m│\u001b[0m\n",
              "\u001b[38;5;178m│\u001b[0m\u001b[38;5;178m \u001b[0m\u001b[38;5;178m│\u001b[0m\u001b[38;5;178m \u001b[0m\u001b[38;5;178m    \u001b[0m\u001b[32m'street_number'\u001b[0m\u001b[38;5;178m: \u001b[0m\u001b[38;2;180;142;173m88\u001b[0m\u001b[38;5;178m,         \u001b[0m\u001b[38;5;178m \u001b[0m\u001b[38;5;178m│\u001b[0m\u001b[38;5;178m│\u001b[0m\u001b[38;5;178m \u001b[0m\u001b[38;5;178m    \u001b[0m\u001b[32m'street_number'\u001b[0m\u001b[38;5;178m: \u001b[0m\u001b[38;2;180;142;173m194\u001b[0m\u001b[38;5;178m,        \u001b[0m\u001b[38;5;178m \u001b[0m\u001b[38;5;178m│\u001b[0m\u001b[38;5;178m│\u001b[0m\u001b[38;5;178m \u001b[0m\u001b[38;5;178m    \u001b[0m\u001b[32m'street_number'\u001b[0m\u001b[38;5;178m: \u001b[0m\u001b[38;2;180;142;173m1175\u001b[0m\u001b[38;5;178m,       \u001b[0m\u001b[38;5;178m \u001b[0m\u001b[38;5;178m│\u001b[0m\u001b[38;5;178m \u001b[0m\u001b[38;5;178m│\u001b[0m\n",
              "\u001b[38;5;178m│\u001b[0m\u001b[38;5;178m \u001b[0m\u001b[38;5;178m│\u001b[0m\u001b[38;5;178m \u001b[0m\u001b[38;5;178m    \u001b[0m\u001b[32m'street_name'\u001b[0m\u001b[38;5;178m: \u001b[0m\u001b[32m'Dorchester \u001b[0m\u001b[38;5;178m  \u001b[0m\u001b[38;5;178m \u001b[0m\u001b[38;5;178m│\u001b[0m\u001b[38;5;178m│\u001b[0m\u001b[38;5;178m \u001b[0m\u001b[38;5;178m    \u001b[0m\u001b[32m'street_name'\u001b[0m\u001b[38;5;178m: \u001b[0m\u001b[32m'E College \u001b[0m\u001b[38;5;178m   \u001b[0m\u001b[38;5;178m \u001b[0m\u001b[38;5;178m│\u001b[0m\u001b[38;5;178m│\u001b[0m\u001b[38;5;178m \u001b[0m\u001b[38;5;178m    \u001b[0m\u001b[32m'street_name'\u001b[0m\u001b[38;5;178m: \u001b[0m\u001b[32m'Jefferson \u001b[0m\u001b[38;5;178m   \u001b[0m\u001b[38;5;178m \u001b[0m\u001b[38;5;178m│\u001b[0m\u001b[38;5;178m \u001b[0m\u001b[38;5;178m│\u001b[0m\n",
              "\u001b[38;5;178m│\u001b[0m\u001b[38;5;178m \u001b[0m\u001b[38;5;178m│\u001b[0m\u001b[38;5;178m \u001b[0m\u001b[32mDrive'\u001b[0m\u001b[38;5;178m,                          \u001b[0m\u001b[38;5;178m \u001b[0m\u001b[38;5;178m│\u001b[0m\u001b[38;5;178m│\u001b[0m\u001b[38;5;178m \u001b[0m\u001b[32mAve'\u001b[0m\u001b[38;5;178m,                            \u001b[0m\u001b[38;5;178m \u001b[0m\u001b[38;5;178m│\u001b[0m\u001b[38;5;178m│\u001b[0m\u001b[38;5;178m \u001b[0m\u001b[32mAve'\u001b[0m\u001b[38;5;178m,                            \u001b[0m\u001b[38;5;178m \u001b[0m\u001b[38;5;178m│\u001b[0m\u001b[38;5;178m \u001b[0m\u001b[38;5;178m│\u001b[0m\n",
              "\u001b[38;5;178m│\u001b[0m\u001b[38;5;178m \u001b[0m\u001b[38;5;178m│\u001b[0m\u001b[38;5;178m \u001b[0m\u001b[38;5;178m    \u001b[0m\u001b[32m'unit'\u001b[0m\u001b[38;5;178m: \u001b[0m\u001b[32m'98'\u001b[0m\u001b[38;5;178m,                \u001b[0m\u001b[38;5;178m \u001b[0m\u001b[38;5;178m│\u001b[0m\u001b[38;5;178m│\u001b[0m\u001b[38;5;178m \u001b[0m\u001b[38;5;178m    \u001b[0m\u001b[32m'unit'\u001b[0m\u001b[38;5;178m: \u001b[0m\u001b[32m'Apt 305'\u001b[0m\u001b[38;5;178m,           \u001b[0m\u001b[38;5;178m \u001b[0m\u001b[38;5;178m│\u001b[0m\u001b[38;5;178m│\u001b[0m\u001b[38;5;178m \u001b[0m\u001b[38;5;178m    \u001b[0m\u001b[32m'unit'\u001b[0m\u001b[38;5;178m: \u001b[0m\u001b[32m''\u001b[0m\u001b[38;5;178m,                  \u001b[0m\u001b[38;5;178m \u001b[0m\u001b[38;5;178m│\u001b[0m\u001b[38;5;178m \u001b[0m\u001b[38;5;178m│\u001b[0m\n",
              "\u001b[38;5;178m│\u001b[0m\u001b[38;5;178m \u001b[0m\u001b[38;5;178m│\u001b[0m\u001b[38;5;178m \u001b[0m\u001b[38;5;178m    \u001b[0m\u001b[32m'city'\u001b[0m\u001b[38;5;178m: \u001b[0m\u001b[32m'San Diego'\u001b[0m\u001b[38;5;178m,         \u001b[0m\u001b[38;5;178m \u001b[0m\u001b[38;5;178m│\u001b[0m\u001b[38;5;178m│\u001b[0m\u001b[38;5;178m \u001b[0m\u001b[38;5;178m    \u001b[0m\u001b[32m'city'\u001b[0m\u001b[38;5;178m: \u001b[0m\u001b[32m'San Diego'\u001b[0m\u001b[38;5;178m,         \u001b[0m\u001b[38;5;178m \u001b[0m\u001b[38;5;178m│\u001b[0m\u001b[38;5;178m│\u001b[0m\u001b[38;5;178m \u001b[0m\u001b[38;5;178m    \u001b[0m\u001b[32m'city'\u001b[0m\u001b[38;5;178m: \u001b[0m\u001b[32m'San Diego'\u001b[0m\u001b[38;5;178m,         \u001b[0m\u001b[38;5;178m \u001b[0m\u001b[38;5;178m│\u001b[0m\u001b[38;5;178m \u001b[0m\u001b[38;5;178m│\u001b[0m\n",
              "\u001b[38;5;178m│\u001b[0m\u001b[38;5;178m \u001b[0m\u001b[38;5;178m│\u001b[0m\u001b[38;5;178m \u001b[0m\u001b[38;5;178m    \u001b[0m\u001b[32m'region'\u001b[0m\u001b[38;5;178m: \u001b[0m\u001b[32m'CA'\u001b[0m\u001b[38;5;178m,              \u001b[0m\u001b[38;5;178m \u001b[0m\u001b[38;5;178m│\u001b[0m\u001b[38;5;178m│\u001b[0m\u001b[38;5;178m \u001b[0m\u001b[38;5;178m    \u001b[0m\u001b[32m'region'\u001b[0m\u001b[38;5;178m: \u001b[0m\u001b[32m'CA'\u001b[0m\u001b[38;5;178m,              \u001b[0m\u001b[38;5;178m \u001b[0m\u001b[38;5;178m│\u001b[0m\u001b[38;5;178m│\u001b[0m\u001b[38;5;178m \u001b[0m\u001b[38;5;178m    \u001b[0m\u001b[32m'region'\u001b[0m\u001b[38;5;178m: \u001b[0m\u001b[32m'CA'\u001b[0m\u001b[38;5;178m,              \u001b[0m\u001b[38;5;178m \u001b[0m\u001b[38;5;178m│\u001b[0m\u001b[38;5;178m \u001b[0m\u001b[38;5;178m│\u001b[0m\n",
              "\u001b[38;5;178m│\u001b[0m\u001b[38;5;178m \u001b[0m\u001b[38;5;178m│\u001b[0m\u001b[38;5;178m \u001b[0m\u001b[38;5;178m    \u001b[0m\u001b[32m'district'\u001b[0m\u001b[38;5;178m: \u001b[0m\u001b[32m'San Diego \u001b[0m\u001b[38;5;178m      \u001b[0m\u001b[38;5;178m \u001b[0m\u001b[38;5;178m│\u001b[0m\u001b[38;5;178m│\u001b[0m\u001b[38;5;178m \u001b[0m\u001b[38;5;178m    \u001b[0m\u001b[32m'district'\u001b[0m\u001b[38;5;178m: \u001b[0m\u001b[32m'San Diego \u001b[0m\u001b[38;5;178m      \u001b[0m\u001b[38;5;178m \u001b[0m\u001b[38;5;178m│\u001b[0m\u001b[38;5;178m│\u001b[0m\u001b[38;5;178m \u001b[0m\u001b[38;5;178m    \u001b[0m\u001b[32m'district'\u001b[0m\u001b[38;5;178m: \u001b[0m\u001b[32m'San Diego \u001b[0m\u001b[38;5;178m      \u001b[0m\u001b[38;5;178m \u001b[0m\u001b[38;5;178m│\u001b[0m\u001b[38;5;178m \u001b[0m\u001b[38;5;178m│\u001b[0m\n",
              "\u001b[38;5;178m│\u001b[0m\u001b[38;5;178m \u001b[0m\u001b[38;5;178m│\u001b[0m\u001b[38;5;178m \u001b[0m\u001b[32mCounty'\u001b[0m\u001b[38;5;178m,                         \u001b[0m\u001b[38;5;178m \u001b[0m\u001b[38;5;178m│\u001b[0m\u001b[38;5;178m│\u001b[0m\u001b[38;5;178m \u001b[0m\u001b[32mCounty'\u001b[0m\u001b[38;5;178m,                         \u001b[0m\u001b[38;5;178m \u001b[0m\u001b[38;5;178m│\u001b[0m\u001b[38;5;178m│\u001b[0m\u001b[38;5;178m \u001b[0m\u001b[32mCounty'\u001b[0m\u001b[38;5;178m,                         \u001b[0m\u001b[38;5;178m \u001b[0m\u001b[38;5;178m│\u001b[0m\u001b[38;5;178m \u001b[0m\u001b[38;5;178m│\u001b[0m\n",
              "\u001b[38;5;178m│\u001b[0m\u001b[38;5;178m \u001b[0m\u001b[38;5;178m│\u001b[0m\u001b[38;5;178m \u001b[0m\u001b[38;5;178m    \u001b[0m\u001b[32m'country'\u001b[0m\u001b[38;5;178m: \u001b[0m\u001b[32m'USA'\u001b[0m\u001b[38;5;178m,            \u001b[0m\u001b[38;5;178m \u001b[0m\u001b[38;5;178m│\u001b[0m\u001b[38;5;178m│\u001b[0m\u001b[38;5;178m \u001b[0m\u001b[38;5;178m    \u001b[0m\u001b[32m'country'\u001b[0m\u001b[38;5;178m: \u001b[0m\u001b[32m'USA'\u001b[0m\u001b[38;5;178m,            \u001b[0m\u001b[38;5;178m \u001b[0m\u001b[38;5;178m│\u001b[0m\u001b[38;5;178m│\u001b[0m\u001b[38;5;178m \u001b[0m\u001b[38;5;178m    \u001b[0m\u001b[32m'country'\u001b[0m\u001b[38;5;178m: \u001b[0m\u001b[32m'USA'\u001b[0m\u001b[38;5;178m,            \u001b[0m\u001b[38;5;178m \u001b[0m\u001b[38;5;178m│\u001b[0m\u001b[38;5;178m \u001b[0m\u001b[38;5;178m│\u001b[0m\n",
              "\u001b[38;5;178m│\u001b[0m\u001b[38;5;178m \u001b[0m\u001b[38;5;178m│\u001b[0m\u001b[38;5;178m \u001b[0m\u001b[38;5;178m    \u001b[0m\u001b[32m'ethnic_background'\u001b[0m\u001b[38;5;178m:         \u001b[0m\u001b[38;5;178m \u001b[0m\u001b[38;5;178m│\u001b[0m\u001b[38;5;178m│\u001b[0m\u001b[38;5;178m \u001b[0m\u001b[38;5;178m    \u001b[0m\u001b[32m'ethnic_background'\u001b[0m\u001b[38;5;178m: \u001b[0m\u001b[32m'white'\u001b[0m\u001b[38;5;178m,\u001b[0m\u001b[38;5;178m \u001b[0m\u001b[38;5;178m│\u001b[0m\u001b[38;5;178m│\u001b[0m\u001b[38;5;178m \u001b[0m\u001b[38;5;178m    \u001b[0m\u001b[32m'ethnic_background'\u001b[0m\u001b[38;5;178m: \u001b[0m\u001b[32m'white'\u001b[0m\u001b[38;5;178m,\u001b[0m\u001b[38;5;178m \u001b[0m\u001b[38;5;178m│\u001b[0m\u001b[38;5;178m \u001b[0m\u001b[38;5;178m│\u001b[0m\n",
              "\u001b[38;5;178m│\u001b[0m\u001b[38;5;178m \u001b[0m\u001b[38;5;178m│\u001b[0m\u001b[38;5;178m \u001b[0m\u001b[32m'southeast asian'\u001b[0m\u001b[38;5;178m,               \u001b[0m\u001b[38;5;178m \u001b[0m\u001b[38;5;178m│\u001b[0m\u001b[38;5;178m│\u001b[0m\u001b[38;5;178m \u001b[0m\u001b[38;5;178m    \u001b[0m\u001b[32m'marital_status'\u001b[0m\u001b[38;5;178m:            \u001b[0m\u001b[38;5;178m \u001b[0m\u001b[38;5;178m│\u001b[0m\u001b[38;5;178m│\u001b[0m\u001b[38;5;178m \u001b[0m\u001b[38;5;178m    \u001b[0m\u001b[32m'marital_status'\u001b[0m\u001b[38;5;178m:            \u001b[0m\u001b[38;5;178m \u001b[0m\u001b[38;5;178m│\u001b[0m\u001b[38;5;178m \u001b[0m\u001b[38;5;178m│\u001b[0m\n",
              "\u001b[38;5;178m│\u001b[0m\u001b[38;5;178m \u001b[0m\u001b[38;5;178m│\u001b[0m\u001b[38;5;178m \u001b[0m\u001b[38;5;178m    \u001b[0m\u001b[32m'marital_status'\u001b[0m\u001b[38;5;178m:            \u001b[0m\u001b[38;5;178m \u001b[0m\u001b[38;5;178m│\u001b[0m\u001b[38;5;178m│\u001b[0m\u001b[38;5;178m \u001b[0m\u001b[32m'never_married'\u001b[0m\u001b[38;5;178m,                 \u001b[0m\u001b[38;5;178m \u001b[0m\u001b[38;5;178m│\u001b[0m\u001b[38;5;178m│\u001b[0m\u001b[38;5;178m \u001b[0m\u001b[32m'never_married'\u001b[0m\u001b[38;5;178m,                 \u001b[0m\u001b[38;5;178m \u001b[0m\u001b[38;5;178m│\u001b[0m\u001b[38;5;178m \u001b[0m\u001b[38;5;178m│\u001b[0m\n",
              "\u001b[38;5;178m│\u001b[0m\u001b[38;5;178m \u001b[0m\u001b[38;5;178m│\u001b[0m\u001b[38;5;178m \u001b[0m\u001b[32m'never_married'\u001b[0m\u001b[38;5;178m,                 \u001b[0m\u001b[38;5;178m \u001b[0m\u001b[38;5;178m│\u001b[0m\u001b[38;5;178m│\u001b[0m\u001b[38;5;178m \u001b[0m\u001b[38;5;178m    \u001b[0m\u001b[32m'education_level'\u001b[0m\u001b[38;5;178m:           \u001b[0m\u001b[38;5;178m \u001b[0m\u001b[38;5;178m│\u001b[0m\u001b[38;5;178m│\u001b[0m\u001b[38;5;178m \u001b[0m\u001b[38;5;178m    \u001b[0m\u001b[32m'education_level'\u001b[0m\u001b[38;5;178m:           \u001b[0m\u001b[38;5;178m \u001b[0m\u001b[38;5;178m│\u001b[0m\u001b[38;5;178m \u001b[0m\u001b[38;5;178m│\u001b[0m\n",
              "\u001b[38;5;178m│\u001b[0m\u001b[38;5;178m \u001b[0m\u001b[38;5;178m│\u001b[0m\u001b[38;5;178m \u001b[0m\u001b[38;5;178m    \u001b[0m\u001b[32m'education_level'\u001b[0m\u001b[38;5;178m:           \u001b[0m\u001b[38;5;178m \u001b[0m\u001b[38;5;178m│\u001b[0m\u001b[38;5;178m│\u001b[0m\u001b[38;5;178m \u001b[0m\u001b[32m'graduate'\u001b[0m\u001b[38;5;178m,                      \u001b[0m\u001b[38;5;178m \u001b[0m\u001b[38;5;178m│\u001b[0m\u001b[38;5;178m│\u001b[0m\u001b[38;5;178m \u001b[0m\u001b[32m'less_than_9th'\u001b[0m\u001b[38;5;178m,                 \u001b[0m\u001b[38;5;178m \u001b[0m\u001b[38;5;178m│\u001b[0m\u001b[38;5;178m \u001b[0m\u001b[38;5;178m│\u001b[0m\n",
              "\u001b[38;5;178m│\u001b[0m\u001b[38;5;178m \u001b[0m\u001b[38;5;178m│\u001b[0m\u001b[38;5;178m \u001b[0m\u001b[32m'less_than_9th'\u001b[0m\u001b[38;5;178m,                 \u001b[0m\u001b[38;5;178m \u001b[0m\u001b[38;5;178m│\u001b[0m\u001b[38;5;178m│\u001b[0m\u001b[38;5;178m \u001b[0m\u001b[38;5;178m    \u001b[0m\u001b[32m'bachelors_field'\u001b[0m\u001b[38;5;178m: \u001b[0m\u001b[32m'stem'\u001b[0m\u001b[38;5;178m,   \u001b[0m\u001b[38;5;178m \u001b[0m\u001b[38;5;178m│\u001b[0m\u001b[38;5;178m│\u001b[0m\u001b[38;5;178m \u001b[0m\u001b[38;5;178m    \u001b[0m\u001b[32m'bachelors_field'\u001b[0m\u001b[38;5;178m: \u001b[0m\u001b[32m'no \u001b[0m\u001b[38;5;178m      \u001b[0m\u001b[38;5;178m \u001b[0m\u001b[38;5;178m│\u001b[0m\u001b[38;5;178m \u001b[0m\u001b[38;5;178m│\u001b[0m\n",
              "\u001b[38;5;178m│\u001b[0m\u001b[38;5;178m \u001b[0m\u001b[38;5;178m│\u001b[0m\u001b[38;5;178m \u001b[0m\u001b[38;5;178m    \u001b[0m\u001b[32m'bachelors_field'\u001b[0m\u001b[38;5;178m: \u001b[0m\u001b[32m'no \u001b[0m\u001b[38;5;178m      \u001b[0m\u001b[38;5;178m \u001b[0m\u001b[38;5;178m│\u001b[0m\u001b[38;5;178m│\u001b[0m\u001b[38;5;178m \u001b[0m\u001b[38;5;178m    \u001b[0m\u001b[32m'occupation'\u001b[0m\u001b[38;5;178m:                \u001b[0m\u001b[38;5;178m \u001b[0m\u001b[38;5;178m│\u001b[0m\u001b[38;5;178m│\u001b[0m\u001b[38;5;178m \u001b[0m\u001b[32mdegree'\u001b[0m\u001b[38;5;178m,                         \u001b[0m\u001b[38;5;178m \u001b[0m\u001b[38;5;178m│\u001b[0m\u001b[38;5;178m \u001b[0m\u001b[38;5;178m│\u001b[0m\n",
              "\u001b[38;5;178m│\u001b[0m\u001b[38;5;178m \u001b[0m\u001b[38;5;178m│\u001b[0m\u001b[38;5;178m \u001b[0m\u001b[32mdegree'\u001b[0m\u001b[38;5;178m,                         \u001b[0m\u001b[38;5;178m \u001b[0m\u001b[38;5;178m│\u001b[0m\u001b[38;5;178m│\u001b[0m\u001b[38;5;178m \u001b[0m\u001b[32m'stocker_or_order_filler'\u001b[0m\u001b[38;5;178m,       \u001b[0m\u001b[38;5;178m \u001b[0m\u001b[38;5;178m│\u001b[0m\u001b[38;5;178m│\u001b[0m\u001b[38;5;178m \u001b[0m\u001b[38;5;178m    \u001b[0m\u001b[32m'occupation'\u001b[0m\u001b[38;5;178m: \u001b[0m\u001b[32m'no \u001b[0m\u001b[38;5;178m           \u001b[0m\u001b[38;5;178m \u001b[0m\u001b[38;5;178m│\u001b[0m\u001b[38;5;178m \u001b[0m\u001b[38;5;178m│\u001b[0m\n",
              "\u001b[38;5;178m│\u001b[0m\u001b[38;5;178m \u001b[0m\u001b[38;5;178m│\u001b[0m\u001b[38;5;178m \u001b[0m\u001b[38;5;178m    \u001b[0m\u001b[32m'occupation'\u001b[0m\u001b[38;5;178m: \u001b[0m\u001b[32m'no \u001b[0m\u001b[38;5;178m           \u001b[0m\u001b[38;5;178m \u001b[0m\u001b[38;5;178m│\u001b[0m\u001b[38;5;178m│\u001b[0m\u001b[38;5;178m \u001b[0m\u001b[38;5;178m    \u001b[0m\u001b[32m'uuid'\u001b[0m\u001b[38;5;178m:                      \u001b[0m\u001b[38;5;178m \u001b[0m\u001b[38;5;178m│\u001b[0m\u001b[38;5;178m│\u001b[0m\u001b[38;5;178m \u001b[0m\u001b[32moccupation'\u001b[0m\u001b[38;5;178m,                     \u001b[0m\u001b[38;5;178m \u001b[0m\u001b[38;5;178m│\u001b[0m\u001b[38;5;178m \u001b[0m\u001b[38;5;178m│\u001b[0m\n",
              "\u001b[38;5;178m│\u001b[0m\u001b[38;5;178m \u001b[0m\u001b[38;5;178m│\u001b[0m\u001b[38;5;178m \u001b[0m\u001b[32moccupation'\u001b[0m\u001b[38;5;178m,                     \u001b[0m\u001b[38;5;178m \u001b[0m\u001b[38;5;178m│\u001b[0m\u001b[38;5;178m│\u001b[0m\u001b[38;5;178m \u001b[0m\u001b[32m'a8fabf34-9805-4106-8cfa-b9990a3…\u001b[0m\u001b[38;5;178m \u001b[0m\u001b[38;5;178m│\u001b[0m\u001b[38;5;178m│\u001b[0m\u001b[38;5;178m \u001b[0m\u001b[38;5;178m    \u001b[0m\u001b[32m'uuid'\u001b[0m\u001b[38;5;178m:                      \u001b[0m\u001b[38;5;178m \u001b[0m\u001b[38;5;178m│\u001b[0m\u001b[38;5;178m \u001b[0m\u001b[38;5;178m│\u001b[0m\n",
              "\u001b[38;5;178m│\u001b[0m\u001b[38;5;178m \u001b[0m\u001b[38;5;178m│\u001b[0m\u001b[38;5;178m \u001b[0m\u001b[38;5;178m    \u001b[0m\u001b[32m'uuid'\u001b[0m\u001b[38;5;178m:                      \u001b[0m\u001b[38;5;178m \u001b[0m\u001b[38;5;178m│\u001b[0m\u001b[38;5;178m│\u001b[0m\u001b[38;5;178m \u001b[0m\u001b[38;5;178m    \u001b[0m\u001b[32m'locale'\u001b[0m\u001b[38;5;178m: \u001b[0m\u001b[32m'en_US'\u001b[0m\u001b[38;5;178m,           \u001b[0m\u001b[38;5;178m \u001b[0m\u001b[38;5;178m│\u001b[0m\u001b[38;5;178m│\u001b[0m\u001b[38;5;178m \u001b[0m\u001b[32m'28bc67e4-cf04-4268-b9f6-feaab65…\u001b[0m\u001b[38;5;178m \u001b[0m\u001b[38;5;178m│\u001b[0m\u001b[38;5;178m \u001b[0m\u001b[38;5;178m│\u001b[0m\n",
              "\u001b[38;5;178m│\u001b[0m\u001b[38;5;178m \u001b[0m\u001b[38;5;178m│\u001b[0m\u001b[38;5;178m \u001b[0m\u001b[32m'906a7735-ce0b-43a1-a2cb-b2cf816…\u001b[0m\u001b[38;5;178m \u001b[0m\u001b[38;5;178m│\u001b[0m\u001b[38;5;178m│\u001b[0m\u001b[38;5;178m \u001b[0m\u001b[38;5;178m    \u001b[0m\u001b[32m'phone_number'\u001b[0m\u001b[38;5;178m:              \u001b[0m\u001b[38;5;178m \u001b[0m\u001b[38;5;178m│\u001b[0m\u001b[38;5;178m│\u001b[0m\u001b[38;5;178m \u001b[0m\u001b[38;5;178m    \u001b[0m\u001b[32m'locale'\u001b[0m\u001b[38;5;178m: \u001b[0m\u001b[32m'en_US'\u001b[0m\u001b[38;5;178m,           \u001b[0m\u001b[38;5;178m \u001b[0m\u001b[38;5;178m│\u001b[0m\u001b[38;5;178m \u001b[0m\u001b[38;5;178m│\u001b[0m\n",
              "\u001b[38;5;178m│\u001b[0m\u001b[38;5;178m \u001b[0m\u001b[38;5;178m│\u001b[0m\u001b[38;5;178m \u001b[0m\u001b[38;5;178m    \u001b[0m\u001b[32m'locale'\u001b[0m\u001b[38;5;178m: \u001b[0m\u001b[32m'en_US'\u001b[0m\u001b[38;5;178m,           \u001b[0m\u001b[38;5;178m \u001b[0m\u001b[38;5;178m│\u001b[0m\u001b[38;5;178m│\u001b[0m\u001b[38;5;178m \u001b[0m\u001b[32m'406-204-9166'\u001b[0m\u001b[38;5;178m,                  \u001b[0m\u001b[38;5;178m \u001b[0m\u001b[38;5;178m│\u001b[0m\u001b[38;5;178m│\u001b[0m\u001b[38;5;178m \u001b[0m\u001b[38;5;178m    \u001b[0m\u001b[32m'phone_number'\u001b[0m\u001b[38;5;178m: \u001b[0m\u001b[32m'None'\u001b[0m\u001b[38;5;178m,      \u001b[0m\u001b[38;5;178m \u001b[0m\u001b[38;5;178m│\u001b[0m\u001b[38;5;178m \u001b[0m\u001b[38;5;178m│\u001b[0m\n",
              "\u001b[38;5;178m│\u001b[0m\u001b[38;5;178m \u001b[0m\u001b[38;5;178m│\u001b[0m\u001b[38;5;178m \u001b[0m\u001b[38;5;178m    \u001b[0m\u001b[32m'phone_number'\u001b[0m\u001b[38;5;178m: \u001b[0m\u001b[32m'None'\u001b[0m\u001b[38;5;178m,      \u001b[0m\u001b[38;5;178m \u001b[0m\u001b[38;5;178m│\u001b[0m\u001b[38;5;178m│\u001b[0m\u001b[38;5;178m \u001b[0m\u001b[38;5;178m    \u001b[0m\u001b[32m'email_address'\u001b[0m\u001b[38;5;178m:             \u001b[0m\u001b[38;5;178m \u001b[0m\u001b[38;5;178m│\u001b[0m\u001b[38;5;178m│\u001b[0m\u001b[38;5;178m \u001b[0m\u001b[38;5;178m    \u001b[0m\u001b[32m'email_address'\u001b[0m\u001b[38;5;178m: \u001b[0m\u001b[38;2;191;97;106mNone\u001b[0m\u001b[38;5;178m,       \u001b[0m\u001b[38;5;178m \u001b[0m\u001b[38;5;178m│\u001b[0m\u001b[38;5;178m \u001b[0m\u001b[38;5;178m│\u001b[0m\n",
              "\u001b[38;5;178m│\u001b[0m\u001b[38;5;178m \u001b[0m\u001b[38;5;178m│\u001b[0m\u001b[38;5;178m \u001b[0m\u001b[38;5;178m    \u001b[0m\u001b[32m'email_address'\u001b[0m\u001b[38;5;178m: \u001b[0m\u001b[38;2;191;97;106mNone\u001b[0m\u001b[38;5;178m,       \u001b[0m\u001b[38;5;178m \u001b[0m\u001b[38;5;178m│\u001b[0m\u001b[38;5;178m│\u001b[0m\u001b[38;5;178m \u001b[0m\u001b[32m'jamiesonwayne24@icloud.com'\u001b[0m\u001b[38;5;178m,    \u001b[0m\u001b[38;5;178m \u001b[0m\u001b[38;5;178m│\u001b[0m\u001b[38;5;178m│\u001b[0m\u001b[38;5;178m \u001b[0m\u001b[38;5;178m    \u001b[0m\u001b[32m'birth_date'\u001b[0m\u001b[38;5;178m: \u001b[0m\u001b[32m'2018-10-01'\u001b[0m\u001b[38;5;178m,  \u001b[0m\u001b[38;5;178m \u001b[0m\u001b[38;5;178m│\u001b[0m\u001b[38;5;178m \u001b[0m\u001b[38;5;178m│\u001b[0m\n",
              "\u001b[38;5;178m│\u001b[0m\u001b[38;5;178m \u001b[0m\u001b[38;5;178m│\u001b[0m\u001b[38;5;178m \u001b[0m\u001b[38;5;178m    \u001b[0m\u001b[32m'birth_date'\u001b[0m\u001b[38;5;178m: \u001b[0m\u001b[32m'2022-01-16'\u001b[0m\u001b[38;5;178m,  \u001b[0m\u001b[38;5;178m \u001b[0m\u001b[38;5;178m│\u001b[0m\u001b[38;5;178m│\u001b[0m\u001b[38;5;178m \u001b[0m\u001b[38;5;178m    \u001b[0m\u001b[32m'birth_date'\u001b[0m\u001b[38;5;178m: \u001b[0m\u001b[32m'1981-09-24'\u001b[0m\u001b[38;5;178m,  \u001b[0m\u001b[38;5;178m \u001b[0m\u001b[38;5;178m│\u001b[0m\u001b[38;5;178m│\u001b[0m\u001b[38;5;178m \u001b[0m\u001b[38;5;178m    \u001b[0m\u001b[32m'national_id'\u001b[0m\u001b[38;5;178m: \u001b[0m\u001b[32m'276-81-5387'\u001b[0m\u001b[38;5;178m \u001b[0m\u001b[38;5;178m \u001b[0m\u001b[38;5;178m│\u001b[0m\u001b[38;5;178m \u001b[0m\u001b[38;5;178m│\u001b[0m\n",
              "\u001b[38;5;178m│\u001b[0m\u001b[38;5;178m \u001b[0m\u001b[38;5;178m│\u001b[0m\u001b[38;5;178m \u001b[0m\u001b[38;5;178m    \u001b[0m\u001b[32m'national_id'\u001b[0m\u001b[38;5;178m: \u001b[0m\u001b[32m'063-27-1393'\u001b[0m\u001b[38;5;178m \u001b[0m\u001b[38;5;178m \u001b[0m\u001b[38;5;178m│\u001b[0m\u001b[38;5;178m│\u001b[0m\u001b[38;5;178m \u001b[0m\u001b[38;5;178m    \u001b[0m\u001b[32m'national_id'\u001b[0m\u001b[38;5;178m: \u001b[0m\u001b[32m'570-15-2021'\u001b[0m\u001b[38;5;178m \u001b[0m\u001b[38;5;178m \u001b[0m\u001b[38;5;178m│\u001b[0m\u001b[38;5;178m│\u001b[0m\u001b[38;5;178m \u001b[0m\u001b[38;2;143;188;187m}\u001b[0m\u001b[38;5;178m                                \u001b[0m\u001b[38;5;178m \u001b[0m\u001b[38;5;178m│\u001b[0m\u001b[38;5;178m \u001b[0m\u001b[38;5;178m│\u001b[0m\n",
              "\u001b[38;5;178m│\u001b[0m\u001b[38;5;178m \u001b[0m\u001b[38;5;178m│\u001b[0m\u001b[38;5;178m \u001b[0m\u001b[38;2;143;188;187m}\u001b[0m\u001b[38;5;178m                                \u001b[0m\u001b[38;5;178m \u001b[0m\u001b[38;5;178m│\u001b[0m\u001b[38;5;178m│\u001b[0m\u001b[38;5;178m \u001b[0m\u001b[38;2;143;188;187m}\u001b[0m\u001b[38;5;178m                                \u001b[0m\u001b[38;5;178m \u001b[0m\u001b[38;5;178m│\u001b[0m\u001b[38;5;178m╰───────────────────────────────────╯\u001b[0m\u001b[38;5;178m \u001b[0m\u001b[38;5;178m│\u001b[0m\n",
              "\u001b[38;5;178m│\u001b[0m\u001b[38;5;178m \u001b[0m\u001b[38;5;178m╰───────────────────────────────────╯\u001b[0m\u001b[38;5;178m╰───────────────────────────────────╯\u001b[0m\u001b[38;5;178m                                     \u001b[0m\u001b[38;5;178m \u001b[0m\u001b[38;5;178m│\u001b[0m\n",
              "\u001b[38;5;178m╰─────────────────────────────────────────────────────────────────────────────────────────────────────────────────╯\u001b[0m\n"
            ]
          },
          "metadata": {},
          "output_type": "display_data"
        },
        {
          "data": {
            "text/html": [
              "<pre style=\"white-space:pre;overflow-x:auto;line-height:normal;font-family:Menlo,'DejaVu Sans Mono',consolas,'Courier New',monospace\"><span style=\"color: #008000; text-decoration-color: #008000; font-weight: bold\">🪄 Column </span><span style=\"color: #00afff; text-decoration-color: #00afff; font-weight: bold; font-style: italic\">patient</span><span style=\"color: #008000; text-decoration-color: #008000; font-weight: bold\"> updated in source DataDesigner!</span>\n",
              "</pre>\n"
            ],
            "text/plain": [
              "\u001b[1;32m🪄 Column \u001b[0m\u001b[1;3;38;5;39mpatient\u001b[0m\u001b[1;32m updated in source DataDesigner!\u001b[0m\n"
            ]
          },
          "metadata": {},
          "output_type": "display_data"
        },
        {
          "data": {
            "text/html": [
              "<pre style=\"white-space:pre;overflow-x:auto;line-height:normal;font-family:Menlo,'DejaVu Sans Mono',consolas,'Courier New',monospace\"><span style=\"color: #00afff; text-decoration-color: #00afff\">╭─</span> 💬 <span style=\"color: #00afff; text-decoration-color: #00afff; font-style: italic\">bmi</span> <span style=\"color: #00afff; text-decoration-color: #00afff\">────────────────────────────────────────────────────────────────────────────────────────────────────────╮</span>\n",
              "<span style=\"color: #00afff; text-decoration-color: #00afff\">│ body mass index of an average person                                                                            │</span>\n",
              "<span style=\"color: #00afff; text-decoration-color: #00afff\">╰─────────────────────────────────────────────────────────────────────────────────────────────────────────────────╯</span>\n",
              "</pre>\n"
            ],
            "text/plain": [
              "\u001b[38;5;39m╭─\u001b[0m 💬 \u001b[3;38;5;39mbmi\u001b[0m \u001b[38;5;39m───────────────────────────────────────────────────────────────────────────────────────────────────────\u001b[0m\u001b[38;5;39m─╮\u001b[0m\n",
              "\u001b[38;5;39m│\u001b[0m\u001b[38;5;39m \u001b[0m\u001b[38;5;39mbody mass index of an average person\u001b[0m\u001b[38;5;39m                                                                           \u001b[0m\u001b[38;5;39m \u001b[0m\u001b[38;5;39m│\u001b[0m\n",
              "\u001b[38;5;39m╰─────────────────────────────────────────────────────────────────────────────────────────────────────────────────╯\u001b[0m\n"
            ]
          },
          "metadata": {},
          "output_type": "display_data"
        },
        {
          "data": {
            "application/vnd.jupyter.widget-view+json": {
              "model_id": "e7c3549541b649d8a408789880e283cf",
              "version_major": 2,
              "version_minor": 0
            },
            "text/plain": [
              "Output()"
            ]
          },
          "metadata": {},
          "output_type": "display_data"
        },
        {
          "data": {
            "text/html": [
              "<pre style=\"white-space:pre;overflow-x:auto;line-height:normal;font-family:Menlo,'DejaVu Sans Mono',consolas,'Courier New',monospace\"></pre>\n"
            ],
            "text/plain": []
          },
          "metadata": {},
          "output_type": "display_data"
        },
        {
          "data": {
            "text/html": [
              "<pre style=\"white-space:pre;overflow-x:auto;line-height:normal;font-family:Menlo,'DejaVu Sans Mono',consolas,'Courier New',monospace\"><span style=\"color: #d7af00; text-decoration-color: #d7af00\">╭─</span> 🪄 Generated Column Config for <span style=\"color: #00afff; text-decoration-color: #00afff; font-style: italic\">bmi</span> <span style=\"color: #d7af00; text-decoration-color: #d7af00\">────────────────────────────────────────────────────────────────────────────╮</span>\n",
              "<span style=\"color: #d7af00; text-decoration-color: #d7af00\">│ </span><span style=\"color: #5e81ac; text-decoration-color: #5e81ac\">SamplerColumn</span><span style=\"color: #8fbcbb; text-decoration-color: #8fbcbb\">(</span><span style=\"color: #d7af00; text-decoration-color: #d7af00\">                                                                                                  │</span>\n",
              "<span style=\"color: #d7af00; text-decoration-color: #d7af00\">│     </span><span style=\"color: #4c566a; text-decoration-color: #4c566a\">name</span><span style=\"color: #d7af00; text-decoration-color: #d7af00\">=</span><span style=\"color: #008000; text-decoration-color: #008000\">'bmi'</span><span style=\"color: #d7af00; text-decoration-color: #d7af00\">,                                                                                                 │</span>\n",
              "<span style=\"color: #d7af00; text-decoration-color: #d7af00\">│     </span><span style=\"color: #4c566a; text-decoration-color: #4c566a\">type</span><span style=\"color: #d7af00; text-decoration-color: #d7af00\">=</span><span style=\"color: #d7af00; text-decoration-color: #d7af00; font-weight: bold\">&lt;</span><span style=\"color: #ff00ff; text-decoration-color: #ff00ff; font-weight: bold\">SamplingSourceType.GAUSSIAN:</span><span style=\"color: #000000; text-decoration-color: #000000\"> </span><span style=\"color: #008000; text-decoration-color: #008000\">'gaussian'</span><span style=\"color: #d7af00; text-decoration-color: #d7af00; font-weight: bold\">&gt;</span><span style=\"color: #d7af00; text-decoration-color: #d7af00\">,                                                             │</span>\n",
              "<span style=\"color: #d7af00; text-decoration-color: #d7af00\">│     </span><span style=\"color: #4c566a; text-decoration-color: #4c566a\">params</span><span style=\"color: #d7af00; text-decoration-color: #d7af00\">=</span><span style=\"color: #5e81ac; text-decoration-color: #5e81ac\">GaussianSamplerParams</span><span style=\"color: #8fbcbb; text-decoration-color: #8fbcbb\">(</span><span style=\"color: #4c566a; text-decoration-color: #4c566a\">mean</span><span style=\"color: #d7af00; text-decoration-color: #d7af00\">=</span><span style=\"color: #b48ead; text-decoration-color: #b48ead\">28</span><span style=\"color: #b48ead; text-decoration-color: #b48ead\">.7</span><span style=\"color: #d7af00; text-decoration-color: #d7af00\">, </span><span style=\"color: #4c566a; text-decoration-color: #4c566a\">stddev</span><span style=\"color: #d7af00; text-decoration-color: #d7af00\">=</span><span style=\"color: #b48ead; text-decoration-color: #b48ead\">5</span><span style=\"color: #b48ead; text-decoration-color: #b48ead\">.1</span><span style=\"color: #8fbcbb; text-decoration-color: #8fbcbb\">)</span><span style=\"color: #d7af00; text-decoration-color: #d7af00\">,                                                        │</span>\n",
              "<span style=\"color: #d7af00; text-decoration-color: #d7af00\">│     </span><span style=\"color: #4c566a; text-decoration-color: #4c566a\">conditional_params</span><span style=\"color: #d7af00; text-decoration-color: #d7af00\">=</span><span style=\"color: #8fbcbb; text-decoration-color: #8fbcbb\">{}</span><span style=\"color: #d7af00; text-decoration-color: #d7af00\">,                                                                                      │</span>\n",
              "<span style=\"color: #d7af00; text-decoration-color: #d7af00\">│     </span><span style=\"color: #4c566a; text-decoration-color: #4c566a\">convert_to</span><span style=\"color: #d7af00; text-decoration-color: #d7af00\">=</span><span style=\"color: #bf616a; text-decoration-color: #bf616a\">None</span><span style=\"color: #d7af00; text-decoration-color: #d7af00\">                                                                                             │</span>\n",
              "<span style=\"color: #d7af00; text-decoration-color: #d7af00\">│ </span><span style=\"color: #8fbcbb; text-decoration-color: #8fbcbb\">)</span><span style=\"color: #d7af00; text-decoration-color: #d7af00\">                                                                                                               │</span>\n",
              "<span style=\"color: #d7af00; text-decoration-color: #d7af00\">╰─────────────────────────────────────────────────────────────────────────────────────────────────────────────────╯</span>\n",
              "</pre>\n"
            ],
            "text/plain": [
              "\u001b[38;5;178m╭─\u001b[0m 🪄 Generated Column Config for \u001b[3;38;5;39mbmi\u001b[0m \u001b[38;5;178m───────────────────────────────────────────────────────────────────────────\u001b[0m\u001b[38;5;178m─╮\u001b[0m\n",
              "\u001b[38;5;178m│\u001b[0m\u001b[38;5;178m \u001b[0m\u001b[38;2;94;129;172mSamplerColumn\u001b[0m\u001b[38;2;143;188;187m(\u001b[0m\u001b[38;5;178m                                                                                                 \u001b[0m\u001b[38;5;178m \u001b[0m\u001b[38;5;178m│\u001b[0m\n",
              "\u001b[38;5;178m│\u001b[0m\u001b[38;5;178m \u001b[0m\u001b[38;5;178m    \u001b[0m\u001b[38;2;76;86;106mname\u001b[0m\u001b[38;5;178m=\u001b[0m\u001b[32m'bmi'\u001b[0m\u001b[38;5;178m,\u001b[0m\u001b[38;5;178m                                                                                                \u001b[0m\u001b[38;5;178m \u001b[0m\u001b[38;5;178m│\u001b[0m\n",
              "\u001b[38;5;178m│\u001b[0m\u001b[38;5;178m \u001b[0m\u001b[38;5;178m    \u001b[0m\u001b[38;2;76;86;106mtype\u001b[0m\u001b[38;5;178m=\u001b[0m\u001b[1;38;5;178m<\u001b[0m\u001b[1;95mSamplingSourceType.GAUSSIAN:\u001b[0m\u001b[39m \u001b[0m\u001b[32m'gaussian'\u001b[0m\u001b[1;38;5;178m>\u001b[0m\u001b[38;5;178m,\u001b[0m\u001b[38;5;178m                                                            \u001b[0m\u001b[38;5;178m \u001b[0m\u001b[38;5;178m│\u001b[0m\n",
              "\u001b[38;5;178m│\u001b[0m\u001b[38;5;178m \u001b[0m\u001b[38;5;178m    \u001b[0m\u001b[38;2;76;86;106mparams\u001b[0m\u001b[38;5;178m=\u001b[0m\u001b[38;2;94;129;172mGaussianSamplerParams\u001b[0m\u001b[38;2;143;188;187m(\u001b[0m\u001b[38;2;76;86;106mmean\u001b[0m\u001b[38;5;178m=\u001b[0m\u001b[38;2;180;142;173m28\u001b[0m\u001b[38;2;180;142;173m.7\u001b[0m\u001b[38;5;178m, \u001b[0m\u001b[38;2;76;86;106mstddev\u001b[0m\u001b[38;5;178m=\u001b[0m\u001b[38;2;180;142;173m5\u001b[0m\u001b[38;2;180;142;173m.1\u001b[0m\u001b[38;2;143;188;187m)\u001b[0m\u001b[38;5;178m,\u001b[0m\u001b[38;5;178m                                                       \u001b[0m\u001b[38;5;178m \u001b[0m\u001b[38;5;178m│\u001b[0m\n",
              "\u001b[38;5;178m│\u001b[0m\u001b[38;5;178m \u001b[0m\u001b[38;5;178m    \u001b[0m\u001b[38;2;76;86;106mconditional_params\u001b[0m\u001b[38;5;178m=\u001b[0m\u001b[38;2;143;188;187m{\u001b[0m\u001b[38;2;143;188;187m}\u001b[0m\u001b[38;5;178m,\u001b[0m\u001b[38;5;178m                                                                                     \u001b[0m\u001b[38;5;178m \u001b[0m\u001b[38;5;178m│\u001b[0m\n",
              "\u001b[38;5;178m│\u001b[0m\u001b[38;5;178m \u001b[0m\u001b[38;5;178m    \u001b[0m\u001b[38;2;76;86;106mconvert_to\u001b[0m\u001b[38;5;178m=\u001b[0m\u001b[38;2;191;97;106mNone\u001b[0m\u001b[38;5;178m                                                                                            \u001b[0m\u001b[38;5;178m \u001b[0m\u001b[38;5;178m│\u001b[0m\n",
              "\u001b[38;5;178m│\u001b[0m\u001b[38;5;178m \u001b[0m\u001b[38;2;143;188;187m)\u001b[0m\u001b[38;5;178m                                                                                                              \u001b[0m\u001b[38;5;178m \u001b[0m\u001b[38;5;178m│\u001b[0m\n",
              "\u001b[38;5;178m╰─────────────────────────────────────────────────────────────────────────────────────────────────────────────────╯\u001b[0m\n"
            ]
          },
          "metadata": {},
          "output_type": "display_data"
        },
        {
          "name": "stdout",
          "output_type": "stream",
          "text": [
            "[20:15:43] [INFO] 🚀 Generating preview\n"
          ]
        },
        {
          "data": {
            "application/vnd.jupyter.widget-view+json": {
              "model_id": "62b68c36e217447cb8bf78346a9824b3",
              "version_major": 2,
              "version_minor": 0
            },
            "text/plain": [
              "Output()"
            ]
          },
          "metadata": {},
          "output_type": "display_data"
        },
        {
          "name": "stdout",
          "output_type": "stream",
          "text": [
            "[20:15:44] [INFO] 🦜 Step 1: Generate columns using samplers\n"
          ]
        },
        {
          "name": "stdout",
          "output_type": "stream",
          "text": [
            "[20:15:46] [INFO] 🎉 Your dataset preview is ready!\n"
          ]
        },
        {
          "data": {
            "text/html": [
              "<pre style=\"white-space:pre;overflow-x:auto;line-height:normal;font-family:Menlo,'DejaVu Sans Mono',consolas,'Courier New',monospace\"></pre>\n"
            ],
            "text/plain": []
          },
          "metadata": {},
          "output_type": "display_data"
        },
        {
          "data": {
            "text/html": [
              "<pre style=\"white-space:pre;overflow-x:auto;line-height:normal;font-family:Menlo,'DejaVu Sans Mono',consolas,'Courier New',monospace\"><span style=\"color: #d7af00; text-decoration-color: #d7af00\">╭───────────────────────────────────────────────</span> 🎲 Samples of <span style=\"color: #00afff; text-decoration-color: #00afff; font-style: italic\">bmi</span> <span style=\"color: #d7af00; text-decoration-color: #d7af00\">───────────────────────────────────────────────╮</span>\n",
              "<span style=\"color: #d7af00; text-decoration-color: #d7af00\">│ ╭─────────────────────────────────╮╭────────────────────────────────────╮╭────────────────────────────────────╮ │</span>\n",
              "<span style=\"color: #d7af00; text-decoration-color: #d7af00\">│ │ </span><span style=\"color: #b48ead; text-decoration-color: #b48ead\">34.2535183556094</span><span style=\"color: #d7af00; text-decoration-color: #d7af00\">                ││ </span><span style=\"color: #b48ead; text-decoration-color: #b48ead\">28.804480469529842</span><span style=\"color: #d7af00; text-decoration-color: #d7af00\">                 ││ </span><span style=\"color: #b48ead; text-decoration-color: #b48ead\">37.624615889747346</span><span style=\"color: #d7af00; text-decoration-color: #d7af00\">                 │ │</span>\n",
              "<span style=\"color: #d7af00; text-decoration-color: #d7af00\">│ ╰─────────────────────────────────╯╰────────────────────────────────────╯╰────────────────────────────────────╯ │</span>\n",
              "<span style=\"color: #d7af00; text-decoration-color: #d7af00\">╰─────────────────────────────────────────────────────────────────────────────────────────────────────────────────╯</span>\n",
              "</pre>\n"
            ],
            "text/plain": [
              "\u001b[38;5;178m╭─\u001b[0m\u001b[38;5;178m──────────────────────────────────────────────\u001b[0m 🎲 Samples of \u001b[3;38;5;39mbmi\u001b[0m \u001b[38;5;178m──────────────────────────────────────────────\u001b[0m\u001b[38;5;178m─╮\u001b[0m\n",
              "\u001b[38;5;178m│\u001b[0m\u001b[38;5;178m \u001b[0m\u001b[38;5;178m╭─────────────────────────────────╮\u001b[0m\u001b[38;5;178m╭────────────────────────────────────╮\u001b[0m\u001b[38;5;178m╭────────────────────────────────────╮\u001b[0m\u001b[38;5;178m \u001b[0m\u001b[38;5;178m│\u001b[0m\n",
              "\u001b[38;5;178m│\u001b[0m\u001b[38;5;178m \u001b[0m\u001b[38;5;178m│\u001b[0m\u001b[38;5;178m \u001b[0m\u001b[38;2;180;142;173m34.2535183556094\u001b[0m\u001b[38;5;178m               \u001b[0m\u001b[38;5;178m \u001b[0m\u001b[38;5;178m│\u001b[0m\u001b[38;5;178m│\u001b[0m\u001b[38;5;178m \u001b[0m\u001b[38;2;180;142;173m28.804480469529842\u001b[0m\u001b[38;5;178m                \u001b[0m\u001b[38;5;178m \u001b[0m\u001b[38;5;178m│\u001b[0m\u001b[38;5;178m│\u001b[0m\u001b[38;5;178m \u001b[0m\u001b[38;2;180;142;173m37.624615889747346\u001b[0m\u001b[38;5;178m                \u001b[0m\u001b[38;5;178m \u001b[0m\u001b[38;5;178m│\u001b[0m\u001b[38;5;178m \u001b[0m\u001b[38;5;178m│\u001b[0m\n",
              "\u001b[38;5;178m│\u001b[0m\u001b[38;5;178m \u001b[0m\u001b[38;5;178m╰─────────────────────────────────╯\u001b[0m\u001b[38;5;178m╰────────────────────────────────────╯\u001b[0m\u001b[38;5;178m╰────────────────────────────────────╯\u001b[0m\u001b[38;5;178m \u001b[0m\u001b[38;5;178m│\u001b[0m\n",
              "\u001b[38;5;178m╰─────────────────────────────────────────────────────────────────────────────────────────────────────────────────╯\u001b[0m\n"
            ]
          },
          "metadata": {},
          "output_type": "display_data"
        },
        {
          "data": {
            "text/html": [
              "<pre style=\"white-space:pre;overflow-x:auto;line-height:normal;font-family:Menlo,'DejaVu Sans Mono',consolas,'Courier New',monospace\"><span style=\"color: #008000; text-decoration-color: #008000; font-weight: bold\">🪄 Column </span><span style=\"color: #00afff; text-decoration-color: #00afff; font-weight: bold; font-style: italic\">bmi</span><span style=\"color: #008000; text-decoration-color: #008000; font-weight: bold\"> updated in source DataDesigner!</span>\n",
              "</pre>\n"
            ],
            "text/plain": [
              "\u001b[1;32m🪄 Column \u001b[0m\u001b[1;3;38;5;39mbmi\u001b[0m\u001b[1;32m updated in source DataDesigner!\u001b[0m\n"
            ]
          },
          "metadata": {},
          "output_type": "display_data"
        },
        {
          "data": {
            "text/html": [
              "<meta charset=\"UTF-8\"><style>pre { line-height: 125%; }\n",
              "td.linenos .normal { color: #D8DEE9; background-color: #242933; padding-left: 5px; padding-right: 5px; }\n",
              "span.linenos { color: #D8DEE9; background-color: #242933; padding-left: 5px; padding-right: 5px; }\n",
              "td.linenos .special { color: #242933; background-color: #D8DEE9; padding-left: 5px; padding-right: 5px; }\n",
              "span.linenos.special { color: #242933; background-color: #D8DEE9; padding-left: 5px; padding-right: 5px; }\n",
              ".code .hll { background-color: #3B4252 }\n",
              ".code { background: #2E3440; color: #D8DEE9 }\n",
              ".code .c { color: #616E87; font-style: italic } /* Comment */\n",
              ".code .err { color: #BF616A } /* Error */\n",
              ".code .esc { color: #D8DEE9 } /* Escape */\n",
              ".code .g { color: #D8DEE9 } /* Generic */\n",
              ".code .k { color: #81A1C1; font-weight: bold } /* Keyword */\n",
              ".code .l { color: #D8DEE9 } /* Literal */\n",
              ".code .n { color: #D8DEE9 } /* Name */\n",
              ".code .o { color: #81A1C1; font-weight: bold } /* Operator */\n",
              ".code .x { color: #D8DEE9 } /* Other */\n",
              ".code .p { color: #ECEFF4 } /* Punctuation */\n",
              ".code .ch { color: #616E87; font-style: italic } /* Comment.Hashbang */\n",
              ".code .cm { color: #616E87; font-style: italic } /* Comment.Multiline */\n",
              ".code .cp { color: #5E81AC; font-style: italic } /* Comment.Preproc */\n",
              ".code .cpf { color: #616E87; font-style: italic } /* Comment.PreprocFile */\n",
              ".code .c1 { color: #616E87; font-style: italic } /* Comment.Single */\n",
              ".code .cs { color: #616E87; font-style: italic } /* Comment.Special */\n",
              ".code .gd { color: #BF616A } /* Generic.Deleted */\n",
              ".code .ge { color: #D8DEE9; font-style: italic } /* Generic.Emph */\n",
              ".code .ges { color: #D8DEE9; font-weight: bold; font-style: italic } /* Generic.EmphStrong */\n",
              ".code .gr { color: #BF616A } /* Generic.Error */\n",
              ".code .gh { color: #88C0D0; font-weight: bold } /* Generic.Heading */\n",
              ".code .gi { color: #A3BE8C } /* Generic.Inserted */\n",
              ".code .go { color: #D8DEE9 } /* Generic.Output */\n",
              ".code .gp { color: #616E88; font-weight: bold } /* Generic.Prompt */\n",
              ".code .gs { color: #D8DEE9; font-weight: bold } /* Generic.Strong */\n",
              ".code .gu { color: #88C0D0; font-weight: bold } /* Generic.Subheading */\n",
              ".code .gt { color: #BF616A } /* Generic.Traceback */\n",
              ".code .kc { color: #81A1C1; font-weight: bold } /* Keyword.Constant */\n",
              ".code .kd { color: #81A1C1; font-weight: bold } /* Keyword.Declaration */\n",
              ".code .kn { color: #81A1C1; font-weight: bold } /* Keyword.Namespace */\n",
              ".code .kp { color: #81A1C1 } /* Keyword.Pseudo */\n",
              ".code .kr { color: #81A1C1; font-weight: bold } /* Keyword.Reserved */\n",
              ".code .kt { color: #81A1C1 } /* Keyword.Type */\n",
              ".code .ld { color: #D8DEE9 } /* Literal.Date */\n",
              ".code .m { color: #B48EAD } /* Literal.Number */\n",
              ".code .s { color: #A3BE8C } /* Literal.String */\n",
              ".code .na { color: #8FBCBB } /* Name.Attribute */\n",
              ".code .nb { color: #81A1C1 } /* Name.Builtin */\n",
              ".code .nc { color: #8FBCBB } /* Name.Class */\n",
              ".code .no { color: #8FBCBB } /* Name.Constant */\n",
              ".code .nd { color: #D08770 } /* Name.Decorator */\n",
              ".code .ni { color: #D08770 } /* Name.Entity */\n",
              ".code .ne { color: #BF616A } /* Name.Exception */\n",
              ".code .nf { color: #88C0D0 } /* Name.Function */\n",
              ".code .nl { color: #D8DEE9 } /* Name.Label */\n",
              ".code .nn { color: #8FBCBB } /* Name.Namespace */\n",
              ".code .nx { color: #D8DEE9 } /* Name.Other */\n",
              ".code .py { color: #D8DEE9 } /* Name.Property */\n",
              ".code .nt { color: #81A1C1 } /* Name.Tag */\n",
              ".code .nv { color: #D8DEE9 } /* Name.Variable */\n",
              ".code .ow { color: #81A1C1; font-weight: bold } /* Operator.Word */\n",
              ".code .pm { color: #ECEFF4 } /* Punctuation.Marker */\n",
              ".code .w { color: #D8DEE9 } /* Text.Whitespace */\n",
              ".code .mb { color: #B48EAD } /* Literal.Number.Bin */\n",
              ".code .mf { color: #B48EAD } /* Literal.Number.Float */\n",
              ".code .mh { color: #B48EAD } /* Literal.Number.Hex */\n",
              ".code .mi { color: #B48EAD } /* Literal.Number.Integer */\n",
              ".code .mo { color: #B48EAD } /* Literal.Number.Oct */\n",
              ".code .sa { color: #A3BE8C } /* Literal.String.Affix */\n",
              ".code .sb { color: #A3BE8C } /* Literal.String.Backtick */\n",
              ".code .sc { color: #A3BE8C } /* Literal.String.Char */\n",
              ".code .dl { color: #A3BE8C } /* Literal.String.Delimiter */\n",
              ".code .sd { color: #616E87 } /* Literal.String.Doc */\n",
              ".code .s2 { color: #A3BE8C } /* Literal.String.Double */\n",
              ".code .se { color: #EBCB8B } /* Literal.String.Escape */\n",
              ".code .sh { color: #A3BE8C } /* Literal.String.Heredoc */\n",
              ".code .si { color: #A3BE8C } /* Literal.String.Interpol */\n",
              ".code .sx { color: #A3BE8C } /* Literal.String.Other */\n",
              ".code .sr { color: #EBCB8B } /* Literal.String.Regex */\n",
              ".code .s1 { color: #A3BE8C } /* Literal.String.Single */\n",
              ".code .ss { color: #A3BE8C } /* Literal.String.Symbol */\n",
              ".code .bp { color: #81A1C1 } /* Name.Builtin.Pseudo */\n",
              ".code .fm { color: #88C0D0 } /* Name.Function.Magic */\n",
              ".code .vc { color: #D8DEE9 } /* Name.Variable.Class */\n",
              ".code .vg { color: #D8DEE9 } /* Name.Variable.Global */\n",
              ".code .vi { color: #D8DEE9 } /* Name.Variable.Instance */\n",
              ".code .vm { color: #D8DEE9 } /* Name.Variable.Magic */\n",
              ".code .il { color: #B48EAD } /* Literal.Number.Integer.Long */</style><div class='code' style='padding: 5px;background-color: #2F343F;border: 1px solid grey;border-radius: 5px;display:inline-block;'><div class=\"code\"><pre><span></span><span class=\"n\">DataDesigner</span><span class=\"p\">(</span>\n",
              "    <span class=\"n\">model_suite</span><span class=\"p\">:</span> <span class=\"n\">apache</span><span class=\"o\">-</span><span class=\"mf\">2.0</span>\n",
              "    <span class=\"n\">sampler_columns</span><span class=\"p\">:</span> <span class=\"p\">[</span><span class=\"s1\">&#39;patient&#39;</span><span class=\"p\">,</span> <span class=\"s1\">&#39;bmi&#39;</span><span class=\"p\">]</span>\n",
              "<span class=\"p\">)</span>\n",
              "</pre></div>\n",
              "</div>"
            ],
            "text/plain": [
              "DataDesigner(\n",
              "    model_suite: apache-2.0\n",
              "    sampler_columns: ['patient', 'bmi']\n",
              ")"
            ]
          },
          "execution_count": 2,
          "metadata": {},
          "output_type": "execute_result"
        }
      ],
      "source": [
        "# Generated using RNG with add_sampling_column function\n",
        "dd.magic.add_sampling_column(\n",
        "    name = \"patient\",\n",
        "    description = \"An american male living in San Diego\",\n",
        "    interactive=False,\n",
        "    preview=True\n",
        ")\n",
        "\n",
        "# Sampling based off of a distribution\n",
        "dd.magic.add_sampling_column(\n",
        "    name = \"bmi\",\n",
        "    description = \"body mass index of an average person\",\n",
        "    interactive=False,\n",
        "    preview=True\n",
        ")"
      ]
    },
    {
      "cell_type": "code",
      "execution_count": 3,
      "metadata": {
        "colab": {
          "base_uri": "https://localhost:8080/",
          "height": 161
        },
        "id": "Y2fbkhX-9J4W",
        "outputId": "8f65cfbe-0314-4f2e-9701-6ef1703fae2e"
      },
      "outputs": [
        {
          "name": "stdout",
          "output_type": "stream",
          "text": [
            "PyTorch version 2.4.1 available.\n",
            "Number of records: 853\n"
          ]
        },
        {
          "data": {
            "text/html": [
              "<div>\n",
              "<style scoped>\n",
              "    .dataframe tbody tr th:only-of-type {\n",
              "        vertical-align: middle;\n",
              "    }\n",
              "\n",
              "    .dataframe tbody tr th {\n",
              "        vertical-align: top;\n",
              "    }\n",
              "\n",
              "    .dataframe thead th {\n",
              "        text-align: right;\n",
              "    }\n",
              "</style>\n",
              "<table border=\"1\" class=\"dataframe\">\n",
              "  <thead>\n",
              "    <tr style=\"text-align: right;\">\n",
              "      <th></th>\n",
              "      <th>diagnosis</th>\n",
              "      <th>patient_summary</th>\n",
              "    </tr>\n",
              "  </thead>\n",
              "  <tbody>\n",
              "    <tr>\n",
              "      <th>0</th>\n",
              "      <td>cervical spondylosis</td>\n",
              "      <td>I've been having a lot of pain in my neck and ...</td>\n",
              "    </tr>\n",
              "    <tr>\n",
              "      <th>1</th>\n",
              "      <td>impetigo</td>\n",
              "      <td>I have a rash on my face that is getting worse...</td>\n",
              "    </tr>\n",
              "    <tr>\n",
              "      <th>2</th>\n",
              "      <td>urinary tract infection</td>\n",
              "      <td>I have been urinating blood. I sometimes feel ...</td>\n",
              "    </tr>\n",
              "  </tbody>\n",
              "</table>\n",
              "</div>"
            ],
            "text/plain": [
              "                 diagnosis                                    patient_summary\n",
              "0     cervical spondylosis  I've been having a lot of pain in my neck and ...\n",
              "1                 impetigo  I have a rash on my face that is getting worse...\n",
              "2  urinary tract infection  I have been urinating blood. I sometimes feel ..."
            ]
          },
          "execution_count": 3,
          "metadata": {},
          "output_type": "execute_result"
        }
      ],
      "source": [
        "#Adding Seed Data\n",
        "\n",
        "# Load the seed dataset\n",
        "\n",
        "from datasets import load_dataset\n",
        "df_seed = load_dataset(\"gretelai/symptom_to_diagnosis\")[\"train\"].to_pandas()\n",
        "df_seed = df_seed.rename(columns={\"output_text\": \"diagnosis\", \"input_text\": \"patient_summary\"})\n",
        "\n",
        "print(f\"Number of records: {len(df_seed)}\")\n",
        "\n",
        "\n",
        "\n",
        "df_seed.head(n=3)"
      ]
    },
    {
      "cell_type": "code",
      "execution_count": 4,
      "metadata": {
        "colab": {
          "base_uri": "https://localhost:8080/",
          "height": 151
        },
        "id": "WSVtl-9C-7je",
        "outputId": "4234ed67-b893-4029-ce00-3f1fbac79294"
      },
      "outputs": [
        {
          "name": "stdout",
          "output_type": "stream",
          "text": [
            "[20:16:18] [INFO] 🌱 Using seed dataset with file ID: file_710cf01186f34b6a8a9e1643fd2fd2e1\n"
          ]
        },
        {
          "data": {
            "text/html": [
              "<meta charset=\"UTF-8\"><style>pre { line-height: 125%; }\n",
              "td.linenos .normal { color: #D8DEE9; background-color: #242933; padding-left: 5px; padding-right: 5px; }\n",
              "span.linenos { color: #D8DEE9; background-color: #242933; padding-left: 5px; padding-right: 5px; }\n",
              "td.linenos .special { color: #242933; background-color: #D8DEE9; padding-left: 5px; padding-right: 5px; }\n",
              "span.linenos.special { color: #242933; background-color: #D8DEE9; padding-left: 5px; padding-right: 5px; }\n",
              ".code .hll { background-color: #3B4252 }\n",
              ".code { background: #2E3440; color: #D8DEE9 }\n",
              ".code .c { color: #616E87; font-style: italic } /* Comment */\n",
              ".code .err { color: #BF616A } /* Error */\n",
              ".code .esc { color: #D8DEE9 } /* Escape */\n",
              ".code .g { color: #D8DEE9 } /* Generic */\n",
              ".code .k { color: #81A1C1; font-weight: bold } /* Keyword */\n",
              ".code .l { color: #D8DEE9 } /* Literal */\n",
              ".code .n { color: #D8DEE9 } /* Name */\n",
              ".code .o { color: #81A1C1; font-weight: bold } /* Operator */\n",
              ".code .x { color: #D8DEE9 } /* Other */\n",
              ".code .p { color: #ECEFF4 } /* Punctuation */\n",
              ".code .ch { color: #616E87; font-style: italic } /* Comment.Hashbang */\n",
              ".code .cm { color: #616E87; font-style: italic } /* Comment.Multiline */\n",
              ".code .cp { color: #5E81AC; font-style: italic } /* Comment.Preproc */\n",
              ".code .cpf { color: #616E87; font-style: italic } /* Comment.PreprocFile */\n",
              ".code .c1 { color: #616E87; font-style: italic } /* Comment.Single */\n",
              ".code .cs { color: #616E87; font-style: italic } /* Comment.Special */\n",
              ".code .gd { color: #BF616A } /* Generic.Deleted */\n",
              ".code .ge { color: #D8DEE9; font-style: italic } /* Generic.Emph */\n",
              ".code .ges { color: #D8DEE9; font-weight: bold; font-style: italic } /* Generic.EmphStrong */\n",
              ".code .gr { color: #BF616A } /* Generic.Error */\n",
              ".code .gh { color: #88C0D0; font-weight: bold } /* Generic.Heading */\n",
              ".code .gi { color: #A3BE8C } /* Generic.Inserted */\n",
              ".code .go { color: #D8DEE9 } /* Generic.Output */\n",
              ".code .gp { color: #616E88; font-weight: bold } /* Generic.Prompt */\n",
              ".code .gs { color: #D8DEE9; font-weight: bold } /* Generic.Strong */\n",
              ".code .gu { color: #88C0D0; font-weight: bold } /* Generic.Subheading */\n",
              ".code .gt { color: #BF616A } /* Generic.Traceback */\n",
              ".code .kc { color: #81A1C1; font-weight: bold } /* Keyword.Constant */\n",
              ".code .kd { color: #81A1C1; font-weight: bold } /* Keyword.Declaration */\n",
              ".code .kn { color: #81A1C1; font-weight: bold } /* Keyword.Namespace */\n",
              ".code .kp { color: #81A1C1 } /* Keyword.Pseudo */\n",
              ".code .kr { color: #81A1C1; font-weight: bold } /* Keyword.Reserved */\n",
              ".code .kt { color: #81A1C1 } /* Keyword.Type */\n",
              ".code .ld { color: #D8DEE9 } /* Literal.Date */\n",
              ".code .m { color: #B48EAD } /* Literal.Number */\n",
              ".code .s { color: #A3BE8C } /* Literal.String */\n",
              ".code .na { color: #8FBCBB } /* Name.Attribute */\n",
              ".code .nb { color: #81A1C1 } /* Name.Builtin */\n",
              ".code .nc { color: #8FBCBB } /* Name.Class */\n",
              ".code .no { color: #8FBCBB } /* Name.Constant */\n",
              ".code .nd { color: #D08770 } /* Name.Decorator */\n",
              ".code .ni { color: #D08770 } /* Name.Entity */\n",
              ".code .ne { color: #BF616A } /* Name.Exception */\n",
              ".code .nf { color: #88C0D0 } /* Name.Function */\n",
              ".code .nl { color: #D8DEE9 } /* Name.Label */\n",
              ".code .nn { color: #8FBCBB } /* Name.Namespace */\n",
              ".code .nx { color: #D8DEE9 } /* Name.Other */\n",
              ".code .py { color: #D8DEE9 } /* Name.Property */\n",
              ".code .nt { color: #81A1C1 } /* Name.Tag */\n",
              ".code .nv { color: #D8DEE9 } /* Name.Variable */\n",
              ".code .ow { color: #81A1C1; font-weight: bold } /* Operator.Word */\n",
              ".code .pm { color: #ECEFF4 } /* Punctuation.Marker */\n",
              ".code .w { color: #D8DEE9 } /* Text.Whitespace */\n",
              ".code .mb { color: #B48EAD } /* Literal.Number.Bin */\n",
              ".code .mf { color: #B48EAD } /* Literal.Number.Float */\n",
              ".code .mh { color: #B48EAD } /* Literal.Number.Hex */\n",
              ".code .mi { color: #B48EAD } /* Literal.Number.Integer */\n",
              ".code .mo { color: #B48EAD } /* Literal.Number.Oct */\n",
              ".code .sa { color: #A3BE8C } /* Literal.String.Affix */\n",
              ".code .sb { color: #A3BE8C } /* Literal.String.Backtick */\n",
              ".code .sc { color: #A3BE8C } /* Literal.String.Char */\n",
              ".code .dl { color: #A3BE8C } /* Literal.String.Delimiter */\n",
              ".code .sd { color: #616E87 } /* Literal.String.Doc */\n",
              ".code .s2 { color: #A3BE8C } /* Literal.String.Double */\n",
              ".code .se { color: #EBCB8B } /* Literal.String.Escape */\n",
              ".code .sh { color: #A3BE8C } /* Literal.String.Heredoc */\n",
              ".code .si { color: #A3BE8C } /* Literal.String.Interpol */\n",
              ".code .sx { color: #A3BE8C } /* Literal.String.Other */\n",
              ".code .sr { color: #EBCB8B } /* Literal.String.Regex */\n",
              ".code .s1 { color: #A3BE8C } /* Literal.String.Single */\n",
              ".code .ss { color: #A3BE8C } /* Literal.String.Symbol */\n",
              ".code .bp { color: #81A1C1 } /* Name.Builtin.Pseudo */\n",
              ".code .fm { color: #88C0D0 } /* Name.Function.Magic */\n",
              ".code .vc { color: #D8DEE9 } /* Name.Variable.Class */\n",
              ".code .vg { color: #D8DEE9 } /* Name.Variable.Global */\n",
              ".code .vi { color: #D8DEE9 } /* Name.Variable.Instance */\n",
              ".code .vm { color: #D8DEE9 } /* Name.Variable.Magic */\n",
              ".code .il { color: #B48EAD } /* Literal.Number.Integer.Long */</style><div class='code' style='padding: 5px;background-color: #2F343F;border: 1px solid grey;border-radius: 5px;display:inline-block;'><div class=\"code\"><pre><span></span><span class=\"n\">DataDesigner</span><span class=\"p\">(</span>\n",
              "    <span class=\"n\">model_suite</span><span class=\"p\">:</span> <span class=\"n\">apache</span><span class=\"o\">-</span><span class=\"mf\">2.0</span>\n",
              "    <span class=\"n\">seed_dataset</span><span class=\"p\">:</span> <span class=\"n\">file_710cf01186f34b6a8a9e1643fd2fd2e1</span>\n",
              "    <span class=\"n\">seed_columns</span><span class=\"p\">:</span> <span class=\"p\">[</span><span class=\"s1\">&#39;diagnosis&#39;</span><span class=\"p\">,</span> <span class=\"s1\">&#39;patient_summary&#39;</span><span class=\"p\">]</span>\n",
              "    <span class=\"n\">sampler_columns</span><span class=\"p\">:</span> <span class=\"p\">[</span><span class=\"s1\">&#39;patient&#39;</span><span class=\"p\">,</span> <span class=\"s1\">&#39;bmi&#39;</span><span class=\"p\">]</span>\n",
              "<span class=\"p\">)</span>\n",
              "</pre></div>\n",
              "</div>"
            ],
            "text/plain": [
              "DataDesigner(\n",
              "    model_suite: apache-2.0\n",
              "    seed_dataset: file_710cf01186f34b6a8a9e1643fd2fd2e1\n",
              "    seed_columns: ['diagnosis', 'patient_summary']\n",
              "    sampler_columns: ['patient', 'bmi']\n",
              ")"
            ]
          },
          "execution_count": 4,
          "metadata": {},
          "output_type": "execute_result"
        }
      ],
      "source": [
        "# Add seed columns\n",
        "\n",
        "dd.with_seed_dataset(\n",
        "        df_seed,\n",
        "        sampling_strategy=\"shuffle\", #what are the options?\n",
        "        with_replacement=False,\n",
        "    )"
      ]
    },
    {
      "cell_type": "code",
      "execution_count": 5,
      "metadata": {
        "colab": {
          "base_uri": "https://localhost:8080/",
          "height": 519
        },
        "id": "a3vkJXaoJpVj",
        "outputId": "2dd3bd40-6719-42ac-f8d9-8998005f9158"
      },
      "outputs": [
        {
          "name": "stdout",
          "output_type": "stream",
          "text": [
            "[20:16:19] [INFO] 🚀 Generating preview\n",
            "[20:16:20] [INFO] 🎲 Step 1: Sample from dataset\n",
            "[20:16:22] [INFO] 🦜 Step 2: Generate columns using samplers\n",
            "[20:16:25] [INFO] 🔗 Step 3: Concat datasets\n",
            "[20:16:25] [INFO] 🎉 Your dataset preview is ready!\n"
          ]
        },
        {
          "data": {
            "text/html": [
              "<div>\n",
              "<style scoped>\n",
              "    .dataframe tbody tr th:only-of-type {\n",
              "        vertical-align: middle;\n",
              "    }\n",
              "\n",
              "    .dataframe tbody tr th {\n",
              "        vertical-align: top;\n",
              "    }\n",
              "\n",
              "    .dataframe thead th {\n",
              "        text-align: right;\n",
              "    }\n",
              "</style>\n",
              "<table border=\"1\" class=\"dataframe\">\n",
              "  <thead>\n",
              "    <tr style=\"text-align: right;\">\n",
              "      <th></th>\n",
              "      <th>diagnosis</th>\n",
              "      <th>patient_summary</th>\n",
              "      <th>patient</th>\n",
              "      <th>bmi</th>\n",
              "    </tr>\n",
              "  </thead>\n",
              "  <tbody>\n",
              "    <tr>\n",
              "      <th>0</th>\n",
              "      <td>varicose veins</td>\n",
              "      <td>I have these cramps in my calves that are real...</td>\n",
              "      <td>{'first_name': 'Ian', 'middle_name': '', 'last...</td>\n",
              "      <td>31.205480</td>\n",
              "    </tr>\n",
              "    <tr>\n",
              "      <th>1</th>\n",
              "      <td>impetigo</td>\n",
              "      <td>I have been having a fever for a few days and ...</td>\n",
              "      <td>{'first_name': 'Anthony', 'middle_name': 'Blak...</td>\n",
              "      <td>38.046817</td>\n",
              "    </tr>\n",
              "    <tr>\n",
              "      <th>2</th>\n",
              "      <td>bronchial asthma</td>\n",
              "      <td>I've been having a fever, a cough, and shortne...</td>\n",
              "      <td>{'first_name': 'Jerome', 'middle_name': 'J', '...</td>\n",
              "      <td>27.420705</td>\n",
              "    </tr>\n",
              "    <tr>\n",
              "      <th>3</th>\n",
              "      <td>diabetes</td>\n",
              "      <td>I have a feeling of tremors and muscle twitchi...</td>\n",
              "      <td>{'first_name': 'Clinton', 'middle_name': 'L', ...</td>\n",
              "      <td>33.565807</td>\n",
              "    </tr>\n",
              "    <tr>\n",
              "      <th>4</th>\n",
              "      <td>hypertension</td>\n",
              "      <td>I've been having headaches, chest pain, dizzin...</td>\n",
              "      <td>{'first_name': 'Leonard', 'middle_name': 'Grif...</td>\n",
              "      <td>32.310694</td>\n",
              "    </tr>\n",
              "    <tr>\n",
              "      <th>5</th>\n",
              "      <td>urinary tract infection</td>\n",
              "      <td>I've been feeling really down lately, and my p...</td>\n",
              "      <td>{'first_name': 'Johnny', 'middle_name': '', 'l...</td>\n",
              "      <td>26.119208</td>\n",
              "    </tr>\n",
              "    <tr>\n",
              "      <th>6</th>\n",
              "      <td>varicose veins</td>\n",
              "      <td>My legs have been swollen for a few days. I ca...</td>\n",
              "      <td>{'first_name': 'Brian', 'middle_name': 'Esteba...</td>\n",
              "      <td>28.717618</td>\n",
              "    </tr>\n",
              "    <tr>\n",
              "      <th>7</th>\n",
              "      <td>dengue</td>\n",
              "      <td>I've been feeling really tired and weak, and I...</td>\n",
              "      <td>{'first_name': 'Joseph', 'middle_name': '', 'l...</td>\n",
              "      <td>24.824916</td>\n",
              "    </tr>\n",
              "    <tr>\n",
              "      <th>8</th>\n",
              "      <td>jaundice</td>\n",
              "      <td>I have been feeling really sick lately. I have...</td>\n",
              "      <td>{'first_name': 'Kenneth', 'middle_name': '', '...</td>\n",
              "      <td>40.019826</td>\n",
              "    </tr>\n",
              "    <tr>\n",
              "      <th>9</th>\n",
              "      <td>peptic ulcer disease</td>\n",
              "      <td>I've had a change in my bowel movements. They'...</td>\n",
              "      <td>{'first_name': 'Matthew', 'middle_name': 'Mich...</td>\n",
              "      <td>37.315529</td>\n",
              "    </tr>\n",
              "  </tbody>\n",
              "</table>\n",
              "</div>"
            ],
            "text/plain": [
              "                 diagnosis                                    patient_summary  \\\n",
              "0           varicose veins  I have these cramps in my calves that are real...   \n",
              "1                 impetigo  I have been having a fever for a few days and ...   \n",
              "2         bronchial asthma  I've been having a fever, a cough, and shortne...   \n",
              "3                 diabetes  I have a feeling of tremors and muscle twitchi...   \n",
              "4             hypertension  I've been having headaches, chest pain, dizzin...   \n",
              "5  urinary tract infection  I've been feeling really down lately, and my p...   \n",
              "6           varicose veins  My legs have been swollen for a few days. I ca...   \n",
              "7                   dengue  I've been feeling really tired and weak, and I...   \n",
              "8                 jaundice  I have been feeling really sick lately. I have...   \n",
              "9     peptic ulcer disease  I've had a change in my bowel movements. They'...   \n",
              "\n",
              "                                             patient        bmi  \n",
              "0  {'first_name': 'Ian', 'middle_name': '', 'last...  31.205480  \n",
              "1  {'first_name': 'Anthony', 'middle_name': 'Blak...  38.046817  \n",
              "2  {'first_name': 'Jerome', 'middle_name': 'J', '...  27.420705  \n",
              "3  {'first_name': 'Clinton', 'middle_name': 'L', ...  33.565807  \n",
              "4  {'first_name': 'Leonard', 'middle_name': 'Grif...  32.310694  \n",
              "5  {'first_name': 'Johnny', 'middle_name': '', 'l...  26.119208  \n",
              "6  {'first_name': 'Brian', 'middle_name': 'Esteba...  28.717618  \n",
              "7  {'first_name': 'Joseph', 'middle_name': '', 'l...  24.824916  \n",
              "8  {'first_name': 'Kenneth', 'middle_name': '', '...  40.019826  \n",
              "9  {'first_name': 'Matthew', 'middle_name': 'Mich...  37.315529  "
            ]
          },
          "execution_count": 5,
          "metadata": {},
          "output_type": "execute_result"
        }
      ],
      "source": [
        "dd.preview().dataset.df"
      ]
    },
    {
      "cell_type": "code",
      "execution_count": 6,
      "metadata": {
        "colab": {
          "base_uri": "https://localhost:8080/",
          "height": 1000,
          "referenced_widgets": [
            "f627c883f2e644cc98def609a06acc36",
            "bcb414ff09fd40f887fae06461666b4a",
            "6653cf8a70fb4ed4b75da2b21ab5b37a",
            "8e600cfb42e14423853ff8184d4a0856",
            "58f16ea0b64d417797bf1a2fcbc7ef73",
            "a163caa74f3e4a339980811abdaf1b35",
            "c4b6571400294b06856f2a3a48b4a7e1",
            "84da0d9574f84303a8979c5569f45b50",
            "c62995f6f9454c2ba3c520a19ac50c60",
            "09743bbad46b4ae3bd937fcee444b9df",
            "820f16e549b74953b15f0a9e35ad0288",
            "750bfdf379a847db8f8dc218b5c37232"
          ]
        },
        "id": "f7GiH-v0KVDu",
        "outputId": "ed85c439-8909-4e69-e1f3-bcfd02a1e5d2"
      },
      "outputs": [
        {
          "data": {
            "text/html": [
              "\n",
              "    <div style=\"background-color: #FFF3CD; \n",
              "                color: #856404; \n",
              "                padding: 10px; \n",
              "                margin: 10px 0; \n",
              "                border-left: 6px solid #FFE187; \n",
              "                border-radius: 4px;\">\n",
              "        <p style=\"margin: 0;\">\n",
              "            <strong>🧪 Experimental Feature:</strong> Thanks for trying the 🪄 Magic `DataDesigner` interface! This interface is experimental and will likely change in the future. Please let us know your feedback and any issues @ https://github.com/gretelai/gretel-python-client/issues/new.\n",
              "\n",
              "        </p>\n",
              "    </div>\n",
              "    "
            ],
            "text/plain": [
              "<IPython.core.display.HTML object>"
            ]
          },
          "metadata": {},
          "output_type": "display_data"
        },
        {
          "data": {
            "text/html": [
              "<pre style=\"white-space:pre;overflow-x:auto;line-height:normal;font-family:Menlo,'DejaVu Sans Mono',consolas,'Courier New',monospace\"><span style=\"color: #00afff; text-decoration-color: #00afff\">╭─</span> 💬 <span style=\"color: #00afff; text-decoration-color: #00afff; font-style: italic\">api_response</span> <span style=\"color: #00afff; text-decoration-color: #00afff\">───────────────────────────────────────────────────────────────────────────────────────────────╮</span>\n",
              "<span style=\"color: #00afff; text-decoration-color: #00afff\">│ An API response that updates a database with with a generated UUID and the diagnosis column                     │</span>\n",
              "<span style=\"color: #00afff; text-decoration-color: #00afff\">╰─────────────────────────────────────────────────────────────────────────────────────────────────────────────────╯</span>\n",
              "</pre>\n"
            ],
            "text/plain": [
              "\u001b[38;5;39m╭─\u001b[0m 💬 \u001b[3;38;5;39mapi_response\u001b[0m \u001b[38;5;39m──────────────────────────────────────────────────────────────────────────────────────────────\u001b[0m\u001b[38;5;39m─╮\u001b[0m\n",
              "\u001b[38;5;39m│\u001b[0m\u001b[38;5;39m \u001b[0m\u001b[38;5;39mAn API response that updates a database with with a generated UUID and the diagnosis column\u001b[0m\u001b[38;5;39m                    \u001b[0m\u001b[38;5;39m \u001b[0m\u001b[38;5;39m│\u001b[0m\n",
              "\u001b[38;5;39m╰─────────────────────────────────────────────────────────────────────────────────────────────────────────────────╯\u001b[0m\n"
            ]
          },
          "metadata": {},
          "output_type": "display_data"
        },
        {
          "data": {
            "application/vnd.jupyter.widget-view+json": {
              "model_id": "f4dd09baafa64ba998e2e87460b98e60",
              "version_major": 2,
              "version_minor": 0
            },
            "text/plain": [
              "Output()"
            ]
          },
          "metadata": {},
          "output_type": "display_data"
        },
        {
          "data": {
            "text/html": [
              "<pre style=\"white-space:pre;overflow-x:auto;line-height:normal;font-family:Menlo,'DejaVu Sans Mono',consolas,'Courier New',monospace\"></pre>\n"
            ],
            "text/plain": []
          },
          "metadata": {},
          "output_type": "display_data"
        },
        {
          "data": {
            "text/html": [
              "<pre style=\"white-space:pre;overflow-x:auto;line-height:normal;font-family:Menlo,'DejaVu Sans Mono',consolas,'Courier New',monospace\"><span style=\"color: #d7af00; text-decoration-color: #d7af00\">╭─</span> 🪄 Generated Column Config for <span style=\"color: #00afff; text-decoration-color: #00afff; font-style: italic\">api_response</span> <span style=\"color: #d7af00; text-decoration-color: #d7af00\">───────────────────────────────────────────────────────────────────╮</span>\n",
              "<span style=\"color: #d7af00; text-decoration-color: #d7af00\">│ </span><span style=\"color: #5e81ac; text-decoration-color: #5e81ac\">LLMGenColumn</span><span style=\"color: #8fbcbb; text-decoration-color: #8fbcbb\">(</span><span style=\"color: #d7af00; text-decoration-color: #d7af00\">                                                                                                   │</span>\n",
              "<span style=\"color: #d7af00; text-decoration-color: #d7af00\">│     </span><span style=\"color: #4c566a; text-decoration-color: #4c566a\">model_suite</span><span style=\"color: #d7af00; text-decoration-color: #d7af00\">=</span><span style=\"color: #008000; text-decoration-color: #008000\">'apache-2.0'</span><span style=\"color: #d7af00; text-decoration-color: #d7af00\">,                                                                                   │</span>\n",
              "<span style=\"color: #d7af00; text-decoration-color: #d7af00\">│     </span><span style=\"color: #4c566a; text-decoration-color: #4c566a\">error_rate</span><span style=\"color: #d7af00; text-decoration-color: #d7af00\">=</span><span style=\"color: #b48ead; text-decoration-color: #b48ead\">0</span><span style=\"color: #b48ead; text-decoration-color: #b48ead\">.2</span><span style=\"color: #d7af00; text-decoration-color: #d7af00\">,                                                                                             │</span>\n",
              "<span style=\"color: #d7af00; text-decoration-color: #d7af00\">│     </span><span style=\"color: #4c566a; text-decoration-color: #4c566a\">model_configs</span><span style=\"color: #d7af00; text-decoration-color: #d7af00\">=</span><span style=\"color: #bf616a; text-decoration-color: #bf616a\">None</span><span style=\"color: #d7af00; text-decoration-color: #d7af00\">,                                                                                         │</span>\n",
              "<span style=\"color: #d7af00; text-decoration-color: #d7af00\">│     </span><span style=\"color: #4c566a; text-decoration-color: #4c566a\">model_alias</span><span style=\"color: #d7af00; text-decoration-color: #d7af00\">=</span><span style=\"color: #008000; text-decoration-color: #008000\">'code'</span><span style=\"color: #d7af00; text-decoration-color: #d7af00\">,                                                                                         │</span>\n",
              "<span style=\"color: #d7af00; text-decoration-color: #d7af00\">│     </span><span style=\"color: #4c566a; text-decoration-color: #4c566a\">prompt</span><span style=\"color: #d7af00; text-decoration-color: #d7af00\">=</span><span style=\"color: #008000; text-decoration-color: #008000\">'Generate a realistic API response in JSON format that updates a database with the following </span><span style=\"color: #d7af00; text-decoration-color: #d7af00\">        │</span>\n",
              "<span style=\"color: #d7af00; text-decoration-color: #d7af00\">│ </span><span style=\"color: #008000; text-decoration-color: #008000\">information:\\n- UUID: {{ patient.uuid }}\\n- Diagnosis: {{ diagnosis }}\\nThe response should include a status </span><span style=\"color: #d7af00; text-decoration-color: #d7af00\">   │</span>\n",
              "<span style=\"color: #d7af00; text-decoration-color: #d7af00\">│ </span><span style=\"color: #008000; text-decoration-color: #008000\">code, a success message, and the updated data.'</span><span style=\"color: #d7af00; text-decoration-color: #d7af00\">,                                                                │</span>\n",
              "<span style=\"color: #d7af00; text-decoration-color: #d7af00\">│     </span><span style=\"color: #4c566a; text-decoration-color: #4c566a\">name</span><span style=\"color: #d7af00; text-decoration-color: #d7af00\">=</span><span style=\"color: #008000; text-decoration-color: #008000\">'api_response'</span><span style=\"color: #d7af00; text-decoration-color: #d7af00\">,                                                                                        │</span>\n",
              "<span style=\"color: #d7af00; text-decoration-color: #d7af00\">│     </span><span style=\"color: #4c566a; text-decoration-color: #4c566a\">system_prompt</span><span style=\"color: #d7af00; text-decoration-color: #d7af00\">=</span><span style=\"color: #bf616a; text-decoration-color: #bf616a\">None</span><span style=\"color: #d7af00; text-decoration-color: #d7af00\">,                                                                                         │</span>\n",
              "<span style=\"color: #d7af00; text-decoration-color: #d7af00\">│     </span><span style=\"color: #4c566a; text-decoration-color: #4c566a\">data_config</span><span style=\"color: #d7af00; text-decoration-color: #d7af00\">=</span><span style=\"color: #5e81ac; text-decoration-color: #5e81ac\">DataConfig</span><span style=\"color: #8fbcbb; text-decoration-color: #8fbcbb\">(</span><span style=\"color: #4c566a; text-decoration-color: #4c566a\">type</span><span style=\"color: #d7af00; text-decoration-color: #d7af00\">=</span><span style=\"color: #d7af00; text-decoration-color: #d7af00; font-weight: bold\">&lt;</span><span style=\"color: #ff00ff; text-decoration-color: #ff00ff; font-weight: bold\">OutputType.CODE:</span><span style=\"color: #000000; text-decoration-color: #000000\"> </span><span style=\"color: #008000; text-decoration-color: #008000\">'code'</span><span style=\"color: #d7af00; text-decoration-color: #d7af00; font-weight: bold\">&gt;</span><span style=\"color: #d7af00; text-decoration-color: #d7af00\">, </span><span style=\"color: #4c566a; text-decoration-color: #4c566a\">params</span><span style=\"color: #d7af00; text-decoration-color: #d7af00\">=</span><span style=\"color: #8fbcbb; text-decoration-color: #8fbcbb\">{</span><span style=\"color: #008000; text-decoration-color: #008000\">'syntax'</span><span style=\"color: #d7af00; text-decoration-color: #d7af00\">: </span><span style=\"color: #008000; text-decoration-color: #008000\">'json'</span><span style=\"color: #8fbcbb; text-decoration-color: #8fbcbb\">})</span><span style=\"color: #d7af00; text-decoration-color: #d7af00\">,                          │</span>\n",
              "<span style=\"color: #d7af00; text-decoration-color: #d7af00\">│     </span><span style=\"color: #4c566a; text-decoration-color: #4c566a\">description</span><span style=\"color: #d7af00; text-decoration-color: #d7af00\">=</span><span style=\"color: #008000; text-decoration-color: #008000\">'A JSON-formatted API response that updates a database with a generated UUID and the diagnosis </span><span style=\"color: #d7af00; text-decoration-color: #d7af00\"> │</span>\n",
              "<span style=\"color: #d7af00; text-decoration-color: #d7af00\">│ </span><span style=\"color: #008000; text-decoration-color: #008000\">column.'</span><span style=\"color: #d7af00; text-decoration-color: #d7af00\">                                                                                                        │</span>\n",
              "<span style=\"color: #d7af00; text-decoration-color: #d7af00\">│ </span><span style=\"color: #8fbcbb; text-decoration-color: #8fbcbb\">)</span><span style=\"color: #d7af00; text-decoration-color: #d7af00\">                                                                                                               │</span>\n",
              "<span style=\"color: #d7af00; text-decoration-color: #d7af00\">╰─────────────────────────────────────────────────────────────────────────────────────────────────────────────────╯</span>\n",
              "</pre>\n"
            ],
            "text/plain": [
              "\u001b[38;5;178m╭─\u001b[0m 🪄 Generated Column Config for \u001b[3;38;5;39mapi_response\u001b[0m \u001b[38;5;178m──────────────────────────────────────────────────────────────────\u001b[0m\u001b[38;5;178m─╮\u001b[0m\n",
              "\u001b[38;5;178m│\u001b[0m\u001b[38;5;178m \u001b[0m\u001b[38;2;94;129;172mLLMGenColumn\u001b[0m\u001b[38;2;143;188;187m(\u001b[0m\u001b[38;5;178m                                                                                                  \u001b[0m\u001b[38;5;178m \u001b[0m\u001b[38;5;178m│\u001b[0m\n",
              "\u001b[38;5;178m│\u001b[0m\u001b[38;5;178m \u001b[0m\u001b[38;5;178m    \u001b[0m\u001b[38;2;76;86;106mmodel_suite\u001b[0m\u001b[38;5;178m=\u001b[0m\u001b[32m'apache-2.0'\u001b[0m\u001b[38;5;178m,\u001b[0m\u001b[38;5;178m                                                                                  \u001b[0m\u001b[38;5;178m \u001b[0m\u001b[38;5;178m│\u001b[0m\n",
              "\u001b[38;5;178m│\u001b[0m\u001b[38;5;178m \u001b[0m\u001b[38;5;178m    \u001b[0m\u001b[38;2;76;86;106merror_rate\u001b[0m\u001b[38;5;178m=\u001b[0m\u001b[38;2;180;142;173m0\u001b[0m\u001b[38;2;180;142;173m.2\u001b[0m\u001b[38;5;178m,\u001b[0m\u001b[38;5;178m                                                                                            \u001b[0m\u001b[38;5;178m \u001b[0m\u001b[38;5;178m│\u001b[0m\n",
              "\u001b[38;5;178m│\u001b[0m\u001b[38;5;178m \u001b[0m\u001b[38;5;178m    \u001b[0m\u001b[38;2;76;86;106mmodel_configs\u001b[0m\u001b[38;5;178m=\u001b[0m\u001b[38;2;191;97;106mNone\u001b[0m\u001b[38;5;178m,\u001b[0m\u001b[38;5;178m                                                                                        \u001b[0m\u001b[38;5;178m \u001b[0m\u001b[38;5;178m│\u001b[0m\n",
              "\u001b[38;5;178m│\u001b[0m\u001b[38;5;178m \u001b[0m\u001b[38;5;178m    \u001b[0m\u001b[38;2;76;86;106mmodel_alias\u001b[0m\u001b[38;5;178m=\u001b[0m\u001b[32m'code'\u001b[0m\u001b[38;5;178m,\u001b[0m\u001b[38;5;178m                                                                                        \u001b[0m\u001b[38;5;178m \u001b[0m\u001b[38;5;178m│\u001b[0m\n",
              "\u001b[38;5;178m│\u001b[0m\u001b[38;5;178m \u001b[0m\u001b[38;5;178m    \u001b[0m\u001b[38;2;76;86;106mprompt\u001b[0m\u001b[38;5;178m=\u001b[0m\u001b[32m'Generate a realistic API response in JSON format that updates a database with the following \u001b[0m\u001b[38;5;178m       \u001b[0m\u001b[38;5;178m \u001b[0m\u001b[38;5;178m│\u001b[0m\n",
              "\u001b[38;5;178m│\u001b[0m\u001b[38;5;178m \u001b[0m\u001b[32minformation:\\n- UUID: \u001b[0m\u001b[32m{\u001b[0m\u001b[32m{\u001b[0m\u001b[32m patient.uuid \u001b[0m\u001b[32m}\u001b[0m\u001b[32m}\u001b[0m\u001b[32m\\n- Diagnosis: \u001b[0m\u001b[32m{\u001b[0m\u001b[32m{\u001b[0m\u001b[32m diagnosis \u001b[0m\u001b[32m}\u001b[0m\u001b[32m}\u001b[0m\u001b[32m\\nThe response should include a status \u001b[0m\u001b[38;5;178m  \u001b[0m\u001b[38;5;178m \u001b[0m\u001b[38;5;178m│\u001b[0m\n",
              "\u001b[38;5;178m│\u001b[0m\u001b[38;5;178m \u001b[0m\u001b[32mcode, a success message, and the updated data.'\u001b[0m\u001b[38;5;178m,\u001b[0m\u001b[38;5;178m                                                               \u001b[0m\u001b[38;5;178m \u001b[0m\u001b[38;5;178m│\u001b[0m\n",
              "\u001b[38;5;178m│\u001b[0m\u001b[38;5;178m \u001b[0m\u001b[38;5;178m    \u001b[0m\u001b[38;2;76;86;106mname\u001b[0m\u001b[38;5;178m=\u001b[0m\u001b[32m'api_response'\u001b[0m\u001b[38;5;178m,\u001b[0m\u001b[38;5;178m                                                                                       \u001b[0m\u001b[38;5;178m \u001b[0m\u001b[38;5;178m│\u001b[0m\n",
              "\u001b[38;5;178m│\u001b[0m\u001b[38;5;178m \u001b[0m\u001b[38;5;178m    \u001b[0m\u001b[38;2;76;86;106msystem_prompt\u001b[0m\u001b[38;5;178m=\u001b[0m\u001b[38;2;191;97;106mNone\u001b[0m\u001b[38;5;178m,\u001b[0m\u001b[38;5;178m                                                                                        \u001b[0m\u001b[38;5;178m \u001b[0m\u001b[38;5;178m│\u001b[0m\n",
              "\u001b[38;5;178m│\u001b[0m\u001b[38;5;178m \u001b[0m\u001b[38;5;178m    \u001b[0m\u001b[38;2;76;86;106mdata_config\u001b[0m\u001b[38;5;178m=\u001b[0m\u001b[38;2;94;129;172mDataConfig\u001b[0m\u001b[38;2;143;188;187m(\u001b[0m\u001b[38;2;76;86;106mtype\u001b[0m\u001b[38;5;178m=\u001b[0m\u001b[1;38;5;178m<\u001b[0m\u001b[1;95mOutputType.CODE:\u001b[0m\u001b[39m \u001b[0m\u001b[32m'code'\u001b[0m\u001b[1;38;5;178m>\u001b[0m\u001b[38;5;178m, \u001b[0m\u001b[38;2;76;86;106mparams\u001b[0m\u001b[38;5;178m=\u001b[0m\u001b[38;2;143;188;187m{\u001b[0m\u001b[32m'syntax'\u001b[0m\u001b[38;5;178m: \u001b[0m\u001b[32m'json'\u001b[0m\u001b[38;2;143;188;187m}\u001b[0m\u001b[38;2;143;188;187m)\u001b[0m\u001b[38;5;178m,\u001b[0m\u001b[38;5;178m                         \u001b[0m\u001b[38;5;178m \u001b[0m\u001b[38;5;178m│\u001b[0m\n",
              "\u001b[38;5;178m│\u001b[0m\u001b[38;5;178m \u001b[0m\u001b[38;5;178m    \u001b[0m\u001b[38;2;76;86;106mdescription\u001b[0m\u001b[38;5;178m=\u001b[0m\u001b[32m'A JSON-formatted API response that updates a database with a generated UUID and the diagnosis \u001b[0m\u001b[38;5;178m \u001b[0m\u001b[38;5;178m│\u001b[0m\n",
              "\u001b[38;5;178m│\u001b[0m\u001b[38;5;178m \u001b[0m\u001b[32mcolumn.'\u001b[0m\u001b[38;5;178m                                                                                                       \u001b[0m\u001b[38;5;178m \u001b[0m\u001b[38;5;178m│\u001b[0m\n",
              "\u001b[38;5;178m│\u001b[0m\u001b[38;5;178m \u001b[0m\u001b[38;2;143;188;187m)\u001b[0m\u001b[38;5;178m                                                                                                              \u001b[0m\u001b[38;5;178m \u001b[0m\u001b[38;5;178m│\u001b[0m\n",
              "\u001b[38;5;178m╰─────────────────────────────────────────────────────────────────────────────────────────────────────────────────╯\u001b[0m\n"
            ]
          },
          "metadata": {},
          "output_type": "display_data"
        },
        {
          "name": "stdout",
          "output_type": "stream",
          "text": [
            "[20:16:36] [INFO] 🚀 Generating preview\n"
          ]
        },
        {
          "data": {
            "application/vnd.jupyter.widget-view+json": {
              "model_id": "bbd9bf9051af4ac883073552061bae6e",
              "version_major": 2,
              "version_minor": 0
            },
            "text/plain": [
              "Output()"
            ]
          },
          "metadata": {},
          "output_type": "display_data"
        },
        {
          "name": "stdout",
          "output_type": "stream",
          "text": [
            "[20:16:37] [INFO] 🎲 Step 1: Sample from dataset\n"
          ]
        },
        {
          "name": "stdout",
          "output_type": "stream",
          "text": [
            "[20:16:38] [INFO] 🦜 Step 2: Generate columns using samplers\n"
          ]
        },
        {
          "name": "stdout",
          "output_type": "stream",
          "text": [
            "[20:16:41] [INFO] 🔗 Step 3: Concat datasets\n"
          ]
        },
        {
          "name": "stdout",
          "output_type": "stream",
          "text": [
            "[20:16:41] [INFO] 🦜 Step 4: Generate column from template\n"
          ]
        },
        {
          "data": {
            "text/html": [
              "<pre style=\"white-space:pre;overflow-x:auto;line-height:normal;font-family:Menlo,'DejaVu Sans Mono',consolas,'Courier New',monospace\"></pre>\n"
            ],
            "text/plain": []
          },
          "metadata": {},
          "output_type": "display_data"
        },
        {
          "name": "stderr",
          "output_type": "stream",
          "text": [
            "/Users/kthadaka/Playground/base_env/lib/python3.12/site-packages/gretel_client/data_designer/magic_data_designer.py:519: SyntaxWarning: invalid escape sequence '\\['\n",
            "  f\"[bold]\\[{commands_str}] or your instructions[/bold]\", default=\"retry\"\n"
          ]
        },
        {
          "ename": "ValidationError",
          "evalue": "1 validation error for AIDDMetadata\ncode_langs.0\n  Input should be 'python', 'sqlite', 'tsql', 'bigquery', 'mysql', 'postgres' or 'ansi' [type=enum, input_value='json', input_type=str]\n    For further information visit https://errors.pydantic.dev/2.11/v/enum",
          "output_type": "error",
          "traceback": [
            "\u001b[31m---------------------------------------------------------------------------\u001b[39m",
            "\u001b[31mValidationError\u001b[39m                           Traceback (most recent call last)",
            "\u001b[36mCell\u001b[39m\u001b[36m \u001b[39m\u001b[32mIn[6]\u001b[39m\u001b[32m, line 3\u001b[39m\n\u001b[32m      1\u001b[39m \u001b[38;5;66;03m# Add an LLM-generated column. This requires atleast one non-LLM generated column (either through seed or sampling)\u001b[39;00m\n\u001b[32m----> \u001b[39m\u001b[32m3\u001b[39m \u001b[43mdd\u001b[49m\u001b[43m.\u001b[49m\u001b[43mmagic\u001b[49m\u001b[43m.\u001b[49m\u001b[43madd_column\u001b[49m\u001b[43m(\u001b[49m\n\u001b[32m      4\u001b[39m \u001b[43m    \u001b[49m\u001b[43mname\u001b[49m\u001b[43m \u001b[49m\u001b[43m=\u001b[49m\u001b[43m \u001b[49m\u001b[33;43m\"\u001b[39;49m\u001b[33;43mapi_response\u001b[39;49m\u001b[33;43m\"\u001b[39;49m\u001b[43m,\u001b[49m\n\u001b[32m      5\u001b[39m \u001b[43m    \u001b[49m\u001b[43mdescription\u001b[49m\u001b[43m \u001b[49m\u001b[43m=\u001b[49m\u001b[43m \u001b[49m\u001b[33;43m\"\u001b[39;49m\u001b[33;43mAn API response that updates a database with with a generated UUID and the diagnosis column\u001b[39;49m\u001b[33;43m\"\u001b[39;49m\u001b[43m,\u001b[49m\n\u001b[32m      6\u001b[39m \u001b[43m    \u001b[49m\u001b[43mmust_depend_on\u001b[49m\u001b[43m=\u001b[49m\u001b[43m[\u001b[49m\u001b[33;43m\"\u001b[39;49m\u001b[33;43mdiagnosis\u001b[39;49m\u001b[33;43m\"\u001b[39;49m\u001b[43m,\u001b[49m\u001b[43m \u001b[49m\u001b[33;43m\"\u001b[39;49m\u001b[33;43mpatient\u001b[39;49m\u001b[33;43m\"\u001b[39;49m\u001b[43m]\u001b[49m\u001b[43m,\u001b[49m\n\u001b[32m      7\u001b[39m \u001b[43m    \u001b[49m\u001b[43minteractive\u001b[49m\u001b[43m=\u001b[49m\u001b[38;5;28;43;01mTrue\u001b[39;49;00m\u001b[43m,\u001b[49m\u001b[43m \u001b[49m\u001b[38;5;66;43;03m#give feedback\u001b[39;49;00m\n\u001b[32m      8\u001b[39m \u001b[43m    \u001b[49m\u001b[43mpreview\u001b[49m\u001b[43m=\u001b[49m\u001b[38;5;28;43;01mTrue\u001b[39;49;00m\n\u001b[32m      9\u001b[39m \u001b[43m)\u001b[49m\n",
            "\u001b[36mFile \u001b[39m\u001b[32m~/Playground/base_env/lib/python3.12/site-packages/gretel_client/helpers.py:408\u001b[39m, in \u001b[36mexperimental.<locals>.decorator.<locals>.wrapper\u001b[39m\u001b[34m(*args, **kwargs)\u001b[39m\n\u001b[32m    406\u001b[39m     display_warning(message, obj_name, module_name, emoji)\n\u001b[32m    407\u001b[39m     _warned_registry.add(obj)\n\u001b[32m--> \u001b[39m\u001b[32m408\u001b[39m \u001b[38;5;28;01mreturn\u001b[39;00m \u001b[43mobj\u001b[49m\u001b[43m(\u001b[49m\u001b[43m*\u001b[49m\u001b[43margs\u001b[49m\u001b[43m,\u001b[49m\u001b[43m \u001b[49m\u001b[43m*\u001b[49m\u001b[43m*\u001b[49m\u001b[43mkwargs\u001b[49m\u001b[43m)\u001b[49m\n",
            "\u001b[36mFile \u001b[39m\u001b[32m~/Playground/base_env/lib/python3.12/site-packages/gretel_client/data_designer/magic_data_designer.py:559\u001b[39m, in \u001b[36mMagicDataDesignerEditor.add_column\u001b[39m\u001b[34m(self, name, description, must_depend_on, preview, save, interactive)\u001b[39m\n\u001b[32m    548\u001b[39m         \u001b[38;5;28;01mraise\u001b[39;00m \u001b[38;5;167;01mKeyError\u001b[39;00m(\n\u001b[32m    549\u001b[39m             \u001b[33mf\u001b[39m\u001b[33m\"\u001b[39m\u001b[33mRequired dependency \u001b[39m\u001b[38;5;132;01m{\u001b[39;00mdependency_column_name\u001b[38;5;132;01m}\u001b[39;00m\u001b[33m does not exist.\u001b[39m\u001b[33m\"\u001b[39m\n\u001b[32m    550\u001b[39m         )\n\u001b[32m    552\u001b[39m task = \u001b[38;5;28mself\u001b[39m._task_registry.GenerateColumnConfigFromInstruction(\n\u001b[32m    553\u001b[39m     name=name,\n\u001b[32m    554\u001b[39m     instruction=description,\n\u001b[32m    555\u001b[39m     must_depend_on=must_depend_on,\n\u001b[32m    556\u001b[39m     existing_columns=\u001b[38;5;28mself\u001b[39m.existing_columns,\n\u001b[32m    557\u001b[39m )\n\u001b[32m--> \u001b[39m\u001b[32m559\u001b[39m new_data_column = \u001b[38;5;28;43mself\u001b[39;49m\u001b[43m.\u001b[49m\u001b[43m_instruction_loop_for_aidd_column\u001b[49m\u001b[43m(\u001b[49m\n\u001b[32m    560\u001b[39m \u001b[43m    \u001b[49m\u001b[43mtask\u001b[49m\u001b[43m,\u001b[49m\u001b[43m \u001b[49m\u001b[43minteractive\u001b[49m\u001b[43m=\u001b[49m\u001b[43minteractive\u001b[49m\u001b[43m,\u001b[49m\u001b[43m \u001b[49m\u001b[43mpreview\u001b[49m\u001b[43m=\u001b[49m\u001b[43mpreview\u001b[49m\n\u001b[32m    561\u001b[39m \u001b[43m\u001b[49m\u001b[43m)\u001b[49m\n\u001b[32m    563\u001b[39m \u001b[38;5;28;01mif\u001b[39;00m new_data_column \u001b[38;5;129;01mis\u001b[39;00m \u001b[38;5;28;01mNone\u001b[39;00m:\n\u001b[32m    564\u001b[39m     \u001b[38;5;28mself\u001b[39m._working_dd_state = \u001b[38;5;28mself\u001b[39m._source_dd_state.fork()\n",
            "\u001b[36mFile \u001b[39m\u001b[32m~/Playground/base_env/lib/python3.12/site-packages/gretel_client/data_designer/magic_data_designer.py:512\u001b[39m, in \u001b[36mMagicDataDesignerEditor._instruction_loop_for_aidd_column\u001b[39m\u001b[34m(self, task, interactive, preview)\u001b[39m\n\u001b[32m    510\u001b[39m     \u001b[38;5;28;01mif\u001b[39;00m data_config:\n\u001b[32m    511\u001b[39m         syntax = data_config.params.get(\u001b[33m\"\u001b[39m\u001b[33msyntax\u001b[39m\u001b[33m\"\u001b[39m, \u001b[38;5;28;01mNone\u001b[39;00m)\n\u001b[32m--> \u001b[39m\u001b[32m512\u001b[39m     \u001b[38;5;28;43mself\u001b[39;49m\u001b[43m.\u001b[49m\u001b[43m_run_and_display_preview\u001b[49m\u001b[43m(\u001b[49m\u001b[43mtask\u001b[49m\u001b[43m.\u001b[49m\u001b[43mname\u001b[49m\u001b[43m,\u001b[49m\u001b[43m \u001b[49m\u001b[43msyntax\u001b[49m\u001b[43m=\u001b[49m\u001b[43msyntax\u001b[49m\u001b[43m)\u001b[49m\n\u001b[32m    514\u001b[39m \u001b[38;5;28;01mif\u001b[39;00m \u001b[38;5;129;01mnot\u001b[39;00m interactive:\n\u001b[32m    515\u001b[39m     \u001b[38;5;66;03m## Halt without prompting, mission accomplished.\u001b[39;00m\n\u001b[32m    516\u001b[39m     \u001b[38;5;28;01mbreak\u001b[39;00m\n",
            "\u001b[36mFile \u001b[39m\u001b[32m~/Playground/base_env/lib/python3.12/site-packages/gretel_client/data_designer/magic_data_designer.py:380\u001b[39m, in \u001b[36mMagicDataDesignerEditor._run_and_display_preview\u001b[39m\u001b[34m(self, name, syntax)\u001b[39m\n\u001b[32m    377\u001b[39m status_string = \u001b[33mf\u001b[39m\u001b[33m\"\u001b[39m\u001b[38;5;132;01m{\u001b[39;00maction_fun_name()\u001b[38;5;132;01m}\u001b[39;00m\u001b[33m samples of \u001b[39m\u001b[38;5;132;01m{\u001b[39;00mpprint_column_name(name)\u001b[38;5;132;01m}\u001b[39;00m\u001b[33m...\u001b[39m\u001b[33m\"\u001b[39m\n\u001b[32m    379\u001b[39m \u001b[38;5;28;01mwith\u001b[39;00m console.status(status_string, spinner=\u001b[33m\"\u001b[39m\u001b[33mtoggle10\u001b[39m\u001b[33m\"\u001b[39m):\n\u001b[32m--> \u001b[39m\u001b[32m380\u001b[39m     outs = \u001b[38;5;28;43mself\u001b[39;49m\u001b[43m.\u001b[49m\u001b[43m_dd_obj\u001b[49m\u001b[43m.\u001b[49m\u001b[43mpreview\u001b[49m\u001b[43m(\u001b[49m\u001b[43m)\u001b[49m\n\u001b[32m    382\u001b[39m \u001b[38;5;28mself\u001b[39m._source_dd_state.export_to_object(\u001b[38;5;28mself\u001b[39m._dd_obj)\n\u001b[32m    383\u001b[39m pprint_outputs(outs, name, n=\u001b[32m3\u001b[39m, syntax=syntax)\n",
            "\u001b[36mFile \u001b[39m\u001b[32m~/Playground/base_env/lib/python3.12/site-packages/gretel_client/data_designer/data_designer.py:217\u001b[39m, in \u001b[36mDataDesigner.preview\u001b[39m\u001b[34m(self, verbose_logging)\u001b[39m\n\u001b[32m    214\u001b[39m logger.info(\u001b[33m\"\u001b[39m\u001b[33m🚀 Generating preview\u001b[39m\u001b[33m\"\u001b[39m)\n\u001b[32m    215\u001b[39m workflow = \u001b[38;5;28mself\u001b[39m._build_workflow(num_records=\u001b[32m10\u001b[39m, verbose_logging=verbose_logging)\n\u001b[32m--> \u001b[39m\u001b[32m217\u001b[39m preview = \u001b[38;5;28;43mself\u001b[39;49m\u001b[43m.\u001b[49m\u001b[43m_capture_preview_result\u001b[49m\u001b[43m(\u001b[49m\n\u001b[32m    218\u001b[39m \u001b[43m    \u001b[49m\u001b[43mworkflow\u001b[49m\u001b[43m,\u001b[49m\u001b[43m \u001b[49m\u001b[43mverbose_logging\u001b[49m\u001b[43m=\u001b[49m\u001b[43mverbose_logging\u001b[49m\n\u001b[32m    219\u001b[39m \u001b[43m\u001b[49m\u001b[43m)\u001b[49m\n\u001b[32m    220\u001b[39m \u001b[38;5;28;01mif\u001b[39;00m preview.dataset \u001b[38;5;129;01mis\u001b[39;00m \u001b[38;5;129;01mnot\u001b[39;00m \u001b[38;5;28;01mNone\u001b[39;00m \u001b[38;5;129;01mand\u001b[39;00m preview.success:\n\u001b[32m    221\u001b[39m     logger.info(\u001b[33m\"\u001b[39m\u001b[33m🎉 Your dataset preview is ready!\u001b[39m\u001b[33m\"\u001b[39m)\n",
            "\u001b[36mFile \u001b[39m\u001b[32m~/Playground/base_env/lib/python3.12/site-packages/gretel_client/data_designer/data_designer.py:565\u001b[39m, in \u001b[36mDataDesigner._capture_preview_result\u001b[39m\u001b[34m(self, workflow, verbose_logging)\u001b[39m\n\u001b[32m    556\u001b[39m     final_output = outputs_by_step.get(current_step)\n\u001b[32m    557\u001b[39m evaluation_results = (\n\u001b[32m    558\u001b[39m     \u001b[38;5;28;01mNone\u001b[39;00m\n\u001b[32m    559\u001b[39m     \u001b[38;5;28;01mif\u001b[39;00m last_evaluation_step_name \u001b[38;5;129;01mis\u001b[39;00m \u001b[38;5;28;01mNone\u001b[39;00m\n\u001b[32m    560\u001b[39m     \u001b[38;5;28;01melse\u001b[39;00m outputs_by_step.get(last_evaluation_step_name)\n\u001b[32m    561\u001b[39m )\n\u001b[32m    562\u001b[39m \u001b[38;5;28;01mreturn\u001b[39;00m PreviewResults(\n\u001b[32m    563\u001b[39m     output=final_output,\n\u001b[32m    564\u001b[39m     evaluation_results=evaluation_results,\n\u001b[32m--> \u001b[39m\u001b[32m565\u001b[39m     aidd_metadata=\u001b[43mAIDDMetadata\u001b[49m\u001b[43m.\u001b[49m\u001b[43mfrom_aidd\u001b[49m\u001b[43m(\u001b[49m\u001b[38;5;28;43mself\u001b[39;49m\u001b[43m)\u001b[49m,\n\u001b[32m    566\u001b[39m     success=success,\n\u001b[32m    567\u001b[39m )\n",
            "\u001b[36mFile \u001b[39m\u001b[32m~/Playground/base_env/lib/python3.12/site-packages/gretel_client/data_designer/viz_tools.py:92\u001b[39m, in \u001b[36mAIDDMetadata.from_aidd\u001b[39m\u001b[34m(cls, aidd)\u001b[39m\n\u001b[32m     82\u001b[39m     code_validation_columns.extend(\n\u001b[32m     83\u001b[39m         [code_val_col.name] + \u001b[38;5;28mlist\u001b[39m(code_val_col.side_effect_columns)\n\u001b[32m     84\u001b[39m     )\n\u001b[32m     86\u001b[39m sampling_based_columns = [\n\u001b[32m     87\u001b[39m     col.name\n\u001b[32m     88\u001b[39m     \u001b[38;5;28;01mfor\u001b[39;00m col \u001b[38;5;129;01min\u001b[39;00m aidd._sampler_columns\n\u001b[32m     89\u001b[39m     \u001b[38;5;28;01mif\u001b[39;00m col.name \u001b[38;5;129;01mnot\u001b[39;00m \u001b[38;5;129;01min\u001b[39;00m \u001b[38;5;28mlist\u001b[39m(aidd._latent_columns.keys())\n\u001b[32m     90\u001b[39m ]\n\u001b[32m---> \u001b[39m\u001b[32m92\u001b[39m \u001b[38;5;28;01mreturn\u001b[39;00m \u001b[38;5;28;43mcls\u001b[39;49m\u001b[43m(\u001b[49m\n\u001b[32m     93\u001b[39m \u001b[43m    \u001b[49m\u001b[43msampler_columns\u001b[49m\u001b[43m=\u001b[49m\u001b[43msampling_based_columns\u001b[49m\u001b[43m,\u001b[49m\n\u001b[32m     94\u001b[39m \u001b[43m    \u001b[49m\u001b[43mllm_gen_text_columns\u001b[49m\u001b[43m=\u001b[49m\u001b[43mllm_gen_text_columns\u001b[49m\u001b[43m,\u001b[49m\n\u001b[32m     95\u001b[39m \u001b[43m    \u001b[49m\u001b[43mllm_gen_code_columns\u001b[49m\u001b[43m=\u001b[49m\u001b[43mllm_gen_code_columns\u001b[49m\u001b[43m,\u001b[49m\n\u001b[32m     96\u001b[39m \u001b[43m    \u001b[49m\u001b[43mllm_gen_structured_columns\u001b[49m\u001b[43m=\u001b[49m\u001b[43mllm_gen_structured_columns\u001b[49m\u001b[43m,\u001b[49m\n\u001b[32m     97\u001b[39m \u001b[43m    \u001b[49m\u001b[43mseed_columns\u001b[49m\u001b[43m=\u001b[49m\u001b[43m[\u001b[49m\u001b[43mcol\u001b[49m\u001b[43m.\u001b[49m\u001b[43mname\u001b[49m\u001b[43m \u001b[49m\u001b[38;5;28;43;01mfor\u001b[39;49;00m\u001b[43m \u001b[49m\u001b[43mcol\u001b[49m\u001b[43m \u001b[49m\u001b[38;5;129;43;01min\u001b[39;49;00m\u001b[43m \u001b[49m\u001b[43maidd\u001b[49m\u001b[43m.\u001b[49m\u001b[43m_seed_columns\u001b[49m\u001b[43m]\u001b[49m\u001b[43m,\u001b[49m\n\u001b[32m     98\u001b[39m \u001b[43m    \u001b[49m\u001b[43mllm_judge_columns\u001b[49m\u001b[43m=\u001b[49m\u001b[43m[\u001b[49m\u001b[43mcol\u001b[49m\u001b[43m.\u001b[49m\u001b[43mname\u001b[49m\u001b[43m \u001b[49m\u001b[38;5;28;43;01mfor\u001b[39;49;00m\u001b[43m \u001b[49m\u001b[43mcol\u001b[49m\u001b[43m \u001b[49m\u001b[38;5;129;43;01min\u001b[39;49;00m\u001b[43m \u001b[49m\u001b[43maidd\u001b[49m\u001b[43m.\u001b[49m\u001b[43m_llm_judge_columns\u001b[49m\u001b[43m]\u001b[49m\u001b[43m,\u001b[49m\n\u001b[32m     99\u001b[39m \u001b[43m    \u001b[49m\u001b[43mvalidation_columns\u001b[49m\u001b[43m=\u001b[49m\u001b[43mcode_validation_columns\u001b[49m\u001b[43m,\u001b[49m\n\u001b[32m    100\u001b[39m \u001b[43m    \u001b[49m\u001b[43mexpression_columns\u001b[49m\u001b[43m=\u001b[49m\u001b[43m[\u001b[49m\u001b[43mcol\u001b[49m\u001b[43m.\u001b[49m\u001b[43mname\u001b[49m\u001b[43m \u001b[49m\u001b[38;5;28;43;01mfor\u001b[39;49;00m\u001b[43m \u001b[49m\u001b[43mcol\u001b[49m\u001b[43m \u001b[49m\u001b[38;5;129;43;01min\u001b[39;49;00m\u001b[43m \u001b[49m\u001b[43maidd\u001b[49m\u001b[43m.\u001b[49m\u001b[43m_expression_columns\u001b[49m\u001b[43m]\u001b[49m\u001b[43m,\u001b[49m\n\u001b[32m    101\u001b[39m \u001b[43m    \u001b[49m\u001b[43mperson_samplers\u001b[49m\u001b[43m=\u001b[49m\u001b[38;5;28;43mlist\u001b[39;49m\u001b[43m(\u001b[49m\u001b[43maidd\u001b[49m\u001b[43m.\u001b[49m\u001b[43m_latent_columns\u001b[49m\u001b[43m.\u001b[49m\u001b[43mkeys\u001b[49m\u001b[43m(\u001b[49m\u001b[43m)\u001b[49m\u001b[43m)\u001b[49m\u001b[43m,\u001b[49m\n\u001b[32m    102\u001b[39m \u001b[43m    \u001b[49m\u001b[43mcode_langs\u001b[49m\u001b[43m=\u001b[49m\u001b[43mcode_langs\u001b[49m\u001b[43m,\u001b[49m\n\u001b[32m    103\u001b[39m \u001b[43m    \u001b[49m\u001b[43meval_type\u001b[49m\u001b[43m=\u001b[49m\u001b[38;5;28;43;01mNone\u001b[39;49;00m\u001b[43m,\u001b[49m\n\u001b[32m    104\u001b[39m \u001b[43m\u001b[49m\u001b[43m)\u001b[49m\n",
            "\u001b[36mFile \u001b[39m\u001b[32m~/Playground/base_env/lib/python3.12/site-packages/pydantic/main.py:243\u001b[39m, in \u001b[36mBaseModel.__init__\u001b[39m\u001b[34m(self, **data)\u001b[39m\n\u001b[32m    241\u001b[39m \u001b[38;5;66;03m# `__tracebackhide__` tells pytest and some other tools to omit this function from tracebacks\u001b[39;00m\n\u001b[32m    242\u001b[39m __tracebackhide__ = \u001b[38;5;28;01mTrue\u001b[39;00m\n\u001b[32m--> \u001b[39m\u001b[32m243\u001b[39m validated_self = \u001b[38;5;28;43mself\u001b[39;49m\u001b[43m.\u001b[49m\u001b[43m__pydantic_validator__\u001b[49m\u001b[43m.\u001b[49m\u001b[43mvalidate_python\u001b[49m\u001b[43m(\u001b[49m\u001b[43mdata\u001b[49m\u001b[43m,\u001b[49m\u001b[43m \u001b[49m\u001b[43mself_instance\u001b[49m\u001b[43m=\u001b[49m\u001b[38;5;28;43mself\u001b[39;49m\u001b[43m)\u001b[49m\n\u001b[32m    244\u001b[39m \u001b[38;5;28;01mif\u001b[39;00m \u001b[38;5;28mself\u001b[39m \u001b[38;5;129;01mis\u001b[39;00m \u001b[38;5;129;01mnot\u001b[39;00m validated_self:\n\u001b[32m    245\u001b[39m     warnings.warn(\n\u001b[32m    246\u001b[39m         \u001b[33m'\u001b[39m\u001b[33mA custom validator is returning a value other than `self`.\u001b[39m\u001b[38;5;130;01m\\n\u001b[39;00m\u001b[33m'\u001b[39m\n\u001b[32m    247\u001b[39m         \u001b[33m\"\u001b[39m\u001b[33mReturning anything other than `self` from a top level model validator isn\u001b[39m\u001b[33m'\u001b[39m\u001b[33mt supported when validating via `__init__`.\u001b[39m\u001b[38;5;130;01m\\n\u001b[39;00m\u001b[33m\"\u001b[39m\n\u001b[32m    248\u001b[39m         \u001b[33m'\u001b[39m\u001b[33mSee the `model_validator` docs (https://docs.pydantic.dev/latest/concepts/validators/#model-validators) for more details.\u001b[39m\u001b[33m'\u001b[39m,\n\u001b[32m    249\u001b[39m         stacklevel=\u001b[32m2\u001b[39m,\n\u001b[32m    250\u001b[39m     )\n",
            "\u001b[31mValidationError\u001b[39m: 1 validation error for AIDDMetadata\ncode_langs.0\n  Input should be 'python', 'sqlite', 'tsql', 'bigquery', 'mysql', 'postgres' or 'ansi' [type=enum, input_value='json', input_type=str]\n    For further information visit https://errors.pydantic.dev/2.11/v/enum"
          ]
        }
      ],
      "source": [
        "# Add an LLM-generated column. This requires atleast one non-LLM generated column (either through seed or sampling)\n",
        "\n",
        "dd.magic.add_column(\n",
        "    name = \"api_response\",\n",
        "    description = \"An API response that updates a database with with a generated UUID and the diagnosis column\",\n",
        "    must_depend_on=[\"diagnosis\", \"patient\"],\n",
        "    interactive=True, #give feedback\n",
        "    preview=True\n",
        ")"
      ]
    },
    {
      "cell_type": "code",
      "execution_count": null,
      "metadata": {
        "colab": {
          "base_uri": "https://localhost:8080/",
          "height": 953
        },
        "id": "7Or4emwqK9Ko",
        "outputId": "3d3ee478-a06d-4143-d82b-997ac09780ff"
      },
      "outputs": [],
      "source": [
        "# # display sample record\n",
        "# dd.preview().display_sample_record()\n",
        "\n",
        "# display sample df\n",
        "dd.preview().dataset.df"
      ]
    },
    {
      "cell_type": "markdown",
      "metadata": {
        "id": "_r1h-Cdp8-vd"
      },
      "source": [
        "# 🧪 Intermediate: Manual Configuration, Sampling, Jinja & LLM Generation\n",
        "\n",
        "Now that you’ve gotten a feel for the basics, it’s time to roll up our sleeves and explore more of what the SDK can do.\n",
        "\n",
        "In this section, we’ll move beyond Magic Mode and **manually create a configuration** to define our dataset structure. Here’s what you’ll be working with:\n",
        "\n",
        "- **📊 Sampling Columns**  \n",
        "  Learn how to:\n",
        "  - Sample values from built-in or custom datasets\n",
        "  - Use statistical distributions (like normal, uniform, categorical) to shape your data\n",
        "\n",
        "- **🧠 Expression Columns with Jinja**  \n",
        "  Add powerful logic and dynamic behavior to your data by:\n",
        "  - Referencing values from other columns (`{{ other_column }}`)\n",
        "  - Using conditional logic (`if`, `else`, `for`)\n",
        "  - Performing basic arithmetic (`+`, `-`, `*`, `/`)\n",
        "\n",
        "- **🤖 LLM-Based Columns**  \n",
        "  Inject creativity and contextual intelligence by leveraging an LLM to generate column values like text, summaries, or even simple code.\n",
        "\n",
        "This section will give you the tools to build smart, expressive datasets that go beyond static values — all by hand. It’s a perfect step toward mastering the full flexibility of the SDK.\n",
        "\n",
        "Ready to get your hands dirty? 🛠 Let’s go!\n"
      ]
    },
    {
      "cell_type": "markdown",
      "metadata": {
        "id": "Zd2RSGr4wEx3"
      },
      "source": [
        "#### 👩‍🚀 Person Attributes\n",
        "\n",
        "| Field Name | Type | Default | Alias | Description |\n",
        "|------------|------|---------|-------|-------------|\n",
        "| first_name | str | Required | | Person's first name |\n",
        "| middle_name | str \\| None | Required | | Person's middle name (optional) |\n",
        "| last_name | str | Required | | Person's last name |\n",
        "| sex | SexT | Required | | Person's sex (enum type) |\n",
        "| age | int | Required | | Person's age |\n",
        "| postcode | str | Required | zipcode | Postal/ZIP code |\n",
        "| street_number | int \\| str | Required | | Street number (can be numeric or alphanumeric) |\n",
        "| street_name | str | Required | | Name of the street |\n",
        "| unit | str | Required | | Unit/apartment number |\n",
        "| city | str | Required | | City name |\n",
        "| region | str \\| None | Required | state | Region/state (optional) |\n",
        "| district | str \\| None | Required | county | District/county (optional) |\n",
        "| country | str | Required | | Country name |\n",
        "| ethnic_background | str \\| None | Required | | Ethnic background (optional) |\n",
        "| marital_status | str \\| None | Required | | Marital status (optional) |\n",
        "| education_level | str \\| None | Required | | Education level (optional) |\n",
        "| bachelors_field | str \\| None | Required | | Field of bachelor's degree (optional) |\n",
        "| occupation | str \\| None | Required | | Occupation (optional) |\n",
        "| uuid | UUID | Required | | Unique identifier |\n",
        "| locale | str | \"en_US\" | | Locale setting |\n",
        "| phone_number | PhoneNumber \\| None | Computed | | Generated phone number based on location (None for age < 18) |\n",
        "| email_address | EmailStr \\| None | Computed | | Generated email address (None for age < 18) |\n",
        "| birth_date | date | Computed | | Calculated birth date based on age |\n",
        "| national_id | str \\| None | Computed | | National ID (SSN for US locale) |\n",
        "| ssn | str \\| None | Alias to national_id | | Alias for national_id |"
      ]
    },
    {
      "cell_type": "code",
      "execution_count": null,
      "metadata": {
        "colab": {
          "base_uri": "https://localhost:8080/",
          "height": 256
        },
        "id": "j9FghqvRwhNc",
        "outputId": "42770685-bce7-44ad-f60a-dd299279a4b9"
      },
      "outputs": [],
      "source": [
        "# Add in sampled columns\n",
        "dd.add_column(\n",
        "    C.SamplerColumn(\n",
        "        name=\"emergency_contact\",\n",
        "        type=P.SamplingSourceType.PERSON,\n",
        "        params=P.PersonSamplerParams(locale='en_US',\n",
        "                                     sex='Female',\n",
        "                                     city='San Diego')\n",
        "    )\n",
        ")\n",
        "\n",
        "\n",
        "# do vector weights need to sum to 1?\n",
        "# what happens if sampling category set dont match with subcategory?\n",
        "# what is scipy distribution?\n",
        "\n",
        "dd.add_column(\n",
        "    C.SamplerColumn(\n",
        "        name=\"pet_type\",\n",
        "        type=P.SamplingSourceType.CATEGORY,\n",
        "        params=P.CategorySamplerParams(values=[\"dog\", \"cat\"],\n",
        "                                       weights=[0.7, 0.3]),\n",
        "    )\n",
        ")\n",
        "\n",
        "dd.add_column(\n",
        "    C.SamplerColumn(\n",
        "        name=\"first_pet_name\",\n",
        "        type=P.SamplingSourceType.SUBCATEGORY,\n",
        "        params=P.SubcategoryParams(\n",
        "            category=\"pet_type\",\n",
        "            values={\n",
        "                \"dog\": [\"Buddy\", \"Max\", \"Charlie\", \"Cooper\", \"Daisy\", \"Lucy\"],\n",
        "                \"cat\": [\"Oliver\", \"Leo\", \"Milo\", \"Charlie\", \"Simba\", \"Luna\"],\n",
        "\n",
        "            }\n",
        "        )\n",
        "    )\n",
        ")\n",
        "\n",
        "# Sampling from a distribution (e.g. Bernoulli, binomial, poisson, etc..)\n",
        "dd.add_column(\n",
        "    C.SamplerColumn(\n",
        "        name=\"household_income\",\n",
        "        type=P.SamplingSourceType.POISSON,\n",
        "        params=P.PoissonSamplerParams(mean=100000)\n",
        "    )\n",
        ")"
      ]
    },
    {
      "cell_type": "code",
      "execution_count": null,
      "metadata": {
        "colab": {
          "base_uri": "https://localhost:8080/",
          "height": 274
        },
        "id": "uaSTzUMgytHr",
        "outputId": "9109f6ac-65a1-4b78-94d0-3f9d7fd0be01"
      },
      "outputs": [],
      "source": [
        "# Expression\n",
        "# https://documentation.bloomreach.com/engagement/docs/jinja-syntax\n",
        "\n",
        "# Referring to existing columns\n",
        "dd.add_column(\n",
        "    C.ExpressionColumn(\n",
        "        name=\"patient_full_name\",\n",
        "        expr=\"{{ patient.first_name }} {{ patient.last_name }}\"\n",
        "    )\n",
        ")\n",
        "\n",
        "# Deterministically determine outcome based on arithmetic\n",
        "dd.add_column(\n",
        "    C.ExpressionColumn(\n",
        "        name=\"net_worth\",\n",
        "        expr=\"{{ household_income - 50000}}\"\n",
        "    )\n",
        ")\n",
        "\n",
        "\n",
        "# Conditionally generate the values using expressions based on jinja templating\n",
        "dd.add_column(\n",
        "    C.ExpressionColumn(\n",
        "        name=\"number_of_children\",\n",
        "        expr=\"{% if household_income > 100000 %}{{2}}{% else %}1{% endif %}\"\n",
        "    )\n",
        ")\n"
      ]
    },
    {
      "cell_type": "code",
      "execution_count": null,
      "metadata": {
        "colab": {
          "base_uri": "https://localhost:8080/",
          "height": 2218
        },
        "id": "4xgu_GanOlp8",
        "outputId": "838f2125-8ad4-4ac4-b37e-3a568ebef76d"
      },
      "outputs": [],
      "source": [
        "dd.preview().dataset.df"
      ]
    },
    {
      "cell_type": "code",
      "execution_count": null,
      "metadata": {
        "colab": {
          "base_uri": "https://localhost:8080/",
          "height": 274
        },
        "id": "hSGkp6Yp9ANm",
        "outputId": "54f0da26-edb0-4235-c72c-e97f7e4054ac"
      },
      "outputs": [],
      "source": [
        "## Add in LLM generated Column\n",
        "\n",
        "dd.add_column(\n",
        "    C.LLMGenColumn(\n",
        "        name=\"potential_cause\",\n",
        "        prompt=(\n",
        "            \"Write a brief backstory for how {{ patient }} got {{ diagnosis }}.\"\n",
        "            \"Ensure it is consistent with {{patient_summary}}.\"\n",
        "            \"Make it no more than 2 sentences.\"\n",
        "        ),\n",
        "    )\n",
        "\n",
        ")"
      ]
    },
    {
      "cell_type": "code",
      "execution_count": null,
      "metadata": {
        "colab": {
          "base_uri": "https://localhost:8080/",
          "height": 2897
        },
        "id": "fNTW60oR7Oiv",
        "outputId": "f3dc934b-c7ad-454b-d125-825ca1c38cc1"
      },
      "outputs": [],
      "source": [
        "dd.preview().dataset.df"
      ]
    },
    {
      "cell_type": "markdown",
      "metadata": {
        "id": "Bg4-KJgI9BmF"
      },
      "source": [
        "# 🧠 Advanced: Bringing It All Together with Complex LLM Prompts\n",
        "\n",
        "Welcome to the final section — time to go full wizard mode. 🧙‍♂️\n",
        "\n",
        "Here, we’ll combine everything you've learned so far into a **powerful, LLM-driven workflow**. Instead of manually configuring each column or relying solely on basic sampling, we’ll focus on crafting **rich, detailed prompts** that instruct the LLM to generate entire datasets with structure, logic, and nuance.\n",
        "\n",
        "In this section, you’ll:\n",
        "\n",
        "- 🧩 Bring together **Jinja expressions**, and **LLM columns** into a single cohesive config\n",
        "- ✨ Design and refine complex LLM prompts to guide dataset creation with high fidelity and variability\n",
        "- 🧠 Leverage the LLM’s contextual understanding to generate multi-column data with realistic relationships and patterns\n",
        "\n",
        "This approach is ideal when you want to prototype ideas, simulate user behavior, generate synthetic logs, or create diverse, semi-structured content at scale.\n",
        "\n",
        "By the end of this section, you’ll be able to use the SDK as a creative tool — part data engine, part storytelling assistant.\n",
        "\n",
        "Let’s take it to the next level. 🚀\n"
      ]
    },
    {
      "cell_type": "code",
      "execution_count": null,
      "metadata": {
        "colab": {
          "base_uri": "https://localhost:8080/",
          "height": 274
        },
        "id": "X0UvrV319DQY",
        "outputId": "c37d6360-a327-4fba-b3cc-fabacc504bab"
      },
      "outputs": [],
      "source": [
        "## Add in LLM generated Column\n",
        "\n",
        "dd.add_column(\n",
        "    C.LLMGenColumn(\n",
        "        name=\"outcome\",\n",
        "        prompt=(\n",
        "            \"Write a breif outcome for what {{patient}} will result in. No more than 1 sentence.\"\n",
        "            \"{% if bmi > 25 %}\"\n",
        "            \"They will have a negative outcome unless they change their lifestyle\"\n",
        "            \"They will need the support of {{emergency_contact.first_name}}\"\n",
        "            \"{% else %}\"\n",
        "            \"They must start spending {{net_worth * 0.5}} dollars on a treatment plan.\"\n",
        "            \"{% endif %}\"\n",
        "        ),\n",
        "    )\n",
        "\n",
        ")"
      ]
    },
    {
      "cell_type": "code",
      "execution_count": null,
      "metadata": {
        "colab": {
          "base_uri": "https://localhost:8080/",
          "height": 4138
        },
        "id": "IyC8AVGZBRLU",
        "outputId": "8c9b742f-706d-4019-9d79-6ba79530a5b7"
      },
      "outputs": [],
      "source": [
        "dd.preview().dataset.df"
      ]
    }
  ],
  "metadata": {
    "colab": {
      "collapsed_sections": [
        "kednFG_u882a"
      ],
      "provenance": []
    },
    "kernelspec": {
      "display_name": "base_env",
      "language": "python",
      "name": "python3"
    },
    "language_info": {
      "codemirror_mode": {
        "name": "ipython",
        "version": 3
      },
      "file_extension": ".py",
      "mimetype": "text/x-python",
      "name": "python",
      "nbconvert_exporter": "python",
      "pygments_lexer": "ipython3",
      "version": "3.12.9"
    },
    "widgets": {
      "application/vnd.jupyter.widget-state+json": {
        "09743bbad46b4ae3bd937fcee444b9df": {
          "model_module": "@jupyter-widgets/base",
          "model_module_version": "1.2.0",
          "model_name": "LayoutModel",
          "state": {
            "_model_module": "@jupyter-widgets/base",
            "_model_module_version": "1.2.0",
            "_model_name": "LayoutModel",
            "_view_count": null,
            "_view_module": "@jupyter-widgets/base",
            "_view_module_version": "1.2.0",
            "_view_name": "LayoutView",
            "align_content": null,
            "align_items": null,
            "align_self": null,
            "border": null,
            "bottom": null,
            "display": null,
            "flex": null,
            "flex_flow": null,
            "grid_area": null,
            "grid_auto_columns": null,
            "grid_auto_flow": null,
            "grid_auto_rows": null,
            "grid_column": null,
            "grid_gap": null,
            "grid_row": null,
            "grid_template_areas": null,
            "grid_template_columns": null,
            "grid_template_rows": null,
            "height": null,
            "justify_content": null,
            "justify_items": null,
            "left": null,
            "margin": null,
            "max_height": null,
            "max_width": null,
            "min_height": null,
            "min_width": null,
            "object_fit": null,
            "object_position": null,
            "order": null,
            "overflow": null,
            "overflow_x": null,
            "overflow_y": null,
            "padding": null,
            "right": null,
            "top": null,
            "visibility": null,
            "width": null
          }
        },
        "58f16ea0b64d417797bf1a2fcbc7ef73": {
          "model_module": "@jupyter-widgets/output",
          "model_module_version": "1.0.0",
          "model_name": "OutputModel",
          "state": {
            "_dom_classes": [],
            "_model_module": "@jupyter-widgets/output",
            "_model_module_version": "1.0.0",
            "_model_name": "OutputModel",
            "_view_count": null,
            "_view_module": "@jupyter-widgets/output",
            "_view_module_version": "1.0.0",
            "_view_name": "OutputView",
            "layout": "IPY_MODEL_a163caa74f3e4a339980811abdaf1b35",
            "msg_id": "",
            "outputs": [
              {
                "data": {
                  "text/html": "<pre style=\"white-space:pre;overflow-x:auto;line-height:normal;font-family:Menlo,'DejaVu Sans Mono',consolas,'Courier New',monospace\"><span style=\"color: #008000; text-decoration-color: #008000\">㊁</span> Magicking <span style=\"color: #00afff; text-decoration-color: #00afff; font-style: italic\">api_response</span>\n</pre>\n",
                  "text/plain": "\u001b[32m㊁\u001b[0m Magicking \u001b[3;38;5;39mapi_response\u001b[0m\n"
                },
                "metadata": {},
                "output_type": "display_data"
              }
            ]
          }
        },
        "5a956c3ce8e64b468a0e6ef00e379122": {
          "model_module": "@jupyter-widgets/output",
          "model_module_version": "1.0.0",
          "model_name": "OutputModel",
          "state": {
            "_dom_classes": [],
            "_model_module": "@jupyter-widgets/output",
            "_model_module_version": "1.0.0",
            "_model_name": "OutputModel",
            "_view_count": null,
            "_view_module": "@jupyter-widgets/output",
            "_view_module_version": "1.0.0",
            "_view_name": "OutputView",
            "layout": "IPY_MODEL_ee12931e52244197b86f9e758305c95a",
            "msg_id": "",
            "outputs": [
              {
                "data": {
                  "text/html": "<pre style=\"white-space:pre;overflow-x:auto;line-height:normal;font-family:Menlo,'DejaVu Sans Mono',consolas,'Courier New',monospace\"><span style=\"color: #008000; text-decoration-color: #008000\">㊂</span> Noodling <span style=\"color: #00afff; text-decoration-color: #00afff; font-style: italic\">patient</span>\n</pre>\n",
                  "text/plain": "\u001b[32m㊂\u001b[0m Noodling \u001b[3;38;5;39mpatient\u001b[0m\n"
                },
                "metadata": {},
                "output_type": "display_data"
              }
            ]
          }
        },
        "6653cf8a70fb4ed4b75da2b21ab5b37a": {
          "model_module": "@jupyter-widgets/output",
          "model_module_version": "1.0.0",
          "model_name": "OutputModel",
          "state": {
            "_dom_classes": [],
            "_model_module": "@jupyter-widgets/output",
            "_model_module_version": "1.0.0",
            "_model_name": "OutputModel",
            "_view_count": null,
            "_view_module": "@jupyter-widgets/output",
            "_view_module_version": "1.0.0",
            "_view_name": "OutputView",
            "layout": "IPY_MODEL_8e600cfb42e14423853ff8184d4a0856",
            "msg_id": "",
            "outputs": [
              {
                "data": {
                  "text/html": "<pre style=\"white-space:pre;overflow-x:auto;line-height:normal;font-family:Menlo,'DejaVu Sans Mono',consolas,'Courier New',monospace\"><span style=\"color: #008000; text-decoration-color: #008000\">㊂</span> Noodling samples of <span style=\"color: #00afff; text-decoration-color: #00afff; font-style: italic\">api_response</span>...\n</pre>\n",
                  "text/plain": "\u001b[32m㊂\u001b[0m Noodling samples of \u001b[3;38;5;39mapi_response\u001b[0m...\n"
                },
                "metadata": {},
                "output_type": "display_data"
              }
            ]
          }
        },
        "6c3e4f37b63b49daa3e8404e7a94f2a5": {
          "model_module": "@jupyter-widgets/base",
          "model_module_version": "1.2.0",
          "model_name": "LayoutModel",
          "state": {
            "_model_module": "@jupyter-widgets/base",
            "_model_module_version": "1.2.0",
            "_model_name": "LayoutModel",
            "_view_count": null,
            "_view_module": "@jupyter-widgets/base",
            "_view_module_version": "1.2.0",
            "_view_name": "LayoutView",
            "align_content": null,
            "align_items": null,
            "align_self": null,
            "border": null,
            "bottom": null,
            "display": null,
            "flex": null,
            "flex_flow": null,
            "grid_area": null,
            "grid_auto_columns": null,
            "grid_auto_flow": null,
            "grid_auto_rows": null,
            "grid_column": null,
            "grid_gap": null,
            "grid_row": null,
            "grid_template_areas": null,
            "grid_template_columns": null,
            "grid_template_rows": null,
            "height": null,
            "justify_content": null,
            "justify_items": null,
            "left": null,
            "margin": null,
            "max_height": null,
            "max_width": null,
            "min_height": null,
            "min_width": null,
            "object_fit": null,
            "object_position": null,
            "order": null,
            "overflow": null,
            "overflow_x": null,
            "overflow_y": null,
            "padding": null,
            "right": null,
            "top": null,
            "visibility": null,
            "width": null
          }
        },
        "750bfdf379a847db8f8dc218b5c37232": {
          "model_module": "@jupyter-widgets/base",
          "model_module_version": "1.2.0",
          "model_name": "LayoutModel",
          "state": {
            "_model_module": "@jupyter-widgets/base",
            "_model_module_version": "1.2.0",
            "_model_name": "LayoutModel",
            "_view_count": null,
            "_view_module": "@jupyter-widgets/base",
            "_view_module_version": "1.2.0",
            "_view_name": "LayoutView",
            "align_content": null,
            "align_items": null,
            "align_self": null,
            "border": null,
            "bottom": null,
            "display": null,
            "flex": null,
            "flex_flow": null,
            "grid_area": null,
            "grid_auto_columns": null,
            "grid_auto_flow": null,
            "grid_auto_rows": null,
            "grid_column": null,
            "grid_gap": null,
            "grid_row": null,
            "grid_template_areas": null,
            "grid_template_columns": null,
            "grid_template_rows": null,
            "height": null,
            "justify_content": null,
            "justify_items": null,
            "left": null,
            "margin": null,
            "max_height": null,
            "max_width": null,
            "min_height": null,
            "min_width": null,
            "object_fit": null,
            "object_position": null,
            "order": null,
            "overflow": null,
            "overflow_x": null,
            "overflow_y": null,
            "padding": null,
            "right": null,
            "top": null,
            "visibility": null,
            "width": null
          }
        },
        "820f16e549b74953b15f0a9e35ad0288": {
          "model_module": "@jupyter-widgets/output",
          "model_module_version": "1.0.0",
          "model_name": "OutputModel",
          "state": {
            "_dom_classes": [],
            "_model_module": "@jupyter-widgets/output",
            "_model_module_version": "1.0.0",
            "_model_name": "OutputModel",
            "_view_count": null,
            "_view_module": "@jupyter-widgets/output",
            "_view_module_version": "1.0.0",
            "_view_name": "OutputView",
            "layout": "IPY_MODEL_750bfdf379a847db8f8dc218b5c37232",
            "msg_id": "",
            "outputs": [
              {
                "data": {
                  "text/html": "<pre style=\"white-space:pre;overflow-x:auto;line-height:normal;font-family:Menlo,'DejaVu Sans Mono',consolas,'Courier New',monospace\"><span style=\"color: #008000; text-decoration-color: #008000\">㊁</span> Magicking samples of <span style=\"color: #00afff; text-decoration-color: #00afff; font-style: italic\">api_response</span>...\n</pre>\n",
                  "text/plain": "\u001b[32m㊁\u001b[0m Magicking samples of \u001b[3;38;5;39mapi_response\u001b[0m...\n"
                },
                "metadata": {},
                "output_type": "display_data"
              }
            ]
          }
        },
        "84da0d9574f84303a8979c5569f45b50": {
          "model_module": "@jupyter-widgets/base",
          "model_module_version": "1.2.0",
          "model_name": "LayoutModel",
          "state": {
            "_model_module": "@jupyter-widgets/base",
            "_model_module_version": "1.2.0",
            "_model_name": "LayoutModel",
            "_view_count": null,
            "_view_module": "@jupyter-widgets/base",
            "_view_module_version": "1.2.0",
            "_view_name": "LayoutView",
            "align_content": null,
            "align_items": null,
            "align_self": null,
            "border": null,
            "bottom": null,
            "display": null,
            "flex": null,
            "flex_flow": null,
            "grid_area": null,
            "grid_auto_columns": null,
            "grid_auto_flow": null,
            "grid_auto_rows": null,
            "grid_column": null,
            "grid_gap": null,
            "grid_row": null,
            "grid_template_areas": null,
            "grid_template_columns": null,
            "grid_template_rows": null,
            "height": null,
            "justify_content": null,
            "justify_items": null,
            "left": null,
            "margin": null,
            "max_height": null,
            "max_width": null,
            "min_height": null,
            "min_width": null,
            "object_fit": null,
            "object_position": null,
            "order": null,
            "overflow": null,
            "overflow_x": null,
            "overflow_y": null,
            "padding": null,
            "right": null,
            "top": null,
            "visibility": null,
            "width": null
          }
        },
        "8e600cfb42e14423853ff8184d4a0856": {
          "model_module": "@jupyter-widgets/base",
          "model_module_version": "1.2.0",
          "model_name": "LayoutModel",
          "state": {
            "_model_module": "@jupyter-widgets/base",
            "_model_module_version": "1.2.0",
            "_model_name": "LayoutModel",
            "_view_count": null,
            "_view_module": "@jupyter-widgets/base",
            "_view_module_version": "1.2.0",
            "_view_name": "LayoutView",
            "align_content": null,
            "align_items": null,
            "align_self": null,
            "border": null,
            "bottom": null,
            "display": null,
            "flex": null,
            "flex_flow": null,
            "grid_area": null,
            "grid_auto_columns": null,
            "grid_auto_flow": null,
            "grid_auto_rows": null,
            "grid_column": null,
            "grid_gap": null,
            "grid_row": null,
            "grid_template_areas": null,
            "grid_template_columns": null,
            "grid_template_rows": null,
            "height": null,
            "justify_content": null,
            "justify_items": null,
            "left": null,
            "margin": null,
            "max_height": null,
            "max_width": null,
            "min_height": null,
            "min_width": null,
            "object_fit": null,
            "object_position": null,
            "order": null,
            "overflow": null,
            "overflow_x": null,
            "overflow_y": null,
            "padding": null,
            "right": null,
            "top": null,
            "visibility": null,
            "width": null
          }
        },
        "8f0191b6d9bc4aa794e6f7cfd92b3401": {
          "model_module": "@jupyter-widgets/base",
          "model_module_version": "1.2.0",
          "model_name": "LayoutModel",
          "state": {
            "_model_module": "@jupyter-widgets/base",
            "_model_module_version": "1.2.0",
            "_model_name": "LayoutModel",
            "_view_count": null,
            "_view_module": "@jupyter-widgets/base",
            "_view_module_version": "1.2.0",
            "_view_name": "LayoutView",
            "align_content": null,
            "align_items": null,
            "align_self": null,
            "border": null,
            "bottom": null,
            "display": null,
            "flex": null,
            "flex_flow": null,
            "grid_area": null,
            "grid_auto_columns": null,
            "grid_auto_flow": null,
            "grid_auto_rows": null,
            "grid_column": null,
            "grid_gap": null,
            "grid_row": null,
            "grid_template_areas": null,
            "grid_template_columns": null,
            "grid_template_rows": null,
            "height": null,
            "justify_content": null,
            "justify_items": null,
            "left": null,
            "margin": null,
            "max_height": null,
            "max_width": null,
            "min_height": null,
            "min_width": null,
            "object_fit": null,
            "object_position": null,
            "order": null,
            "overflow": null,
            "overflow_x": null,
            "overflow_y": null,
            "padding": null,
            "right": null,
            "top": null,
            "visibility": null,
            "width": null
          }
        },
        "910ef11be58e47d8bfdac24be5ec1f7c": {
          "model_module": "@jupyter-widgets/output",
          "model_module_version": "1.0.0",
          "model_name": "OutputModel",
          "state": {
            "_dom_classes": [],
            "_model_module": "@jupyter-widgets/output",
            "_model_module_version": "1.0.0",
            "_model_name": "OutputModel",
            "_view_count": null,
            "_view_module": "@jupyter-widgets/output",
            "_view_module_version": "1.0.0",
            "_view_name": "OutputView",
            "layout": "IPY_MODEL_8f0191b6d9bc4aa794e6f7cfd92b3401",
            "msg_id": "",
            "outputs": [
              {
                "data": {
                  "text/html": "<pre style=\"white-space:pre;overflow-x:auto;line-height:normal;font-family:Menlo,'DejaVu Sans Mono',consolas,'Courier New',monospace\"><span style=\"color: #008000; text-decoration-color: #008000\">㊀</span> Vibing samples of <span style=\"color: #00afff; text-decoration-color: #00afff; font-style: italic\">patient</span>...\n</pre>\n",
                  "text/plain": "\u001b[32m㊀\u001b[0m Vibing samples of \u001b[3;38;5;39mpatient\u001b[0m...\n"
                },
                "metadata": {},
                "output_type": "display_data"
              }
            ]
          }
        },
        "a163caa74f3e4a339980811abdaf1b35": {
          "model_module": "@jupyter-widgets/base",
          "model_module_version": "1.2.0",
          "model_name": "LayoutModel",
          "state": {
            "_model_module": "@jupyter-widgets/base",
            "_model_module_version": "1.2.0",
            "_model_name": "LayoutModel",
            "_view_count": null,
            "_view_module": "@jupyter-widgets/base",
            "_view_module_version": "1.2.0",
            "_view_name": "LayoutView",
            "align_content": null,
            "align_items": null,
            "align_self": null,
            "border": null,
            "bottom": null,
            "display": null,
            "flex": null,
            "flex_flow": null,
            "grid_area": null,
            "grid_auto_columns": null,
            "grid_auto_flow": null,
            "grid_auto_rows": null,
            "grid_column": null,
            "grid_gap": null,
            "grid_row": null,
            "grid_template_areas": null,
            "grid_template_columns": null,
            "grid_template_rows": null,
            "height": null,
            "justify_content": null,
            "justify_items": null,
            "left": null,
            "margin": null,
            "max_height": null,
            "max_width": null,
            "min_height": null,
            "min_width": null,
            "object_fit": null,
            "object_position": null,
            "order": null,
            "overflow": null,
            "overflow_x": null,
            "overflow_y": null,
            "padding": null,
            "right": null,
            "top": null,
            "visibility": null,
            "width": null
          }
        },
        "ad8e46c2b63640339f157d62602f614c": {
          "model_module": "@jupyter-widgets/output",
          "model_module_version": "1.0.0",
          "model_name": "OutputModel",
          "state": {
            "_dom_classes": [],
            "_model_module": "@jupyter-widgets/output",
            "_model_module_version": "1.0.0",
            "_model_name": "OutputModel",
            "_view_count": null,
            "_view_module": "@jupyter-widgets/output",
            "_view_module_version": "1.0.0",
            "_view_name": "OutputView",
            "layout": "IPY_MODEL_6c3e4f37b63b49daa3e8404e7a94f2a5",
            "msg_id": "",
            "outputs": [
              {
                "data": {
                  "text/html": "<pre style=\"white-space:pre;overflow-x:auto;line-height:normal;font-family:Menlo,'DejaVu Sans Mono',consolas,'Courier New',monospace\"><span style=\"color: #008000; text-decoration-color: #008000\">㊀</span> Noodling <span style=\"color: #00afff; text-decoration-color: #00afff; font-style: italic\">bmi</span>\n</pre>\n",
                  "text/plain": "\u001b[32m㊀\u001b[0m Noodling \u001b[3;38;5;39mbmi\u001b[0m\n"
                },
                "metadata": {},
                "output_type": "display_data"
              }
            ]
          }
        },
        "bcb414ff09fd40f887fae06461666b4a": {
          "model_module": "@jupyter-widgets/base",
          "model_module_version": "1.2.0",
          "model_name": "LayoutModel",
          "state": {
            "_model_module": "@jupyter-widgets/base",
            "_model_module_version": "1.2.0",
            "_model_name": "LayoutModel",
            "_view_count": null,
            "_view_module": "@jupyter-widgets/base",
            "_view_module_version": "1.2.0",
            "_view_name": "LayoutView",
            "align_content": null,
            "align_items": null,
            "align_self": null,
            "border": null,
            "bottom": null,
            "display": null,
            "flex": null,
            "flex_flow": null,
            "grid_area": null,
            "grid_auto_columns": null,
            "grid_auto_flow": null,
            "grid_auto_rows": null,
            "grid_column": null,
            "grid_gap": null,
            "grid_row": null,
            "grid_template_areas": null,
            "grid_template_columns": null,
            "grid_template_rows": null,
            "height": null,
            "justify_content": null,
            "justify_items": null,
            "left": null,
            "margin": null,
            "max_height": null,
            "max_width": null,
            "min_height": null,
            "min_width": null,
            "object_fit": null,
            "object_position": null,
            "order": null,
            "overflow": null,
            "overflow_x": null,
            "overflow_y": null,
            "padding": null,
            "right": null,
            "top": null,
            "visibility": null,
            "width": null
          }
        },
        "c4b6571400294b06856f2a3a48b4a7e1": {
          "model_module": "@jupyter-widgets/output",
          "model_module_version": "1.0.0",
          "model_name": "OutputModel",
          "state": {
            "_dom_classes": [],
            "_model_module": "@jupyter-widgets/output",
            "_model_module_version": "1.0.0",
            "_model_name": "OutputModel",
            "_view_count": null,
            "_view_module": "@jupyter-widgets/output",
            "_view_module_version": "1.0.0",
            "_view_name": "OutputView",
            "layout": "IPY_MODEL_84da0d9574f84303a8979c5569f45b50",
            "msg_id": "",
            "outputs": [
              {
                "data": {
                  "text/html": "<pre style=\"white-space:pre;overflow-x:auto;line-height:normal;font-family:Menlo,'DejaVu Sans Mono',consolas,'Courier New',monospace\"><span style=\"color: #008000; text-decoration-color: #008000\">㊂</span> Noodling samples of <span style=\"color: #00afff; text-decoration-color: #00afff; font-style: italic\">api_response</span>...\n</pre>\n",
                  "text/plain": "\u001b[32m㊂\u001b[0m Noodling samples of \u001b[3;38;5;39mapi_response\u001b[0m...\n"
                },
                "metadata": {},
                "output_type": "display_data"
              },
              {
                "name": "stdout",
                "output_type": "stream",
                "text": [
                  "[20:25:38] [INFO] 🎉 Your dataset preview is ready!\n"
                ]
              }
            ]
          }
        },
        "c62995f6f9454c2ba3c520a19ac50c60": {
          "model_module": "@jupyter-widgets/output",
          "model_module_version": "1.0.0",
          "model_name": "OutputModel",
          "state": {
            "_dom_classes": [],
            "_model_module": "@jupyter-widgets/output",
            "_model_module_version": "1.0.0",
            "_model_name": "OutputModel",
            "_view_count": null,
            "_view_module": "@jupyter-widgets/output",
            "_view_module_version": "1.0.0",
            "_view_name": "OutputView",
            "layout": "IPY_MODEL_09743bbad46b4ae3bd937fcee444b9df",
            "msg_id": "",
            "outputs": [
              {
                "data": {
                  "text/html": "<pre style=\"white-space:pre;overflow-x:auto;line-height:normal;font-family:Menlo,'DejaVu Sans Mono',consolas,'Courier New',monospace\"><span style=\"color: #008000; text-decoration-color: #008000\">㊂</span> Noodling <span style=\"color: #00afff; text-decoration-color: #00afff; font-style: italic\">api_response</span>\n</pre>\n",
                  "text/plain": "\u001b[32m㊂\u001b[0m Noodling \u001b[3;38;5;39mapi_response\u001b[0m\n"
                },
                "metadata": {},
                "output_type": "display_data"
              }
            ]
          }
        },
        "ee12931e52244197b86f9e758305c95a": {
          "model_module": "@jupyter-widgets/base",
          "model_module_version": "1.2.0",
          "model_name": "LayoutModel",
          "state": {
            "_model_module": "@jupyter-widgets/base",
            "_model_module_version": "1.2.0",
            "_model_name": "LayoutModel",
            "_view_count": null,
            "_view_module": "@jupyter-widgets/base",
            "_view_module_version": "1.2.0",
            "_view_name": "LayoutView",
            "align_content": null,
            "align_items": null,
            "align_self": null,
            "border": null,
            "bottom": null,
            "display": null,
            "flex": null,
            "flex_flow": null,
            "grid_area": null,
            "grid_auto_columns": null,
            "grid_auto_flow": null,
            "grid_auto_rows": null,
            "grid_column": null,
            "grid_gap": null,
            "grid_row": null,
            "grid_template_areas": null,
            "grid_template_columns": null,
            "grid_template_rows": null,
            "height": null,
            "justify_content": null,
            "justify_items": null,
            "left": null,
            "margin": null,
            "max_height": null,
            "max_width": null,
            "min_height": null,
            "min_width": null,
            "object_fit": null,
            "object_position": null,
            "order": null,
            "overflow": null,
            "overflow_x": null,
            "overflow_y": null,
            "padding": null,
            "right": null,
            "top": null,
            "visibility": null,
            "width": null
          }
        },
        "f627c883f2e644cc98def609a06acc36": {
          "model_module": "@jupyter-widgets/output",
          "model_module_version": "1.0.0",
          "model_name": "OutputModel",
          "state": {
            "_dom_classes": [],
            "_model_module": "@jupyter-widgets/output",
            "_model_module_version": "1.0.0",
            "_model_name": "OutputModel",
            "_view_count": null,
            "_view_module": "@jupyter-widgets/output",
            "_view_module_version": "1.0.0",
            "_view_name": "OutputView",
            "layout": "IPY_MODEL_bcb414ff09fd40f887fae06461666b4a",
            "msg_id": "",
            "outputs": [
              {
                "data": {
                  "text/html": "<pre style=\"white-space:pre;overflow-x:auto;line-height:normal;font-family:Menlo,'DejaVu Sans Mono',consolas,'Courier New',monospace\"><span style=\"color: #008000; text-decoration-color: #008000\">㊂</span> Magicking <span style=\"color: #00afff; text-decoration-color: #00afff; font-style: italic\">api_response</span>\n</pre>\n",
                  "text/plain": "\u001b[32m㊂\u001b[0m Magicking \u001b[3;38;5;39mapi_response\u001b[0m\n"
                },
                "metadata": {},
                "output_type": "display_data"
              }
            ]
          }
        },
        "f9f895e31c9b44ffb0217c7ef717184e": {
          "model_module": "@jupyter-widgets/output",
          "model_module_version": "1.0.0",
          "model_name": "OutputModel",
          "state": {
            "_dom_classes": [],
            "_model_module": "@jupyter-widgets/output",
            "_model_module_version": "1.0.0",
            "_model_name": "OutputModel",
            "_view_count": null,
            "_view_module": "@jupyter-widgets/output",
            "_view_module_version": "1.0.0",
            "_view_name": "OutputView",
            "layout": "IPY_MODEL_fc0a07a2f3304998b7f3cc45bdb5de82",
            "msg_id": "",
            "outputs": [
              {
                "data": {
                  "text/html": "<pre style=\"white-space:pre;overflow-x:auto;line-height:normal;font-family:Menlo,'DejaVu Sans Mono',consolas,'Courier New',monospace\"><span style=\"color: #008000; text-decoration-color: #008000\">㊁</span> Magicking samples of <span style=\"color: #00afff; text-decoration-color: #00afff; font-style: italic\">bmi</span>...\n</pre>\n",
                  "text/plain": "\u001b[32m㊁\u001b[0m Magicking samples of \u001b[3;38;5;39mbmi\u001b[0m...\n"
                },
                "metadata": {},
                "output_type": "display_data"
              }
            ]
          }
        },
        "fc0a07a2f3304998b7f3cc45bdb5de82": {
          "model_module": "@jupyter-widgets/base",
          "model_module_version": "1.2.0",
          "model_name": "LayoutModel",
          "state": {
            "_model_module": "@jupyter-widgets/base",
            "_model_module_version": "1.2.0",
            "_model_name": "LayoutModel",
            "_view_count": null,
            "_view_module": "@jupyter-widgets/base",
            "_view_module_version": "1.2.0",
            "_view_name": "LayoutView",
            "align_content": null,
            "align_items": null,
            "align_self": null,
            "border": null,
            "bottom": null,
            "display": null,
            "flex": null,
            "flex_flow": null,
            "grid_area": null,
            "grid_auto_columns": null,
            "grid_auto_flow": null,
            "grid_auto_rows": null,
            "grid_column": null,
            "grid_gap": null,
            "grid_row": null,
            "grid_template_areas": null,
            "grid_template_columns": null,
            "grid_template_rows": null,
            "height": null,
            "justify_content": null,
            "justify_items": null,
            "left": null,
            "margin": null,
            "max_height": null,
            "max_width": null,
            "min_height": null,
            "min_width": null,
            "object_fit": null,
            "object_position": null,
            "order": null,
            "overflow": null,
            "overflow_x": null,
            "overflow_y": null,
            "padding": null,
            "right": null,
            "top": null,
            "visibility": null,
            "width": null
          }
        }
      }
    }
  },
  "nbformat": 4,
  "nbformat_minor": 0
}
