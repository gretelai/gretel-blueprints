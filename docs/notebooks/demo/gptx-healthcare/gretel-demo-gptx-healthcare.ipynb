{
 "cells": [
  {
   "cell_type": "markdown",
   "metadata": {},
   "source": [
    "# Fine-tuning Models for Healthcare via Differentially-Private Synthetic Text, using Gretel and AWS\n",
    "\n",
    "In this notebook, we show how private synthetic text can be used to fine-tune models for healthcare, a domain where data is highly sensitive and often cannot be used due to privacy concerns. In particular, we go through the following steps:\n",
    "\n",
    "1. We show how to **fine-tune Gretel's GPT with differential privacy (DP)**, in order to generate synthetic data that does not leak anything sensitive from the original data.\n",
    "2. This synthetic data is then used to **fine-tune a second model on Amazon Bedrock**, Claude 3.5 Haiku, that will be used for the downstream task we are interested in - generating clinical notes from transcripts.\n",
    "3. Finally, we evaluate **how well the fine-tuned Haiku model does on the downstream task**, comparing it to the base model.\n",
    "\n",
    "First let's set up calls to Bedrock. Make sure to fill the following variables correctly:"
   ]
  },
  {
   "cell_type": "code",
   "execution_count": null,
   "metadata": {},
   "outputs": [],
   "source": [
    "# NOTE: fill this cell!\n",
    "AWS_PROFILE_NAME =\n",
    "AWS_REGION ="
   ]
  },
  {
   "cell_type": "code",
   "execution_count": null,
   "metadata": {},
   "outputs": [],
   "source": [
    "import boto3\n",
    "from botocore.exceptions import ClientError\n",
    "\n",
    "DEFAULT_INST = \"You are a helpful assistant.\"\n",
    "BASE_MODEL_ID = \"anthropic.claude-3-haiku-20240307-v1:0\"\n",
    "\n",
    "# Create a Bedrock runtime client in the AWS region you want to use.\n",
    "boto3.setup_default_session(profile_name=AWS_PROFILE_NAME)\n",
    "client = boto3.client(\"bedrock-runtime\", region_name=AWS_REGION)\n",
    "\n",
    "def call_bedrock(message, system=DEFAULT_INST, model_id=BASE_MODEL_ID):\n",
    "    conversation = [\n",
    "        {\n",
    "            \"role\": \"user\",\n",
    "            \"content\": [{\"text\": message}],\n",
    "        }\n",
    "    ]\n",
    "    \n",
    "    try:\n",
    "        # Send the message to the model, using a basic inference configuration.\n",
    "        response = client.converse(\n",
    "            modelId=model_id,\n",
    "            system=[{\"text\": system}],\n",
    "            messages=conversation,\n",
    "            inferenceConfig={\"maxTokens\": 512, \"temperature\": 0.5, \"topP\": 0.9},\n",
    "            additionalModelRequestFields={}\n",
    "        )\n",
    "    \n",
    "        # Extract and print the response text.\n",
    "        response_text = response[\"output\"][\"message\"][\"content\"][0][\"text\"]\n",
    "        return response_text \n",
    "    \n",
    "    except (ClientError, Exception) as e:\n",
    "        print(f\"ERROR: Can't invoke '{model_id}'. Reason: {e}\")\n",
    "        return None"
   ]
  },
  {
   "cell_type": "markdown",
   "metadata": {},
   "source": [
    "## Loading dataset\n",
    "\n",
    "For the proof-of-concept, we work with summarized notes, since samples in the original dataset can be quite long. We call Haiku to generate a summarized version of the first 10,000 samples in the dataset.\n",
    "\n",
    "If you prefer, you can skip the next cell and run the one just after, which will load the summarized dataset from a S3 bucket."
   ]
  },
  {
   "cell_type": "code",
   "execution_count": null,
   "metadata": {},
   "outputs": [],
   "source": [
    "## SKIP TO DOWNLOAD RESULTS DIRECTLY\n",
    "\n",
    "from glob import glob\n",
    "from tqdm import tqdm\n",
    "\n",
    "import pandas as pd\n",
    "from datasets import load_dataset\n",
    "\n",
    "\n",
    "# Load original dataset\n",
    "original_dataset = load_dataset(\"AGBonnet/augmented-clinical-notes\")\n",
    "\n",
    "# Generate summaries\n",
    "for i, s in tqdm(enumerate(original_dataset[\"train\"][:10_000][\"conversation\"])):\n",
    "    inst = f\"Generate a shorter version of the following conversation.\"\n",
    "    summary = call_bedrock(message=s, system=inst, model_id=BASE_MODEL_ID)\n",
    "    with open(f'summaries/transcript_{i:05d}.txt', 'w') as fid:\n",
    "        fid.write(summary)\n",
    "\n",
    "# Load and process notes and transcripts\n",
    "notes_files = glob('summaries/note*')\n",
    "transcripts_files = glob('summaries/transcript*')\n",
    "\n",
    "notes = []\n",
    "for f in sorted(notes_files):\n",
    "    if '.txt' in f:\n",
    "        with open(f) as fid:\n",
    "            content = fid.read()\n",
    "            notes.append(content.split('\\n')[-1])\n",
    "\n",
    "transcripts = []\n",
    "for f in sorted(transcripts_files):\n",
    "    if '.txt' in f:\n",
    "        with open(f) as fid:\n",
    "            content = fid.read()\n",
    "            transcript = [r for r in content.split('\\n') if r.strip()]\n",
    "            if 'short' in transcript[0]:  # remove intro if any\n",
    "                transcript = transcript[1:]\n",
    "            transcripts.append('\\n'.join(transcript))\n",
    "\n",
    "# Add notes and transcripts to dataframe\n",
    "summaries = pd.DataFrame(columns=['conversation', 'note'])\n",
    "summaries['conversation'] = transcripts\n",
    "summaries['note'] = notes\n",
    "\n",
    "summaries.to_csv('summaries.csv')"
   ]
  },
  {
   "cell_type": "code",
   "execution_count": 1,
   "metadata": {},
   "outputs": [],
   "source": [
    "## DOWNLOAD RESULTS DIRECTLY HERE\n",
    "\n",
    "import pandas as pd\n",
    "\n",
    "summaries_link = \"https://gretel-blueprints-pub.s3.us-west-2.amazonaws.com/gpt_x/synth_notes_blogpost/summaries.csv.gz\"\n",
    "summaries = pd.read_csv(summaries_link, compression=\"gzip\")"
   ]
  },
  {
   "cell_type": "markdown",
   "metadata": {},
   "source": [
    "Let's take a look at a sample from the dataset"
   ]
  },
  {
   "cell_type": "code",
   "execution_count": 2,
   "metadata": {},
   "outputs": [
    {
     "name": "stdout",
     "output_type": "stream",
     "text": [
      "TRANSCRIPT:\n",
      "Doctor: What brings you to the Outpatient department today?\n",
      "Patient: I have discomfort in my neck and lower back, and I'm having trouble standing up straight.\n",
      "Doctor: Can you tell me more about the discomfort?\n",
      "Patient: I have pain in my neck, and my head is always turned to the right and upwards. I also have sideways bending in my lower back.\n",
      "Doctor: How long have you been experiencing this?\n",
      "Patient: About four months, since I started taking olanzapine for my bipolar affective disorder.\n",
      "Doctor: I see. I'll order some tests and we'll discuss further.\n",
      "\n",
      "NOTE:\n",
      "A 16-year-old girl presented with complaints of neck and lower back discomfort, restricted body movements, and abnormal posturing. She had been experiencing these symptoms for four months, which began after starting olanzapine for her bipolar affective disorder. The symptoms were characterized by sustained contraction of neck muscles, leading to abnormal head and neck movements, and required assistance with daily activities. Despite trying various medications, including trihexyphenidyl, propranolol, and phenargan, the symptoms persisted. The patient's symptoms worsened with reintroduction of olanzapine and improved with discontinuation of the medication. She was eventually started on tetrabenazine, which showed some response in improving her abnormal movements. The case highlights the development of tardive dystonia in an adolescent girl with bipolar affective disorder, likely caused by olanzapine, and emphasizes the need for caution in using this medication.\n"
     ]
    }
   ],
   "source": [
    "orig_sample = summaries.iloc[0]\n",
    "print(f\"TRANSCRIPT:\\n{orig_sample.conversation}\\n\\nNOTE:\\n{orig_sample.note}\")"
   ]
  },
  {
   "cell_type": "markdown",
   "metadata": {},
   "source": [
    "## Generating DP synthetic text"
   ]
  },
  {
   "cell_type": "markdown",
   "metadata": {},
   "source": [
    "The next step is using the summarized dataset as input to Gretel's GPT, to obtain the private synthetic text. You can use a config such as follows"
   ]
  },
  {
   "cell_type": "code",
   "execution_count": null,
   "metadata": {},
   "outputs": [],
   "source": [
    "YAML_CONFIG = \"\"\"\n",
    "schema_version: \"1.0\"\n",
    "name: final-run-dp\n",
    "models:\n",
    "  - gpt_x:\n",
    "      ref_data: {}\n",
    "      pretrained_model: gretelai/Phi-3-mini-128k-instruct\n",
    "      params:\n",
    "        batch_size: 8\n",
    "        epochs: 5\n",
    "        steps: null\n",
    "        weight_decay: 0.01\n",
    "        warmup_steps: 100\n",
    "        lr_scheduler: linear\n",
    "        learning_rate: 0.008723427557099954\n",
    "        max_tokens: 784\n",
    "        gradient_accumulation_steps: 32\n",
    "      peft_params:\n",
    "        lora_r: 8\n",
    "        lora_alpha_over_r: 1\n",
    "        target_modules:\n",
    "          - q_proj\n",
    "          - v_proj\n",
    "          - k_proj\n",
    "          - o_proj\n",
    "          - gate_proj\n",
    "          - down_proj\n",
    "          - up_proj\n",
    "      privacy_params:\n",
    "        dp: true\n",
    "        epsilon: 8\n",
    "        delta: auto\n",
    "\"\"\""
   ]
  },
  {
   "cell_type": "markdown",
   "metadata": {},
   "source": [
    "This config can be used either in the Console, or through the SDK:"
   ]
  },
  {
   "cell_type": "code",
   "execution_count": null,
   "metadata": {},
   "outputs": [],
   "source": [
    "## SNIPPET, SKIP TO DOWNLOAD RESULTS DIRECTLY\n",
    "\n",
    "from gretel_client import Gretel\n",
    "\n",
    "gretel = Gretel(\n",
    "    project_name=\"new_project\",\n",
    "    api_key=\"prompt\",\n",
    "    endpoint=\"https://api.gretel.cloud\",\n",
    ")\n",
    "trained = gretel.submit_train(base_config=YAML_CONFIG, data_source=\"summaries.csv\")"
   ]
  },
  {
   "cell_type": "markdown",
   "metadata": {},
   "source": [
    "After fine-tuning Gretel's GPT, we request more records to be generated:"
   ]
  },
  {
   "cell_type": "code",
   "execution_count": null,
   "metadata": {},
   "outputs": [],
   "source": [
    "## SNIPPET, SKIP TO DOWNLOAD RESULTS DIRECTLY\n",
    "\n",
    "generated = gretel.submit_generate(trained.model_id, num_records=10_000, maximum_text_length=784)\n",
    "synth_data = generated.synthetic_data"
   ]
  },
  {
   "cell_type": "markdown",
   "metadata": {},
   "source": [
    "Finally, we convert the synthetic data to the format that is expected by Bedrock:"
   ]
  },
  {
   "cell_type": "code",
   "execution_count": null,
   "metadata": {},
   "outputs": [],
   "source": [
    "## SNIPPET, SKIP TO DOWNLOAD RESULTS DIRECTLY\n",
    "\n",
    "import json\n",
    "import re\n",
    "\n",
    "pattern = r\"^\\*\\*\\* TRANSCRIPT \\*\\*\\*\\n\\n(.*)\\n\\n\\*\\*\\* NOTE \\*\\*\\*\\n\\n(.*)$\"\n",
    "{\"system\": \"<system message>\", \"messages\":[{\"role\": \"user\", \"content\": \"<user query>\"},{\"role\": \"assistant\", \"content\": \"<expected generated text>\"}]}\n",
    "\n",
    "processed, jsonl = 0, ''\n",
    "for t in synth_data['text']:\n",
    "    m = re.match(pattern, t, re.DOTALL)\n",
    "    if m:\n",
    "        instr = \"You are given the transcript of a conversation between a doctor and a patient, and will generate a clinical note summarizing that conversation.\"\n",
    "        prompt = m.group(1)\n",
    "        completion = m.group(2)\n",
    "\n",
    "        sample = {\"system\": instr, \"messages\": [{\"role\": \"user\", \"content\": prompt}, {\"role\": \"assistant\", \"content\": completion}]}\n",
    "        jsonl += json.dumps(sample) + '\\n'\n",
    "        processed += 1\n",
    "\n",
    "print(f'Processed {processed} valid entries')\n",
    "with open('ftdata.jsonl', 'w') as fid:\n",
    "    fid.write(jsonl)"
   ]
  },
  {
   "cell_type": "markdown",
   "metadata": {},
   "source": [
    "The 10,000 synthetic records we generated will be used for fine-tuning Haiku for the downstream task. Instead of running the three cells above, you can fetch the synthetic data directly from a S3 bucket, using this snippet:"
   ]
  },
  {
   "cell_type": "code",
   "execution_count": 3,
   "metadata": {},
   "outputs": [],
   "source": [
    "## DOWNLOAD RESULTS DIRECTLY HERE\n",
    "\n",
    "import pandas as pd\n",
    "\n",
    "ft_data_link = \"https://gretel-blueprints-pub.s3.us-west-2.amazonaws.com/gpt_x/synth_notes_blogpost/ftdata.jsonl.gz\"\n",
    "ft_data = pd.read_json(ft_data_link, compression=\"gzip\", lines=True)"
   ]
  },
  {
   "cell_type": "code",
   "execution_count": 4,
   "metadata": {},
   "outputs": [
    {
     "name": "stdout",
     "output_type": "stream",
     "text": [
      "SYSTEM PROMPT:\n",
      "You are given the transcript of a conversation between a doctor and a patient, and will generate a clinical note summarizing that conversation.\n",
      "\n",
      "MESSAGES:\n",
      "[\n",
      "  {\n",
      "    \"role\": \"user\",\n",
      "    \"content\": \"Doctor: Good morning, sir. I'm Dr. X. You're here for a follow-up on your oral lichenoid ulcerative leukoplakia. Can you tell me about your symptoms and the treatment you've received?\\nPatient: I have a 3.5 cm ulcer on my tongue and roof of my mouth that's been growing for 2 years. It started as a red, painless ulcer and has turned white and non-healing. I was treated with antibiotics and steroid cream, but it didn't improve.\\nDoctor: Okay, I'd like to take a closer look at the lesion. I'd like to take a biopsy to confirm the diagnosis.\\nPatient: Okay, I understand.\\nDoctor: The biopsy shows that the lesion is benign. I'd like to refer you to a specialist for further treatment.\\nPatient: Okay, thank you.\\nDoctor: You're welcome. If you have any other questions or concerns, please don't hesitate to ask.\\nPatient: No, I think I understand everything. Thank you, doctor.\"\n",
      "  },\n",
      "  {\n",
      "    \"role\": \"assistant\",\n",
      "    \"content\": \"A 57-year-old man presented to the Department of Dentistry and Oral Medicine at the Uppsala University Hospital, Uppsala, Sweden, with a 2-year history of a painless oral ulcer that had been slowly growing on his tongue and roof of his mouth. The lesion was initially a red, painless ulcer that had changed to a white, non-healing leukoplakic ulcer over time. The patient was treated with antibiotics and steroid cream, but the lesion did not improve. A biopsy confirmed the diagnosis of oral lichenoid ulcerative leukoplakia (OLUL). The patient was referred to the Department of Surgery for further treatment, and underwent a partial glossofaringectomy and excision of the affected area. The lesion was successfully excised, and the patient was followed up for 2 years with no recurrence.\"\n",
      "  }\n",
      "]\n"
     ]
    }
   ],
   "source": [
    "import json\n",
    "\n",
    "ft_sample = ft_data.iloc[0]\n",
    "print(f\"SYSTEM PROMPT:\\n{ft_sample.system}\\n\\nMESSAGES:\\n{json.dumps(ft_sample.messages, indent=2)}\")"
   ]
  },
  {
   "cell_type": "markdown",
   "metadata": {},
   "source": [
    "## Fine-tuning Haiku on AWS Bedrock\n",
    "\n",
    "After uploading the synthetic data to a S3 bucket, we can proceed to fine-tune Haiku.\n",
    "\n",
    "For this demo, we have used the Bedrock UI to perform the fine-tuning. Alternatively, the API can be used, see instructions [here](https://docs.aws.amazon.com/bedrock/latest/APIReference/API_CreateModelCustomizationJob.html). In the screenshot below, you can see how the model customization job was set up. Note that we split the `ft_data.json` file above in two, one for training and one for validation, containing 9,900 and 100 samples respectively.\n",
    "\n",
    "![Setting up Bedrock for fine-tuning](bedrock.png)"
   ]
  },
  {
   "cell_type": "markdown",
   "metadata": {},
   "source": [
    "## Calling fine-tuned model\n",
    "\n",
    "The fine-tuning job on Bedrock should take a few hours. After this is done, you will have to purchase provisioned throughput in order to use the model. It will give a model id, that you should add to the cell below."
   ]
  },
  {
   "cell_type": "code",
   "execution_count": null,
   "metadata": {},
   "outputs": [],
   "source": [
    "# NOTE: fill this cell!\n",
    "FT_MODEL_ID = "
   ]
  },
  {
   "cell_type": "markdown",
   "metadata": {},
   "source": [
    "The function below calls either the base or fine-tuned model, depending on the argument, and asks it to generate a note given the transcript."
   ]
  },
  {
   "cell_type": "code",
   "execution_count": null,
   "metadata": {},
   "outputs": [],
   "source": [
    "def generate_and_print(transcript, original_note, id, finetuned=False, verbose=True):\n",
    "    inst = \"You are generating clinical notes given the transcript of a conversation between a doctor and a patient. Replace occurrences of age and gender with the tags [AGE] and [GENDER].\"\n",
    "    model_id = FT_MODEL_ID if finetuned else BASE_MODEL_ID \n",
    "\n",
    "    generated_note = call_bedrock(client, transcript, inst, model_id=model_id)\n",
    "    with open(f'./generated{\"\" if finetuned else \"_base\"}/{id:04d}.txt', 'w') as fid:\n",
    "        fid.write(generated_note)\n",
    "\n",
    "    if verbose:\n",
    "        print(\"TRANSCRIPT:\\n\", transcript)\n",
    "        print(\"\\nORIGINAL NOTE:\\n\", original_note)\n",
    "        print(\"\\nGENERATED NOTE:\\n\", generated_note)"
   ]
  },
  {
   "cell_type": "markdown",
   "metadata": {},
   "source": [
    "We now call this function on the first 1,000 samples of the original dataset, so that we can compare the original note to the generated one. We do that for both the base and the fine-tuned models.\n",
    "Remember that the fine-tuned model did not see any of this data, so practically speaking there is no data leakage.\n",
    "\n",
    "Feel free to skip this cell, the following one should load all the generated data from a S3 bucket."
   ]
  },
  {
   "cell_type": "code",
   "execution_count": null,
   "metadata": {},
   "outputs": [],
   "source": [
    "## SNIPPET, SKIP TO DOWNLOAD RESULTS DIRECTLY\n",
    "\n",
    "import os\n",
    "from tqdm import trange\n",
    "\n",
    "# Create folders\n",
    "if not os.path.isdir('./generated'):\n",
    "    os.mkdir('./generated')\n",
    "if not os.path.isdir('./generated_base'):\n",
    "    os.mkdir('./generated_base')\n",
    "\n",
    "# Call both fine-tuned and base models to generate notes\n",
    "for i in trange(1000):\n",
    "    generate_and_print(*summaries.iloc[i].values[1:], id=i, finetuned=True, verbose=False)\n",
    "    generate_and_print(*summaries.iloc[i].values[1:], id=i, finetuned=False, verbose=False)"
   ]
  },
  {
   "cell_type": "code",
   "execution_count": 5,
   "metadata": {},
   "outputs": [],
   "source": [
    "## DOWNLOAD RESULTS DIRECTLY HERE\n",
    "\n",
    "import requests\n",
    "import tarfile\n",
    "\n",
    "generated_link = \"https://gretel-blueprints-pub.s3.us-west-2.amazonaws.com/gpt_x/synth_notes_blogpost/generated.tar.gz\"\n",
    "\n",
    "# This will download and extract generated notes, for both the base model and the fine-tuned model\n",
    "with requests.get(generated_link, stream=True) as req, tarfile.open(fileobj=req.raw, mode=\"r:gz\") as tarobj: \n",
    "    tarobj.extractall()"
   ]
  },
  {
   "cell_type": "markdown",
   "metadata": {},
   "source": [
    "We read all the generated data into a list. Moreover, we create a \"faked\" version of the generated data, where the `[AGE]` and `[GENDER]` tags are replaced with fake data. This will be useful when computing metrics."
   ]
  },
  {
   "cell_type": "code",
   "execution_count": 6,
   "metadata": {},
   "outputs": [
    {
     "name": "stderr",
     "output_type": "stream",
     "text": [
      "100%|██████████| 1000/1000 [00:02<00:00, 363.29it/s]\n",
      "100%|██████████| 1000/1000 [00:02<00:00, 372.29it/s]\n"
     ]
    }
   ],
   "source": [
    "from glob import glob\n",
    "from tqdm import tqdm\n",
    "\n",
    "generated_ft = []\n",
    "for filename in tqdm(sorted(glob('./generated/*'))):\n",
    "    with open(filename, \"r\") as fid:\n",
    "        generated_ft.append(fid.read())\n",
    "\n",
    "generated_base = []\n",
    "for filename in tqdm(sorted(glob('./generated_base/*'))):\n",
    "    with open(filename, \"r\") as fid:\n",
    "        generated_base.append(fid.read())"
   ]
  },
  {
   "cell_type": "code",
   "execution_count": 7,
   "metadata": {},
   "outputs": [],
   "source": [
    "import numpy as np\n",
    "\n",
    "generated_ft_faked = []\n",
    "for s in generated_ft:\n",
    "    age = str(np.random.choice(np.arange(12, 80))) + '-year old'\n",
    "    gender = np.random.choice(['male', 'female'])\n",
    "    generated_ft_faked.append(s.replace('[AGE]', age).replace('[GENDER]', gender))\n",
    "\n",
    "generated_base_faked = []\n",
    "for s in generated_base:\n",
    "    age = str(np.random.choice(np.arange(12, 80))) + '-year old'\n",
    "    gender = np.random.choice(['male', 'female'])\n",
    "    generated_base_faked.append(s.replace('[AGE]', age).replace('[GENDER]', gender))"
   ]
  },
  {
   "cell_type": "markdown",
   "metadata": {},
   "source": [
    "## Inspecting generated notes\n",
    "\n",
    "Let's take a look at a specific transcript"
   ]
  },
  {
   "cell_type": "code",
   "execution_count": 8,
   "metadata": {},
   "outputs": [
    {
     "name": "stdout",
     "output_type": "stream",
     "text": [
      "TRANSCRIPT:\n",
      "Doctor: Hi, what brings you in today?\n",
      "Patient: I have a dull ache in my right back and swelling for several weeks.\n",
      "Doctor: Can you describe the pain? Have you had any health problems in the past?\n",
      "Patient: It hurts more when I move. I had a thoracic trauma at work a year ago and was diagnosed with a simple fracture of the 9th right rib.\n",
      "Doctor: Okay. We did a CT-scan and found a tumor in your thoracic wall. It's serious, but it didn't involve your lung or muscles. We need to do a biopsy to confirm the diagnosis.\n",
      "Patient: Okay.\n",
      "Doctor: We performed a biopsy and found no malignant cells. We then removed the tumor and three ribs where it was involved.\n",
      "Patient: What's next?\n",
      "Doctor: You need to follow up with us regularly to make sure everything is going well.\n",
      "Patient: Of course, doctor. Thank you.\n"
     ]
    }
   ],
   "source": [
    "print(f\"TRANSCRIPT:\\n{summaries.iloc[1].conversation}\")"
   ]
  },
  {
   "cell_type": "markdown",
   "metadata": {},
   "source": [
    "When passed to the fine-tuned model, this is what we obtain:"
   ]
  },
  {
   "cell_type": "code",
   "execution_count": 9,
   "metadata": {},
   "outputs": [
    {
     "name": "stdout",
     "output_type": "stream",
     "text": [
      "NOTE GENERATED BY FINE-TUNED MODEL:\n",
      "A [GENDER] patient, [AGE], presented with a dull ache in the right back and swelling for several weeks, which worsened with movement. The patient had a history of thoracic trauma at work a year ago, which was diagnosed as a simple fracture of the 9th right rib. A CT-scan revealed a tumor in the thoracic wall, which was confirmed to be a benign schwannoma. The tumor was removed, and the patient underwent a 2-stage resection, which involved the removal of the tumor and three ribs. The patient had a good postoperative course and was discharged on day 5, with no complications.\n"
     ]
    }
   ],
   "source": [
    "print(f\"NOTE GENERATED BY FINE-TUNED MODEL:\\n{generated_ft[1]}\")"
   ]
  },
  {
   "cell_type": "markdown",
   "metadata": {},
   "source": [
    "Compare this to the original note that came with the transcript:"
   ]
  },
  {
   "cell_type": "code",
   "execution_count": 10,
   "metadata": {},
   "outputs": [
    {
     "name": "stdout",
     "output_type": "stream",
     "text": [
      "ORIGINAL NOTE:\n",
      "A 56-year-old man presented with a 2-month history of right-sided back pain and swelling. He had no prior health issues, except for a thoracic trauma one year prior, which was treated with a simple rib fracture. Imaging revealed a tumor in the right hemithorax, measuring 8x4cm, with heterogeneous density and involvement of adjacent intercostal spaces. The lung window showed micronodular infiltrations in both lungs, but no lung invasion. A biopsy was performed, which initially showed no malignant cells, leading to the consideration of oncologic resection of the tumor. The resection was successful, and a plastic procedure was performed to correct the defect. The biopsy results later revealed a sclerosing xanthofibroma, a benign tumor with distinct clinical and radiological features. The patient had an uneventful recovery, returned to work after one month, and had no signs of recurrence or new developments on follow-up CT scans two years later.\n"
     ]
    }
   ],
   "source": [
    "print(f\"ORIGINAL NOTE:\\n{summaries.iloc[1].note}\")"
   ]
  },
  {
   "cell_type": "markdown",
   "metadata": {},
   "source": [
    "And the one generated by the base model:"
   ]
  },
  {
   "cell_type": "code",
   "execution_count": 11,
   "metadata": {},
   "outputs": [
    {
     "name": "stdout",
     "output_type": "stream",
     "text": [
      "NOTE GENERATED BY BASE MODEL:\n",
      "Clinical Notes:\n",
      "\n",
      "Patient: [AGE], [GENDER]\n",
      "Chief Complaint: Dull ache in right back and swelling for several weeks.\n",
      "\n",
      "History of Present Illness:\n",
      "The patient reports a dull ache in the right back that worsens with movement. The patient had a thoracic trauma at work a year ago and was diagnosed with a simple fracture of the 9th right rib.\n",
      "\n",
      "Diagnostic Workup:\n",
      "A CT-scan was performed and revealed a tumor in the patient's thoracic wall. A biopsy was then conducted, which showed no malignant cells. The tumor and three ribs where it was involved were subsequently removed.\n",
      "\n",
      "Treatment Plan:\n",
      "The patient needs to follow up regularly to ensure proper healing and recovery.\n",
      "\n",
      "Conclusion:\n",
      "The patient underwent successful removal of a non-malignant tumor in the thoracic wall. Regular follow-up visits are recommended to monitor the patient's condition.\n"
     ]
    }
   ],
   "source": [
    "print(f\"NOTE GENERATED BY BASE MODEL:\\n{generated_base[1]}\")"
   ]
  },
  {
   "cell_type": "markdown",
   "metadata": {},
   "source": [
    "## Computing metrics\n",
    "\n",
    "For testing, we have the transcripts and 3 different sets of notes: the original one, the one generated by the base model, and the one generated by the fine-tuned model.\n",
    "\n",
    "Metrics we propose essentially compare both generated notes to the original one. We first use the [Text Synthetic Quality Score (SQS)](https://docs.gretel.ai/optimize-synthetic-data/evaluate/evaluate-tasks/text-quality-score-text-sqs) to do that.\n",
    "\n",
    "### Text SQS\n",
    "\n",
    "A snippet such as follows will compute the text SQS between two different datasets in the Gretel Cloud. Make sure to initialize the session, first."
   ]
  },
  {
   "cell_type": "code",
   "execution_count": null,
   "metadata": {},
   "outputs": [],
   "source": [
    "## SNIPPET, SKIP TO DOWNLOAD RESULTS DIRECTLY\n",
    "\n",
    "from gretel_client.evaluation.text_quality_report import TextQualityReport\n",
    "\n",
    "original_notes = summaries.loc[:1000, [\"note\"]]\n",
    "generated_notes = pd.DataFrame(generated_ft_faked, columns=[\"note\"]) \n",
    "\n",
    "report = TextQualityReport(data_source=original_notes,\n",
    "                           ref_data=generated_notes,\n",
    "                           target=\"note\",\n",
    "                           record_count=len(original_notes))\n",
    "\n",
    "report.run()  # waits for the job to finish\n",
    "\n",
    "report.as_dict"
   ]
  },
  {
   "cell_type": "markdown",
   "metadata": {},
   "source": [
    "We have split the 1,000 samples in 20 subsets of 50 samples each, and repeated the computation for each of these subsets, in order to get some statistics. For each of the subsets, we stored the semantic and structural similarity, as well as the SQS itself (which is a weighted average of the former two)."
   ]
  },
  {
   "cell_type": "code",
   "execution_count": 12,
   "metadata": {},
   "outputs": [
    {
     "data": {
      "text/plain": [
       "Text(0, 0.5, '')"
      ]
     },
     "execution_count": 12,
     "metadata": {},
     "output_type": "execute_result"
    },
    {
     "data": {
      "image/png": "[encoded data removed]",
      "text/plain": [
       "<Figure size 800x400 with 1 Axes>"
      ]
     },
     "metadata": {},
     "output_type": "display_data"
    }
   ],
   "source": [
    "## DOWNLOAD RESULTS DIRECTLY HERE\n",
    "\n",
    "import matplotlib.pyplot as plt\n",
    "import pandas as pd\n",
    "import seaborn as sns\n",
    "\n",
    "sns.set()\n",
    "\n",
    "sqs_results = pd.read_csv('https://gretel-blueprints-pub.s3.us-west-2.amazonaws.com/gpt_x/synth_notes_blogpost/sqs_results.csv.gz', compression='gzip')\n",
    "\n",
    "fig, ax = plt.subplots(1, 1, figsize=(8, 4))\n",
    "sns.violinplot(data=sqs_results, x='type', y='score', hue='model', cut=0, ax=ax)\n",
    "ax.set_xlabel('')\n",
    "ax.set_ylabel('')"
   ]
  },
  {
   "cell_type": "markdown",
   "metadata": {},
   "source": [
    "### LLM-as-a-judge\n",
    "\n",
    "Finally, we call a different, larger model (Claude 3.5 Sonnet) to act as \"LLM-as-a-judge\", i.e., to evaluate the quality of the generate notes, comparing them to the original note. We use the following prompt, where \"note 1\" will be the original note, and \"note 2\" is the note generated either by the fine-tuned model, or the base model.\n",
    "\n",
    "We evaluate 3 different aspects: meaning, style and organization."
   ]
  },
  {
   "cell_type": "code",
   "execution_count": 1,
   "metadata": {},
   "outputs": [],
   "source": [
    "rubric = \"\"\"\n",
    "I will provide two clinical notes, note 1 and note 2, and I want you to compare them in the following aspects:\n",
    "\n",
    "* Meaning: note 2 conveys the same meaning as note 1.\n",
    "* Style: note 2 is written in the same style as note 1, considering potential quirks and mannerisms.\n",
    "* Organization: note 2 is organized in the same fashion as note 1, in terms of sections and paragraphs.\n",
    "\n",
    "For each of these aspects, I want you to produce a rating between 1 and 5, depending on how truthful are the statements above. Do not say anything else besides the ratings.\n",
    "\"\"\"\n",
    "\n",
    "content = \"\"\"\n",
    "*** NOTE 1 ***\n",
    "{}\n",
    "\n",
    "*** NOTE 2 ***\n",
    "{}\n",
    "\"\"\""
   ]
  },
  {
   "cell_type": "markdown",
   "metadata": {},
   "source": [
    "The following 2 cells will perform calls to Claude 3.5 Sonnet on Bedrock and parse the output to get the scores.\n",
    "\n",
    "As before, you can skip them and obtain the rates directly from the 3rd cell."
   ]
  },
  {
   "cell_type": "code",
   "execution_count": null,
   "metadata": {},
   "outputs": [],
   "source": [
    "## SKIP TO DOWNLOAD RESULTS DIRECTLY\n",
    "\n",
    "def get_ratings(i, finetuned=True, debug=False):\n",
    "    data = generated_ft if finetuned else generated_base\n",
    "    formatted_content = content.format(summaries.note.values[i], data[i])\n",
    "    if debug:\n",
    "        print(formatted_content)\n",
    "    output = call_bedrock(formatted_content, system=rubric, model_id=\"anthropic.claude-3-5-sonnet-20240620-v1:0\")\n",
    "    return output\n",
    "\n",
    "output = get_ratings(0, finetuned=False, debug=True)\n",
    "print(output)"
   ]
  },
  {
   "cell_type": "code",
   "execution_count": null,
   "metadata": {},
   "outputs": [],
   "source": [
    "## SKIP TO DOWNLOAD RESULTS DIRECTLY\n",
    "\n",
    "import re\n",
    "from tqdm import trange\n",
    "\n",
    "COLUMNS = [\"Meaning\", \"Style\", \"Organization\"]\n",
    "REGEX = \"\\n\".join([f\"{col}: ([1-5])\" for col in COLUMNS])\n",
    "\n",
    "def compute_rates(finetuned):\n",
    "    \"\"\"Parse output to get scores\"\"\"\n",
    "\n",
    "    rates = pd.DataFrame([], columns=COLUMNS)\n",
    "    for i in trange(1000):\n",
    "        success = False\n",
    "        attempts = 5\n",
    "\n",
    "        while not success and attempts > 0:\n",
    "            output = get_ratings(i, finetuned=finetuned)\n",
    "            match = re.search(REGEX, output)\n",
    "\n",
    "            if match and len(match.groups()) == len(rates.columns):\n",
    "                rates.loc[len(rates)] = match.groups()\n",
    "                success = True\n",
    "            else:\n",
    "                print(f'Failed to match for i = {i}')\n",
    "                attempts -= 1\n",
    "\n",
    "                if attempts == 0:\n",
    "                    rates.loc[len(rates)] = (None, None)\n",
    "\n",
    "    return rates\n",
    "\n",
    "rates_base = compute_rates(finetuned=False)\n",
    "rates_ft = compute_rates(finetuned=True)"
   ]
  },
  {
   "cell_type": "code",
   "execution_count": 13,
   "metadata": {},
   "outputs": [],
   "source": [
    "## DOWNLOAD RESULTS DIRECTLY HERE\n",
    "\n",
    "COLUMNS = [\"Meaning\", \"Style\", \"Organization\"]\n",
    "\n",
    "rates_link = \"https://gretel-blueprints-pub.s3.us-west-2.amazonaws.com/gpt_x/synth_notes_blogpost/rates.tar.gz\"\n",
    "with requests.get(rates_link, stream=True) as req, tarfile.open(fileobj=req.raw, mode=\"r:gz\") as tarobj: \n",
    "    tarobj.extractall()\n",
    "\n",
    "rates_ft = pd.read_csv(\"rates_ft.csv\")\n",
    "rates_base = pd.read_csv(\"rates_base.csv\")"
   ]
  },
  {
   "cell_type": "code",
   "execution_count": 14,
   "metadata": {},
   "outputs": [
    {
     "data": {
      "text/html": [
       "<div>\n",
       "<style scoped>\n",
       "    .dataframe tbody tr th:only-of-type {\n",
       "        vertical-align: middle;\n",
       "    }\n",
       "\n",
       "    .dataframe tbody tr th {\n",
       "        vertical-align: top;\n",
       "    }\n",
       "\n",
       "    .dataframe thead th {\n",
       "        text-align: right;\n",
       "    }\n",
       "</style>\n",
       "<table border=\"1\" class=\"dataframe\">\n",
       "  <thead>\n",
       "    <tr style=\"text-align: right;\">\n",
       "      <th></th>\n",
       "      <th>type</th>\n",
       "      <th>status</th>\n",
       "      <th>value</th>\n",
       "    </tr>\n",
       "  </thead>\n",
       "  <tbody>\n",
       "    <tr>\n",
       "      <th>0</th>\n",
       "      <td>Meaning</td>\n",
       "      <td>base won</td>\n",
       "      <td>231</td>\n",
       "    </tr>\n",
       "    <tr>\n",
       "      <th>1</th>\n",
       "      <td>Style</td>\n",
       "      <td>base won</td>\n",
       "      <td>32</td>\n",
       "    </tr>\n",
       "    <tr>\n",
       "      <th>2</th>\n",
       "      <td>Organization</td>\n",
       "      <td>base won</td>\n",
       "      <td>32</td>\n",
       "    </tr>\n",
       "    <tr>\n",
       "      <th>3</th>\n",
       "      <td>Meaning</td>\n",
       "      <td>tie</td>\n",
       "      <td>586</td>\n",
       "    </tr>\n",
       "    <tr>\n",
       "      <th>4</th>\n",
       "      <td>Style</td>\n",
       "      <td>tie</td>\n",
       "      <td>346</td>\n",
       "    </tr>\n",
       "    <tr>\n",
       "      <th>5</th>\n",
       "      <td>Organization</td>\n",
       "      <td>tie</td>\n",
       "      <td>240</td>\n",
       "    </tr>\n",
       "    <tr>\n",
       "      <th>6</th>\n",
       "      <td>Meaning</td>\n",
       "      <td>fine-tuned won</td>\n",
       "      <td>183</td>\n",
       "    </tr>\n",
       "    <tr>\n",
       "      <th>7</th>\n",
       "      <td>Style</td>\n",
       "      <td>fine-tuned won</td>\n",
       "      <td>622</td>\n",
       "    </tr>\n",
       "    <tr>\n",
       "      <th>8</th>\n",
       "      <td>Organization</td>\n",
       "      <td>fine-tuned won</td>\n",
       "      <td>728</td>\n",
       "    </tr>\n",
       "  </tbody>\n",
       "</table>\n",
       "</div>"
      ],
      "text/plain": [
       "           type          status  value\n",
       "0       Meaning        base won    231\n",
       "1         Style        base won     32\n",
       "2  Organization        base won     32\n",
       "3       Meaning             tie    586\n",
       "4         Style             tie    346\n",
       "5  Organization             tie    240\n",
       "6       Meaning  fine-tuned won    183\n",
       "7         Style  fine-tuned won    622\n",
       "8  Organization  fine-tuned won    728"
      ]
     },
     "execution_count": 14,
     "metadata": {},
     "output_type": "execute_result"
    }
   ],
   "source": [
    "# Compare scores to get win/lose rates\n",
    "comparison = pd.DataFrame([], columns=COLUMNS)\n",
    "for i in range(1000):\n",
    "    comparison.loc[i] = (0, 0, 0)\n",
    "    for col in comparison.columns:\n",
    "        if rates_ft.loc[i, col] > rates_base.loc[i, col]:\n",
    "            comparison.loc[i, col] = 1\n",
    "        elif rates_ft.loc[i, col] < rates_base.loc[i, col]:\n",
    "            comparison.loc[i, col] = -1\n",
    "\n",
    "llm_judge_res = pd.DataFrame([], columns=['base won', 'tie', 'fine-tuned won'])\n",
    "for col in COLUMNS:\n",
    "    llm_judge_res.loc[len(llm_judge_res)] = comparison[col].value_counts().sort_index().values\n",
    "llm_judge_res.index = COLUMNS\n",
    "\n",
    "llm_judge_res = llm_judge_res.melt(var_name='status', ignore_index=False).rename_axis('type').reset_index()\n",
    "llm_judge_res"
   ]
  },
  {
   "cell_type": "code",
   "execution_count": 15,
   "metadata": {},
   "outputs": [
    {
     "name": "stderr",
     "output_type": "stream",
     "text": [
      "/tmp/ipykernel_754194/3100595634.py:3: FutureWarning: The default value of numeric_only in DataFrameGroupBy.cumsum is deprecated. In a future version, numeric_only will default to False. Either specify numeric_only or select only columns which should be valid for the function.\n",
      "  llm_judge_res_cum['value'] = llm_judge_res.groupby('type').cumsum()['value']\n"
     ]
    },
    {
     "data": {
      "text/plain": [
       "(0.0, 1000.0)"
      ]
     },
     "execution_count": 15,
     "metadata": {},
     "output_type": "execute_result"
    },
    {
     "data": {
      "image/png": "[encoded data removed]",
      "text/plain": [
       "<Figure size 800x400 with 1 Axes>"
      ]
     },
     "metadata": {},
     "output_type": "display_data"
    }
   ],
   "source": [
    "# Compute cumulative results\n",
    "llm_judge_res_cum = llm_judge_res.copy()\n",
    "llm_judge_res_cum['value'] = llm_judge_res.groupby('type').cumsum()['value']\n",
    "llm_judge_res_cum\n",
    "\n",
    "fig, ax = plt.subplots(1, 1, figsize=(8, 4))\n",
    "colors = sns.color_palette(\"coolwarm\")\n",
    "for status, color in zip(llm_judge_res['status'].unique()[::-1], colors[::2]):\n",
    "    sns.barplot(data=llm_judge_res_cum[llm_judge_res['status'] == status], x='value', y='type', label=status, color=color, ax=ax)\n",
    "ax.set_xlabel('')\n",
    "ax.set_ylabel('')\n",
    "ax.set_xlim([0, 1000])"
   ]
  },
  {
   "cell_type": "markdown",
   "metadata": {},
   "source": [
    "We can see that in terms of meaning, base and fine-tuned models are essentially tied; however, in terms of style and organization, the fine-tuned model does much better."
   ]
  }
 ],
 "metadata": {
  "kernelspec": {
   "display_name": "Python 3",
   "language": "python",
   "name": "python3"
  },
  "language_info": {
   "codemirror_mode": {
    "name": "ipython",
    "version": 3
   },
   "file_extension": ".py",
   "mimetype": "text/x-python",
   "name": "python",
   "nbconvert_exporter": "python",
   "pygments_lexer": "ipython3",
   "version": "3.9.16"
  }
 },
 "nbformat": 4,
 "nbformat_minor": 2
}
