{
 "cells": [
  {
   "cell_type": "markdown",
   "metadata": {
    "application/vnd.databricks.v1+cell": {
     "cellMetadata": {},
     "inputWidgets": {},
     "nuid": "98dec569-f73b-4e3b-81d6-1a28ee562c10",
     "showTitle": false,
     "title": ""
    }
   },
   "source": [
    "# Generating a Dataset and Writing to Databricks"
   ]
  },
  {
   "cell_type": "markdown",
   "metadata": {
    "application/vnd.databricks.v1+cell": {
     "cellMetadata": {
      "byteLimit": 2048000,
      "rowLimit": 10000
     },
     "inputWidgets": {},
     "nuid": "52fed09a-9e44-4011-bf13-2b30f0cacfd0",
     "showTitle": false,
     "title": ""
    }
   },
   "source": [
    "## Generating Chat Log Data using Navigator"
   ]
  },
  {
   "cell_type": "code",
   "execution_count": 0,
   "metadata": {
    "application/vnd.databricks.v1+cell": {
     "cellMetadata": {
      "byteLimit": 2048000,
      "rowLimit": 10000
     },
     "inputWidgets": {},
     "nuid": "9bfeb32a-1f05-44b2-b5ae-16cea3c48817",
     "showTitle": false,
     "title": ""
    }
   },
   "outputs": [],
   "source": [
    "%pip install gretel-client\n",
    "%pip install --upgrade typing-extensions\n",
    "dbutils.library.restartPython()"
   ]
  },
  {
   "cell_type": "code",
   "execution_count": 0,
   "metadata": {
    "application/vnd.databricks.v1+cell": {
     "cellMetadata": {
      "byteLimit": 2048000,
      "rowLimit": 10000
     },
     "inputWidgets": {},
     "nuid": "2a75330b-38c3-4b56-a63b-f7e7e3e01e8a",
     "showTitle": false,
     "title": ""
    }
   },
   "outputs": [],
   "source": [
    "import logging\n",
    "import yaml\n",
    "from getpass import getpass\n",
    "\n",
    "from gretel_client import Gretel, create_or_get_unique_project\n",
    "from gretel_client.config import configure_session, get_session_config\n",
    "from gretel_client.rest_v1.api.connections_api import ConnectionsApi\n",
    "from gretel_client.rest_v1.api.logs_api import LogsApi\n",
    "from gretel_client.rest_v1.api.workflows_api import WorkflowsApi\n",
    "from gretel_client.rest_v1.models import (\n",
    "    CreateConnectionRequest,\n",
    "    CreateWorkflowRequest,\n",
    "    CreateWorkflowRunRequest,\n",
    ")\n",
    "from gretel_client.workflows.logs import print_logs_for_workflow_run\n",
    "\n",
    "from pyspark.sql import SparkSession\n",
    "from pyspark.sql.functions import col, to_date, to_timestamp\n",
    "from pyspark.sql.types import (\n",
    "    IntegerType,\n",
    "    StringType,\n",
    "    StructField,\n",
    "    StructType,\n",
    "    TimestampType,\n",
    ")\n",
    "\n",
    "gretel = Gretel(api_key=\"prompt\")"
   ]
  },
  {
   "cell_type": "code",
   "execution_count": 0,
   "metadata": {
    "application/vnd.databricks.v1+cell": {
     "cellMetadata": {
      "byteLimit": 2048000,
      "rowLimit": 10000
     },
     "inputWidgets": {},
     "nuid": "a803f7af-c6fb-473a-9efb-843557b17379",
     "showTitle": false,
     "title": ""
    }
   },
   "outputs": [],
   "source": [
    "# the `backend_model` argument is optional and defaults \"gretelai/auto\" \n",
    "tabular = gretel.factories.initialize_navigator_api(\"tabular\", backend_model=\"gretelai/auto\")\n",
    "\n",
    "prompt = \"\"\"\\\n",
    "Generate customer support chatbot data:\n",
    "customer_id: A unique numeric identifier for each customer interaction (e.g, 1234).\n",
    "timestamp: The date and time of the customer interaction (e.g. 2024-03-15 10:01:17).\n",
    "interaction_type: Type of interaction (e.g., chat, email, phone).\n",
    "customer_query: The text of the customer’s question or request.\n",
    "intent: The identified intent of the customer query (e.g., account balance inquiry, transaction dispute).\n",
    "response: The response provided to the customer.\n",
    "resolution_status: Whether the query was resolved successfully.\n",
    "agent_notes: Additional notes from the support agent.\n",
    "sentiment: The sentiment score of the interaction (e.g., positive, neutral, negative).\n",
    "\n",
    "\"\"\"\n",
    "\n",
    "# generate tabular data from a natural language prompt\n",
    "df = tabular.generate(prompt, num_records=150)"
   ]
  },
  {
   "cell_type": "code",
   "execution_count": 0,
   "metadata": {
    "application/vnd.databricks.v1+cell": {
     "cellMetadata": {
      "byteLimit": 2048000,
      "rowLimit": 10000
     },
     "inputWidgets": {},
     "nuid": "06ac9f55-cca6-4690-9989-cf03800d80da",
     "showTitle": false,
     "title": ""
    }
   },
   "outputs": [],
   "source": [
    "# Create SparkSession\n",
    "spark = SparkSession.builder.getOrCreate()\n",
    "\n",
    "# Convert Pandas DataFrame to Spark DataFrame\n",
    "spark_df = spark.createDataFrame(df)\n",
    "\n",
    "# Apply the column casting using withColumn\n",
    "spark_df = spark_df.withColumn(\"customer_id\", col(\"customer_id\").cast(IntegerType()))\n",
    "spark_df = spark_df.withColumn(\"timestamp\", col(\"timestamp\").cast(TimestampType()))\n",
    "\n",
    "# Define the schema for the DataFrame\n",
    "schema = StructType([\n",
    "    StructField(\"customer_id\", IntegerType(), True),\n",
    "    StructField(\"timestamp\", TimestampType(), True),\n",
    "    StructField(\"interaction_type\", StringType(), True),\n",
    "    StructField(\"customer_query\", StringType(), True),\n",
    "    StructField(\"intent\", StringType(), True),\n",
    "    StructField(\"response\", StringType(), True),\n",
    "    StructField(\"resolution_status\", StringType(), True),\n",
    "    StructField(\"agent_notes\", StringType(), True),\n",
    "    StructField(\"sentiment\", StringType(), True)\n",
    "])\n",
    "\n",
    "catalog = input('Catalog to write to:')\n",
    "schema = input('Schema to write to:')\n",
    "\n",
    "spark.sql(f\"DROP TABLE IF EXISTS {catalog}.{schema}.chat_bot_logs\")\n",
    "\n",
    "# Save the DataFrame as a Delta table\n",
    "spark_df.write.format(\"delta\").mode(\"overwrite\").saveAsTable(f\"{catalog}.{schema}.chat_bot_logs\")"
   ]
  },
  {
   "cell_type": "markdown",
   "metadata": {
    "application/vnd.databricks.v1+cell": {
     "cellMetadata": {},
     "inputWidgets": {},
     "nuid": "a44f86a3-1949-4bb2-b808-ac5dae4001bf",
     "showTitle": false,
     "title": ""
    }
   },
   "source": [
    "### Creating a Gretel NavFt Workflow and write synthetic data to Databricks"
   ]
  },
  {
   "cell_type": "code",
   "execution_count": 0,
   "metadata": {
    "application/vnd.databricks.v1+cell": {
     "cellMetadata": {
      "byteLimit": 2048000,
      "rowLimit": 10000
     },
     "inputWidgets": {},
     "nuid": "2a795579-2fda-42bc-90ff-55ad578e49aa",
     "showTitle": false,
     "title": ""
    }
   },
   "outputs": [],
   "source": [
    "logging.basicConfig()\n",
    "logger = logging.getLogger(__name__)\n",
    "logger.setLevel(logging.DEBUG)\n",
    "\n",
    "# Set up of API's needed to run workflows\n",
    "setup = configure_session(api_key=\"prompt\")\n",
    "session = get_session_config()\n",
    "\n",
    "connection_api = session.get_v1_api(ConnectionsApi)\n",
    "workflow_api = session.get_v1_api(WorkflowsApi)\n",
    "log_api = session.get_v1_api(LogsApi)\n",
    "\n",
    "project = create_or_get_unique_project(name=\"databricks-demo-navft\")\n",
    "\n",
    "project.get_console_url()"
   ]
  },
  {
   "cell_type": "code",
   "execution_count": 0,
   "metadata": {
    "application/vnd.databricks.v1+cell": {
     "cellMetadata": {
      "byteLimit": 2048000,
      "rowLimit": 10000
     },
     "inputWidgets": {},
     "nuid": "60256862-e25e-4a1d-8d83-1bff85d64ac0",
     "showTitle": false,
     "title": ""
    }
   },
   "outputs": [],
   "source": [
    "\"\"\" \n",
    "Creates source and destination connections for databricks\n",
    "\"\"\"\n",
    "\n",
    "source_conn = connection_api.create_connection(\n",
    "    CreateConnectionRequest(\n",
    "        name=\"databricks-source\",\n",
    "        project_id=project.project_guid,\n",
    "        type=\"databricks\",\n",
    "        config={\n",
    "            \"server_hostname\": input('Source Connection(server_hostname):'),\n",
    "            \"http_path\": input('Source Connection(http_path):'),\n",
    "            \"catalog\": input('Source Connection(catalog):'),\n",
    "            \"schema\": input('Source Connection(schema):'),\n",
    "        },\n",
    "        credentials={\n",
    "            \"personal_access_token\": getpass(prompt='Source Connection(Personal Access Token (PAT)):')\n",
    "        },\n",
    "    )\n",
    ")\n",
    "\n",
    "dest_conn = connection_api.create_connection(\n",
    "    CreateConnectionRequest(\n",
    "        name=\"databricks-dest\",\n",
    "        project_id=project.project_guid,\n",
    "        type=\"databricks\",\n",
    "        config={\n",
    "            \"server_hostname\": input('Destination Connection(server_hostname):'),\n",
    "            \"http_path\": input('Destination Connection(http_path):'),\n",
    "            \"catalog\": input('Destination Connection(catalog):'),\n",
    "            \"schema\": input('Destination Connection(schema):'),\n",
    "        },\n",
    "        credentials={\n",
    "            \"personal_access_token\": getpass(prompt='Destination Connection(Personal Access Token (PAT)): ')\n",
    "        },\n",
    "    )\n",
    ")"
   ]
  },
  {
   "cell_type": "code",
   "execution_count": 0,
   "metadata": {
    "application/vnd.databricks.v1+cell": {
     "cellMetadata": {
      "byteLimit": 2048000,
      "rowLimit": 10000
     },
     "inputWidgets": {},
     "nuid": "72caba29-8f05-4bbd-b4b7-ad9c796aa7e1",
     "showTitle": false,
     "title": ""
    }
   },
   "outputs": [],
   "source": [
    "\"\"\" \n",
    "Sample config for a Gretel Workflow that\n",
    "1. Reads data from databricks\n",
    "2. Generates synthetic data using our Navigator Fine Tuning (https://docs.gretel.ai/create-synthetic-data/models/synthetics/gretel-navigator-fine-tuning) model.\n",
    "3. Writes generated synthetic data back to a Databricks Destination\n",
    "\n",
    "Note: volume name can be edited in 'databricks-destination' action\n",
    "\"\"\"\n",
    "\n",
    "workflow_config = yaml.safe_load(f\"\"\"\n",
    "name: databricks-navft-worflow\n",
    "actions:\n",
    "  - name: databricks-read\n",
    "    type: databricks_source\n",
    "    connection: {source_conn.id}\n",
    "    config:\n",
    "      sync:\n",
    "        mode: full\n",
    "  - name: model-train-run\n",
    "    type: gretel_tabular\n",
    "    input: databricks-read\n",
    "    config:\n",
    "      project_id: {project.project_guid}\n",
    "      train:\n",
    "        model_config:\n",
    "          schema_version: \"1.0\"\n",
    "          name: navigator_ft\n",
    "          models:\n",
    "            - navigator_ft:\n",
    "                data_source: __tmp__\n",
    "                group_training_examples_by: null\n",
    "                order_training_examples_by: null\n",
    "                generate:\n",
    "                  num_records: 5000\n",
    "                params:\n",
    "                  num_input_records_to_sample: 25000\n",
    "        dataset: \"{{outputs.databricks-read.dataset}}\"\n",
    "  - name: databricks-write\n",
    "    type: databricks_destination\n",
    "    connection: {dest_conn.id}\n",
    "    input: model-train-run\n",
    "    config:\n",
    "      sync:\n",
    "        mode: replace\n",
    "      dataset: \"{{outputs.model-train-run.dataset}}\"\n",
    "      volume: \"{input(\"Provide name for the volume: \")}\"\n",
    "\n",
    "\"\"\"\n",
    ")\n",
    "\n",
    "# Creates a workflow with the config above\n",
    "workflow = workflow_api.create_workflow(\n",
    "    CreateWorkflowRequest(\n",
    "        name=\"Databricks NavFT Demo\",\n",
    "        project_id=project.project_guid,\n",
    "        config=workflow_config,\n",
    "    )\n",
    ")"
   ]
  },
  {
   "cell_type": "code",
   "execution_count": 0,
   "metadata": {
    "application/vnd.databricks.v1+cell": {
     "cellMetadata": {
      "byteLimit": 2048000,
      "rowLimit": 10000
     },
     "inputWidgets": {},
     "nuid": "44901f1a-d59e-490c-98e3-f161cfdf62b2",
     "showTitle": false,
     "title": ""
    }
   },
   "outputs": [],
   "source": [
    "# Kicks off a run of the workflow created\n",
    "workflow_run = workflow_api.create_workflow_run(\n",
    "    CreateWorkflowRunRequest(workflow_id=workflow.id)\n",
    ")\n",
    "\n",
    "print_logs_for_workflow_run(workflow_run.id, session)"
   ]
  }
 ],
 "metadata": {
  "application/vnd.databricks.v1+notebook": {
   "dashboards": [],
   "environmentMetadata": {
    "base_environment": "",
    "client": "1"
   },
   "language": "python",
   "notebookMetadata": {
    "pythonIndentUnit": 4
   },
   "notebookName": "Blog Notebook - Gretel Workflow",
   "widgets": {}
  }
 },
 "nbformat": 4,
 "nbformat_minor": 0
}
