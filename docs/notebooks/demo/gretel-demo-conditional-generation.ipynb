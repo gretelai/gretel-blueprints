{
 "cells": [
  {
   "cell_type": "markdown",
   "metadata": {},
   "source": [
    "<a target=\"_blank\" href=\"https://colab.research.google.com/github/gretelai/gretel-blueprints/blob/main/docs/notebooks/demo/gretel-demo-conditional-generation.ipynb\">\n",
    "  <img src=\"https://colab.research.google.com/assets/colab-badge.svg\" alt=\"Open In Colab\"/>\n",
    "</a>"
   ]
  },
  {
   "cell_type": "markdown",
   "metadata": {},
   "source": [
    "In this notebook we demonstrate how you can leverage conditional data generation using the Gretel-Actgan to simulate various use cases and test scenarios on your data, such as balancing records among categories, introducing a spike in a categorical field or generating synthetic data within a specific range for multiple numerical columns."
   ]
  },
  {
   "cell_type": "markdown",
   "metadata": {},
   "source": [
    "## Setup and Installation\n",
    "\n",
    "This section installs required python and system dependencies for the notebook to run, and then it creates a session with the Gretel API endpoint so that we can communicate with Gretel Cloud. Learn more in our documentation covering [environment setup](https://docs.gretel.ai/guides/environment-setup/cli-and-sdk)."
   ]
  },
  {
   "cell_type": "code",
   "execution_count": null,
   "metadata": {},
   "outputs": [],
   "source": [
    "%%capture\n",
    "!pip install -U gretel-client"
   ]
  },
  {
   "cell_type": "markdown",
   "metadata": {},
   "source": [
    "## Fetch and prepare data\n",
    "Load and display the source data."
   ]
  },
  {
   "cell_type": "code",
   "execution_count": null,
   "metadata": {},
   "outputs": [],
   "source": [
    "import pandas as pd\n",
    "import numpy as np\n",
    "\n",
    "DATA_PATH = \"https://gretel-datasets.s3.us-west-2.amazonaws.com/rossman_store_sales/train_50k.csv\"\n",
    "data_source = pd.read_csv(DATA_PATH)\n",
    "display(data_source.sample(n=10))"
   ]
  },
  {
   "cell_type": "markdown",
   "metadata": {},
   "source": [
    "## Configure your Gretel session\n",
    "\n",
    "Set up the Gretel API connection"
   ]
  },
  {
   "cell_type": "code",
   "execution_count": null,
   "metadata": {},
   "outputs": [],
   "source": [
    "from gretel_client import Gretel\n",
    "\n",
    "GRETEL_PROJECT = 'demo-conditional-generation'\n",
    "\n",
    "gretel = Gretel(project_name=GRETEL_PROJECT, api_key=\"prompt\", validate=True)"
   ]
  },
  {
   "cell_type": "markdown",
   "metadata": {},
   "source": [
    "## Train Gretel-ACTGAN model on data\n",
    "Note that in this example we will use our tabular-actgan model as it support conditional data generation."
   ]
  },
  {
   "cell_type": "code",
   "execution_count": null,
   "metadata": {},
   "outputs": [],
   "source": [
    "trained = gretel.submit_train(\n",
    "    \"tabular-actgan\", \n",
    "    data_source = data_source,\n",
    "    params = {\n",
    "        \"conditional_vector_type\": \"anyway\",\n",
    "        \"conditional_select_mean_columns\": 2,\n",
    "        \"reconstruction_loss_coef\": 10.0,\n",
    "        \"force_conditioning\": True,\n",
    "    }\n",
    ")"
   ]
  },
  {
   "cell_type": "markdown",
   "metadata": {},
   "source": [
    "## Use Case 1: Unconditional Synthetic data generation\n",
    "\n",
    "By default, Gretel will generate synthetic data that has similar properties as the source data."
   ]
  },
  {
   "cell_type": "code",
   "execution_count": null,
   "metadata": {},
   "outputs": [],
   "source": [
    "# Unconditional generation\n",
    "\n",
    "NUMBER_OF_RECORDS = len(data_source)\n",
    "\n",
    "generated = gretel.submit_generate(trained.model_id, num_records=NUMBER_OF_RECORDS)"
   ]
  },
  {
   "cell_type": "code",
   "execution_count": null,
   "metadata": {},
   "outputs": [],
   "source": [
    "# Inspect the synthetic data\n",
    "\n",
    "print(\"Source data\")\n",
    "display(data_source.head())\n",
    "\n",
    "print(\"Synthetic data\")\n",
    "display(generated.synthetic_data.head())"
   ]
  },
  {
   "cell_type": "markdown",
   "metadata": {},
   "source": [
    "## Use Case 2: Balance data in a column\n",
    "\n",
    "In this example, we use conditional generation to balance across a the categorical column `DayOfWeek` to establish a balance accross weekdays after augmenting the synthetic records with the original data."
   ]
  },
  {
   "cell_type": "code",
   "execution_count": null,
   "metadata": {},
   "outputs": [],
   "source": [
    "# Inspect synthetic data\n",
    "\n",
    "import matplotlib.pyplot as plt\n",
    "\n",
    "SEED_COLUMN = \"DayOfWeek\"\n",
    "fig, ax = plt.subplots(1, 1, figsize=(5, 5))\n",
    "data_source[SEED_COLUMN].value_counts().plot(kind=\"barh\", rot=90, grid=True, ax=ax)\n",
    "ax.set_xlim(7000,7500)\n"
   ]
  },
  {
   "cell_type": "code",
   "execution_count": null,
   "metadata": {},
   "outputs": [],
   "source": [
    "# Conditional generation\n",
    "\n",
    "# First, let's create seed data that will produce an equal number of records for each day of the week\n",
    "n_rows_to_add = data_source[SEED_COLUMN].value_counts().max() - data_source[SEED_COLUMN].value_counts()\n",
    "seed_data = sum([[day] * n_rows for day, n_rows in n_rows_to_add.items()], [])\n",
    "seeds = pd.DataFrame(data=seed_data, columns=[SEED_COLUMN])\n",
    "\n",
    "generated = gretel.submit_generate(trained.model_id, seed_data=seeds)"
   ]
  },
  {
   "cell_type": "code",
   "execution_count": null,
   "metadata": {},
   "outputs": [],
   "source": [
    "# Inspect synthetic data\n",
    "\n",
    "df_balanced = pd.concat([data_source, generated.synthetic_data])\n",
    "\n",
    "fig, ax = plt.subplots(1, 1, figsize=(5, 5))\n",
    "df_join = pd.DataFrame(np.column_stack((data_source[SEED_COLUMN].value_counts().values, df_balanced[SEED_COLUMN].value_counts())), columns=['Source','Source+Synthetic'])\n",
    "df_join[SEED_COLUMN] = data_source[SEED_COLUMN].value_counts().index\n",
    "df_join.plot(x=SEED_COLUMN, y=[\"Source\", \"Source+Synthetic\"], kind=\"barh\", rot=0, grid=True, ax=ax)\n",
    "ax.set_xlim(7000,7500)"
   ]
  },
  {
   "cell_type": "markdown",
   "metadata": {},
   "source": [
    "# Use Case 3: Simulate a boost in Store types\n",
    "\n",
    "Now we will simulate a boost in one of the categories of the `StoreType` column."
   ]
  },
  {
   "cell_type": "code",
   "execution_count": null,
   "metadata": {},
   "outputs": [],
   "source": [
    "SEED_COLUMN = 'StoreType'\n",
    "\n",
    "fig, ax = plt.subplots(1, 1, figsize=(5, 5))\n",
    "data_source[SEED_COLUMN].value_counts().plot(kind=\"barh\", rot=0, grid=True, ax=ax)"
   ]
  },
  {
   "cell_type": "code",
   "execution_count": null,
   "metadata": {},
   "outputs": [],
   "source": [
    "# Conditional generation\n",
    "\n",
    "SEED_VALUE = 'c'\n",
    "SEED_RECORDS = 10000\n",
    "seeds = pd.DataFrame(data=[SEED_VALUE] * SEED_RECORDS, columns=[SEED_COLUMN])\n",
    "\n",
    "generated = gretel.submit_generate(trained.model_id, seed_data=seeds)"
   ]
  },
  {
   "cell_type": "code",
   "execution_count": null,
   "metadata": {},
   "outputs": [],
   "source": [
    "# Inspect the synthetic data\n",
    "\n",
    "print(\"Synthetic data\")\n",
    "display(generated.synthetic_data.head())"
   ]
  },
  {
   "cell_type": "code",
   "execution_count": null,
   "metadata": {},
   "outputs": [],
   "source": [
    "# Show class balance\n",
    "\n",
    "df_augmented = pd.concat([data_source, generated.synthetic_data])\n",
    "\n",
    "fig, ax = plt.subplots(1, 1, figsize=(5, 5))\n",
    "df_join = pd.DataFrame(np.column_stack((data_source[SEED_COLUMN].value_counts().sort_index(), df_augmented[SEED_COLUMN].value_counts().sort_index())), columns=['Source','Source+Synthetic'])\n",
    "df_join[SEED_COLUMN] = data_source[SEED_COLUMN].value_counts().sort_index().index\n",
    "df_join.plot(x=SEED_COLUMN, y=[\"Source\", \"Source+Synthetic\"], kind=\"barh\", rot=0, grid=True, ax=ax)"
   ]
  },
  {
   "cell_type": "markdown",
   "metadata": {},
   "source": [
    "# Use Case 4: How to enhance data through augmentation\n",
    "\n",
    "Finally, we will use conditional generation to create more data points within a specific range of the numerical fields `Sales` and `Customers`."
   ]
  },
  {
   "cell_type": "code",
   "execution_count": null,
   "metadata": {},
   "outputs": [],
   "source": [
    "import random\n",
    "from sklearn.utils import resample\n",
    "\n",
    "SEED_RECORDS = 100\n",
    "COLUMN1 = \"Sales\"\n",
    "COLUMN2 = \"Customers\"\n",
    "df_sel = data_source[[COLUMN1, COLUMN2]]\n",
    "\n",
    "# Sales\n",
    "min_col1_value = 20_000\n",
    "max_col1_value = 25_000\n",
    "df_sel = df_sel[(df_sel[COLUMN1] >= min_col1_value) & (df_sel[COLUMN1] <= max_col1_value)]\n",
    "print(len(df_sel))\n",
    "\n",
    "# Customers\n",
    "min_col2_value = 2000\n",
    "max_col2_value = 3000\n",
    "df_sel = df_sel[(df_sel[COLUMN2] >= min_col2_value) & (df_sel[COLUMN2] <= max_col2_value)]\n",
    "\n",
    "seeds = resample(df_sel, replace=True, n_samples=SEED_RECORDS)\n",
    "\n",
    "fig, ax = plt.subplots(1, 1, figsize=(8, 8))\n",
    "data_source.plot.scatter(x=COLUMN1, y=COLUMN2, c='DarkBlue', grid=True, ax=ax)\n",
    "seeds.plot.scatter(x=COLUMN1, y=COLUMN2, c='DarkRed', grid=True, ax=ax)"
   ]
  },
  {
   "cell_type": "code",
   "execution_count": null,
   "metadata": {},
   "outputs": [],
   "source": [
    "# Conditional generation\n",
    "\n",
    "generated = gretel.submit_generate(trained.model_id, seed_data=seeds)"
   ]
  },
  {
   "cell_type": "code",
   "execution_count": null,
   "metadata": {},
   "outputs": [],
   "source": [
    "# Inspect the synthetic data\n",
    "\n",
    "print(\"Synthetic data\")\n",
    "display(generated.synthetic_data.sample(n=5))"
   ]
  }
 ],
 "metadata": {
  "kernelspec": {
   "display_name": "Python 3 (ipykernel)",
   "language": "python",
   "name": "python3"
  },
  "language_info": {
   "codemirror_mode": {
    "name": "ipython",
    "version": 3
   },
   "file_extension": ".py",
   "mimetype": "text/x-python",
   "name": "python",
   "nbconvert_exporter": "python",
   "pygments_lexer": "ipython3",
   "version": "3.11.6"
  }
 },
 "nbformat": 4,
 "nbformat_minor": 4
}
