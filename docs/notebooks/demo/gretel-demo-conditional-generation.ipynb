{
 "cells": [
  {
   "cell_type": "markdown",
   "metadata": {},
   "source": [
    "<a target=\"_blank\" href=\"https://colab.research.google.com/github/gretelai/gretel-blueprints/blob/main/docs/notebooks/demo/demo-gretel-conditional-generation.ipynb\">\n",
    "  <img src=\"https://colab.research.google.com/assets/colab-badge.svg\" alt=\"Open In Colab\"/>\n",
    "</a>"
   ]
  },
  {
   "cell_type": "markdown",
   "metadata": {},
   "source": [
    "## Setup and Installation\n",
    "\n",
    "This section installs required python and system dependencies for the notebook to run, and then it creates a session with the Gretel API endpoint so that we can communicate with Gretel Cloud. Learn more in our documentation covering [environment setup](https://docs.gretel.ai/guides/environment-setup/cli-and-sdk)."
   ]
  },
  {
   "cell_type": "code",
   "execution_count": null,
   "metadata": {},
   "outputs": [],
   "source": [
    "%%capture\n",
    "!pip install -U gretel-client"
   ]
  },
  {
   "cell_type": "markdown",
   "metadata": {},
   "source": [
    "## Gretel Setup\n",
    "Set up the Gretel API connection"
   ]
  },
  {
   "cell_type": "code",
   "execution_count": null,
   "metadata": {},
   "outputs": [],
   "source": [
    "from getpass import getpass\n",
    "from gretel_client import configure_session\n",
    "\n",
    "gretel_endpoint = \"https://api.gretel.cloud\"\n",
    "gretel_api_key = getpass(\"API Key: \")\n",
    "\n",
    "configure_session(\n",
    "    api_key=gretel_api_key,\n",
    "    endpoint=gretel_endpoint,\n",
    "    validate=True,\n",
    "    clear=True,\n",
    ")"
   ]
  },
  {
   "cell_type": "markdown",
   "metadata": {},
   "source": [
    "## Fetch and prepare data\n",
    "Read in the dataset as a Gretel Relational object"
   ]
  },
  {
   "cell_type": "code",
   "execution_count": null,
   "metadata": {},
   "outputs": [],
   "source": [
    "import pandas as pd\n",
    "import numpy as np\n",
    "\n",
    "DATA_PATH = \"https://gretel-datasets.s3.us-west-2.amazonaws.com/rossman_store_sales/train_50k.csv\"\n",
    "data_source = pd.read_csv(DATA_PATH)\n",
    "display(data_source.sample(n=10))"
   ]
  },
  {
   "cell_type": "markdown",
   "metadata": {},
   "source": [
    "## Train Gretel-ACTGAN model on data\n",
    "Note that in this example we will use our tabular-actgan model as it support conditional data generation."
   ]
  },
  {
   "cell_type": "code",
   "execution_count": null,
   "metadata": {},
   "outputs": [],
   "source": [
    "# Configure a Gretel session\n",
    "\n",
    "from gretel_client import configure_session\n",
    "from gretel_client.projects import create_or_get_unique_project\n",
    "\n",
    "GRETEL_PROJECT_NAME = 'demo-conditional-generation'\n",
    "\n",
    "configure_session(\n",
    "    api_key=\"prompt\",\n",
    "    endpoint=\"https://api-dev.gretel.cloud\",\n",
    "    validate=True,\n",
    "    clear=True,\n",
    ")\n",
    "\n",
    "project = create_or_get_unique_project(name=GRETEL_PROJECT_NAME)\n"
   ]
  },
  {
   "cell_type": "markdown",
   "metadata": {},
   "source": [
    "## Synthesize data using Gretel Synthetics"
   ]
  },
  {
   "cell_type": "code",
   "execution_count": null,
   "metadata": {},
   "outputs": [],
   "source": [
    "from gretel_client.projects.models import read_model_config\n",
    "\n",
    "# Load and modify Gretel Actan config\n",
    "config = read_model_config(\"synthetics/tabular-actgan\")\n",
    "\n",
    "# conditional generation\n",
    "config['models'][0]['actgan']['params']['conditional_vector_type'] = \"anyway\"\n",
    "config['models'][0]['actgan']['params']['conditional_select_mean_columns'] = 2\n",
    "config['models'][0]['actgan']['params']['reconstruction_loss_coef'] = 10.0\n",
    "config['models'][0]['actgan']['params']['force_conditioning'] = True"
   ]
  },
  {
   "cell_type": "code",
   "execution_count": null,
   "metadata": {},
   "outputs": [],
   "source": [
    "from gretel_client.helpers import poll\n",
    "\n",
    "# Train model \n",
    "model = project.create_model_obj(\n",
    "    model_config=config, data_source=data_source\n",
    ")\n",
    "model.submit_cloud()\n",
    "\n",
    "poll(model, verbose=False)"
   ]
  },
  {
   "cell_type": "markdown",
   "metadata": {},
   "source": [
    "## Accessing Project and Model Files\n",
    "All of the project artifacts can be found in the Gretel Console using the below URL."
   ]
  },
  {
   "cell_type": "code",
   "execution_count": null,
   "metadata": {},
   "outputs": [],
   "source": [
    "console_url = f\"https://console.gretel.ai/{project.project_guid}\"\n",
    "print(console_url)"
   ]
  },
  {
   "cell_type": "markdown",
   "metadata": {},
   "source": [
    "## Use Case 1: Unconditional Synthetic data generation\n",
    "\n",
    "By default, Gretel will generate synthetic data that has similar properties as the source data."
   ]
  },
  {
   "cell_type": "code",
   "execution_count": null,
   "metadata": {},
   "outputs": [],
   "source": [
    "NUMBER_OF_RECORDS = len(data_source)\n",
    "\n",
    "rh = model.create_record_handler_obj(\n",
    "    params={\"num_records\": NUMBER_OF_RECORDS}\n",
    "    )\n",
    "rh.submit_cloud()\n",
    "poll(rh)\n",
    "\n",
    "synth_df = pd.read_csv(rh.get_artifact_link(\"data\"), compression=\"gzip\")"
   ]
  },
  {
   "cell_type": "code",
   "execution_count": null,
   "metadata": {},
   "outputs": [],
   "source": [
    "print(\"Source data\")\n",
    "display(data_source.head())\n",
    "\n",
    "print(\"Synthetic data\")\n",
    "display(synth_df.head())"
   ]
  },
  {
   "cell_type": "markdown",
   "metadata": {},
   "source": [
    "## Use Case 2: Balance data in a column\n",
    "\n",
    "Conditionally generate more data to balance across a specific column"
   ]
  },
  {
   "cell_type": "code",
   "execution_count": null,
   "metadata": {},
   "outputs": [],
   "source": [
    "# Inspect synthetic data\n",
    "\n",
    "import matplotlib.pyplot as plt\n",
    "\n",
    "SEED_COLUMN = \"DayOfWeek\"\n",
    "fig, ax = plt.subplots(1, 1, figsize=(5, 5))\n",
    "data_source[SEED_COLUMN].value_counts().plot(kind=\"barh\", rot=90, grid=True, ax=ax)\n",
    "ax.set_xlim(7000,7500)"
   ]
  },
  {
   "cell_type": "code",
   "execution_count": null,
   "metadata": {},
   "outputs": [],
   "source": [
    "col_value_counts = data_source[SEED_COLUMN].value_counts()\n",
    "\n",
    "seed_data = []\n",
    "for (line, value) in zip(col_value_counts.index, max(col_value_counts)-col_value_counts.values):\n",
    "    if value > 0:\n",
    "        seed_data += [line]*value  \n",
    "seeds = pd.DataFrame(data=seed_data, columns=[SEED_COLUMN])\n",
    "\n",
    "rh = model.create_record_handler_obj(data_source=seeds)\n",
    "rh.submit_cloud()\n",
    "poll(rh)\n",
    "\n",
    "synth_df = pd.read_csv(rh.get_artifact_link(\"data\"), compression=\"gzip\")"
   ]
  },
  {
   "cell_type": "code",
   "execution_count": null,
   "metadata": {},
   "outputs": [],
   "source": [
    "# Inspect synthetic data\n",
    "df_balanced = pd.concat([data_source, synth_df])\n",
    "\n",
    "fig, ax = plt.subplots(1, 1, figsize=(5, 5))\n",
    "df_join = pd.DataFrame(np.column_stack((data_source[SEED_COLUMN].value_counts().values, df_balanced[SEED_COLUMN].value_counts())), columns=['Source','Source+Synthetic'])\n",
    "df_join[SEED_COLUMN] = data_source[SEED_COLUMN].value_counts().index\n",
    "df_join.plot(x=SEED_COLUMN, y=[\"Source\", \"Source+Synthetic\"], kind=\"barh\", rot=0, grid=True, ax=ax)\n",
    "ax.set_xlim(7000,7500)"
   ]
  },
  {
   "cell_type": "markdown",
   "metadata": {},
   "source": [
    "# Use Case 3: Simulate a boost in Store types\n",
    "\n",
    "Let's simulate a boost in one of the field values."
   ]
  },
  {
   "cell_type": "code",
   "execution_count": null,
   "metadata": {},
   "outputs": [],
   "source": [
    "SEED_COLUMN = 'StoreType'\n",
    "\n",
    "fig, ax = plt.subplots(1, 1, figsize=(5, 5))\n",
    "data_source[SEED_COLUMN].value_counts().plot(kind=\"barh\", rot=0, grid=True, ax=ax)"
   ]
  },
  {
   "cell_type": "code",
   "execution_count": null,
   "metadata": {},
   "outputs": [],
   "source": [
    "SEED_VALUE = 'c'\n",
    "SEED_RECORDS = 10000\n",
    "\n",
    "seeds = pd.DataFrame(data=[SEED_VALUE] * SEED_RECORDS, columns=[SEED_COLUMN])\n",
    "rh = model.create_record_handler_obj(data_source=seeds)\n",
    "rh.submit_cloud()\n",
    "poll(rh)\n",
    "\n",
    "synth_df = pd.read_csv(rh.get_artifact_link(\"data\"), compression=\"gzip\")"
   ]
  },
  {
   "cell_type": "code",
   "execution_count": null,
   "metadata": {},
   "outputs": [],
   "source": [
    "# Inspect synthetic data\n",
    "\n",
    "df_augmented = pd.concat([data_source, synth_df])\n",
    "\n",
    "fig, ax = plt.subplots(1, 1, figsize=(5, 5))\n",
    "df_join = pd.DataFrame(np.column_stack((data_source[SEED_COLUMN].value_counts().sort_index(), df_augmented[SEED_COLUMN].value_counts().sort_index())), columns=['Source','Source+Synthetic'])\n",
    "df_join[SEED_COLUMN] = data_source[SEED_COLUMN].value_counts().sort_index().index\n",
    "df_join.plot(x=SEED_COLUMN, y=[\"Source\", \"Source+Synthetic\"], kind=\"barh\", rot=0, grid=True, ax=ax)"
   ]
  },
  {
   "cell_type": "code",
   "execution_count": null,
   "metadata": {},
   "outputs": [],
   "source": [
    "print(\"Synthetic data\")\n",
    "\n",
    "display(synth_df.head())"
   ]
  },
  {
   "cell_type": "markdown",
   "metadata": {},
   "source": [
    "# Use Case 4: How to enhance data through augmentation"
   ]
  },
  {
   "cell_type": "code",
   "execution_count": null,
   "metadata": {},
   "outputs": [],
   "source": [
    "import random\n",
    "from sklearn.utils import resample\n",
    "\n",
    "SEED_RECORDS = 100\n",
    "COLUMN1 = \"Sales\"\n",
    "COLUMN2 = \"Customers\"\n",
    "df_sel = data_source[[COLUMN1, COLUMN2]]\n",
    "\n",
    "# Sales\n",
    "min_col1_value = 20_000\n",
    "max_col1_value = 25_000\n",
    "df_sel = df_sel[(df_sel[COLUMN1] >= min_col1_value) & (df_sel[COLUMN1] <= max_col1_value)]\n",
    "print(len(df_sel))\n",
    "\n",
    "# Customers\n",
    "min_col2_value = 2000\n",
    "max_col2_value = 3000\n",
    "df_sel = df_sel[(df_sel[COLUMN2] >= min_col2_value) & (df_sel[COLUMN2] <= max_col2_value)]\n",
    "\n",
    "seeds = resample(df_sel, replace=True, n_samples=SEED_RECORDS)\n",
    "\n",
    "fig, ax = plt.subplots(1, 1, figsize=(8, 8))\n",
    "data_source.plot.scatter(x=COLUMN1, y=COLUMN2, c='DarkBlue', grid=True, ax=ax)\n",
    "seeds.plot.scatter(x=COLUMN1, y=COLUMN2, c='DarkRed', grid=True, ax=ax)"
   ]
  },
  {
   "cell_type": "code",
   "execution_count": null,
   "metadata": {},
   "outputs": [],
   "source": [
    "# Conditionally generate\n",
    "\n",
    "rh = model.create_record_handler_obj(data_source=seeds)\n",
    "rh.submit_cloud()\n",
    "poll(rh)\n",
    "\n",
    "synth_df = pd.read_csv(rh.get_artifact_link(\"data\"), compression=\"gzip\")"
   ]
  },
  {
   "cell_type": "code",
   "execution_count": null,
   "metadata": {},
   "outputs": [],
   "source": [
    "print(\"Synthetic data\")\n",
    "\n",
    "display(synth_df.sample(n=5))"
   ]
  }
 ],
 "metadata": {
  "kernelspec": {
   "display_name": "venv",
   "language": "python",
   "name": "python3"
  },
  "language_info": {
   "codemirror_mode": {
    "name": "ipython",
    "version": 3
   },
   "file_extension": ".py",
   "mimetype": "text/x-python",
   "name": "python",
   "nbconvert_exporter": "python",
   "pygments_lexer": "ipython3",
   "version": "3.11.5"
  },
  "orig_nbformat": 4
 },
 "nbformat": 4,
 "nbformat_minor": 2
}
