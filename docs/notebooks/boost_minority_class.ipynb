{
  "cells": [
    {
      "cell_type": "markdown",
      "metadata": {
        "id": "view-in-github",
        "colab_type": "text"
      },
      "source": [
        "<a href=\"https://colab.research.google.com/github/gretelai/gretel-blueprints/blob/ucc-minority-class-boosting/docs/notebooks/boost_minority_class.ipynb\" target=\"_parent\"><img src=\"https://colab.research.google.com/assets/colab-badge.svg\" alt=\"Open In Colab\"/></a>"
      ]
    },
    {
      "cell_type": "markdown",
      "metadata": {
        "id": "ywZH4adwVk2-"
      },
      "source": [
        "# Minority class boosting using Synthetic Data\n",
        "\n",
        "This notebook illustrates how to (a) train a Gretel ACTGAN model on a dataset that only has a few instances of the minority class, and (b) conditionally generate additional minority samples that you can use to augment the original dataset, e.g with the goal to improve a downstream ML task. \n",
        "\n",
        "In case the data is highly imbalanced, we suggest resampling the minority class prior to synthetic model training and show how this could benefit the quality of the generated synthetic data. We will provide SQS score metrics and visualize inspect the samples. Note that the synthetic samples are generated with Gretel's Privacy Filters and therefore provide privacy protection compared to other resampling techniques."
      ]
    },
    {
      "cell_type": "markdown",
      "metadata": {
        "id": "HOl7_RjLcA6l"
      },
      "source": [
        "## 1. Dataset and data processing\n",
        "\n",
        "The data we are using here contains transactions made by credit cards in September 2013 by European cardholders. The dataset is a subset of the [Kaggle CreditCardFraud](https://www.kaggle.com/datasets/mlg-ulb/creditcardfraud)\n",
        "dataset. \n",
        "\n",
        "This subset was constructed by selecting 25,000 financial records through donwsampling the non-fraud transactions and keeping the total of 492 fraud transactions from the original dataset. The dataset is hence highly imbalanced, i.e. the positive class (fraud transaction) accounts for 1.97% of all transactions. \n"
      ]
    },
    {
      "cell_type": "code",
      "execution_count": null,
      "metadata": {
        "id": "T1xXN5AopH-a",
        "cellView": "form"
      },
      "outputs": [],
      "source": [
        "#@title Define dataset specific settings\n",
        "\n",
        "# path to dataset\n",
        "DATASET_PATH = 'https://gretel-public-website.s3.us-west-2.amazonaws.com/datasets/creditcard_kaggle_25k.csv.zip'\n",
        "# column name containing class labels\n",
        "TARGET_COLUMN='Class' #@param {type:\"string\"}\n",
        "\n",
        "# minority/majority class label value             \n",
        "MAJORITY_CLASS_VALUE=0 #@param {type:\"integer\"}\n",
        "MINORITY_CLASS_VALUE=1 #@param {type:\"integer\"}\n"
      ]
    },
    {
      "cell_type": "code",
      "source": [
        "#@title Load training data and prepare for conditional data generation\n",
        "\n",
        "import pandas as pd\n",
        "\n",
        "data_source = pd.read_csv(DATASET_PATH)\n",
        "\n",
        "# A requirement for the Gretel ACTGAN to conditionally sample from a column is to have the values in categorical/string format.\n",
        "data_source[TARGET_COLUMN] = data_source[TARGET_COLUMN].replace(\n",
        "      [MAJORITY_CLASS_VALUE, MINORITY_CLASS_VALUE],\n",
        "      ['negative', 'positive']\n",
        "    )\n",
        "\n",
        "# show class imbalance in original dataset\n",
        "print(\"target class ratio of original dataset\")\n",
        "print(data_source[TARGET_COLUMN].value_counts(normalize=True))"
      ],
      "metadata": {
        "id": "BTfUz_Gi5els",
        "cellView": "form"
      },
      "execution_count": null,
      "outputs": []
    },
    {
      "cell_type": "markdown",
      "source": [
        "As can be seen, the class imbalance in the target labels is quite high in this dataset. If that is the case, we suggest to upsample the positive classes in the data to give the Gretel ACTGAN enough examples from both classes to train on."
      ],
      "metadata": {
        "id": "5wSy9BCirxFF"
      }
    },
    {
      "cell_type": "code",
      "source": [
        "#@title [Optional] Resampling the minority class to establish class balance prior to synthetic model training\n",
        "\n",
        "UPSAMPLE_MINORITY_CLASS=True #@param {type:\"boolean\"}\n",
        "\n",
        "# In this notebook, we use a simple resampling strategy. Other upsampling method can be explored as well.\n",
        "from sklearn.utils import resample\n",
        "\n",
        "majority_samples = data_source[data_source[TARGET_COLUMN] == 'negative']\n",
        "minority_samples = data_source[data_source[TARGET_COLUMN] == 'positive']\n",
        "\n",
        "if UPSAMPLE_MINORITY_CLASS:\n",
        "\n",
        "  minority_samples_resampled = resample(\n",
        "        minority_samples, \n",
        "        replace=True, \n",
        "        n_samples=len(majority_samples)-len(minority_samples)\n",
        "      )\n",
        "  data_source = pd.concat([data_source, minority_samples_resampled])\n",
        "\n",
        "  # show balance\n",
        "  print(\"target class ratio after resampling\")\n",
        "  print(data_source[TARGET_COLUMN].value_counts(normalize=True))"
      ],
      "metadata": {
        "id": "6qpJdU1w9507",
        "cellView": "form"
      },
      "execution_count": null,
      "outputs": []
    },
    {
      "cell_type": "markdown",
      "metadata": {
        "id": "Y-is4rNQ_tzr"
      },
      "source": [
        "## 2. Train Gretel ACTGAN model"
      ]
    },
    {
      "cell_type": "code",
      "execution_count": null,
      "metadata": {
        "id": "5oLj8htoiubm",
        "cellView": "form"
      },
      "outputs": [],
      "source": [
        "#@title Install the gretel-client\n",
        "%%capture\n",
        "!pip install -U gretel-client"
      ]
    },
    {
      "cell_type": "code",
      "execution_count": null,
      "metadata": {
        "id": "ZbLp1IF7iy-Q",
        "cellView": "form"
      },
      "outputs": [],
      "source": [
        "#@title Import the libraries and configure the session\n",
        "from gretel_client import configure_session\n",
        "from gretel_client.projects.models import read_model_config\n",
        "from gretel_client.projects import create_or_get_unique_project\n",
        "from gretel_client.helpers import poll\n",
        "\n",
        "configure_session(api_key=\"prompt\", cache=\"yes\", validate=True)"
      ]
    },
    {
      "cell_type": "code",
      "source": [
        "#@title Create a project and import the Gretel ACTGAN model configuration.\n",
        "\n",
        "# Gretel project name\n",
        "GRETEL_PROJECT_NAME = 'boost-minority-class-example' #@param {type:\"string\"}\n",
        "\n",
        "project = create_or_get_unique_project(name=GRETEL_PROJECT_NAME)"
      ],
      "metadata": {
        "id": "uc3MvJKf4Phy",
        "cellView": "form"
      },
      "execution_count": null,
      "outputs": []
    },
    {
      "cell_type": "code",
      "source": [
        "#@title Load and modify Gretel Actan config\n",
        "config = read_model_config(\"synthetics/tabular-actgan\")\n",
        "\n",
        "# We set the number of epochs to 200\n",
        "training_epochs = 200 #@param {type:\"string\"}\n",
        "config['models'][0]['actgan']['params']['epochs'] = training_epochs\n",
        "\n",
        "#Turn off privacy filters off for maximum accuracy.\n",
        "config[\"models\"][0]['actgan']['privacy_filters'][\"outliers\"] = None\n",
        "config[\"models\"][0]['actgan']['privacy_filters'][\"similarity\"] = None"
      ],
      "metadata": {
        "id": "UQheXHU6FPc0",
        "cellView": "form"
      },
      "execution_count": null,
      "outputs": []
    },
    {
      "cell_type": "code",
      "execution_count": null,
      "metadata": {
        "id": "v329z3O3tyZW",
        "collapsed": true,
        "cellView": "form"
      },
      "outputs": [],
      "source": [
        "#@title Train the Gretel ACTGAN model.\n",
        "\n",
        "# Train the model on our training data set\n",
        "model = project.create_model_obj(model_config=config, data_source=data_source)\n",
        "model.submit_cloud()\n",
        "poll(model)"
      ]
    },
    {
      "cell_type": "code",
      "execution_count": null,
      "metadata": {
        "id": "lonM6zw_1hrC",
        "cellView": "form"
      },
      "outputs": [],
      "source": [
        "#@title Inspect the Synthetic Quality Score (SQS)\n",
        "\n",
        "from pprint import pprint\n",
        "\n",
        "report_summary = model.get_report_summary()['summary']\n",
        "df = pd.DataFrame(report_summary, columns=['field','value'])\n",
        "\n",
        "# Print SQS\n",
        "print(f\"Synthetic Data Quality Report summary\")\n",
        "display(df)"
      ]
    },
    {
      "cell_type": "markdown",
      "source": [
        "As can be seen from inspecting the Synthetic Data Quality report, we are getting a synthetic quality score of ~75. If you had run the notebook without upsampling the original mintory sample (by setting `UPSAMPLE_MINORITY_CLASS = False`), the SQS would have been much lower. \n",
        "\n",
        "Next, we will generate samples from the model and visualize the synthetic data against the original data samples."
      ],
      "metadata": {
        "id": "JVktmp96QQ5y"
      }
    },
    {
      "cell_type": "markdown",
      "metadata": {
        "id": "KFv5C8ZrTnhZ"
      },
      "source": [
        "## 3. Generate synthetic samples of the minority data\n",
        "\n",
        "In this section, we conditionally synthesize the minority class samples using our various Gretel ACTGAN models."
      ]
    },
    {
      "cell_type": "code",
      "execution_count": null,
      "metadata": {
        "id": "InTKVW9btwYm",
        "cellView": "form"
      },
      "outputs": [],
      "source": [
        "#@title Specify the number of minority samples you want to generate\n",
        "\n",
        "GENERATED_MINORITY_SAMPLES = 500 #@param {type:\"integer\"}"
      ]
    },
    {
      "cell_type": "code",
      "execution_count": null,
      "metadata": {
        "id": "hV-nBn816mW3",
        "cellView": "form"
      },
      "outputs": [],
      "source": [
        "#@title Conditionally generate minority class with the ACTGAN models.\n",
        "\n",
        "seeds = pd.DataFrame(data=['positive'] * GENERATED_MINORITY_SAMPLES, columns=[TARGET_COLUMN])\n",
        "\n",
        "rh = model.create_record_handler_obj(\n",
        "    data_source=seeds, params={\"num_records\": len(seeds)}\n",
        ")\n",
        "rh.submit_cloud()\n",
        "poll(rh)"
      ]
    },
    {
      "cell_type": "code",
      "execution_count": null,
      "metadata": {
        "id": "R4JL07oCWWcN",
        "cellView": "form"
      },
      "outputs": [],
      "source": [
        "#@title Fetch the synthetic data samples.\n",
        "\n",
        "print(rh.record_id + ' is complete. Fetching the synthetic data.')\n",
        "# augment the training data with the synthetic positive samples and train classifier model\n",
        "synth_data = pd.read_csv(rh.get_artifact_link(\"data\"), compression=\"gzip\")"
      ]
    },
    {
      "cell_type": "markdown",
      "source": [
        "## 4. Visualize the synthetic samples against the original data"
      ],
      "metadata": {
        "id": "OELTDAy8GJqr"
      }
    },
    {
      "cell_type": "code",
      "execution_count": null,
      "metadata": {
        "id": "XOINYxrI-CYO",
        "cellView": "form"
      },
      "outputs": [],
      "source": [
        "#@title Principal Component Analysis\n",
        "\n",
        "import numpy as np\n",
        "import seaborn as sns\n",
        "import matplotlib.pyplot as plt\n",
        "from sklearn.preprocessing import StandardScaler\n",
        "from sklearn import decomposition\n",
        "\n",
        "def create_plot(data_source, majority_samples, minority_samples, synth_data, TARGET_COLUMN):\n",
        "    scaler = StandardScaler()\n",
        "    pca = decomposition.PCA(n_components = 2)\n",
        "\n",
        "    features = data_source.drop(columns=[TARGET_COLUMN]).columns\n",
        "    df = pd.concat([majority_samples[features], minority_samples[features]])\n",
        "\n",
        "    # normalize and compute PCA on training data\n",
        "    X = df.iloc[:, 1:-1]\n",
        "    scaler.fit(X)\n",
        "    x_std = scaler.transform(X)\n",
        "    pca.fit(x_std)\n",
        "\n",
        "    minority_upsampled = synth_data\n",
        "    minority_upsampled[TARGET_COLUMN] = minority_upsampled[TARGET_COLUMN].replace('positive', 'synthetic positive')\n",
        "\n",
        "    df = pd.concat([majority_samples[features], minority_samples[features], minority_upsampled[features],])\n",
        "    df_lbl = pd.concat([majority_samples[TARGET_COLUMN], minority_samples[TARGET_COLUMN], minority_upsampled[TARGET_COLUMN],])\n",
        "    X = df.iloc[:, 1:-1]\n",
        "    x_std = scaler.transform(X)\n",
        "    pca_data = pca.transform(x_std)\n",
        "    pca_data = np.column_stack((pca_data, df_lbl))\n",
        "    pca_df = pd.DataFrame(data=pca_data, columns=(\"X\", \"Y\", \"labels\"))\n",
        "\n",
        "    sns.FacetGrid(pca_df, hue=\"labels\", height=6).map(plt.scatter, 'X', 'Y').add_legend().set(title=f\"Original samples vs. samples generated with Gretel ACTGAN\") \n",
        "    plt.grid()\n",
        "\n",
        "    plt.show()\n",
        "\n",
        "# build the PCA chart\n",
        "create_plot(data_source, majority_samples, minority_samples, synth_data, TARGET_COLUMN)\n"
      ]
    },
    {
      "cell_type": "markdown",
      "source": [
        "As can be seen from the plots, we see that the Gretel ACTGAN model produces minority samples that are close to the positive minority samples of the original dataset, i.e. the synthetic minority class samples (green) shows to overlap better with the original minority class samples (orange). \n",
        "\n",
        "*Note: In case there are only a limited amount of minority samples available in the original training data, we suggest resampling the minority class as way to \"help\" the Gretel ACTGAN model to produce more meaningful examples.*"
      ],
      "metadata": {
        "id": "s0Z935izQMiZ"
      }
    }
  ],
  "metadata": {
    "colab": {
      "provenance": [],
      "collapsed_sections": [
        "KFv5C8ZrTnhZ"
      ],
      "include_colab_link": true
    },
    "kernelspec": {
      "display_name": "Python 3",
      "name": "python3"
    },
    "language_info": {
      "name": "python"
    }
  },
  "nbformat": 4,
  "nbformat_minor": 0
}
