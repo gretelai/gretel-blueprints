{
 "cells": [
 {
   "cell_type": "markdown",
   "metadata": {
    "colab_type": "text",
    "id": "view-in-github"
   },
   "source": [
    "<a href=\"https://colab.research.google.com/github/gretelai/gretel-blueprints/blob/main/docs/notebooks/local_synthetics.ipynb\" target=\"_parent\"><img src=\"https://colab.research.google.com/assets/colab-badge.svg\" alt=\"Open In Colab\"/></a>\n"
   ]
  },
  {
   "cell_type": "markdown",
   "metadata": {},
   "source": [
    "## Train a Gretel.ai synthetic data model locally\n",
    "\n",
    "This notebook walks through training a model and generating synthetic data locally in your environment.\n",
    "\n",
    "Follow the instructions here to set up your local environment and GPU: https://docs.gretel.ai/environment-setup\n",
    "\n",
    "Prerequisites:\n",
    "\n",
    "- Python 3.9+ (`python --version`).\n",
    "- GPU with CUDA configured highly recommended (`nvidia-smi`).\n",
    "- Ensure that Docker is running (`docker info`.\n",
    "- The Gretel client SDK is installed and configured (`pip install -U gretel-client; gretel configure`).\n"
   ]
  },
  {
   "cell_type": "code",
   "execution_count": null,
   "metadata": {},
   "outputs": [],
   "source": [
    "import json\n",
    "\n",
    "from smart_open import open\n",
    "import pandas as pd\n",
    "\n",
    "from gretel_client import submit_docker_local\n",
    "from gretel_client.projects import create_or_get_unique_project\n",
    "\n",
    "data_source = \"https://gretel-public-website.s3.us-west-2.amazonaws.com/datasets/USAdultIncome5k.csv\"\n"
   ]
  },
  {
   "cell_type": "code",
   "execution_count": null,
   "metadata": {},
   "outputs": [],
   "source": [
    "# Load and preview the DataFrame to train the synthetic model on.\n",
    "\n",
    "df = pd.read_csv(data_source)\n",
    "df.to_csv(\"training_data.csv\", index=False)\n",
    "df\n"
   ]
  },
  {
   "cell_type": "code",
   "execution_count": null,
   "metadata": {},
   "outputs": [],
   "source": [
    "# Load config and set training parameters\n",
    "from gretel_client.projects.models import read_model_config\n",
    "\n",
    "config = read_model_config(\"synthetics/default\")\n",
    "\n",
    "config[\"models\"][0][\"synthetics\"][\"params\"][\"epochs\"] = 50\n",
    "config[\"models\"][0][\"synthetics\"][\"data_source\"] = \"training_data.csv\"\n",
    "\n",
    "print(json.dumps(config, indent=2))\n"
   ]
  },
  {
   "cell_type": "code",
   "execution_count": null,
   "metadata": {},
   "outputs": [],
   "source": [
    "# Create a project and train the synthetic data model\n",
    "\n",
    "project = create_or_get_unique_project(name=\"synthetic-data-local\")\n",
    "model = project.create_model_obj(model_config=config)\n",
    "run = submit_docker_local(model, output_dir=\"tmp/\")\n"
   ]
  },
  {
   "cell_type": "code",
   "execution_count": null,
   "metadata": {},
   "outputs": [],
   "source": [
    "# View the generated synthetic data\n",
    "\n",
    "synthetic_df = pd.read_csv(\"tmp/data_preview.gz\", compression=\"gzip\")\n",
    "synthetic_df\n"
   ]
  },
  {
   "cell_type": "code",
   "execution_count": null,
   "metadata": {},
   "outputs": [],
   "source": [
    "# View report that shows the statistical performance between the training and synthetic data\n",
    "\n",
    "import IPython\n",
    "\n",
    "IPython.display.HTML(data=open(\"tmp/report.html.gz\").read(), metadata=dict(isolated=True))\n"
   ]
  },
  {
   "cell_type": "code",
   "execution_count": null,
   "metadata": {},
   "outputs": [],
   "source": [
    "# Use the trained model to create additional synthetic data\n",
    "\n",
    "record_handler = model.create_record_handler_obj(params={\"num_records\": 100})\n",
    "\n",
    "run = submit_docker_local(\n",
    "    record_handler, model_path=\"tmp/model.tar.gz\", output_dir=\"tmp/\"\n",
    ")\n"
   ]
  },
  {
   "cell_type": "code",
   "execution_count": null,
   "metadata": {},
   "outputs": [],
   "source": [
    "synthetic_df_new = pd.read_csv(\"tmp/data.gz\", compression=\"gzip\")\n",
    "synthetic_df_new\n"
   ]
  }
 ],
 "metadata": {
  "interpreter": {
   "hash": "9bba8f6ed2feafdad698ed6a1926c15a7650a75eedae60d223f34187f1656d66"
  },
  "kernelspec": {
   "display_name": "Python 3",
   "language": "python",
   "name": "python3"
  },
  "language_info": {
   "codemirror_mode": {
    "name": "ipython",
    "version": 3
   },
   "file_extension": ".py",
   "mimetype": "text/x-python",
   "name": "python",
   "nbconvert_exporter": "python",
   "pygments_lexer": "ipython3",
   "version": "3.8.3"
  }
 },
 "nbformat": 4,
 "nbformat_minor": 2
}
