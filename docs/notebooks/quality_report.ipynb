{
 "cells": [
  {
   "cell_type": "markdown",
   "metadata": {},
   "source": [
    "## Creating a quality report for two datasets (data_source and ref_data)"
   ]
  },
  {
   "cell_type": "code",
   "execution_count": null,
   "metadata": {},
   "outputs": [],
   "source": [
    "%%capture\n",
    "!pip install -U gretel-client"
   ]
  },
  {
   "cell_type": "code",
   "execution_count": 1,
   "metadata": {},
   "outputs": [
    {
     "name": "stdout",
     "output_type": "stream",
     "text": [
      "Found cached Gretel credentials\n",
      "Using endpoint https://api-dev.gretel.cloud\n",
      "Logged in as anastasia@gretel.ai ✅\n"
     ]
    }
   ],
   "source": [
    "from gretel_client.config import RunnerMode\n",
    "from gretel_client.evaluation.quality_report import QualityReport\n",
    "from gretel_client import configure_session\n",
    "from gretel_client.projects import create_or_get_unique_project\n",
    "\n",
    "# Specify your Gretel API key\n",
    "\n",
    "configure_session(api_key=\"prompt\", cache=\"yes\", validate=True)\n",
    "\n",
    "data_source = \"https://gretel-public-website.s3.us-west-2.amazonaws.com/datasets/USAdultIncome5kGenerated.csv\"\n",
    "ref_data = \"https://gretel-public-website.s3.us-west-2.amazonaws.com/datasets/USAdultIncome5k.csv\""
   ]
  },
  {
   "cell_type": "code",
   "execution_count": 2,
   "metadata": {},
   "outputs": [
    {
     "name": "stderr",
     "output_type": "stream",
     "text": [
      "\u001b[32mINFO: \u001b[0mStarting poller\n"
     ]
    },
    {
     "name": "stdout",
     "output_type": "stream",
     "text": [
      "{\n",
      "    \"uid\": \"62cd9d4dc0fe215a31d44eea\",\n",
      "    \"guid\": \"model_2Bqn7qgwG7vQpEe7glp4dc4gWT9\",\n",
      "    \"model_name\": \"wiggly-oafish-sphinx\",\n",
      "    \"runner_mode\": \"cloud\",\n",
      "    \"user_id\": \"629110b1492fbf0f121dcce0\",\n",
      "    \"user_guid\": \"user_29l46LTXd0EnmhRHHfB9DWcO2Sd\",\n",
      "    \"billing_domain\": \"gretel.ai\",\n",
      "    \"billing_domain_guid\": \"domain_28bzIokk1eQdWUYsovba0VN1gtY\",\n",
      "    \"project_id\": \"62cd9d449fb989a899b57219\",\n",
      "    \"project_guid\": \"proj_2Bqn6frmwZnRAs8OohB3LclBztu\",\n",
      "    \"status_history\": {\n",
      "        \"created\": \"2022-07-12T16:11:57.168548Z\"\n",
      "    },\n",
      "    \"last_modified\": \"2022-07-12T16:11:57.312668Z\",\n",
      "    \"status\": \"created\",\n",
      "    \"last_active_hb\": null,\n",
      "    \"duration_minutes\": null,\n",
      "    \"error_msg\": null,\n",
      "    \"error_id\": null,\n",
      "    \"traceback\": null,\n",
      "    \"annotations\": null,\n",
      "    \"container_image\": \"074762682575.dkr.ecr.us-east-2.amazonaws.com/models/evaluate@sha256:ec56e31b2838e9514381dba71e96776df6091853e8c4644b6c118aba8c6fc833\",\n",
      "    \"model_type\": \"evaluate\",\n",
      "    \"config\": {\n",
      "        \"schema_version\": \"1.0\",\n",
      "        \"name\": null,\n",
      "        \"models\": [\n",
      "            {\n",
      "                \"evaluate\": {\n",
      "                    \"data_source\": [\n",
      "                        \"gretel_ed184a7e14914699a0a6fba9935b35da_USAdultIncome5k.csv\"\n",
      "                    ],\n",
      "                    \"ref_data\": {\n",
      "                        \"0\": \"gretel_56db2b74186e4bf9b4bfc8927f5e5125_USAdultIncome5k.csv\"\n",
      "                    },\n",
      "                    \"task\": {\n",
      "                        \"type\": \"sqs\"\n",
      "                    }\n",
      "                }\n",
      "            }\n",
      "        ],\n",
      "        \"notifications\": null,\n",
      "        \"label_predictors\": null\n",
      "    },\n",
      "    \"autouse_config\": null,\n",
      "    \"autouse_handler_id\": null\n",
      "}\n"
     ]
    },
    {
     "name": "stderr",
     "output_type": "stream",
     "text": [
      "\u001b[32mINFO: \u001b[0mStatus is created. Model creation has been queued.\n",
      "\u001b[32mINFO: \u001b[0mStatus is pending. A Gretel Cloud worker is being allocated to begin model creation.\n",
      "\u001b[32mINFO: \u001b[0mStatus is active. A worker has started creating your model!\n",
      "2022-07-12T16:12:08.857358Z  Starting Gretel Evaluate\n",
      "2022-07-12T16:12:08.858485Z  Loading data sets for SQS creation...\n",
      "2022-07-12T16:12:08.894894Z  Creating SQS...\n",
      "2022-07-12T16:12:21.104473Z  SQS finished, exporting report artifacts...\n",
      "2022-07-12T16:12:21.496272Z  Evaluate job completed!\n",
      "2022-07-12T16:12:21.497492Z  Uploading artifacts to Gretel Cloud\n"
     ]
    },
    {
     "data": {
      "text/plain": [
       "{'raw_score': 100.0, 'grade': 'Excellent', 'score': 100}"
      ]
     },
     "execution_count": 2,
     "metadata": {},
     "output_type": "execute_result"
    }
   ],
   "source": [
    "# Create Quality Report in CLOUD, using a temporary project\n",
    "\n",
    "cloud_report = QualityReport(data_source=data_source, ref_data=ref_data)\n",
    "cloud_report.run()\n",
    "cloud_report.peek()"
   ]
  },
  {
   "cell_type": "code",
   "execution_count": null,
   "metadata": {},
   "outputs": [],
   "source": [
    "cloud_report.as_dict"
   ]
  },
  {
   "cell_type": "code",
   "execution_count": null,
   "metadata": {},
   "outputs": [],
   "source": [
    "cloud_report.as_html"
   ]
  },
  {
   "cell_type": "code",
   "execution_count": null,
   "metadata": {},
   "outputs": [],
   "source": [
    "# Specify the project name\n",
    "\n",
    "PROJECT = create_or_get_unique_project(name='Gretel-Evaluate')\n",
    "\n",
    "# Create Quality Report LOCALLY, using the specified project\n",
    "\n",
    "local_report = QualityReport(project=PROJECT, data_source=data_source, ref_data=ref_data, runner_mode=RunnerMode.LOCAL, output_dir='report_results')\n",
    "local_report.run()\n",
    "local_report.peek()"
   ]
  },
  {
   "cell_type": "code",
   "execution_count": null,
   "metadata": {},
   "outputs": [],
   "source": [
    "local_report.as_dict"
   ]
  },
  {
   "cell_type": "code",
   "execution_count": null,
   "metadata": {},
   "outputs": [],
   "source": [
    "local_report.as_html"
   ]
  }
 ],
 "metadata": {
  "kernelspec": {
   "display_name": "Python 3.9.10 ('venv': venv)",
   "language": "python",
   "name": "python3"
  },
  "language_info": {
   "codemirror_mode": {
    "name": "ipython",
    "version": 3
   },
   "file_extension": ".py",
   "mimetype": "text/x-python",
   "name": "python",
   "nbconvert_exporter": "python",
   "pygments_lexer": "ipython3",
   "version": "3.9.10"
  },
  "orig_nbformat": 4,
  "vscode": {
   "interpreter": {
    "hash": "4138bb7a676ab64357c4a76fef62fcdb31e668c7d652d4e6cbbcf14d47da3f5f"
   }
  }
 },
 "nbformat": 4,
 "nbformat_minor": 2
}
