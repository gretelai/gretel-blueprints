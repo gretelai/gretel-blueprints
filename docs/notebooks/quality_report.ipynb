{
 "cells": [
  {
   "cell_type": "markdown",
   "metadata": {},
   "source": [
    "## Creating a quality report for two datasets (data_source and ref_data)"
   ]
  },
  {
   "cell_type": "code",
   "execution_count": 1,
   "metadata": {},
   "outputs": [],
   "source": [
    "%%capture\n",
    "!pip install -U gretel-client"
   ]
  },
  {
   "cell_type": "code",
   "execution_count": null,
   "metadata": {},
   "outputs": [],
   "source": [
    "from gretel_client.config import RunnerMode\n",
    "from gretel_client.evaluation.quality_report import QualityReport\n",
    "from gretel_client import configure_session\n",
    "from gretel_client.projects import create_or_get_unique_project\n",
    "\n",
    "# Specify your Gretel API key\n",
    "\n",
    "configure_session(api_key=\"prompt\", cache=\"yes\", validate=True)\n",
    "\n",
    "data_source = \"https://gretel-public-website.s3.us-west-2.amazonaws.com/datasets/USAdultIncome5k.csv\"\n",
    "ref_data = \"https://gretel-public-website.s3.us-west-2.amazonaws.com/datasets/USAdultIncome5k.csv\""
   ]
  },
  {
   "cell_type": "code",
   "execution_count": null,
   "metadata": {},
   "outputs": [],
   "source": [
    "# Create Quality Report in CLOUD, using a temporary project\n",
    "\n",
    "cloud_report = QualityReport(data_source=data_source, ref_data=ref_data)\n",
    "cloud_report.run()\n",
    "cloud_report.peek()"
   ]
  },
  {
   "cell_type": "code",
   "execution_count": null,
   "metadata": {},
   "outputs": [],
   "source": [
    "cloud_report.as_dict"
   ]
  },
  {
   "cell_type": "code",
   "execution_count": null,
   "metadata": {},
   "outputs": [],
   "source": [
    "cloud_report.as_html"
   ]
  },
  {
   "cell_type": "code",
   "execution_count": null,
   "metadata": {},
   "outputs": [],
   "source": [
    "# Specify the project name\n",
    "\n",
    "PROJECT = create_or_get_unique_project(name='Gretel-Evaluate')\n",
    "\n",
    "# Create Quality Report LOCALLY, using the specified project\n",
    "\n",
    "local_report = QualityReport(project=PROJECT, data_source=data_source, ref_data=ref_data, runner_mode=RunnerMode.LOCAL, output_dir='report_results')\n",
    "local_report.run()\n",
    "local_report.peek()"
   ]
  },
  {
   "cell_type": "code",
   "execution_count": null,
   "metadata": {},
   "outputs": [],
   "source": [
    "local_report.as_dict"
   ]
  },
  {
   "cell_type": "code",
   "execution_count": null,
   "metadata": {},
   "outputs": [],
   "source": [
    "local_report.as_html"
   ]
  }
 ],
 "metadata": {
  "kernelspec": {
   "display_name": "Python 3.8.10 64-bit",
   "language": "python",
   "name": "python3"
  },
  "language_info": {
   "codemirror_mode": {
    "name": "ipython",
    "version": 3
   },
   "file_extension": ".py",
   "mimetype": "text/x-python",
   "name": "python",
   "nbconvert_exporter": "python",
   "pygments_lexer": "ipython3",
   "version": "3.8.9"
  },
  "orig_nbformat": 4,
  "vscode": {
   "interpreter": {
    "hash": "31f2aee4e71d21fbe5cf8b01ff0e069b9275f58929596ceb00d14d90e3e16cd6"
   }
  }
 },
 "nbformat": 4,
 "nbformat_minor": 2
}
