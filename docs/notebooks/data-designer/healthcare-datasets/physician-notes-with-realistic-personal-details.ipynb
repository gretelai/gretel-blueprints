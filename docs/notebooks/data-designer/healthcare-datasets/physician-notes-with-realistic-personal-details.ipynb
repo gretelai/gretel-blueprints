{
 "cells": [
  {
   "cell_type": "markdown",
   "id": "a9883b84",
   "metadata": {},
   "source": [
    "<a target=\"_parent\" href=\"https://colab.research.google.com/github/gretelai/gretel-blueprints/blob/main/docs/notebooks/data-designer/healthcare-datasets/physician-notes-with-realistic-personal-details.ipynb\">\n",
    "  <img src=\"https://colab.research.google.com/assets/colab-badge.svg\" alt=\"Open In Colab\"/>\n",
    "</a>"
   ]
  },
  {
   "cell_type": "markdown",
   "metadata": {},
   "source": [
    "# 🧑‍⚕️ Generating Realistic Patient Data & Physician Notes\n",
    "\n",
    "This notebook demonstrates how to use Gretel's Data Designer SDK to generate realistic patient data including physician notes. We'll leverage both structured data generation and LLM capabilities to create a comprehensive medical dataset."
   ]
  },
  {
   "cell_type": "markdown",
   "metadata": {},
   "source": [
    "## 🛠️ Setup and Installation\n",
    "\n",
    "First, let's install the necessary packages:"
   ]
  },
  {
   "cell_type": "code",
   "execution_count": null,
   "metadata": {},
   "outputs": [],
   "source": [
    "%%capture\n",
    "%pip install -U gretel_client datasets"
   ]
  },
  {
   "cell_type": "markdown",
   "metadata": {},
   "source": [
    "## 🔑 Initialize Gretel Client\n",
    "\n",
    "We import the necessary libraries and initialize the Gretel client. The API key is set to \"prompt\" which will prompt you for your API key if needed."
   ]
  },
  {
   "cell_type": "code",
   "execution_count": null,
   "metadata": {},
   "outputs": [],
   "source": [
    "from datasets import load_dataset\n",
    "\n",
    "from gretel_client.navigator_client import Gretel\n",
    "\n",
    "gretel = Gretel(api_key=\"prompt\")"
   ]
  },
  {
   "cell_type": "markdown",
   "metadata": {},
   "source": [
    "## 📊 Loading Seed Data\n",
    "\n",
    "We'll use Gretel's symptom-to-diagnosis dataset as our seed data. This dataset contains patient symptoms and corresponding diagnoses which will help generate realistic medical scenarios."
   ]
  },
  {
   "cell_type": "code",
   "execution_count": null,
   "metadata": {},
   "outputs": [],
   "source": [
    "# Let's use Gretel's symptom-to-diagnosis dataset to seed our workflow.\n",
    "df_seed = load_dataset(\"gretelai/symptom_to_diagnosis\")[\"train\"].to_pandas()\n",
    "df_seed = df_seed.rename(columns={\"output_text\": \"diagnosis\", \"input_text\": \"patient_summary\"})\n",
    "\n",
    "print(f\"Number of records: {len(df_seed)}\")\n",
    "\n",
    "df_seed.head()"
   ]
  },
  {
   "cell_type": "markdown",
   "metadata": {},
   "source": [
    "## 🧩 Data Designer Configuration\n",
    "\n",
    "Let's create a new Data Designer instance and configure it with our seed dataset and person samplers. We'll use person samplers to generate realistic patient and doctor information."
   ]
  },
  {
   "cell_type": "code",
   "execution_count": null,
   "metadata": {},
   "outputs": [],
   "source": [
    "aidd = gretel.data_designer.new(model_suite=\"apache-2.0\")\n",
    "\n",
    "# We use with_replacement=False, so our max num_records is 853.\n",
    "aidd.with_seed_dataset(\n",
    "    df_seed,\n",
    "    sampling_strategy=\"shuffle\", # \"ordered\"\n",
    "    with_replacement=True\n",
    ")\n",
    "\n",
    "# Create a couple random person samplers. For now, the\n",
    "# default locale has been updated to \"en_GB\", since we\n",
    "# do not yet support the PGM in streaming mode.\n",
    "aidd.with_person_samplers({\"patient_sampler\": {}, \"doctor_sampler\": {}})"
   ]
  },
  {
   "cell_type": "markdown",
   "metadata": {},
   "source": [
    "## 🏗️ Defining Data Structure\n",
    "\n",
    "Now we'll define the structure of our dataset by adding columns for patient information, dates, and medical details. We'll use:\n",
    "\n",
    "- `uuid` for patient identification\n",
    "- Patient personal information (`first_name`, `last_name`, `dob`, `patient_email`)\n",
    "- Medical timeline information (`symptom_onset_date`, `date_of_visit`)\n",
    "- Physician information (`physician`)"
   ]
  },
  {
   "cell_type": "code",
   "execution_count": null,
   "metadata": {},
   "outputs": [],
   "source": [
    "aidd.add_column(\n",
    "    name=\"patient_id\",\n",
    "    type=\"uuid\",\n",
    "    params={\"prefix\": \"PT-\", \"short_form\": True, \"uppercase\": True},\n",
    ")\n",
    "\n",
    "aidd.add_column(\n",
    "    name=\"first_name\",\n",
    "    type=\"expression\",\n",
    "    expr=\"{{patient_sampler.first_name}}\"\n",
    ")\n",
    "\n",
    "aidd.add_column(\n",
    "    name=\"last_name\",\n",
    "    type=\"expression\",\n",
    "    expr=\"{{patient_sampler.last_name}}\"\n",
    ")\n",
    "\n",
    "\n",
    "aidd.add_column(\n",
    "    name=\"dob\",\n",
    "    type=\"expression\",\n",
    "    expr=\"{{patient_sampler.birth_date}}\"\n",
    ")\n",
    "\n",
    "\n",
    "aidd.add_column(\n",
    "    name=\"patient_email\",\n",
    "    type=\"expression\",\n",
    "    expr=\"{{patient_sampler.email_address}}\"\n",
    ")\n",
    "\n",
    "\n",
    "aidd.add_column(\n",
    "    name=\"symptom_onset_date\",\n",
    "    type=\"datetime\",\n",
    "    params={\"start\": \"2024-01-01\", \"end\": \"2024-12-31\"},\n",
    ")\n",
    "\n",
    "aidd.add_column(\n",
    "    name=\"date_of_visit\",\n",
    "    type=\"timedelta\",\n",
    "    params={\n",
    "        \"dt_min\": 1,\n",
    "        \"dt_max\": 30,\n",
    "        \"reference_column_name\": \"symptom_onset_date\"\n",
    "    },\n",
    ")\n",
    "\n",
    "aidd.add_column(\n",
    "    name=\"physician\",\n",
    "    type=\"expression\",\n",
    "    expr=\"Dr. {{doctor_sampler.first_name}} {{doctor_sampler.last_name}}\",\n",
    ")"
   ]
  },
  {
   "cell_type": "markdown",
   "metadata": {},
   "source": [
    "### 📝 LLM-Generated Physician Notes\n",
    "\n",
    "The final and most complex column uses an LLM to generate realistic physician notes. We provide:\n",
    "\n",
    "- Context about the patient and their condition\n",
    "- Patient summary from our seed data\n",
    "- Clear formatting instructions\n",
    "\n",
    "This will create detailed medical notes that reflect the patient's diagnosis and visit information. Note how we reference other columns in the prompt using Jinja templating syntax with double curly braces `{{column_name}}`."
   ]
  },
  {
   "cell_type": "code",
   "execution_count": null,
   "metadata": {},
   "outputs": [],
   "source": [
    "# Note we have access to the seed data fields.\n",
    "aidd.add_column(\n",
    "    name=\"physician_notes\",\n",
    "    type=\"llm-text\",\n",
    "    prompt=\"\"\"\\\n",
    "<context>\n",
    "You are a primary-care physician who just had an appointment with {{first_name}} {{last_name}},\n",
    "who has been struggling with symptoms from {{diagnosis}} since {{symptom_onset_date}}.\n",
    "The date of today's visit is {{date_of_visit}}.\n",
    "</context>\n",
    "\n",
    "<patient_summary_of_symptoms>\n",
    "{{patient_summary}}\n",
    "</patient_summary_of_symptoms>\n",
    "\n",
    "<task>\n",
    "Write careful notes about your visit with {{first_name}},\n",
    "as {{physician}}.\n",
    "\n",
    "Format the notes as a busy doctor might.\n",
    "</task>\n",
    "\"\"\"\n",
    " )"
   ]
  },
  {
   "cell_type": "markdown",
   "metadata": {},
   "source": [
    "## 👁️ Previewing the Dataset\n",
    "\n",
    "Let's generate a preview to see how our data looks before creating the full dataset. This helps verify that our configuration is working as expected."
   ]
  },
  {
   "cell_type": "code",
   "execution_count": null,
   "metadata": {},
   "outputs": [],
   "source": [
    "preview = aidd.preview(verbose_logging=True)"
   ]
  },
  {
   "cell_type": "markdown",
   "metadata": {},
   "source": [
    "### 🔍 Examining a Sample Record\n",
    "\n",
    "Let's take a closer look at a single record to inspect the details of our generated data:"
   ]
  },
  {
   "cell_type": "code",
   "execution_count": null,
   "metadata": {},
   "outputs": [],
   "source": [
    "preview.display_sample_record()"
   ]
  },
  {
   "cell_type": "markdown",
   "metadata": {},
   "source": [
    "### 📊 Examining the Complete Dataset\n",
    "\n",
    "Now let's look at the full preview dataset as a DataFrame to see all generated columns:"
   ]
  },
  {
   "cell_type": "code",
   "execution_count": null,
   "metadata": {},
   "outputs": [],
   "source": [
    "# The full dataset includes the seed data as columns.\n",
    "preview.dataset.df"
   ]
  },
  {
   "cell_type": "markdown",
   "metadata": {},
   "source": [
    "## 🚀 Generating the Full Dataset\n",
    "\n",
    "Now that we've verified our configuration works correctly, let's generate a larger dataset with 100 records. We'll wait for the workflow to complete so we can access the data immediately."
   ]
  },
  {
   "cell_type": "code",
   "execution_count": null,
   "metadata": {},
   "outputs": [],
   "source": [
    "workflow_run = aidd.create(\n",
    "    num_records=100,\n",
    "    name=\"physician_notes\"\n",
    ")\n",
    "workflow_run.wait_until_done()"
   ]
  }
 ],
 "metadata": {
  "kernelspec": {
   "display_name": "base_env",
   "language": "python",
   "name": "python3"
  },
  "language_info": {
   "codemirror_mode": {
    "name": "ipython",
    "version": 3
   },
   "file_extension": ".py",
   "mimetype": "text/x-python",
   "name": "python",
   "nbconvert_exporter": "python",
   "pygments_lexer": "ipython3",
   "version": "3.12.9"
  }
 },
 "nbformat": 4,
 "nbformat_minor": 2
}
