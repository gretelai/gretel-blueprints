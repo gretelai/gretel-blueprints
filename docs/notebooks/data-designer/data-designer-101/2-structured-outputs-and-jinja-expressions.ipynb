{
 "cells": [
  {
   "cell_type": "markdown",
   "metadata": {},
   "source": [
    "<a target=\"_parent\" href=\"https://colab.research.google.com/github/gretelai/gretel-blueprints/blob/main/docs/notebooks/data-designer/data-designer-101/2-structured-outputs-and-jinja-expressions.ipynb\">\n",
    "  <img src=\"https://colab.research.google.com/assets/colab-badge.svg\" alt=\"Open In Colab\"/>\n",
    "</a>"
   ]
  },
  {
   "cell_type": "markdown",
   "metadata": {},
   "source": [
    "# 🎨 Data Designer 101: Structured Outputs and Jinja Expressions\n",
    "\n",
    "In this notebook, we will continue our exploration of  `DataDesigner`, demonstrating more advanced data generation using structured outputs and Jinja expressions.\n",
    "\n",
    "\n",
    "If this is your first time using `DataDesigner`, we recommend starting with the [first notebook](https://github.com/gretelai/gretel-blueprints/blob/main/docs/notebooks/data-designer/data-designer-101/1-the-basics.ipynb) in this 101 series.\n",
    "\n",
    "\n",
    "<br>\n",
    "\n",
    "### 💾 Install `gretel-client` and its dependencies"
   ]
  },
  {
   "cell_type": "code",
   "execution_count": null,
   "metadata": {},
   "outputs": [],
   "source": [
    "%%capture\n",
    "%pip install git+https://github.com/gretelai/gretel-python-client"
   ]
  },
  {
   "cell_type": "code",
   "execution_count": null,
   "metadata": {},
   "outputs": [],
   "source": [
    "from gretel_client.navigator_client import Gretel\n",
    "\n",
    "# We import AIDD column and parameter types using this shorthand for convenience.\n",
    "import gretel_client.data_designer.params as P\n",
    "import gretel_client.data_designer.columns as C\n",
    "\n",
    "# The Gretel object is the SDK's main entry point for interacting with Gretel's API.\n",
    "gretel = Gretel(api_key=\"prompt\")"
   ]
  },
  {
   "cell_type": "markdown",
   "metadata": {},
   "source": [
    "## 🧑‍🎨 Designing our data\n",
    "\n",
    "- We will again create a product review dataset, but this time we will use structured outputs and Jinja expressions.\n",
    "\n",
    "- Structured outputs lets you specify the exact schema of the data you want to generate. \n",
    "\n",
    "- `DataDesigner` supports schemas specified using either json schema or Pydantic data models (recommended).\n",
    "\n",
    "<br>\n",
    "\n",
    "We'll define our structured outputs using Pydantic data models:"
   ]
  },
  {
   "cell_type": "code",
   "execution_count": null,
   "metadata": {},
   "outputs": [],
   "source": [
    "from decimal import Decimal\n",
    "from typing import Literal\n",
    "from pydantic import BaseModel, Field\n",
    "\n",
    "# We define a Product schema so that the name, description, and price are generated \n",
    "# in one go, with the types and constraints specified.\n",
    "class Product(BaseModel):\n",
    "    name: str = Field(description=\"The name of the product\")\n",
    "    description: str = Field(description=\"A description of the product\")\n",
    "    price: Decimal = Field(description=\"The price of the product\", ge=10, le=1000, decimal_places=2)\n",
    "\n",
    "class ProductReview(BaseModel):\n",
    "    rating: int = Field(description=\"The rating of the product\", ge=1, le=5)\n",
    "    customer_mood: Literal[\"irritated\", \"mad\", \"happy\", \"neutral\", \"excited\"] = Field(description=\"The mood of the customer\")\n",
    "    review: str = Field(description=\"A review of the product\")"
   ]
  },
  {
   "cell_type": "markdown",
   "metadata": {},
   "source": [
    "Next, let's design our product review dataset using a few more tricks compared to the previous notebook:"
   ]
  },
  {
   "cell_type": "code",
   "execution_count": null,
   "metadata": {},
   "outputs": [],
   "source": [
    "aidd = gretel.data_designer.new(model_suite=\"apache-2.0\")\n",
    "\n",
    "# Since we often just want a few attributes from Person objects, we can use \n",
    "# DataDesigner's `with_person_samplers` method to create multiple person samplers \n",
    "# at once and drop the person object columns from the final dataset.\n",
    "aidd.with_person_samplers({\"customer\": P.PersonSamplerParams(age_range=[18, 65])})\n",
    "\n",
    "aidd.add_column(\n",
    "    C.SamplerColumn(\n",
    "        name=\"product_category\", \n",
    "        type=P.SamplerType.CATEGORY,\n",
    "        params=P.CategorySamplerParams(\n",
    "                values=[\"Electronics\", \"Clothing\", \"Home & Kitchen\", \"Books\", \"Home Office\"], \n",
    "            )\n",
    "    )\n",
    ")\n",
    "\n",
    "aidd.add_column(    \n",
    "    C.SamplerColumn(\n",
    "        name=\"product_subcategory\",\n",
    "        type=P.SamplerType.SUBCATEGORY,\n",
    "        params=P.SubcategorySamplerParams(\n",
    "            category=\"product_category\",  \n",
    "            values={\n",
    "                \"Electronics\": [\"Smartphones\", \"Laptops\", \"Headphones\", \"Cameras\", \"Accessories\"],\n",
    "                \"Clothing\": [\"Men's Clothing\", \"Women's Clothing\", \"Winter Coats\", \"Activewear\", \"Accessories\"],\n",
    "                \"Home & Kitchen\": [\"Appliances\", \"Cookware\", \"Furniture\", \"Decor\", \"Organization\"],\n",
    "                \"Books\": [\"Fiction\", \"Non-Fiction\", \"Self-Help\", \"Textbooks\", \"Classics\"],\n",
    "                \"Home Office\": [\"Desks\", \"Chairs\", \"Storage\", \"Office Supplies\", \"Lighting\"]\n",
    "            }\n",
    "        )\n",
    "    )\n",
    ")\n",
    "\n",
    "aidd.add_column(\n",
    "    C.SamplerColumn(\n",
    "        name=\"target_age_range\",\n",
    "        type=P.SamplerType.CATEGORY,\n",
    "        params=P.CategorySamplerParams(values=[\"18-25\", \"25-35\", \"35-50\", \"50-65\", \"65+\"])\n",
    "    )\n",
    ")\n",
    "\n",
    "aidd.add_column(\n",
    "    C.SamplerColumn(\n",
    "        name=\"review_style\",\n",
    "        type=P.SamplerType.CATEGORY,\n",
    "        params=P.CategorySamplerParams(\n",
    "            values=[\"rambling\", \"brief\", \"detailed\", \"structured with bullet points\"],\n",
    "            weights=[1, 2, 2, 1]\n",
    "        )\n",
    "    )\n",
    ")\n",
    "\n",
    "# We can create new columns using Jinja expressions that reference \n",
    "# existing columns, including attributes of nested objects.\n",
    "aidd.add_column(\n",
    "    C.ExpressionColumn(\n",
    "        name=\"customer_name\",\n",
    "        expr=\"{{ customer.first_name }} {{ customer.last_name }}\"\n",
    "    )\n",
    ")\n",
    "\n",
    "aidd.add_column(\n",
    "    C.ExpressionColumn(\n",
    "        name=\"customer_age\",\n",
    "        expr=\"{{ customer.age }}\"\n",
    "    )\n",
    ")\n",
    "\n",
    "# Add an `LLMStructuredColumn` column to generate structured outputs.\n",
    "aidd.add_column(\n",
    "    C.LLMStructuredColumn(\n",
    "        name=\"product\",\n",
    "        prompt=(\n",
    "            \"Create a product in the '{{ product_category }}' category, focusing on products  \"\n",
    "            \"related to '{{ product_subcategory }}'. The target age range of the ideal customer is \"\n",
    "            \"{{ target_age_range }} years old. The product should be priced between $10 and $1000.\"\n",
    "        ),\n",
    "        output_format=Product\n",
    "    )\n",
    ")\n",
    "\n",
    "aidd.add_column(\n",
    "    C.LLMStructuredColumn(\n",
    "        name=\"customer_review\",\n",
    "        prompt=(\n",
    "            \"Your task is to write a review for the following product:\\n\\n\"\n",
    "            \"Product Name: {{ product.name }}\\n\"\n",
    "            \"Product Description: {{ product.description }}\\n\"\n",
    "            \"Price: {{ product.price }}\\n\\n\"\n",
    "            \"Imagine your name is {{ customer_name }} and you are from {{ customer.city }}, {{ customer.state }}. \"\n",
    "            \"Write the review in a style that is '{{ review_style }}'.\"\n",
    "        ),\n",
    "        output_format=ProductReview\n",
    "    )\n",
    ")\n",
    "\n",
    "# Let's add an evaluation report to our dataset.\n",
    "aidd.with_evaluation_report().validate()"
   ]
  },
  {
   "cell_type": "markdown",
   "metadata": {},
   "source": [
    "## 👀 Preview the dataset\n",
    "\n",
    "- Iteration is key to generating high-quality synthetic data.\n",
    "\n",
    "- Use the `preview` method to generate 10 records for inspection.\n",
    "\n",
    "- Setting `verbose_logging=True` prints logs within each task of the generation process."
   ]
  },
  {
   "cell_type": "code",
   "execution_count": null,
   "metadata": {},
   "outputs": [],
   "source": [
    "preview = aidd.preview(verbose_logging=True)"
   ]
  },
  {
   "cell_type": "code",
   "execution_count": null,
   "metadata": {},
   "outputs": [],
   "source": [
    "# The preview dataset is available as a pandas DataFrame.\n",
    "preview.dataset.df.head()"
   ]
  },
  {
   "cell_type": "code",
   "execution_count": null,
   "metadata": {},
   "outputs": [],
   "source": [
    "# Run this cell multiple times to cycle through the 10 preview records.\n",
    "preview.display_sample_record()"
   ]
  },
  {
   "cell_type": "markdown",
   "metadata": {},
   "source": [
    "## 🆙 Scale up!\n",
    "\n",
    "- Once you are happy with the preview, scale up to a larger dataset by submitting a batch workflow.\n",
    "\n",
    "- Setting `wait_until_done=True` will block until the workflow is complete.\n",
    "\n",
    "- You can view the evaluation report by following the workflow link in the output of `create` below."
   ]
  },
  {
   "cell_type": "code",
   "execution_count": null,
   "metadata": {},
   "outputs": [],
   "source": [
    "# This will take 5-10 minutes to complete.\n",
    "workflow_run = aidd.create(\n",
    "    num_records=100, \n",
    "    name=\"aidd-101-notebook-2-product-reviews\",\n",
    "    wait_until_done=True\n",
    ")"
   ]
  },
  {
   "cell_type": "code",
   "execution_count": null,
   "metadata": {},
   "outputs": [],
   "source": [
    "# The generated dataset is available as a pandas DataFrame.\n",
    "workflow_run.dataset.df.head()"
   ]
  },
  {
   "cell_type": "code",
   "execution_count": 7,
   "metadata": {},
   "outputs": [],
   "source": [
    "# Fetch the evaluation report from the workflow run.\n",
    "report = workflow_run.report\n",
    "\n",
    "# If running in colab:\n",
    "report.display_in_notebook()\n",
    "\n",
    "# If running locally, we recommend displaying in the browser.\n",
    "#report.display_in_browser()"
   ]
  }
 ],
 "metadata": {
  "kernelspec": {
   "display_name": ".venv",
   "language": "python",
   "name": "python3"
  },
  "language_info": {
   "codemirror_mode": {
    "name": "ipython",
    "version": 3
   },
   "file_extension": ".py",
   "mimetype": "text/x-python",
   "name": "python",
   "nbconvert_exporter": "python",
   "pygments_lexer": "ipython3",
   "version": "3.11.9"
  }
 },
 "nbformat": 4,
 "nbformat_minor": 2
}
