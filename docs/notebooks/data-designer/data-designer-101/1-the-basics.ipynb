{
 "cells": [
  {
   "cell_type": "markdown",
   "metadata": {},
   "source": [
    "<a target=\"_parent\" href=\"https://colab.research.google.com/github/gretelai/gretel-blueprints/blob/main/docs/notebooks/data-designer/data-designer-101/1-the-basics.ipynb\">\n",
    "  <img src=\"https://colab.research.google.com/assets/colab-badge.svg\" alt=\"Open In Colab\"/>\n",
    "</a>"
   ]
  },
  {
   "cell_type": "markdown",
   "metadata": {},
   "source": [
    "# 🎨 Data Designer 101: The Basics\n",
    "\n",
    "In this notebook, we will demonstrate the basics of `DataDesigner` by generating a simple product review dataset.\n",
    "\n",
    "<br>\n",
    "\n",
    "### 💾 Install `gretel-client` and its dependencies"
   ]
  },
  {
   "cell_type": "code",
   "execution_count": 1,
   "metadata": {},
   "outputs": [],
   "source": [
    "%%capture\n",
    "%pip install git+https://github.com/gretelai/gretel-python-client"
   ]
  },
  {
   "cell_type": "markdown",
   "metadata": {},
   "source": [
    "## ⚙️ Initialize Data Designer with a Model Suite\n",
    "\n",
    "- `DataDesigner` uses \"Model Suites\" to group LLMs based on the permissiveness of their licenses.\n",
    "\n",
    "- Example Model Suites include \"apache-2.0\" (fully permissive) and \"llama-3.x\" (llama community license agreement)."
   ]
  },
  {
   "cell_type": "code",
   "execution_count": null,
   "metadata": {},
   "outputs": [],
   "source": [
    "from gretel_client.navigator_client import Gretel\n",
    "\n",
    "# We import AIDD column and parameter types using this shorthand for convenience.\n",
    "import gretel_client.data_designer.params as P\n",
    "import gretel_client.data_designer.columns as C\n",
    "\n",
    "# The Gretel object is the SDK's main entry point for interacting with Gretel's API.\n",
    "gretel = Gretel(api_key=\"prompt\")"
   ]
  },
  {
   "cell_type": "code",
   "execution_count": 2,
   "metadata": {},
   "outputs": [],
   "source": [
    "# Initialize a new Data Designer instance using the `data_designer` factory.\n",
    "aidd = gretel.data_designer.new(model_suite=\"apache-2.0\")"
   ]
  },
  {
   "cell_type": "markdown",
   "metadata": {},
   "source": [
    "## 🎲 Getting started with sampler columns\n",
    "\n",
    "\n",
    "- Sampler columns offer non-LLM based generation of synthetic data. \n",
    "\n",
    "- They are particularly useful for **steering the diversity** of the generated data, as we demonstrate below.\n",
    "\n",
    "\n",
    "<br>\n",
    "\n",
    "Let's start designing our product review dataset by adding product category and subcategory columns."
   ]
  },
  {
   "cell_type": "code",
   "execution_count": null,
   "metadata": {},
   "outputs": [],
   "source": [
    "aidd.add_column(\n",
    "    C.SamplerColumn(\n",
    "        name=\"product_category\", \n",
    "        type=P.SamplerType.CATEGORY,\n",
    "        params=P.CategorySamplerParams(\n",
    "            values=[\"Electronics\", \"Clothing\", \"Home & Kitchen\", \"Books\", \"Home Office\"], \n",
    "        )\n",
    "    )\n",
    ")\n",
    "\n",
    "aidd.add_column(\n",
    "    C.SamplerColumn(\n",
    "        name=\"product_subcategory\",\n",
    "        type=P.SamplerType.SUBCATEGORY,\n",
    "        params=P.SubcategorySamplerParams(\n",
    "            category=\"product_category\",  \n",
    "            values={\n",
    "                \"Electronics\": [\"Smartphones\", \"Laptops\", \"Headphones\", \"Cameras\", \"Accessories\"],\n",
    "                \"Clothing\": [\"Men's Clothing\", \"Women's Clothing\", \"Winter Coats\", \"Activewear\", \"Accessories\"],\n",
    "                \"Home & Kitchen\": [\"Appliances\", \"Cookware\", \"Furniture\", \"Decor\", \"Organization\"],\n",
    "                \"Books\": [\"Fiction\", \"Non-Fiction\", \"Self-Help\", \"Textbooks\", \"Classics\"],\n",
    "                \"Home Office\": [\"Desks\", \"Chairs\", \"Storage\", \"Office Supplies\", \"Lighting\"]\n",
    "            }\n",
    "        )\n",
    "    )\n",
    ")\n",
    "\n",
    "aidd.add_column(\n",
    "    C.SamplerColumn(\n",
    "        name=\"target_age_range\",\n",
    "        type=P.SamplerType.CATEGORY,\n",
    "        params=P.CategorySamplerParams(\n",
    "            values=[\"18-25\", \"25-35\", \"35-50\", \"50-65\", \"65+\"]\n",
    "        )\n",
    "    )\n",
    ")\n",
    "\n",
    "# Optionally validate that the columns are configured correctly.\n",
    "aidd.validate()\n"
   ]
  },
  {
   "cell_type": "markdown",
   "metadata": {},
   "source": [
    "Next, let's add samplers to generate data related to the customer and their review."
   ]
  },
  {
   "cell_type": "code",
   "execution_count": null,
   "metadata": {},
   "outputs": [],
   "source": [
    "# This column will sample synthetic person data based on statistics from the US Census.\n",
    "aidd.add_column(\n",
    "    C.SamplerColumn(\n",
    "        name=\"customer\",\n",
    "        type=P.SamplerType.PERSON,\n",
    "        params=P.PersonSamplerParams(age_range=[18, 70])\n",
    "    )\n",
    ")\n",
    "\n",
    "aidd.add_column(\n",
    "    C.SamplerColumn(\n",
    "        name=\"number_of_stars\",\n",
    "        type=P.SamplerType.UNIFORM,\n",
    "        params=P.UniformSamplerParams(low=1, high=5),\n",
    "        convert_to=\"int\"\n",
    "    )\n",
    ")\n",
    "\n",
    "aidd.add_column(\n",
    "    C.SamplerColumn(\n",
    "        name=\"review_style\",\n",
    "        type=P.SamplerType.CATEGORY,\n",
    "        params=P.CategorySamplerParams(\n",
    "            values=[\"rambling\", \"brief\", \"detailed\", \"structured with bullet points\"],\n",
    "            weights=[1, 2, 2, 1]\n",
    "        )\n",
    "    )\n",
    ")\n",
    "\n",
    "aidd.validate()"
   ]
  },
  {
   "cell_type": "markdown",
   "metadata": {},
   "source": [
    "## 🦜 LLM-generated columns\n",
    "\n",
    "- The real power of `DataDesigner` comes from leveraging LLMs to generate text, code, and structured data.\n",
    "\n",
    "- For our product review dataset, we will use LLM-generated text columns to generate product names and customer reviews.\n",
    "\n",
    "- When prompting the LLM, we can use Jinja templating to reference other columns in the dataset.\n",
    "\n",
    "- As we see below, nested json columns can be accessed using dot notation."
   ]
  },
  {
   "cell_type": "code",
   "execution_count": null,
   "metadata": {},
   "outputs": [],
   "source": [
    "aidd.add_column(\n",
    "    C.LLMTextColumn(\n",
    "        name=\"product_name\",\n",
    "        prompt=(\n",
    "            \"Come up with a creative product name for a product in the '{{ product_category }}' category, focusing \"\n",
    "            \"on products related to '{{ product_subcategory }}'. The target age range of the ideal customer is \"\n",
    "            \"{{ target_age_range }} years old. Respond with only the product name, no other text.\"\n",
    "        ),\n",
    "        # This is optional, but it can be useful for controlling the behavior of the LLM. Do not include instructions\n",
    "        # related to output formatting in the system prompt, as AIDD handles this based on the column type.\n",
    "        system_prompt=(\n",
    "            \"You are a helpful assistant that generates product names. You respond with only the product name, \"\n",
    "            \"no other text. You do NOT add quotes around the product name. \"\n",
    "        )\n",
    "    )\n",
    ")\n",
    "\n",
    "aidd.add_column(\n",
    "    C.LLMTextColumn(\n",
    "        name=\"customer_review\",\n",
    "        prompt=(\n",
    "            \"You are a customer named {{ customer.first_name }} from {{ customer.city }}, {{ customer.state }}. \"\n",
    "            \"You are {{ customer.age }} years old and recently purchased a product called {{ product_name }}. \"\n",
    "            \"Write a review of this product, which you gave a rating of {{ number_of_stars }} stars. \"\n",
    "            \"The style of the review should be '{{ review_style }}'. \"\n",
    "        ),\n",
    "    )\n",
    ")\n",
    "\n",
    "aidd.validate()"
   ]
  },
  {
   "cell_type": "markdown",
   "metadata": {},
   "source": [
    "## 👀 Preview the dataset\n",
    "\n",
    "- Iteration is key to generating high-quality synthetic data.\n",
    "\n",
    "- Use the `preview` method to generate 10 records for inspection."
   ]
  },
  {
   "cell_type": "code",
   "execution_count": null,
   "metadata": {},
   "outputs": [],
   "source": [
    "preview = aidd.preview()"
   ]
  },
  {
   "cell_type": "code",
   "execution_count": null,
   "metadata": {},
   "outputs": [],
   "source": [
    "# The preview dataset is available as a pandas DataFrame.\n",
    "preview.dataset.df.head()"
   ]
  },
  {
   "cell_type": "code",
   "execution_count": null,
   "metadata": {},
   "outputs": [],
   "source": [
    "# Run this cell multiple times to cycle through the 10 preview records.\n",
    "preview.display_sample_record()"
   ]
  },
  {
   "cell_type": "markdown",
   "metadata": {},
   "source": [
    "## 🧐 Adding an Evaluation Report        \n",
    "\n",
    "- `DataDesigner` offers an evaluation report for a quick look at the quality of the generated data.\n",
    "\n",
    "- To add a report, which will be generated at the end of a batch workflow simply run the `with_evaluation_report` method."
   ]
  },
  {
   "cell_type": "code",
   "execution_count": null,
   "metadata": {},
   "outputs": [],
   "source": [
    "aidd.with_evaluation_report()"
   ]
  },
  {
   "cell_type": "markdown",
   "metadata": {},
   "source": [
    "## 🆙 Scale up!\n",
    "\n",
    "- Once you are happy with the preview, scale up to a larger dataset by submitting a batch workflow.\n",
    "\n",
    "- You can view the evaluation report by following the workflow link in the output of `create` below.\n",
    "\n",
    "- Click the link to follow along with the generation process."
   ]
  },
  {
   "cell_type": "code",
   "execution_count": null,
   "metadata": {},
   "outputs": [],
   "source": [
    "workflow_run = aidd.create(num_records=100, name=\"aidd-101-notebook-1-product-reviews\")"
   ]
  },
  {
   "cell_type": "markdown",
   "metadata": {},
   "source": [
    "## ⏭️ Next Steps\n",
    "\n",
    "Now that you've seen the basics of `DataDesigner`, check out the following notebooks to learn more about:\n",
    "\n",
    "\n",
    "#### Advanced generation techniques\n",
    "\n",
    "- [Structured outputs and jinja expressions](https://github.com/gretelai/gretel-blueprints/blob/main/docs/notebooks/data-designer/data-designer-101/2-structured-outputs-and-jinja-expressions.ipynb)\n",
    "\n",
    "- [Seeding synthetic data generation with an external dataset](https://github.com/gretelai/gretel-blueprints/blob/main/docs/notebooks/data-designer/data-designer-101/3-seeding-with-a-dataset.ipynb)\n",
    "\n",
    "- [Using Custom Model Configurations](https://github.com/gretelai/gretel-blueprints/blob/main/docs/notebooks/data-designer/data-designer-101/4-custom-model-configs.ipynb)\n",
    "\n",
    "\n",
    "#### Real-world Use Cases\n",
    "\n",
    "- [Text-to-Python](https://github.com/gretelai/gretel-blueprints/blob/main/docs/notebooks/data-designer/text-to-code/text-to-python.ipynb)\n",
    "\n",
    "- [Text-to-SQL](http://github.com/gretelai/gretel-blueprints/blob/main/docs/notebooks/demo/navigator/text-to-code/text-to-sql.ipynb) \n",
    "\n",
    "- [RAG Evaluation](https://github.com/gretelai/gretel-blueprints/blob/main/docs/notebooks/data-designer/rag-examples/generate-rag-evaluation-dataset.ipynb)"
   ]
  },
  {
   "cell_type": "markdown",
   "metadata": {},
   "source": []
  }
 ],
 "metadata": {
  "kernelspec": {
   "display_name": ".venv",
   "language": "python",
   "name": "python3"
  },
  "language_info": {
   "codemirror_mode": {
    "name": "ipython",
    "version": 3
   },
   "file_extension": ".py",
   "mimetype": "text/x-python",
   "name": "python",
   "nbconvert_exporter": "python",
   "pygments_lexer": "ipython3",
   "version": "3.11.9"
  }
 },
 "nbformat": 4,
 "nbformat_minor": 2
}
