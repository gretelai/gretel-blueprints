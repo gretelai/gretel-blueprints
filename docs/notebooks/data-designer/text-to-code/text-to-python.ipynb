{
 "cells": [
  {
   "cell_type": "markdown",
   "metadata": {},
   "source": [
    "<a target=\"_parent\" href=\"https://colab.research.google.com/github/gretelai/gretel-blueprints/blob/main/docs/notebooks/demo/navigator/text-to-code/text-to-python.ipynb\">\n",
    "  <img src=\"https://colab.research.google.com/assets/colab-badge.svg\" alt=\"Open In Colab\"/>\n",
    "</a>"
   ]
  },
  {
   "cell_type": "markdown",
   "id": "99494da9",
   "metadata": {},
   "source": [
    "# 🎨 Data Designer: Text-to-Python\n",
    "\n",
    "This notebook demonstrates how to use the Gretel Navigator SDK to create a synthetic data generation pipeline for Python code examples. We'll build a system that generates Python code based on natural language instructions, with varying complexity levels and industry focuses."
   ]
  },
  {
   "cell_type": "code",
   "execution_count": 33,
   "id": "ac7eaa58",
   "metadata": {},
   "outputs": [],
   "source": [
    "%%capture\n",
    "# # Install the latest version of Gretel client and dependencies\n",
    "%pip install -U git+https://github.com/gretelai/gretel-python-client@main"
   ]
  },
  {
   "cell_type": "code",
   "execution_count": 34,
   "id": "f1d63b20",
   "metadata": {},
   "outputs": [],
   "source": [
    "from gretel_client.navigator_client import Gretel\n",
    "from gretel_client.data_designer import columns as C\n",
    "from gretel_client.data_designer import params as P"
   ]
  },
  {
   "cell_type": "markdown",
   "id": "b649c15a",
   "metadata": {},
   "source": [
    "## 📘 Setting Up the Data Designer\n",
    "\n",
    "First, we'll initialize the Data Designer with appropriate system instructions."
   ]
  },
  {
   "cell_type": "code",
   "execution_count": null,
   "id": "746bb90b",
   "metadata": {},
   "outputs": [],
   "source": [
    "# Initialize Gretel client and Data Designer\n",
    "gretel = Gretel(api_key=\"prompt\", endpoint=\"https://api.dev.gretel.ai\")\n",
    "aidd = gretel.data_designer.new(\n",
    "    model_suite=\"apache-2.0\"  # Use apache-2.0 or llama-3.x based on your licensing needs\n",
    ")"
   ]
  },
  {
   "cell_type": "markdown",
   "id": "9d3a2c17",
   "metadata": {},
   "source": [
    "## 🌱 Define Categorical Seed Columns\n",
    "\n",
    "We'll set up our seed columns for industry sectors, code complexity, and instruction types. These will help generate diverse and relevant code examples."
   ]
  },
  {
   "cell_type": "code",
   "execution_count": null,
   "id": "90fe9784",
   "metadata": {},
   "outputs": [],
   "source": [
    "# Add industry sector categories\n",
    "aidd.add_column(C.SamplerColumn(\n",
    "    name=\"industry_sector\",\n",
    "    type=P.SamplerType.CATEGORY,\n",
    "    params=P.CategorySamplerParams(\n",
    "        values=[\"Healthcare\", \"Finance\", \"Technology\"]\n",
    "    )\n",
    "))\n",
    "\n",
    "# Add topic as a subcategory of industry_sector\n",
    "aidd.add_column(C.SamplerColumn(\n",
    "    name=\"topic\",\n",
    "    type=P.SamplerType.SUBCATEGORY,\n",
    "    params=P.SubcategorySamplerParams(\n",
    "        category=\"industry_sector\",\n",
    "        values={\n",
    "            \"Healthcare\": [\n",
    "                \"Electronic Health Records (EHR) Systems\",\n",
    "                \"Telemedicine Platforms\", \n",
    "                \"AI-Powered Diagnostic Tools\"\n",
    "            ],\n",
    "            \"Finance\": [\n",
    "                \"Fraud Detection Software\",\n",
    "                \"Automated Trading Systems\",\n",
    "                \"Personal Finance Apps\"\n",
    "            ],\n",
    "            \"Technology\": [\n",
    "                \"Cloud Computing Platforms\",\n",
    "                \"Artificial Intelligence and Machine Learning Platforms\",\n",
    "                \"DevOps and CI/CD Tools\"\n",
    "            ]\n",
    "        }\n",
    "    )\n",
    "))\n",
    "\n",
    "# Add code complexity with subcategory for code concepts\n",
    "aidd.add_column(C.SamplerColumn(\n",
    "    name=\"code_complexity\",\n",
    "    type=P.SamplerType.CATEGORY,\n",
    "    params=P.CategorySamplerParams(\n",
    "        values=[\"Beginner\", \"Intermediate\", \"Advanced\"]\n",
    "    )\n",
    "))\n",
    "\n",
    "# Add code_concept as a subcategory of code_complexity\n",
    "aidd.add_column(C.SamplerColumn(\n",
    "    name=\"code_concept\",\n",
    "    type=P.SamplerType.SUBCATEGORY,\n",
    "    params=P.SubcategorySamplerParams(\n",
    "        category=\"code_complexity\",\n",
    "        values={\n",
    "            \"Beginner\": [\n",
    "                \"Variables\",\n",
    "                \"Data Types\",\n",
    "                \"Functions\",\n",
    "                \"Loops\",\n",
    "                \"Classes\"\n",
    "            ],\n",
    "            \"Intermediate\": [\n",
    "                \"List Comprehensions\",\n",
    "                \"Object-oriented programming\",\n",
    "                \"Lambda Functions\",\n",
    "                \"Web frameworks\",\n",
    "                \"Pandas\"\n",
    "            ],\n",
    "            \"Advanced\": [\n",
    "                \"Multithreading\",\n",
    "                \"Context Managers\",\n",
    "                \"Generators\"\n",
    "            ]\n",
    "        }\n",
    "    )\n",
    "))\n",
    "\n",
    "# Add instruction phrases\n",
    "aidd.add_column(C.SamplerColumn(\n",
    "    name=\"instruction_phrase\",\n",
    "    type=P.SamplerType.CATEGORY,\n",
    "    params=P.CategorySamplerParams(\n",
    "        values=[\n",
    "            \"Write a function that\",\n",
    "            \"Create a class that\",\n",
    "            \"Implement a script\",\n",
    "            \"Can you create a function\",\n",
    "            \"Develop a module that\"\n",
    "        ]\n",
    "    )\n",
    "))"
   ]
  },
  {
   "cell_type": "markdown",
   "id": "7e0cd0d7",
   "metadata": {},
   "source": [
    "## ✨ Define Generated Data Columns\n",
    "\n",
    "Now we'll set up the columns that will be generated by the LLMs, including the instruction and code implementation."
   ]
  },
  {
   "cell_type": "code",
   "execution_count": null,
   "id": "e697a637",
   "metadata": {},
   "outputs": [],
   "source": [
    "# Generate instruction for the code\n",
    "aidd.add_column(\n",
    "    C.LLMTextColumn(\n",
    "        name=\"instruction\",\n",
    "        system_prompt=\"You are an expert at generating clear and specific programming tasks.\",\n",
    "        prompt=\"\"\"\\\n",
    "Generate an instruction to create Python code that solves a specific problem. \n",
    "Each instruction should begin with one of the following phrases: {{instruction_phrase}}.\n",
    "\n",
    "Important Guidelines:\n",
    "* Industry Relevance: Ensure the instruction pertains to the {{industry_sector}} sector and {{topic}} topic.\n",
    "* Code Complexity: Tailor the instruction to the {{code_complexity}} level. Utilize relevant {{code_concept}} where appropriate to match the complexity level.\n",
    "* Clarity and Specificity: Make the problem statement clear and unambiguous. Provide sufficient context to understand the requirements without being overly verbose.\n",
    "* Response Formatting: Do not include any markers such as ### Response ### in the instruction.\n",
    "\"\"\"\n",
    "    )\n",
    ")\n",
    "\n",
    "# Generate the Python code\n",
    "aidd.add_column(\n",
    "    C.LLMCodeColumn(\n",
    "        name=\"code_implementation\",\n",
    "        output_format=P.CodeLang.PYTHON,\n",
    "        system_prompt=\"You are an expert Python programmer who writes clean, efficient, and well-documented code.\",\n",
    "        prompt=\"\"\"\\\n",
    "Write Python code for the following instruction:\n",
    "Instruction: {{instruction}}\n",
    "\n",
    "Important Guidelines:\n",
    "* Code Quality: Your code should be clean, complete, self-contained and accurate.\n",
    "* Code Validity: Please ensure that your python code is executable and does not contain any errors.\n",
    "* Packages: Remember to import any necessary libraries, and to use all libraries you import.\n",
    "* Complexity & Concepts: The code should be written at a {{code_complexity}} level, making use of concepts such as {{code_concept}}.\n",
    "\"\"\"\n",
    "    )\n",
    ")"
   ]
  },
  {
   "cell_type": "markdown",
   "id": "936eda48",
   "metadata": {},
   "source": [
    "## 🔍 Add Validation and Evaluation\n",
    "\n",
    "Let's add post-processing steps to validate the generated code and evaluate the text-to-Python conversion."
   ]
  },
  {
   "cell_type": "code",
   "execution_count": null,
   "id": "0cd1a162",
   "metadata": {},
   "outputs": [],
   "source": [
    "# Add validators and evaluators\n",
    "from gretel_client.data_designer.judge_rubrics import TEXT_TO_PYTHON_LLM_JUDGE_PROMPT_TEMPLATE, PYTHON_RUBRICS\n",
    "\n",
    "aidd.add_column(C.CodeValidationColumn(\n",
    "    name=\"code_validity_result\",\n",
    "    code_lang=P.CodeLang.PYTHON,\n",
    "    target_column=\"code_implementation\"\n",
    "))\n",
    "\n",
    "aidd.add_column(C.LLMJudgeColumn(\n",
    "    name=\"code_judge_result\",\n",
    "    prompt=TEXT_TO_PYTHON_LLM_JUDGE_PROMPT_TEMPLATE,\n",
    "    rubrics=PYTHON_RUBRICS\n",
    "))"
   ]
  },
  {
   "cell_type": "markdown",
   "id": "8732267c",
   "metadata": {},
   "source": [
    "## 👀 Generate Preview Dataset\n",
    "\n",
    "Let's generate a preview to see some data."
   ]
  },
  {
   "cell_type": "code",
   "execution_count": null,
   "id": "aded536e",
   "metadata": {},
   "outputs": [],
   "source": [
    "aidd.with_evaluation_report()"
   ]
  },
  {
   "cell_type": "code",
   "execution_count": null,
   "id": "3c222bec",
   "metadata": {},
   "outputs": [],
   "source": [
    "# Generate a preview\n",
    "preview = aidd.preview()"
   ]
  },
  {
   "cell_type": "markdown",
   "id": "913410a0",
   "metadata": {},
   "source": [
    "## 🔎 Easily inspect individual records\n",
    "\n",
    "- Run the cell below to display individual records for inspection.\n",
    "\n",
    "- Run the cell multiple times to cycle through the 10 preview records.\n",
    "\n",
    "- Alternatively, you can pass the `index` argument to `display_sample_record` to display a specific record."
   ]
  },
  {
   "cell_type": "code",
   "execution_count": null,
   "id": "892f6fc5",
   "metadata": {},
   "outputs": [],
   "source": [
    "preview.display_sample_record()"
   ]
  },
  {
   "cell_type": "markdown",
   "id": "3ada3096",
   "metadata": {},
   "source": [
    "## 🚀 Generate Full Dataset\n",
    "\n",
    "If you're satisfied with the preview, you can generate a larger dataset using a batch workflow."
   ]
  },
  {
   "cell_type": "code",
   "execution_count": null,
   "id": "2a064f08",
   "metadata": {},
   "outputs": [],
   "source": [
    "# Submit batch job\n",
    "workflow_run = aidd.create(\n",
    "    num_records=100,\n",
    "    name=\"text_to_python_examples\"\n",
    ")\n",
    "\n",
    "workflow_run.wait_until_done()\n",
    "print(\"\\nGenerated dataset shape:\", workflow_run.dataset.df.shape)"
   ]
  },
  {
   "cell_type": "code",
   "execution_count": null,
   "id": "0694eab3",
   "metadata": {},
   "outputs": [],
   "source": [
    "# Download evaluation report\n",
    "workflow_run.report.download(\"report.html\", format=\"html\")"
   ]
  },
  {
   "cell_type": "code",
   "execution_count": null,
   "id": "d1804c6f",
   "metadata": {},
   "outputs": [],
   "source": []
  }
 ],
 "metadata": {
  "kernelspec": {
   "display_name": "base_env",
   "language": "python",
   "name": "python3"
  },
  "language_info": {
   "codemirror_mode": {
    "name": "ipython",
    "version": 3
   },
   "file_extension": ".py",
   "mimetype": "text/x-python",
   "name": "python",
   "nbconvert_exporter": "python",
   "pygments_lexer": "ipython3",
   "version": "3.12.9"
  }
 },
 "nbformat": 4,
 "nbformat_minor": 5
}
