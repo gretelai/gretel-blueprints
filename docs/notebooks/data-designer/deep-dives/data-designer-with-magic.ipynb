{
  "cells": [
    {
      "cell_type": "markdown",
      "id": "af525ea1",
      "metadata": {
        "id": "af525ea1"
      },
      "source": [
        "<a target=\"_parent\" href=\"https://colab.research.google.com/github/gretelai/gretel-blueprints/blob/main/docs/notebooks/data-designer/getting-started/data-designer-with-magic.ipynb\">\n",
        "  <img src=\"https://colab.research.google.com/assets/colab-badge.svg\" alt=\"Open In Colab\"/>\n",
        "</a>"
      ]
    },
    {
      "cell_type": "markdown",
      "id": "JQaZUdZe85_3",
      "metadata": {
        "id": "JQaZUdZe85_3"
      },
      "source": [
        "# 🎨 Data Designer: Getting Started with Magic\n"
      ]
    },
    {
      "cell_type": "markdown",
      "id": "ryeGPmfkSWdB",
      "metadata": {
        "id": "ryeGPmfkSWdB"
      },
      "source": [
        "In this guide, we'll walk through how to use the SDK to generate rich, diverse datasets — from designing your columns to injecting variability and logic into your data. We recommend reviewing the [Data Designer 101 Tutorial](https://colab.research.google.com/github/gretelai/gretel-blueprints/blob/main/docs/notebooks/data-designer/data-designer-101/1-the-basics.ipynb) as a starting point to understand the basic concepts of Data Designer first.\n",
        "\n",
        "*ℹ️ Note, You will need your Gretel API key handy to complete this notebook. You can find it [on the console](https://console.gretel.ai/users/me/key).*\n",
        "\n",
        "## What is Magic?\n",
        "\n",
        "Magic is a set of LLM-assistance features for the Data Designer SDK. The goal of magic is to make creating diverse and high-quality datasets easier, faster, and more enjoyable. Magic features can be used to help you get started on a new Data Designer configuration or refine existing ones.\n",
        "\n",
        "### Current Magic Features\n",
        "\n",
        "Refer to the table below for information for current experimental features.\n",
        "\n",
        "| Feature | Description |\n",
        "| :-----  | :---------- |\n",
        "| `magic.add_sampling_column` | Generate or update a sampling column configuration based on a text description or edit instruction. |\n",
        "| `magic.extend_category` | Add `n` new value entries to a Category sampling column to increase diversity. |\n",
        "| `magic.add_column` |  Generate or update an LLM generation column configuration based on a text description or edit instruction. |\n",
        "| `magic.refine_prompt` | Vary a prompt template of an LLM generation column while while retaining its objective, or edit a prompt template with an instruction. |\n",
        "\n",
        "## 🧙 Magic vs 🛠 Manual Usage\n",
        "\n",
        "Since Magic features layer _on top_ of the existing Data Designer SDK, these features can be used interchagbly with manual configurations, allowing you to get help where you need it, and stay precise where you don't.\n"
      ]
    },
    {
      "cell_type": "markdown",
      "id": "iZoByOgI9E83",
      "metadata": {
        "id": "iZoByOgI9E83"
      },
      "source": [
        "## Installation and Setup\n",
        "\n",
        "---"
      ]
    },
    {
      "cell_type": "markdown",
      "id": "K7oZpRMjXtcm",
      "metadata": {
        "id": "K7oZpRMjXtcm"
      },
      "source": [
        "### Notebok dependencies"
      ]
    },
    {
      "cell_type": "code",
      "execution_count": 1,
      "id": "D602xPNh8bFV",
      "metadata": {
        "id": "D602xPNh8bFV"
      },
      "outputs": [],
      "source": [
        "%%capture\n",
        "%pip install -U datasets git+https://github.com/gretelai/gretel-python-client@main"
      ]
    },
    {
      "cell_type": "markdown",
      "id": "9zPjMPNEYB9t",
      "metadata": {
        "id": "9zPjMPNEYB9t"
      },
      "source": [
        "### Client Configuration\n",
        "\n",
        "Next, we'll do a one-time login on a client instance, which we can re-use in our examples below. This cell will prompt you for your Gretel API Key, which you can enter into the provided input text area."
      ]
    },
    {
      "cell_type": "code",
      "execution_count": null,
      "id": "ROn9MBSK88ZR",
      "metadata": {
        "colab": {
          "base_uri": "https://localhost:8080/"
        },
        "id": "ROn9MBSK88ZR",
        "outputId": "88b59cfe-0c5d-4fa9-8342-420d02414ef7"
      },
      "outputs": [],
      "source": [
        "from gretel_client.navigator_client import Gretel\n",
        "\n",
        "gretel = Gretel(api_key=\"prompt\")"
      ]
    },
    {
      "cell_type": "markdown",
      "id": "kednFG_u882a",
      "metadata": {
        "id": "kednFG_u882a"
      },
      "source": [
        "# 🌱 Beginner: Kickstart with Magic\n",
        "---\n",
        "\n",
        "Let's first dip our toes into Magic by creating a medical patient dataset. Our objective will be to create a dataset consisting of patients, some vital statistics, and some recent chart notes. If you've started with the [Data Designer 101](https://colab.research.google.com/github/gretelai/gretel-blueprints/blob/main/docs/notebooks/data-designer/data-designer-101/1-the-basics.ipynb) tutorial, then you already know that **samplers** are a critical and necessary step to building diverse datasets.\n",
        "\n",
        "Sometimes, however, we might want to have a little help in getting started -- which column configurations should be used, what tools are available, etc. No sweat! Let's use Magic's `add_sampling_column` to help us get started on this dataset.  \n"
      ]
    },
    {
      "cell_type": "markdown",
      "id": "vS9FFjn3i9rr",
      "metadata": {
        "id": "vS9FFjn3i9rr"
      },
      "source": [
        "## New Sampling Columns with Magic"
      ]
    },
    {
      "cell_type": "code",
      "execution_count": null,
      "id": "a4JuTUJea4G9",
      "metadata": {
        "colab": {
          "base_uri": "https://localhost:8080/",
          "height": 366,
          "referenced_widgets": [
            "715d5ed86d5f4ec99825ce6da72ab33d",
            "5dc75feccfbb44aa8b8f9e5da91d8522"
          ]
        },
        "id": "a4JuTUJea4G9",
        "outputId": "e00f66e3-dd92-4917-dcb9-6247d65c5109"
      },
      "outputs": [],
      "source": [
        "## Create a new, blank data designer object\n",
        "designer = gretel.data_designer.new(model_suite=\"apache-2.0\")\n",
        "\n",
        "## Use Magic to create a new sampling column.\n",
        "designer.magic.add_sampling_column(\"patient\", \"An Ohioan between the ages of 65 and 85.\")"
      ]
    },
    {
      "cell_type": "markdown",
      "id": "pQpzGV4beR4f",
      "metadata": {
        "id": "pQpzGV4beR4f"
      },
      "source": [
        "So, what just happened? Calling `designer.magic.add_sampling_column(...)` added a **new** column, `\"patient\"`, to our dataset configuration! We can see four pieces of information displayed.\n",
        "\n",
        "1. A confirmation of the column requested (`💬 patient`)\n",
        "2. The `SamplerColumn` configuration returned -- which, should indicate both the specified age range `[65, 85]` and state (`'OH'`).\n",
        "3. A confirmation that the `patient` column was added to the Data Designer object.\n",
        "4. Finally, the state of `designer`. Since this is the first column we've added, we can see it simply contains `patient`.\n",
        "\n",
        "If all we wanted to do was to have this single column in our dataset, we could stop here. The `preview` functionality works exactly the same."
      ]
    },
    {
      "cell_type": "code",
      "execution_count": null,
      "id": "D4WhmcpzeQn4",
      "metadata": {
        "colab": {
          "base_uri": "https://localhost:8080/",
          "height": 628
        },
        "id": "D4WhmcpzeQn4",
        "outputId": "856ebe67-08ce-4a79-e040-8acf1f0532fa"
      },
      "outputs": [],
      "source": [
        "preview_output = designer.preview()\n",
        "preview_output.display_sample_record()"
      ]
    },
    {
      "cell_type": "markdown",
      "id": "cyahjMDkfzk5",
      "metadata": {
        "id": "cyahjMDkfzk5"
      },
      "source": [
        "We don't have to stop here, however. We can also edit existing columns using the same function. Let's say we wanted to change the age range, we can do that, too."
      ]
    },
    {
      "cell_type": "code",
      "execution_count": null,
      "id": "NZnABXeAfzFD",
      "metadata": {
        "colab": {
          "base_uri": "https://localhost:8080/",
          "height": 289,
          "referenced_widgets": [
            "67604115fe1e4229bc6e597e60667aad",
            "8b38c42169414800823b304fd6cf4fb1"
          ]
        },
        "id": "NZnABXeAfzFD",
        "outputId": "f8cb4154-5e40-4431-e1f9-041e0ff6474b"
      },
      "outputs": [],
      "source": [
        "## Use Magic to edit the existing patient column.\n",
        "## In this mode, simply give it an instruction on what you'd like to see changed.\n",
        "designer.magic.add_sampling_column(\n",
        "    \"patient\",\n",
        "    \"Actually, add in Floridians and widen the age range to 45 to 85.\"\n",
        ")"
      ]
    },
    {
      "cell_type": "markdown",
      "id": "S2b-oqa8gy1h",
      "metadata": {
        "id": "S2b-oqa8gy1h"
      },
      "source": [
        "And just like that, we can see that we have included `'FL'` in the configuration and have an adjusted age range. Magic remembered the state of the current column and gave a context-aware update based on the command we just gave it.\n",
        "\n",
        "However, sometimes we just needed to get started and know what we want. In that case, we can just specify it directly by copy-pasting the output from the `SamplerColumn` back into `designer` directly. Then, we can make whatever changes we want to in place."
      ]
    },
    {
      "cell_type": "code",
      "execution_count": null,
      "id": "vdpNMdpBgxj7",
      "metadata": {
        "colab": {
          "base_uri": "https://localhost:8080/",
          "height": 99
        },
        "id": "vdpNMdpBgxj7",
        "outputId": "cb897fb3-ea01-4dfd-cce8-2819feb10cf4"
      },
      "outputs": [],
      "source": [
        "## Import the desired column type\n",
        "from gretel_client.data_designer.columns import SamplerColumn\n",
        "\n",
        "## Copy pasting the above Magic-returned config and editing the sex field\n",
        "designer.add_column(\n",
        "    SamplerColumn(\n",
        "      name='patient',\n",
        "      type='person',\n",
        "      params={'locale': 'en_US', 'sex': 'Female', 'city': None, 'age_range': [45, 85], 'state': ['OH', 'FL']},\n",
        "      conditional_params={},\n",
        "      convert_to=None\n",
        "  )\n",
        ")"
      ]
    },
    {
      "cell_type": "markdown",
      "id": "5WH1Aiy9hyKh",
      "metadata": {
        "id": "5WH1Aiy9hyKh"
      },
      "source": [
        "We can see from the state of `designer` that we still only have a single column (`patient`), but it now has the configuration specified above."
      ]
    },
    {
      "cell_type": "code",
      "execution_count": null,
      "id": "GOyeP01Hhxsx",
      "metadata": {
        "colab": {
          "base_uri": "https://localhost:8080/",
          "height": 172
        },
        "id": "GOyeP01Hhxsx",
        "outputId": "a2fda2c8-447e-49b4-a2cb-9648ee92db01"
      },
      "outputs": [],
      "source": [
        "designer.get_column(\"patient\")"
      ]
    },
    {
      "cell_type": "markdown",
      "id": "2E5H6UXpjUkr",
      "metadata": {
        "id": "2E5H6UXpjUkr"
      },
      "source": [
        "But we don't have to stop at `person` samplers; `add_sampling_column(...)` will do its best to infer the most appropriate sampling column type based on your description. Let's add several new columns to our dataset in this way."
      ]
    },
    {
      "cell_type": "code",
      "execution_count": null,
      "id": "vtqPivpZ_TXn",
      "metadata": {
        "cellView": "form",
        "colab": {
          "base_uri": "https://localhost:8080/",
          "height": 1000,
          "referenced_widgets": [
            "619b5b6369b6400d904edf8365d5a0e2",
            "e420dc4297be47088011b32e295cf5f8",
            "aa1bdb4f2f9a4e068182cae2e5f7cf3d",
            "e0475987209845b5bba772cb44aa3c47",
            "fdd964a9ac594311955329b0552ea3b4",
            "b87f1cf57f05428b959d5c91c8964a69",
            "9e161789ef41454ca39e6227edccb973",
            "874fc6e796f04a0fbeb618a0d2539c9a",
            "79f46a6115584f64986cb132220862b3",
            "4877aa509abe4941abc75a555088fb33"
          ]
        },
        "collapsed": true,
        "id": "vtqPivpZ_TXn",
        "outputId": "5b49fe4f-fff0-4762-cc3f-fb3efe2ca2a7"
      },
      "outputs": [],
      "source": [
        "designer.magic.add_sampling_column(\"pid\", \"a patient id number starting with PATIENT\")\n",
        "designer.magic.add_sampling_column(\"date_admitted\", \"Date patient admitted to the hospital, starting from 1995 and ending in 2004.\")\n",
        "designer.magic.add_sampling_column(\"hospital_status\", \"The current status of the patient, e.g. if they are IN_ROOM, ER, or RELEASED\")\n",
        "designer.magic.add_sampling_column(\"heart_rate\", \"Current heart rate, normal ranges\")\n",
        "designer.magic.add_sampling_column(\"lymphocytes\", \"Patient Lymphocyte count, should have a min value on 1500\")"
      ]
    },
    {
      "cell_type": "markdown",
      "id": "Uq4IRcnZlgNA",
      "metadata": {
        "id": "Uq4IRcnZlgNA"
      },
      "source": [
        "And just like that, we have many different axes of variation for our patient records to enhance the diversity of our resulting dataset."
      ]
    },
    {
      "cell_type": "code",
      "execution_count": null,
      "id": "MUw5HRyMlYzK",
      "metadata": {
        "colab": {
          "base_uri": "https://localhost:8080/",
          "height": 788
        },
        "id": "MUw5HRyMlYzK",
        "outputId": "56d668a8-cb20-4d03-8988-3759110f72c0"
      },
      "outputs": [],
      "source": [
        "preview_output = designer.preview()\n",
        "preview_output.display_sample_record()"
      ]
    },
    {
      "cell_type": "markdown",
      "id": "LGagqLZ4mfKv",
      "metadata": {
        "id": "LGagqLZ4mfKv"
      },
      "source": [
        "## Extending Categorical Columns with Magic\n",
        "\n",
        "\n",
        "Sampling from categorical distributions is a common need when designing datasets. Sometimes, you already know every possible value you want to sample from, e.g.\n",
        "\n",
        "```python\n",
        "SamplerColumn(\n",
        "    name=\"stoplight_color\",\n",
        "    type=\"category\",\n",
        "    params={\"values\": [\"red\", \"yellow\", \"green\"]}\n",
        ")\n",
        "```\n",
        "\n",
        "However, when using categories to _increase diversity_, it might be hard to know exactly _what_ values to add to a category. Magic has a specific tool for this called `magic.extend_category`, which can be used to add new entries to an existing category definition.\n",
        "\n",
        "Let's take a look at the `hospital_status` column. What other possible status entries could be added?"
      ]
    },
    {
      "cell_type": "code",
      "execution_count": null,
      "id": "J9azVxIomeKc",
      "metadata": {
        "colab": {
          "base_uri": "https://localhost:8080/",
          "height": 341,
          "referenced_widgets": [
            "dad14bd9e3744bc3b5b444248cdfc4a9",
            "28890d4777694a0481dc1214981a5d6b"
          ]
        },
        "id": "J9azVxIomeKc",
        "outputId": "e04de26a-233b-4cd6-a33e-8db7eaa4e379"
      },
      "outputs": [],
      "source": [
        "designer.add_column(\n",
        "    SamplerColumn(\n",
        "      name='hospital_status',\n",
        "      type='category',\n",
        "      params={'values': ['IN_ROOM', 'ER', 'RELEASED'], 'weights': None},\n",
        "      conditional_params={},\n",
        "      convert_to=None\n",
        "  )\n",
        ")\n",
        "\n",
        "designer.magic.extend_category(\"hospital_status\", n=3)"
      ]
    },
    {
      "cell_type": "markdown",
      "id": "yb5VJbYXn1bY",
      "metadata": {
        "id": "yb5VJbYXn1bY"
      },
      "source": [
        "We can see that a few new values were added to `hospital_status`. Note how these new values are not only \"in distribution\" (i.e. being likely values for this status category), but also match formatting (uppercase, here).\n"
      ]
    },
    {
      "cell_type": "code",
      "execution_count": null,
      "id": "VBm91IWuogQQ",
      "metadata": {
        "colab": {
          "base_uri": "https://localhost:8080/",
          "height": 458,
          "referenced_widgets": [
            "fda10dfd708f4453bff07469596443fe",
            "5c7699fd6a144163832db34f1d814fe7",
            "3d0ddcc389c5467793e920ad6e9a79fd",
            "345f58ead7fc405aa1acb6d4a2d8351f",
            "8adadf2eb43d4439adeb8e92708c461f",
            "54021178b37b46a1bfbfc64f987050b6",
            "3d12c15ca20446e6a13be23598c1188f",
            "5b157e82982448baabd02ded2f50836b"
          ]
        },
        "id": "VBm91IWuogQQ",
        "outputId": "986da07e-5f35-4520-bbb1-c036376e3b0c"
      },
      "outputs": [],
      "source": [
        "designer.add_column(\n",
        "    SamplerColumn(\n",
        "      name='current_hospital_patient_activity',\n",
        "      type='category',\n",
        "      params={'values': ['sleeping', 'doing physical therapy', 'getting bloodwork']},\n",
        "  )\n",
        ")\n",
        "\n",
        "## You can do this several times\n",
        "designer.magic.extend_category(\"current_hospital_patient_activity\", n=10)\n",
        "designer.magic.extend_category(\"current_hospital_patient_activity\", n=10)"
      ]
    },
    {
      "cell_type": "code",
      "execution_count": null,
      "id": "xxNBy_woqHNU",
      "metadata": {
        "colab": {
          "base_uri": "https://localhost:8080/",
          "height": 820
        },
        "id": "xxNBy_woqHNU",
        "outputId": "9a74187c-3b80-4bb3-ee6c-1121908519c0"
      },
      "outputs": [],
      "source": [
        "preview_output = designer.preview()\n",
        "preview_output.display_sample_record()"
      ]
    },
    {
      "cell_type": "markdown",
      "id": "7-NgTXTymTTN",
      "metadata": {
        "id": "7-NgTXTymTTN"
      },
      "source": [
        "# 🪴 Intermediate: Seed Datasets & Prompting\n",
        "\n",
        "---\n",
        "\n",
        "Now that we've gotten a feel for Magic with sampling columns, let's see how we can use Magic to help us with LLM generation columns. Magic has two functions available to us for these kinds of tasks, specifically.\n",
        "\n",
        "1. `magic.add_column(...)` -- for adding or updating an LLM-generated column.\n",
        "2. `magic.refine_prompt(...)` -- for varying or changing an existing prompt template.\n",
        "\n",
        "To get started, let's load a a new data designer object from a pre-existing dataset on HuggingFace🤗. Let's use the [gretelai/symptom_to_diagnosis](https://huggingface.co/datasets/gretelai/symptom_to_diagnosis) synthetic dataset, which consists of patient descriptions of their symptoms and a diagnosis label."
      ]
    },
    {
      "cell_type": "code",
      "execution_count": null,
      "id": "Y2fbkhX-9J4W",
      "metadata": {
        "colab": {
          "base_uri": "https://localhost:8080/",
          "height": 708,
          "referenced_widgets": [
            "c368f8ce835f4532af076d448b4dd360",
            "3ae2caed427745c487285f113a6a2d17",
            "a1df84a7d2484532b1398d246dfc6f19",
            "cd9be170f5f849c6832e62c2c6d95f92",
            "f9d99ed96a3545a180f7bbb5ad2e88d9",
            "bab0a0d123084574b518d6b3d8e3cb3d",
            "e88340693b08466987ad388634327702",
            "40f40eedf62848e1a1cc420937869e00",
            "68ddcb7f42fc40679f0f48abe377d411",
            "18b212ea9166491fa1fc28f699d6977b",
            "b9ac51a62c7a4a1d9775869ae355a1ea",
            "957e9a12882d4ed2942b46eae2b50d7b",
            "7e3f239138aa468a93249c8be4b1d20d",
            "ec87f52cf3594b4e802a7bb6ee543639",
            "dca14c9e8ab74a349c339b618ac1dd89",
            "7b9691de80244b039a5e28b102e940c1",
            "17c21751524649ada9c15d0eb04c0868",
            "77c4269171b44693a44e9aa2e9f31457",
            "a86fdec6618943c2aa1b44c3ec6d5d3b",
            "d4e7b34351264532921cfeaa440c5753",
            "75381a49647c48a99953e8481319eac8",
            "18aeb4ef6f4d429c95620bfc9c730f13",
            "b7fc74ef56674ff386730313513a1851",
            "0d70b931a618445c9bcfe2556987a983",
            "04742631bd154a35be43f82368bac60b",
            "d2f9456612be45f488f77c22b68e7f24",
            "ba75a5c5c09f4524b0c6cc01ab13522e",
            "60aa3eef7ae14d24b7a8c26a192fd6ce",
            "87d2ec15b8ff47428c54c7926f86b665",
            "a58315ba3a9a4bf9a9a645ee1be52dbe",
            "c536afd70ae846debfd5dc2f55972f3e",
            "c2838a58241c42bf93e3e8adc2bb4fd3",
            "4eefa23da2e54552842fba571004e548",
            "0c21ac07d2214e058b395cc47cc281ba",
            "3d01de3aa07045758ca62c64746c2a02",
            "0f704fd21b1a452a9df52b785be513e1",
            "bf12dc51a6654a0f8a50d3044b70b83d",
            "c09e1378180940a3853b9d418fcb0417",
            "ac5fe10b83b542adbe8642122d398c0e",
            "0d5f4c6559bc478b8725e25603a9ef99",
            "4e2e6e121ad5410287e8bef07b1db8a0",
            "6c602354a3ed42eeae0d7ff6453c3085",
            "8e24cf2683c34f6f8c8936d7d5a80de7",
            "94716e00b0194d64b5b5cb32115cdd4a",
            "51d5c9222b4a4fd1b181c617065f7e07",
            "8949f657849a4b2da701d18c0cb4ee8d",
            "1aaff4764c7247809b10288e65ba486a",
            "47aebef841d3430fbea79276a1ba7fe1",
            "ad9257f54f0f498090f94e28f7bddab9",
            "d8ab1c09a15c47cf84fb1449dfb46b9a",
            "7de0118dfe0844e6860677fde0d60557",
            "43addef6478a4cb99b473cb1b45789df",
            "ec8a63ab0823496fb799cf63c05a14a9",
            "aaa91b40ae8842dd970e64f7b3ee548b",
            "ca7bb4f2e140496da46400541725ad21"
          ]
        },
        "id": "Y2fbkhX-9J4W",
        "outputId": "53a04b69-713f-41fc-cf54-37f97d9d37ac"
      },
      "outputs": [],
      "source": [
        "from datasets import load_dataset\n",
        "\n",
        "df_seed = (\n",
        "    load_dataset(\"gretelai/symptom_to_diagnosis\")\n",
        "    [\"train\"]\n",
        "    .to_pandas()\n",
        "    .rename(\n",
        "        columns={\"output_text\": \"diagnosis\", \"input_text\": \"patient_symptoms\"}\n",
        "    )\n",
        ")\n",
        "\n",
        "df_seed"
      ]
    },
    {
      "cell_type": "markdown",
      "id": "BnQ9qZrqsUl4",
      "metadata": {
        "id": "BnQ9qZrqsUl4"
      },
      "source": [
        "Now, to start from this seed dataset, let's create a new data designer object. Below, we specify `with_seed_dataset`, give it the `df_seed` we loaded above, and then tell it to \"shuffle\" rows with replacement. This setting will let us generate an arbitrary amount of data conditioned on `df_seed`."
      ]
    },
    {
      "cell_type": "code",
      "execution_count": null,
      "id": "WSVtl-9C-7je",
      "metadata": {
        "colab": {
          "base_uri": "https://localhost:8080/",
          "height": 134
        },
        "id": "WSVtl-9C-7je",
        "outputId": "3d1bb42a-4ceb-47de-8799-2b28a74d2e34"
      },
      "outputs": [],
      "source": [
        "designer = gretel.data_designer.new(model_suite=\"apache-2.0\")\n",
        "\n",
        "# Create from the seed dataset\n",
        "designer.with_seed_dataset(\n",
        "      df_seed,\n",
        "      sampling_strategy=\"shuffle\",\n",
        "      with_replacement=True,\n",
        ")"
      ]
    },
    {
      "cell_type": "markdown",
      "id": "SgEp9pNEtPCq",
      "metadata": {
        "id": "SgEp9pNEtPCq"
      },
      "source": [
        "We can see from the state of `designer` above that it is aware of `diagnosis` and `patient_symptoms` from the seed dataset. Note that these are listed as `seed_columns` -- these columns are _not_ editable.\n",
        "\n",
        "To get started, let's use magic to add a new LLM generated column for a doctor's notes about the patient."
      ]
    },
    {
      "cell_type": "code",
      "execution_count": null,
      "id": "sfkKlziiuGYu",
      "metadata": {
        "colab": {
          "base_uri": "https://localhost:8080/",
          "height": 544,
          "referenced_widgets": [
            "262a6ac8967e45dcba88ea395114c43b",
            "0a3184e32d034c4ea9fc871ccbad4003"
          ]
        },
        "id": "sfkKlziiuGYu",
        "outputId": "e66644df-8000-4be6-a2f1-0aaba545c600"
      },
      "outputs": [],
      "source": [
        "designer.magic.add_column(\n",
        "    \"doctors_notes\",\n",
        "    \"A bulleted set of notes that a doctor would have written down while listening to the patient.\"\n",
        ")"
      ]
    },
    {
      "cell_type": "markdown",
      "id": "d9k4Pi1Fu5oc",
      "metadata": {
        "id": "d9k4Pi1Fu5oc"
      },
      "source": [
        "That's a lot of information to take in, let's zoom in on the generated prompt template. Since all prompt templates are given as Jinja templates, we'll use `rich` to highlight this for us."
      ]
    },
    {
      "cell_type": "code",
      "execution_count": null,
      "id": "sKXHgEn6u4Q-",
      "metadata": {
        "colab": {
          "base_uri": "https://localhost:8080/",
          "height": 80
        },
        "id": "sKXHgEn6u4Q-",
        "outputId": "c7b8d8e4-b1ce-4663-d8b8-f910744ff395"
      },
      "outputs": [],
      "source": [
        "import rich\n",
        "from rich.panel import Panel\n",
        "from rich.syntax import Syntax\n",
        "\n",
        "rich.print(\n",
        "    Syntax(\n",
        "      designer.get_column(\"doctors_notes\").prompt,\n",
        "      \"jinja\",\n",
        "      word_wrap=True\n",
        "  )\n",
        ")"
      ]
    },
    {
      "cell_type": "markdown",
      "id": "hNNehMGkzsIV",
      "metadata": {
        "id": "hNNehMGkzsIV"
      },
      "source": [
        "We can see from the above Jinja prompt template that `magic.add_column(...)` was able to find and refer to existing columns (`diagnosis` and `patient_symptoms`), and was able to put these into a reasonable prompt template.\n",
        "\n"
      ]
    },
    {
      "cell_type": "markdown",
      "id": "3AL21osA5o_k",
      "metadata": {
        "id": "3AL21osA5o_k"
      },
      "source": [
        "## Refining Prompt Templates with Magic\n",
        "\n",
        "However, in this prompt template, we see that the the `diagnosis` label is given -- to write a realistic set of doctors notes, we want the perspective of the doctor to be that of an _investigator_ -- they don't know the actual diagnosis yet!\n",
        "\n",
        "Let's use `magic.refine_prompt` to make this edit for us."
      ]
    },
    {
      "cell_type": "code",
      "execution_count": null,
      "id": "y7MrRhQmzrGZ",
      "metadata": {
        "colab": {
          "base_uri": "https://localhost:8080/",
          "height": 338,
          "referenced_widgets": [
            "94b82d6cabbb4413a2376675d28253c8",
            "c71f208742f5471c9470c4c56bd1e4ee"
          ]
        },
        "id": "y7MrRhQmzrGZ",
        "outputId": "bf25cc1c-5457-4551-a599-61d77a0dff19"
      },
      "outputs": [],
      "source": [
        "designer.magic.refine_prompt(\n",
        "    \"doctors_notes\",\n",
        "    \"Remove all references to diagnosis. The doctor's notes must be written from the perspective of a doctor attempting to find a diagnosis.\"\n",
        ")\n",
        "\n",
        "rich.print(\n",
        "    Syntax(\n",
        "      designer.get_column(\"doctors_notes\").prompt,\n",
        "      \"jinja\",\n",
        "      word_wrap=True\n",
        "  )\n",
        ")"
      ]
    },
    {
      "cell_type": "markdown",
      "id": "EZJ3z1Na1h-A",
      "metadata": {
        "id": "EZJ3z1Na1h-A"
      },
      "source": [
        "Great! We see that `magic.refine_prompt` was able to edit the starting prompt to be more in line with what we wanted.\n",
        "\n",
        "We can also use `magic.refine_prompt(...)` to _vary_ an existing prompt without changing its meaning. This is useful for rephrasing prompts to get different outputs."
      ]
    },
    {
      "cell_type": "code",
      "execution_count": null,
      "id": "CktZMX4t1gTV",
      "metadata": {
        "colab": {
          "base_uri": "https://localhost:8080/",
          "height": 402,
          "referenced_widgets": [
            "b63e135f5fb04d3a8da292c032d90233",
            "6d31eb3208d54dcba9ac2b359e57377f"
          ]
        },
        "id": "CktZMX4t1gTV",
        "outputId": "1ffd844d-3af3-43ec-98bb-f3c0ab89ca75"
      },
      "outputs": [],
      "source": [
        "original_prompt = designer.get_column(\"doctors_notes\").prompt\n",
        "\n",
        "designer.magic.refine_prompt(\"doctors_notes\")\n",
        "\n",
        "new_prompt = designer.get_column(\"doctors_notes\").prompt\n",
        "\n",
        "## Visualize the differences in the original and varied prompt\n",
        "import difflib\n",
        "\n",
        "diff_str = \"\\n\".join(\n",
        "    difflib.ndiff(\n",
        "        original_prompt.splitlines(),\n",
        "        new_prompt.splitlines()\n",
        "    )\n",
        ")\n",
        "\n",
        "rich.print(\n",
        "    Syntax(diff_str, \"diff\", word_wrap=True)\n",
        ")"
      ]
    },
    {
      "cell_type": "markdown",
      "id": "Dt9fN2Mw5IIK",
      "metadata": {
        "id": "Dt9fN2Mw5IIK"
      },
      "source": [
        "Now, let's visualize what this dataset would look line."
      ]
    },
    {
      "cell_type": "code",
      "execution_count": null,
      "id": "PfltylaYwNP0",
      "metadata": {
        "colab": {
          "base_uri": "https://localhost:8080/",
          "height": 773
        },
        "id": "PfltylaYwNP0",
        "outputId": "bdb638a5-b033-478b-b3de-e727ce6ecdcb"
      },
      "outputs": [],
      "source": [
        "preview_output = designer.preview()\n",
        "preview_output.display_sample_record()"
      ]
    },
    {
      "cell_type": "markdown",
      "id": "hFGqCj-A56YQ",
      "metadata": {
        "id": "hFGqCj-A56YQ"
      },
      "source": [
        "# 🌳 Advanced: Iterating with Magic\n",
        "\n",
        "---\n",
        "\n",
        "Sometimes, what you want to get to for a dataset configuration is a little bit complex, and perhaps you need to see what the outputs of the data generation process might be to help refine column definitions. Both `magic.add_column(...)` and `magic.add_sampling_column(...)` support the kwargs `interactive=` and `preview=` which can be set to `True` to enter \"interactive mode\".\n",
        "\n",
        "Interactive mode is an experimental text-command loop structure that you can use to instruct column configuration settings. This loop accepts the following text commands:\n",
        "\n",
        "- `accept` -- take the current column configuration settings and stop the interactive session.\n",
        "- `cancel` -- stop the interactive session and revert to the state prior to the session.\n",
        "- `start-over` -- revert to the original state prior to the session and try again from the top.\n",
        "- `retry` -- re-run the last instruction to get a different result.\n",
        "- `preview` -- immediately run generation and visualize outputs for this column.\n",
        "- `preview-on` -- Turn on auto-preview with each instruciton and run preview immediately.\n",
        "- `preview-off` -- Turn off auto-preview (only display config).\n",
        "- Anything else -- Interpreted as an instruction command."
      ]
    },
    {
      "cell_type": "code",
      "execution_count": null,
      "id": "--XtCM5m55Uy",
      "metadata": {
        "colab": {
          "base_uri": "https://localhost:8080/",
          "height": 1000,
          "referenced_widgets": [
            "135d2564e6b544769e3786d2e2474a85",
            "22e75171ac5d447aad2595ab0eba2041",
            "3f24d5b3d90e43fa89268615ff64935d",
            "96ed0db99c42492babcef97b623ffc19"
          ]
        },
        "id": "--XtCM5m55Uy",
        "outputId": "00fa9bff-4ca4-471d-bb40-95e006bd30ed"
      },
      "outputs": [],
      "source": [
        "# Set to True if you'd like to test the interactive experience\n",
        "interactive = False\n",
        "designer.magic.add_column(\n",
        "    \"likely_diagnoses\",\n",
        "    \"A structured list of top-3 possible diagnoses\",\n",
        "    must_depend_on=[\"doctors_notes\"],\n",
        "    interactive=interactive,\n",
        "    preview=True\n",
        ")"
      ]
    },
    {
      "cell_type": "markdown",
      "id": "N6RLFqb2Gsn0",
      "metadata": {
        "id": "N6RLFqb2Gsn0"
      },
      "source": [
        "# 🌳 Advanced: Refining Jinja Logic in Prompt Templates\n",
        "\n",
        "---\n",
        "\n",
        "All prompt templates are written with a reduced subset of Jinja, allowing access to basic filters, logic, and flow-control. You can use `magic.refine_prompt` not just for simple reformatting or variations, but also for helping you get desired, conditional prompt templating using Jinja -- or even structured data referencing. All of these are possible by hand, but `magic.refine_prompt` gives ready access to a quick tool for prototyping different Jinja templating approaches.\n",
        "\n",
        "Let's consider a case where we have access to a person object, and we want to vary an LLM generation column based on the data found in that column."
      ]
    },
    {
      "cell_type": "code",
      "execution_count": null,
      "id": "wG-YfhrMGr-S",
      "metadata": {
        "colab": {
          "base_uri": "https://localhost:8080/",
          "height": 254,
          "referenced_widgets": [
            "e36823c0265b45e19fde83b14be04385",
            "9ec23f2022d342fd836b81c9fc4c7a14"
          ]
        },
        "id": "wG-YfhrMGr-S",
        "outputId": "ddba23c9-80ef-4af9-a357-6a55b7caf6d5"
      },
      "outputs": [],
      "source": [
        "from pydantic import BaseModel, Field\n",
        "\n",
        "class Fruit(BaseModel):\n",
        "  name: str\n",
        "  quantity: int\n",
        "  unit_price_local_currency: float\n",
        "  currency: str\n",
        "\n",
        "class FruitstandInventory(BaseModel):\n",
        "  inventory: list[Fruit] = Field(..., min_length=3, max_length=15)\n",
        "\n",
        "designer = gretel.data_designer.new(model_suite=\"apache-2.0\")\n",
        "\n",
        "designer.add_column(\n",
        "    name=\"farmer\",\n",
        "    type=\"person\"\n",
        ")\n",
        "\n",
        "designer.add_column(\n",
        "    name=\"country\",\n",
        "    type=\"category\",\n",
        "    params={\"values\": [\"USA\", \"France\"]}\n",
        ")\n",
        "\n",
        "designer.magic.extend_category(\"country\")\n",
        "\n",
        "designer.add_column(\n",
        "    name=\"fruit_inventory\",\n",
        "    type=\"llm-structured\",\n",
        "    prompt=\"Items available at a side-of-the-road fruitstand in {{ country }}.\",\n",
        "    output_format=FruitstandInventory\n",
        ")\n",
        "\n",
        "designer.add_column(\n",
        "    name=\"farmer_question\",\n",
        "    prompt=\"Ask the farmer a question about the price of apples.\"\n",
        ")"
      ]
    },
    {
      "cell_type": "code",
      "execution_count": null,
      "id": "vrQVR0xmI4md",
      "metadata": {
        "colab": {
          "base_uri": "https://localhost:8080/",
          "height": 528,
          "referenced_widgets": [
            "932101a112ec403ca2b9790b98501291",
            "af0b1d474cfd4ceead85a054210f85cb",
            "6e6e8b9b8cda402cbd776d7300eb051b",
            "ccdaa8ef4f2d4760bbdfda0db791a0ba"
          ]
        },
        "id": "vrQVR0xmI4md",
        "outputId": "411d2070-aad3-42e5-9997-d245960da4b0"
      },
      "outputs": [],
      "source": [
        "import rich\n",
        "from rich.syntax import Syntax\n",
        "\n",
        "designer.magic.refine_prompt(\"farmer_question\", \"Update the prompt to ensure that the farmer is as 'Farmer first_name' -- fill in whatever their first name is.\")\n",
        "designer.magic.refine_prompt(\"farmer_question\", \"Use the Jinja '| random' filter to select a random fruit from one of the available fruits.\", must_depend_on=[\"fruit_inventory\"])\n",
        "\n",
        "\n",
        "rich.print(\n",
        "    Syntax(\n",
        "      designer.get_column(\"farmer_question\").prompt,\n",
        "      \"jinja\",\n",
        "      word_wrap=True\n",
        "  )\n",
        ")"
      ]
    },
    {
      "cell_type": "code",
      "execution_count": null,
      "id": "lyG_QvLGKuPO",
      "metadata": {
        "id": "lyG_QvLGKuPO"
      },
      "outputs": [],
      "source": [
        "preview_output = designer.preview()\n",
        "preview_output.display_sample_record()"
      ]
    },
    {
      "cell_type": "code",
      "execution_count": null,
      "id": "Sc98eOCVi2V1",
      "metadata": {
        "id": "Sc98eOCVi2V1"
      },
      "outputs": [],
      "source": []
    }
  ],
  "metadata": {
    "colab": {
      "provenance": []
    },
    "kernelspec": {
      "display_name": "base_env",
      "language": "python",
      "name": "python3"
    },
    "language_info": {
      "codemirror_mode": {
        "name": "ipython",
        "version": 3
      },
      "file_extension": ".py",
      "mimetype": "text/x-python",
      "name": "python",
      "nbconvert_exporter": "python",
      "pygments_lexer": "ipython3",
      "version": "3.12.9"
    },
    "widgets": {
      "application/vnd.jupyter.widget-state+json": {
        "04742631bd154a35be43f82368bac60b": {
          "model_module": "@jupyter-widgets/controls",
          "model_module_version": "1.5.0",
          "model_name": "FloatProgressModel",
          "state": {
            "_dom_classes": [],
            "_model_module": "@jupyter-widgets/controls",
            "_model_module_version": "1.5.0",
            "_model_name": "FloatProgressModel",
            "_view_count": null,
            "_view_module": "@jupyter-widgets/controls",
            "_view_module_version": "1.5.0",
            "_view_name": "ProgressView",
            "bar_style": "success",
            "description": "",
            "description_tooltip": null,
            "layout": "IPY_MODEL_a58315ba3a9a4bf9a9a645ee1be52dbe",
            "max": 42506,
            "min": 0,
            "orientation": "horizontal",
            "style": "IPY_MODEL_c536afd70ae846debfd5dc2f55972f3e",
            "value": 42506
          }
        },
        "0a3184e32d034c4ea9fc871ccbad4003": {
          "model_module": "@jupyter-widgets/base",
          "model_module_version": "1.2.0",
          "model_name": "LayoutModel",
          "state": {
            "_model_module": "@jupyter-widgets/base",
            "_model_module_version": "1.2.0",
            "_model_name": "LayoutModel",
            "_view_count": null,
            "_view_module": "@jupyter-widgets/base",
            "_view_module_version": "1.2.0",
            "_view_name": "LayoutView",
            "align_content": null,
            "align_items": null,
            "align_self": null,
            "border": null,
            "bottom": null,
            "display": null,
            "flex": null,
            "flex_flow": null,
            "grid_area": null,
            "grid_auto_columns": null,
            "grid_auto_flow": null,
            "grid_auto_rows": null,
            "grid_column": null,
            "grid_gap": null,
            "grid_row": null,
            "grid_template_areas": null,
            "grid_template_columns": null,
            "grid_template_rows": null,
            "height": null,
            "justify_content": null,
            "justify_items": null,
            "left": null,
            "margin": null,
            "max_height": null,
            "max_width": null,
            "min_height": null,
            "min_width": null,
            "object_fit": null,
            "object_position": null,
            "order": null,
            "overflow": null,
            "overflow_x": null,
            "overflow_y": null,
            "padding": null,
            "right": null,
            "top": null,
            "visibility": null,
            "width": null
          }
        },
        "0c21ac07d2214e058b395cc47cc281ba": {
          "model_module": "@jupyter-widgets/controls",
          "model_module_version": "1.5.0",
          "model_name": "HBoxModel",
          "state": {
            "_dom_classes": [],
            "_model_module": "@jupyter-widgets/controls",
            "_model_module_version": "1.5.0",
            "_model_name": "HBoxModel",
            "_view_count": null,
            "_view_module": "@jupyter-widgets/controls",
            "_view_module_version": "1.5.0",
            "_view_name": "HBoxView",
            "box_style": "",
            "children": [
              "IPY_MODEL_3d01de3aa07045758ca62c64746c2a02",
              "IPY_MODEL_0f704fd21b1a452a9df52b785be513e1",
              "IPY_MODEL_bf12dc51a6654a0f8a50d3044b70b83d"
            ],
            "layout": "IPY_MODEL_c09e1378180940a3853b9d418fcb0417"
          }
        },
        "0d5f4c6559bc478b8725e25603a9ef99": {
          "model_module": "@jupyter-widgets/controls",
          "model_module_version": "1.5.0",
          "model_name": "DescriptionStyleModel",
          "state": {
            "_model_module": "@jupyter-widgets/controls",
            "_model_module_version": "1.5.0",
            "_model_name": "DescriptionStyleModel",
            "_view_count": null,
            "_view_module": "@jupyter-widgets/base",
            "_view_module_version": "1.2.0",
            "_view_name": "StyleView",
            "description_width": ""
          }
        },
        "0d70b931a618445c9bcfe2556987a983": {
          "model_module": "@jupyter-widgets/controls",
          "model_module_version": "1.5.0",
          "model_name": "HTMLModel",
          "state": {
            "_dom_classes": [],
            "_model_module": "@jupyter-widgets/controls",
            "_model_module_version": "1.5.0",
            "_model_name": "HTMLModel",
            "_view_count": null,
            "_view_module": "@jupyter-widgets/controls",
            "_view_module_version": "1.5.0",
            "_view_name": "HTMLView",
            "description": "",
            "description_tooltip": null,
            "layout": "IPY_MODEL_60aa3eef7ae14d24b7a8c26a192fd6ce",
            "placeholder": "​",
            "style": "IPY_MODEL_87d2ec15b8ff47428c54c7926f86b665",
            "value": "test.jsonl: 100%"
          }
        },
        "0f704fd21b1a452a9df52b785be513e1": {
          "model_module": "@jupyter-widgets/controls",
          "model_module_version": "1.5.0",
          "model_name": "FloatProgressModel",
          "state": {
            "_dom_classes": [],
            "_model_module": "@jupyter-widgets/controls",
            "_model_module_version": "1.5.0",
            "_model_name": "FloatProgressModel",
            "_view_count": null,
            "_view_module": "@jupyter-widgets/controls",
            "_view_module_version": "1.5.0",
            "_view_name": "ProgressView",
            "bar_style": "success",
            "description": "",
            "description_tooltip": null,
            "layout": "IPY_MODEL_4e2e6e121ad5410287e8bef07b1db8a0",
            "max": 853,
            "min": 0,
            "orientation": "horizontal",
            "style": "IPY_MODEL_6c602354a3ed42eeae0d7ff6453c3085",
            "value": 853
          }
        },
        "135d2564e6b544769e3786d2e2474a85": {
          "model_module": "@jupyter-widgets/output",
          "model_module_version": "1.0.0",
          "model_name": "OutputModel",
          "state": {
            "_dom_classes": [],
            "_model_module": "@jupyter-widgets/output",
            "_model_module_version": "1.0.0",
            "_model_name": "OutputModel",
            "_view_count": null,
            "_view_module": "@jupyter-widgets/output",
            "_view_module_version": "1.0.0",
            "_view_name": "OutputView",
            "layout": "IPY_MODEL_22e75171ac5d447aad2595ab0eba2041",
            "msg_id": "",
            "outputs": [
              {
                "data": {
                  "text/html": "<pre style=\"white-space:pre;overflow-x:auto;line-height:normal;font-family:Menlo,'DejaVu Sans Mono',consolas,'Courier New',monospace\"><span style=\"color: #008000; text-decoration-color: #008000\">㊁</span> Vibing <span style=\"color: #00afff; text-decoration-color: #00afff; font-style: italic\">likely_diagnoses</span> <span style=\"color: #008080; text-decoration-color: #008080\">(💭)</span>\n</pre>\n",
                  "text/plain": "\u001b[32m㊁\u001b[0m Vibing \u001b[3;38;5;39mlikely_diagnoses\u001b[0m \u001b[36m(💭)\u001b[0m\n"
                },
                "metadata": {},
                "output_type": "display_data"
              }
            ]
          }
        },
        "17c21751524649ada9c15d0eb04c0868": {
          "model_module": "@jupyter-widgets/base",
          "model_module_version": "1.2.0",
          "model_name": "LayoutModel",
          "state": {
            "_model_module": "@jupyter-widgets/base",
            "_model_module_version": "1.2.0",
            "_model_name": "LayoutModel",
            "_view_count": null,
            "_view_module": "@jupyter-widgets/base",
            "_view_module_version": "1.2.0",
            "_view_name": "LayoutView",
            "align_content": null,
            "align_items": null,
            "align_self": null,
            "border": null,
            "bottom": null,
            "display": null,
            "flex": null,
            "flex_flow": null,
            "grid_area": null,
            "grid_auto_columns": null,
            "grid_auto_flow": null,
            "grid_auto_rows": null,
            "grid_column": null,
            "grid_gap": null,
            "grid_row": null,
            "grid_template_areas": null,
            "grid_template_columns": null,
            "grid_template_rows": null,
            "height": null,
            "justify_content": null,
            "justify_items": null,
            "left": null,
            "margin": null,
            "max_height": null,
            "max_width": null,
            "min_height": null,
            "min_width": null,
            "object_fit": null,
            "object_position": null,
            "order": null,
            "overflow": null,
            "overflow_x": null,
            "overflow_y": null,
            "padding": null,
            "right": null,
            "top": null,
            "visibility": null,
            "width": null
          }
        },
        "18aeb4ef6f4d429c95620bfc9c730f13": {
          "model_module": "@jupyter-widgets/controls",
          "model_module_version": "1.5.0",
          "model_name": "DescriptionStyleModel",
          "state": {
            "_model_module": "@jupyter-widgets/controls",
            "_model_module_version": "1.5.0",
            "_model_name": "DescriptionStyleModel",
            "_view_count": null,
            "_view_module": "@jupyter-widgets/base",
            "_view_module_version": "1.2.0",
            "_view_name": "StyleView",
            "description_width": ""
          }
        },
        "18b212ea9166491fa1fc28f699d6977b": {
          "model_module": "@jupyter-widgets/base",
          "model_module_version": "1.2.0",
          "model_name": "LayoutModel",
          "state": {
            "_model_module": "@jupyter-widgets/base",
            "_model_module_version": "1.2.0",
            "_model_name": "LayoutModel",
            "_view_count": null,
            "_view_module": "@jupyter-widgets/base",
            "_view_module_version": "1.2.0",
            "_view_name": "LayoutView",
            "align_content": null,
            "align_items": null,
            "align_self": null,
            "border": null,
            "bottom": null,
            "display": null,
            "flex": null,
            "flex_flow": null,
            "grid_area": null,
            "grid_auto_columns": null,
            "grid_auto_flow": null,
            "grid_auto_rows": null,
            "grid_column": null,
            "grid_gap": null,
            "grid_row": null,
            "grid_template_areas": null,
            "grid_template_columns": null,
            "grid_template_rows": null,
            "height": null,
            "justify_content": null,
            "justify_items": null,
            "left": null,
            "margin": null,
            "max_height": null,
            "max_width": null,
            "min_height": null,
            "min_width": null,
            "object_fit": null,
            "object_position": null,
            "order": null,
            "overflow": null,
            "overflow_x": null,
            "overflow_y": null,
            "padding": null,
            "right": null,
            "top": null,
            "visibility": null,
            "width": null
          }
        },
        "1aaff4764c7247809b10288e65ba486a": {
          "model_module": "@jupyter-widgets/controls",
          "model_module_version": "1.5.0",
          "model_name": "FloatProgressModel",
          "state": {
            "_dom_classes": [],
            "_model_module": "@jupyter-widgets/controls",
            "_model_module_version": "1.5.0",
            "_model_name": "FloatProgressModel",
            "_view_count": null,
            "_view_module": "@jupyter-widgets/controls",
            "_view_module_version": "1.5.0",
            "_view_name": "ProgressView",
            "bar_style": "success",
            "description": "",
            "description_tooltip": null,
            "layout": "IPY_MODEL_43addef6478a4cb99b473cb1b45789df",
            "max": 212,
            "min": 0,
            "orientation": "horizontal",
            "style": "IPY_MODEL_ec8a63ab0823496fb799cf63c05a14a9",
            "value": 212
          }
        },
        "22e75171ac5d447aad2595ab0eba2041": {
          "model_module": "@jupyter-widgets/base",
          "model_module_version": "1.2.0",
          "model_name": "LayoutModel",
          "state": {
            "_model_module": "@jupyter-widgets/base",
            "_model_module_version": "1.2.0",
            "_model_name": "LayoutModel",
            "_view_count": null,
            "_view_module": "@jupyter-widgets/base",
            "_view_module_version": "1.2.0",
            "_view_name": "LayoutView",
            "align_content": null,
            "align_items": null,
            "align_self": null,
            "border": null,
            "bottom": null,
            "display": null,
            "flex": null,
            "flex_flow": null,
            "grid_area": null,
            "grid_auto_columns": null,
            "grid_auto_flow": null,
            "grid_auto_rows": null,
            "grid_column": null,
            "grid_gap": null,
            "grid_row": null,
            "grid_template_areas": null,
            "grid_template_columns": null,
            "grid_template_rows": null,
            "height": null,
            "justify_content": null,
            "justify_items": null,
            "left": null,
            "margin": null,
            "max_height": null,
            "max_width": null,
            "min_height": null,
            "min_width": null,
            "object_fit": null,
            "object_position": null,
            "order": null,
            "overflow": null,
            "overflow_x": null,
            "overflow_y": null,
            "padding": null,
            "right": null,
            "top": null,
            "visibility": null,
            "width": null
          }
        },
        "262a6ac8967e45dcba88ea395114c43b": {
          "model_module": "@jupyter-widgets/output",
          "model_module_version": "1.0.0",
          "model_name": "OutputModel",
          "state": {
            "_dom_classes": [],
            "_model_module": "@jupyter-widgets/output",
            "_model_module_version": "1.0.0",
            "_model_name": "OutputModel",
            "_view_count": null,
            "_view_module": "@jupyter-widgets/output",
            "_view_module_version": "1.0.0",
            "_view_name": "OutputView",
            "layout": "IPY_MODEL_0a3184e32d034c4ea9fc871ccbad4003",
            "msg_id": "",
            "outputs": [
              {
                "data": {
                  "text/html": "<pre style=\"white-space:pre;overflow-x:auto;line-height:normal;font-family:Menlo,'DejaVu Sans Mono',consolas,'Courier New',monospace\"><span style=\"color: #008000; text-decoration-color: #008000\">㊁</span> Greteling <span style=\"color: #00afff; text-decoration-color: #00afff; font-style: italic\">doctors_notes</span> <span style=\"color: #008080; text-decoration-color: #008080\">(💭)</span>\n</pre>\n",
                  "text/plain": "\u001b[32m㊁\u001b[0m Greteling \u001b[3;38;5;39mdoctors_notes\u001b[0m \u001b[36m(💭)\u001b[0m\n"
                },
                "metadata": {},
                "output_type": "display_data"
              }
            ]
          }
        },
        "28890d4777694a0481dc1214981a5d6b": {
          "model_module": "@jupyter-widgets/base",
          "model_module_version": "1.2.0",
          "model_name": "LayoutModel",
          "state": {
            "_model_module": "@jupyter-widgets/base",
            "_model_module_version": "1.2.0",
            "_model_name": "LayoutModel",
            "_view_count": null,
            "_view_module": "@jupyter-widgets/base",
            "_view_module_version": "1.2.0",
            "_view_name": "LayoutView",
            "align_content": null,
            "align_items": null,
            "align_self": null,
            "border": null,
            "bottom": null,
            "display": null,
            "flex": null,
            "flex_flow": null,
            "grid_area": null,
            "grid_auto_columns": null,
            "grid_auto_flow": null,
            "grid_auto_rows": null,
            "grid_column": null,
            "grid_gap": null,
            "grid_row": null,
            "grid_template_areas": null,
            "grid_template_columns": null,
            "grid_template_rows": null,
            "height": null,
            "justify_content": null,
            "justify_items": null,
            "left": null,
            "margin": null,
            "max_height": null,
            "max_width": null,
            "min_height": null,
            "min_width": null,
            "object_fit": null,
            "object_position": null,
            "order": null,
            "overflow": null,
            "overflow_x": null,
            "overflow_y": null,
            "padding": null,
            "right": null,
            "top": null,
            "visibility": null,
            "width": null
          }
        },
        "345f58ead7fc405aa1acb6d4a2d8351f": {
          "model_module": "@jupyter-widgets/base",
          "model_module_version": "1.2.0",
          "model_name": "LayoutModel",
          "state": {
            "_model_module": "@jupyter-widgets/base",
            "_model_module_version": "1.2.0",
            "_model_name": "LayoutModel",
            "_view_count": null,
            "_view_module": "@jupyter-widgets/base",
            "_view_module_version": "1.2.0",
            "_view_name": "LayoutView",
            "align_content": null,
            "align_items": null,
            "align_self": null,
            "border": null,
            "bottom": null,
            "display": null,
            "flex": null,
            "flex_flow": null,
            "grid_area": null,
            "grid_auto_columns": null,
            "grid_auto_flow": null,
            "grid_auto_rows": null,
            "grid_column": null,
            "grid_gap": null,
            "grid_row": null,
            "grid_template_areas": null,
            "grid_template_columns": null,
            "grid_template_rows": null,
            "height": null,
            "justify_content": null,
            "justify_items": null,
            "left": null,
            "margin": null,
            "max_height": null,
            "max_width": null,
            "min_height": null,
            "min_width": null,
            "object_fit": null,
            "object_position": null,
            "order": null,
            "overflow": null,
            "overflow_x": null,
            "overflow_y": null,
            "padding": null,
            "right": null,
            "top": null,
            "visibility": null,
            "width": null
          }
        },
        "3ae2caed427745c487285f113a6a2d17": {
          "model_module": "@jupyter-widgets/controls",
          "model_module_version": "1.5.0",
          "model_name": "HTMLModel",
          "state": {
            "_dom_classes": [],
            "_model_module": "@jupyter-widgets/controls",
            "_model_module_version": "1.5.0",
            "_model_name": "HTMLModel",
            "_view_count": null,
            "_view_module": "@jupyter-widgets/controls",
            "_view_module_version": "1.5.0",
            "_view_name": "HTMLView",
            "description": "",
            "description_tooltip": null,
            "layout": "IPY_MODEL_bab0a0d123084574b518d6b3d8e3cb3d",
            "placeholder": "​",
            "style": "IPY_MODEL_e88340693b08466987ad388634327702",
            "value": "README.md: 100%"
          }
        },
        "3d01de3aa07045758ca62c64746c2a02": {
          "model_module": "@jupyter-widgets/controls",
          "model_module_version": "1.5.0",
          "model_name": "HTMLModel",
          "state": {
            "_dom_classes": [],
            "_model_module": "@jupyter-widgets/controls",
            "_model_module_version": "1.5.0",
            "_model_name": "HTMLModel",
            "_view_count": null,
            "_view_module": "@jupyter-widgets/controls",
            "_view_module_version": "1.5.0",
            "_view_name": "HTMLView",
            "description": "",
            "description_tooltip": null,
            "layout": "IPY_MODEL_ac5fe10b83b542adbe8642122d398c0e",
            "placeholder": "​",
            "style": "IPY_MODEL_0d5f4c6559bc478b8725e25603a9ef99",
            "value": "Generating train split: 100%"
          }
        },
        "3d0ddcc389c5467793e920ad6e9a79fd": {
          "model_module": "@jupyter-widgets/output",
          "model_module_version": "1.0.0",
          "model_name": "OutputModel",
          "state": {
            "_dom_classes": [],
            "_model_module": "@jupyter-widgets/output",
            "_model_module_version": "1.0.0",
            "_model_name": "OutputModel",
            "_view_count": null,
            "_view_module": "@jupyter-widgets/output",
            "_view_module_version": "1.0.0",
            "_view_name": "OutputView",
            "layout": "IPY_MODEL_345f58ead7fc405aa1acb6d4a2d8351f",
            "msg_id": "",
            "outputs": [
              {
                "data": {
                  "text/html": "<pre style=\"white-space:pre;overflow-x:auto;line-height:normal;font-family:Menlo,'DejaVu Sans Mono',consolas,'Courier New',monospace\"><span style=\"color: #008000; text-decoration-color: #008000\">㊁</span> Noodling <span style=\"color: #00afff; text-decoration-color: #00afff; font-style: italic\">current_hospital_patient_activity</span> <span style=\"color: #008080; text-decoration-color: #008080\">(🏗️)</span>\n</pre>\n",
                  "text/plain": "\u001b[32m㊁\u001b[0m Noodling \u001b[3;38;5;39mcurrent_hospital_patient_activity\u001b[0m \u001b[36m(🏗️)\u001b[0m\n"
                },
                "metadata": {},
                "output_type": "display_data"
              }
            ]
          }
        },
        "3d12c15ca20446e6a13be23598c1188f": {
          "model_module": "@jupyter-widgets/output",
          "model_module_version": "1.0.0",
          "model_name": "OutputModel",
          "state": {
            "_dom_classes": [],
            "_model_module": "@jupyter-widgets/output",
            "_model_module_version": "1.0.0",
            "_model_name": "OutputModel",
            "_view_count": null,
            "_view_module": "@jupyter-widgets/output",
            "_view_module_version": "1.0.0",
            "_view_name": "OutputView",
            "layout": "IPY_MODEL_5b157e82982448baabd02ded2f50836b",
            "msg_id": "",
            "outputs": [
              {
                "data": {
                  "text/html": "<pre style=\"white-space:pre;overflow-x:auto;line-height:normal;font-family:Menlo,'DejaVu Sans Mono',consolas,'Courier New',monospace\"><span style=\"color: #008000; text-decoration-color: #008000\">㊂</span> Noodling <span style=\"color: #00afff; text-decoration-color: #00afff; font-style: italic\">current_hospital_patient_activity</span> <span style=\"color: #008080; text-decoration-color: #008080\">(🏗️)</span>\n</pre>\n",
                  "text/plain": "\u001b[32m㊂\u001b[0m Noodling \u001b[3;38;5;39mcurrent_hospital_patient_activity\u001b[0m \u001b[36m(🏗️)\u001b[0m\n"
                },
                "metadata": {},
                "output_type": "display_data"
              }
            ]
          }
        },
        "3f24d5b3d90e43fa89268615ff64935d": {
          "model_module": "@jupyter-widgets/output",
          "model_module_version": "1.0.0",
          "model_name": "OutputModel",
          "state": {
            "_dom_classes": [],
            "_model_module": "@jupyter-widgets/output",
            "_model_module_version": "1.0.0",
            "_model_name": "OutputModel",
            "_view_count": null,
            "_view_module": "@jupyter-widgets/output",
            "_view_module_version": "1.0.0",
            "_view_name": "OutputView",
            "layout": "IPY_MODEL_96ed0db99c42492babcef97b623ffc19",
            "msg_id": "",
            "outputs": [
              {
                "data": {
                  "text/html": "<pre style=\"white-space:pre;overflow-x:auto;line-height:normal;font-family:Menlo,'DejaVu Sans Mono',consolas,'Courier New',monospace\"><span style=\"color: #008000; text-decoration-color: #008000\">㊁</span> Magicking samples of <span style=\"color: #00afff; text-decoration-color: #00afff; font-style: italic\">likely_diagnoses</span>...\n</pre>\n",
                  "text/plain": "\u001b[32m㊁\u001b[0m Magicking samples of \u001b[3;38;5;39mlikely_diagnoses\u001b[0m...\n"
                },
                "metadata": {},
                "output_type": "display_data"
              }
            ]
          }
        },
        "40f40eedf62848e1a1cc420937869e00": {
          "model_module": "@jupyter-widgets/base",
          "model_module_version": "1.2.0",
          "model_name": "LayoutModel",
          "state": {
            "_model_module": "@jupyter-widgets/base",
            "_model_module_version": "1.2.0",
            "_model_name": "LayoutModel",
            "_view_count": null,
            "_view_module": "@jupyter-widgets/base",
            "_view_module_version": "1.2.0",
            "_view_name": "LayoutView",
            "align_content": null,
            "align_items": null,
            "align_self": null,
            "border": null,
            "bottom": null,
            "display": null,
            "flex": null,
            "flex_flow": null,
            "grid_area": null,
            "grid_auto_columns": null,
            "grid_auto_flow": null,
            "grid_auto_rows": null,
            "grid_column": null,
            "grid_gap": null,
            "grid_row": null,
            "grid_template_areas": null,
            "grid_template_columns": null,
            "grid_template_rows": null,
            "height": null,
            "justify_content": null,
            "justify_items": null,
            "left": null,
            "margin": null,
            "max_height": null,
            "max_width": null,
            "min_height": null,
            "min_width": null,
            "object_fit": null,
            "object_position": null,
            "order": null,
            "overflow": null,
            "overflow_x": null,
            "overflow_y": null,
            "padding": null,
            "right": null,
            "top": null,
            "visibility": null,
            "width": null
          }
        },
        "43addef6478a4cb99b473cb1b45789df": {
          "model_module": "@jupyter-widgets/base",
          "model_module_version": "1.2.0",
          "model_name": "LayoutModel",
          "state": {
            "_model_module": "@jupyter-widgets/base",
            "_model_module_version": "1.2.0",
            "_model_name": "LayoutModel",
            "_view_count": null,
            "_view_module": "@jupyter-widgets/base",
            "_view_module_version": "1.2.0",
            "_view_name": "LayoutView",
            "align_content": null,
            "align_items": null,
            "align_self": null,
            "border": null,
            "bottom": null,
            "display": null,
            "flex": null,
            "flex_flow": null,
            "grid_area": null,
            "grid_auto_columns": null,
            "grid_auto_flow": null,
            "grid_auto_rows": null,
            "grid_column": null,
            "grid_gap": null,
            "grid_row": null,
            "grid_template_areas": null,
            "grid_template_columns": null,
            "grid_template_rows": null,
            "height": null,
            "justify_content": null,
            "justify_items": null,
            "left": null,
            "margin": null,
            "max_height": null,
            "max_width": null,
            "min_height": null,
            "min_width": null,
            "object_fit": null,
            "object_position": null,
            "order": null,
            "overflow": null,
            "overflow_x": null,
            "overflow_y": null,
            "padding": null,
            "right": null,
            "top": null,
            "visibility": null,
            "width": null
          }
        },
        "47aebef841d3430fbea79276a1ba7fe1": {
          "model_module": "@jupyter-widgets/controls",
          "model_module_version": "1.5.0",
          "model_name": "HTMLModel",
          "state": {
            "_dom_classes": [],
            "_model_module": "@jupyter-widgets/controls",
            "_model_module_version": "1.5.0",
            "_model_name": "HTMLModel",
            "_view_count": null,
            "_view_module": "@jupyter-widgets/controls",
            "_view_module_version": "1.5.0",
            "_view_name": "HTMLView",
            "description": "",
            "description_tooltip": null,
            "layout": "IPY_MODEL_aaa91b40ae8842dd970e64f7b3ee548b",
            "placeholder": "​",
            "style": "IPY_MODEL_ca7bb4f2e140496da46400541725ad21",
            "value": " 212/212 [00:00&lt;00:00, 7990.16 examples/s]"
          }
        },
        "4877aa509abe4941abc75a555088fb33": {
          "model_module": "@jupyter-widgets/base",
          "model_module_version": "1.2.0",
          "model_name": "LayoutModel",
          "state": {
            "_model_module": "@jupyter-widgets/base",
            "_model_module_version": "1.2.0",
            "_model_name": "LayoutModel",
            "_view_count": null,
            "_view_module": "@jupyter-widgets/base",
            "_view_module_version": "1.2.0",
            "_view_name": "LayoutView",
            "align_content": null,
            "align_items": null,
            "align_self": null,
            "border": null,
            "bottom": null,
            "display": null,
            "flex": null,
            "flex_flow": null,
            "grid_area": null,
            "grid_auto_columns": null,
            "grid_auto_flow": null,
            "grid_auto_rows": null,
            "grid_column": null,
            "grid_gap": null,
            "grid_row": null,
            "grid_template_areas": null,
            "grid_template_columns": null,
            "grid_template_rows": null,
            "height": null,
            "justify_content": null,
            "justify_items": null,
            "left": null,
            "margin": null,
            "max_height": null,
            "max_width": null,
            "min_height": null,
            "min_width": null,
            "object_fit": null,
            "object_position": null,
            "order": null,
            "overflow": null,
            "overflow_x": null,
            "overflow_y": null,
            "padding": null,
            "right": null,
            "top": null,
            "visibility": null,
            "width": null
          }
        },
        "4e2e6e121ad5410287e8bef07b1db8a0": {
          "model_module": "@jupyter-widgets/base",
          "model_module_version": "1.2.0",
          "model_name": "LayoutModel",
          "state": {
            "_model_module": "@jupyter-widgets/base",
            "_model_module_version": "1.2.0",
            "_model_name": "LayoutModel",
            "_view_count": null,
            "_view_module": "@jupyter-widgets/base",
            "_view_module_version": "1.2.0",
            "_view_name": "LayoutView",
            "align_content": null,
            "align_items": null,
            "align_self": null,
            "border": null,
            "bottom": null,
            "display": null,
            "flex": null,
            "flex_flow": null,
            "grid_area": null,
            "grid_auto_columns": null,
            "grid_auto_flow": null,
            "grid_auto_rows": null,
            "grid_column": null,
            "grid_gap": null,
            "grid_row": null,
            "grid_template_areas": null,
            "grid_template_columns": null,
            "grid_template_rows": null,
            "height": null,
            "justify_content": null,
            "justify_items": null,
            "left": null,
            "margin": null,
            "max_height": null,
            "max_width": null,
            "min_height": null,
            "min_width": null,
            "object_fit": null,
            "object_position": null,
            "order": null,
            "overflow": null,
            "overflow_x": null,
            "overflow_y": null,
            "padding": null,
            "right": null,
            "top": null,
            "visibility": null,
            "width": null
          }
        },
        "4eefa23da2e54552842fba571004e548": {
          "model_module": "@jupyter-widgets/controls",
          "model_module_version": "1.5.0",
          "model_name": "DescriptionStyleModel",
          "state": {
            "_model_module": "@jupyter-widgets/controls",
            "_model_module_version": "1.5.0",
            "_model_name": "DescriptionStyleModel",
            "_view_count": null,
            "_view_module": "@jupyter-widgets/base",
            "_view_module_version": "1.2.0",
            "_view_name": "StyleView",
            "description_width": ""
          }
        },
        "51d5c9222b4a4fd1b181c617065f7e07": {
          "model_module": "@jupyter-widgets/controls",
          "model_module_version": "1.5.0",
          "model_name": "HBoxModel",
          "state": {
            "_dom_classes": [],
            "_model_module": "@jupyter-widgets/controls",
            "_model_module_version": "1.5.0",
            "_model_name": "HBoxModel",
            "_view_count": null,
            "_view_module": "@jupyter-widgets/controls",
            "_view_module_version": "1.5.0",
            "_view_name": "HBoxView",
            "box_style": "",
            "children": [
              "IPY_MODEL_8949f657849a4b2da701d18c0cb4ee8d",
              "IPY_MODEL_1aaff4764c7247809b10288e65ba486a",
              "IPY_MODEL_47aebef841d3430fbea79276a1ba7fe1"
            ],
            "layout": "IPY_MODEL_ad9257f54f0f498090f94e28f7bddab9"
          }
        },
        "54021178b37b46a1bfbfc64f987050b6": {
          "model_module": "@jupyter-widgets/base",
          "model_module_version": "1.2.0",
          "model_name": "LayoutModel",
          "state": {
            "_model_module": "@jupyter-widgets/base",
            "_model_module_version": "1.2.0",
            "_model_name": "LayoutModel",
            "_view_count": null,
            "_view_module": "@jupyter-widgets/base",
            "_view_module_version": "1.2.0",
            "_view_name": "LayoutView",
            "align_content": null,
            "align_items": null,
            "align_self": null,
            "border": null,
            "bottom": null,
            "display": null,
            "flex": null,
            "flex_flow": null,
            "grid_area": null,
            "grid_auto_columns": null,
            "grid_auto_flow": null,
            "grid_auto_rows": null,
            "grid_column": null,
            "grid_gap": null,
            "grid_row": null,
            "grid_template_areas": null,
            "grid_template_columns": null,
            "grid_template_rows": null,
            "height": null,
            "justify_content": null,
            "justify_items": null,
            "left": null,
            "margin": null,
            "max_height": null,
            "max_width": null,
            "min_height": null,
            "min_width": null,
            "object_fit": null,
            "object_position": null,
            "order": null,
            "overflow": null,
            "overflow_x": null,
            "overflow_y": null,
            "padding": null,
            "right": null,
            "top": null,
            "visibility": null,
            "width": null
          }
        },
        "5b157e82982448baabd02ded2f50836b": {
          "model_module": "@jupyter-widgets/base",
          "model_module_version": "1.2.0",
          "model_name": "LayoutModel",
          "state": {
            "_model_module": "@jupyter-widgets/base",
            "_model_module_version": "1.2.0",
            "_model_name": "LayoutModel",
            "_view_count": null,
            "_view_module": "@jupyter-widgets/base",
            "_view_module_version": "1.2.0",
            "_view_name": "LayoutView",
            "align_content": null,
            "align_items": null,
            "align_self": null,
            "border": null,
            "bottom": null,
            "display": null,
            "flex": null,
            "flex_flow": null,
            "grid_area": null,
            "grid_auto_columns": null,
            "grid_auto_flow": null,
            "grid_auto_rows": null,
            "grid_column": null,
            "grid_gap": null,
            "grid_row": null,
            "grid_template_areas": null,
            "grid_template_columns": null,
            "grid_template_rows": null,
            "height": null,
            "justify_content": null,
            "justify_items": null,
            "left": null,
            "margin": null,
            "max_height": null,
            "max_width": null,
            "min_height": null,
            "min_width": null,
            "object_fit": null,
            "object_position": null,
            "order": null,
            "overflow": null,
            "overflow_x": null,
            "overflow_y": null,
            "padding": null,
            "right": null,
            "top": null,
            "visibility": null,
            "width": null
          }
        },
        "5c7699fd6a144163832db34f1d814fe7": {
          "model_module": "@jupyter-widgets/base",
          "model_module_version": "1.2.0",
          "model_name": "LayoutModel",
          "state": {
            "_model_module": "@jupyter-widgets/base",
            "_model_module_version": "1.2.0",
            "_model_name": "LayoutModel",
            "_view_count": null,
            "_view_module": "@jupyter-widgets/base",
            "_view_module_version": "1.2.0",
            "_view_name": "LayoutView",
            "align_content": null,
            "align_items": null,
            "align_self": null,
            "border": null,
            "bottom": null,
            "display": null,
            "flex": null,
            "flex_flow": null,
            "grid_area": null,
            "grid_auto_columns": null,
            "grid_auto_flow": null,
            "grid_auto_rows": null,
            "grid_column": null,
            "grid_gap": null,
            "grid_row": null,
            "grid_template_areas": null,
            "grid_template_columns": null,
            "grid_template_rows": null,
            "height": null,
            "justify_content": null,
            "justify_items": null,
            "left": null,
            "margin": null,
            "max_height": null,
            "max_width": null,
            "min_height": null,
            "min_width": null,
            "object_fit": null,
            "object_position": null,
            "order": null,
            "overflow": null,
            "overflow_x": null,
            "overflow_y": null,
            "padding": null,
            "right": null,
            "top": null,
            "visibility": null,
            "width": null
          }
        },
        "5dc75feccfbb44aa8b8f9e5da91d8522": {
          "model_module": "@jupyter-widgets/base",
          "model_module_version": "1.2.0",
          "model_name": "LayoutModel",
          "state": {
            "_model_module": "@jupyter-widgets/base",
            "_model_module_version": "1.2.0",
            "_model_name": "LayoutModel",
            "_view_count": null,
            "_view_module": "@jupyter-widgets/base",
            "_view_module_version": "1.2.0",
            "_view_name": "LayoutView",
            "align_content": null,
            "align_items": null,
            "align_self": null,
            "border": null,
            "bottom": null,
            "display": null,
            "flex": null,
            "flex_flow": null,
            "grid_area": null,
            "grid_auto_columns": null,
            "grid_auto_flow": null,
            "grid_auto_rows": null,
            "grid_column": null,
            "grid_gap": null,
            "grid_row": null,
            "grid_template_areas": null,
            "grid_template_columns": null,
            "grid_template_rows": null,
            "height": null,
            "justify_content": null,
            "justify_items": null,
            "left": null,
            "margin": null,
            "max_height": null,
            "max_width": null,
            "min_height": null,
            "min_width": null,
            "object_fit": null,
            "object_position": null,
            "order": null,
            "overflow": null,
            "overflow_x": null,
            "overflow_y": null,
            "padding": null,
            "right": null,
            "top": null,
            "visibility": null,
            "width": null
          }
        },
        "60aa3eef7ae14d24b7a8c26a192fd6ce": {
          "model_module": "@jupyter-widgets/base",
          "model_module_version": "1.2.0",
          "model_name": "LayoutModel",
          "state": {
            "_model_module": "@jupyter-widgets/base",
            "_model_module_version": "1.2.0",
            "_model_name": "LayoutModel",
            "_view_count": null,
            "_view_module": "@jupyter-widgets/base",
            "_view_module_version": "1.2.0",
            "_view_name": "LayoutView",
            "align_content": null,
            "align_items": null,
            "align_self": null,
            "border": null,
            "bottom": null,
            "display": null,
            "flex": null,
            "flex_flow": null,
            "grid_area": null,
            "grid_auto_columns": null,
            "grid_auto_flow": null,
            "grid_auto_rows": null,
            "grid_column": null,
            "grid_gap": null,
            "grid_row": null,
            "grid_template_areas": null,
            "grid_template_columns": null,
            "grid_template_rows": null,
            "height": null,
            "justify_content": null,
            "justify_items": null,
            "left": null,
            "margin": null,
            "max_height": null,
            "max_width": null,
            "min_height": null,
            "min_width": null,
            "object_fit": null,
            "object_position": null,
            "order": null,
            "overflow": null,
            "overflow_x": null,
            "overflow_y": null,
            "padding": null,
            "right": null,
            "top": null,
            "visibility": null,
            "width": null
          }
        },
        "619b5b6369b6400d904edf8365d5a0e2": {
          "model_module": "@jupyter-widgets/output",
          "model_module_version": "1.0.0",
          "model_name": "OutputModel",
          "state": {
            "_dom_classes": [],
            "_model_module": "@jupyter-widgets/output",
            "_model_module_version": "1.0.0",
            "_model_name": "OutputModel",
            "_view_count": null,
            "_view_module": "@jupyter-widgets/output",
            "_view_module_version": "1.0.0",
            "_view_name": "OutputView",
            "layout": "IPY_MODEL_e420dc4297be47088011b32e295cf5f8",
            "msg_id": "",
            "outputs": [
              {
                "data": {
                  "text/html": "<pre style=\"white-space:pre;overflow-x:auto;line-height:normal;font-family:Menlo,'DejaVu Sans Mono',consolas,'Courier New',monospace\"><span style=\"color: #008000; text-decoration-color: #008000\">㊀</span> Greteling <span style=\"color: #00afff; text-decoration-color: #00afff; font-style: italic\">pid</span> <span style=\"color: #008080; text-decoration-color: #008080\">(🏗️)</span>\n</pre>\n",
                  "text/plain": "\u001b[32m㊀\u001b[0m Greteling \u001b[3;38;5;39mpid\u001b[0m \u001b[36m(🏗️)\u001b[0m\n"
                },
                "metadata": {},
                "output_type": "display_data"
              }
            ]
          }
        },
        "67604115fe1e4229bc6e597e60667aad": {
          "model_module": "@jupyter-widgets/output",
          "model_module_version": "1.0.0",
          "model_name": "OutputModel",
          "state": {
            "_dom_classes": [],
            "_model_module": "@jupyter-widgets/output",
            "_model_module_version": "1.0.0",
            "_model_name": "OutputModel",
            "_view_count": null,
            "_view_module": "@jupyter-widgets/output",
            "_view_module_version": "1.0.0",
            "_view_name": "OutputView",
            "layout": "IPY_MODEL_8b38c42169414800823b304fd6cf4fb1",
            "msg_id": "",
            "outputs": [
              {
                "data": {
                  "text/html": "<pre style=\"white-space:pre;overflow-x:auto;line-height:normal;font-family:Menlo,'DejaVu Sans Mono',consolas,'Courier New',monospace\"><span style=\"color: #008000; text-decoration-color: #008000\">㊂</span> Vibing <span style=\"color: #00afff; text-decoration-color: #00afff; font-style: italic\">patient</span> <span style=\"color: #008080; text-decoration-color: #008080\">(🏗️)</span>\n</pre>\n",
                  "text/plain": "\u001b[32m㊂\u001b[0m Vibing \u001b[3;38;5;39mpatient\u001b[0m \u001b[36m(🏗️)\u001b[0m\n"
                },
                "metadata": {},
                "output_type": "display_data"
              }
            ]
          }
        },
        "68ddcb7f42fc40679f0f48abe377d411": {
          "model_module": "@jupyter-widgets/controls",
          "model_module_version": "1.5.0",
          "model_name": "ProgressStyleModel",
          "state": {
            "_model_module": "@jupyter-widgets/controls",
            "_model_module_version": "1.5.0",
            "_model_name": "ProgressStyleModel",
            "_view_count": null,
            "_view_module": "@jupyter-widgets/base",
            "_view_module_version": "1.2.0",
            "_view_name": "StyleView",
            "bar_color": null,
            "description_width": ""
          }
        },
        "6c602354a3ed42eeae0d7ff6453c3085": {
          "model_module": "@jupyter-widgets/controls",
          "model_module_version": "1.5.0",
          "model_name": "ProgressStyleModel",
          "state": {
            "_model_module": "@jupyter-widgets/controls",
            "_model_module_version": "1.5.0",
            "_model_name": "ProgressStyleModel",
            "_view_count": null,
            "_view_module": "@jupyter-widgets/base",
            "_view_module_version": "1.2.0",
            "_view_name": "StyleView",
            "bar_color": null,
            "description_width": ""
          }
        },
        "6d31eb3208d54dcba9ac2b359e57377f": {
          "model_module": "@jupyter-widgets/base",
          "model_module_version": "1.2.0",
          "model_name": "LayoutModel",
          "state": {
            "_model_module": "@jupyter-widgets/base",
            "_model_module_version": "1.2.0",
            "_model_name": "LayoutModel",
            "_view_count": null,
            "_view_module": "@jupyter-widgets/base",
            "_view_module_version": "1.2.0",
            "_view_name": "LayoutView",
            "align_content": null,
            "align_items": null,
            "align_self": null,
            "border": null,
            "bottom": null,
            "display": null,
            "flex": null,
            "flex_flow": null,
            "grid_area": null,
            "grid_auto_columns": null,
            "grid_auto_flow": null,
            "grid_auto_rows": null,
            "grid_column": null,
            "grid_gap": null,
            "grid_row": null,
            "grid_template_areas": null,
            "grid_template_columns": null,
            "grid_template_rows": null,
            "height": null,
            "justify_content": null,
            "justify_items": null,
            "left": null,
            "margin": null,
            "max_height": null,
            "max_width": null,
            "min_height": null,
            "min_width": null,
            "object_fit": null,
            "object_position": null,
            "order": null,
            "overflow": null,
            "overflow_x": null,
            "overflow_y": null,
            "padding": null,
            "right": null,
            "top": null,
            "visibility": null,
            "width": null
          }
        },
        "6e6e8b9b8cda402cbd776d7300eb051b": {
          "model_module": "@jupyter-widgets/output",
          "model_module_version": "1.0.0",
          "model_name": "OutputModel",
          "state": {
            "_dom_classes": [],
            "_model_module": "@jupyter-widgets/output",
            "_model_module_version": "1.0.0",
            "_model_name": "OutputModel",
            "_view_count": null,
            "_view_module": "@jupyter-widgets/output",
            "_view_module_version": "1.0.0",
            "_view_name": "OutputView",
            "layout": "IPY_MODEL_ccdaa8ef4f2d4760bbdfda0db791a0ba",
            "msg_id": "",
            "outputs": [
              {
                "data": {
                  "text/html": "<pre style=\"white-space:pre;overflow-x:auto;line-height:normal;font-family:Menlo,'DejaVu Sans Mono',consolas,'Courier New',monospace\"><span style=\"color: #008000; text-decoration-color: #008000\">㊁</span> Noodling <span style=\"color: #00afff; text-decoration-color: #00afff; font-style: italic\">farmer_question</span> <span style=\"color: #008080; text-decoration-color: #008080\">(💭)</span>\n</pre>\n",
                  "text/plain": "\u001b[32m㊁\u001b[0m Noodling \u001b[3;38;5;39mfarmer_question\u001b[0m \u001b[36m(💭)\u001b[0m\n"
                },
                "metadata": {},
                "output_type": "display_data"
              }
            ]
          }
        },
        "715d5ed86d5f4ec99825ce6da72ab33d": {
          "model_module": "@jupyter-widgets/output",
          "model_module_version": "1.0.0",
          "model_name": "OutputModel",
          "state": {
            "_dom_classes": [],
            "_model_module": "@jupyter-widgets/output",
            "_model_module_version": "1.0.0",
            "_model_name": "OutputModel",
            "_view_count": null,
            "_view_module": "@jupyter-widgets/output",
            "_view_module_version": "1.0.0",
            "_view_name": "OutputView",
            "layout": "IPY_MODEL_5dc75feccfbb44aa8b8f9e5da91d8522",
            "msg_id": "",
            "outputs": [
              {
                "data": {
                  "text/html": "<pre style=\"white-space:pre;overflow-x:auto;line-height:normal;font-family:Menlo,'DejaVu Sans Mono',consolas,'Courier New',monospace\"><span style=\"color: #008000; text-decoration-color: #008000\">㊂</span> Magicking <span style=\"color: #00afff; text-decoration-color: #00afff; font-style: italic\">patient</span> <span style=\"color: #008080; text-decoration-color: #008080\">(🏗️)</span>\n</pre>\n",
                  "text/plain": "\u001b[32m㊂\u001b[0m Magicking \u001b[3;38;5;39mpatient\u001b[0m \u001b[36m(🏗️)\u001b[0m\n"
                },
                "metadata": {},
                "output_type": "display_data"
              }
            ]
          }
        },
        "75381a49647c48a99953e8481319eac8": {
          "model_module": "@jupyter-widgets/base",
          "model_module_version": "1.2.0",
          "model_name": "LayoutModel",
          "state": {
            "_model_module": "@jupyter-widgets/base",
            "_model_module_version": "1.2.0",
            "_model_name": "LayoutModel",
            "_view_count": null,
            "_view_module": "@jupyter-widgets/base",
            "_view_module_version": "1.2.0",
            "_view_name": "LayoutView",
            "align_content": null,
            "align_items": null,
            "align_self": null,
            "border": null,
            "bottom": null,
            "display": null,
            "flex": null,
            "flex_flow": null,
            "grid_area": null,
            "grid_auto_columns": null,
            "grid_auto_flow": null,
            "grid_auto_rows": null,
            "grid_column": null,
            "grid_gap": null,
            "grid_row": null,
            "grid_template_areas": null,
            "grid_template_columns": null,
            "grid_template_rows": null,
            "height": null,
            "justify_content": null,
            "justify_items": null,
            "left": null,
            "margin": null,
            "max_height": null,
            "max_width": null,
            "min_height": null,
            "min_width": null,
            "object_fit": null,
            "object_position": null,
            "order": null,
            "overflow": null,
            "overflow_x": null,
            "overflow_y": null,
            "padding": null,
            "right": null,
            "top": null,
            "visibility": null,
            "width": null
          }
        },
        "77c4269171b44693a44e9aa2e9f31457": {
          "model_module": "@jupyter-widgets/controls",
          "model_module_version": "1.5.0",
          "model_name": "DescriptionStyleModel",
          "state": {
            "_model_module": "@jupyter-widgets/controls",
            "_model_module_version": "1.5.0",
            "_model_name": "DescriptionStyleModel",
            "_view_count": null,
            "_view_module": "@jupyter-widgets/base",
            "_view_module_version": "1.2.0",
            "_view_name": "StyleView",
            "description_width": ""
          }
        },
        "79f46a6115584f64986cb132220862b3": {
          "model_module": "@jupyter-widgets/output",
          "model_module_version": "1.0.0",
          "model_name": "OutputModel",
          "state": {
            "_dom_classes": [],
            "_model_module": "@jupyter-widgets/output",
            "_model_module_version": "1.0.0",
            "_model_name": "OutputModel",
            "_view_count": null,
            "_view_module": "@jupyter-widgets/output",
            "_view_module_version": "1.0.0",
            "_view_name": "OutputView",
            "layout": "IPY_MODEL_4877aa509abe4941abc75a555088fb33",
            "msg_id": "",
            "outputs": [
              {
                "data": {
                  "text/html": "<pre style=\"white-space:pre;overflow-x:auto;line-height:normal;font-family:Menlo,'DejaVu Sans Mono',consolas,'Courier New',monospace\"><span style=\"color: #008000; text-decoration-color: #008000\">㊂</span> Vibing <span style=\"color: #00afff; text-decoration-color: #00afff; font-style: italic\">lymphocytes</span> <span style=\"color: #008080; text-decoration-color: #008080\">(🏗️)</span>\n</pre>\n",
                  "text/plain": "\u001b[32m㊂\u001b[0m Vibing \u001b[3;38;5;39mlymphocytes\u001b[0m \u001b[36m(🏗️)\u001b[0m\n"
                },
                "metadata": {},
                "output_type": "display_data"
              }
            ]
          }
        },
        "7b9691de80244b039a5e28b102e940c1": {
          "model_module": "@jupyter-widgets/base",
          "model_module_version": "1.2.0",
          "model_name": "LayoutModel",
          "state": {
            "_model_module": "@jupyter-widgets/base",
            "_model_module_version": "1.2.0",
            "_model_name": "LayoutModel",
            "_view_count": null,
            "_view_module": "@jupyter-widgets/base",
            "_view_module_version": "1.2.0",
            "_view_name": "LayoutView",
            "align_content": null,
            "align_items": null,
            "align_self": null,
            "border": null,
            "bottom": null,
            "display": null,
            "flex": null,
            "flex_flow": null,
            "grid_area": null,
            "grid_auto_columns": null,
            "grid_auto_flow": null,
            "grid_auto_rows": null,
            "grid_column": null,
            "grid_gap": null,
            "grid_row": null,
            "grid_template_areas": null,
            "grid_template_columns": null,
            "grid_template_rows": null,
            "height": null,
            "justify_content": null,
            "justify_items": null,
            "left": null,
            "margin": null,
            "max_height": null,
            "max_width": null,
            "min_height": null,
            "min_width": null,
            "object_fit": null,
            "object_position": null,
            "order": null,
            "overflow": null,
            "overflow_x": null,
            "overflow_y": null,
            "padding": null,
            "right": null,
            "top": null,
            "visibility": null,
            "width": null
          }
        },
        "7de0118dfe0844e6860677fde0d60557": {
          "model_module": "@jupyter-widgets/controls",
          "model_module_version": "1.5.0",
          "model_name": "DescriptionStyleModel",
          "state": {
            "_model_module": "@jupyter-widgets/controls",
            "_model_module_version": "1.5.0",
            "_model_name": "DescriptionStyleModel",
            "_view_count": null,
            "_view_module": "@jupyter-widgets/base",
            "_view_module_version": "1.2.0",
            "_view_name": "StyleView",
            "description_width": ""
          }
        },
        "7e3f239138aa468a93249c8be4b1d20d": {
          "model_module": "@jupyter-widgets/controls",
          "model_module_version": "1.5.0",
          "model_name": "HTMLModel",
          "state": {
            "_dom_classes": [],
            "_model_module": "@jupyter-widgets/controls",
            "_model_module_version": "1.5.0",
            "_model_name": "HTMLModel",
            "_view_count": null,
            "_view_module": "@jupyter-widgets/controls",
            "_view_module_version": "1.5.0",
            "_view_name": "HTMLView",
            "description": "",
            "description_tooltip": null,
            "layout": "IPY_MODEL_17c21751524649ada9c15d0eb04c0868",
            "placeholder": "​",
            "style": "IPY_MODEL_77c4269171b44693a44e9aa2e9f31457",
            "value": "train.jsonl: 100%"
          }
        },
        "874fc6e796f04a0fbeb618a0d2539c9a": {
          "model_module": "@jupyter-widgets/base",
          "model_module_version": "1.2.0",
          "model_name": "LayoutModel",
          "state": {
            "_model_module": "@jupyter-widgets/base",
            "_model_module_version": "1.2.0",
            "_model_name": "LayoutModel",
            "_view_count": null,
            "_view_module": "@jupyter-widgets/base",
            "_view_module_version": "1.2.0",
            "_view_name": "LayoutView",
            "align_content": null,
            "align_items": null,
            "align_self": null,
            "border": null,
            "bottom": null,
            "display": null,
            "flex": null,
            "flex_flow": null,
            "grid_area": null,
            "grid_auto_columns": null,
            "grid_auto_flow": null,
            "grid_auto_rows": null,
            "grid_column": null,
            "grid_gap": null,
            "grid_row": null,
            "grid_template_areas": null,
            "grid_template_columns": null,
            "grid_template_rows": null,
            "height": null,
            "justify_content": null,
            "justify_items": null,
            "left": null,
            "margin": null,
            "max_height": null,
            "max_width": null,
            "min_height": null,
            "min_width": null,
            "object_fit": null,
            "object_position": null,
            "order": null,
            "overflow": null,
            "overflow_x": null,
            "overflow_y": null,
            "padding": null,
            "right": null,
            "top": null,
            "visibility": null,
            "width": null
          }
        },
        "87d2ec15b8ff47428c54c7926f86b665": {
          "model_module": "@jupyter-widgets/controls",
          "model_module_version": "1.5.0",
          "model_name": "DescriptionStyleModel",
          "state": {
            "_model_module": "@jupyter-widgets/controls",
            "_model_module_version": "1.5.0",
            "_model_name": "DescriptionStyleModel",
            "_view_count": null,
            "_view_module": "@jupyter-widgets/base",
            "_view_module_version": "1.2.0",
            "_view_name": "StyleView",
            "description_width": ""
          }
        },
        "8949f657849a4b2da701d18c0cb4ee8d": {
          "model_module": "@jupyter-widgets/controls",
          "model_module_version": "1.5.0",
          "model_name": "HTMLModel",
          "state": {
            "_dom_classes": [],
            "_model_module": "@jupyter-widgets/controls",
            "_model_module_version": "1.5.0",
            "_model_name": "HTMLModel",
            "_view_count": null,
            "_view_module": "@jupyter-widgets/controls",
            "_view_module_version": "1.5.0",
            "_view_name": "HTMLView",
            "description": "",
            "description_tooltip": null,
            "layout": "IPY_MODEL_d8ab1c09a15c47cf84fb1449dfb46b9a",
            "placeholder": "​",
            "style": "IPY_MODEL_7de0118dfe0844e6860677fde0d60557",
            "value": "Generating test split: 100%"
          }
        },
        "8adadf2eb43d4439adeb8e92708c461f": {
          "model_module": "@jupyter-widgets/output",
          "model_module_version": "1.0.0",
          "model_name": "OutputModel",
          "state": {
            "_dom_classes": [],
            "_model_module": "@jupyter-widgets/output",
            "_model_module_version": "1.0.0",
            "_model_name": "OutputModel",
            "_view_count": null,
            "_view_module": "@jupyter-widgets/output",
            "_view_module_version": "1.0.0",
            "_view_name": "OutputView",
            "layout": "IPY_MODEL_54021178b37b46a1bfbfc64f987050b6",
            "msg_id": "",
            "outputs": [
              {
                "data": {
                  "text/html": "<pre style=\"white-space:pre;overflow-x:auto;line-height:normal;font-family:Menlo,'DejaVu Sans Mono',consolas,'Courier New',monospace\"><span style=\"color: #008000; text-decoration-color: #008000\">㊂</span> Noodling <span style=\"color: #00afff; text-decoration-color: #00afff; font-style: italic\">current_hospital_patient_activity</span> <span style=\"color: #008080; text-decoration-color: #008080\">(🏗️)</span>\n</pre>\n",
                  "text/plain": "\u001b[32m㊂\u001b[0m Noodling \u001b[3;38;5;39mcurrent_hospital_patient_activity\u001b[0m \u001b[36m(🏗️)\u001b[0m\n"
                },
                "metadata": {},
                "output_type": "display_data"
              }
            ]
          }
        },
        "8b38c42169414800823b304fd6cf4fb1": {
          "model_module": "@jupyter-widgets/base",
          "model_module_version": "1.2.0",
          "model_name": "LayoutModel",
          "state": {
            "_model_module": "@jupyter-widgets/base",
            "_model_module_version": "1.2.0",
            "_model_name": "LayoutModel",
            "_view_count": null,
            "_view_module": "@jupyter-widgets/base",
            "_view_module_version": "1.2.0",
            "_view_name": "LayoutView",
            "align_content": null,
            "align_items": null,
            "align_self": null,
            "border": null,
            "bottom": null,
            "display": null,
            "flex": null,
            "flex_flow": null,
            "grid_area": null,
            "grid_auto_columns": null,
            "grid_auto_flow": null,
            "grid_auto_rows": null,
            "grid_column": null,
            "grid_gap": null,
            "grid_row": null,
            "grid_template_areas": null,
            "grid_template_columns": null,
            "grid_template_rows": null,
            "height": null,
            "justify_content": null,
            "justify_items": null,
            "left": null,
            "margin": null,
            "max_height": null,
            "max_width": null,
            "min_height": null,
            "min_width": null,
            "object_fit": null,
            "object_position": null,
            "order": null,
            "overflow": null,
            "overflow_x": null,
            "overflow_y": null,
            "padding": null,
            "right": null,
            "top": null,
            "visibility": null,
            "width": null
          }
        },
        "8e24cf2683c34f6f8c8936d7d5a80de7": {
          "model_module": "@jupyter-widgets/base",
          "model_module_version": "1.2.0",
          "model_name": "LayoutModel",
          "state": {
            "_model_module": "@jupyter-widgets/base",
            "_model_module_version": "1.2.0",
            "_model_name": "LayoutModel",
            "_view_count": null,
            "_view_module": "@jupyter-widgets/base",
            "_view_module_version": "1.2.0",
            "_view_name": "LayoutView",
            "align_content": null,
            "align_items": null,
            "align_self": null,
            "border": null,
            "bottom": null,
            "display": null,
            "flex": null,
            "flex_flow": null,
            "grid_area": null,
            "grid_auto_columns": null,
            "grid_auto_flow": null,
            "grid_auto_rows": null,
            "grid_column": null,
            "grid_gap": null,
            "grid_row": null,
            "grid_template_areas": null,
            "grid_template_columns": null,
            "grid_template_rows": null,
            "height": null,
            "justify_content": null,
            "justify_items": null,
            "left": null,
            "margin": null,
            "max_height": null,
            "max_width": null,
            "min_height": null,
            "min_width": null,
            "object_fit": null,
            "object_position": null,
            "order": null,
            "overflow": null,
            "overflow_x": null,
            "overflow_y": null,
            "padding": null,
            "right": null,
            "top": null,
            "visibility": null,
            "width": null
          }
        },
        "932101a112ec403ca2b9790b98501291": {
          "model_module": "@jupyter-widgets/output",
          "model_module_version": "1.0.0",
          "model_name": "OutputModel",
          "state": {
            "_dom_classes": [],
            "_model_module": "@jupyter-widgets/output",
            "_model_module_version": "1.0.0",
            "_model_name": "OutputModel",
            "_view_count": null,
            "_view_module": "@jupyter-widgets/output",
            "_view_module_version": "1.0.0",
            "_view_name": "OutputView",
            "layout": "IPY_MODEL_af0b1d474cfd4ceead85a054210f85cb",
            "msg_id": "",
            "outputs": [
              {
                "data": {
                  "text/html": "<pre style=\"white-space:pre;overflow-x:auto;line-height:normal;font-family:Menlo,'DejaVu Sans Mono',consolas,'Courier New',monospace\"><span style=\"color: #008000; text-decoration-color: #008000\">㊂</span> Greteling <span style=\"color: #00afff; text-decoration-color: #00afff; font-style: italic\">farmer_question</span> <span style=\"color: #008080; text-decoration-color: #008080\">(💭)</span>\n</pre>\n",
                  "text/plain": "\u001b[32m㊂\u001b[0m Greteling \u001b[3;38;5;39mfarmer_question\u001b[0m \u001b[36m(💭)\u001b[0m\n"
                },
                "metadata": {},
                "output_type": "display_data"
              }
            ]
          }
        },
        "94716e00b0194d64b5b5cb32115cdd4a": {
          "model_module": "@jupyter-widgets/controls",
          "model_module_version": "1.5.0",
          "model_name": "DescriptionStyleModel",
          "state": {
            "_model_module": "@jupyter-widgets/controls",
            "_model_module_version": "1.5.0",
            "_model_name": "DescriptionStyleModel",
            "_view_count": null,
            "_view_module": "@jupyter-widgets/base",
            "_view_module_version": "1.2.0",
            "_view_name": "StyleView",
            "description_width": ""
          }
        },
        "94b82d6cabbb4413a2376675d28253c8": {
          "model_module": "@jupyter-widgets/output",
          "model_module_version": "1.0.0",
          "model_name": "OutputModel",
          "state": {
            "_dom_classes": [],
            "_model_module": "@jupyter-widgets/output",
            "_model_module_version": "1.0.0",
            "_model_name": "OutputModel",
            "_view_count": null,
            "_view_module": "@jupyter-widgets/output",
            "_view_module_version": "1.0.0",
            "_view_name": "OutputView",
            "layout": "IPY_MODEL_c71f208742f5471c9470c4c56bd1e4ee",
            "msg_id": "",
            "outputs": [
              {
                "data": {
                  "text/html": "<pre style=\"white-space:pre;overflow-x:auto;line-height:normal;font-family:Menlo,'DejaVu Sans Mono',consolas,'Courier New',monospace\"><span style=\"color: #008000; text-decoration-color: #008000\">㊁</span> Greteling <span style=\"color: #00afff; text-decoration-color: #00afff; font-style: italic\">doctors_notes</span> <span style=\"color: #008080; text-decoration-color: #008080\">(💭)</span>\n</pre>\n",
                  "text/plain": "\u001b[32m㊁\u001b[0m Greteling \u001b[3;38;5;39mdoctors_notes\u001b[0m \u001b[36m(💭)\u001b[0m\n"
                },
                "metadata": {},
                "output_type": "display_data"
              }
            ]
          }
        },
        "957e9a12882d4ed2942b46eae2b50d7b": {
          "model_module": "@jupyter-widgets/controls",
          "model_module_version": "1.5.0",
          "model_name": "HBoxModel",
          "state": {
            "_dom_classes": [],
            "_model_module": "@jupyter-widgets/controls",
            "_model_module_version": "1.5.0",
            "_model_name": "HBoxModel",
            "_view_count": null,
            "_view_module": "@jupyter-widgets/controls",
            "_view_module_version": "1.5.0",
            "_view_name": "HBoxView",
            "box_style": "",
            "children": [
              "IPY_MODEL_7e3f239138aa468a93249c8be4b1d20d",
              "IPY_MODEL_ec87f52cf3594b4e802a7bb6ee543639",
              "IPY_MODEL_dca14c9e8ab74a349c339b618ac1dd89"
            ],
            "layout": "IPY_MODEL_7b9691de80244b039a5e28b102e940c1"
          }
        },
        "96ed0db99c42492babcef97b623ffc19": {
          "model_module": "@jupyter-widgets/base",
          "model_module_version": "1.2.0",
          "model_name": "LayoutModel",
          "state": {
            "_model_module": "@jupyter-widgets/base",
            "_model_module_version": "1.2.0",
            "_model_name": "LayoutModel",
            "_view_count": null,
            "_view_module": "@jupyter-widgets/base",
            "_view_module_version": "1.2.0",
            "_view_name": "LayoutView",
            "align_content": null,
            "align_items": null,
            "align_self": null,
            "border": null,
            "bottom": null,
            "display": null,
            "flex": null,
            "flex_flow": null,
            "grid_area": null,
            "grid_auto_columns": null,
            "grid_auto_flow": null,
            "grid_auto_rows": null,
            "grid_column": null,
            "grid_gap": null,
            "grid_row": null,
            "grid_template_areas": null,
            "grid_template_columns": null,
            "grid_template_rows": null,
            "height": null,
            "justify_content": null,
            "justify_items": null,
            "left": null,
            "margin": null,
            "max_height": null,
            "max_width": null,
            "min_height": null,
            "min_width": null,
            "object_fit": null,
            "object_position": null,
            "order": null,
            "overflow": null,
            "overflow_x": null,
            "overflow_y": null,
            "padding": null,
            "right": null,
            "top": null,
            "visibility": null,
            "width": null
          }
        },
        "9e161789ef41454ca39e6227edccb973": {
          "model_module": "@jupyter-widgets/output",
          "model_module_version": "1.0.0",
          "model_name": "OutputModel",
          "state": {
            "_dom_classes": [],
            "_model_module": "@jupyter-widgets/output",
            "_model_module_version": "1.0.0",
            "_model_name": "OutputModel",
            "_view_count": null,
            "_view_module": "@jupyter-widgets/output",
            "_view_module_version": "1.0.0",
            "_view_name": "OutputView",
            "layout": "IPY_MODEL_874fc6e796f04a0fbeb618a0d2539c9a",
            "msg_id": "",
            "outputs": [
              {
                "data": {
                  "text/html": "<pre style=\"white-space:pre;overflow-x:auto;line-height:normal;font-family:Menlo,'DejaVu Sans Mono',consolas,'Courier New',monospace\"><span style=\"color: #008000; text-decoration-color: #008000\">㊂</span> Noodling <span style=\"color: #00afff; text-decoration-color: #00afff; font-style: italic\">heart_rate</span> <span style=\"color: #008080; text-decoration-color: #008080\">(🏗️)</span>\n</pre>\n",
                  "text/plain": "\u001b[32m㊂\u001b[0m Noodling \u001b[3;38;5;39mheart_rate\u001b[0m \u001b[36m(🏗️)\u001b[0m\n"
                },
                "metadata": {},
                "output_type": "display_data"
              }
            ]
          }
        },
        "9ec23f2022d342fd836b81c9fc4c7a14": {
          "model_module": "@jupyter-widgets/base",
          "model_module_version": "1.2.0",
          "model_name": "LayoutModel",
          "state": {
            "_model_module": "@jupyter-widgets/base",
            "_model_module_version": "1.2.0",
            "_model_name": "LayoutModel",
            "_view_count": null,
            "_view_module": "@jupyter-widgets/base",
            "_view_module_version": "1.2.0",
            "_view_name": "LayoutView",
            "align_content": null,
            "align_items": null,
            "align_self": null,
            "border": null,
            "bottom": null,
            "display": null,
            "flex": null,
            "flex_flow": null,
            "grid_area": null,
            "grid_auto_columns": null,
            "grid_auto_flow": null,
            "grid_auto_rows": null,
            "grid_column": null,
            "grid_gap": null,
            "grid_row": null,
            "grid_template_areas": null,
            "grid_template_columns": null,
            "grid_template_rows": null,
            "height": null,
            "justify_content": null,
            "justify_items": null,
            "left": null,
            "margin": null,
            "max_height": null,
            "max_width": null,
            "min_height": null,
            "min_width": null,
            "object_fit": null,
            "object_position": null,
            "order": null,
            "overflow": null,
            "overflow_x": null,
            "overflow_y": null,
            "padding": null,
            "right": null,
            "top": null,
            "visibility": null,
            "width": null
          }
        },
        "a1df84a7d2484532b1398d246dfc6f19": {
          "model_module": "@jupyter-widgets/controls",
          "model_module_version": "1.5.0",
          "model_name": "FloatProgressModel",
          "state": {
            "_dom_classes": [],
            "_model_module": "@jupyter-widgets/controls",
            "_model_module_version": "1.5.0",
            "_model_name": "FloatProgressModel",
            "_view_count": null,
            "_view_module": "@jupyter-widgets/controls",
            "_view_module_version": "1.5.0",
            "_view_name": "ProgressView",
            "bar_style": "success",
            "description": "",
            "description_tooltip": null,
            "layout": "IPY_MODEL_40f40eedf62848e1a1cc420937869e00",
            "max": 2455,
            "min": 0,
            "orientation": "horizontal",
            "style": "IPY_MODEL_68ddcb7f42fc40679f0f48abe377d411",
            "value": 2455
          }
        },
        "a58315ba3a9a4bf9a9a645ee1be52dbe": {
          "model_module": "@jupyter-widgets/base",
          "model_module_version": "1.2.0",
          "model_name": "LayoutModel",
          "state": {
            "_model_module": "@jupyter-widgets/base",
            "_model_module_version": "1.2.0",
            "_model_name": "LayoutModel",
            "_view_count": null,
            "_view_module": "@jupyter-widgets/base",
            "_view_module_version": "1.2.0",
            "_view_name": "LayoutView",
            "align_content": null,
            "align_items": null,
            "align_self": null,
            "border": null,
            "bottom": null,
            "display": null,
            "flex": null,
            "flex_flow": null,
            "grid_area": null,
            "grid_auto_columns": null,
            "grid_auto_flow": null,
            "grid_auto_rows": null,
            "grid_column": null,
            "grid_gap": null,
            "grid_row": null,
            "grid_template_areas": null,
            "grid_template_columns": null,
            "grid_template_rows": null,
            "height": null,
            "justify_content": null,
            "justify_items": null,
            "left": null,
            "margin": null,
            "max_height": null,
            "max_width": null,
            "min_height": null,
            "min_width": null,
            "object_fit": null,
            "object_position": null,
            "order": null,
            "overflow": null,
            "overflow_x": null,
            "overflow_y": null,
            "padding": null,
            "right": null,
            "top": null,
            "visibility": null,
            "width": null
          }
        },
        "a86fdec6618943c2aa1b44c3ec6d5d3b": {
          "model_module": "@jupyter-widgets/base",
          "model_module_version": "1.2.0",
          "model_name": "LayoutModel",
          "state": {
            "_model_module": "@jupyter-widgets/base",
            "_model_module_version": "1.2.0",
            "_model_name": "LayoutModel",
            "_view_count": null,
            "_view_module": "@jupyter-widgets/base",
            "_view_module_version": "1.2.0",
            "_view_name": "LayoutView",
            "align_content": null,
            "align_items": null,
            "align_self": null,
            "border": null,
            "bottom": null,
            "display": null,
            "flex": null,
            "flex_flow": null,
            "grid_area": null,
            "grid_auto_columns": null,
            "grid_auto_flow": null,
            "grid_auto_rows": null,
            "grid_column": null,
            "grid_gap": null,
            "grid_row": null,
            "grid_template_areas": null,
            "grid_template_columns": null,
            "grid_template_rows": null,
            "height": null,
            "justify_content": null,
            "justify_items": null,
            "left": null,
            "margin": null,
            "max_height": null,
            "max_width": null,
            "min_height": null,
            "min_width": null,
            "object_fit": null,
            "object_position": null,
            "order": null,
            "overflow": null,
            "overflow_x": null,
            "overflow_y": null,
            "padding": null,
            "right": null,
            "top": null,
            "visibility": null,
            "width": null
          }
        },
        "aa1bdb4f2f9a4e068182cae2e5f7cf3d": {
          "model_module": "@jupyter-widgets/output",
          "model_module_version": "1.0.0",
          "model_name": "OutputModel",
          "state": {
            "_dom_classes": [],
            "_model_module": "@jupyter-widgets/output",
            "_model_module_version": "1.0.0",
            "_model_name": "OutputModel",
            "_view_count": null,
            "_view_module": "@jupyter-widgets/output",
            "_view_module_version": "1.0.0",
            "_view_name": "OutputView",
            "layout": "IPY_MODEL_e0475987209845b5bba772cb44aa3c47",
            "msg_id": "",
            "outputs": [
              {
                "data": {
                  "text/html": "<pre style=\"white-space:pre;overflow-x:auto;line-height:normal;font-family:Menlo,'DejaVu Sans Mono',consolas,'Courier New',monospace\"><span style=\"color: #008000; text-decoration-color: #008000\">㊂</span> Magicking <span style=\"color: #00afff; text-decoration-color: #00afff; font-style: italic\">date_admitted</span> <span style=\"color: #008080; text-decoration-color: #008080\">(🏗️)</span>\n</pre>\n",
                  "text/plain": "\u001b[32m㊂\u001b[0m Magicking \u001b[3;38;5;39mdate_admitted\u001b[0m \u001b[36m(🏗️)\u001b[0m\n"
                },
                "metadata": {},
                "output_type": "display_data"
              }
            ]
          }
        },
        "aaa91b40ae8842dd970e64f7b3ee548b": {
          "model_module": "@jupyter-widgets/base",
          "model_module_version": "1.2.0",
          "model_name": "LayoutModel",
          "state": {
            "_model_module": "@jupyter-widgets/base",
            "_model_module_version": "1.2.0",
            "_model_name": "LayoutModel",
            "_view_count": null,
            "_view_module": "@jupyter-widgets/base",
            "_view_module_version": "1.2.0",
            "_view_name": "LayoutView",
            "align_content": null,
            "align_items": null,
            "align_self": null,
            "border": null,
            "bottom": null,
            "display": null,
            "flex": null,
            "flex_flow": null,
            "grid_area": null,
            "grid_auto_columns": null,
            "grid_auto_flow": null,
            "grid_auto_rows": null,
            "grid_column": null,
            "grid_gap": null,
            "grid_row": null,
            "grid_template_areas": null,
            "grid_template_columns": null,
            "grid_template_rows": null,
            "height": null,
            "justify_content": null,
            "justify_items": null,
            "left": null,
            "margin": null,
            "max_height": null,
            "max_width": null,
            "min_height": null,
            "min_width": null,
            "object_fit": null,
            "object_position": null,
            "order": null,
            "overflow": null,
            "overflow_x": null,
            "overflow_y": null,
            "padding": null,
            "right": null,
            "top": null,
            "visibility": null,
            "width": null
          }
        },
        "ac5fe10b83b542adbe8642122d398c0e": {
          "model_module": "@jupyter-widgets/base",
          "model_module_version": "1.2.0",
          "model_name": "LayoutModel",
          "state": {
            "_model_module": "@jupyter-widgets/base",
            "_model_module_version": "1.2.0",
            "_model_name": "LayoutModel",
            "_view_count": null,
            "_view_module": "@jupyter-widgets/base",
            "_view_module_version": "1.2.0",
            "_view_name": "LayoutView",
            "align_content": null,
            "align_items": null,
            "align_self": null,
            "border": null,
            "bottom": null,
            "display": null,
            "flex": null,
            "flex_flow": null,
            "grid_area": null,
            "grid_auto_columns": null,
            "grid_auto_flow": null,
            "grid_auto_rows": null,
            "grid_column": null,
            "grid_gap": null,
            "grid_row": null,
            "grid_template_areas": null,
            "grid_template_columns": null,
            "grid_template_rows": null,
            "height": null,
            "justify_content": null,
            "justify_items": null,
            "left": null,
            "margin": null,
            "max_height": null,
            "max_width": null,
            "min_height": null,
            "min_width": null,
            "object_fit": null,
            "object_position": null,
            "order": null,
            "overflow": null,
            "overflow_x": null,
            "overflow_y": null,
            "padding": null,
            "right": null,
            "top": null,
            "visibility": null,
            "width": null
          }
        },
        "ad9257f54f0f498090f94e28f7bddab9": {
          "model_module": "@jupyter-widgets/base",
          "model_module_version": "1.2.0",
          "model_name": "LayoutModel",
          "state": {
            "_model_module": "@jupyter-widgets/base",
            "_model_module_version": "1.2.0",
            "_model_name": "LayoutModel",
            "_view_count": null,
            "_view_module": "@jupyter-widgets/base",
            "_view_module_version": "1.2.0",
            "_view_name": "LayoutView",
            "align_content": null,
            "align_items": null,
            "align_self": null,
            "border": null,
            "bottom": null,
            "display": null,
            "flex": null,
            "flex_flow": null,
            "grid_area": null,
            "grid_auto_columns": null,
            "grid_auto_flow": null,
            "grid_auto_rows": null,
            "grid_column": null,
            "grid_gap": null,
            "grid_row": null,
            "grid_template_areas": null,
            "grid_template_columns": null,
            "grid_template_rows": null,
            "height": null,
            "justify_content": null,
            "justify_items": null,
            "left": null,
            "margin": null,
            "max_height": null,
            "max_width": null,
            "min_height": null,
            "min_width": null,
            "object_fit": null,
            "object_position": null,
            "order": null,
            "overflow": null,
            "overflow_x": null,
            "overflow_y": null,
            "padding": null,
            "right": null,
            "top": null,
            "visibility": null,
            "width": null
          }
        },
        "af0b1d474cfd4ceead85a054210f85cb": {
          "model_module": "@jupyter-widgets/base",
          "model_module_version": "1.2.0",
          "model_name": "LayoutModel",
          "state": {
            "_model_module": "@jupyter-widgets/base",
            "_model_module_version": "1.2.0",
            "_model_name": "LayoutModel",
            "_view_count": null,
            "_view_module": "@jupyter-widgets/base",
            "_view_module_version": "1.2.0",
            "_view_name": "LayoutView",
            "align_content": null,
            "align_items": null,
            "align_self": null,
            "border": null,
            "bottom": null,
            "display": null,
            "flex": null,
            "flex_flow": null,
            "grid_area": null,
            "grid_auto_columns": null,
            "grid_auto_flow": null,
            "grid_auto_rows": null,
            "grid_column": null,
            "grid_gap": null,
            "grid_row": null,
            "grid_template_areas": null,
            "grid_template_columns": null,
            "grid_template_rows": null,
            "height": null,
            "justify_content": null,
            "justify_items": null,
            "left": null,
            "margin": null,
            "max_height": null,
            "max_width": null,
            "min_height": null,
            "min_width": null,
            "object_fit": null,
            "object_position": null,
            "order": null,
            "overflow": null,
            "overflow_x": null,
            "overflow_y": null,
            "padding": null,
            "right": null,
            "top": null,
            "visibility": null,
            "width": null
          }
        },
        "b63e135f5fb04d3a8da292c032d90233": {
          "model_module": "@jupyter-widgets/output",
          "model_module_version": "1.0.0",
          "model_name": "OutputModel",
          "state": {
            "_dom_classes": [],
            "_model_module": "@jupyter-widgets/output",
            "_model_module_version": "1.0.0",
            "_model_name": "OutputModel",
            "_view_count": null,
            "_view_module": "@jupyter-widgets/output",
            "_view_module_version": "1.0.0",
            "_view_name": "OutputView",
            "layout": "IPY_MODEL_6d31eb3208d54dcba9ac2b359e57377f",
            "msg_id": "",
            "outputs": [
              {
                "data": {
                  "text/html": "<pre style=\"white-space:pre;overflow-x:auto;line-height:normal;font-family:Menlo,'DejaVu Sans Mono',consolas,'Courier New',monospace\"><span style=\"color: #008000; text-decoration-color: #008000\">㊂</span> Greteling <span style=\"color: #00afff; text-decoration-color: #00afff; font-style: italic\">doctors_notes</span> <span style=\"color: #008080; text-decoration-color: #008080\">(💭)</span>\n</pre>\n",
                  "text/plain": "\u001b[32m㊂\u001b[0m Greteling \u001b[3;38;5;39mdoctors_notes\u001b[0m \u001b[36m(💭)\u001b[0m\n"
                },
                "metadata": {},
                "output_type": "display_data"
              }
            ]
          }
        },
        "b7fc74ef56674ff386730313513a1851": {
          "model_module": "@jupyter-widgets/controls",
          "model_module_version": "1.5.0",
          "model_name": "HBoxModel",
          "state": {
            "_dom_classes": [],
            "_model_module": "@jupyter-widgets/controls",
            "_model_module_version": "1.5.0",
            "_model_name": "HBoxModel",
            "_view_count": null,
            "_view_module": "@jupyter-widgets/controls",
            "_view_module_version": "1.5.0",
            "_view_name": "HBoxView",
            "box_style": "",
            "children": [
              "IPY_MODEL_0d70b931a618445c9bcfe2556987a983",
              "IPY_MODEL_04742631bd154a35be43f82368bac60b",
              "IPY_MODEL_d2f9456612be45f488f77c22b68e7f24"
            ],
            "layout": "IPY_MODEL_ba75a5c5c09f4524b0c6cc01ab13522e"
          }
        },
        "b87f1cf57f05428b959d5c91c8964a69": {
          "model_module": "@jupyter-widgets/base",
          "model_module_version": "1.2.0",
          "model_name": "LayoutModel",
          "state": {
            "_model_module": "@jupyter-widgets/base",
            "_model_module_version": "1.2.0",
            "_model_name": "LayoutModel",
            "_view_count": null,
            "_view_module": "@jupyter-widgets/base",
            "_view_module_version": "1.2.0",
            "_view_name": "LayoutView",
            "align_content": null,
            "align_items": null,
            "align_self": null,
            "border": null,
            "bottom": null,
            "display": null,
            "flex": null,
            "flex_flow": null,
            "grid_area": null,
            "grid_auto_columns": null,
            "grid_auto_flow": null,
            "grid_auto_rows": null,
            "grid_column": null,
            "grid_gap": null,
            "grid_row": null,
            "grid_template_areas": null,
            "grid_template_columns": null,
            "grid_template_rows": null,
            "height": null,
            "justify_content": null,
            "justify_items": null,
            "left": null,
            "margin": null,
            "max_height": null,
            "max_width": null,
            "min_height": null,
            "min_width": null,
            "object_fit": null,
            "object_position": null,
            "order": null,
            "overflow": null,
            "overflow_x": null,
            "overflow_y": null,
            "padding": null,
            "right": null,
            "top": null,
            "visibility": null,
            "width": null
          }
        },
        "b9ac51a62c7a4a1d9775869ae355a1ea": {
          "model_module": "@jupyter-widgets/controls",
          "model_module_version": "1.5.0",
          "model_name": "DescriptionStyleModel",
          "state": {
            "_model_module": "@jupyter-widgets/controls",
            "_model_module_version": "1.5.0",
            "_model_name": "DescriptionStyleModel",
            "_view_count": null,
            "_view_module": "@jupyter-widgets/base",
            "_view_module_version": "1.2.0",
            "_view_name": "StyleView",
            "description_width": ""
          }
        },
        "ba75a5c5c09f4524b0c6cc01ab13522e": {
          "model_module": "@jupyter-widgets/base",
          "model_module_version": "1.2.0",
          "model_name": "LayoutModel",
          "state": {
            "_model_module": "@jupyter-widgets/base",
            "_model_module_version": "1.2.0",
            "_model_name": "LayoutModel",
            "_view_count": null,
            "_view_module": "@jupyter-widgets/base",
            "_view_module_version": "1.2.0",
            "_view_name": "LayoutView",
            "align_content": null,
            "align_items": null,
            "align_self": null,
            "border": null,
            "bottom": null,
            "display": null,
            "flex": null,
            "flex_flow": null,
            "grid_area": null,
            "grid_auto_columns": null,
            "grid_auto_flow": null,
            "grid_auto_rows": null,
            "grid_column": null,
            "grid_gap": null,
            "grid_row": null,
            "grid_template_areas": null,
            "grid_template_columns": null,
            "grid_template_rows": null,
            "height": null,
            "justify_content": null,
            "justify_items": null,
            "left": null,
            "margin": null,
            "max_height": null,
            "max_width": null,
            "min_height": null,
            "min_width": null,
            "object_fit": null,
            "object_position": null,
            "order": null,
            "overflow": null,
            "overflow_x": null,
            "overflow_y": null,
            "padding": null,
            "right": null,
            "top": null,
            "visibility": null,
            "width": null
          }
        },
        "bab0a0d123084574b518d6b3d8e3cb3d": {
          "model_module": "@jupyter-widgets/base",
          "model_module_version": "1.2.0",
          "model_name": "LayoutModel",
          "state": {
            "_model_module": "@jupyter-widgets/base",
            "_model_module_version": "1.2.0",
            "_model_name": "LayoutModel",
            "_view_count": null,
            "_view_module": "@jupyter-widgets/base",
            "_view_module_version": "1.2.0",
            "_view_name": "LayoutView",
            "align_content": null,
            "align_items": null,
            "align_self": null,
            "border": null,
            "bottom": null,
            "display": null,
            "flex": null,
            "flex_flow": null,
            "grid_area": null,
            "grid_auto_columns": null,
            "grid_auto_flow": null,
            "grid_auto_rows": null,
            "grid_column": null,
            "grid_gap": null,
            "grid_row": null,
            "grid_template_areas": null,
            "grid_template_columns": null,
            "grid_template_rows": null,
            "height": null,
            "justify_content": null,
            "justify_items": null,
            "left": null,
            "margin": null,
            "max_height": null,
            "max_width": null,
            "min_height": null,
            "min_width": null,
            "object_fit": null,
            "object_position": null,
            "order": null,
            "overflow": null,
            "overflow_x": null,
            "overflow_y": null,
            "padding": null,
            "right": null,
            "top": null,
            "visibility": null,
            "width": null
          }
        },
        "bf12dc51a6654a0f8a50d3044b70b83d": {
          "model_module": "@jupyter-widgets/controls",
          "model_module_version": "1.5.0",
          "model_name": "HTMLModel",
          "state": {
            "_dom_classes": [],
            "_model_module": "@jupyter-widgets/controls",
            "_model_module_version": "1.5.0",
            "_model_name": "HTMLModel",
            "_view_count": null,
            "_view_module": "@jupyter-widgets/controls",
            "_view_module_version": "1.5.0",
            "_view_name": "HTMLView",
            "description": "",
            "description_tooltip": null,
            "layout": "IPY_MODEL_8e24cf2683c34f6f8c8936d7d5a80de7",
            "placeholder": "​",
            "style": "IPY_MODEL_94716e00b0194d64b5b5cb32115cdd4a",
            "value": " 853/853 [00:00&lt;00:00, 27082.56 examples/s]"
          }
        },
        "c09e1378180940a3853b9d418fcb0417": {
          "model_module": "@jupyter-widgets/base",
          "model_module_version": "1.2.0",
          "model_name": "LayoutModel",
          "state": {
            "_model_module": "@jupyter-widgets/base",
            "_model_module_version": "1.2.0",
            "_model_name": "LayoutModel",
            "_view_count": null,
            "_view_module": "@jupyter-widgets/base",
            "_view_module_version": "1.2.0",
            "_view_name": "LayoutView",
            "align_content": null,
            "align_items": null,
            "align_self": null,
            "border": null,
            "bottom": null,
            "display": null,
            "flex": null,
            "flex_flow": null,
            "grid_area": null,
            "grid_auto_columns": null,
            "grid_auto_flow": null,
            "grid_auto_rows": null,
            "grid_column": null,
            "grid_gap": null,
            "grid_row": null,
            "grid_template_areas": null,
            "grid_template_columns": null,
            "grid_template_rows": null,
            "height": null,
            "justify_content": null,
            "justify_items": null,
            "left": null,
            "margin": null,
            "max_height": null,
            "max_width": null,
            "min_height": null,
            "min_width": null,
            "object_fit": null,
            "object_position": null,
            "order": null,
            "overflow": null,
            "overflow_x": null,
            "overflow_y": null,
            "padding": null,
            "right": null,
            "top": null,
            "visibility": null,
            "width": null
          }
        },
        "c2838a58241c42bf93e3e8adc2bb4fd3": {
          "model_module": "@jupyter-widgets/base",
          "model_module_version": "1.2.0",
          "model_name": "LayoutModel",
          "state": {
            "_model_module": "@jupyter-widgets/base",
            "_model_module_version": "1.2.0",
            "_model_name": "LayoutModel",
            "_view_count": null,
            "_view_module": "@jupyter-widgets/base",
            "_view_module_version": "1.2.0",
            "_view_name": "LayoutView",
            "align_content": null,
            "align_items": null,
            "align_self": null,
            "border": null,
            "bottom": null,
            "display": null,
            "flex": null,
            "flex_flow": null,
            "grid_area": null,
            "grid_auto_columns": null,
            "grid_auto_flow": null,
            "grid_auto_rows": null,
            "grid_column": null,
            "grid_gap": null,
            "grid_row": null,
            "grid_template_areas": null,
            "grid_template_columns": null,
            "grid_template_rows": null,
            "height": null,
            "justify_content": null,
            "justify_items": null,
            "left": null,
            "margin": null,
            "max_height": null,
            "max_width": null,
            "min_height": null,
            "min_width": null,
            "object_fit": null,
            "object_position": null,
            "order": null,
            "overflow": null,
            "overflow_x": null,
            "overflow_y": null,
            "padding": null,
            "right": null,
            "top": null,
            "visibility": null,
            "width": null
          }
        },
        "c368f8ce835f4532af076d448b4dd360": {
          "model_module": "@jupyter-widgets/controls",
          "model_module_version": "1.5.0",
          "model_name": "HBoxModel",
          "state": {
            "_dom_classes": [],
            "_model_module": "@jupyter-widgets/controls",
            "_model_module_version": "1.5.0",
            "_model_name": "HBoxModel",
            "_view_count": null,
            "_view_module": "@jupyter-widgets/controls",
            "_view_module_version": "1.5.0",
            "_view_name": "HBoxView",
            "box_style": "",
            "children": [
              "IPY_MODEL_3ae2caed427745c487285f113a6a2d17",
              "IPY_MODEL_a1df84a7d2484532b1398d246dfc6f19",
              "IPY_MODEL_cd9be170f5f849c6832e62c2c6d95f92"
            ],
            "layout": "IPY_MODEL_f9d99ed96a3545a180f7bbb5ad2e88d9"
          }
        },
        "c536afd70ae846debfd5dc2f55972f3e": {
          "model_module": "@jupyter-widgets/controls",
          "model_module_version": "1.5.0",
          "model_name": "ProgressStyleModel",
          "state": {
            "_model_module": "@jupyter-widgets/controls",
            "_model_module_version": "1.5.0",
            "_model_name": "ProgressStyleModel",
            "_view_count": null,
            "_view_module": "@jupyter-widgets/base",
            "_view_module_version": "1.2.0",
            "_view_name": "StyleView",
            "bar_color": null,
            "description_width": ""
          }
        },
        "c71f208742f5471c9470c4c56bd1e4ee": {
          "model_module": "@jupyter-widgets/base",
          "model_module_version": "1.2.0",
          "model_name": "LayoutModel",
          "state": {
            "_model_module": "@jupyter-widgets/base",
            "_model_module_version": "1.2.0",
            "_model_name": "LayoutModel",
            "_view_count": null,
            "_view_module": "@jupyter-widgets/base",
            "_view_module_version": "1.2.0",
            "_view_name": "LayoutView",
            "align_content": null,
            "align_items": null,
            "align_self": null,
            "border": null,
            "bottom": null,
            "display": null,
            "flex": null,
            "flex_flow": null,
            "grid_area": null,
            "grid_auto_columns": null,
            "grid_auto_flow": null,
            "grid_auto_rows": null,
            "grid_column": null,
            "grid_gap": null,
            "grid_row": null,
            "grid_template_areas": null,
            "grid_template_columns": null,
            "grid_template_rows": null,
            "height": null,
            "justify_content": null,
            "justify_items": null,
            "left": null,
            "margin": null,
            "max_height": null,
            "max_width": null,
            "min_height": null,
            "min_width": null,
            "object_fit": null,
            "object_position": null,
            "order": null,
            "overflow": null,
            "overflow_x": null,
            "overflow_y": null,
            "padding": null,
            "right": null,
            "top": null,
            "visibility": null,
            "width": null
          }
        },
        "ca7bb4f2e140496da46400541725ad21": {
          "model_module": "@jupyter-widgets/controls",
          "model_module_version": "1.5.0",
          "model_name": "DescriptionStyleModel",
          "state": {
            "_model_module": "@jupyter-widgets/controls",
            "_model_module_version": "1.5.0",
            "_model_name": "DescriptionStyleModel",
            "_view_count": null,
            "_view_module": "@jupyter-widgets/base",
            "_view_module_version": "1.2.0",
            "_view_name": "StyleView",
            "description_width": ""
          }
        },
        "ccdaa8ef4f2d4760bbdfda0db791a0ba": {
          "model_module": "@jupyter-widgets/base",
          "model_module_version": "1.2.0",
          "model_name": "LayoutModel",
          "state": {
            "_model_module": "@jupyter-widgets/base",
            "_model_module_version": "1.2.0",
            "_model_name": "LayoutModel",
            "_view_count": null,
            "_view_module": "@jupyter-widgets/base",
            "_view_module_version": "1.2.0",
            "_view_name": "LayoutView",
            "align_content": null,
            "align_items": null,
            "align_self": null,
            "border": null,
            "bottom": null,
            "display": null,
            "flex": null,
            "flex_flow": null,
            "grid_area": null,
            "grid_auto_columns": null,
            "grid_auto_flow": null,
            "grid_auto_rows": null,
            "grid_column": null,
            "grid_gap": null,
            "grid_row": null,
            "grid_template_areas": null,
            "grid_template_columns": null,
            "grid_template_rows": null,
            "height": null,
            "justify_content": null,
            "justify_items": null,
            "left": null,
            "margin": null,
            "max_height": null,
            "max_width": null,
            "min_height": null,
            "min_width": null,
            "object_fit": null,
            "object_position": null,
            "order": null,
            "overflow": null,
            "overflow_x": null,
            "overflow_y": null,
            "padding": null,
            "right": null,
            "top": null,
            "visibility": null,
            "width": null
          }
        },
        "cd9be170f5f849c6832e62c2c6d95f92": {
          "model_module": "@jupyter-widgets/controls",
          "model_module_version": "1.5.0",
          "model_name": "HTMLModel",
          "state": {
            "_dom_classes": [],
            "_model_module": "@jupyter-widgets/controls",
            "_model_module_version": "1.5.0",
            "_model_name": "HTMLModel",
            "_view_count": null,
            "_view_module": "@jupyter-widgets/controls",
            "_view_module_version": "1.5.0",
            "_view_name": "HTMLView",
            "description": "",
            "description_tooltip": null,
            "layout": "IPY_MODEL_18b212ea9166491fa1fc28f699d6977b",
            "placeholder": "​",
            "style": "IPY_MODEL_b9ac51a62c7a4a1d9775869ae355a1ea",
            "value": " 2.46k/2.46k [00:00&lt;00:00, 215kB/s]"
          }
        },
        "d2f9456612be45f488f77c22b68e7f24": {
          "model_module": "@jupyter-widgets/controls",
          "model_module_version": "1.5.0",
          "model_name": "HTMLModel",
          "state": {
            "_dom_classes": [],
            "_model_module": "@jupyter-widgets/controls",
            "_model_module_version": "1.5.0",
            "_model_name": "HTMLModel",
            "_view_count": null,
            "_view_module": "@jupyter-widgets/controls",
            "_view_module_version": "1.5.0",
            "_view_name": "HTMLView",
            "description": "",
            "description_tooltip": null,
            "layout": "IPY_MODEL_c2838a58241c42bf93e3e8adc2bb4fd3",
            "placeholder": "​",
            "style": "IPY_MODEL_4eefa23da2e54552842fba571004e548",
            "value": " 42.5k/42.5k [00:00&lt;00:00, 3.46MB/s]"
          }
        },
        "d4e7b34351264532921cfeaa440c5753": {
          "model_module": "@jupyter-widgets/controls",
          "model_module_version": "1.5.0",
          "model_name": "ProgressStyleModel",
          "state": {
            "_model_module": "@jupyter-widgets/controls",
            "_model_module_version": "1.5.0",
            "_model_name": "ProgressStyleModel",
            "_view_count": null,
            "_view_module": "@jupyter-widgets/base",
            "_view_module_version": "1.2.0",
            "_view_name": "StyleView",
            "bar_color": null,
            "description_width": ""
          }
        },
        "d8ab1c09a15c47cf84fb1449dfb46b9a": {
          "model_module": "@jupyter-widgets/base",
          "model_module_version": "1.2.0",
          "model_name": "LayoutModel",
          "state": {
            "_model_module": "@jupyter-widgets/base",
            "_model_module_version": "1.2.0",
            "_model_name": "LayoutModel",
            "_view_count": null,
            "_view_module": "@jupyter-widgets/base",
            "_view_module_version": "1.2.0",
            "_view_name": "LayoutView",
            "align_content": null,
            "align_items": null,
            "align_self": null,
            "border": null,
            "bottom": null,
            "display": null,
            "flex": null,
            "flex_flow": null,
            "grid_area": null,
            "grid_auto_columns": null,
            "grid_auto_flow": null,
            "grid_auto_rows": null,
            "grid_column": null,
            "grid_gap": null,
            "grid_row": null,
            "grid_template_areas": null,
            "grid_template_columns": null,
            "grid_template_rows": null,
            "height": null,
            "justify_content": null,
            "justify_items": null,
            "left": null,
            "margin": null,
            "max_height": null,
            "max_width": null,
            "min_height": null,
            "min_width": null,
            "object_fit": null,
            "object_position": null,
            "order": null,
            "overflow": null,
            "overflow_x": null,
            "overflow_y": null,
            "padding": null,
            "right": null,
            "top": null,
            "visibility": null,
            "width": null
          }
        },
        "dad14bd9e3744bc3b5b444248cdfc4a9": {
          "model_module": "@jupyter-widgets/output",
          "model_module_version": "1.0.0",
          "model_name": "OutputModel",
          "state": {
            "_dom_classes": [],
            "_model_module": "@jupyter-widgets/output",
            "_model_module_version": "1.0.0",
            "_model_name": "OutputModel",
            "_view_count": null,
            "_view_module": "@jupyter-widgets/output",
            "_view_module_version": "1.0.0",
            "_view_name": "OutputView",
            "layout": "IPY_MODEL_28890d4777694a0481dc1214981a5d6b",
            "msg_id": "",
            "outputs": [
              {
                "data": {
                  "text/html": "<pre style=\"white-space:pre;overflow-x:auto;line-height:normal;font-family:Menlo,'DejaVu Sans Mono',consolas,'Courier New',monospace\"><span style=\"color: #008000; text-decoration-color: #008000\">㊂</span> Magicking <span style=\"color: #00afff; text-decoration-color: #00afff; font-style: italic\">hospital_status</span> <span style=\"color: #008080; text-decoration-color: #008080\">(🏗️)</span>\n</pre>\n",
                  "text/plain": "\u001b[32m㊂\u001b[0m Magicking \u001b[3;38;5;39mhospital_status\u001b[0m \u001b[36m(🏗️)\u001b[0m\n"
                },
                "metadata": {},
                "output_type": "display_data"
              }
            ]
          }
        },
        "dca14c9e8ab74a349c339b618ac1dd89": {
          "model_module": "@jupyter-widgets/controls",
          "model_module_version": "1.5.0",
          "model_name": "HTMLModel",
          "state": {
            "_dom_classes": [],
            "_model_module": "@jupyter-widgets/controls",
            "_model_module_version": "1.5.0",
            "_model_name": "HTMLModel",
            "_view_count": null,
            "_view_module": "@jupyter-widgets/controls",
            "_view_module_version": "1.5.0",
            "_view_name": "HTMLView",
            "description": "",
            "description_tooltip": null,
            "layout": "IPY_MODEL_75381a49647c48a99953e8481319eac8",
            "placeholder": "​",
            "style": "IPY_MODEL_18aeb4ef6f4d429c95620bfc9c730f13",
            "value": " 171k/171k [00:00&lt;00:00, 5.03MB/s]"
          }
        },
        "e0475987209845b5bba772cb44aa3c47": {
          "model_module": "@jupyter-widgets/base",
          "model_module_version": "1.2.0",
          "model_name": "LayoutModel",
          "state": {
            "_model_module": "@jupyter-widgets/base",
            "_model_module_version": "1.2.0",
            "_model_name": "LayoutModel",
            "_view_count": null,
            "_view_module": "@jupyter-widgets/base",
            "_view_module_version": "1.2.0",
            "_view_name": "LayoutView",
            "align_content": null,
            "align_items": null,
            "align_self": null,
            "border": null,
            "bottom": null,
            "display": null,
            "flex": null,
            "flex_flow": null,
            "grid_area": null,
            "grid_auto_columns": null,
            "grid_auto_flow": null,
            "grid_auto_rows": null,
            "grid_column": null,
            "grid_gap": null,
            "grid_row": null,
            "grid_template_areas": null,
            "grid_template_columns": null,
            "grid_template_rows": null,
            "height": null,
            "justify_content": null,
            "justify_items": null,
            "left": null,
            "margin": null,
            "max_height": null,
            "max_width": null,
            "min_height": null,
            "min_width": null,
            "object_fit": null,
            "object_position": null,
            "order": null,
            "overflow": null,
            "overflow_x": null,
            "overflow_y": null,
            "padding": null,
            "right": null,
            "top": null,
            "visibility": null,
            "width": null
          }
        },
        "e36823c0265b45e19fde83b14be04385": {
          "model_module": "@jupyter-widgets/output",
          "model_module_version": "1.0.0",
          "model_name": "OutputModel",
          "state": {
            "_dom_classes": [],
            "_model_module": "@jupyter-widgets/output",
            "_model_module_version": "1.0.0",
            "_model_name": "OutputModel",
            "_view_count": null,
            "_view_module": "@jupyter-widgets/output",
            "_view_module_version": "1.0.0",
            "_view_name": "OutputView",
            "layout": "IPY_MODEL_9ec23f2022d342fd836b81c9fc4c7a14",
            "msg_id": "",
            "outputs": [
              {
                "data": {
                  "text/html": "<pre style=\"white-space:pre;overflow-x:auto;line-height:normal;font-family:Menlo,'DejaVu Sans Mono',consolas,'Courier New',monospace\"><span style=\"color: #008000; text-decoration-color: #008000\">㊂</span> Greteling <span style=\"color: #00afff; text-decoration-color: #00afff; font-style: italic\">country</span> <span style=\"color: #008080; text-decoration-color: #008080\">(🏗️)</span>\n</pre>\n",
                  "text/plain": "\u001b[32m㊂\u001b[0m Greteling \u001b[3;38;5;39mcountry\u001b[0m \u001b[36m(🏗️)\u001b[0m\n"
                },
                "metadata": {},
                "output_type": "display_data"
              }
            ]
          }
        },
        "e420dc4297be47088011b32e295cf5f8": {
          "model_module": "@jupyter-widgets/base",
          "model_module_version": "1.2.0",
          "model_name": "LayoutModel",
          "state": {
            "_model_module": "@jupyter-widgets/base",
            "_model_module_version": "1.2.0",
            "_model_name": "LayoutModel",
            "_view_count": null,
            "_view_module": "@jupyter-widgets/base",
            "_view_module_version": "1.2.0",
            "_view_name": "LayoutView",
            "align_content": null,
            "align_items": null,
            "align_self": null,
            "border": null,
            "bottom": null,
            "display": null,
            "flex": null,
            "flex_flow": null,
            "grid_area": null,
            "grid_auto_columns": null,
            "grid_auto_flow": null,
            "grid_auto_rows": null,
            "grid_column": null,
            "grid_gap": null,
            "grid_row": null,
            "grid_template_areas": null,
            "grid_template_columns": null,
            "grid_template_rows": null,
            "height": null,
            "justify_content": null,
            "justify_items": null,
            "left": null,
            "margin": null,
            "max_height": null,
            "max_width": null,
            "min_height": null,
            "min_width": null,
            "object_fit": null,
            "object_position": null,
            "order": null,
            "overflow": null,
            "overflow_x": null,
            "overflow_y": null,
            "padding": null,
            "right": null,
            "top": null,
            "visibility": null,
            "width": null
          }
        },
        "e88340693b08466987ad388634327702": {
          "model_module": "@jupyter-widgets/controls",
          "model_module_version": "1.5.0",
          "model_name": "DescriptionStyleModel",
          "state": {
            "_model_module": "@jupyter-widgets/controls",
            "_model_module_version": "1.5.0",
            "_model_name": "DescriptionStyleModel",
            "_view_count": null,
            "_view_module": "@jupyter-widgets/base",
            "_view_module_version": "1.2.0",
            "_view_name": "StyleView",
            "description_width": ""
          }
        },
        "ec87f52cf3594b4e802a7bb6ee543639": {
          "model_module": "@jupyter-widgets/controls",
          "model_module_version": "1.5.0",
          "model_name": "FloatProgressModel",
          "state": {
            "_dom_classes": [],
            "_model_module": "@jupyter-widgets/controls",
            "_model_module_version": "1.5.0",
            "_model_name": "FloatProgressModel",
            "_view_count": null,
            "_view_module": "@jupyter-widgets/controls",
            "_view_module_version": "1.5.0",
            "_view_name": "ProgressView",
            "bar_style": "success",
            "description": "",
            "description_tooltip": null,
            "layout": "IPY_MODEL_a86fdec6618943c2aa1b44c3ec6d5d3b",
            "max": 170994,
            "min": 0,
            "orientation": "horizontal",
            "style": "IPY_MODEL_d4e7b34351264532921cfeaa440c5753",
            "value": 170994
          }
        },
        "ec8a63ab0823496fb799cf63c05a14a9": {
          "model_module": "@jupyter-widgets/controls",
          "model_module_version": "1.5.0",
          "model_name": "ProgressStyleModel",
          "state": {
            "_model_module": "@jupyter-widgets/controls",
            "_model_module_version": "1.5.0",
            "_model_name": "ProgressStyleModel",
            "_view_count": null,
            "_view_module": "@jupyter-widgets/base",
            "_view_module_version": "1.2.0",
            "_view_name": "StyleView",
            "bar_color": null,
            "description_width": ""
          }
        },
        "f9d99ed96a3545a180f7bbb5ad2e88d9": {
          "model_module": "@jupyter-widgets/base",
          "model_module_version": "1.2.0",
          "model_name": "LayoutModel",
          "state": {
            "_model_module": "@jupyter-widgets/base",
            "_model_module_version": "1.2.0",
            "_model_name": "LayoutModel",
            "_view_count": null,
            "_view_module": "@jupyter-widgets/base",
            "_view_module_version": "1.2.0",
            "_view_name": "LayoutView",
            "align_content": null,
            "align_items": null,
            "align_self": null,
            "border": null,
            "bottom": null,
            "display": null,
            "flex": null,
            "flex_flow": null,
            "grid_area": null,
            "grid_auto_columns": null,
            "grid_auto_flow": null,
            "grid_auto_rows": null,
            "grid_column": null,
            "grid_gap": null,
            "grid_row": null,
            "grid_template_areas": null,
            "grid_template_columns": null,
            "grid_template_rows": null,
            "height": null,
            "justify_content": null,
            "justify_items": null,
            "left": null,
            "margin": null,
            "max_height": null,
            "max_width": null,
            "min_height": null,
            "min_width": null,
            "object_fit": null,
            "object_position": null,
            "order": null,
            "overflow": null,
            "overflow_x": null,
            "overflow_y": null,
            "padding": null,
            "right": null,
            "top": null,
            "visibility": null,
            "width": null
          }
        },
        "fda10dfd708f4453bff07469596443fe": {
          "model_module": "@jupyter-widgets/output",
          "model_module_version": "1.0.0",
          "model_name": "OutputModel",
          "state": {
            "_dom_classes": [],
            "_model_module": "@jupyter-widgets/output",
            "_model_module_version": "1.0.0",
            "_model_name": "OutputModel",
            "_view_count": null,
            "_view_module": "@jupyter-widgets/output",
            "_view_module_version": "1.0.0",
            "_view_name": "OutputView",
            "layout": "IPY_MODEL_5c7699fd6a144163832db34f1d814fe7",
            "msg_id": "",
            "outputs": [
              {
                "data": {
                  "text/html": "<pre style=\"white-space:pre;overflow-x:auto;line-height:normal;font-family:Menlo,'DejaVu Sans Mono',consolas,'Courier New',monospace\"><span style=\"color: #008000; text-decoration-color: #008000\">㊂</span> Noodling <span style=\"color: #00afff; text-decoration-color: #00afff; font-style: italic\">current_hospital_patient_activity</span> <span style=\"color: #008080; text-decoration-color: #008080\">(🏗️)</span>\n</pre>\n",
                  "text/plain": "\u001b[32m㊂\u001b[0m Noodling \u001b[3;38;5;39mcurrent_hospital_patient_activity\u001b[0m \u001b[36m(🏗️)\u001b[0m\n"
                },
                "metadata": {},
                "output_type": "display_data"
              }
            ]
          }
        },
        "fdd964a9ac594311955329b0552ea3b4": {
          "model_module": "@jupyter-widgets/output",
          "model_module_version": "1.0.0",
          "model_name": "OutputModel",
          "state": {
            "_dom_classes": [],
            "_model_module": "@jupyter-widgets/output",
            "_model_module_version": "1.0.0",
            "_model_name": "OutputModel",
            "_view_count": null,
            "_view_module": "@jupyter-widgets/output",
            "_view_module_version": "1.0.0",
            "_view_name": "OutputView",
            "layout": "IPY_MODEL_b87f1cf57f05428b959d5c91c8964a69",
            "msg_id": "",
            "outputs": [
              {
                "data": {
                  "text/html": "<pre style=\"white-space:pre;overflow-x:auto;line-height:normal;font-family:Menlo,'DejaVu Sans Mono',consolas,'Courier New',monospace\"><span style=\"color: #008000; text-decoration-color: #008000\">㊁</span> Greteling <span style=\"color: #00afff; text-decoration-color: #00afff; font-style: italic\">hospital_status</span> <span style=\"color: #008080; text-decoration-color: #008080\">(🏗️)</span>\n</pre>\n",
                  "text/plain": "\u001b[32m㊁\u001b[0m Greteling \u001b[3;38;5;39mhospital_status\u001b[0m \u001b[36m(🏗️)\u001b[0m\n"
                },
                "metadata": {},
                "output_type": "display_data"
              }
            ]
          }
        }
      }
    }
  },
  "nbformat": 4,
  "nbformat_minor": 5
}
