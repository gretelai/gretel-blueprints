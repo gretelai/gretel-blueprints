{
 "cells": [
  {
   "cell_type": "markdown",
   "id": "086ba682",
   "metadata": {},
   "source": [
    "# Navigator Real Time Inference\n",
    "\n",
    "This Notebook introduces Gretel Navigator's real-time inference. Gretel Navigator enables generation or editing of tabular data from a user-provided prompt. In the examples below we will explore:\n",
    "\n",
    "* Generating a table from a prompt\n",
    "* Augmenting an existing table from a prompt\n",
    "* Streaming records one-by-one\n",
    "\n",
    "For more details on Gretel Navigator please see Gretel's documentation:\n",
    "\n",
    "https://docs.gretel.ai/create-synthetic-data/models/navigator/getting-started"
   ]
  },
  {
   "cell_type": "code",
   "execution_count": null,
   "id": "c0a890b3",
   "metadata": {},
   "outputs": [],
   "source": [
    "%%capture\n",
    "!pip install -U \"gretel-client>=0.18\""
   ]
  },
  {
   "cell_type": "code",
   "execution_count": null,
   "id": "95389d0f",
   "metadata": {},
   "outputs": [],
   "source": [
    "# Sign-up and get an API key from: https://console.gretel.ai/users/me/key\n",
    "\n",
    "from gretel_client import Gretel\n",
    "\n",
    "gretel = Gretel(api_key=\"prompt\")"
   ]
  },
  {
   "cell_type": "code",
   "execution_count": null,
   "id": "1fcd130f",
   "metadata": {},
   "outputs": [],
   "source": [
    "# NOTE: Please see our docs FAQ regarding the different models you can choose from\n",
    "# https://docs.gretel.ai/create-synthetic-data/models/navigator/faq\n",
    "GRETEL_MODEL = \"gretelai/tabular-v0\"\n",
    "\n",
    "navigator = gretel.factories.initialize_inference_api(\"navigator\", backend_model=GRETEL_MODEL)"
   ]
  },
  {
   "cell_type": "markdown",
   "id": "4141a71c",
   "metadata": {},
   "source": [
    "# Generate a table from a prompt\n",
    "\n",
    "Below we provide a prompt that outlines what kind of table to generate as well\n",
    "as the columns that are desired to be included."
   ]
  },
  {
   "cell_type": "code",
   "execution_count": null,
   "id": "9d147b7c",
   "metadata": {},
   "outputs": [],
   "source": [
    "PROMPT = \"\"\"\n",
    "Generate a dataset of characters from The Simpsons.\n",
    "\n",
    "Each character should have the following columns:\n",
    "* first_name: The first name of the character.\n",
    "* last_name: The last name of the character.\n",
    "* favorite_band: The character's all-time favorite band.\n",
    "* favorite_tv_show: The character's favorite TV show other than The Simpsons.\n",
    "* favorite_food: The character's favorite food.\n",
    "* backstory: The character's back story in 3-5 sentences.\n",
    "\"\"\""
   ]
  },
  {
   "cell_type": "code",
   "execution_count": null,
   "id": "cabd594c",
   "metadata": {},
   "outputs": [],
   "source": [
    "df = navigator.generate(prompt=PROMPT, num_records=10)\n",
    "\n",
    "df"
   ]
  },
  {
   "cell_type": "markdown",
   "id": "c585f821",
   "metadata": {},
   "source": [
    "# Edit a table from a prompt\n",
    "\n",
    "Now, given an existing table, we can also ask Navigator to augment this table with additional data."
   ]
  },
  {
   "cell_type": "code",
   "execution_count": null,
   "id": "ded1408f",
   "metadata": {},
   "outputs": [],
   "source": [
    "EDIT_PROMPT = \"\"\"\n",
    "Add exactly the following columns to the provided table:\n",
    "\n",
    "* worst_nightmare: Describe the character's worst nightmare\n",
    "\"\"\""
   ]
  },
  {
   "cell_type": "code",
   "execution_count": null,
   "id": "01fc83a1",
   "metadata": {},
   "outputs": [],
   "source": [
    "df = navigator.edit(prompt=EDIT_PROMPT, seed_data=df)\n",
    "\n",
    "df"
   ]
  },
  {
   "cell_type": "markdown",
   "id": "b717e963",
   "metadata": {},
   "source": [
    "# Streaming records\n",
    "\n",
    "When generating data, Navigator generates data in batches with a maxium of 50 records per batch. Whenever `num_records` has a value greater than 50, the SDK will automatically request new batches until the target number is reached.\n",
    "\n",
    "When generating records above 50, sometimes it's helpful to pass some of the records from a previous batch into the next batch's generation request. This can help retain context between batches.\n",
    "\n",
    "Additionally, instead of waiting for an entire table to be generated, the SDK can be used with a `streaming=True` option which converts the generation method to a Python generator and you can process records as they arrive from Navigator.\n"
   ]
  },
  {
   "cell_type": "code",
   "execution_count": null,
   "id": "9d1821a5",
   "metadata": {},
   "outputs": [],
   "source": [
    "PROMPT = \"\"\"\n",
    "Generate positive and negative reviews for common household products purchased online.\n",
    "\n",
    "Columns are: the product name, number of stars (1-5), review and customer id\n",
    "\"\"\"\n",
    "\n",
    "for record in navigator.generate(\n",
    "    prompt=PROMPT,\n",
    "    num_records=60,\n",
    "    stream=True,\n",
    "    sample_buffer_size=10\n",
    "):\n",
    "    print(record)"
   ]
  }
 ],
 "metadata": {
  "kernelspec": {
   "display_name": "Python 3 (ipykernel)",
   "language": "python",
   "name": "python3"
  },
  "language_info": {
   "codemirror_mode": {
    "name": "ipython",
    "version": 3
   },
   "file_extension": ".py",
   "mimetype": "text/x-python",
   "name": "python",
   "nbconvert_exporter": "python",
   "pygments_lexer": "ipython3",
   "version": "3.9.10"
  }
 },
 "nbformat": 4,
 "nbformat_minor": 5
}
