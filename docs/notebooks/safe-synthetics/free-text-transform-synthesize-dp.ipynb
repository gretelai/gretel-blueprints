{
 "cells": [
  {
   "cell_type": "markdown",
   "id": "d97df5a0",
   "metadata": {},
   "source": [
    "<a target=\"_parent\" href=\"https://colab.research.google.com/github/gretelai/gretel-blueprints/blob/main/docs/notebooks/safe-synthetics/free-text-transform-synthesize-dp.ipynb\">\n",
    "  <img src=\"https://colab.research.google.com/assets/colab-badge.svg\" alt=\"Open In Colab\"/>\n",
    "</a>"
   ]
  },
  {
   "cell_type": "code",
   "execution_count": null,
   "metadata": {
    "id": "ubmyh3IVoL7w"
   },
   "outputs": [],
   "source": [
    "%%capture\n",
    "\n",
    "%pip install git+https://github.com/gretelai/gretel-python-client.git@main"
   ]
  },
  {
   "cell_type": "code",
   "execution_count": null,
   "metadata": {
    "id": "JF2cRncBoT1P"
   },
   "outputs": [],
   "source": [
    "from gretel_client.navigator_client import Gretel\n",
    "from rich.console import Console\n",
    "\n",
    "gretel = Gretel(api_key=\"prompt\", endpoint=\"https://api.dev.gretel.ai\")\n",
    "console = Console()"
   ]
  },
  {
   "cell_type": "code",
   "execution_count": null,
   "metadata": {
    "id": "4KULZsmkowgk"
   },
   "outputs": [],
   "source": [
    "from google.colab import drive\n",
    "drive.mount('/content/drive')\n",
    "\n",
    "#ds = \"/content/drive/My Drive/credit_card_transaction_1k.csv\"\n",
    "#ds = \"/content/drive/My Drive/hipaa_patients.csv\"\n",
    "ds = \"/content/drive/My Drive/ecommerce_customers.csv\"\n",
    "\n",
    "import pandas as pd\n",
    "#ds = \"https://raw.githubusercontent.com/gretelai/gretel-blueprints/main/sample_data/sample-patient-events.csv\"\n",
    "df = pd.read_csv(ds)\n",
    "\n",
    "print(f\"Number of rows: {len(df)}\")\n",
    "df.head()"
   ]
  },
  {
   "cell_type": "code",
   "execution_count": null,
   "metadata": {
    "id": "NHD2Ny15o5ZF"
   },
   "outputs": [],
   "source": [
    "gdpr_safe_config_yaml = \"\"\"\n",
    "globals:\n",
    "  classify:\n",
    "    enable: true\n",
    "    entities:\n",
    "      # True identifiers (also part of HIPAA)\n",
    "      - first_name\n",
    "      - last_name\n",
    "      - name\n",
    "      - street_address\n",
    "      - city\n",
    "      - state\n",
    "      - postcode\n",
    "      - country\n",
    "      - address\n",
    "      - latitude\n",
    "      - longitude\n",
    "      - coordinate\n",
    "      - age\n",
    "      - phone_number\n",
    "      - fax_number\n",
    "      - email\n",
    "      - ssn\n",
    "      - unique_identifier\n",
    "      - medical_record_number\n",
    "      - health_plan_beneficiary_number\n",
    "      - account_number\n",
    "      - certificate_license_number\n",
    "      - vehicle_identifier\n",
    "      - license_plate\n",
    "      - device_identifier\n",
    "      - biometric_identifier\n",
    "      - url\n",
    "      - ipv4\n",
    "      - ipv6\n",
    "\n",
    "      # True identifiers (in addition to HIPAA)\n",
    "      - national_id\n",
    "      - tax_id\n",
    "      - bank_routing_number\n",
    "      - swift_bic\n",
    "      - credit_debit_card\n",
    "      - cvv\n",
    "      - pin\n",
    "      - employee_id\n",
    "      - api_key\n",
    "      - coordinate\n",
    "      - customer_id\n",
    "      - user_name\n",
    "      - password\n",
    "      - mac_address\n",
    "      - http_cookie\n",
    "\n",
    "      # Quasi identifiers (also part of HIPAA)\n",
    "      - date\n",
    "      - date_time\n",
    "\n",
    "      # Quasi identifiers (in addition to HIPAA)\n",
    "      - blood_type\n",
    "      - gender\n",
    "      - sexuality\n",
    "      - political_view\n",
    "      - race\n",
    "      - ethnicity\n",
    "      - religious_belief\n",
    "      - language\n",
    "      - education\n",
    "      - job_title\n",
    "      - employment_status\n",
    "      - company_name\n",
    "  ner:\n",
    "    ner_threshold: 0.7\n",
    "  locales: [en_US]\n",
    "steps:\n",
    "  - vars:\n",
    "      row_seed: random.random()\n",
    "    rows:\n",
    "      update:\n",
    "        - condition: column.entity == \"first_name\" and not (this | isna)\n",
    "          value: fake.persona(row_index=vars.row_seed + index).first_name\n",
    "        - condition: column.entity == \"last_name\" and not (this | isna)\n",
    "          value: fake.persona(row_index=vars.row_seed + index).last_name\n",
    "        - condition: column.entity == \"name\" and not (this | isna)\n",
    "          value: column.entity | fake\n",
    "        - condition: (column.entity == \"street_address\" or column.entity == \"city\" or column.entity == \"state\" or column.entity == \"postcode\" or column.entity == \"address\") and not (this | isna)\n",
    "          value: column.entity | fake\n",
    "        - condition: column.entity == \"latitude\" and not (this | isna)\n",
    "          value: fake.location_on_land()[0]\n",
    "        - condition: column.entity == \"longitude\" and not (this | isna)\n",
    "          value: fake.location_on_land()[1]\n",
    "        - condition: column.entity == \"coordinate\" and not (this | isna)\n",
    "          value: fake.location_on_land()\n",
    "        - condition: column.entity == \"email\" and not (this | isna)\n",
    "          value: fake.persona(row_index=vars.row_seed + index).email\n",
    "        - condition: column.entity == \"ssn\" and not (this | isna)\n",
    "          value: column.entity | fake\n",
    "        - condition: column.entity == \"phone_number\" and not (this | isna)\n",
    "          value: (fake.random_number(digits=3) | string) + \"-\" + (fake.random_number(digits=3) | string) + \"-\" + (fake.random_number(digits=4) | string)\n",
    "        - condition: column.entity == \"fax_number\" and not (this | isna)\n",
    "          value: (fake.random_number(digits=3) | string) + \"-\" + (fake.random_number(digits=3) |\n",
    "            string) + \"-\" + (fake.random_number(digits=4) | string)\n",
    "        - condition: column.entity == \"vehicle_identifier\" and not (this | isna)\n",
    "          value: fake.vin()\n",
    "        - condition: column.entity == \"license_plate\" and not (this | isna)\n",
    "          value: column.entity | fake\n",
    "        - condition: (column.entity == \"unique_identifier\" or column.entity == \"medical_record_number\" or column.entity == \"health_plan_beneficiary_number\" or column.entity == \"account_number\" or column.entity == \"certificate_license_number\" or column.entity == \"device_identifier\" or column.entity == \"biometric_identifier\" or column.entity == \"bank_routing_number\" or column.entity == \"swift_bic\" or column.entity == \"employee_id\" or column.entity == \"api_key\" or column.entity == \"customer_id\" or column.entity == \"user_name\" or column.entity == \"password\" or column.entity == \"http_cookie\") and not (this | isna)\n",
    "          value: fake.bothify(re.sub(\"\\\\d\", \"#\", re.sub(\"[A-Z]\", \"?\", (this | string))))\n",
    "        - condition: (column.entity == \"url\" or column.entity == \"ipv4\" or column.entity == \"ipv6\") and not (this | isna)\n",
    "          value: column.entity | fake\n",
    "        - condition: c(olumn.entity == \"national_id\" or column.entity == \"tax_id\") and not (this | isna)\n",
    "          value: fake.itin()\n",
    "        - condition: column.entity == \"credit_debit_card\" and not (this | isna)\n",
    "          value: fake.credit_card_number()\n",
    "        - condition: column.entity == \"cvv\" and not (this | isna)\n",
    "          value: fake.credit_card_security_code()\n",
    "        - condition: column.entity == \"pin\" and not (this | isna)\n",
    "          value: fake.random_number(digits=4) | string\n",
    "        - condition: column.entity == \"coordinate\" and not (this | isna)\n",
    "          value: column.entity | fake\n",
    "        - condition: column.entity == \"mac_address\" and not (this | isna)\n",
    "          value: column.entity | fake\n",
    "\n",
    "        - condition: column.entity is none and column.type == \"text\"\n",
    "          value: this | fake_entities\n",
    "\"\"\"\n"
   ]
  },
  {
   "cell_type": "code",
   "execution_count": null,
   "metadata": {
    "id": "5jQAciloopLn"
   },
   "outputs": [],
   "source": [
    "tabular_ft_config = {\n",
    "    \"train\": {\n",
    "        \"params\": {\n",
    "            \"num_input_records_to_sample\": 5000\n",
    "        },\n",
    "        \"privacy_params\": {\n",
    "            \"dp\": \"false\"\n",
    "        }\n",
    "    }\n",
    "}\n",
    "\n",
    "\n",
    "import yaml\n",
    "\n",
    "synthetic_dataset = gretel.safe_synthetic_dataset\\\n",
    "    .from_data_source(df) \\\n",
    "    .transform(yaml.safe_load(gdpr_safe_config_yaml)) \\\n",
    "    .synthesize(\"tabular_ft\", tabular_ft_config, num_records=1000) \\\n",
    "    .create()"
   ]
  },
  {
   "cell_type": "code",
   "execution_count": null,
   "metadata": {
    "id": "GDOmyMKVSSrU"
   },
   "outputs": [],
   "source": [
    "synthetic_dataset.dataset.df.head()"
   ]
  },
  {
   "cell_type": "code",
   "execution_count": null,
   "metadata": {
    "id": "TvXGWJpLSTWJ"
   },
   "outputs": [],
   "source": [
    "synthetic_dataset.report.table"
   ]
  },
  {
   "cell_type": "code",
   "execution_count": null,
   "metadata": {
    "id": "8Ue-7rS4DCEt"
   },
   "outputs": [],
   "source": [
    "import IPython\n",
    "IPython.display.HTML(str(synthetic_dataset.download_report(format=\"html\").read().decode('utf-8')), metadata=dict(isolated=True))"
   ]
  }
 ],
 "metadata": {
  "colab": {
   "provenance": []
  },
  "kernelspec": {
   "display_name": "Python 3",
   "name": "python3"
  },
  "language_info": {
   "name": "python"
  }
 },
 "nbformat": 4,
 "nbformat_minor": 0
}
