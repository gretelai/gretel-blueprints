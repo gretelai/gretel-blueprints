{
 "cells": [
  {
   "cell_type": "markdown",
   "id": "e7280389",
   "metadata": {},
   "source": [
    "<a target=\"_parent\" href=\"https://colab.research.google.com/github/gretelai/gretel-blueprints/blob/main/docs/notebooks/safe-synthetics/hipaa-transform-synthesize.ipynb\">\n",
    "  <img src=\"https://colab.research.google.com/assets/colab-badge.svg\" alt=\"Open In Colab\"/>\n",
    "</a>"
   ]
  },
  {
   "cell_type": "markdown",
   "metadata": {
    "id": "VI628E1m319C"
   },
   "source": [
    "# ⚕ Using Safe Synthetics to support HIPAA compliance\n",
    "\n",
    "This notebook leverages tailor-made configurations for Safe Synthetics to support HIPAA compliance. You can try with the sample dataset, or test it out using your own dataset.\n",
    "\n",
    "After specifying a dataset, this notebook will holdout 5% to use for calculating quality & privacy metrics at the end. It will then redact true identifiers in your dataset such as names and addresses, and synthesize your data to obfuscate quasi-identifiers. Finally, it will generate a report for you to measure the quality & privacy of your synthetic data."
   ]
  },
  {
   "cell_type": "markdown",
   "metadata": {
    "id": "ZGI3LGmw6sZ_"
   },
   "source": [
    "## 💾 Install Gretel SDK"
   ]
  },
  {
   "cell_type": "code",
   "execution_count": null,
   "metadata": {
    "id": "ubmyh3IVoL7w"
   },
   "outputs": [],
   "source": [
    "%%capture\n",
    "\n",
    "%pip install -U git+https://github.com/gretelai/gretel-python-client@main"
   ]
  },
  {
   "cell_type": "markdown",
   "metadata": {
    "id": "zdYS9p2e7G3n"
   },
   "source": [
    "## 🌐 Configure your Gretel Session"
   ]
  },
  {
   "cell_type": "code",
   "execution_count": null,
   "metadata": {
    "id": "JF2cRncBoT1P"
   },
   "outputs": [],
   "source": [
    "from gretel_client.navigator_client import Gretel\n",
    "\n",
    "gretel = Gretel(api_key=\"prompt\")"
   ]
  },
  {
   "cell_type": "markdown",
   "metadata": {
    "id": "PPXnrcfH7SJ-"
   },
   "source": [
    "## 🔬 Preview input data"
   ]
  },
  {
   "cell_type": "code",
   "execution_count": null,
   "metadata": {
    "id": "4KULZsmkowgk"
   },
   "outputs": [],
   "source": [
    "import pandas as pd\n",
    "ds = \"https://gretel-datasets.s3.us-west-2.amazonaws.com/hipaa_patients.csv\"\n",
    "df = pd.read_csv(ds)\n",
    "\n",
    "print(f\"Number of rows: {len(df)}\")\n",
    "df.head()"
   ]
  },
  {
   "cell_type": "markdown",
   "metadata": {
    "id": "DCYc1Wza72lA"
   },
   "source": [
    "## 🏃 Run Safe Synthetics"
   ]
  },
  {
   "cell_type": "code",
   "execution_count": null,
   "metadata": {
    "colab": {
     "background_save": true
    },
    "id": "5jQAciloopLn"
   },
   "outputs": [],
   "source": [
    "synthetic_dataset = gretel.safe_synthetic_dataset\\\n",
    "    .from_data_source(ds) \\\n",
    "    .transform(\"transform/hipaa\") \\\n",
    "    .synthesize(\"tabular_ft\", {\"train\": {\"params\": {\"num_input_records_to_sample\": 10000}}}, num_records=1000) \\\n",
    "    .create()"
   ]
  },
  {
   "cell_type": "code",
   "execution_count": null,
   "metadata": {
    "id": "8mN4l7peGgwL"
   },
   "outputs": [],
   "source": [
    "synthetic_dataset.wait_until_done()"
   ]
  },
  {
   "cell_type": "markdown",
   "metadata": {
    "id": "PiyVwFNV8Xu3"
   },
   "source": [
    "## 🔬 Preview output data"
   ]
  },
  {
   "cell_type": "code",
   "execution_count": null,
   "metadata": {
    "colab": {
     "background_save": true
    },
    "id": "GDOmyMKVSSrU"
   },
   "outputs": [],
   "source": [
    "synthetic_dataset.dataset.df.head()"
   ]
  },
  {
   "cell_type": "markdown",
   "metadata": {
    "id": "HVRIw4IH8bzR"
   },
   "source": [
    "## 📊 Evaluate quality & privacy results"
   ]
  },
  {
   "cell_type": "code",
   "execution_count": null,
   "metadata": {
    "colab": {
     "background_save": true
    },
    "id": "TvXGWJpLSTWJ"
   },
   "outputs": [],
   "source": [
    "synthetic_dataset.report.table"
   ]
  },
  {
   "cell_type": "code",
   "execution_count": null,
   "metadata": {
    "colab": {
     "background_save": true
    },
    "id": "8Ue-7rS4DCEt"
   },
   "outputs": [],
   "source": [
    "synthetic_dataset.report.display_in_notebook()"
   ]
  }
 ],
 "metadata": {
  "colab": {
   "provenance": []
  },
  "kernelspec": {
   "display_name": "Python 3",
   "name": "python3"
  },
  "language_info": {
   "name": "python"
  }
 },
 "nbformat": 4,
 "nbformat_minor": 0
}
