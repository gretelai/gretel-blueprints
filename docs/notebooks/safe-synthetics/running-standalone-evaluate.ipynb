{
  "cells": [
    {
      "cell_type": "markdown",
      "metadata": {},
      "source": [
        "<a target=\"_parent\" href=\"https://colab.research.google.com/github/gretelai/gretel-blueprints/blob/main/docs/notebooks/safe-synthetics/running-standalone-evaluate.ipynb\">\n",
        "  <img src=\"https://colab.research.google.com/assets/colab-badge.svg\" alt=\"Open In Colab\"/>\n",
        "</a>"
      ]
    },
    {
      "cell_type": "markdown",
      "metadata": {},
      "source": [
        "# 📊 Running Standalone Evaluate\n",
        "This notebook allows you to run the Evaluate step with your own training and synthetic data. This is helpful if\n",
        "- You want to compare the output from Gretel Synthetics to other means of generating synthetic data\n",
        "- You want to make sure that the train/test split is consistent across multiple Safe Synthetics runs so that the scores are comparable"
      ]
    },
    {
      "cell_type": "markdown",
      "metadata": {},
      "source": [
        "## 💾 Install Gretel SDK"
      ]
    },
    {
      "cell_type": "code",
      "execution_count": null,
      "metadata": {
        "id": "qxXA-UJVMRhI"
      },
      "outputs": [],
      "source": [
        "%%capture\n",
        "%pip install -U gretel-client"
      ]
    },
    {
      "cell_type": "markdown",
      "metadata": {},
      "source": [
        "## 🌐 Configure your Gretel Session"
      ]
    },
    {
      "cell_type": "code",
      "execution_count": null,
      "metadata": {
        "id": "sCL3uQSLMTrs"
      },
      "outputs": [],
      "source": [
        "from gretel_client.navigator_client import Gretel\n",
        "\n",
        "gretel = Gretel(api_key=\"prompt\", default_project_id=\"standalone-evaluate\")"
      ]
    },
    {
      "cell_type": "markdown",
      "metadata": {},
      "source": [
        "## 🔬 Load real and synthetic data"
      ]
    },
    {
      "cell_type": "code",
      "execution_count": null,
      "metadata": {
        "id": "p0mN5rdCNbJ5"
      },
      "outputs": [],
      "source": [
        "import pandas as pd\n",
        "\n",
        "from sklearn.model_selection import train_test_split\n",
        "\n",
        "real_ds = \"https://gretel-datasets.s3.us-west-2.amazonaws.com/hipaa_patients.csv\"\n",
        "synthetic_ds = \"https://gretel-datasets.s3.us-west-2.amazonaws.com/synthetic_hipaa_patients.csv\"\n",
        "real_df = pd.read_csv(real_ds)\n",
        "synthetic_df = pd.read_csv(synthetic_ds)\n",
        "\n",
        "train_df, holdout_df = train_test_split(real_df, test_size=0.05, random_state=42)\n",
        "\n",
        "print(f\"Number of rows - train: {len(train_df)}\")\n",
        "print(f\"Number of rows - holdout: {len(holdout_df)}\")\n",
        "print(f\"Number of rows - synthetic: {len(synthetic_df)}\")\n",
        "train_df.head()"
      ]
    },
    {
      "cell_type": "code",
      "execution_count": null,
      "metadata": {
        "id": "V5HFCFW2M8FT"
      },
      "outputs": [],
      "source": [
        "# Convert any Pandas Data Frames to Datasets\n",
        "training_file = gretel.files.upload(train_df, purpose=\"dataset\")\n",
        "holdout_file = gretel.files.upload(holdout_df, purpose=\"dataset\")\n",
        "synthetic_file = gretel.files.upload(synthetic_df, purpose=\"dataset\")"
      ]
    },
    {
      "cell_type": "markdown",
      "metadata": {},
      "source": [
        "## 🏃 Run Evaluate"
      ]
    },
    {
      "cell_type": "code",
      "execution_count": null,
      "metadata": {
        "id": "rtjEVolUM-Yf"
      },
      "outputs": [],
      "source": [
        "workflow = gretel.workflows.builder()\n",
        "\n",
        "workflow.add_step(gretel.tasks.Holdout(), [training_file.id, holdout_file.id], step_name=\"holdout\")\n",
        "workflow.add_step(gretel.tasks.EvaluateSafeSyntheticsDataset(), [synthetic_file.id, \"holdout\"])"
      ]
    },
    {
      "cell_type": "code",
      "execution_count": null,
      "metadata": {
        "id": "rWmL8_iFRlv8"
      },
      "outputs": [],
      "source": [
        "workflow.run(wait_until_done=True)"
      ]
    },
    {
      "cell_type": "code",
      "execution_count": null,
      "metadata": {},
      "outputs": [],
      "source": []
    }
  ],
  "metadata": {
    "colab": {
      "provenance": []
    },
    "kernelspec": {
      "display_name": ".venv",
      "language": "python",
      "name": "python3"
    },
    "language_info": {
      "codemirror_mode": {
        "name": "ipython",
        "version": 3
      },
      "file_extension": ".py",
      "mimetype": "text/x-python",
      "name": "python",
      "nbconvert_exporter": "python",
      "pygments_lexer": "ipython3",
      "version": "3.12.9"
    }
  },
  "nbformat": 4,
  "nbformat_minor": 0
}
