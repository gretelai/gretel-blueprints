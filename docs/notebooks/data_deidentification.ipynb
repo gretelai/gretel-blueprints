{
 "cells": [
  {
   "cell_type": "markdown",
   "metadata": {
    "colab_type": "text",
    "id": "view-in-github"
   },
   "source": [
    "<a href=\"https://colab.research.google.com/github/gretelai/gretel-blueprints/blob/main/docs/notebooks/data_deidentification.ipynb\" target=\"_parent\"><img src=\"https://colab.research.google.com/assets/colab-badge.svg\" alt=\"Open In Colab\"/></a>\n"
   ]
  },
  {
   "cell_type": "markdown",
   "metadata": {
    "id": "UTRxpSlaczHY"
   },
   "source": [
    "# Data De-Identification\n",
    "\n",
    "In this deep dive, we will walk through some of the more advanced features to de-identify data with the Transform API, including bucketing, date shifts, masking, and entity replacements.\n",
    "\n",
    "For this tutorial, we’ll use some sample [customer-like data](https://gretel-public-website.s3-us-west-2.amazonaws.com/datasets/customer-orders.csv) that contains a variety of interesting information that may need to be transformed depending on a downstream use case.\n",
    "\n",
    "Transforms are highly declarative. Please take a look through our [Model Configuration](https://docs.gretel.ai/model-configurations) documentation to see all of the options for creating Policies and Rules.\n"
   ]
  },
  {
   "cell_type": "code",
   "execution_count": null,
   "metadata": {
    "id": "VEM6kjRsczHd"
   },
   "outputs": [],
   "source": [
    "%%capture\n",
    "\n",
    "!pip install pyyaml Faker pandas\n",
    "!pip install -U gretel-client"
   ]
  },
  {
   "cell_type": "code",
   "execution_count": null,
   "metadata": {
    "id": "ZQ-TmAdwczHd"
   },
   "outputs": [],
   "source": [
    "# Specify your Gretel API key\n",
    "\n",
    "import pandas as pd\n",
    "from gretel_client import configure_session\n",
    "\n",
    "pd.set_option(\"max_colwidth\", None)\n",
    "\n",
    "configure_session(api_key=\"prompt\", cache=\"yes\", validate=True)\n"
   ]
  },
  {
   "cell_type": "code",
   "execution_count": null,
   "metadata": {},
   "outputs": [],
   "source": [
    "# Create our configuration with our Transforms Policies and Rules.\n",
    "config = \"\"\"# This example transform configuration supports the following dataset:\n",
    "# https://gretel-public-website.s3-us-west-2.amazonaws.com/datasets/customer-orders.csv\n",
    "\n",
    "schema_version: \"1.0\"\n",
    "name: \"example-transforms\"\n",
    "\n",
    "models:\n",
    "  - transforms:\n",
    "      data_source: \"__tmp__\"\n",
    "      policies:\n",
    "        - name: fake_identifiers\n",
    "          rules:\n",
    "            - name: fake_identifiers\n",
    "              conditions:\n",
    "                value_label:\n",
    "                  - email_address\n",
    "                  - phone_number\n",
    "                  - ip_address\n",
    "              transforms:\n",
    "                - type: fake\n",
    "                - type: hash # if a fake cannot be created\n",
    "            - name: redact_names_locations\n",
    "              conditions:\n",
    "                field_label:\n",
    "                  - person_name\n",
    "                  - location\n",
    "              transforms:\n",
    "                - type: redact_with_char\n",
    "            - name: dateshifter\n",
    "              conditions:\n",
    "                field_label:\n",
    "                  - date\n",
    "                  - datetime\n",
    "              transforms:\n",
    "                - type: dateshift\n",
    "                  attrs:\n",
    "                    min: 20\n",
    "                    max: 20\n",
    "                    formats: \"%Y-%m-%d\"\n",
    "            - name: bucketize-income\n",
    "              conditions:\n",
    "                field_name:\n",
    "                  - YearlyIncome\n",
    "              transforms:\n",
    "                - type: numberbucket\n",
    "                  attrs:\n",
    "                    min: 0\n",
    "                    max: 1000000\n",
    "                    nearest: 5000\n",
    "\"\"\"\n"
   ]
  },
  {
   "cell_type": "code",
   "execution_count": null,
   "metadata": {},
   "outputs": [],
   "source": [
    "import yaml\n",
    "\n",
    "from gretel_client.projects import create_or_get_unique_project\n",
    "from gretel_client.helpers import poll\n",
    "\n",
    "# Create a project and model configuration.\n",
    "project = create_or_get_unique_project(name=\"de-identify-transform\")\n",
    "\n",
    "model = project.create_model_obj(\n",
    "    model_config=yaml.safe_load(config),\n",
    "    data_source=\"https://gretel-public-website.s3-us-west-2.amazonaws.com/datasets/customer-orders.csv\",\n",
    ")\n",
    "\n",
    "# Upload the training data.  Train the model.\n",
    "model.submit_cloud()\n",
    "\n",
    "poll(model)\n"
   ]
  },
  {
   "cell_type": "code",
   "execution_count": null,
   "metadata": {},
   "outputs": [],
   "source": [
    "# Use the model to generate synthetic data.\n",
    "record_handler = model.create_record_handler_obj(\n",
    "    data_source=\"https://gretel-public-website.s3-us-west-2.amazonaws.com/datasets/customer-orders.csv\",\n",
    ")\n",
    "\n",
    "record_handler.submit_cloud()\n",
    "\n",
    "poll(record_handler)\n",
    "\n",
    "# Compare results.  Here is our \"before.\"\n",
    "input_df = pd.read_csv(\n",
    "    \"https://gretel-public-website.s3-us-west-2.amazonaws.com/datasets/customer-orders.csv\"\n",
    ")\n",
    "print(\"input data, before de-identification\")\n",
    "print(input_df.head())\n",
    "\n",
    "# And here is our \"after.\"\n",
    "deidentified = pd.read_csv(record_handler.get_artifact_link(\"data\"), compression=\"gzip\")\n",
    "print(\"input data, after de-identification\")\n",
    "deidentified.head()\n"
   ]
  }
 ],
 "metadata": {
  "accelerator": "GPU",
  "colab": {
   "collapsed_sections": [],
   "name": "smart-seed-blueprint",
   "provenance": []
  },
  "kernelspec": {
   "display_name": "Python 3",
   "language": "python",
   "name": "python3"
  },
  "language_info": {
   "codemirror_mode": {
    "name": "ipython",
    "version": 3
   },
   "file_extension": ".py",
   "mimetype": "text/x-python",
   "name": "python",
   "nbconvert_exporter": "python",
   "pygments_lexer": "ipython3",
   "version": "3.9.10"
  }
 },
 "nbformat": 4,
 "nbformat_minor": 1
}
