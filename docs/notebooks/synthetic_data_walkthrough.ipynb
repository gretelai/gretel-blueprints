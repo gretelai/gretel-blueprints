{
 "cells": [
  {
   "cell_type": "markdown",
   "metadata": {
    "colab_type": "text",
    "id": "view-in-github"
   },
   "source": [
    "<a href=\"https://colab.research.google.com/github/gretelai/gretel-blueprints/blob/main/docs/notebooks/synthetic_data_walkthrough.ipynb\" target=\"_parent\"><img src=\"https://colab.research.google.com/assets/colab-badge.svg\" alt=\"Open In Colab\"/></a>\n"
   ]
  },
  {
   "cell_type": "markdown",
   "metadata": {
    "id": "UTRxpSlaczHY"
   },
   "source": [
    "# Create synthetic data with the Python SDK\n",
    "\n",
    "This notebook utilizes Gretel's SDK and APIs to create a synthetic version of a popular machine learning financial dataset.\n",
    "\n",
    "To run this notebook, you will need an API key from the Gretel console, at https://console.gretel.cloud.\n"
   ]
  },
  {
   "cell_type": "code",
   "execution_count": null,
   "metadata": {
    "id": "VEM6kjRsczHd"
   },
   "outputs": [],
   "source": [
    "%%capture\n",
    "!pip install pyyaml smart_open pandas\n",
    "!pip install -U gretel-client"
   ]
  },
  {
   "cell_type": "code",
   "execution_count": null,
   "metadata": {
    "colab": {
     "base_uri": "https://localhost:8080/"
    },
    "id": "ZQ-TmAdwczHd",
    "outputId": "03aa9c40-01f8-4711-a80b-52322721ee4c"
   },
   "outputs": [],
   "source": [
    "# Specify your Gretel API key\n",
    "\n",
    "import pandas as pd\n",
    "from gretel_client import configure_session\n",
    "\n",
    "pd.set_option(\"max_colwidth\", None)\n",
    "\n",
    "configure_session(api_key=\"prompt\", cache=\"yes\", validate=True)\n"
   ]
  },
  {
   "cell_type": "code",
   "execution_count": null,
   "metadata": {
    "id": "fmHDICI1oPS5"
   },
   "outputs": [],
   "source": [
    "# Create a project\n",
    "\n",
    "from gretel_client.projects import create_or_get_unique_project\n",
    "\n",
    "project = create_or_get_unique_project(name=\"walkthrough-synthetic\")\n"
   ]
  },
  {
   "cell_type": "markdown",
   "metadata": {
    "id": "4PD5B0U06ALs"
   },
   "source": [
    "## Create the synthetic data configuration\n",
    "\n",
    "Load the default configuration template. This template will work well for most datasets. View other templates at https://github.com/gretelai/gretel-blueprints/tree/main/config_templates/gretel/synthetics\n"
   ]
  },
  {
   "cell_type": "code",
   "execution_count": null,
   "metadata": {
    "colab": {
     "base_uri": "https://localhost:8080/"
    },
    "id": "uIu3hkzoCzGz",
    "outputId": "94c32679-4a9c-4af3-95d2-1fbda2e617ed"
   },
   "outputs": [],
   "source": [
    "import json\n",
    "from gretel_client.projects.models import read_model_config\n",
    "\n",
    "config = read_model_config(\"synthetics/default\")\n",
    "\n",
    "# Set the model epochs to 50\n",
    "config[\"models\"][0][\"synthetics\"][\"params\"][\"epochs\"] = 50\n",
    "\n",
    "print(json.dumps(config, indent=2))\n"
   ]
  },
  {
   "cell_type": "markdown",
   "metadata": {
    "id": "s9LTh7GO6VIu"
   },
   "source": [
    "## Load and preview the source dataset\n",
    "\n",
    "Specify a data source to train the model on. This can be a local file, web location, or HDFS file.\n"
   ]
  },
  {
   "cell_type": "code",
   "execution_count": null,
   "metadata": {
    "colab": {
     "base_uri": "https://localhost:8080/",
     "height": 571
    },
    "id": "YMg9nX6SczHe",
    "outputId": "18d0a1f8-07cd-4811-a385-9c159a58b26a"
   },
   "outputs": [],
   "source": [
    "# Load and preview dataset to train the synthetic model on.\n",
    "import pandas as pd\n",
    "\n",
    "model = project.create_model_obj(\n",
    "    model_config=config,\n",
    "    data_source=\"https://gretel-public-website.s3-us-west-2.amazonaws.com/datasets/USAdultIncome5k.csv\",\n",
    ")\n",
    "\n",
    "pd.read_csv(model.data_source)\n"
   ]
  },
  {
   "cell_type": "markdown",
   "metadata": {
    "id": "WxnH8th-65Dh"
   },
   "source": [
    "## Train the synthetic model\n",
    "\n",
    "In this step, we will task the worker running in the Gretel cloud, or locally, to train a synthetic model on the source dataset.\n"
   ]
  },
  {
   "cell_type": "code",
   "execution_count": null,
   "metadata": {
    "colab": {
     "base_uri": "https://localhost:8080/"
    },
    "id": "O4-E_F0qczHe",
    "outputId": "6b82092d-ded1-43f0-f1ac-115dd8992956"
   },
   "outputs": [],
   "source": [
    "from gretel_client.helpers import poll\n",
    "\n",
    "model.submit_cloud()\n",
    "\n",
    "poll(model)\n"
   ]
  },
  {
   "cell_type": "markdown",
   "metadata": {
    "id": "2bgWKArX7QGf"
   },
   "source": [
    "# View the generated synthetic data\n"
   ]
  },
  {
   "cell_type": "code",
   "execution_count": null,
   "metadata": {
    "colab": {
     "base_uri": "https://localhost:8080/",
     "height": 538
    },
    "id": "sPM-gaU6czHf",
    "outputId": "e29e9b29-06f2-40a3-de4d-5f9e6d41b621"
   },
   "outputs": [],
   "source": [
    "# View the synthetic data\n",
    "\n",
    "synthetic_df = pd.read_csv(model.get_artifact_link(\"data_preview\"), compression=\"gzip\")\n",
    "\n",
    "synthetic_df.head()\n"
   ]
  },
  {
   "cell_type": "markdown",
   "metadata": {
    "id": "69XYfU9k7fq4"
   },
   "source": [
    "# View the synthetic data quality report\n"
   ]
  },
  {
   "cell_type": "code",
   "execution_count": null,
   "metadata": {
    "colab": {
     "base_uri": "https://localhost:8080/",
     "height": 1000
    },
    "id": "zX8qsizqczHg",
    "jupyter": {
     "outputs_hidden": true
    },
    "outputId": "2daf44a8-13f5-4e2c-cccc-b26a5a59d461",
    "tags": []
   },
   "outputs": [],
   "source": [
    "# Generate report that shows the statistical performance between the training and synthetic data\n",
    "\n",
    "import IPython\n",
    "from smart_open import open\n",
    "\n",
    "IPython.display.HTML(data=open(model.get_artifact_link(\"report\")).read())\n"
   ]
  },
  {
   "cell_type": "markdown",
   "metadata": {
    "id": "6IkWOnVQ7oo1"
   },
   "source": [
    "# Generate unlimited synthetic data\n",
    "\n",
    "You can now use the trained synthetic model to generate as much synthetic data as you like.\n"
   ]
  },
  {
   "cell_type": "code",
   "execution_count": null,
   "metadata": {
    "colab": {
     "base_uri": "https://localhost:8080/"
    },
    "id": "X0bI0OpI6W3Y",
    "outputId": "7faf358b-e3af-4e3f-8368-aeb940d19c42"
   },
   "outputs": [],
   "source": [
    "# Generate more records from the model\n",
    "\n",
    "record_handler = model.create_record_handler_obj(\n",
    "    params={\"num_records\": 100, \"max_invalid\": 500}\n",
    ")\n",
    "\n",
    "record_handler.submit_cloud()\n",
    "\n",
    "poll(record_handler)\n"
   ]
  },
  {
   "cell_type": "code",
   "execution_count": null,
   "metadata": {
    "colab": {
     "base_uri": "https://localhost:8080/",
     "height": 554
    },
    "id": "uUIErjQ7CzGy",
    "outputId": "4d1518e2-ee5f-4f00-cab5-81c75b54e9ca"
   },
   "outputs": [],
   "source": [
    "synthetic_df = pd.read_csv(record_handler.get_artifact_link(\"data\"), compression=\"gzip\")\n",
    "\n",
    "synthetic_df.head()\n"
   ]
  }
 ],
 "metadata": {
  "colab": {
   "collapsed_sections": [],
   "include_colab_link": true,
   "name": "Synthetic Data Walkthrough",
   "provenance": [],
   "toc_visible": true
  },
  "kernelspec": {
   "display_name": "Python 3 (ipykernel)",
   "language": "python",
   "name": "python3"
  },
  "language_info": {
   "codemirror_mode": {
    "name": "ipython",
    "version": 3
   },
   "file_extension": ".py",
   "mimetype": "text/x-python",
   "name": "python",
   "nbconvert_exporter": "python",
   "pygments_lexer": "ipython3",
   "version": "3.9.10"
  }
 },
 "nbformat": 4,
 "nbformat_minor": 4
}
